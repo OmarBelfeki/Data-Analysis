{
 "cells": [
  {
   "cell_type": "code",
   "execution_count": 1,
   "id": "e199c6ce",
   "metadata": {
    "execution": {
     "iopub.execute_input": "2024-03-26T10:13:57.752648Z",
     "iopub.status.busy": "2024-03-26T10:13:57.751624Z",
     "iopub.status.idle": "2024-03-26T10:14:00.688195Z",
     "shell.execute_reply": "2024-03-26T10:14:00.686387Z"
    },
    "papermill": {
     "duration": 2.959518,
     "end_time": "2024-03-26T10:14:00.691351",
     "exception": false,
     "start_time": "2024-03-26T10:13:57.731833",
     "status": "completed"
    },
    "tags": []
   },
   "outputs": [],
   "source": [
    "import numpy as np\n",
    "import pandas as pd\n",
    "import seaborn as sns\n",
    "import matplotlib.pyplot as pltl\n",
    "\n"
   ]
  },
  {
   "cell_type": "markdown",
   "id": "5c133667",
   "metadata": {
    "papermill": {
     "duration": 0.016474,
     "end_time": "2024-03-26T10:14:00.722799",
     "exception": false,
     "start_time": "2024-03-26T10:14:00.706325",
     "status": "completed"
    },
    "tags": []
   },
   "source": [
    "# Importing the Dataset\n"
   ]
  },
  {
   "cell_type": "code",
   "execution_count": 2,
   "id": "9570652d",
   "metadata": {
    "execution": {
     "iopub.execute_input": "2024-03-26T10:14:00.758008Z",
     "iopub.status.busy": "2024-03-26T10:14:00.757462Z",
     "iopub.status.idle": "2024-03-26T10:14:00.790071Z",
     "shell.execute_reply": "2024-03-26T10:14:00.788449Z"
    },
    "papermill": {
     "duration": 0.054564,
     "end_time": "2024-03-26T10:14:00.792941",
     "exception": false,
     "start_time": "2024-03-26T10:14:00.738377",
     "status": "completed"
    },
    "tags": []
   },
   "outputs": [],
   "source": [
    "data = pd.read_csv(\"/kaggle/input/heart-disease-dataset/heart.csv\")"
   ]
  },
  {
   "cell_type": "code",
   "execution_count": 3,
   "id": "1385fd19",
   "metadata": {
    "execution": {
     "iopub.execute_input": "2024-03-26T10:14:00.824792Z",
     "iopub.status.busy": "2024-03-26T10:14:00.824389Z",
     "iopub.status.idle": "2024-03-26T10:14:00.853816Z",
     "shell.execute_reply": "2024-03-26T10:14:00.851892Z"
    },
    "papermill": {
     "duration": 0.049112,
     "end_time": "2024-03-26T10:14:00.857049",
     "exception": false,
     "start_time": "2024-03-26T10:14:00.807937",
     "status": "completed"
    },
    "tags": []
   },
   "outputs": [
    {
     "data": {
      "text/html": [
       "<div>\n",
       "<style scoped>\n",
       "    .dataframe tbody tr th:only-of-type {\n",
       "        vertical-align: middle;\n",
       "    }\n",
       "\n",
       "    .dataframe tbody tr th {\n",
       "        vertical-align: top;\n",
       "    }\n",
       "\n",
       "    .dataframe thead th {\n",
       "        text-align: right;\n",
       "    }\n",
       "</style>\n",
       "<table border=\"1\" class=\"dataframe\">\n",
       "  <thead>\n",
       "    <tr style=\"text-align: right;\">\n",
       "      <th></th>\n",
       "      <th>age</th>\n",
       "      <th>sex</th>\n",
       "      <th>cp</th>\n",
       "      <th>trestbps</th>\n",
       "      <th>chol</th>\n",
       "      <th>fbs</th>\n",
       "      <th>restecg</th>\n",
       "      <th>thalach</th>\n",
       "      <th>exang</th>\n",
       "      <th>oldpeak</th>\n",
       "      <th>slope</th>\n",
       "      <th>ca</th>\n",
       "      <th>thal</th>\n",
       "      <th>target</th>\n",
       "    </tr>\n",
       "  </thead>\n",
       "  <tbody>\n",
       "    <tr>\n",
       "      <th>0</th>\n",
       "      <td>52</td>\n",
       "      <td>1</td>\n",
       "      <td>0</td>\n",
       "      <td>125</td>\n",
       "      <td>212</td>\n",
       "      <td>0</td>\n",
       "      <td>1</td>\n",
       "      <td>168</td>\n",
       "      <td>0</td>\n",
       "      <td>1.0</td>\n",
       "      <td>2</td>\n",
       "      <td>2</td>\n",
       "      <td>3</td>\n",
       "      <td>0</td>\n",
       "    </tr>\n",
       "    <tr>\n",
       "      <th>1</th>\n",
       "      <td>53</td>\n",
       "      <td>1</td>\n",
       "      <td>0</td>\n",
       "      <td>140</td>\n",
       "      <td>203</td>\n",
       "      <td>1</td>\n",
       "      <td>0</td>\n",
       "      <td>155</td>\n",
       "      <td>1</td>\n",
       "      <td>3.1</td>\n",
       "      <td>0</td>\n",
       "      <td>0</td>\n",
       "      <td>3</td>\n",
       "      <td>0</td>\n",
       "    </tr>\n",
       "    <tr>\n",
       "      <th>2</th>\n",
       "      <td>70</td>\n",
       "      <td>1</td>\n",
       "      <td>0</td>\n",
       "      <td>145</td>\n",
       "      <td>174</td>\n",
       "      <td>0</td>\n",
       "      <td>1</td>\n",
       "      <td>125</td>\n",
       "      <td>1</td>\n",
       "      <td>2.6</td>\n",
       "      <td>0</td>\n",
       "      <td>0</td>\n",
       "      <td>3</td>\n",
       "      <td>0</td>\n",
       "    </tr>\n",
       "    <tr>\n",
       "      <th>3</th>\n",
       "      <td>61</td>\n",
       "      <td>1</td>\n",
       "      <td>0</td>\n",
       "      <td>148</td>\n",
       "      <td>203</td>\n",
       "      <td>0</td>\n",
       "      <td>1</td>\n",
       "      <td>161</td>\n",
       "      <td>0</td>\n",
       "      <td>0.0</td>\n",
       "      <td>2</td>\n",
       "      <td>1</td>\n",
       "      <td>3</td>\n",
       "      <td>0</td>\n",
       "    </tr>\n",
       "    <tr>\n",
       "      <th>4</th>\n",
       "      <td>62</td>\n",
       "      <td>0</td>\n",
       "      <td>0</td>\n",
       "      <td>138</td>\n",
       "      <td>294</td>\n",
       "      <td>1</td>\n",
       "      <td>1</td>\n",
       "      <td>106</td>\n",
       "      <td>0</td>\n",
       "      <td>1.9</td>\n",
       "      <td>1</td>\n",
       "      <td>3</td>\n",
       "      <td>2</td>\n",
       "      <td>0</td>\n",
       "    </tr>\n",
       "  </tbody>\n",
       "</table>\n",
       "</div>"
      ],
      "text/plain": [
       "   age  sex  cp  trestbps  chol  fbs  restecg  thalach  exang  oldpeak  slope  \\\n",
       "0   52    1   0       125   212    0        1      168      0      1.0      2   \n",
       "1   53    1   0       140   203    1        0      155      1      3.1      0   \n",
       "2   70    1   0       145   174    0        1      125      1      2.6      0   \n",
       "3   61    1   0       148   203    0        1      161      0      0.0      2   \n",
       "4   62    0   0       138   294    1        1      106      0      1.9      1   \n",
       "\n",
       "   ca  thal  target  \n",
       "0   2     3       0  \n",
       "1   0     3       0  \n",
       "2   0     3       0  \n",
       "3   1     3       0  \n",
       "4   3     2       0  "
      ]
     },
     "execution_count": 3,
     "metadata": {},
     "output_type": "execute_result"
    }
   ],
   "source": [
    "data.head()"
   ]
  },
  {
   "cell_type": "markdown",
   "id": "da6de1be",
   "metadata": {
    "papermill": {
     "duration": 0.015636,
     "end_time": "2024-03-26T10:14:00.887930",
     "exception": false,
     "start_time": "2024-03-26T10:14:00.872294",
     "status": "completed"
    },
    "tags": []
   },
   "source": [
    "# Taking Care of Missing Values\n"
   ]
  },
  {
   "cell_type": "code",
   "execution_count": 4,
   "id": "1d808a35",
   "metadata": {
    "execution": {
     "iopub.execute_input": "2024-03-26T10:14:00.921823Z",
     "iopub.status.busy": "2024-03-26T10:14:00.921437Z",
     "iopub.status.idle": "2024-03-26T10:14:01.707476Z",
     "shell.execute_reply": "2024-03-26T10:14:01.706472Z"
    },
    "papermill": {
     "duration": 0.807556,
     "end_time": "2024-03-26T10:14:01.711368",
     "exception": false,
     "start_time": "2024-03-26T10:14:00.903812",
     "status": "completed"
    },
    "tags": []
   },
   "outputs": [
    {
     "data": {
      "text/plain": [
       "<Axes: >"
      ]
     },
     "execution_count": 4,
     "metadata": {},
     "output_type": "execute_result"
    },
    {
     "data": {
      "image/png": "[encoded data removed]",
      "text/plain": [
       "<Figure size 640x480 with 2 Axes>"
      ]
     },
     "metadata": {},
     "output_type": "display_data"
    }
   ],
   "source": [
    "sns.heatmap(data.T.isnull())"
   ]
  },
  {
   "cell_type": "markdown",
   "id": "ece6652a",
   "metadata": {
    "papermill": {
     "duration": 0.016324,
     "end_time": "2024-03-26T10:14:01.744226",
     "exception": false,
     "start_time": "2024-03-26T10:14:01.727902",
     "status": "completed"
    },
    "tags": []
   },
   "source": [
    "# Taking Care of Duplicate Values\n"
   ]
  },
  {
   "cell_type": "code",
   "execution_count": 5,
   "id": "8de0df72",
   "metadata": {
    "execution": {
     "iopub.execute_input": "2024-03-26T10:14:01.779288Z",
     "iopub.status.busy": "2024-03-26T10:14:01.778272Z",
     "iopub.status.idle": "2024-03-26T10:14:01.793852Z",
     "shell.execute_reply": "2024-03-26T10:14:01.792562Z"
    },
    "papermill": {
     "duration": 0.035346,
     "end_time": "2024-03-26T10:14:01.796204",
     "exception": false,
     "start_time": "2024-03-26T10:14:01.760858",
     "status": "completed"
    },
    "tags": []
   },
   "outputs": [
    {
     "data": {
      "text/plain": [
       "True"
      ]
     },
     "execution_count": 5,
     "metadata": {},
     "output_type": "execute_result"
    }
   ],
   "source": [
    "data.duplicated().any()"
   ]
  },
  {
   "cell_type": "code",
   "execution_count": 6,
   "id": "f94ccf1e",
   "metadata": {
    "execution": {
     "iopub.execute_input": "2024-03-26T10:14:01.833118Z",
     "iopub.status.busy": "2024-03-26T10:14:01.832726Z",
     "iopub.status.idle": "2024-03-26T10:14:01.843442Z",
     "shell.execute_reply": "2024-03-26T10:14:01.842511Z"
    },
    "papermill": {
     "duration": 0.03301,
     "end_time": "2024-03-26T10:14:01.846749",
     "exception": false,
     "start_time": "2024-03-26T10:14:01.813739",
     "status": "completed"
    },
    "tags": []
   },
   "outputs": [],
   "source": [
    "data.drop_duplicates(inplace=True)"
   ]
  },
  {
   "cell_type": "code",
   "execution_count": 7,
   "id": "5b0f5eb4",
   "metadata": {
    "execution": {
     "iopub.execute_input": "2024-03-26T10:14:01.880946Z",
     "iopub.status.busy": "2024-03-26T10:14:01.880103Z",
     "iopub.status.idle": "2024-03-26T10:14:01.891058Z",
     "shell.execute_reply": "2024-03-26T10:14:01.889803Z"
    },
    "papermill": {
     "duration": 0.031034,
     "end_time": "2024-03-26T10:14:01.893770",
     "exception": false,
     "start_time": "2024-03-26T10:14:01.862736",
     "status": "completed"
    },
    "tags": []
   },
   "outputs": [
    {
     "data": {
      "text/plain": [
       "False"
      ]
     },
     "execution_count": 7,
     "metadata": {},
     "output_type": "execute_result"
    }
   ],
   "source": [
    "data.duplicated().any()"
   ]
  },
  {
   "cell_type": "code",
   "execution_count": 8,
   "id": "37603a73",
   "metadata": {
    "execution": {
     "iopub.execute_input": "2024-03-26T10:14:01.928477Z",
     "iopub.status.busy": "2024-03-26T10:14:01.927433Z",
     "iopub.status.idle": "2024-03-26T10:14:01.934827Z",
     "shell.execute_reply": "2024-03-26T10:14:01.933623Z"
    },
    "papermill": {
     "duration": 0.027258,
     "end_time": "2024-03-26T10:14:01.937458",
     "exception": false,
     "start_time": "2024-03-26T10:14:01.910200",
     "status": "completed"
    },
    "tags": []
   },
   "outputs": [
    {
     "data": {
      "text/plain": [
       "(302, 14)"
      ]
     },
     "execution_count": 8,
     "metadata": {},
     "output_type": "execute_result"
    }
   ],
   "source": [
    "data.shape"
   ]
  },
  {
   "cell_type": "markdown",
   "id": "3fefbad5",
   "metadata": {
    "papermill": {
     "duration": 0.01764,
     "end_time": "2024-03-26T10:14:01.972762",
     "exception": false,
     "start_time": "2024-03-26T10:14:01.955122",
     "status": "completed"
    },
    "tags": []
   },
   "source": [
    "# Data Processing"
   ]
  },
  {
   "cell_type": "code",
   "execution_count": 9,
   "id": "1cea79ac",
   "metadata": {
    "execution": {
     "iopub.execute_input": "2024-03-26T10:14:02.007917Z",
     "iopub.status.busy": "2024-03-26T10:14:02.007481Z",
     "iopub.status.idle": "2024-03-26T10:14:02.019008Z",
     "shell.execute_reply": "2024-03-26T10:14:02.017509Z"
    },
    "papermill": {
     "duration": 0.032582,
     "end_time": "2024-03-26T10:14:02.021650",
     "exception": false,
     "start_time": "2024-03-26T10:14:01.989068",
     "status": "completed"
    },
    "tags": []
   },
   "outputs": [],
   "source": [
    "cate_val = []\n",
    "cont_val = []\n",
    "\n",
    "for column in data.columns:\n",
    "    if data[column].nunique() <= 10:\n",
    "        cate_val.append(column)\n",
    "    else:\n",
    "        cont_val.append(column)"
   ]
  },
  {
   "cell_type": "code",
   "execution_count": 10,
   "id": "3d3866b8",
   "metadata": {
    "execution": {
     "iopub.execute_input": "2024-03-26T10:14:02.056389Z",
     "iopub.status.busy": "2024-03-26T10:14:02.055960Z",
     "iopub.status.idle": "2024-03-26T10:14:02.062731Z",
     "shell.execute_reply": "2024-03-26T10:14:02.061325Z"
    },
    "papermill": {
     "duration": 0.026948,
     "end_time": "2024-03-26T10:14:02.065295",
     "exception": false,
     "start_time": "2024-03-26T10:14:02.038347",
     "status": "completed"
    },
    "tags": []
   },
   "outputs": [
    {
     "data": {
      "text/plain": [
       "['sex', 'cp', 'fbs', 'restecg', 'exang', 'slope', 'ca', 'thal', 'target']"
      ]
     },
     "execution_count": 10,
     "metadata": {},
     "output_type": "execute_result"
    }
   ],
   "source": [
    "cate_val"
   ]
  },
  {
   "cell_type": "code",
   "execution_count": 11,
   "id": "fbe647c7",
   "metadata": {
    "execution": {
     "iopub.execute_input": "2024-03-26T10:14:02.102383Z",
     "iopub.status.busy": "2024-03-26T10:14:02.101927Z",
     "iopub.status.idle": "2024-03-26T10:14:02.109758Z",
     "shell.execute_reply": "2024-03-26T10:14:02.108641Z"
    },
    "papermill": {
     "duration": 0.030203,
     "end_time": "2024-03-26T10:14:02.111937",
     "exception": false,
     "start_time": "2024-03-26T10:14:02.081734",
     "status": "completed"
    },
    "tags": []
   },
   "outputs": [
    {
     "data": {
      "text/plain": [
       "['age', 'trestbps', 'chol', 'thalach', 'oldpeak']"
      ]
     },
     "execution_count": 11,
     "metadata": {},
     "output_type": "execute_result"
    }
   ],
   "source": [
    "cont_val"
   ]
  },
  {
   "cell_type": "markdown",
   "id": "31c9277e",
   "metadata": {
    "papermill": {
     "duration": 0.017097,
     "end_time": "2024-03-26T10:14:02.145742",
     "exception": false,
     "start_time": "2024-03-26T10:14:02.128645",
     "status": "completed"
    },
    "tags": []
   },
   "source": [
    "# Encoding Categorical Data"
   ]
  },
  {
   "cell_type": "code",
   "execution_count": 12,
   "id": "19a971d4",
   "metadata": {
    "execution": {
     "iopub.execute_input": "2024-03-26T10:14:02.180971Z",
     "iopub.status.busy": "2024-03-26T10:14:02.180346Z",
     "iopub.status.idle": "2024-03-26T10:14:02.186486Z",
     "shell.execute_reply": "2024-03-26T10:14:02.185118Z"
    },
    "papermill": {
     "duration": 0.025942,
     "end_time": "2024-03-26T10:14:02.188867",
     "exception": false,
     "start_time": "2024-03-26T10:14:02.162925",
     "status": "completed"
    },
    "tags": []
   },
   "outputs": [
    {
     "data": {
      "text/plain": [
       "['sex', 'cp', 'fbs', 'restecg', 'exang', 'slope', 'ca', 'thal', 'target']"
      ]
     },
     "execution_count": 12,
     "metadata": {},
     "output_type": "execute_result"
    }
   ],
   "source": [
    "cate_val"
   ]
  },
  {
   "cell_type": "code",
   "execution_count": 13,
   "id": "d009af3d",
   "metadata": {
    "execution": {
     "iopub.execute_input": "2024-03-26T10:14:02.223729Z",
     "iopub.status.busy": "2024-03-26T10:14:02.223357Z",
     "iopub.status.idle": "2024-03-26T10:14:02.231121Z",
     "shell.execute_reply": "2024-03-26T10:14:02.229777Z"
    },
    "papermill": {
     "duration": 0.028179,
     "end_time": "2024-03-26T10:14:02.233461",
     "exception": false,
     "start_time": "2024-03-26T10:14:02.205282",
     "status": "completed"
    },
    "tags": []
   },
   "outputs": [
    {
     "data": {
      "text/plain": [
       "array([0, 1, 2, 3])"
      ]
     },
     "execution_count": 13,
     "metadata": {},
     "output_type": "execute_result"
    }
   ],
   "source": [
    "data[\"cp\"].unique()"
   ]
  },
  {
   "cell_type": "code",
   "execution_count": 14,
   "id": "f1575188",
   "metadata": {
    "execution": {
     "iopub.execute_input": "2024-03-26T10:14:02.270443Z",
     "iopub.status.busy": "2024-03-26T10:14:02.270053Z",
     "iopub.status.idle": "2024-03-26T10:14:02.274764Z",
     "shell.execute_reply": "2024-03-26T10:14:02.273652Z"
    },
    "papermill": {
     "duration": 0.024898,
     "end_time": "2024-03-26T10:14:02.277041",
     "exception": false,
     "start_time": "2024-03-26T10:14:02.252143",
     "status": "completed"
    },
    "tags": []
   },
   "outputs": [],
   "source": [
    "cate_val.remove(\"sex\")\n",
    "cate_val.remove(\"target\")"
   ]
  },
  {
   "cell_type": "code",
   "execution_count": 15,
   "id": "2e108c63",
   "metadata": {
    "execution": {
     "iopub.execute_input": "2024-03-26T10:14:02.374674Z",
     "iopub.status.busy": "2024-03-26T10:14:02.373935Z",
     "iopub.status.idle": "2024-03-26T10:14:02.387903Z",
     "shell.execute_reply": "2024-03-26T10:14:02.386804Z"
    },
    "papermill": {
     "duration": 0.034989,
     "end_time": "2024-03-26T10:14:02.390704",
     "exception": false,
     "start_time": "2024-03-26T10:14:02.355715",
     "status": "completed"
    },
    "tags": []
   },
   "outputs": [],
   "source": [
    "data = pd.get_dummies(data=data, columns=cate_val, drop_first=True)"
   ]
  },
  {
   "cell_type": "code",
   "execution_count": 16,
   "id": "da040d46",
   "metadata": {
    "execution": {
     "iopub.execute_input": "2024-03-26T10:14:02.427307Z",
     "iopub.status.busy": "2024-03-26T10:14:02.426706Z",
     "iopub.status.idle": "2024-03-26T10:14:02.450692Z",
     "shell.execute_reply": "2024-03-26T10:14:02.449419Z"
    },
    "papermill": {
     "duration": 0.045824,
     "end_time": "2024-03-26T10:14:02.453154",
     "exception": false,
     "start_time": "2024-03-26T10:14:02.407330",
     "status": "completed"
    },
    "tags": []
   },
   "outputs": [
    {
     "data": {
      "text/html": [
       "<div>\n",
       "<style scoped>\n",
       "    .dataframe tbody tr th:only-of-type {\n",
       "        vertical-align: middle;\n",
       "    }\n",
       "\n",
       "    .dataframe tbody tr th {\n",
       "        vertical-align: top;\n",
       "    }\n",
       "\n",
       "    .dataframe thead th {\n",
       "        text-align: right;\n",
       "    }\n",
       "</style>\n",
       "<table border=\"1\" class=\"dataframe\">\n",
       "  <thead>\n",
       "    <tr style=\"text-align: right;\">\n",
       "      <th></th>\n",
       "      <th>age</th>\n",
       "      <th>sex</th>\n",
       "      <th>trestbps</th>\n",
       "      <th>chol</th>\n",
       "      <th>thalach</th>\n",
       "      <th>oldpeak</th>\n",
       "      <th>target</th>\n",
       "      <th>cp_1</th>\n",
       "      <th>cp_2</th>\n",
       "      <th>cp_3</th>\n",
       "      <th>...</th>\n",
       "      <th>exang_1</th>\n",
       "      <th>slope_1</th>\n",
       "      <th>slope_2</th>\n",
       "      <th>ca_1</th>\n",
       "      <th>ca_2</th>\n",
       "      <th>ca_3</th>\n",
       "      <th>ca_4</th>\n",
       "      <th>thal_1</th>\n",
       "      <th>thal_2</th>\n",
       "      <th>thal_3</th>\n",
       "    </tr>\n",
       "  </thead>\n",
       "  <tbody>\n",
       "    <tr>\n",
       "      <th>0</th>\n",
       "      <td>52</td>\n",
       "      <td>1</td>\n",
       "      <td>125</td>\n",
       "      <td>212</td>\n",
       "      <td>168</td>\n",
       "      <td>1.0</td>\n",
       "      <td>0</td>\n",
       "      <td>False</td>\n",
       "      <td>False</td>\n",
       "      <td>False</td>\n",
       "      <td>...</td>\n",
       "      <td>False</td>\n",
       "      <td>False</td>\n",
       "      <td>True</td>\n",
       "      <td>False</td>\n",
       "      <td>True</td>\n",
       "      <td>False</td>\n",
       "      <td>False</td>\n",
       "      <td>False</td>\n",
       "      <td>False</td>\n",
       "      <td>True</td>\n",
       "    </tr>\n",
       "    <tr>\n",
       "      <th>1</th>\n",
       "      <td>53</td>\n",
       "      <td>1</td>\n",
       "      <td>140</td>\n",
       "      <td>203</td>\n",
       "      <td>155</td>\n",
       "      <td>3.1</td>\n",
       "      <td>0</td>\n",
       "      <td>False</td>\n",
       "      <td>False</td>\n",
       "      <td>False</td>\n",
       "      <td>...</td>\n",
       "      <td>True</td>\n",
       "      <td>False</td>\n",
       "      <td>False</td>\n",
       "      <td>False</td>\n",
       "      <td>False</td>\n",
       "      <td>False</td>\n",
       "      <td>False</td>\n",
       "      <td>False</td>\n",
       "      <td>False</td>\n",
       "      <td>True</td>\n",
       "    </tr>\n",
       "    <tr>\n",
       "      <th>2</th>\n",
       "      <td>70</td>\n",
       "      <td>1</td>\n",
       "      <td>145</td>\n",
       "      <td>174</td>\n",
       "      <td>125</td>\n",
       "      <td>2.6</td>\n",
       "      <td>0</td>\n",
       "      <td>False</td>\n",
       "      <td>False</td>\n",
       "      <td>False</td>\n",
       "      <td>...</td>\n",
       "      <td>True</td>\n",
       "      <td>False</td>\n",
       "      <td>False</td>\n",
       "      <td>False</td>\n",
       "      <td>False</td>\n",
       "      <td>False</td>\n",
       "      <td>False</td>\n",
       "      <td>False</td>\n",
       "      <td>False</td>\n",
       "      <td>True</td>\n",
       "    </tr>\n",
       "    <tr>\n",
       "      <th>3</th>\n",
       "      <td>61</td>\n",
       "      <td>1</td>\n",
       "      <td>148</td>\n",
       "      <td>203</td>\n",
       "      <td>161</td>\n",
       "      <td>0.0</td>\n",
       "      <td>0</td>\n",
       "      <td>False</td>\n",
       "      <td>False</td>\n",
       "      <td>False</td>\n",
       "      <td>...</td>\n",
       "      <td>False</td>\n",
       "      <td>False</td>\n",
       "      <td>True</td>\n",
       "      <td>True</td>\n",
       "      <td>False</td>\n",
       "      <td>False</td>\n",
       "      <td>False</td>\n",
       "      <td>False</td>\n",
       "      <td>False</td>\n",
       "      <td>True</td>\n",
       "    </tr>\n",
       "    <tr>\n",
       "      <th>4</th>\n",
       "      <td>62</td>\n",
       "      <td>0</td>\n",
       "      <td>138</td>\n",
       "      <td>294</td>\n",
       "      <td>106</td>\n",
       "      <td>1.9</td>\n",
       "      <td>0</td>\n",
       "      <td>False</td>\n",
       "      <td>False</td>\n",
       "      <td>False</td>\n",
       "      <td>...</td>\n",
       "      <td>False</td>\n",
       "      <td>True</td>\n",
       "      <td>False</td>\n",
       "      <td>False</td>\n",
       "      <td>False</td>\n",
       "      <td>True</td>\n",
       "      <td>False</td>\n",
       "      <td>False</td>\n",
       "      <td>True</td>\n",
       "      <td>False</td>\n",
       "    </tr>\n",
       "  </tbody>\n",
       "</table>\n",
       "<p>5 rows × 23 columns</p>\n",
       "</div>"
      ],
      "text/plain": [
       "   age  sex  trestbps  chol  thalach  oldpeak  target   cp_1   cp_2   cp_3  \\\n",
       "0   52    1       125   212      168      1.0       0  False  False  False   \n",
       "1   53    1       140   203      155      3.1       0  False  False  False   \n",
       "2   70    1       145   174      125      2.6       0  False  False  False   \n",
       "3   61    1       148   203      161      0.0       0  False  False  False   \n",
       "4   62    0       138   294      106      1.9       0  False  False  False   \n",
       "\n",
       "   ...  exang_1  slope_1  slope_2   ca_1   ca_2   ca_3   ca_4  thal_1  thal_2  \\\n",
       "0  ...    False    False     True  False   True  False  False   False   False   \n",
       "1  ...     True    False    False  False  False  False  False   False   False   \n",
       "2  ...     True    False    False  False  False  False  False   False   False   \n",
       "3  ...    False    False     True   True  False  False  False   False   False   \n",
       "4  ...    False     True    False  False  False   True  False   False    True   \n",
       "\n",
       "   thal_3  \n",
       "0    True  \n",
       "1    True  \n",
       "2    True  \n",
       "3    True  \n",
       "4   False  \n",
       "\n",
       "[5 rows x 23 columns]"
      ]
     },
     "execution_count": 16,
     "metadata": {},
     "output_type": "execute_result"
    }
   ],
   "source": [
    "data.head()"
   ]
  },
  {
   "cell_type": "markdown",
   "id": "ad53f0e6",
   "metadata": {
    "papermill": {
     "duration": 0.017453,
     "end_time": "2024-03-26T10:14:02.487921",
     "exception": false,
     "start_time": "2024-03-26T10:14:02.470468",
     "status": "completed"
    },
    "tags": []
   },
   "source": [
    "# Feature Scaling\n"
   ]
  },
  {
   "cell_type": "code",
   "execution_count": 17,
   "id": "55e4f2eb",
   "metadata": {
    "execution": {
     "iopub.execute_input": "2024-03-26T10:14:02.525850Z",
     "iopub.status.busy": "2024-03-26T10:14:02.525438Z",
     "iopub.status.idle": "2024-03-26T10:14:02.781810Z",
     "shell.execute_reply": "2024-03-26T10:14:02.780319Z"
    },
    "papermill": {
     "duration": 0.277762,
     "end_time": "2024-03-26T10:14:02.784688",
     "exception": false,
     "start_time": "2024-03-26T10:14:02.506926",
     "status": "completed"
    },
    "tags": []
   },
   "outputs": [],
   "source": [
    "from sklearn.preprocessing import StandardScaler"
   ]
  },
  {
   "cell_type": "code",
   "execution_count": 18,
   "id": "7117b4d5",
   "metadata": {
    "execution": {
     "iopub.execute_input": "2024-03-26T10:14:02.822534Z",
     "iopub.status.busy": "2024-03-26T10:14:02.822101Z",
     "iopub.status.idle": "2024-03-26T10:14:02.832429Z",
     "shell.execute_reply": "2024-03-26T10:14:02.831449Z"
    },
    "papermill": {
     "duration": 0.031661,
     "end_time": "2024-03-26T10:14:02.835021",
     "exception": false,
     "start_time": "2024-03-26T10:14:02.803360",
     "status": "completed"
    },
    "tags": []
   },
   "outputs": [],
   "source": [
    "st = StandardScaler()\n",
    "data[cont_val] = st.fit_transform(data[cont_val])"
   ]
  },
  {
   "cell_type": "code",
   "execution_count": 19,
   "id": "3d80596e",
   "metadata": {
    "execution": {
     "iopub.execute_input": "2024-03-26T10:14:02.871936Z",
     "iopub.status.busy": "2024-03-26T10:14:02.870973Z",
     "iopub.status.idle": "2024-03-26T10:14:02.896412Z",
     "shell.execute_reply": "2024-03-26T10:14:02.895227Z"
    },
    "papermill": {
     "duration": 0.046119,
     "end_time": "2024-03-26T10:14:02.898653",
     "exception": false,
     "start_time": "2024-03-26T10:14:02.852534",
     "status": "completed"
    },
    "tags": []
   },
   "outputs": [
    {
     "data": {
      "text/html": [
       "<div>\n",
       "<style scoped>\n",
       "    .dataframe tbody tr th:only-of-type {\n",
       "        vertical-align: middle;\n",
       "    }\n",
       "\n",
       "    .dataframe tbody tr th {\n",
       "        vertical-align: top;\n",
       "    }\n",
       "\n",
       "    .dataframe thead th {\n",
       "        text-align: right;\n",
       "    }\n",
       "</style>\n",
       "<table border=\"1\" class=\"dataframe\">\n",
       "  <thead>\n",
       "    <tr style=\"text-align: right;\">\n",
       "      <th></th>\n",
       "      <th>age</th>\n",
       "      <th>sex</th>\n",
       "      <th>trestbps</th>\n",
       "      <th>chol</th>\n",
       "      <th>thalach</th>\n",
       "      <th>oldpeak</th>\n",
       "      <th>target</th>\n",
       "      <th>cp_1</th>\n",
       "      <th>cp_2</th>\n",
       "      <th>cp_3</th>\n",
       "      <th>...</th>\n",
       "      <th>exang_1</th>\n",
       "      <th>slope_1</th>\n",
       "      <th>slope_2</th>\n",
       "      <th>ca_1</th>\n",
       "      <th>ca_2</th>\n",
       "      <th>ca_3</th>\n",
       "      <th>ca_4</th>\n",
       "      <th>thal_1</th>\n",
       "      <th>thal_2</th>\n",
       "      <th>thal_3</th>\n",
       "    </tr>\n",
       "  </thead>\n",
       "  <tbody>\n",
       "    <tr>\n",
       "      <th>0</th>\n",
       "      <td>-0.267966</td>\n",
       "      <td>1</td>\n",
       "      <td>-0.376556</td>\n",
       "      <td>-0.667728</td>\n",
       "      <td>0.806035</td>\n",
       "      <td>-0.037124</td>\n",
       "      <td>0</td>\n",
       "      <td>False</td>\n",
       "      <td>False</td>\n",
       "      <td>False</td>\n",
       "      <td>...</td>\n",
       "      <td>False</td>\n",
       "      <td>False</td>\n",
       "      <td>True</td>\n",
       "      <td>False</td>\n",
       "      <td>True</td>\n",
       "      <td>False</td>\n",
       "      <td>False</td>\n",
       "      <td>False</td>\n",
       "      <td>False</td>\n",
       "      <td>True</td>\n",
       "    </tr>\n",
       "    <tr>\n",
       "      <th>1</th>\n",
       "      <td>-0.157260</td>\n",
       "      <td>1</td>\n",
       "      <td>0.478910</td>\n",
       "      <td>-0.841918</td>\n",
       "      <td>0.237495</td>\n",
       "      <td>1.773958</td>\n",
       "      <td>0</td>\n",
       "      <td>False</td>\n",
       "      <td>False</td>\n",
       "      <td>False</td>\n",
       "      <td>...</td>\n",
       "      <td>True</td>\n",
       "      <td>False</td>\n",
       "      <td>False</td>\n",
       "      <td>False</td>\n",
       "      <td>False</td>\n",
       "      <td>False</td>\n",
       "      <td>False</td>\n",
       "      <td>False</td>\n",
       "      <td>False</td>\n",
       "      <td>True</td>\n",
       "    </tr>\n",
       "    <tr>\n",
       "      <th>2</th>\n",
       "      <td>1.724733</td>\n",
       "      <td>1</td>\n",
       "      <td>0.764066</td>\n",
       "      <td>-1.403197</td>\n",
       "      <td>-1.074521</td>\n",
       "      <td>1.342748</td>\n",
       "      <td>0</td>\n",
       "      <td>False</td>\n",
       "      <td>False</td>\n",
       "      <td>False</td>\n",
       "      <td>...</td>\n",
       "      <td>True</td>\n",
       "      <td>False</td>\n",
       "      <td>False</td>\n",
       "      <td>False</td>\n",
       "      <td>False</td>\n",
       "      <td>False</td>\n",
       "      <td>False</td>\n",
       "      <td>False</td>\n",
       "      <td>False</td>\n",
       "      <td>True</td>\n",
       "    </tr>\n",
       "    <tr>\n",
       "      <th>3</th>\n",
       "      <td>0.728383</td>\n",
       "      <td>1</td>\n",
       "      <td>0.935159</td>\n",
       "      <td>-0.841918</td>\n",
       "      <td>0.499898</td>\n",
       "      <td>-0.899544</td>\n",
       "      <td>0</td>\n",
       "      <td>False</td>\n",
       "      <td>False</td>\n",
       "      <td>False</td>\n",
       "      <td>...</td>\n",
       "      <td>False</td>\n",
       "      <td>False</td>\n",
       "      <td>True</td>\n",
       "      <td>True</td>\n",
       "      <td>False</td>\n",
       "      <td>False</td>\n",
       "      <td>False</td>\n",
       "      <td>False</td>\n",
       "      <td>False</td>\n",
       "      <td>True</td>\n",
       "    </tr>\n",
       "    <tr>\n",
       "      <th>4</th>\n",
       "      <td>0.839089</td>\n",
       "      <td>0</td>\n",
       "      <td>0.364848</td>\n",
       "      <td>0.919336</td>\n",
       "      <td>-1.905464</td>\n",
       "      <td>0.739054</td>\n",
       "      <td>0</td>\n",
       "      <td>False</td>\n",
       "      <td>False</td>\n",
       "      <td>False</td>\n",
       "      <td>...</td>\n",
       "      <td>False</td>\n",
       "      <td>True</td>\n",
       "      <td>False</td>\n",
       "      <td>False</td>\n",
       "      <td>False</td>\n",
       "      <td>True</td>\n",
       "      <td>False</td>\n",
       "      <td>False</td>\n",
       "      <td>True</td>\n",
       "      <td>False</td>\n",
       "    </tr>\n",
       "  </tbody>\n",
       "</table>\n",
       "<p>5 rows × 23 columns</p>\n",
       "</div>"
      ],
      "text/plain": [
       "        age  sex  trestbps      chol   thalach   oldpeak  target   cp_1  \\\n",
       "0 -0.267966    1 -0.376556 -0.667728  0.806035 -0.037124       0  False   \n",
       "1 -0.157260    1  0.478910 -0.841918  0.237495  1.773958       0  False   \n",
       "2  1.724733    1  0.764066 -1.403197 -1.074521  1.342748       0  False   \n",
       "3  0.728383    1  0.935159 -0.841918  0.499898 -0.899544       0  False   \n",
       "4  0.839089    0  0.364848  0.919336 -1.905464  0.739054       0  False   \n",
       "\n",
       "    cp_2   cp_3  ...  exang_1  slope_1  slope_2   ca_1   ca_2   ca_3   ca_4  \\\n",
       "0  False  False  ...    False    False     True  False   True  False  False   \n",
       "1  False  False  ...     True    False    False  False  False  False  False   \n",
       "2  False  False  ...     True    False    False  False  False  False  False   \n",
       "3  False  False  ...    False    False     True   True  False  False  False   \n",
       "4  False  False  ...    False     True    False  False  False   True  False   \n",
       "\n",
       "   thal_1  thal_2  thal_3  \n",
       "0   False   False    True  \n",
       "1   False   False    True  \n",
       "2   False   False    True  \n",
       "3   False   False    True  \n",
       "4   False    True   False  \n",
       "\n",
       "[5 rows x 23 columns]"
      ]
     },
     "execution_count": 19,
     "metadata": {},
     "output_type": "execute_result"
    }
   ],
   "source": [
    "data.head()"
   ]
  },
  {
   "cell_type": "markdown",
   "id": "3e067d9c",
   "metadata": {
    "papermill": {
     "duration": 0.017703,
     "end_time": "2024-03-26T10:14:02.936340",
     "exception": false,
     "start_time": "2024-03-26T10:14:02.918637",
     "status": "completed"
    },
    "tags": []
   },
   "source": [
    "# Splitting The Dataset Into The Training Set And Test Set"
   ]
  },
  {
   "cell_type": "code",
   "execution_count": 20,
   "id": "49a0e65c",
   "metadata": {
    "execution": {
     "iopub.execute_input": "2024-03-26T10:14:02.977457Z",
     "iopub.status.busy": "2024-03-26T10:14:02.976348Z",
     "iopub.status.idle": "2024-03-26T10:14:02.982606Z",
     "shell.execute_reply": "2024-03-26T10:14:02.981501Z"
    },
    "papermill": {
     "duration": 0.030565,
     "end_time": "2024-03-26T10:14:02.985923",
     "exception": false,
     "start_time": "2024-03-26T10:14:02.955358",
     "status": "completed"
    },
    "tags": []
   },
   "outputs": [],
   "source": [
    "X = data.drop(\"target\", axis=1)"
   ]
  },
  {
   "cell_type": "code",
   "execution_count": 21,
   "id": "7eaebc54",
   "metadata": {
    "execution": {
     "iopub.execute_input": "2024-03-26T10:14:03.026287Z",
     "iopub.status.busy": "2024-03-26T10:14:03.025599Z",
     "iopub.status.idle": "2024-03-26T10:14:03.030586Z",
     "shell.execute_reply": "2024-03-26T10:14:03.029270Z"
    },
    "papermill": {
     "duration": 0.027293,
     "end_time": "2024-03-26T10:14:03.032997",
     "exception": false,
     "start_time": "2024-03-26T10:14:03.005704",
     "status": "completed"
    },
    "tags": []
   },
   "outputs": [],
   "source": [
    "y = data[\"target\"]"
   ]
  },
  {
   "cell_type": "code",
   "execution_count": 22,
   "id": "ec76b324",
   "metadata": {
    "execution": {
     "iopub.execute_input": "2024-03-26T10:14:03.069838Z",
     "iopub.status.busy": "2024-03-26T10:14:03.069183Z",
     "iopub.status.idle": "2024-03-26T10:14:03.238561Z",
     "shell.execute_reply": "2024-03-26T10:14:03.237116Z"
    },
    "papermill": {
     "duration": 0.191253,
     "end_time": "2024-03-26T10:14:03.241557",
     "exception": false,
     "start_time": "2024-03-26T10:14:03.050304",
     "status": "completed"
    },
    "tags": []
   },
   "outputs": [],
   "source": [
    "from sklearn.model_selection import train_test_split"
   ]
  },
  {
   "cell_type": "code",
   "execution_count": 23,
   "id": "847c0367",
   "metadata": {
    "execution": {
     "iopub.execute_input": "2024-03-26T10:14:03.281727Z",
     "iopub.status.busy": "2024-03-26T10:14:03.281354Z",
     "iopub.status.idle": "2024-03-26T10:14:03.291533Z",
     "shell.execute_reply": "2024-03-26T10:14:03.290366Z"
    },
    "papermill": {
     "duration": 0.033877,
     "end_time": "2024-03-26T10:14:03.294916",
     "exception": false,
     "start_time": "2024-03-26T10:14:03.261039",
     "status": "completed"
    },
    "tags": []
   },
   "outputs": [],
   "source": [
    "X_train, X_test, y_train, y_test = train_test_split(X, y, test_size=0.2, random_state=42)"
   ]
  },
  {
   "cell_type": "markdown",
   "id": "1c743b8c",
   "metadata": {
    "papermill": {
     "duration": 0.020256,
     "end_time": "2024-03-26T10:14:03.335092",
     "exception": false,
     "start_time": "2024-03-26T10:14:03.314836",
     "status": "completed"
    },
    "tags": []
   },
   "source": [
    "# Logistic Regression\n"
   ]
  },
  {
   "cell_type": "code",
   "execution_count": 24,
   "id": "9c18a038",
   "metadata": {
    "execution": {
     "iopub.execute_input": "2024-03-26T10:14:03.374444Z",
     "iopub.status.busy": "2024-03-26T10:14:03.374038Z",
     "iopub.status.idle": "2024-03-26T10:14:03.401979Z",
     "shell.execute_reply": "2024-03-26T10:14:03.400477Z"
    },
    "papermill": {
     "duration": 0.050285,
     "end_time": "2024-03-26T10:14:03.404491",
     "exception": false,
     "start_time": "2024-03-26T10:14:03.354206",
     "status": "completed"
    },
    "tags": []
   },
   "outputs": [
    {
     "data": {
      "text/html": [
       "<div>\n",
       "<style scoped>\n",
       "    .dataframe tbody tr th:only-of-type {\n",
       "        vertical-align: middle;\n",
       "    }\n",
       "\n",
       "    .dataframe tbody tr th {\n",
       "        vertical-align: top;\n",
       "    }\n",
       "\n",
       "    .dataframe thead th {\n",
       "        text-align: right;\n",
       "    }\n",
       "</style>\n",
       "<table border=\"1\" class=\"dataframe\">\n",
       "  <thead>\n",
       "    <tr style=\"text-align: right;\">\n",
       "      <th></th>\n",
       "      <th>age</th>\n",
       "      <th>sex</th>\n",
       "      <th>trestbps</th>\n",
       "      <th>chol</th>\n",
       "      <th>thalach</th>\n",
       "      <th>oldpeak</th>\n",
       "      <th>target</th>\n",
       "      <th>cp_1</th>\n",
       "      <th>cp_2</th>\n",
       "      <th>cp_3</th>\n",
       "      <th>...</th>\n",
       "      <th>exang_1</th>\n",
       "      <th>slope_1</th>\n",
       "      <th>slope_2</th>\n",
       "      <th>ca_1</th>\n",
       "      <th>ca_2</th>\n",
       "      <th>ca_3</th>\n",
       "      <th>ca_4</th>\n",
       "      <th>thal_1</th>\n",
       "      <th>thal_2</th>\n",
       "      <th>thal_3</th>\n",
       "    </tr>\n",
       "  </thead>\n",
       "  <tbody>\n",
       "    <tr>\n",
       "      <th>0</th>\n",
       "      <td>-0.267966</td>\n",
       "      <td>1</td>\n",
       "      <td>-0.376556</td>\n",
       "      <td>-0.667728</td>\n",
       "      <td>0.806035</td>\n",
       "      <td>-0.037124</td>\n",
       "      <td>0</td>\n",
       "      <td>False</td>\n",
       "      <td>False</td>\n",
       "      <td>False</td>\n",
       "      <td>...</td>\n",
       "      <td>False</td>\n",
       "      <td>False</td>\n",
       "      <td>True</td>\n",
       "      <td>False</td>\n",
       "      <td>True</td>\n",
       "      <td>False</td>\n",
       "      <td>False</td>\n",
       "      <td>False</td>\n",
       "      <td>False</td>\n",
       "      <td>True</td>\n",
       "    </tr>\n",
       "    <tr>\n",
       "      <th>1</th>\n",
       "      <td>-0.157260</td>\n",
       "      <td>1</td>\n",
       "      <td>0.478910</td>\n",
       "      <td>-0.841918</td>\n",
       "      <td>0.237495</td>\n",
       "      <td>1.773958</td>\n",
       "      <td>0</td>\n",
       "      <td>False</td>\n",
       "      <td>False</td>\n",
       "      <td>False</td>\n",
       "      <td>...</td>\n",
       "      <td>True</td>\n",
       "      <td>False</td>\n",
       "      <td>False</td>\n",
       "      <td>False</td>\n",
       "      <td>False</td>\n",
       "      <td>False</td>\n",
       "      <td>False</td>\n",
       "      <td>False</td>\n",
       "      <td>False</td>\n",
       "      <td>True</td>\n",
       "    </tr>\n",
       "    <tr>\n",
       "      <th>2</th>\n",
       "      <td>1.724733</td>\n",
       "      <td>1</td>\n",
       "      <td>0.764066</td>\n",
       "      <td>-1.403197</td>\n",
       "      <td>-1.074521</td>\n",
       "      <td>1.342748</td>\n",
       "      <td>0</td>\n",
       "      <td>False</td>\n",
       "      <td>False</td>\n",
       "      <td>False</td>\n",
       "      <td>...</td>\n",
       "      <td>True</td>\n",
       "      <td>False</td>\n",
       "      <td>False</td>\n",
       "      <td>False</td>\n",
       "      <td>False</td>\n",
       "      <td>False</td>\n",
       "      <td>False</td>\n",
       "      <td>False</td>\n",
       "      <td>False</td>\n",
       "      <td>True</td>\n",
       "    </tr>\n",
       "    <tr>\n",
       "      <th>3</th>\n",
       "      <td>0.728383</td>\n",
       "      <td>1</td>\n",
       "      <td>0.935159</td>\n",
       "      <td>-0.841918</td>\n",
       "      <td>0.499898</td>\n",
       "      <td>-0.899544</td>\n",
       "      <td>0</td>\n",
       "      <td>False</td>\n",
       "      <td>False</td>\n",
       "      <td>False</td>\n",
       "      <td>...</td>\n",
       "      <td>False</td>\n",
       "      <td>False</td>\n",
       "      <td>True</td>\n",
       "      <td>True</td>\n",
       "      <td>False</td>\n",
       "      <td>False</td>\n",
       "      <td>False</td>\n",
       "      <td>False</td>\n",
       "      <td>False</td>\n",
       "      <td>True</td>\n",
       "    </tr>\n",
       "    <tr>\n",
       "      <th>4</th>\n",
       "      <td>0.839089</td>\n",
       "      <td>0</td>\n",
       "      <td>0.364848</td>\n",
       "      <td>0.919336</td>\n",
       "      <td>-1.905464</td>\n",
       "      <td>0.739054</td>\n",
       "      <td>0</td>\n",
       "      <td>False</td>\n",
       "      <td>False</td>\n",
       "      <td>False</td>\n",
       "      <td>...</td>\n",
       "      <td>False</td>\n",
       "      <td>True</td>\n",
       "      <td>False</td>\n",
       "      <td>False</td>\n",
       "      <td>False</td>\n",
       "      <td>True</td>\n",
       "      <td>False</td>\n",
       "      <td>False</td>\n",
       "      <td>True</td>\n",
       "      <td>False</td>\n",
       "    </tr>\n",
       "  </tbody>\n",
       "</table>\n",
       "<p>5 rows × 23 columns</p>\n",
       "</div>"
      ],
      "text/plain": [
       "        age  sex  trestbps      chol   thalach   oldpeak  target   cp_1  \\\n",
       "0 -0.267966    1 -0.376556 -0.667728  0.806035 -0.037124       0  False   \n",
       "1 -0.157260    1  0.478910 -0.841918  0.237495  1.773958       0  False   \n",
       "2  1.724733    1  0.764066 -1.403197 -1.074521  1.342748       0  False   \n",
       "3  0.728383    1  0.935159 -0.841918  0.499898 -0.899544       0  False   \n",
       "4  0.839089    0  0.364848  0.919336 -1.905464  0.739054       0  False   \n",
       "\n",
       "    cp_2   cp_3  ...  exang_1  slope_1  slope_2   ca_1   ca_2   ca_3   ca_4  \\\n",
       "0  False  False  ...    False    False     True  False   True  False  False   \n",
       "1  False  False  ...     True    False    False  False  False  False  False   \n",
       "2  False  False  ...     True    False    False  False  False  False  False   \n",
       "3  False  False  ...    False    False     True   True  False  False  False   \n",
       "4  False  False  ...    False     True    False  False  False   True  False   \n",
       "\n",
       "   thal_1  thal_2  thal_3  \n",
       "0   False   False    True  \n",
       "1   False   False    True  \n",
       "2   False   False    True  \n",
       "3   False   False    True  \n",
       "4   False    True   False  \n",
       "\n",
       "[5 rows x 23 columns]"
      ]
     },
     "execution_count": 24,
     "metadata": {},
     "output_type": "execute_result"
    }
   ],
   "source": [
    "data.head()"
   ]
  },
  {
   "cell_type": "code",
   "execution_count": 25,
   "id": "4482f3fd",
   "metadata": {
    "execution": {
     "iopub.execute_input": "2024-03-26T10:14:03.442559Z",
     "iopub.status.busy": "2024-03-26T10:14:03.441847Z",
     "iopub.status.idle": "2024-03-26T10:14:03.579590Z",
     "shell.execute_reply": "2024-03-26T10:14:03.578321Z"
    },
    "papermill": {
     "duration": 0.159973,
     "end_time": "2024-03-26T10:14:03.582410",
     "exception": false,
     "start_time": "2024-03-26T10:14:03.422437",
     "status": "completed"
    },
    "tags": []
   },
   "outputs": [],
   "source": [
    "from sklearn.linear_model import LogisticRegression"
   ]
  },
  {
   "cell_type": "code",
   "execution_count": 26,
   "id": "49152368",
   "metadata": {
    "execution": {
     "iopub.execute_input": "2024-03-26T10:14:03.620652Z",
     "iopub.status.busy": "2024-03-26T10:14:03.620250Z",
     "iopub.status.idle": "2024-03-26T10:14:03.648532Z",
     "shell.execute_reply": "2024-03-26T10:14:03.647128Z"
    },
    "papermill": {
     "duration": 0.049931,
     "end_time": "2024-03-26T10:14:03.651124",
     "exception": false,
     "start_time": "2024-03-26T10:14:03.601193",
     "status": "completed"
    },
    "tags": []
   },
   "outputs": [
    {
     "data": {
      "text/html": [
       "<style>#sk-container-id-1 {color: black;background-color: white;}#sk-container-id-1 pre{padding: 0;}#sk-container-id-1 div.sk-toggleable {background-color: white;}#sk-container-id-1 label.sk-toggleable__label {cursor: pointer;display: block;width: 100%;margin-bottom: 0;padding: 0.3em;box-sizing: border-box;text-align: center;}#sk-container-id-1 label.sk-toggleable__label-arrow:before {content: \"▸\";float: left;margin-right: 0.25em;color: #696969;}#sk-container-id-1 label.sk-toggleable__label-arrow:hover:before {color: black;}#sk-container-id-1 div.sk-estimator:hover label.sk-toggleable__label-arrow:before {color: black;}#sk-container-id-1 div.sk-toggleable__content {max-height: 0;max-width: 0;overflow: hidden;text-align: left;background-color: #f0f8ff;}#sk-container-id-1 div.sk-toggleable__content pre {margin: 0.2em;color: black;border-radius: 0.25em;background-color: #f0f8ff;}#sk-container-id-1 input.sk-toggleable__control:checked~div.sk-toggleable__content {max-height: 200px;max-width: 100%;overflow: auto;}#sk-container-id-1 input.sk-toggleable__control:checked~label.sk-toggleable__label-arrow:before {content: \"▾\";}#sk-container-id-1 div.sk-estimator input.sk-toggleable__control:checked~label.sk-toggleable__label {background-color: #d4ebff;}#sk-container-id-1 div.sk-label input.sk-toggleable__control:checked~label.sk-toggleable__label {background-color: #d4ebff;}#sk-container-id-1 input.sk-hidden--visually {border: 0;clip: rect(1px 1px 1px 1px);clip: rect(1px, 1px, 1px, 1px);height: 1px;margin: -1px;overflow: hidden;padding: 0;position: absolute;width: 1px;}#sk-container-id-1 div.sk-estimator {font-family: monospace;background-color: #f0f8ff;border: 1px dotted black;border-radius: 0.25em;box-sizing: border-box;margin-bottom: 0.5em;}#sk-container-id-1 div.sk-estimator:hover {background-color: #d4ebff;}#sk-container-id-1 div.sk-parallel-item::after {content: \"\";width: 100%;border-bottom: 1px solid gray;flex-grow: 1;}#sk-container-id-1 div.sk-label:hover label.sk-toggleable__label {background-color: #d4ebff;}#sk-container-id-1 div.sk-serial::before {content: \"\";position: absolute;border-left: 1px solid gray;box-sizing: border-box;top: 0;bottom: 0;left: 50%;z-index: 0;}#sk-container-id-1 div.sk-serial {display: flex;flex-direction: column;align-items: center;background-color: white;padding-right: 0.2em;padding-left: 0.2em;position: relative;}#sk-container-id-1 div.sk-item {position: relative;z-index: 1;}#sk-container-id-1 div.sk-parallel {display: flex;align-items: stretch;justify-content: center;background-color: white;position: relative;}#sk-container-id-1 div.sk-item::before, #sk-container-id-1 div.sk-parallel-item::before {content: \"\";position: absolute;border-left: 1px solid gray;box-sizing: border-box;top: 0;bottom: 0;left: 50%;z-index: -1;}#sk-container-id-1 div.sk-parallel-item {display: flex;flex-direction: column;z-index: 1;position: relative;background-color: white;}#sk-container-id-1 div.sk-parallel-item:first-child::after {align-self: flex-end;width: 50%;}#sk-container-id-1 div.sk-parallel-item:last-child::after {align-self: flex-start;width: 50%;}#sk-container-id-1 div.sk-parallel-item:only-child::after {width: 0;}#sk-container-id-1 div.sk-dashed-wrapped {border: 1px dashed gray;margin: 0 0.4em 0.5em 0.4em;box-sizing: border-box;padding-bottom: 0.4em;background-color: white;}#sk-container-id-1 div.sk-label label {font-family: monospace;font-weight: bold;display: inline-block;line-height: 1.2em;}#sk-container-id-1 div.sk-label-container {text-align: center;}#sk-container-id-1 div.sk-container {/* jupyter's `normalize.less` sets `[hidden] { display: none; }` but bootstrap.min.css set `[hidden] { display: none !important; }` so we also need the `!important` here to be able to override the default hidden behavior on the sphinx rendered scikit-learn.org. See: https://github.com/scikit-learn/scikit-learn/issues/21755 */display: inline-block !important;position: relative;}#sk-container-id-1 div.sk-text-repr-fallback {display: none;}</style><div id=\"sk-container-id-1\" class=\"sk-top-container\"><div class=\"sk-text-repr-fallback\"><pre>LogisticRegression()</pre><b>In a Jupyter environment, please rerun this cell to show the HTML representation or trust the notebook. <br />On GitHub, the HTML representation is unable to render, please try loading this page with nbviewer.org.</b></div><div class=\"sk-container\" hidden><div class=\"sk-item\"><div class=\"sk-estimator sk-toggleable\"><input class=\"sk-toggleable__control sk-hidden--visually\" id=\"sk-estimator-id-1\" type=\"checkbox\" checked><label for=\"sk-estimator-id-1\" class=\"sk-toggleable__label sk-toggleable__label-arrow\">LogisticRegression</label><div class=\"sk-toggleable__content\"><pre>LogisticRegression()</pre></div></div></div></div></div>"
      ],
      "text/plain": [
       "LogisticRegression()"
      ]
     },
     "execution_count": 26,
     "metadata": {},
     "output_type": "execute_result"
    }
   ],
   "source": [
    "log = LogisticRegression()\n",
    "log.fit(X_train, y_train)"
   ]
  },
  {
   "cell_type": "code",
   "execution_count": 27,
   "id": "cd322833",
   "metadata": {
    "execution": {
     "iopub.execute_input": "2024-03-26T10:14:03.700641Z",
     "iopub.status.busy": "2024-03-26T10:14:03.700003Z",
     "iopub.status.idle": "2024-03-26T10:14:03.710129Z",
     "shell.execute_reply": "2024-03-26T10:14:03.708775Z"
    },
    "papermill": {
     "duration": 0.044111,
     "end_time": "2024-03-26T10:14:03.714947",
     "exception": false,
     "start_time": "2024-03-26T10:14:03.670836",
     "status": "completed"
    },
    "tags": []
   },
   "outputs": [],
   "source": [
    "y_pred = log.predict(X_test)"
   ]
  },
  {
   "cell_type": "code",
   "execution_count": 28,
   "id": "2eb35b71",
   "metadata": {
    "execution": {
     "iopub.execute_input": "2024-03-26T10:14:03.765123Z",
     "iopub.status.busy": "2024-03-26T10:14:03.764721Z",
     "iopub.status.idle": "2024-03-26T10:14:03.769449Z",
     "shell.execute_reply": "2024-03-26T10:14:03.768257Z"
    },
    "papermill": {
     "duration": 0.031424,
     "end_time": "2024-03-26T10:14:03.771927",
     "exception": false,
     "start_time": "2024-03-26T10:14:03.740503",
     "status": "completed"
    },
    "tags": []
   },
   "outputs": [],
   "source": [
    "from sklearn.metrics import accuracy_score"
   ]
  },
  {
   "cell_type": "code",
   "execution_count": 29,
   "id": "cdb60813",
   "metadata": {
    "execution": {
     "iopub.execute_input": "2024-03-26T10:14:03.820702Z",
     "iopub.status.busy": "2024-03-26T10:14:03.819986Z",
     "iopub.status.idle": "2024-03-26T10:14:03.831940Z",
     "shell.execute_reply": "2024-03-26T10:14:03.830340Z"
    },
    "papermill": {
     "duration": 0.045979,
     "end_time": "2024-03-26T10:14:03.838154",
     "exception": false,
     "start_time": "2024-03-26T10:14:03.792175",
     "status": "completed"
    },
    "tags": []
   },
   "outputs": [
    {
     "data": {
      "text/plain": [
       "0.7868852459016393"
      ]
     },
     "execution_count": 29,
     "metadata": {},
     "output_type": "execute_result"
    }
   ],
   "source": [
    "accuracy_score(y_true=y_test, y_pred=y_pred)"
   ]
  },
  {
   "cell_type": "markdown",
   "id": "f77942c5",
   "metadata": {
    "papermill": {
     "duration": 0.022699,
     "end_time": "2024-03-26T10:14:03.889699",
     "exception": false,
     "start_time": "2024-03-26T10:14:03.867000",
     "status": "completed"
    },
    "tags": []
   },
   "source": [
    "# SVC"
   ]
  },
  {
   "cell_type": "code",
   "execution_count": 30,
   "id": "2c2327ba",
   "metadata": {
    "execution": {
     "iopub.execute_input": "2024-03-26T10:14:03.930330Z",
     "iopub.status.busy": "2024-03-26T10:14:03.929903Z",
     "iopub.status.idle": "2024-03-26T10:14:03.935972Z",
     "shell.execute_reply": "2024-03-26T10:14:03.934820Z"
    },
    "papermill": {
     "duration": 0.028738,
     "end_time": "2024-03-26T10:14:03.938563",
     "exception": false,
     "start_time": "2024-03-26T10:14:03.909825",
     "status": "completed"
    },
    "tags": []
   },
   "outputs": [],
   "source": [
    "from sklearn.svm import SVC"
   ]
  },
  {
   "cell_type": "code",
   "execution_count": 31,
   "id": "fd8ce99c",
   "metadata": {
    "execution": {
     "iopub.execute_input": "2024-03-26T10:14:03.977890Z",
     "iopub.status.busy": "2024-03-26T10:14:03.977500Z",
     "iopub.status.idle": "2024-03-26T10:14:03.991878Z",
     "shell.execute_reply": "2024-03-26T10:14:03.990988Z"
    },
    "papermill": {
     "duration": 0.036693,
     "end_time": "2024-03-26T10:14:03.994411",
     "exception": false,
     "start_time": "2024-03-26T10:14:03.957718",
     "status": "completed"
    },
    "tags": []
   },
   "outputs": [
    {
     "data": {
      "text/html": [
       "<style>#sk-container-id-2 {color: black;background-color: white;}#sk-container-id-2 pre{padding: 0;}#sk-container-id-2 div.sk-toggleable {background-color: white;}#sk-container-id-2 label.sk-toggleable__label {cursor: pointer;display: block;width: 100%;margin-bottom: 0;padding: 0.3em;box-sizing: border-box;text-align: center;}#sk-container-id-2 label.sk-toggleable__label-arrow:before {content: \"▸\";float: left;margin-right: 0.25em;color: #696969;}#sk-container-id-2 label.sk-toggleable__label-arrow:hover:before {color: black;}#sk-container-id-2 div.sk-estimator:hover label.sk-toggleable__label-arrow:before {color: black;}#sk-container-id-2 div.sk-toggleable__content {max-height: 0;max-width: 0;overflow: hidden;text-align: left;background-color: #f0f8ff;}#sk-container-id-2 div.sk-toggleable__content pre {margin: 0.2em;color: black;border-radius: 0.25em;background-color: #f0f8ff;}#sk-container-id-2 input.sk-toggleable__control:checked~div.sk-toggleable__content {max-height: 200px;max-width: 100%;overflow: auto;}#sk-container-id-2 input.sk-toggleable__control:checked~label.sk-toggleable__label-arrow:before {content: \"▾\";}#sk-container-id-2 div.sk-estimator input.sk-toggleable__control:checked~label.sk-toggleable__label {background-color: #d4ebff;}#sk-container-id-2 div.sk-label input.sk-toggleable__control:checked~label.sk-toggleable__label {background-color: #d4ebff;}#sk-container-id-2 input.sk-hidden--visually {border: 0;clip: rect(1px 1px 1px 1px);clip: rect(1px, 1px, 1px, 1px);height: 1px;margin: -1px;overflow: hidden;padding: 0;position: absolute;width: 1px;}#sk-container-id-2 div.sk-estimator {font-family: monospace;background-color: #f0f8ff;border: 1px dotted black;border-radius: 0.25em;box-sizing: border-box;margin-bottom: 0.5em;}#sk-container-id-2 div.sk-estimator:hover {background-color: #d4ebff;}#sk-container-id-2 div.sk-parallel-item::after {content: \"\";width: 100%;border-bottom: 1px solid gray;flex-grow: 1;}#sk-container-id-2 div.sk-label:hover label.sk-toggleable__label {background-color: #d4ebff;}#sk-container-id-2 div.sk-serial::before {content: \"\";position: absolute;border-left: 1px solid gray;box-sizing: border-box;top: 0;bottom: 0;left: 50%;z-index: 0;}#sk-container-id-2 div.sk-serial {display: flex;flex-direction: column;align-items: center;background-color: white;padding-right: 0.2em;padding-left: 0.2em;position: relative;}#sk-container-id-2 div.sk-item {position: relative;z-index: 1;}#sk-container-id-2 div.sk-parallel {display: flex;align-items: stretch;justify-content: center;background-color: white;position: relative;}#sk-container-id-2 div.sk-item::before, #sk-container-id-2 div.sk-parallel-item::before {content: \"\";position: absolute;border-left: 1px solid gray;box-sizing: border-box;top: 0;bottom: 0;left: 50%;z-index: -1;}#sk-container-id-2 div.sk-parallel-item {display: flex;flex-direction: column;z-index: 1;position: relative;background-color: white;}#sk-container-id-2 div.sk-parallel-item:first-child::after {align-self: flex-end;width: 50%;}#sk-container-id-2 div.sk-parallel-item:last-child::after {align-self: flex-start;width: 50%;}#sk-container-id-2 div.sk-parallel-item:only-child::after {width: 0;}#sk-container-id-2 div.sk-dashed-wrapped {border: 1px dashed gray;margin: 0 0.4em 0.5em 0.4em;box-sizing: border-box;padding-bottom: 0.4em;background-color: white;}#sk-container-id-2 div.sk-label label {font-family: monospace;font-weight: bold;display: inline-block;line-height: 1.2em;}#sk-container-id-2 div.sk-label-container {text-align: center;}#sk-container-id-2 div.sk-container {/* jupyter's `normalize.less` sets `[hidden] { display: none; }` but bootstrap.min.css set `[hidden] { display: none !important; }` so we also need the `!important` here to be able to override the default hidden behavior on the sphinx rendered scikit-learn.org. See: https://github.com/scikit-learn/scikit-learn/issues/21755 */display: inline-block !important;position: relative;}#sk-container-id-2 div.sk-text-repr-fallback {display: none;}</style><div id=\"sk-container-id-2\" class=\"sk-top-container\"><div class=\"sk-text-repr-fallback\"><pre>SVC()</pre><b>In a Jupyter environment, please rerun this cell to show the HTML representation or trust the notebook. <br />On GitHub, the HTML representation is unable to render, please try loading this page with nbviewer.org.</b></div><div class=\"sk-container\" hidden><div class=\"sk-item\"><div class=\"sk-estimator sk-toggleable\"><input class=\"sk-toggleable__control sk-hidden--visually\" id=\"sk-estimator-id-2\" type=\"checkbox\" checked><label for=\"sk-estimator-id-2\" class=\"sk-toggleable__label sk-toggleable__label-arrow\">SVC</label><div class=\"sk-toggleable__content\"><pre>SVC()</pre></div></div></div></div></div>"
      ],
      "text/plain": [
       "SVC()"
      ]
     },
     "execution_count": 31,
     "metadata": {},
     "output_type": "execute_result"
    }
   ],
   "source": [
    "svm = SVC()\n",
    "svm.fit(X_train, y_train)"
   ]
  },
  {
   "cell_type": "code",
   "execution_count": 32,
   "id": "3f7c5b5a",
   "metadata": {
    "execution": {
     "iopub.execute_input": "2024-03-26T10:14:04.035377Z",
     "iopub.status.busy": "2024-03-26T10:14:04.033851Z",
     "iopub.status.idle": "2024-03-26T10:14:04.045560Z",
     "shell.execute_reply": "2024-03-26T10:14:04.044337Z"
    },
    "papermill": {
     "duration": 0.036399,
     "end_time": "2024-03-26T10:14:04.049128",
     "exception": false,
     "start_time": "2024-03-26T10:14:04.012729",
     "status": "completed"
    },
    "tags": []
   },
   "outputs": [],
   "source": [
    "y_pred2 = svm.predict(X_test)"
   ]
  },
  {
   "cell_type": "code",
   "execution_count": 33,
   "id": "9af63d0f",
   "metadata": {
    "execution": {
     "iopub.execute_input": "2024-03-26T10:14:04.094882Z",
     "iopub.status.busy": "2024-03-26T10:14:04.093863Z",
     "iopub.status.idle": "2024-03-26T10:14:04.103384Z",
     "shell.execute_reply": "2024-03-26T10:14:04.102264Z"
    },
    "papermill": {
     "duration": 0.031931,
     "end_time": "2024-03-26T10:14:04.105767",
     "exception": false,
     "start_time": "2024-03-26T10:14:04.073836",
     "status": "completed"
    },
    "tags": []
   },
   "outputs": [
    {
     "data": {
      "text/plain": [
       "0.8032786885245902"
      ]
     },
     "execution_count": 33,
     "metadata": {},
     "output_type": "execute_result"
    }
   ],
   "source": [
    "accuracy_score(y_true=y_test, y_pred=y_pred2)"
   ]
  },
  {
   "cell_type": "markdown",
   "id": "3f73288d",
   "metadata": {
    "papermill": {
     "duration": 0.019698,
     "end_time": "2024-03-26T10:14:04.144357",
     "exception": false,
     "start_time": "2024-03-26T10:14:04.124659",
     "status": "completed"
    },
    "tags": []
   },
   "source": [
    "# KNeighbors Classifier"
   ]
  },
  {
   "cell_type": "code",
   "execution_count": 34,
   "id": "f076505c",
   "metadata": {
    "execution": {
     "iopub.execute_input": "2024-03-26T10:14:04.184139Z",
     "iopub.status.busy": "2024-03-26T10:14:04.183046Z",
     "iopub.status.idle": "2024-03-26T10:14:04.270746Z",
     "shell.execute_reply": "2024-03-26T10:14:04.269283Z"
    },
    "papermill": {
     "duration": 0.110004,
     "end_time": "2024-03-26T10:14:04.273521",
     "exception": false,
     "start_time": "2024-03-26T10:14:04.163517",
     "status": "completed"
    },
    "tags": []
   },
   "outputs": [],
   "source": [
    "from sklearn.neighbors import KNeighborsClassifier"
   ]
  },
  {
   "cell_type": "code",
   "execution_count": 35,
   "id": "3d0bd18a",
   "metadata": {
    "execution": {
     "iopub.execute_input": "2024-03-26T10:14:04.313014Z",
     "iopub.status.busy": "2024-03-26T10:14:04.311912Z",
     "iopub.status.idle": "2024-03-26T10:14:04.323196Z",
     "shell.execute_reply": "2024-03-26T10:14:04.322208Z"
    },
    "papermill": {
     "duration": 0.034235,
     "end_time": "2024-03-26T10:14:04.326291",
     "exception": false,
     "start_time": "2024-03-26T10:14:04.292056",
     "status": "completed"
    },
    "tags": []
   },
   "outputs": [
    {
     "data": {
      "text/html": [
       "<style>#sk-container-id-3 {color: black;background-color: white;}#sk-container-id-3 pre{padding: 0;}#sk-container-id-3 div.sk-toggleable {background-color: white;}#sk-container-id-3 label.sk-toggleable__label {cursor: pointer;display: block;width: 100%;margin-bottom: 0;padding: 0.3em;box-sizing: border-box;text-align: center;}#sk-container-id-3 label.sk-toggleable__label-arrow:before {content: \"▸\";float: left;margin-right: 0.25em;color: #696969;}#sk-container-id-3 label.sk-toggleable__label-arrow:hover:before {color: black;}#sk-container-id-3 div.sk-estimator:hover label.sk-toggleable__label-arrow:before {color: black;}#sk-container-id-3 div.sk-toggleable__content {max-height: 0;max-width: 0;overflow: hidden;text-align: left;background-color: #f0f8ff;}#sk-container-id-3 div.sk-toggleable__content pre {margin: 0.2em;color: black;border-radius: 0.25em;background-color: #f0f8ff;}#sk-container-id-3 input.sk-toggleable__control:checked~div.sk-toggleable__content {max-height: 200px;max-width: 100%;overflow: auto;}#sk-container-id-3 input.sk-toggleable__control:checked~label.sk-toggleable__label-arrow:before {content: \"▾\";}#sk-container-id-3 div.sk-estimator input.sk-toggleable__control:checked~label.sk-toggleable__label {background-color: #d4ebff;}#sk-container-id-3 div.sk-label input.sk-toggleable__control:checked~label.sk-toggleable__label {background-color: #d4ebff;}#sk-container-id-3 input.sk-hidden--visually {border: 0;clip: rect(1px 1px 1px 1px);clip: rect(1px, 1px, 1px, 1px);height: 1px;margin: -1px;overflow: hidden;padding: 0;position: absolute;width: 1px;}#sk-container-id-3 div.sk-estimator {font-family: monospace;background-color: #f0f8ff;border: 1px dotted black;border-radius: 0.25em;box-sizing: border-box;margin-bottom: 0.5em;}#sk-container-id-3 div.sk-estimator:hover {background-color: #d4ebff;}#sk-container-id-3 div.sk-parallel-item::after {content: \"\";width: 100%;border-bottom: 1px solid gray;flex-grow: 1;}#sk-container-id-3 div.sk-label:hover label.sk-toggleable__label {background-color: #d4ebff;}#sk-container-id-3 div.sk-serial::before {content: \"\";position: absolute;border-left: 1px solid gray;box-sizing: border-box;top: 0;bottom: 0;left: 50%;z-index: 0;}#sk-container-id-3 div.sk-serial {display: flex;flex-direction: column;align-items: center;background-color: white;padding-right: 0.2em;padding-left: 0.2em;position: relative;}#sk-container-id-3 div.sk-item {position: relative;z-index: 1;}#sk-container-id-3 div.sk-parallel {display: flex;align-items: stretch;justify-content: center;background-color: white;position: relative;}#sk-container-id-3 div.sk-item::before, #sk-container-id-3 div.sk-parallel-item::before {content: \"\";position: absolute;border-left: 1px solid gray;box-sizing: border-box;top: 0;bottom: 0;left: 50%;z-index: -1;}#sk-container-id-3 div.sk-parallel-item {display: flex;flex-direction: column;z-index: 1;position: relative;background-color: white;}#sk-container-id-3 div.sk-parallel-item:first-child::after {align-self: flex-end;width: 50%;}#sk-container-id-3 div.sk-parallel-item:last-child::after {align-self: flex-start;width: 50%;}#sk-container-id-3 div.sk-parallel-item:only-child::after {width: 0;}#sk-container-id-3 div.sk-dashed-wrapped {border: 1px dashed gray;margin: 0 0.4em 0.5em 0.4em;box-sizing: border-box;padding-bottom: 0.4em;background-color: white;}#sk-container-id-3 div.sk-label label {font-family: monospace;font-weight: bold;display: inline-block;line-height: 1.2em;}#sk-container-id-3 div.sk-label-container {text-align: center;}#sk-container-id-3 div.sk-container {/* jupyter's `normalize.less` sets `[hidden] { display: none; }` but bootstrap.min.css set `[hidden] { display: none !important; }` so we also need the `!important` here to be able to override the default hidden behavior on the sphinx rendered scikit-learn.org. See: https://github.com/scikit-learn/scikit-learn/issues/21755 */display: inline-block !important;position: relative;}#sk-container-id-3 div.sk-text-repr-fallback {display: none;}</style><div id=\"sk-container-id-3\" class=\"sk-top-container\"><div class=\"sk-text-repr-fallback\"><pre>KNeighborsClassifier(n_neighbors=2)</pre><b>In a Jupyter environment, please rerun this cell to show the HTML representation or trust the notebook. <br />On GitHub, the HTML representation is unable to render, please try loading this page with nbviewer.org.</b></div><div class=\"sk-container\" hidden><div class=\"sk-item\"><div class=\"sk-estimator sk-toggleable\"><input class=\"sk-toggleable__control sk-hidden--visually\" id=\"sk-estimator-id-3\" type=\"checkbox\" checked><label for=\"sk-estimator-id-3\" class=\"sk-toggleable__label sk-toggleable__label-arrow\">KNeighborsClassifier</label><div class=\"sk-toggleable__content\"><pre>KNeighborsClassifier(n_neighbors=2)</pre></div></div></div></div></div>"
      ],
      "text/plain": [
       "KNeighborsClassifier(n_neighbors=2)"
      ]
     },
     "execution_count": 35,
     "metadata": {},
     "output_type": "execute_result"
    }
   ],
   "source": [
    "knn = KNeighborsClassifier(n_neighbors=2)\n",
    "knn.fit(X_train, y_train)"
   ]
  },
  {
   "cell_type": "code",
   "execution_count": 36,
   "id": "3b7637d9",
   "metadata": {
    "execution": {
     "iopub.execute_input": "2024-03-26T10:14:04.366451Z",
     "iopub.status.busy": "2024-03-26T10:14:04.365730Z",
     "iopub.status.idle": "2024-03-26T10:14:04.427106Z",
     "shell.execute_reply": "2024-03-26T10:14:04.425916Z"
    },
    "papermill": {
     "duration": 0.084382,
     "end_time": "2024-03-26T10:14:04.429814",
     "exception": false,
     "start_time": "2024-03-26T10:14:04.345432",
     "status": "completed"
    },
    "tags": []
   },
   "outputs": [],
   "source": [
    "y_pred3 = knn.predict(X_test)"
   ]
  },
  {
   "cell_type": "code",
   "execution_count": 37,
   "id": "5e901ac6",
   "metadata": {
    "execution": {
     "iopub.execute_input": "2024-03-26T10:14:04.477649Z",
     "iopub.status.busy": "2024-03-26T10:14:04.477138Z",
     "iopub.status.idle": "2024-03-26T10:14:04.485911Z",
     "shell.execute_reply": "2024-03-26T10:14:04.484654Z"
    },
    "papermill": {
     "duration": 0.038386,
     "end_time": "2024-03-26T10:14:04.488414",
     "exception": false,
     "start_time": "2024-03-26T10:14:04.450028",
     "status": "completed"
    },
    "tags": []
   },
   "outputs": [
    {
     "data": {
      "text/plain": [
       "0.8032786885245902"
      ]
     },
     "execution_count": 37,
     "metadata": {},
     "output_type": "execute_result"
    }
   ],
   "source": [
    "accuracy_score(y_true=y_test, y_pred=y_pred3)"
   ]
  },
  {
   "cell_type": "markdown",
   "id": "20d0b0da",
   "metadata": {
    "papermill": {
     "duration": 0.022537,
     "end_time": "2024-03-26T10:14:04.530826",
     "exception": false,
     "start_time": "2024-03-26T10:14:04.508289",
     "status": "completed"
    },
    "tags": []
   },
   "source": [
    "# Non-Linear ML Algorithms"
   ]
  },
  {
   "cell_type": "code",
   "execution_count": 38,
   "id": "bf995dd7",
   "metadata": {
    "execution": {
     "iopub.execute_input": "2024-03-26T10:14:04.574344Z",
     "iopub.status.busy": "2024-03-26T10:14:04.573729Z",
     "iopub.status.idle": "2024-03-26T10:14:04.586423Z",
     "shell.execute_reply": "2024-03-26T10:14:04.585338Z"
    },
    "papermill": {
     "duration": 0.037491,
     "end_time": "2024-03-26T10:14:04.589062",
     "exception": false,
     "start_time": "2024-03-26T10:14:04.551571",
     "status": "completed"
    },
    "tags": []
   },
   "outputs": [],
   "source": [
    "data = pd.read_csv(\"/kaggle/input/heart-disease-dataset/heart.csv\")\n",
    "data.drop_duplicates(inplace=True)"
   ]
  },
  {
   "cell_type": "code",
   "execution_count": 39,
   "id": "3d1c3892",
   "metadata": {
    "execution": {
     "iopub.execute_input": "2024-03-26T10:14:04.632450Z",
     "iopub.status.busy": "2024-03-26T10:14:04.632073Z",
     "iopub.status.idle": "2024-03-26T10:14:04.639660Z",
     "shell.execute_reply": "2024-03-26T10:14:04.638537Z"
    },
    "papermill": {
     "duration": 0.033252,
     "end_time": "2024-03-26T10:14:04.642409",
     "exception": false,
     "start_time": "2024-03-26T10:14:04.609157",
     "status": "completed"
    },
    "tags": []
   },
   "outputs": [],
   "source": [
    "X = data.drop(\"target\", axis=1)\n",
    "y = data[\"target\"]\n",
    "X_train, X_test, y_train, y_test = train_test_split(X, y, test_size=0.2, random_state=42)"
   ]
  },
  {
   "cell_type": "markdown",
   "id": "b3cfc4a0",
   "metadata": {
    "papermill": {
     "duration": 0.018381,
     "end_time": "2024-03-26T10:14:04.679968",
     "exception": false,
     "start_time": "2024-03-26T10:14:04.661587",
     "status": "completed"
    },
    "tags": []
   },
   "source": [
    "# Decision Tree Classifier"
   ]
  },
  {
   "cell_type": "code",
   "execution_count": 40,
   "id": "30be73f9",
   "metadata": {
    "execution": {
     "iopub.execute_input": "2024-03-26T10:14:04.719188Z",
     "iopub.status.busy": "2024-03-26T10:14:04.718736Z",
     "iopub.status.idle": "2024-03-26T10:14:04.766303Z",
     "shell.execute_reply": "2024-03-26T10:14:04.765179Z"
    },
    "papermill": {
     "duration": 0.070228,
     "end_time": "2024-03-26T10:14:04.768908",
     "exception": false,
     "start_time": "2024-03-26T10:14:04.698680",
     "status": "completed"
    },
    "tags": []
   },
   "outputs": [],
   "source": [
    "from sklearn.tree import DecisionTreeClassifier"
   ]
  },
  {
   "cell_type": "code",
   "execution_count": 41,
   "id": "d3a994ed",
   "metadata": {
    "execution": {
     "iopub.execute_input": "2024-03-26T10:14:04.810474Z",
     "iopub.status.busy": "2024-03-26T10:14:04.809291Z",
     "iopub.status.idle": "2024-03-26T10:14:04.822764Z",
     "shell.execute_reply": "2024-03-26T10:14:04.821587Z"
    },
    "papermill": {
     "duration": 0.03749,
     "end_time": "2024-03-26T10:14:04.825372",
     "exception": false,
     "start_time": "2024-03-26T10:14:04.787882",
     "status": "completed"
    },
    "tags": []
   },
   "outputs": [
    {
     "data": {
      "text/html": [
       "<style>#sk-container-id-4 {color: black;background-color: white;}#sk-container-id-4 pre{padding: 0;}#sk-container-id-4 div.sk-toggleable {background-color: white;}#sk-container-id-4 label.sk-toggleable__label {cursor: pointer;display: block;width: 100%;margin-bottom: 0;padding: 0.3em;box-sizing: border-box;text-align: center;}#sk-container-id-4 label.sk-toggleable__label-arrow:before {content: \"▸\";float: left;margin-right: 0.25em;color: #696969;}#sk-container-id-4 label.sk-toggleable__label-arrow:hover:before {color: black;}#sk-container-id-4 div.sk-estimator:hover label.sk-toggleable__label-arrow:before {color: black;}#sk-container-id-4 div.sk-toggleable__content {max-height: 0;max-width: 0;overflow: hidden;text-align: left;background-color: #f0f8ff;}#sk-container-id-4 div.sk-toggleable__content pre {margin: 0.2em;color: black;border-radius: 0.25em;background-color: #f0f8ff;}#sk-container-id-4 input.sk-toggleable__control:checked~div.sk-toggleable__content {max-height: 200px;max-width: 100%;overflow: auto;}#sk-container-id-4 input.sk-toggleable__control:checked~label.sk-toggleable__label-arrow:before {content: \"▾\";}#sk-container-id-4 div.sk-estimator input.sk-toggleable__control:checked~label.sk-toggleable__label {background-color: #d4ebff;}#sk-container-id-4 div.sk-label input.sk-toggleable__control:checked~label.sk-toggleable__label {background-color: #d4ebff;}#sk-container-id-4 input.sk-hidden--visually {border: 0;clip: rect(1px 1px 1px 1px);clip: rect(1px, 1px, 1px, 1px);height: 1px;margin: -1px;overflow: hidden;padding: 0;position: absolute;width: 1px;}#sk-container-id-4 div.sk-estimator {font-family: monospace;background-color: #f0f8ff;border: 1px dotted black;border-radius: 0.25em;box-sizing: border-box;margin-bottom: 0.5em;}#sk-container-id-4 div.sk-estimator:hover {background-color: #d4ebff;}#sk-container-id-4 div.sk-parallel-item::after {content: \"\";width: 100%;border-bottom: 1px solid gray;flex-grow: 1;}#sk-container-id-4 div.sk-label:hover label.sk-toggleable__label {background-color: #d4ebff;}#sk-container-id-4 div.sk-serial::before {content: \"\";position: absolute;border-left: 1px solid gray;box-sizing: border-box;top: 0;bottom: 0;left: 50%;z-index: 0;}#sk-container-id-4 div.sk-serial {display: flex;flex-direction: column;align-items: center;background-color: white;padding-right: 0.2em;padding-left: 0.2em;position: relative;}#sk-container-id-4 div.sk-item {position: relative;z-index: 1;}#sk-container-id-4 div.sk-parallel {display: flex;align-items: stretch;justify-content: center;background-color: white;position: relative;}#sk-container-id-4 div.sk-item::before, #sk-container-id-4 div.sk-parallel-item::before {content: \"\";position: absolute;border-left: 1px solid gray;box-sizing: border-box;top: 0;bottom: 0;left: 50%;z-index: -1;}#sk-container-id-4 div.sk-parallel-item {display: flex;flex-direction: column;z-index: 1;position: relative;background-color: white;}#sk-container-id-4 div.sk-parallel-item:first-child::after {align-self: flex-end;width: 50%;}#sk-container-id-4 div.sk-parallel-item:last-child::after {align-self: flex-start;width: 50%;}#sk-container-id-4 div.sk-parallel-item:only-child::after {width: 0;}#sk-container-id-4 div.sk-dashed-wrapped {border: 1px dashed gray;margin: 0 0.4em 0.5em 0.4em;box-sizing: border-box;padding-bottom: 0.4em;background-color: white;}#sk-container-id-4 div.sk-label label {font-family: monospace;font-weight: bold;display: inline-block;line-height: 1.2em;}#sk-container-id-4 div.sk-label-container {text-align: center;}#sk-container-id-4 div.sk-container {/* jupyter's `normalize.less` sets `[hidden] { display: none; }` but bootstrap.min.css set `[hidden] { display: none !important; }` so we also need the `!important` here to be able to override the default hidden behavior on the sphinx rendered scikit-learn.org. See: https://github.com/scikit-learn/scikit-learn/issues/21755 */display: inline-block !important;position: relative;}#sk-container-id-4 div.sk-text-repr-fallback {display: none;}</style><div id=\"sk-container-id-4\" class=\"sk-top-container\"><div class=\"sk-text-repr-fallback\"><pre>DecisionTreeClassifier()</pre><b>In a Jupyter environment, please rerun this cell to show the HTML representation or trust the notebook. <br />On GitHub, the HTML representation is unable to render, please try loading this page with nbviewer.org.</b></div><div class=\"sk-container\" hidden><div class=\"sk-item\"><div class=\"sk-estimator sk-toggleable\"><input class=\"sk-toggleable__control sk-hidden--visually\" id=\"sk-estimator-id-4\" type=\"checkbox\" checked><label for=\"sk-estimator-id-4\" class=\"sk-toggleable__label sk-toggleable__label-arrow\">DecisionTreeClassifier</label><div class=\"sk-toggleable__content\"><pre>DecisionTreeClassifier()</pre></div></div></div></div></div>"
      ],
      "text/plain": [
       "DecisionTreeClassifier()"
      ]
     },
     "execution_count": 41,
     "metadata": {},
     "output_type": "execute_result"
    }
   ],
   "source": [
    "dt = DecisionTreeClassifier()\n",
    "dt.fit(X_train, y_train)"
   ]
  },
  {
   "cell_type": "code",
   "execution_count": 42,
   "id": "112ec236",
   "metadata": {
    "execution": {
     "iopub.execute_input": "2024-03-26T10:14:04.867217Z",
     "iopub.status.busy": "2024-03-26T10:14:04.866060Z",
     "iopub.status.idle": "2024-03-26T10:14:04.874506Z",
     "shell.execute_reply": "2024-03-26T10:14:04.873305Z"
    },
    "papermill": {
     "duration": 0.031658,
     "end_time": "2024-03-26T10:14:04.877054",
     "exception": false,
     "start_time": "2024-03-26T10:14:04.845396",
     "status": "completed"
    },
    "tags": []
   },
   "outputs": [],
   "source": [
    "y_pred4 = dt.predict(X_test)"
   ]
  },
  {
   "cell_type": "code",
   "execution_count": 43,
   "id": "aa990db8",
   "metadata": {
    "execution": {
     "iopub.execute_input": "2024-03-26T10:14:04.916939Z",
     "iopub.status.busy": "2024-03-26T10:14:04.916496Z",
     "iopub.status.idle": "2024-03-26T10:14:04.925587Z",
     "shell.execute_reply": "2024-03-26T10:14:04.924524Z"
    },
    "papermill": {
     "duration": 0.031452,
     "end_time": "2024-03-26T10:14:04.927706",
     "exception": false,
     "start_time": "2024-03-26T10:14:04.896254",
     "status": "completed"
    },
    "tags": []
   },
   "outputs": [
    {
     "data": {
      "text/plain": [
       "0.7704918032786885"
      ]
     },
     "execution_count": 43,
     "metadata": {},
     "output_type": "execute_result"
    }
   ],
   "source": [
    "accuracy_score(y_true=y_test, y_pred=y_pred4)"
   ]
  },
  {
   "cell_type": "markdown",
   "id": "554887ab",
   "metadata": {
    "papermill": {
     "duration": 0.0192,
     "end_time": "2024-03-26T10:14:04.966177",
     "exception": false,
     "start_time": "2024-03-26T10:14:04.946977",
     "status": "completed"
    },
    "tags": []
   },
   "source": [
    "# Random Forest Classifier"
   ]
  },
  {
   "cell_type": "code",
   "execution_count": 44,
   "id": "268a2e54",
   "metadata": {
    "execution": {
     "iopub.execute_input": "2024-03-26T10:14:05.005990Z",
     "iopub.status.busy": "2024-03-26T10:14:05.005387Z",
     "iopub.status.idle": "2024-03-26T10:14:05.089385Z",
     "shell.execute_reply": "2024-03-26T10:14:05.088303Z"
    },
    "papermill": {
     "duration": 0.107964,
     "end_time": "2024-03-26T10:14:05.092988",
     "exception": false,
     "start_time": "2024-03-26T10:14:04.985024",
     "status": "completed"
    },
    "tags": []
   },
   "outputs": [],
   "source": [
    "from sklearn.ensemble import RandomForestClassifier"
   ]
  },
  {
   "cell_type": "code",
   "execution_count": 45,
   "id": "2bdd01fa",
   "metadata": {
    "execution": {
     "iopub.execute_input": "2024-03-26T10:14:05.133382Z",
     "iopub.status.busy": "2024-03-26T10:14:05.132608Z",
     "iopub.status.idle": "2024-03-26T10:14:05.330228Z",
     "shell.execute_reply": "2024-03-26T10:14:05.329051Z"
    },
    "papermill": {
     "duration": 0.220421,
     "end_time": "2024-03-26T10:14:05.332590",
     "exception": false,
     "start_time": "2024-03-26T10:14:05.112169",
     "status": "completed"
    },
    "tags": []
   },
   "outputs": [
    {
     "data": {
      "text/html": [
       "<style>#sk-container-id-5 {color: black;background-color: white;}#sk-container-id-5 pre{padding: 0;}#sk-container-id-5 div.sk-toggleable {background-color: white;}#sk-container-id-5 label.sk-toggleable__label {cursor: pointer;display: block;width: 100%;margin-bottom: 0;padding: 0.3em;box-sizing: border-box;text-align: center;}#sk-container-id-5 label.sk-toggleable__label-arrow:before {content: \"▸\";float: left;margin-right: 0.25em;color: #696969;}#sk-container-id-5 label.sk-toggleable__label-arrow:hover:before {color: black;}#sk-container-id-5 div.sk-estimator:hover label.sk-toggleable__label-arrow:before {color: black;}#sk-container-id-5 div.sk-toggleable__content {max-height: 0;max-width: 0;overflow: hidden;text-align: left;background-color: #f0f8ff;}#sk-container-id-5 div.sk-toggleable__content pre {margin: 0.2em;color: black;border-radius: 0.25em;background-color: #f0f8ff;}#sk-container-id-5 input.sk-toggleable__control:checked~div.sk-toggleable__content {max-height: 200px;max-width: 100%;overflow: auto;}#sk-container-id-5 input.sk-toggleable__control:checked~label.sk-toggleable__label-arrow:before {content: \"▾\";}#sk-container-id-5 div.sk-estimator input.sk-toggleable__control:checked~label.sk-toggleable__label {background-color: #d4ebff;}#sk-container-id-5 div.sk-label input.sk-toggleable__control:checked~label.sk-toggleable__label {background-color: #d4ebff;}#sk-container-id-5 input.sk-hidden--visually {border: 0;clip: rect(1px 1px 1px 1px);clip: rect(1px, 1px, 1px, 1px);height: 1px;margin: -1px;overflow: hidden;padding: 0;position: absolute;width: 1px;}#sk-container-id-5 div.sk-estimator {font-family: monospace;background-color: #f0f8ff;border: 1px dotted black;border-radius: 0.25em;box-sizing: border-box;margin-bottom: 0.5em;}#sk-container-id-5 div.sk-estimator:hover {background-color: #d4ebff;}#sk-container-id-5 div.sk-parallel-item::after {content: \"\";width: 100%;border-bottom: 1px solid gray;flex-grow: 1;}#sk-container-id-5 div.sk-label:hover label.sk-toggleable__label {background-color: #d4ebff;}#sk-container-id-5 div.sk-serial::before {content: \"\";position: absolute;border-left: 1px solid gray;box-sizing: border-box;top: 0;bottom: 0;left: 50%;z-index: 0;}#sk-container-id-5 div.sk-serial {display: flex;flex-direction: column;align-items: center;background-color: white;padding-right: 0.2em;padding-left: 0.2em;position: relative;}#sk-container-id-5 div.sk-item {position: relative;z-index: 1;}#sk-container-id-5 div.sk-parallel {display: flex;align-items: stretch;justify-content: center;background-color: white;position: relative;}#sk-container-id-5 div.sk-item::before, #sk-container-id-5 div.sk-parallel-item::before {content: \"\";position: absolute;border-left: 1px solid gray;box-sizing: border-box;top: 0;bottom: 0;left: 50%;z-index: -1;}#sk-container-id-5 div.sk-parallel-item {display: flex;flex-direction: column;z-index: 1;position: relative;background-color: white;}#sk-container-id-5 div.sk-parallel-item:first-child::after {align-self: flex-end;width: 50%;}#sk-container-id-5 div.sk-parallel-item:last-child::after {align-self: flex-start;width: 50%;}#sk-container-id-5 div.sk-parallel-item:only-child::after {width: 0;}#sk-container-id-5 div.sk-dashed-wrapped {border: 1px dashed gray;margin: 0 0.4em 0.5em 0.4em;box-sizing: border-box;padding-bottom: 0.4em;background-color: white;}#sk-container-id-5 div.sk-label label {font-family: monospace;font-weight: bold;display: inline-block;line-height: 1.2em;}#sk-container-id-5 div.sk-label-container {text-align: center;}#sk-container-id-5 div.sk-container {/* jupyter's `normalize.less` sets `[hidden] { display: none; }` but bootstrap.min.css set `[hidden] { display: none !important; }` so we also need the `!important` here to be able to override the default hidden behavior on the sphinx rendered scikit-learn.org. See: https://github.com/scikit-learn/scikit-learn/issues/21755 */display: inline-block !important;position: relative;}#sk-container-id-5 div.sk-text-repr-fallback {display: none;}</style><div id=\"sk-container-id-5\" class=\"sk-top-container\"><div class=\"sk-text-repr-fallback\"><pre>RandomForestClassifier()</pre><b>In a Jupyter environment, please rerun this cell to show the HTML representation or trust the notebook. <br />On GitHub, the HTML representation is unable to render, please try loading this page with nbviewer.org.</b></div><div class=\"sk-container\" hidden><div class=\"sk-item\"><div class=\"sk-estimator sk-toggleable\"><input class=\"sk-toggleable__control sk-hidden--visually\" id=\"sk-estimator-id-5\" type=\"checkbox\" checked><label for=\"sk-estimator-id-5\" class=\"sk-toggleable__label sk-toggleable__label-arrow\">RandomForestClassifier</label><div class=\"sk-toggleable__content\"><pre>RandomForestClassifier()</pre></div></div></div></div></div>"
      ],
      "text/plain": [
       "RandomForestClassifier()"
      ]
     },
     "execution_count": 45,
     "metadata": {},
     "output_type": "execute_result"
    }
   ],
   "source": [
    "rf = RandomForestClassifier()\n",
    "rf.fit(X_train, y_train)"
   ]
  },
  {
   "cell_type": "code",
   "execution_count": 46,
   "id": "ef1a9ded",
   "metadata": {
    "execution": {
     "iopub.execute_input": "2024-03-26T10:14:05.373721Z",
     "iopub.status.busy": "2024-03-26T10:14:05.373060Z",
     "iopub.status.idle": "2024-03-26T10:14:05.386426Z",
     "shell.execute_reply": "2024-03-26T10:14:05.385295Z"
    },
    "papermill": {
     "duration": 0.03681,
     "end_time": "2024-03-26T10:14:05.388904",
     "exception": false,
     "start_time": "2024-03-26T10:14:05.352094",
     "status": "completed"
    },
    "tags": []
   },
   "outputs": [],
   "source": [
    "y_pred5 = rf.predict(X_test)"
   ]
  },
  {
   "cell_type": "code",
   "execution_count": 47,
   "id": "49275293",
   "metadata": {
    "execution": {
     "iopub.execute_input": "2024-03-26T10:14:05.430487Z",
     "iopub.status.busy": "2024-03-26T10:14:05.429807Z",
     "iopub.status.idle": "2024-03-26T10:14:05.436443Z",
     "shell.execute_reply": "2024-03-26T10:14:05.435631Z"
    },
    "papermill": {
     "duration": 0.030643,
     "end_time": "2024-03-26T10:14:05.438577",
     "exception": false,
     "start_time": "2024-03-26T10:14:05.407934",
     "status": "completed"
    },
    "tags": []
   },
   "outputs": [
    {
     "data": {
      "text/plain": [
       "0.8524590163934426"
      ]
     },
     "execution_count": 47,
     "metadata": {},
     "output_type": "execute_result"
    }
   ],
   "source": [
    "accuracy_score(y_true=y_test, y_pred=y_pred5)"
   ]
  },
  {
   "cell_type": "markdown",
   "id": "3e8bd248",
   "metadata": {
    "papermill": {
     "duration": 0.019384,
     "end_time": "2024-03-26T10:14:05.478061",
     "exception": false,
     "start_time": "2024-03-26T10:14:05.458677",
     "status": "completed"
    },
    "tags": []
   },
   "source": [
    "# Gradient Boosting Classifier"
   ]
  },
  {
   "cell_type": "code",
   "execution_count": 48,
   "id": "80bb6ba4",
   "metadata": {
    "execution": {
     "iopub.execute_input": "2024-03-26T10:14:05.520470Z",
     "iopub.status.busy": "2024-03-26T10:14:05.519805Z",
     "iopub.status.idle": "2024-03-26T10:14:05.524161Z",
     "shell.execute_reply": "2024-03-26T10:14:05.523225Z"
    },
    "papermill": {
     "duration": 0.028617,
     "end_time": "2024-03-26T10:14:05.526494",
     "exception": false,
     "start_time": "2024-03-26T10:14:05.497877",
     "status": "completed"
    },
    "tags": []
   },
   "outputs": [],
   "source": [
    "from sklearn.ensemble import GradientBoostingClassifier"
   ]
  },
  {
   "cell_type": "code",
   "execution_count": 49,
   "id": "4292a520",
   "metadata": {
    "execution": {
     "iopub.execute_input": "2024-03-26T10:14:05.570606Z",
     "iopub.status.busy": "2024-03-26T10:14:05.569906Z",
     "iopub.status.idle": "2024-03-26T10:14:05.684216Z",
     "shell.execute_reply": "2024-03-26T10:14:05.683000Z"
    },
    "papermill": {
     "duration": 0.138795,
     "end_time": "2024-03-26T10:14:05.686723",
     "exception": false,
     "start_time": "2024-03-26T10:14:05.547928",
     "status": "completed"
    },
    "tags": []
   },
   "outputs": [
    {
     "data": {
      "text/html": [
       "<style>#sk-container-id-6 {color: black;background-color: white;}#sk-container-id-6 pre{padding: 0;}#sk-container-id-6 div.sk-toggleable {background-color: white;}#sk-container-id-6 label.sk-toggleable__label {cursor: pointer;display: block;width: 100%;margin-bottom: 0;padding: 0.3em;box-sizing: border-box;text-align: center;}#sk-container-id-6 label.sk-toggleable__label-arrow:before {content: \"▸\";float: left;margin-right: 0.25em;color: #696969;}#sk-container-id-6 label.sk-toggleable__label-arrow:hover:before {color: black;}#sk-container-id-6 div.sk-estimator:hover label.sk-toggleable__label-arrow:before {color: black;}#sk-container-id-6 div.sk-toggleable__content {max-height: 0;max-width: 0;overflow: hidden;text-align: left;background-color: #f0f8ff;}#sk-container-id-6 div.sk-toggleable__content pre {margin: 0.2em;color: black;border-radius: 0.25em;background-color: #f0f8ff;}#sk-container-id-6 input.sk-toggleable__control:checked~div.sk-toggleable__content {max-height: 200px;max-width: 100%;overflow: auto;}#sk-container-id-6 input.sk-toggleable__control:checked~label.sk-toggleable__label-arrow:before {content: \"▾\";}#sk-container-id-6 div.sk-estimator input.sk-toggleable__control:checked~label.sk-toggleable__label {background-color: #d4ebff;}#sk-container-id-6 div.sk-label input.sk-toggleable__control:checked~label.sk-toggleable__label {background-color: #d4ebff;}#sk-container-id-6 input.sk-hidden--visually {border: 0;clip: rect(1px 1px 1px 1px);clip: rect(1px, 1px, 1px, 1px);height: 1px;margin: -1px;overflow: hidden;padding: 0;position: absolute;width: 1px;}#sk-container-id-6 div.sk-estimator {font-family: monospace;background-color: #f0f8ff;border: 1px dotted black;border-radius: 0.25em;box-sizing: border-box;margin-bottom: 0.5em;}#sk-container-id-6 div.sk-estimator:hover {background-color: #d4ebff;}#sk-container-id-6 div.sk-parallel-item::after {content: \"\";width: 100%;border-bottom: 1px solid gray;flex-grow: 1;}#sk-container-id-6 div.sk-label:hover label.sk-toggleable__label {background-color: #d4ebff;}#sk-container-id-6 div.sk-serial::before {content: \"\";position: absolute;border-left: 1px solid gray;box-sizing: border-box;top: 0;bottom: 0;left: 50%;z-index: 0;}#sk-container-id-6 div.sk-serial {display: flex;flex-direction: column;align-items: center;background-color: white;padding-right: 0.2em;padding-left: 0.2em;position: relative;}#sk-container-id-6 div.sk-item {position: relative;z-index: 1;}#sk-container-id-6 div.sk-parallel {display: flex;align-items: stretch;justify-content: center;background-color: white;position: relative;}#sk-container-id-6 div.sk-item::before, #sk-container-id-6 div.sk-parallel-item::before {content: \"\";position: absolute;border-left: 1px solid gray;box-sizing: border-box;top: 0;bottom: 0;left: 50%;z-index: -1;}#sk-container-id-6 div.sk-parallel-item {display: flex;flex-direction: column;z-index: 1;position: relative;background-color: white;}#sk-container-id-6 div.sk-parallel-item:first-child::after {align-self: flex-end;width: 50%;}#sk-container-id-6 div.sk-parallel-item:last-child::after {align-self: flex-start;width: 50%;}#sk-container-id-6 div.sk-parallel-item:only-child::after {width: 0;}#sk-container-id-6 div.sk-dashed-wrapped {border: 1px dashed gray;margin: 0 0.4em 0.5em 0.4em;box-sizing: border-box;padding-bottom: 0.4em;background-color: white;}#sk-container-id-6 div.sk-label label {font-family: monospace;font-weight: bold;display: inline-block;line-height: 1.2em;}#sk-container-id-6 div.sk-label-container {text-align: center;}#sk-container-id-6 div.sk-container {/* jupyter's `normalize.less` sets `[hidden] { display: none; }` but bootstrap.min.css set `[hidden] { display: none !important; }` so we also need the `!important` here to be able to override the default hidden behavior on the sphinx rendered scikit-learn.org. See: https://github.com/scikit-learn/scikit-learn/issues/21755 */display: inline-block !important;position: relative;}#sk-container-id-6 div.sk-text-repr-fallback {display: none;}</style><div id=\"sk-container-id-6\" class=\"sk-top-container\"><div class=\"sk-text-repr-fallback\"><pre>GradientBoostingClassifier()</pre><b>In a Jupyter environment, please rerun this cell to show the HTML representation or trust the notebook. <br />On GitHub, the HTML representation is unable to render, please try loading this page with nbviewer.org.</b></div><div class=\"sk-container\" hidden><div class=\"sk-item\"><div class=\"sk-estimator sk-toggleable\"><input class=\"sk-toggleable__control sk-hidden--visually\" id=\"sk-estimator-id-6\" type=\"checkbox\" checked><label for=\"sk-estimator-id-6\" class=\"sk-toggleable__label sk-toggleable__label-arrow\">GradientBoostingClassifier</label><div class=\"sk-toggleable__content\"><pre>GradientBoostingClassifier()</pre></div></div></div></div></div>"
      ],
      "text/plain": [
       "GradientBoostingClassifier()"
      ]
     },
     "execution_count": 49,
     "metadata": {},
     "output_type": "execute_result"
    }
   ],
   "source": [
    "gbc = GradientBoostingClassifier()\n",
    "gbc.fit(X_train, y_train)"
   ]
  },
  {
   "cell_type": "code",
   "execution_count": 50,
   "id": "91f4b4e1",
   "metadata": {
    "execution": {
     "iopub.execute_input": "2024-03-26T10:14:05.728140Z",
     "iopub.status.busy": "2024-03-26T10:14:05.727129Z",
     "iopub.status.idle": "2024-03-26T10:14:05.735674Z",
     "shell.execute_reply": "2024-03-26T10:14:05.734341Z"
    },
    "papermill": {
     "duration": 0.032006,
     "end_time": "2024-03-26T10:14:05.738063",
     "exception": false,
     "start_time": "2024-03-26T10:14:05.706057",
     "status": "completed"
    },
    "tags": []
   },
   "outputs": [],
   "source": [
    "y_pred6 = gbc.predict(X_test)"
   ]
  },
  {
   "cell_type": "code",
   "execution_count": 51,
   "id": "02cb4c31",
   "metadata": {
    "execution": {
     "iopub.execute_input": "2024-03-26T10:14:05.784038Z",
     "iopub.status.busy": "2024-03-26T10:14:05.783631Z",
     "iopub.status.idle": "2024-03-26T10:14:05.793073Z",
     "shell.execute_reply": "2024-03-26T10:14:05.791684Z"
    },
    "papermill": {
     "duration": 0.036101,
     "end_time": "2024-03-26T10:14:05.796066",
     "exception": false,
     "start_time": "2024-03-26T10:14:05.759965",
     "status": "completed"
    },
    "tags": []
   },
   "outputs": [
    {
     "data": {
      "text/plain": [
       "0.8032786885245902"
      ]
     },
     "execution_count": 51,
     "metadata": {},
     "output_type": "execute_result"
    }
   ],
   "source": [
    "accuracy_score(y_true=y_test, y_pred=y_pred6)"
   ]
  },
  {
   "cell_type": "markdown",
   "id": "70ba4cf0",
   "metadata": {
    "papermill": {
     "duration": 0.02074,
     "end_time": "2024-03-26T10:14:05.839577",
     "exception": false,
     "start_time": "2024-03-26T10:14:05.818837",
     "status": "completed"
    },
    "tags": []
   },
   "source": [
    "# BarPlot\n"
   ]
  },
  {
   "cell_type": "code",
   "execution_count": 52,
   "id": "0b30bd03",
   "metadata": {
    "execution": {
     "iopub.execute_input": "2024-03-26T10:14:05.887429Z",
     "iopub.status.busy": "2024-03-26T10:14:05.886976Z",
     "iopub.status.idle": "2024-03-26T10:14:05.907422Z",
     "shell.execute_reply": "2024-03-26T10:14:05.906045Z"
    },
    "papermill": {
     "duration": 0.047905,
     "end_time": "2024-03-26T10:14:05.909925",
     "exception": false,
     "start_time": "2024-03-26T10:14:05.862020",
     "status": "completed"
    },
    "tags": []
   },
   "outputs": [
    {
     "data": {
      "text/html": [
       "<div>\n",
       "<style scoped>\n",
       "    .dataframe tbody tr th:only-of-type {\n",
       "        vertical-align: middle;\n",
       "    }\n",
       "\n",
       "    .dataframe tbody tr th {\n",
       "        vertical-align: top;\n",
       "    }\n",
       "\n",
       "    .dataframe thead th {\n",
       "        text-align: right;\n",
       "    }\n",
       "</style>\n",
       "<table border=\"1\" class=\"dataframe\">\n",
       "  <thead>\n",
       "    <tr style=\"text-align: right;\">\n",
       "      <th></th>\n",
       "      <th>Models</th>\n",
       "      <th>ACC</th>\n",
       "    </tr>\n",
       "  </thead>\n",
       "  <tbody>\n",
       "    <tr>\n",
       "      <th>0</th>\n",
       "      <td>LR</td>\n",
       "      <td>0.786885</td>\n",
       "    </tr>\n",
       "    <tr>\n",
       "      <th>1</th>\n",
       "      <td>SVM</td>\n",
       "      <td>0.803279</td>\n",
       "    </tr>\n",
       "    <tr>\n",
       "      <th>2</th>\n",
       "      <td>KNN</td>\n",
       "      <td>0.803279</td>\n",
       "    </tr>\n",
       "    <tr>\n",
       "      <th>3</th>\n",
       "      <td>DT</td>\n",
       "      <td>0.770492</td>\n",
       "    </tr>\n",
       "    <tr>\n",
       "      <th>4</th>\n",
       "      <td>RF</td>\n",
       "      <td>0.852459</td>\n",
       "    </tr>\n",
       "    <tr>\n",
       "      <th>5</th>\n",
       "      <td>GB</td>\n",
       "      <td>0.803279</td>\n",
       "    </tr>\n",
       "  </tbody>\n",
       "</table>\n",
       "</div>"
      ],
      "text/plain": [
       "  Models       ACC\n",
       "0     LR  0.786885\n",
       "1    SVM  0.803279\n",
       "2    KNN  0.803279\n",
       "3     DT  0.770492\n",
       "4     RF  0.852459\n",
       "5     GB  0.803279"
      ]
     },
     "execution_count": 52,
     "metadata": {},
     "output_type": "execute_result"
    }
   ],
   "source": [
    "final_data = pd.DataFrame(\n",
    "    data={\n",
    "        \"Models\": [\"LR\", \"SVM\", \"KNN\", \"DT\", \"RF\", \"GB\"],\n",
    "        \"ACC\": [\n",
    "            accuracy_score(y_true=y_test, y_pred=y_pred),\n",
    "            accuracy_score(y_true=y_test, y_pred=y_pred2),\n",
    "            accuracy_score(y_true=y_test, y_pred=y_pred3),\n",
    "            accuracy_score(y_true=y_test, y_pred=y_pred4),\n",
    "            accuracy_score(y_true=y_test, y_pred=y_pred5),\n",
    "            accuracy_score(y_true=y_test, y_pred=y_pred6)\n",
    "        ]\n",
    "    }\n",
    ")\n",
    "final_data"
   ]
  },
  {
   "cell_type": "markdown",
   "id": "b7a17af6",
   "metadata": {
    "papermill": {
     "duration": 0.021249,
     "end_time": "2024-03-26T10:14:05.952188",
     "exception": false,
     "start_time": "2024-03-26T10:14:05.930939",
     "status": "completed"
    },
    "tags": []
   },
   "source": [
    "# DATA VIZ"
   ]
  },
  {
   "cell_type": "code",
   "execution_count": 53,
   "id": "a9c25ff8",
   "metadata": {
    "execution": {
     "iopub.execute_input": "2024-03-26T10:14:05.994613Z",
     "iopub.status.busy": "2024-03-26T10:14:05.994186Z",
     "iopub.status.idle": "2024-03-26T10:14:06.235051Z",
     "shell.execute_reply": "2024-03-26T10:14:06.233155Z"
    },
    "papermill": {
     "duration": 0.266039,
     "end_time": "2024-03-26T10:14:06.237975",
     "exception": false,
     "start_time": "2024-03-26T10:14:05.971936",
     "status": "completed"
    },
    "tags": []
   },
   "outputs": [
    {
     "data": {
      "image/png": "[encoded data removed]",
      "text/plain": [
       "<Figure size 640x480 with 1 Axes>"
      ]
     },
     "metadata": {},
     "output_type": "display_data"
    }
   ],
   "source": [
    "sns.barplot(data=final_data, x=\"Models\", y=\"ACC\");"
   ]
  },
  {
   "cell_type": "code",
   "execution_count": 54,
   "id": "bcb2e672",
   "metadata": {
    "execution": {
     "iopub.execute_input": "2024-03-26T10:14:06.284823Z",
     "iopub.status.busy": "2024-03-26T10:14:06.284411Z",
     "iopub.status.idle": "2024-03-26T10:14:06.292555Z",
     "shell.execute_reply": "2024-03-26T10:14:06.290484Z"
    },
    "papermill": {
     "duration": 0.034284,
     "end_time": "2024-03-26T10:14:06.295421",
     "exception": false,
     "start_time": "2024-03-26T10:14:06.261137",
     "status": "completed"
    },
    "tags": []
   },
   "outputs": [],
   "source": [
    "X = data.drop(\"target\", axis=1)\n",
    "y = data[\"target\"]"
   ]
  },
  {
   "cell_type": "code",
   "execution_count": 55,
   "id": "1b825c53",
   "metadata": {
    "execution": {
     "iopub.execute_input": "2024-03-26T10:14:06.343433Z",
     "iopub.status.busy": "2024-03-26T10:14:06.342923Z",
     "iopub.status.idle": "2024-03-26T10:14:06.553853Z",
     "shell.execute_reply": "2024-03-26T10:14:06.552720Z"
    },
    "papermill": {
     "duration": 0.236881,
     "end_time": "2024-03-26T10:14:06.556329",
     "exception": false,
     "start_time": "2024-03-26T10:14:06.319448",
     "status": "completed"
    },
    "tags": []
   },
   "outputs": [
    {
     "data": {
      "text/html": [
       "<style>#sk-container-id-7 {color: black;background-color: white;}#sk-container-id-7 pre{padding: 0;}#sk-container-id-7 div.sk-toggleable {background-color: white;}#sk-container-id-7 label.sk-toggleable__label {cursor: pointer;display: block;width: 100%;margin-bottom: 0;padding: 0.3em;box-sizing: border-box;text-align: center;}#sk-container-id-7 label.sk-toggleable__label-arrow:before {content: \"▸\";float: left;margin-right: 0.25em;color: #696969;}#sk-container-id-7 label.sk-toggleable__label-arrow:hover:before {color: black;}#sk-container-id-7 div.sk-estimator:hover label.sk-toggleable__label-arrow:before {color: black;}#sk-container-id-7 div.sk-toggleable__content {max-height: 0;max-width: 0;overflow: hidden;text-align: left;background-color: #f0f8ff;}#sk-container-id-7 div.sk-toggleable__content pre {margin: 0.2em;color: black;border-radius: 0.25em;background-color: #f0f8ff;}#sk-container-id-7 input.sk-toggleable__control:checked~div.sk-toggleable__content {max-height: 200px;max-width: 100%;overflow: auto;}#sk-container-id-7 input.sk-toggleable__control:checked~label.sk-toggleable__label-arrow:before {content: \"▾\";}#sk-container-id-7 div.sk-estimator input.sk-toggleable__control:checked~label.sk-toggleable__label {background-color: #d4ebff;}#sk-container-id-7 div.sk-label input.sk-toggleable__control:checked~label.sk-toggleable__label {background-color: #d4ebff;}#sk-container-id-7 input.sk-hidden--visually {border: 0;clip: rect(1px 1px 1px 1px);clip: rect(1px, 1px, 1px, 1px);height: 1px;margin: -1px;overflow: hidden;padding: 0;position: absolute;width: 1px;}#sk-container-id-7 div.sk-estimator {font-family: monospace;background-color: #f0f8ff;border: 1px dotted black;border-radius: 0.25em;box-sizing: border-box;margin-bottom: 0.5em;}#sk-container-id-7 div.sk-estimator:hover {background-color: #d4ebff;}#sk-container-id-7 div.sk-parallel-item::after {content: \"\";width: 100%;border-bottom: 1px solid gray;flex-grow: 1;}#sk-container-id-7 div.sk-label:hover label.sk-toggleable__label {background-color: #d4ebff;}#sk-container-id-7 div.sk-serial::before {content: \"\";position: absolute;border-left: 1px solid gray;box-sizing: border-box;top: 0;bottom: 0;left: 50%;z-index: 0;}#sk-container-id-7 div.sk-serial {display: flex;flex-direction: column;align-items: center;background-color: white;padding-right: 0.2em;padding-left: 0.2em;position: relative;}#sk-container-id-7 div.sk-item {position: relative;z-index: 1;}#sk-container-id-7 div.sk-parallel {display: flex;align-items: stretch;justify-content: center;background-color: white;position: relative;}#sk-container-id-7 div.sk-item::before, #sk-container-id-7 div.sk-parallel-item::before {content: \"\";position: absolute;border-left: 1px solid gray;box-sizing: border-box;top: 0;bottom: 0;left: 50%;z-index: -1;}#sk-container-id-7 div.sk-parallel-item {display: flex;flex-direction: column;z-index: 1;position: relative;background-color: white;}#sk-container-id-7 div.sk-parallel-item:first-child::after {align-self: flex-end;width: 50%;}#sk-container-id-7 div.sk-parallel-item:last-child::after {align-self: flex-start;width: 50%;}#sk-container-id-7 div.sk-parallel-item:only-child::after {width: 0;}#sk-container-id-7 div.sk-dashed-wrapped {border: 1px dashed gray;margin: 0 0.4em 0.5em 0.4em;box-sizing: border-box;padding-bottom: 0.4em;background-color: white;}#sk-container-id-7 div.sk-label label {font-family: monospace;font-weight: bold;display: inline-block;line-height: 1.2em;}#sk-container-id-7 div.sk-label-container {text-align: center;}#sk-container-id-7 div.sk-container {/* jupyter's `normalize.less` sets `[hidden] { display: none; }` but bootstrap.min.css set `[hidden] { display: none !important; }` so we also need the `!important` here to be able to override the default hidden behavior on the sphinx rendered scikit-learn.org. See: https://github.com/scikit-learn/scikit-learn/issues/21755 */display: inline-block !important;position: relative;}#sk-container-id-7 div.sk-text-repr-fallback {display: none;}</style><div id=\"sk-container-id-7\" class=\"sk-top-container\"><div class=\"sk-text-repr-fallback\"><pre>RandomForestClassifier()</pre><b>In a Jupyter environment, please rerun this cell to show the HTML representation or trust the notebook. <br />On GitHub, the HTML representation is unable to render, please try loading this page with nbviewer.org.</b></div><div class=\"sk-container\" hidden><div class=\"sk-item\"><div class=\"sk-estimator sk-toggleable\"><input class=\"sk-toggleable__control sk-hidden--visually\" id=\"sk-estimator-id-7\" type=\"checkbox\" checked><label for=\"sk-estimator-id-7\" class=\"sk-toggleable__label sk-toggleable__label-arrow\">RandomForestClassifier</label><div class=\"sk-toggleable__content\"><pre>RandomForestClassifier()</pre></div></div></div></div></div>"
      ],
      "text/plain": [
       "RandomForestClassifier()"
      ]
     },
     "execution_count": 55,
     "metadata": {},
     "output_type": "execute_result"
    }
   ],
   "source": [
    "from sklearn.ensemble import RandomForestClassifier\n",
    "rf = RandomForestClassifier()\n",
    "rf.fit(X, y)"
   ]
  },
  {
   "cell_type": "markdown",
   "id": "7ad693a6",
   "metadata": {
    "papermill": {
     "duration": 0.019821,
     "end_time": "2024-03-26T10:14:06.597150",
     "exception": false,
     "start_time": "2024-03-26T10:14:06.577329",
     "status": "completed"
    },
    "tags": []
   },
   "source": [
    "# Prediction on New Data"
   ]
  },
  {
   "cell_type": "code",
   "execution_count": 56,
   "id": "56399435",
   "metadata": {
    "execution": {
     "iopub.execute_input": "2024-03-26T10:14:06.638919Z",
     "iopub.status.busy": "2024-03-26T10:14:06.638558Z",
     "iopub.status.idle": "2024-03-26T10:14:06.654483Z",
     "shell.execute_reply": "2024-03-26T10:14:06.653340Z"
    },
    "papermill": {
     "duration": 0.039646,
     "end_time": "2024-03-26T10:14:06.656832",
     "exception": false,
     "start_time": "2024-03-26T10:14:06.617186",
     "status": "completed"
    },
    "tags": []
   },
   "outputs": [
    {
     "data": {
      "text/html": [
       "<div>\n",
       "<style scoped>\n",
       "    .dataframe tbody tr th:only-of-type {\n",
       "        vertical-align: middle;\n",
       "    }\n",
       "\n",
       "    .dataframe tbody tr th {\n",
       "        vertical-align: top;\n",
       "    }\n",
       "\n",
       "    .dataframe thead th {\n",
       "        text-align: right;\n",
       "    }\n",
       "</style>\n",
       "<table border=\"1\" class=\"dataframe\">\n",
       "  <thead>\n",
       "    <tr style=\"text-align: right;\">\n",
       "      <th></th>\n",
       "      <th>age</th>\n",
       "      <th>sex</th>\n",
       "      <th>cp</th>\n",
       "      <th>trestbps</th>\n",
       "      <th>chol</th>\n",
       "      <th>fbs</th>\n",
       "      <th>restecg</th>\n",
       "      <th>thalach</th>\n",
       "      <th>exang</th>\n",
       "      <th>oldpeak</th>\n",
       "      <th>slope</th>\n",
       "      <th>ca</th>\n",
       "      <th>thal</th>\n",
       "    </tr>\n",
       "  </thead>\n",
       "  <tbody>\n",
       "    <tr>\n",
       "      <th>0</th>\n",
       "      <td>52</td>\n",
       "      <td>1</td>\n",
       "      <td>0</td>\n",
       "      <td>125</td>\n",
       "      <td>212</td>\n",
       "      <td>0</td>\n",
       "      <td>1</td>\n",
       "      <td>168</td>\n",
       "      <td>0</td>\n",
       "      <td>1</td>\n",
       "      <td>2</td>\n",
       "      <td>2</td>\n",
       "      <td>3</td>\n",
       "    </tr>\n",
       "  </tbody>\n",
       "</table>\n",
       "</div>"
      ],
      "text/plain": [
       "   age  sex  cp  trestbps  chol  fbs  restecg  thalach  exang  oldpeak  slope  \\\n",
       "0   52    1   0       125   212    0        1      168      0        1      2   \n",
       "\n",
       "   ca  thal  \n",
       "0   2     3  "
      ]
     },
     "execution_count": 56,
     "metadata": {},
     "output_type": "execute_result"
    }
   ],
   "source": [
    "\n",
    "new_data = pd.DataFrame(\n",
    "    data={\n",
    "     'age': 52,\n",
    "     'sex': 1,\n",
    "     'cp': 0,\n",
    "     'trestbps': 125,\n",
    "     'chol': 212,\n",
    "     'fbs': 0,\n",
    "     'restecg': 1,\n",
    "     'thalach': 168,\n",
    "     'exang': 0,\n",
    "     'oldpeak': 1,\n",
    "     'slope': 2,\n",
    "     'ca': 2,\n",
    "     'thal': 3,\n",
    "    },\n",
    "    index=[0]\n",
    ")\n",
    "new_data"
   ]
  },
  {
   "cell_type": "code",
   "execution_count": 57,
   "id": "a90d9ebf",
   "metadata": {
    "execution": {
     "iopub.execute_input": "2024-03-26T10:14:06.700307Z",
     "iopub.status.busy": "2024-03-26T10:14:06.699490Z",
     "iopub.status.idle": "2024-03-26T10:14:06.713887Z",
     "shell.execute_reply": "2024-03-26T10:14:06.712413Z"
    },
    "papermill": {
     "duration": 0.03883,
     "end_time": "2024-03-26T10:14:06.716135",
     "exception": false,
     "start_time": "2024-03-26T10:14:06.677305",
     "status": "completed"
    },
    "tags": []
   },
   "outputs": [
    {
     "name": "stdout",
     "output_type": "stream",
     "text": [
      "No Disease\n"
     ]
    }
   ],
   "source": [
    "p = rf.predict(new_data)\n",
    "if p[0] == 0: print(\"No Disease\")\n",
    "else: print(\"Disease\")"
   ]
  },
  {
   "cell_type": "markdown",
   "id": "ce4ec289",
   "metadata": {
    "papermill": {
     "duration": 0.020319,
     "end_time": "2024-03-26T10:14:06.757577",
     "exception": false,
     "start_time": "2024-03-26T10:14:06.737258",
     "status": "completed"
    },
    "tags": []
   },
   "source": [
    "# Save Model Usign Joblib"
   ]
  },
  {
   "cell_type": "code",
   "execution_count": 58,
   "id": "12327b82",
   "metadata": {
    "execution": {
     "iopub.execute_input": "2024-03-26T10:14:06.802810Z",
     "iopub.status.busy": "2024-03-26T10:14:06.801842Z",
     "iopub.status.idle": "2024-03-26T10:14:06.806144Z",
     "shell.execute_reply": "2024-03-26T10:14:06.805333Z"
    },
    "papermill": {
     "duration": 0.029935,
     "end_time": "2024-03-26T10:14:06.808422",
     "exception": false,
     "start_time": "2024-03-26T10:14:06.778487",
     "status": "completed"
    },
    "tags": []
   },
   "outputs": [],
   "source": [
    "import joblib"
   ]
  },
  {
   "cell_type": "code",
   "execution_count": 59,
   "id": "f98757c8",
   "metadata": {
    "execution": {
     "iopub.execute_input": "2024-03-26T10:14:06.853554Z",
     "iopub.status.busy": "2024-03-26T10:14:06.852683Z",
     "iopub.status.idle": "2024-03-26T10:14:06.916931Z",
     "shell.execute_reply": "2024-03-26T10:14:06.915655Z"
    },
    "papermill": {
     "duration": 0.089438,
     "end_time": "2024-03-26T10:14:06.919304",
     "exception": false,
     "start_time": "2024-03-26T10:14:06.829866",
     "status": "completed"
    },
    "tags": []
   },
   "outputs": [
    {
     "data": {
      "text/plain": [
       "['model_']"
      ]
     },
     "execution_count": 59,
     "metadata": {},
     "output_type": "execute_result"
    }
   ],
   "source": [
    "joblib.dump(rf, \"model_\")"
   ]
  },
  {
   "cell_type": "code",
   "execution_count": null,
   "id": "9f048147",
   "metadata": {
    "papermill": {
     "duration": 0.021427,
     "end_time": "2024-03-26T10:14:06.961863",
     "exception": false,
     "start_time": "2024-03-26T10:14:06.940436",
     "status": "completed"
    },
    "tags": []
   },
   "outputs": [],
   "source": []
  }
 ],
 "metadata": {
  "kaggle": {
   "accelerator": "none",
   "dataSources": [
    {
     "datasetId": 216167,
     "sourceId": 477177,
     "sourceType": "datasetVersion"
    }
   ],
   "dockerImageVersionId": 30673,
   "isGpuEnabled": false,
   "isInternetEnabled": true,
   "language": "python",
   "sourceType": "notebook"
  },
  "kernelspec": {
   "display_name": "Python 3",
   "language": "python",
   "name": "python3"
  },
  "language_info": {
   "codemirror_mode": {
    "name": "ipython",
    "version": 3
   },
   "file_extension": ".py",
   "mimetype": "text/x-python",
   "name": "python",
   "nbconvert_exporter": "python",
   "pygments_lexer": "ipython3",
   "version": "3.10.13"
  },
  "papermill": {
   "default_parameters": {},
   "duration": 13.128596,
   "end_time": "2024-03-26T10:14:07.704893",
   "environment_variables": {},
   "exception": null,
   "input_path": "__notebook__.ipynb",
   "output_path": "__notebook__.ipynb",
   "parameters": {},
   "start_time": "2024-03-26T10:13:54.576297",
   "version": "2.5.0"
  }
 },
 "nbformat": 4,
 "nbformat_minor": 5
}
