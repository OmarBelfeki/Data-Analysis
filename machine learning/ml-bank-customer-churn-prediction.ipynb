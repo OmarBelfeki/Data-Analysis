{
 "cells": [
  {
   "cell_type": "code",
   "execution_count": 1,
   "id": "3bdb26c9",
   "metadata": {
    "_cell_guid": "b1076dfc-b9ad-4769-8c92-a6c4dae69d19",
    "_uuid": "8f2839f25d086af736a60e9eeb907d3b93b6e0e5",
    "execution": {
     "iopub.execute_input": "2024-03-28T08:21:28.492868Z",
     "iopub.status.busy": "2024-03-28T08:21:28.492209Z",
     "iopub.status.idle": "2024-03-28T08:21:31.059129Z",
     "shell.execute_reply": "2024-03-28T08:21:31.057984Z"
    },
    "papermill": {
     "duration": 2.596359,
     "end_time": "2024-03-28T08:21:31.061955",
     "exception": false,
     "start_time": "2024-03-28T08:21:28.465596",
     "status": "completed"
    },
    "tags": []
   },
   "outputs": [],
   "source": [
    "import numpy as np\n",
    "import pandas as pd\n",
    "import seaborn as sns\n",
    "import matplotlib.pyplot as plt"
   ]
  },
  {
   "cell_type": "code",
   "execution_count": 2,
   "id": "6789a419",
   "metadata": {
    "execution": {
     "iopub.execute_input": "2024-03-28T08:21:31.114640Z",
     "iopub.status.busy": "2024-03-28T08:21:31.114070Z",
     "iopub.status.idle": "2024-03-28T08:21:31.183303Z",
     "shell.execute_reply": "2024-03-28T08:21:31.181872Z"
    },
    "papermill": {
     "duration": 0.100153,
     "end_time": "2024-03-28T08:21:31.186178",
     "exception": false,
     "start_time": "2024-03-28T08:21:31.086025",
     "status": "completed"
    },
    "tags": []
   },
   "outputs": [],
   "source": [
    "data = pd.read_csv(\"/kaggle/input/bank-customer-churn/Customer-Churn-Records.csv\")"
   ]
  },
  {
   "cell_type": "markdown",
   "id": "86db7d33",
   "metadata": {
    "papermill": {
     "duration": 0.024526,
     "end_time": "2024-03-28T08:21:31.235476",
     "exception": false,
     "start_time": "2024-03-28T08:21:31.210950",
     "status": "completed"
    },
    "tags": []
   },
   "source": [
    "# Display Top 10 Rows of The Dataset\n"
   ]
  },
  {
   "cell_type": "code",
   "execution_count": 3,
   "id": "b31ec16c",
   "metadata": {
    "execution": {
     "iopub.execute_input": "2024-03-28T08:21:31.286780Z",
     "iopub.status.busy": "2024-03-28T08:21:31.285691Z",
     "iopub.status.idle": "2024-03-28T08:21:31.317541Z",
     "shell.execute_reply": "2024-03-28T08:21:31.316346Z"
    },
    "papermill": {
     "duration": 0.060447,
     "end_time": "2024-03-28T08:21:31.320080",
     "exception": false,
     "start_time": "2024-03-28T08:21:31.259633",
     "status": "completed"
    },
    "tags": []
   },
   "outputs": [
    {
     "data": {
      "text/html": [
       "<div>\n",
       "<style scoped>\n",
       "    .dataframe tbody tr th:only-of-type {\n",
       "        vertical-align: middle;\n",
       "    }\n",
       "\n",
       "    .dataframe tbody tr th {\n",
       "        vertical-align: top;\n",
       "    }\n",
       "\n",
       "    .dataframe thead th {\n",
       "        text-align: right;\n",
       "    }\n",
       "</style>\n",
       "<table border=\"1\" class=\"dataframe\">\n",
       "  <thead>\n",
       "    <tr style=\"text-align: right;\">\n",
       "      <th></th>\n",
       "      <th>RowNumber</th>\n",
       "      <th>CustomerId</th>\n",
       "      <th>Surname</th>\n",
       "      <th>CreditScore</th>\n",
       "      <th>Geography</th>\n",
       "      <th>Gender</th>\n",
       "      <th>Age</th>\n",
       "      <th>Tenure</th>\n",
       "      <th>Balance</th>\n",
       "      <th>NumOfProducts</th>\n",
       "      <th>HasCrCard</th>\n",
       "      <th>IsActiveMember</th>\n",
       "      <th>EstimatedSalary</th>\n",
       "      <th>Exited</th>\n",
       "      <th>Complain</th>\n",
       "      <th>Satisfaction Score</th>\n",
       "      <th>Card Type</th>\n",
       "      <th>Point Earned</th>\n",
       "    </tr>\n",
       "  </thead>\n",
       "  <tbody>\n",
       "    <tr>\n",
       "      <th>0</th>\n",
       "      <td>1</td>\n",
       "      <td>15634602</td>\n",
       "      <td>Hargrave</td>\n",
       "      <td>619</td>\n",
       "      <td>France</td>\n",
       "      <td>Female</td>\n",
       "      <td>42</td>\n",
       "      <td>2</td>\n",
       "      <td>0.00</td>\n",
       "      <td>1</td>\n",
       "      <td>1</td>\n",
       "      <td>1</td>\n",
       "      <td>101348.88</td>\n",
       "      <td>1</td>\n",
       "      <td>1</td>\n",
       "      <td>2</td>\n",
       "      <td>DIAMOND</td>\n",
       "      <td>464</td>\n",
       "    </tr>\n",
       "    <tr>\n",
       "      <th>1</th>\n",
       "      <td>2</td>\n",
       "      <td>15647311</td>\n",
       "      <td>Hill</td>\n",
       "      <td>608</td>\n",
       "      <td>Spain</td>\n",
       "      <td>Female</td>\n",
       "      <td>41</td>\n",
       "      <td>1</td>\n",
       "      <td>83807.86</td>\n",
       "      <td>1</td>\n",
       "      <td>0</td>\n",
       "      <td>1</td>\n",
       "      <td>112542.58</td>\n",
       "      <td>0</td>\n",
       "      <td>1</td>\n",
       "      <td>3</td>\n",
       "      <td>DIAMOND</td>\n",
       "      <td>456</td>\n",
       "    </tr>\n",
       "    <tr>\n",
       "      <th>2</th>\n",
       "      <td>3</td>\n",
       "      <td>15619304</td>\n",
       "      <td>Onio</td>\n",
       "      <td>502</td>\n",
       "      <td>France</td>\n",
       "      <td>Female</td>\n",
       "      <td>42</td>\n",
       "      <td>8</td>\n",
       "      <td>159660.80</td>\n",
       "      <td>3</td>\n",
       "      <td>1</td>\n",
       "      <td>0</td>\n",
       "      <td>113931.57</td>\n",
       "      <td>1</td>\n",
       "      <td>1</td>\n",
       "      <td>3</td>\n",
       "      <td>DIAMOND</td>\n",
       "      <td>377</td>\n",
       "    </tr>\n",
       "    <tr>\n",
       "      <th>3</th>\n",
       "      <td>4</td>\n",
       "      <td>15701354</td>\n",
       "      <td>Boni</td>\n",
       "      <td>699</td>\n",
       "      <td>France</td>\n",
       "      <td>Female</td>\n",
       "      <td>39</td>\n",
       "      <td>1</td>\n",
       "      <td>0.00</td>\n",
       "      <td>2</td>\n",
       "      <td>0</td>\n",
       "      <td>0</td>\n",
       "      <td>93826.63</td>\n",
       "      <td>0</td>\n",
       "      <td>0</td>\n",
       "      <td>5</td>\n",
       "      <td>GOLD</td>\n",
       "      <td>350</td>\n",
       "    </tr>\n",
       "    <tr>\n",
       "      <th>4</th>\n",
       "      <td>5</td>\n",
       "      <td>15737888</td>\n",
       "      <td>Mitchell</td>\n",
       "      <td>850</td>\n",
       "      <td>Spain</td>\n",
       "      <td>Female</td>\n",
       "      <td>43</td>\n",
       "      <td>2</td>\n",
       "      <td>125510.82</td>\n",
       "      <td>1</td>\n",
       "      <td>1</td>\n",
       "      <td>1</td>\n",
       "      <td>79084.10</td>\n",
       "      <td>0</td>\n",
       "      <td>0</td>\n",
       "      <td>5</td>\n",
       "      <td>GOLD</td>\n",
       "      <td>425</td>\n",
       "    </tr>\n",
       "    <tr>\n",
       "      <th>5</th>\n",
       "      <td>6</td>\n",
       "      <td>15574012</td>\n",
       "      <td>Chu</td>\n",
       "      <td>645</td>\n",
       "      <td>Spain</td>\n",
       "      <td>Male</td>\n",
       "      <td>44</td>\n",
       "      <td>8</td>\n",
       "      <td>113755.78</td>\n",
       "      <td>2</td>\n",
       "      <td>1</td>\n",
       "      <td>0</td>\n",
       "      <td>149756.71</td>\n",
       "      <td>1</td>\n",
       "      <td>1</td>\n",
       "      <td>5</td>\n",
       "      <td>DIAMOND</td>\n",
       "      <td>484</td>\n",
       "    </tr>\n",
       "    <tr>\n",
       "      <th>6</th>\n",
       "      <td>7</td>\n",
       "      <td>15592531</td>\n",
       "      <td>Bartlett</td>\n",
       "      <td>822</td>\n",
       "      <td>France</td>\n",
       "      <td>Male</td>\n",
       "      <td>50</td>\n",
       "      <td>7</td>\n",
       "      <td>0.00</td>\n",
       "      <td>2</td>\n",
       "      <td>1</td>\n",
       "      <td>1</td>\n",
       "      <td>10062.80</td>\n",
       "      <td>0</td>\n",
       "      <td>0</td>\n",
       "      <td>2</td>\n",
       "      <td>SILVER</td>\n",
       "      <td>206</td>\n",
       "    </tr>\n",
       "    <tr>\n",
       "      <th>7</th>\n",
       "      <td>8</td>\n",
       "      <td>15656148</td>\n",
       "      <td>Obinna</td>\n",
       "      <td>376</td>\n",
       "      <td>Germany</td>\n",
       "      <td>Female</td>\n",
       "      <td>29</td>\n",
       "      <td>4</td>\n",
       "      <td>115046.74</td>\n",
       "      <td>4</td>\n",
       "      <td>1</td>\n",
       "      <td>0</td>\n",
       "      <td>119346.88</td>\n",
       "      <td>1</td>\n",
       "      <td>1</td>\n",
       "      <td>2</td>\n",
       "      <td>DIAMOND</td>\n",
       "      <td>282</td>\n",
       "    </tr>\n",
       "    <tr>\n",
       "      <th>8</th>\n",
       "      <td>9</td>\n",
       "      <td>15792365</td>\n",
       "      <td>He</td>\n",
       "      <td>501</td>\n",
       "      <td>France</td>\n",
       "      <td>Male</td>\n",
       "      <td>44</td>\n",
       "      <td>4</td>\n",
       "      <td>142051.07</td>\n",
       "      <td>2</td>\n",
       "      <td>0</td>\n",
       "      <td>1</td>\n",
       "      <td>74940.50</td>\n",
       "      <td>0</td>\n",
       "      <td>0</td>\n",
       "      <td>3</td>\n",
       "      <td>GOLD</td>\n",
       "      <td>251</td>\n",
       "    </tr>\n",
       "    <tr>\n",
       "      <th>9</th>\n",
       "      <td>10</td>\n",
       "      <td>15592389</td>\n",
       "      <td>H?</td>\n",
       "      <td>684</td>\n",
       "      <td>France</td>\n",
       "      <td>Male</td>\n",
       "      <td>27</td>\n",
       "      <td>2</td>\n",
       "      <td>134603.88</td>\n",
       "      <td>1</td>\n",
       "      <td>1</td>\n",
       "      <td>1</td>\n",
       "      <td>71725.73</td>\n",
       "      <td>0</td>\n",
       "      <td>0</td>\n",
       "      <td>3</td>\n",
       "      <td>GOLD</td>\n",
       "      <td>342</td>\n",
       "    </tr>\n",
       "  </tbody>\n",
       "</table>\n",
       "</div>"
      ],
      "text/plain": [
       "   RowNumber  CustomerId   Surname  CreditScore Geography  Gender  Age  \\\n",
       "0          1    15634602  Hargrave          619    France  Female   42   \n",
       "1          2    15647311      Hill          608     Spain  Female   41   \n",
       "2          3    15619304      Onio          502    France  Female   42   \n",
       "3          4    15701354      Boni          699    France  Female   39   \n",
       "4          5    15737888  Mitchell          850     Spain  Female   43   \n",
       "5          6    15574012       Chu          645     Spain    Male   44   \n",
       "6          7    15592531  Bartlett          822    France    Male   50   \n",
       "7          8    15656148    Obinna          376   Germany  Female   29   \n",
       "8          9    15792365        He          501    France    Male   44   \n",
       "9         10    15592389        H?          684    France    Male   27   \n",
       "\n",
       "   Tenure    Balance  NumOfProducts  HasCrCard  IsActiveMember  \\\n",
       "0       2       0.00              1          1               1   \n",
       "1       1   83807.86              1          0               1   \n",
       "2       8  159660.80              3          1               0   \n",
       "3       1       0.00              2          0               0   \n",
       "4       2  125510.82              1          1               1   \n",
       "5       8  113755.78              2          1               0   \n",
       "6       7       0.00              2          1               1   \n",
       "7       4  115046.74              4          1               0   \n",
       "8       4  142051.07              2          0               1   \n",
       "9       2  134603.88              1          1               1   \n",
       "\n",
       "   EstimatedSalary  Exited  Complain  Satisfaction Score Card Type  \\\n",
       "0        101348.88       1         1                   2   DIAMOND   \n",
       "1        112542.58       0         1                   3   DIAMOND   \n",
       "2        113931.57       1         1                   3   DIAMOND   \n",
       "3         93826.63       0         0                   5      GOLD   \n",
       "4         79084.10       0         0                   5      GOLD   \n",
       "5        149756.71       1         1                   5   DIAMOND   \n",
       "6         10062.80       0         0                   2    SILVER   \n",
       "7        119346.88       1         1                   2   DIAMOND   \n",
       "8         74940.50       0         0                   3      GOLD   \n",
       "9         71725.73       0         0                   3      GOLD   \n",
       "\n",
       "   Point Earned  \n",
       "0           464  \n",
       "1           456  \n",
       "2           377  \n",
       "3           350  \n",
       "4           425  \n",
       "5           484  \n",
       "6           206  \n",
       "7           282  \n",
       "8           251  \n",
       "9           342  "
      ]
     },
     "execution_count": 3,
     "metadata": {},
     "output_type": "execute_result"
    }
   ],
   "source": [
    "data.head(10)"
   ]
  },
  {
   "cell_type": "markdown",
   "id": "4fb69a32",
   "metadata": {
    "execution": {
     "iopub.execute_input": "2024-03-27T12:53:29.778202Z",
     "iopub.status.busy": "2024-03-27T12:53:29.777281Z",
     "iopub.status.idle": "2024-03-27T12:53:29.783883Z",
     "shell.execute_reply": "2024-03-27T12:53:29.782560Z",
     "shell.execute_reply.started": "2024-03-27T12:53:29.778159Z"
    },
    "papermill": {
     "duration": 0.024211,
     "end_time": "2024-03-28T08:21:31.369090",
     "exception": false,
     "start_time": "2024-03-28T08:21:31.344879",
     "status": "completed"
    },
    "tags": []
   },
   "source": [
    "# Check Last 10 Rows of The Dataset"
   ]
  },
  {
   "cell_type": "code",
   "execution_count": 4,
   "id": "2eb6419c",
   "metadata": {
    "execution": {
     "iopub.execute_input": "2024-03-28T08:21:31.421315Z",
     "iopub.status.busy": "2024-03-28T08:21:31.420834Z",
     "iopub.status.idle": "2024-03-28T08:21:31.443565Z",
     "shell.execute_reply": "2024-03-28T08:21:31.442650Z"
    },
    "papermill": {
     "duration": 0.051993,
     "end_time": "2024-03-28T08:21:31.445996",
     "exception": false,
     "start_time": "2024-03-28T08:21:31.394003",
     "status": "completed"
    },
    "tags": []
   },
   "outputs": [
    {
     "data": {
      "text/html": [
       "<div>\n",
       "<style scoped>\n",
       "    .dataframe tbody tr th:only-of-type {\n",
       "        vertical-align: middle;\n",
       "    }\n",
       "\n",
       "    .dataframe tbody tr th {\n",
       "        vertical-align: top;\n",
       "    }\n",
       "\n",
       "    .dataframe thead th {\n",
       "        text-align: right;\n",
       "    }\n",
       "</style>\n",
       "<table border=\"1\" class=\"dataframe\">\n",
       "  <thead>\n",
       "    <tr style=\"text-align: right;\">\n",
       "      <th></th>\n",
       "      <th>RowNumber</th>\n",
       "      <th>CustomerId</th>\n",
       "      <th>Surname</th>\n",
       "      <th>CreditScore</th>\n",
       "      <th>Geography</th>\n",
       "      <th>Gender</th>\n",
       "      <th>Age</th>\n",
       "      <th>Tenure</th>\n",
       "      <th>Balance</th>\n",
       "      <th>NumOfProducts</th>\n",
       "      <th>HasCrCard</th>\n",
       "      <th>IsActiveMember</th>\n",
       "      <th>EstimatedSalary</th>\n",
       "      <th>Exited</th>\n",
       "      <th>Complain</th>\n",
       "      <th>Satisfaction Score</th>\n",
       "      <th>Card Type</th>\n",
       "      <th>Point Earned</th>\n",
       "    </tr>\n",
       "  </thead>\n",
       "  <tbody>\n",
       "    <tr>\n",
       "      <th>9990</th>\n",
       "      <td>9991</td>\n",
       "      <td>15798964</td>\n",
       "      <td>Nkemakonam</td>\n",
       "      <td>714</td>\n",
       "      <td>Germany</td>\n",
       "      <td>Male</td>\n",
       "      <td>33</td>\n",
       "      <td>3</td>\n",
       "      <td>35016.60</td>\n",
       "      <td>1</td>\n",
       "      <td>1</td>\n",
       "      <td>0</td>\n",
       "      <td>53667.08</td>\n",
       "      <td>0</td>\n",
       "      <td>0</td>\n",
       "      <td>3</td>\n",
       "      <td>GOLD</td>\n",
       "      <td>791</td>\n",
       "    </tr>\n",
       "    <tr>\n",
       "      <th>9991</th>\n",
       "      <td>9992</td>\n",
       "      <td>15769959</td>\n",
       "      <td>Ajuluchukwu</td>\n",
       "      <td>597</td>\n",
       "      <td>France</td>\n",
       "      <td>Female</td>\n",
       "      <td>53</td>\n",
       "      <td>4</td>\n",
       "      <td>88381.21</td>\n",
       "      <td>1</td>\n",
       "      <td>1</td>\n",
       "      <td>0</td>\n",
       "      <td>69384.71</td>\n",
       "      <td>1</td>\n",
       "      <td>1</td>\n",
       "      <td>3</td>\n",
       "      <td>GOLD</td>\n",
       "      <td>369</td>\n",
       "    </tr>\n",
       "    <tr>\n",
       "      <th>9992</th>\n",
       "      <td>9993</td>\n",
       "      <td>15657105</td>\n",
       "      <td>Chukwualuka</td>\n",
       "      <td>726</td>\n",
       "      <td>Spain</td>\n",
       "      <td>Male</td>\n",
       "      <td>36</td>\n",
       "      <td>2</td>\n",
       "      <td>0.00</td>\n",
       "      <td>1</td>\n",
       "      <td>1</td>\n",
       "      <td>0</td>\n",
       "      <td>195192.40</td>\n",
       "      <td>0</td>\n",
       "      <td>0</td>\n",
       "      <td>5</td>\n",
       "      <td>SILVER</td>\n",
       "      <td>560</td>\n",
       "    </tr>\n",
       "    <tr>\n",
       "      <th>9993</th>\n",
       "      <td>9994</td>\n",
       "      <td>15569266</td>\n",
       "      <td>Rahman</td>\n",
       "      <td>644</td>\n",
       "      <td>France</td>\n",
       "      <td>Male</td>\n",
       "      <td>28</td>\n",
       "      <td>7</td>\n",
       "      <td>155060.41</td>\n",
       "      <td>1</td>\n",
       "      <td>1</td>\n",
       "      <td>0</td>\n",
       "      <td>29179.52</td>\n",
       "      <td>0</td>\n",
       "      <td>0</td>\n",
       "      <td>5</td>\n",
       "      <td>DIAMOND</td>\n",
       "      <td>715</td>\n",
       "    </tr>\n",
       "    <tr>\n",
       "      <th>9994</th>\n",
       "      <td>9995</td>\n",
       "      <td>15719294</td>\n",
       "      <td>Wood</td>\n",
       "      <td>800</td>\n",
       "      <td>France</td>\n",
       "      <td>Female</td>\n",
       "      <td>29</td>\n",
       "      <td>2</td>\n",
       "      <td>0.00</td>\n",
       "      <td>2</td>\n",
       "      <td>0</td>\n",
       "      <td>0</td>\n",
       "      <td>167773.55</td>\n",
       "      <td>0</td>\n",
       "      <td>0</td>\n",
       "      <td>4</td>\n",
       "      <td>PLATINUM</td>\n",
       "      <td>311</td>\n",
       "    </tr>\n",
       "    <tr>\n",
       "      <th>9995</th>\n",
       "      <td>9996</td>\n",
       "      <td>15606229</td>\n",
       "      <td>Obijiaku</td>\n",
       "      <td>771</td>\n",
       "      <td>France</td>\n",
       "      <td>Male</td>\n",
       "      <td>39</td>\n",
       "      <td>5</td>\n",
       "      <td>0.00</td>\n",
       "      <td>2</td>\n",
       "      <td>1</td>\n",
       "      <td>0</td>\n",
       "      <td>96270.64</td>\n",
       "      <td>0</td>\n",
       "      <td>0</td>\n",
       "      <td>1</td>\n",
       "      <td>DIAMOND</td>\n",
       "      <td>300</td>\n",
       "    </tr>\n",
       "    <tr>\n",
       "      <th>9996</th>\n",
       "      <td>9997</td>\n",
       "      <td>15569892</td>\n",
       "      <td>Johnstone</td>\n",
       "      <td>516</td>\n",
       "      <td>France</td>\n",
       "      <td>Male</td>\n",
       "      <td>35</td>\n",
       "      <td>10</td>\n",
       "      <td>57369.61</td>\n",
       "      <td>1</td>\n",
       "      <td>1</td>\n",
       "      <td>1</td>\n",
       "      <td>101699.77</td>\n",
       "      <td>0</td>\n",
       "      <td>0</td>\n",
       "      <td>5</td>\n",
       "      <td>PLATINUM</td>\n",
       "      <td>771</td>\n",
       "    </tr>\n",
       "    <tr>\n",
       "      <th>9997</th>\n",
       "      <td>9998</td>\n",
       "      <td>15584532</td>\n",
       "      <td>Liu</td>\n",
       "      <td>709</td>\n",
       "      <td>France</td>\n",
       "      <td>Female</td>\n",
       "      <td>36</td>\n",
       "      <td>7</td>\n",
       "      <td>0.00</td>\n",
       "      <td>1</td>\n",
       "      <td>0</td>\n",
       "      <td>1</td>\n",
       "      <td>42085.58</td>\n",
       "      <td>1</td>\n",
       "      <td>1</td>\n",
       "      <td>3</td>\n",
       "      <td>SILVER</td>\n",
       "      <td>564</td>\n",
       "    </tr>\n",
       "    <tr>\n",
       "      <th>9998</th>\n",
       "      <td>9999</td>\n",
       "      <td>15682355</td>\n",
       "      <td>Sabbatini</td>\n",
       "      <td>772</td>\n",
       "      <td>Germany</td>\n",
       "      <td>Male</td>\n",
       "      <td>42</td>\n",
       "      <td>3</td>\n",
       "      <td>75075.31</td>\n",
       "      <td>2</td>\n",
       "      <td>1</td>\n",
       "      <td>0</td>\n",
       "      <td>92888.52</td>\n",
       "      <td>1</td>\n",
       "      <td>1</td>\n",
       "      <td>2</td>\n",
       "      <td>GOLD</td>\n",
       "      <td>339</td>\n",
       "    </tr>\n",
       "    <tr>\n",
       "      <th>9999</th>\n",
       "      <td>10000</td>\n",
       "      <td>15628319</td>\n",
       "      <td>Walker</td>\n",
       "      <td>792</td>\n",
       "      <td>France</td>\n",
       "      <td>Female</td>\n",
       "      <td>28</td>\n",
       "      <td>4</td>\n",
       "      <td>130142.79</td>\n",
       "      <td>1</td>\n",
       "      <td>1</td>\n",
       "      <td>0</td>\n",
       "      <td>38190.78</td>\n",
       "      <td>0</td>\n",
       "      <td>0</td>\n",
       "      <td>3</td>\n",
       "      <td>DIAMOND</td>\n",
       "      <td>911</td>\n",
       "    </tr>\n",
       "  </tbody>\n",
       "</table>\n",
       "</div>"
      ],
      "text/plain": [
       "      RowNumber  CustomerId      Surname  CreditScore Geography  Gender  Age  \\\n",
       "9990       9991    15798964   Nkemakonam          714   Germany    Male   33   \n",
       "9991       9992    15769959  Ajuluchukwu          597    France  Female   53   \n",
       "9992       9993    15657105  Chukwualuka          726     Spain    Male   36   \n",
       "9993       9994    15569266       Rahman          644    France    Male   28   \n",
       "9994       9995    15719294         Wood          800    France  Female   29   \n",
       "9995       9996    15606229     Obijiaku          771    France    Male   39   \n",
       "9996       9997    15569892    Johnstone          516    France    Male   35   \n",
       "9997       9998    15584532          Liu          709    France  Female   36   \n",
       "9998       9999    15682355    Sabbatini          772   Germany    Male   42   \n",
       "9999      10000    15628319       Walker          792    France  Female   28   \n",
       "\n",
       "      Tenure    Balance  NumOfProducts  HasCrCard  IsActiveMember  \\\n",
       "9990       3   35016.60              1          1               0   \n",
       "9991       4   88381.21              1          1               0   \n",
       "9992       2       0.00              1          1               0   \n",
       "9993       7  155060.41              1          1               0   \n",
       "9994       2       0.00              2          0               0   \n",
       "9995       5       0.00              2          1               0   \n",
       "9996      10   57369.61              1          1               1   \n",
       "9997       7       0.00              1          0               1   \n",
       "9998       3   75075.31              2          1               0   \n",
       "9999       4  130142.79              1          1               0   \n",
       "\n",
       "      EstimatedSalary  Exited  Complain  Satisfaction Score Card Type  \\\n",
       "9990         53667.08       0         0                   3      GOLD   \n",
       "9991         69384.71       1         1                   3      GOLD   \n",
       "9992        195192.40       0         0                   5    SILVER   \n",
       "9993         29179.52       0         0                   5   DIAMOND   \n",
       "9994        167773.55       0         0                   4  PLATINUM   \n",
       "9995         96270.64       0         0                   1   DIAMOND   \n",
       "9996        101699.77       0         0                   5  PLATINUM   \n",
       "9997         42085.58       1         1                   3    SILVER   \n",
       "9998         92888.52       1         1                   2      GOLD   \n",
       "9999         38190.78       0         0                   3   DIAMOND   \n",
       "\n",
       "      Point Earned  \n",
       "9990           791  \n",
       "9991           369  \n",
       "9992           560  \n",
       "9993           715  \n",
       "9994           311  \n",
       "9995           300  \n",
       "9996           771  \n",
       "9997           564  \n",
       "9998           339  \n",
       "9999           911  "
      ]
     },
     "execution_count": 4,
     "metadata": {},
     "output_type": "execute_result"
    }
   ],
   "source": [
    "data.tail(10)"
   ]
  },
  {
   "cell_type": "markdown",
   "id": "21e55022",
   "metadata": {
    "papermill": {
     "duration": 0.025213,
     "end_time": "2024-03-28T08:21:31.495963",
     "exception": false,
     "start_time": "2024-03-28T08:21:31.470750",
     "status": "completed"
    },
    "tags": []
   },
   "source": [
    "# Find Shape of Our Dataset (Number of Rows And Number of Columns)"
   ]
  },
  {
   "cell_type": "code",
   "execution_count": 5,
   "id": "97015b8c",
   "metadata": {
    "execution": {
     "iopub.execute_input": "2024-03-28T08:21:31.549867Z",
     "iopub.status.busy": "2024-03-28T08:21:31.549472Z",
     "iopub.status.idle": "2024-03-28T08:21:31.556687Z",
     "shell.execute_reply": "2024-03-28T08:21:31.555710Z"
    },
    "papermill": {
     "duration": 0.036869,
     "end_time": "2024-03-28T08:21:31.559011",
     "exception": false,
     "start_time": "2024-03-28T08:21:31.522142",
     "status": "completed"
    },
    "tags": []
   },
   "outputs": [
    {
     "data": {
      "text/plain": [
       "(10000, 18)"
      ]
     },
     "execution_count": 5,
     "metadata": {},
     "output_type": "execute_result"
    }
   ],
   "source": [
    "data.shape"
   ]
  },
  {
   "cell_type": "markdown",
   "id": "16b3b9a5",
   "metadata": {
    "papermill": {
     "duration": 0.025118,
     "end_time": "2024-03-28T08:21:31.609058",
     "exception": false,
     "start_time": "2024-03-28T08:21:31.583940",
     "status": "completed"
    },
    "tags": []
   },
   "source": [
    "# Getting Information About Our Dataset Like Total Number Rows, Total Number of Columns, Datatypes of Each Column And Memory Requirement\n"
   ]
  },
  {
   "cell_type": "code",
   "execution_count": 6,
   "id": "e1e819af",
   "metadata": {
    "execution": {
     "iopub.execute_input": "2024-03-28T08:21:31.660623Z",
     "iopub.status.busy": "2024-03-28T08:21:31.660227Z",
     "iopub.status.idle": "2024-03-28T08:21:31.692262Z",
     "shell.execute_reply": "2024-03-28T08:21:31.690974Z"
    },
    "papermill": {
     "duration": 0.061273,
     "end_time": "2024-03-28T08:21:31.695150",
     "exception": false,
     "start_time": "2024-03-28T08:21:31.633877",
     "status": "completed"
    },
    "tags": []
   },
   "outputs": [
    {
     "name": "stdout",
     "output_type": "stream",
     "text": [
      "<class 'pandas.core.frame.DataFrame'>\n",
      "RangeIndex: 10000 entries, 0 to 9999\n",
      "Data columns (total 18 columns):\n",
      " #   Column              Non-Null Count  Dtype  \n",
      "---  ------              --------------  -----  \n",
      " 0   RowNumber           10000 non-null  int64  \n",
      " 1   CustomerId          10000 non-null  int64  \n",
      " 2   Surname             10000 non-null  object \n",
      " 3   CreditScore         10000 non-null  int64  \n",
      " 4   Geography           10000 non-null  object \n",
      " 5   Gender              10000 non-null  object \n",
      " 6   Age                 10000 non-null  int64  \n",
      " 7   Tenure              10000 non-null  int64  \n",
      " 8   Balance             10000 non-null  float64\n",
      " 9   NumOfProducts       10000 non-null  int64  \n",
      " 10  HasCrCard           10000 non-null  int64  \n",
      " 11  IsActiveMember      10000 non-null  int64  \n",
      " 12  EstimatedSalary     10000 non-null  float64\n",
      " 13  Exited              10000 non-null  int64  \n",
      " 14  Complain            10000 non-null  int64  \n",
      " 15  Satisfaction Score  10000 non-null  int64  \n",
      " 16  Card Type           10000 non-null  object \n",
      " 17  Point Earned        10000 non-null  int64  \n",
      "dtypes: float64(2), int64(12), object(4)\n",
      "memory usage: 1.4+ MB\n"
     ]
    }
   ],
   "source": [
    "data.info()"
   ]
  },
  {
   "cell_type": "markdown",
   "id": "209194e0",
   "metadata": {
    "papermill": {
     "duration": 0.024858,
     "end_time": "2024-03-28T08:21:31.745229",
     "exception": false,
     "start_time": "2024-03-28T08:21:31.720371",
     "status": "completed"
    },
    "tags": []
   },
   "source": [
    "# check null of dataset"
   ]
  },
  {
   "cell_type": "code",
   "execution_count": 7,
   "id": "6ac92c0f",
   "metadata": {
    "execution": {
     "iopub.execute_input": "2024-03-28T08:21:31.798539Z",
     "iopub.status.busy": "2024-03-28T08:21:31.798108Z",
     "iopub.status.idle": "2024-03-28T08:21:33.431813Z",
     "shell.execute_reply": "2024-03-28T08:21:33.430925Z"
    },
    "papermill": {
     "duration": 1.663743,
     "end_time": "2024-03-28T08:21:33.434133",
     "exception": false,
     "start_time": "2024-03-28T08:21:31.770390",
     "status": "completed"
    },
    "tags": []
   },
   "outputs": [
    {
     "data": {
      "text/plain": [
       "<Axes: >"
      ]
     },
     "execution_count": 7,
     "metadata": {},
     "output_type": "execute_result"
    },
    {
     "data": {
      "image/png": "[encoded data removed]",
      "text/plain": [
       "<Figure size 640x480 with 2 Axes>"
      ]
     },
     "metadata": {},
     "output_type": "display_data"
    }
   ],
   "source": [
    "sns.heatmap(data.T.isnull())"
   ]
  },
  {
   "cell_type": "markdown",
   "id": "e8faad86",
   "metadata": {
    "papermill": {
     "duration": 0.028012,
     "end_time": "2024-03-28T08:21:33.489200",
     "exception": false,
     "start_time": "2024-03-28T08:21:33.461188",
     "status": "completed"
    },
    "tags": []
   },
   "source": [
    "# Get overall stat about data"
   ]
  },
  {
   "cell_type": "code",
   "execution_count": 8,
   "id": "8ef8985a",
   "metadata": {
    "execution": {
     "iopub.execute_input": "2024-03-28T08:21:33.546374Z",
     "iopub.status.busy": "2024-03-28T08:21:33.545220Z",
     "iopub.status.idle": "2024-03-28T08:21:33.616927Z",
     "shell.execute_reply": "2024-03-28T08:21:33.615933Z"
    },
    "papermill": {
     "duration": 0.103222,
     "end_time": "2024-03-28T08:21:33.620258",
     "exception": false,
     "start_time": "2024-03-28T08:21:33.517036",
     "status": "completed"
    },
    "tags": []
   },
   "outputs": [
    {
     "data": {
      "text/html": [
       "<div>\n",
       "<style scoped>\n",
       "    .dataframe tbody tr th:only-of-type {\n",
       "        vertical-align: middle;\n",
       "    }\n",
       "\n",
       "    .dataframe tbody tr th {\n",
       "        vertical-align: top;\n",
       "    }\n",
       "\n",
       "    .dataframe thead th {\n",
       "        text-align: right;\n",
       "    }\n",
       "</style>\n",
       "<table border=\"1\" class=\"dataframe\">\n",
       "  <thead>\n",
       "    <tr style=\"text-align: right;\">\n",
       "      <th></th>\n",
       "      <th>count</th>\n",
       "      <th>unique</th>\n",
       "      <th>top</th>\n",
       "      <th>freq</th>\n",
       "      <th>mean</th>\n",
       "      <th>std</th>\n",
       "      <th>min</th>\n",
       "      <th>25%</th>\n",
       "      <th>50%</th>\n",
       "      <th>75%</th>\n",
       "      <th>max</th>\n",
       "    </tr>\n",
       "  </thead>\n",
       "  <tbody>\n",
       "    <tr>\n",
       "      <th>RowNumber</th>\n",
       "      <td>10000.0</td>\n",
       "      <td>NaN</td>\n",
       "      <td>NaN</td>\n",
       "      <td>NaN</td>\n",
       "      <td>5000.5</td>\n",
       "      <td>2886.89568</td>\n",
       "      <td>1.0</td>\n",
       "      <td>2500.75</td>\n",
       "      <td>5000.5</td>\n",
       "      <td>7500.25</td>\n",
       "      <td>10000.0</td>\n",
       "    </tr>\n",
       "    <tr>\n",
       "      <th>CustomerId</th>\n",
       "      <td>10000.0</td>\n",
       "      <td>NaN</td>\n",
       "      <td>NaN</td>\n",
       "      <td>NaN</td>\n",
       "      <td>15690940.5694</td>\n",
       "      <td>71936.186123</td>\n",
       "      <td>15565701.0</td>\n",
       "      <td>15628528.25</td>\n",
       "      <td>15690738.0</td>\n",
       "      <td>15753233.75</td>\n",
       "      <td>15815690.0</td>\n",
       "    </tr>\n",
       "    <tr>\n",
       "      <th>Surname</th>\n",
       "      <td>10000</td>\n",
       "      <td>2932</td>\n",
       "      <td>Smith</td>\n",
       "      <td>32</td>\n",
       "      <td>NaN</td>\n",
       "      <td>NaN</td>\n",
       "      <td>NaN</td>\n",
       "      <td>NaN</td>\n",
       "      <td>NaN</td>\n",
       "      <td>NaN</td>\n",
       "      <td>NaN</td>\n",
       "    </tr>\n",
       "    <tr>\n",
       "      <th>CreditScore</th>\n",
       "      <td>10000.0</td>\n",
       "      <td>NaN</td>\n",
       "      <td>NaN</td>\n",
       "      <td>NaN</td>\n",
       "      <td>650.5288</td>\n",
       "      <td>96.653299</td>\n",
       "      <td>350.0</td>\n",
       "      <td>584.0</td>\n",
       "      <td>652.0</td>\n",
       "      <td>718.0</td>\n",
       "      <td>850.0</td>\n",
       "    </tr>\n",
       "    <tr>\n",
       "      <th>Geography</th>\n",
       "      <td>10000</td>\n",
       "      <td>3</td>\n",
       "      <td>France</td>\n",
       "      <td>5014</td>\n",
       "      <td>NaN</td>\n",
       "      <td>NaN</td>\n",
       "      <td>NaN</td>\n",
       "      <td>NaN</td>\n",
       "      <td>NaN</td>\n",
       "      <td>NaN</td>\n",
       "      <td>NaN</td>\n",
       "    </tr>\n",
       "    <tr>\n",
       "      <th>Gender</th>\n",
       "      <td>10000</td>\n",
       "      <td>2</td>\n",
       "      <td>Male</td>\n",
       "      <td>5457</td>\n",
       "      <td>NaN</td>\n",
       "      <td>NaN</td>\n",
       "      <td>NaN</td>\n",
       "      <td>NaN</td>\n",
       "      <td>NaN</td>\n",
       "      <td>NaN</td>\n",
       "      <td>NaN</td>\n",
       "    </tr>\n",
       "    <tr>\n",
       "      <th>Age</th>\n",
       "      <td>10000.0</td>\n",
       "      <td>NaN</td>\n",
       "      <td>NaN</td>\n",
       "      <td>NaN</td>\n",
       "      <td>38.9218</td>\n",
       "      <td>10.487806</td>\n",
       "      <td>18.0</td>\n",
       "      <td>32.0</td>\n",
       "      <td>37.0</td>\n",
       "      <td>44.0</td>\n",
       "      <td>92.0</td>\n",
       "    </tr>\n",
       "    <tr>\n",
       "      <th>Tenure</th>\n",
       "      <td>10000.0</td>\n",
       "      <td>NaN</td>\n",
       "      <td>NaN</td>\n",
       "      <td>NaN</td>\n",
       "      <td>5.0128</td>\n",
       "      <td>2.892174</td>\n",
       "      <td>0.0</td>\n",
       "      <td>3.0</td>\n",
       "      <td>5.0</td>\n",
       "      <td>7.0</td>\n",
       "      <td>10.0</td>\n",
       "    </tr>\n",
       "    <tr>\n",
       "      <th>Balance</th>\n",
       "      <td>10000.0</td>\n",
       "      <td>NaN</td>\n",
       "      <td>NaN</td>\n",
       "      <td>NaN</td>\n",
       "      <td>76485.889288</td>\n",
       "      <td>62397.405202</td>\n",
       "      <td>0.0</td>\n",
       "      <td>0.0</td>\n",
       "      <td>97198.54</td>\n",
       "      <td>127644.24</td>\n",
       "      <td>250898.09</td>\n",
       "    </tr>\n",
       "    <tr>\n",
       "      <th>NumOfProducts</th>\n",
       "      <td>10000.0</td>\n",
       "      <td>NaN</td>\n",
       "      <td>NaN</td>\n",
       "      <td>NaN</td>\n",
       "      <td>1.5302</td>\n",
       "      <td>0.581654</td>\n",
       "      <td>1.0</td>\n",
       "      <td>1.0</td>\n",
       "      <td>1.0</td>\n",
       "      <td>2.0</td>\n",
       "      <td>4.0</td>\n",
       "    </tr>\n",
       "    <tr>\n",
       "      <th>HasCrCard</th>\n",
       "      <td>10000.0</td>\n",
       "      <td>NaN</td>\n",
       "      <td>NaN</td>\n",
       "      <td>NaN</td>\n",
       "      <td>0.7055</td>\n",
       "      <td>0.45584</td>\n",
       "      <td>0.0</td>\n",
       "      <td>0.0</td>\n",
       "      <td>1.0</td>\n",
       "      <td>1.0</td>\n",
       "      <td>1.0</td>\n",
       "    </tr>\n",
       "    <tr>\n",
       "      <th>IsActiveMember</th>\n",
       "      <td>10000.0</td>\n",
       "      <td>NaN</td>\n",
       "      <td>NaN</td>\n",
       "      <td>NaN</td>\n",
       "      <td>0.5151</td>\n",
       "      <td>0.499797</td>\n",
       "      <td>0.0</td>\n",
       "      <td>0.0</td>\n",
       "      <td>1.0</td>\n",
       "      <td>1.0</td>\n",
       "      <td>1.0</td>\n",
       "    </tr>\n",
       "    <tr>\n",
       "      <th>EstimatedSalary</th>\n",
       "      <td>10000.0</td>\n",
       "      <td>NaN</td>\n",
       "      <td>NaN</td>\n",
       "      <td>NaN</td>\n",
       "      <td>100090.239881</td>\n",
       "      <td>57510.492818</td>\n",
       "      <td>11.58</td>\n",
       "      <td>51002.11</td>\n",
       "      <td>100193.915</td>\n",
       "      <td>149388.2475</td>\n",
       "      <td>199992.48</td>\n",
       "    </tr>\n",
       "    <tr>\n",
       "      <th>Exited</th>\n",
       "      <td>10000.0</td>\n",
       "      <td>NaN</td>\n",
       "      <td>NaN</td>\n",
       "      <td>NaN</td>\n",
       "      <td>0.2038</td>\n",
       "      <td>0.402842</td>\n",
       "      <td>0.0</td>\n",
       "      <td>0.0</td>\n",
       "      <td>0.0</td>\n",
       "      <td>0.0</td>\n",
       "      <td>1.0</td>\n",
       "    </tr>\n",
       "    <tr>\n",
       "      <th>Complain</th>\n",
       "      <td>10000.0</td>\n",
       "      <td>NaN</td>\n",
       "      <td>NaN</td>\n",
       "      <td>NaN</td>\n",
       "      <td>0.2044</td>\n",
       "      <td>0.403283</td>\n",
       "      <td>0.0</td>\n",
       "      <td>0.0</td>\n",
       "      <td>0.0</td>\n",
       "      <td>0.0</td>\n",
       "      <td>1.0</td>\n",
       "    </tr>\n",
       "    <tr>\n",
       "      <th>Satisfaction Score</th>\n",
       "      <td>10000.0</td>\n",
       "      <td>NaN</td>\n",
       "      <td>NaN</td>\n",
       "      <td>NaN</td>\n",
       "      <td>3.0138</td>\n",
       "      <td>1.405919</td>\n",
       "      <td>1.0</td>\n",
       "      <td>2.0</td>\n",
       "      <td>3.0</td>\n",
       "      <td>4.0</td>\n",
       "      <td>5.0</td>\n",
       "    </tr>\n",
       "    <tr>\n",
       "      <th>Card Type</th>\n",
       "      <td>10000</td>\n",
       "      <td>4</td>\n",
       "      <td>DIAMOND</td>\n",
       "      <td>2507</td>\n",
       "      <td>NaN</td>\n",
       "      <td>NaN</td>\n",
       "      <td>NaN</td>\n",
       "      <td>NaN</td>\n",
       "      <td>NaN</td>\n",
       "      <td>NaN</td>\n",
       "      <td>NaN</td>\n",
       "    </tr>\n",
       "    <tr>\n",
       "      <th>Point Earned</th>\n",
       "      <td>10000.0</td>\n",
       "      <td>NaN</td>\n",
       "      <td>NaN</td>\n",
       "      <td>NaN</td>\n",
       "      <td>606.5151</td>\n",
       "      <td>225.924839</td>\n",
       "      <td>119.0</td>\n",
       "      <td>410.0</td>\n",
       "      <td>605.0</td>\n",
       "      <td>801.0</td>\n",
       "      <td>1000.0</td>\n",
       "    </tr>\n",
       "  </tbody>\n",
       "</table>\n",
       "</div>"
      ],
      "text/plain": [
       "                      count unique      top  freq           mean  \\\n",
       "RowNumber           10000.0    NaN      NaN   NaN         5000.5   \n",
       "CustomerId          10000.0    NaN      NaN   NaN  15690940.5694   \n",
       "Surname               10000   2932    Smith    32            NaN   \n",
       "CreditScore         10000.0    NaN      NaN   NaN       650.5288   \n",
       "Geography             10000      3   France  5014            NaN   \n",
       "Gender                10000      2     Male  5457            NaN   \n",
       "Age                 10000.0    NaN      NaN   NaN        38.9218   \n",
       "Tenure              10000.0    NaN      NaN   NaN         5.0128   \n",
       "Balance             10000.0    NaN      NaN   NaN   76485.889288   \n",
       "NumOfProducts       10000.0    NaN      NaN   NaN         1.5302   \n",
       "HasCrCard           10000.0    NaN      NaN   NaN         0.7055   \n",
       "IsActiveMember      10000.0    NaN      NaN   NaN         0.5151   \n",
       "EstimatedSalary     10000.0    NaN      NaN   NaN  100090.239881   \n",
       "Exited              10000.0    NaN      NaN   NaN         0.2038   \n",
       "Complain            10000.0    NaN      NaN   NaN         0.2044   \n",
       "Satisfaction Score  10000.0    NaN      NaN   NaN         3.0138   \n",
       "Card Type             10000      4  DIAMOND  2507            NaN   \n",
       "Point Earned        10000.0    NaN      NaN   NaN       606.5151   \n",
       "\n",
       "                             std         min          25%         50%  \\\n",
       "RowNumber             2886.89568         1.0      2500.75      5000.5   \n",
       "CustomerId          71936.186123  15565701.0  15628528.25  15690738.0   \n",
       "Surname                      NaN         NaN          NaN         NaN   \n",
       "CreditScore            96.653299       350.0        584.0       652.0   \n",
       "Geography                    NaN         NaN          NaN         NaN   \n",
       "Gender                       NaN         NaN          NaN         NaN   \n",
       "Age                    10.487806        18.0         32.0        37.0   \n",
       "Tenure                  2.892174         0.0          3.0         5.0   \n",
       "Balance             62397.405202         0.0          0.0    97198.54   \n",
       "NumOfProducts           0.581654         1.0          1.0         1.0   \n",
       "HasCrCard                0.45584         0.0          0.0         1.0   \n",
       "IsActiveMember          0.499797         0.0          0.0         1.0   \n",
       "EstimatedSalary     57510.492818       11.58     51002.11  100193.915   \n",
       "Exited                  0.402842         0.0          0.0         0.0   \n",
       "Complain                0.403283         0.0          0.0         0.0   \n",
       "Satisfaction Score      1.405919         1.0          2.0         3.0   \n",
       "Card Type                    NaN         NaN          NaN         NaN   \n",
       "Point Earned          225.924839       119.0        410.0       605.0   \n",
       "\n",
       "                            75%         max  \n",
       "RowNumber               7500.25     10000.0  \n",
       "CustomerId          15753233.75  15815690.0  \n",
       "Surname                     NaN         NaN  \n",
       "CreditScore               718.0       850.0  \n",
       "Geography                   NaN         NaN  \n",
       "Gender                      NaN         NaN  \n",
       "Age                        44.0        92.0  \n",
       "Tenure                      7.0        10.0  \n",
       "Balance               127644.24   250898.09  \n",
       "NumOfProducts               2.0         4.0  \n",
       "HasCrCard                   1.0         1.0  \n",
       "IsActiveMember              1.0         1.0  \n",
       "EstimatedSalary     149388.2475   199992.48  \n",
       "Exited                      0.0         1.0  \n",
       "Complain                    0.0         1.0  \n",
       "Satisfaction Score          4.0         5.0  \n",
       "Card Type                   NaN         NaN  \n",
       "Point Earned              801.0      1000.0  "
      ]
     },
     "execution_count": 8,
     "metadata": {},
     "output_type": "execute_result"
    }
   ],
   "source": [
    "data.describe(include=\"all\").T"
   ]
  },
  {
   "cell_type": "markdown",
   "id": "a0b9a275",
   "metadata": {
    "papermill": {
     "duration": 0.026475,
     "end_time": "2024-03-28T08:21:33.673475",
     "exception": false,
     "start_time": "2024-03-28T08:21:33.647000",
     "status": "completed"
    },
    "tags": []
   },
   "source": [
    "# Dropping Irrelevant features"
   ]
  },
  {
   "cell_type": "code",
   "execution_count": 9,
   "id": "3821f9ab",
   "metadata": {
    "execution": {
     "iopub.execute_input": "2024-03-28T08:21:33.730115Z",
     "iopub.status.busy": "2024-03-28T08:21:33.728828Z",
     "iopub.status.idle": "2024-03-28T08:21:33.736651Z",
     "shell.execute_reply": "2024-03-28T08:21:33.735630Z"
    },
    "papermill": {
     "duration": 0.038588,
     "end_time": "2024-03-28T08:21:33.738888",
     "exception": false,
     "start_time": "2024-03-28T08:21:33.700300",
     "status": "completed"
    },
    "tags": []
   },
   "outputs": [
    {
     "data": {
      "text/plain": [
       "Index(['RowNumber', 'CustomerId', 'Surname', 'CreditScore', 'Geography',\n",
       "       'Gender', 'Age', 'Tenure', 'Balance', 'NumOfProducts', 'HasCrCard',\n",
       "       'IsActiveMember', 'EstimatedSalary', 'Exited', 'Complain',\n",
       "       'Satisfaction Score', 'Card Type', 'Point Earned'],\n",
       "      dtype='object')"
      ]
     },
     "execution_count": 9,
     "metadata": {},
     "output_type": "execute_result"
    }
   ],
   "source": [
    "data.columns"
   ]
  },
  {
   "cell_type": "code",
   "execution_count": 10,
   "id": "5189e89e",
   "metadata": {
    "execution": {
     "iopub.execute_input": "2024-03-28T08:21:33.858430Z",
     "iopub.status.busy": "2024-03-28T08:21:33.857864Z",
     "iopub.status.idle": "2024-03-28T08:21:33.870299Z",
     "shell.execute_reply": "2024-03-28T08:21:33.868070Z"
    },
    "papermill": {
     "duration": 0.107542,
     "end_time": "2024-03-28T08:21:33.873485",
     "exception": false,
     "start_time": "2024-03-28T08:21:33.765943",
     "status": "completed"
    },
    "tags": []
   },
   "outputs": [],
   "source": [
    "data.drop(columns=[\"RowNumber\", \"CustomerId\", \"Surname\"], inplace=True)"
   ]
  },
  {
   "cell_type": "code",
   "execution_count": 11,
   "id": "aa15e806",
   "metadata": {
    "execution": {
     "iopub.execute_input": "2024-03-28T08:21:33.932786Z",
     "iopub.status.busy": "2024-03-28T08:21:33.932005Z",
     "iopub.status.idle": "2024-03-28T08:21:33.949859Z",
     "shell.execute_reply": "2024-03-28T08:21:33.948665Z"
    },
    "papermill": {
     "duration": 0.048994,
     "end_time": "2024-03-28T08:21:33.952299",
     "exception": false,
     "start_time": "2024-03-28T08:21:33.903305",
     "status": "completed"
    },
    "tags": []
   },
   "outputs": [
    {
     "data": {
      "text/html": [
       "<div>\n",
       "<style scoped>\n",
       "    .dataframe tbody tr th:only-of-type {\n",
       "        vertical-align: middle;\n",
       "    }\n",
       "\n",
       "    .dataframe tbody tr th {\n",
       "        vertical-align: top;\n",
       "    }\n",
       "\n",
       "    .dataframe thead th {\n",
       "        text-align: right;\n",
       "    }\n",
       "</style>\n",
       "<table border=\"1\" class=\"dataframe\">\n",
       "  <thead>\n",
       "    <tr style=\"text-align: right;\">\n",
       "      <th></th>\n",
       "      <th>CreditScore</th>\n",
       "      <th>Geography</th>\n",
       "      <th>Gender</th>\n",
       "      <th>Age</th>\n",
       "      <th>Tenure</th>\n",
       "      <th>Balance</th>\n",
       "      <th>NumOfProducts</th>\n",
       "      <th>HasCrCard</th>\n",
       "      <th>IsActiveMember</th>\n",
       "      <th>EstimatedSalary</th>\n",
       "      <th>Exited</th>\n",
       "      <th>Complain</th>\n",
       "      <th>Satisfaction Score</th>\n",
       "      <th>Card Type</th>\n",
       "      <th>Point Earned</th>\n",
       "    </tr>\n",
       "  </thead>\n",
       "  <tbody>\n",
       "    <tr>\n",
       "      <th>0</th>\n",
       "      <td>619</td>\n",
       "      <td>France</td>\n",
       "      <td>Female</td>\n",
       "      <td>42</td>\n",
       "      <td>2</td>\n",
       "      <td>0.00</td>\n",
       "      <td>1</td>\n",
       "      <td>1</td>\n",
       "      <td>1</td>\n",
       "      <td>101348.88</td>\n",
       "      <td>1</td>\n",
       "      <td>1</td>\n",
       "      <td>2</td>\n",
       "      <td>DIAMOND</td>\n",
       "      <td>464</td>\n",
       "    </tr>\n",
       "    <tr>\n",
       "      <th>1</th>\n",
       "      <td>608</td>\n",
       "      <td>Spain</td>\n",
       "      <td>Female</td>\n",
       "      <td>41</td>\n",
       "      <td>1</td>\n",
       "      <td>83807.86</td>\n",
       "      <td>1</td>\n",
       "      <td>0</td>\n",
       "      <td>1</td>\n",
       "      <td>112542.58</td>\n",
       "      <td>0</td>\n",
       "      <td>1</td>\n",
       "      <td>3</td>\n",
       "      <td>DIAMOND</td>\n",
       "      <td>456</td>\n",
       "    </tr>\n",
       "    <tr>\n",
       "      <th>2</th>\n",
       "      <td>502</td>\n",
       "      <td>France</td>\n",
       "      <td>Female</td>\n",
       "      <td>42</td>\n",
       "      <td>8</td>\n",
       "      <td>159660.80</td>\n",
       "      <td>3</td>\n",
       "      <td>1</td>\n",
       "      <td>0</td>\n",
       "      <td>113931.57</td>\n",
       "      <td>1</td>\n",
       "      <td>1</td>\n",
       "      <td>3</td>\n",
       "      <td>DIAMOND</td>\n",
       "      <td>377</td>\n",
       "    </tr>\n",
       "    <tr>\n",
       "      <th>3</th>\n",
       "      <td>699</td>\n",
       "      <td>France</td>\n",
       "      <td>Female</td>\n",
       "      <td>39</td>\n",
       "      <td>1</td>\n",
       "      <td>0.00</td>\n",
       "      <td>2</td>\n",
       "      <td>0</td>\n",
       "      <td>0</td>\n",
       "      <td>93826.63</td>\n",
       "      <td>0</td>\n",
       "      <td>0</td>\n",
       "      <td>5</td>\n",
       "      <td>GOLD</td>\n",
       "      <td>350</td>\n",
       "    </tr>\n",
       "    <tr>\n",
       "      <th>4</th>\n",
       "      <td>850</td>\n",
       "      <td>Spain</td>\n",
       "      <td>Female</td>\n",
       "      <td>43</td>\n",
       "      <td>2</td>\n",
       "      <td>125510.82</td>\n",
       "      <td>1</td>\n",
       "      <td>1</td>\n",
       "      <td>1</td>\n",
       "      <td>79084.10</td>\n",
       "      <td>0</td>\n",
       "      <td>0</td>\n",
       "      <td>5</td>\n",
       "      <td>GOLD</td>\n",
       "      <td>425</td>\n",
       "    </tr>\n",
       "  </tbody>\n",
       "</table>\n",
       "</div>"
      ],
      "text/plain": [
       "   CreditScore Geography  Gender  Age  Tenure    Balance  NumOfProducts  \\\n",
       "0          619    France  Female   42       2       0.00              1   \n",
       "1          608     Spain  Female   41       1   83807.86              1   \n",
       "2          502    France  Female   42       8  159660.80              3   \n",
       "3          699    France  Female   39       1       0.00              2   \n",
       "4          850     Spain  Female   43       2  125510.82              1   \n",
       "\n",
       "   HasCrCard  IsActiveMember  EstimatedSalary  Exited  Complain  \\\n",
       "0          1               1        101348.88       1         1   \n",
       "1          0               1        112542.58       0         1   \n",
       "2          1               0        113931.57       1         1   \n",
       "3          0               0         93826.63       0         0   \n",
       "4          1               1         79084.10       0         0   \n",
       "\n",
       "   Satisfaction Score Card Type  Point Earned  \n",
       "0                   2   DIAMOND           464  \n",
       "1                   3   DIAMOND           456  \n",
       "2                   3   DIAMOND           377  \n",
       "3                   5      GOLD           350  \n",
       "4                   5      GOLD           425  "
      ]
     },
     "execution_count": 11,
     "metadata": {},
     "output_type": "execute_result"
    }
   ],
   "source": [
    "data.head()"
   ]
  },
  {
   "cell_type": "markdown",
   "id": "f0c57c25",
   "metadata": {
    "execution": {
     "iopub.execute_input": "2024-03-27T13:01:14.039555Z",
     "iopub.status.busy": "2024-03-27T13:01:14.039082Z",
     "iopub.status.idle": "2024-03-27T13:01:14.045112Z",
     "shell.execute_reply": "2024-03-27T13:01:14.043704Z",
     "shell.execute_reply.started": "2024-03-27T13:01:14.039514Z"
    },
    "papermill": {
     "duration": 0.038138,
     "end_time": "2024-03-28T08:21:34.018260",
     "exception": false,
     "start_time": "2024-03-28T08:21:33.980122",
     "status": "completed"
    },
    "tags": []
   },
   "source": [
    "# Encoding Categorical data"
   ]
  },
  {
   "cell_type": "code",
   "execution_count": 12,
   "id": "3e08fa71",
   "metadata": {
    "execution": {
     "iopub.execute_input": "2024-03-28T08:21:34.093393Z",
     "iopub.status.busy": "2024-03-28T08:21:34.092073Z",
     "iopub.status.idle": "2024-03-28T08:21:34.103639Z",
     "shell.execute_reply": "2024-03-28T08:21:34.102406Z"
    },
    "papermill": {
     "duration": 0.054711,
     "end_time": "2024-03-28T08:21:34.106274",
     "exception": false,
     "start_time": "2024-03-28T08:21:34.051563",
     "status": "completed"
    },
    "tags": []
   },
   "outputs": [
    {
     "data": {
      "text/plain": [
       "array(['France', 'Spain', 'Germany'], dtype=object)"
      ]
     },
     "execution_count": 12,
     "metadata": {},
     "output_type": "execute_result"
    }
   ],
   "source": [
    "data.Geography.unique()"
   ]
  },
  {
   "cell_type": "code",
   "execution_count": 13,
   "id": "bf80596d",
   "metadata": {
    "execution": {
     "iopub.execute_input": "2024-03-28T08:21:34.169476Z",
     "iopub.status.busy": "2024-03-28T08:21:34.169091Z",
     "iopub.status.idle": "2024-03-28T08:21:34.187666Z",
     "shell.execute_reply": "2024-03-28T08:21:34.186567Z"
    },
    "papermill": {
     "duration": 0.052175,
     "end_time": "2024-03-28T08:21:34.189974",
     "exception": false,
     "start_time": "2024-03-28T08:21:34.137799",
     "status": "completed"
    },
    "tags": []
   },
   "outputs": [
    {
     "data": {
      "text/html": [
       "<div>\n",
       "<style scoped>\n",
       "    .dataframe tbody tr th:only-of-type {\n",
       "        vertical-align: middle;\n",
       "    }\n",
       "\n",
       "    .dataframe tbody tr th {\n",
       "        vertical-align: top;\n",
       "    }\n",
       "\n",
       "    .dataframe thead th {\n",
       "        text-align: right;\n",
       "    }\n",
       "</style>\n",
       "<table border=\"1\" class=\"dataframe\">\n",
       "  <thead>\n",
       "    <tr style=\"text-align: right;\">\n",
       "      <th></th>\n",
       "      <th>CreditScore</th>\n",
       "      <th>Geography</th>\n",
       "      <th>Gender</th>\n",
       "      <th>Age</th>\n",
       "      <th>Tenure</th>\n",
       "      <th>Balance</th>\n",
       "      <th>NumOfProducts</th>\n",
       "      <th>HasCrCard</th>\n",
       "      <th>IsActiveMember</th>\n",
       "      <th>EstimatedSalary</th>\n",
       "      <th>Exited</th>\n",
       "      <th>Complain</th>\n",
       "      <th>Satisfaction Score</th>\n",
       "      <th>Card Type</th>\n",
       "      <th>Point Earned</th>\n",
       "    </tr>\n",
       "  </thead>\n",
       "  <tbody>\n",
       "    <tr>\n",
       "      <th>0</th>\n",
       "      <td>619</td>\n",
       "      <td>France</td>\n",
       "      <td>Female</td>\n",
       "      <td>42</td>\n",
       "      <td>2</td>\n",
       "      <td>0.00</td>\n",
       "      <td>1</td>\n",
       "      <td>1</td>\n",
       "      <td>1</td>\n",
       "      <td>101348.88</td>\n",
       "      <td>1</td>\n",
       "      <td>1</td>\n",
       "      <td>2</td>\n",
       "      <td>DIAMOND</td>\n",
       "      <td>464</td>\n",
       "    </tr>\n",
       "    <tr>\n",
       "      <th>1</th>\n",
       "      <td>608</td>\n",
       "      <td>Spain</td>\n",
       "      <td>Female</td>\n",
       "      <td>41</td>\n",
       "      <td>1</td>\n",
       "      <td>83807.86</td>\n",
       "      <td>1</td>\n",
       "      <td>0</td>\n",
       "      <td>1</td>\n",
       "      <td>112542.58</td>\n",
       "      <td>0</td>\n",
       "      <td>1</td>\n",
       "      <td>3</td>\n",
       "      <td>DIAMOND</td>\n",
       "      <td>456</td>\n",
       "    </tr>\n",
       "    <tr>\n",
       "      <th>2</th>\n",
       "      <td>502</td>\n",
       "      <td>France</td>\n",
       "      <td>Female</td>\n",
       "      <td>42</td>\n",
       "      <td>8</td>\n",
       "      <td>159660.80</td>\n",
       "      <td>3</td>\n",
       "      <td>1</td>\n",
       "      <td>0</td>\n",
       "      <td>113931.57</td>\n",
       "      <td>1</td>\n",
       "      <td>1</td>\n",
       "      <td>3</td>\n",
       "      <td>DIAMOND</td>\n",
       "      <td>377</td>\n",
       "    </tr>\n",
       "    <tr>\n",
       "      <th>3</th>\n",
       "      <td>699</td>\n",
       "      <td>France</td>\n",
       "      <td>Female</td>\n",
       "      <td>39</td>\n",
       "      <td>1</td>\n",
       "      <td>0.00</td>\n",
       "      <td>2</td>\n",
       "      <td>0</td>\n",
       "      <td>0</td>\n",
       "      <td>93826.63</td>\n",
       "      <td>0</td>\n",
       "      <td>0</td>\n",
       "      <td>5</td>\n",
       "      <td>GOLD</td>\n",
       "      <td>350</td>\n",
       "    </tr>\n",
       "    <tr>\n",
       "      <th>4</th>\n",
       "      <td>850</td>\n",
       "      <td>Spain</td>\n",
       "      <td>Female</td>\n",
       "      <td>43</td>\n",
       "      <td>2</td>\n",
       "      <td>125510.82</td>\n",
       "      <td>1</td>\n",
       "      <td>1</td>\n",
       "      <td>1</td>\n",
       "      <td>79084.10</td>\n",
       "      <td>0</td>\n",
       "      <td>0</td>\n",
       "      <td>5</td>\n",
       "      <td>GOLD</td>\n",
       "      <td>425</td>\n",
       "    </tr>\n",
       "  </tbody>\n",
       "</table>\n",
       "</div>"
      ],
      "text/plain": [
       "   CreditScore Geography  Gender  Age  Tenure    Balance  NumOfProducts  \\\n",
       "0          619    France  Female   42       2       0.00              1   \n",
       "1          608     Spain  Female   41       1   83807.86              1   \n",
       "2          502    France  Female   42       8  159660.80              3   \n",
       "3          699    France  Female   39       1       0.00              2   \n",
       "4          850     Spain  Female   43       2  125510.82              1   \n",
       "\n",
       "   HasCrCard  IsActiveMember  EstimatedSalary  Exited  Complain  \\\n",
       "0          1               1        101348.88       1         1   \n",
       "1          0               1        112542.58       0         1   \n",
       "2          1               0        113931.57       1         1   \n",
       "3          0               0         93826.63       0         0   \n",
       "4          1               1         79084.10       0         0   \n",
       "\n",
       "   Satisfaction Score Card Type  Point Earned  \n",
       "0                   2   DIAMOND           464  \n",
       "1                   3   DIAMOND           456  \n",
       "2                   3   DIAMOND           377  \n",
       "3                   5      GOLD           350  \n",
       "4                   5      GOLD           425  "
      ]
     },
     "execution_count": 13,
     "metadata": {},
     "output_type": "execute_result"
    }
   ],
   "source": [
    "data.head()"
   ]
  },
  {
   "cell_type": "code",
   "execution_count": 14,
   "id": "f6ec9974",
   "metadata": {
    "execution": {
     "iopub.execute_input": "2024-03-28T08:21:34.248594Z",
     "iopub.status.busy": "2024-03-28T08:21:34.248226Z",
     "iopub.status.idle": "2024-03-28T08:21:34.261427Z",
     "shell.execute_reply": "2024-03-28T08:21:34.260444Z"
    },
    "papermill": {
     "duration": 0.04536,
     "end_time": "2024-03-28T08:21:34.263988",
     "exception": false,
     "start_time": "2024-03-28T08:21:34.218628",
     "status": "completed"
    },
    "tags": []
   },
   "outputs": [],
   "source": [
    "data = pd.get_dummies(data, drop_first=True)"
   ]
  },
  {
   "cell_type": "code",
   "execution_count": 15,
   "id": "2adf76ab",
   "metadata": {
    "execution": {
     "iopub.execute_input": "2024-03-28T08:21:34.332135Z",
     "iopub.status.busy": "2024-03-28T08:21:34.331228Z",
     "iopub.status.idle": "2024-03-28T08:21:34.352807Z",
     "shell.execute_reply": "2024-03-28T08:21:34.351579Z"
    },
    "papermill": {
     "duration": 0.056516,
     "end_time": "2024-03-28T08:21:34.355368",
     "exception": false,
     "start_time": "2024-03-28T08:21:34.298852",
     "status": "completed"
    },
    "tags": []
   },
   "outputs": [
    {
     "data": {
      "text/html": [
       "<div>\n",
       "<style scoped>\n",
       "    .dataframe tbody tr th:only-of-type {\n",
       "        vertical-align: middle;\n",
       "    }\n",
       "\n",
       "    .dataframe tbody tr th {\n",
       "        vertical-align: top;\n",
       "    }\n",
       "\n",
       "    .dataframe thead th {\n",
       "        text-align: right;\n",
       "    }\n",
       "</style>\n",
       "<table border=\"1\" class=\"dataframe\">\n",
       "  <thead>\n",
       "    <tr style=\"text-align: right;\">\n",
       "      <th></th>\n",
       "      <th>CreditScore</th>\n",
       "      <th>Age</th>\n",
       "      <th>Tenure</th>\n",
       "      <th>Balance</th>\n",
       "      <th>NumOfProducts</th>\n",
       "      <th>HasCrCard</th>\n",
       "      <th>IsActiveMember</th>\n",
       "      <th>EstimatedSalary</th>\n",
       "      <th>Exited</th>\n",
       "      <th>Complain</th>\n",
       "      <th>Satisfaction Score</th>\n",
       "      <th>Point Earned</th>\n",
       "      <th>Geography_Germany</th>\n",
       "      <th>Geography_Spain</th>\n",
       "      <th>Gender_Male</th>\n",
       "      <th>Card Type_GOLD</th>\n",
       "      <th>Card Type_PLATINUM</th>\n",
       "      <th>Card Type_SILVER</th>\n",
       "    </tr>\n",
       "  </thead>\n",
       "  <tbody>\n",
       "    <tr>\n",
       "      <th>0</th>\n",
       "      <td>619</td>\n",
       "      <td>42</td>\n",
       "      <td>2</td>\n",
       "      <td>0.00</td>\n",
       "      <td>1</td>\n",
       "      <td>1</td>\n",
       "      <td>1</td>\n",
       "      <td>101348.88</td>\n",
       "      <td>1</td>\n",
       "      <td>1</td>\n",
       "      <td>2</td>\n",
       "      <td>464</td>\n",
       "      <td>False</td>\n",
       "      <td>False</td>\n",
       "      <td>False</td>\n",
       "      <td>False</td>\n",
       "      <td>False</td>\n",
       "      <td>False</td>\n",
       "    </tr>\n",
       "    <tr>\n",
       "      <th>1</th>\n",
       "      <td>608</td>\n",
       "      <td>41</td>\n",
       "      <td>1</td>\n",
       "      <td>83807.86</td>\n",
       "      <td>1</td>\n",
       "      <td>0</td>\n",
       "      <td>1</td>\n",
       "      <td>112542.58</td>\n",
       "      <td>0</td>\n",
       "      <td>1</td>\n",
       "      <td>3</td>\n",
       "      <td>456</td>\n",
       "      <td>False</td>\n",
       "      <td>True</td>\n",
       "      <td>False</td>\n",
       "      <td>False</td>\n",
       "      <td>False</td>\n",
       "      <td>False</td>\n",
       "    </tr>\n",
       "    <tr>\n",
       "      <th>2</th>\n",
       "      <td>502</td>\n",
       "      <td>42</td>\n",
       "      <td>8</td>\n",
       "      <td>159660.80</td>\n",
       "      <td>3</td>\n",
       "      <td>1</td>\n",
       "      <td>0</td>\n",
       "      <td>113931.57</td>\n",
       "      <td>1</td>\n",
       "      <td>1</td>\n",
       "      <td>3</td>\n",
       "      <td>377</td>\n",
       "      <td>False</td>\n",
       "      <td>False</td>\n",
       "      <td>False</td>\n",
       "      <td>False</td>\n",
       "      <td>False</td>\n",
       "      <td>False</td>\n",
       "    </tr>\n",
       "    <tr>\n",
       "      <th>3</th>\n",
       "      <td>699</td>\n",
       "      <td>39</td>\n",
       "      <td>1</td>\n",
       "      <td>0.00</td>\n",
       "      <td>2</td>\n",
       "      <td>0</td>\n",
       "      <td>0</td>\n",
       "      <td>93826.63</td>\n",
       "      <td>0</td>\n",
       "      <td>0</td>\n",
       "      <td>5</td>\n",
       "      <td>350</td>\n",
       "      <td>False</td>\n",
       "      <td>False</td>\n",
       "      <td>False</td>\n",
       "      <td>True</td>\n",
       "      <td>False</td>\n",
       "      <td>False</td>\n",
       "    </tr>\n",
       "    <tr>\n",
       "      <th>4</th>\n",
       "      <td>850</td>\n",
       "      <td>43</td>\n",
       "      <td>2</td>\n",
       "      <td>125510.82</td>\n",
       "      <td>1</td>\n",
       "      <td>1</td>\n",
       "      <td>1</td>\n",
       "      <td>79084.10</td>\n",
       "      <td>0</td>\n",
       "      <td>0</td>\n",
       "      <td>5</td>\n",
       "      <td>425</td>\n",
       "      <td>False</td>\n",
       "      <td>True</td>\n",
       "      <td>False</td>\n",
       "      <td>True</td>\n",
       "      <td>False</td>\n",
       "      <td>False</td>\n",
       "    </tr>\n",
       "  </tbody>\n",
       "</table>\n",
       "</div>"
      ],
      "text/plain": [
       "   CreditScore  Age  Tenure    Balance  NumOfProducts  HasCrCard  \\\n",
       "0          619   42       2       0.00              1          1   \n",
       "1          608   41       1   83807.86              1          0   \n",
       "2          502   42       8  159660.80              3          1   \n",
       "3          699   39       1       0.00              2          0   \n",
       "4          850   43       2  125510.82              1          1   \n",
       "\n",
       "   IsActiveMember  EstimatedSalary  Exited  Complain  Satisfaction Score  \\\n",
       "0               1        101348.88       1         1                   2   \n",
       "1               1        112542.58       0         1                   3   \n",
       "2               0        113931.57       1         1                   3   \n",
       "3               0         93826.63       0         0                   5   \n",
       "4               1         79084.10       0         0                   5   \n",
       "\n",
       "   Point Earned  Geography_Germany  Geography_Spain  Gender_Male  \\\n",
       "0           464              False            False        False   \n",
       "1           456              False             True        False   \n",
       "2           377              False            False        False   \n",
       "3           350              False            False        False   \n",
       "4           425              False             True        False   \n",
       "\n",
       "   Card Type_GOLD  Card Type_PLATINUM  Card Type_SILVER  \n",
       "0           False               False             False  \n",
       "1           False               False             False  \n",
       "2           False               False             False  \n",
       "3            True               False             False  \n",
       "4            True               False             False  "
      ]
     },
     "execution_count": 15,
     "metadata": {},
     "output_type": "execute_result"
    }
   ],
   "source": [
    "data.head()"
   ]
  },
  {
   "cell_type": "markdown",
   "id": "2a8f02e4",
   "metadata": {
    "papermill": {
     "duration": 0.029737,
     "end_time": "2024-03-28T08:21:34.414173",
     "exception": false,
     "start_time": "2024-03-28T08:21:34.384436",
     "status": "completed"
    },
    "tags": []
   },
   "source": [
    "# Not handling imbalamced"
   ]
  },
  {
   "cell_type": "code",
   "execution_count": 16,
   "id": "f1077d32",
   "metadata": {
    "execution": {
     "iopub.execute_input": "2024-03-28T08:21:34.478128Z",
     "iopub.status.busy": "2024-03-28T08:21:34.477731Z",
     "iopub.status.idle": "2024-03-28T08:21:34.487553Z",
     "shell.execute_reply": "2024-03-28T08:21:34.486752Z"
    },
    "papermill": {
     "duration": 0.046642,
     "end_time": "2024-03-28T08:21:34.489884",
     "exception": false,
     "start_time": "2024-03-28T08:21:34.443242",
     "status": "completed"
    },
    "tags": []
   },
   "outputs": [
    {
     "data": {
      "text/plain": [
       "Exited\n",
       "0    7962\n",
       "1    2038\n",
       "Name: count, dtype: int64"
      ]
     },
     "execution_count": 16,
     "metadata": {},
     "output_type": "execute_result"
    }
   ],
   "source": [
    "data.Exited.value_counts()"
   ]
  },
  {
   "cell_type": "code",
   "execution_count": 17,
   "id": "cfc38404",
   "metadata": {
    "execution": {
     "iopub.execute_input": "2024-03-28T08:21:34.551757Z",
     "iopub.status.busy": "2024-03-28T08:21:34.550933Z",
     "iopub.status.idle": "2024-03-28T08:21:34.964399Z",
     "shell.execute_reply": "2024-03-28T08:21:34.963236Z"
    },
    "papermill": {
     "duration": 0.446286,
     "end_time": "2024-03-28T08:21:34.966864",
     "exception": false,
     "start_time": "2024-03-28T08:21:34.520578",
     "status": "completed"
    },
    "tags": []
   },
   "outputs": [
    {
     "data": {
      "image/png": "[encoded data removed]",
      "text/plain": [
       "<Figure size 640x480 with 1 Axes>"
      ]
     },
     "metadata": {},
     "output_type": "display_data"
    }
   ],
   "source": [
    "sns.set(style=\"whitegrid\")\n",
    "\n",
    "ax = sns.countplot(x=\"Exited\", data=data, palette=\"Set2\")\n",
    "\n",
    "ax.set_title('Count of Customers Exiting')  \n",
    "ax.set_xlabel('Exited')\n",
    "ax.set_ylabel('Count')\n",
    "\n",
    "\n",
    "for p in ax.patches:\n",
    "    ax.annotate(f'{p.get_height()}', (p.get_x() + p.get_width() / 2., p.get_height()),\n",
    "                ha='center', va='center', fontsize=10, color='black', xytext=(0, 5),\n",
    "                textcoords='offset points')\n",
    "\n",
    "plt.tight_layout() \n",
    "plt.show()\n"
   ]
  },
  {
   "cell_type": "code",
   "execution_count": 18,
   "id": "66899186",
   "metadata": {
    "execution": {
     "iopub.execute_input": "2024-03-28T08:21:35.027675Z",
     "iopub.status.busy": "2024-03-28T08:21:35.027268Z",
     "iopub.status.idle": "2024-03-28T08:21:35.034159Z",
     "shell.execute_reply": "2024-03-28T08:21:35.033301Z"
    },
    "papermill": {
     "duration": 0.040648,
     "end_time": "2024-03-28T08:21:35.036587",
     "exception": false,
     "start_time": "2024-03-28T08:21:34.995939",
     "status": "completed"
    },
    "tags": []
   },
   "outputs": [],
   "source": [
    "X = data.drop(\"Exited\", axis=1)\n",
    "y = data.Exited"
   ]
  },
  {
   "cell_type": "markdown",
   "id": "5b283274",
   "metadata": {
    "papermill": {
     "duration": 0.0299,
     "end_time": "2024-03-28T08:21:35.096148",
     "exception": false,
     "start_time": "2024-03-28T08:21:35.066248",
     "status": "completed"
    },
    "tags": []
   },
   "source": [
    "# Handling imbalanced data with SMOTE"
   ]
  },
  {
   "cell_type": "code",
   "execution_count": 19,
   "id": "a24730a4",
   "metadata": {
    "execution": {
     "iopub.execute_input": "2024-03-28T08:21:35.158533Z",
     "iopub.status.busy": "2024-03-28T08:21:35.157473Z",
     "iopub.status.idle": "2024-03-28T08:21:35.915525Z",
     "shell.execute_reply": "2024-03-28T08:21:35.914348Z"
    },
    "papermill": {
     "duration": 0.791294,
     "end_time": "2024-03-28T08:21:35.918326",
     "exception": false,
     "start_time": "2024-03-28T08:21:35.127032",
     "status": "completed"
    },
    "tags": []
   },
   "outputs": [],
   "source": [
    "from imblearn.over_sampling import SMOTE"
   ]
  },
  {
   "cell_type": "code",
   "execution_count": 20,
   "id": "5973a104",
   "metadata": {
    "execution": {
     "iopub.execute_input": "2024-03-28T08:21:35.979304Z",
     "iopub.status.busy": "2024-03-28T08:21:35.978705Z",
     "iopub.status.idle": "2024-03-28T08:21:36.084696Z",
     "shell.execute_reply": "2024-03-28T08:21:36.083748Z"
    },
    "papermill": {
     "duration": 0.139754,
     "end_time": "2024-03-28T08:21:36.087240",
     "exception": false,
     "start_time": "2024-03-28T08:21:35.947486",
     "status": "completed"
    },
    "tags": []
   },
   "outputs": [],
   "source": [
    "X_res, y_res = SMOTE().fit_resample(X, y)"
   ]
  },
  {
   "cell_type": "code",
   "execution_count": 21,
   "id": "1c56fe88",
   "metadata": {
    "execution": {
     "iopub.execute_input": "2024-03-28T08:21:36.150830Z",
     "iopub.status.busy": "2024-03-28T08:21:36.148548Z",
     "iopub.status.idle": "2024-03-28T08:21:36.157894Z",
     "shell.execute_reply": "2024-03-28T08:21:36.157077Z"
    },
    "papermill": {
     "duration": 0.042718,
     "end_time": "2024-03-28T08:21:36.160162",
     "exception": false,
     "start_time": "2024-03-28T08:21:36.117444",
     "status": "completed"
    },
    "tags": []
   },
   "outputs": [
    {
     "data": {
      "text/plain": [
       "Exited\n",
       "1    7962\n",
       "0    7962\n",
       "Name: count, dtype: int64"
      ]
     },
     "execution_count": 21,
     "metadata": {},
     "output_type": "execute_result"
    }
   ],
   "source": [
    "y_res.value_counts()"
   ]
  },
  {
   "cell_type": "markdown",
   "id": "3637f81b",
   "metadata": {
    "papermill": {
     "duration": 0.028953,
     "end_time": "2024-03-28T08:21:36.218506",
     "exception": false,
     "start_time": "2024-03-28T08:21:36.189553",
     "status": "completed"
    },
    "tags": []
   },
   "source": [
    "# Splitting data into train and test"
   ]
  },
  {
   "cell_type": "code",
   "execution_count": 22,
   "id": "800aaa12",
   "metadata": {
    "execution": {
     "iopub.execute_input": "2024-03-28T08:21:36.279081Z",
     "iopub.status.busy": "2024-03-28T08:21:36.278452Z",
     "iopub.status.idle": "2024-03-28T08:21:36.282713Z",
     "shell.execute_reply": "2024-03-28T08:21:36.281841Z"
    },
    "papermill": {
     "duration": 0.037304,
     "end_time": "2024-03-28T08:21:36.285013",
     "exception": false,
     "start_time": "2024-03-28T08:21:36.247709",
     "status": "completed"
    },
    "tags": []
   },
   "outputs": [],
   "source": [
    "from sklearn.model_selection import train_test_split"
   ]
  },
  {
   "cell_type": "code",
   "execution_count": 23,
   "id": "490b1545",
   "metadata": {
    "execution": {
     "iopub.execute_input": "2024-03-28T08:21:36.345998Z",
     "iopub.status.busy": "2024-03-28T08:21:36.345077Z",
     "iopub.status.idle": "2024-03-28T08:21:36.356846Z",
     "shell.execute_reply": "2024-03-28T08:21:36.355567Z"
    },
    "papermill": {
     "duration": 0.045005,
     "end_time": "2024-03-28T08:21:36.359586",
     "exception": false,
     "start_time": "2024-03-28T08:21:36.314581",
     "status": "completed"
    },
    "tags": []
   },
   "outputs": [],
   "source": [
    "X_train, X_test, y_train, y_test = train_test_split(X_res, y_res, test_size=0.20, random_state=42)"
   ]
  },
  {
   "cell_type": "markdown",
   "id": "f518dea2",
   "metadata": {
    "papermill": {
     "duration": 0.02896,
     "end_time": "2024-03-28T08:21:36.417722",
     "exception": false,
     "start_time": "2024-03-28T08:21:36.388762",
     "status": "completed"
    },
    "tags": []
   },
   "source": [
    "# Feature Scaling"
   ]
  },
  {
   "cell_type": "code",
   "execution_count": 24,
   "id": "9e03f835",
   "metadata": {
    "execution": {
     "iopub.execute_input": "2024-03-28T08:21:36.478378Z",
     "iopub.status.busy": "2024-03-28T08:21:36.478001Z",
     "iopub.status.idle": "2024-03-28T08:21:36.482654Z",
     "shell.execute_reply": "2024-03-28T08:21:36.481584Z"
    },
    "papermill": {
     "duration": 0.038194,
     "end_time": "2024-03-28T08:21:36.485048",
     "exception": false,
     "start_time": "2024-03-28T08:21:36.446854",
     "status": "completed"
    },
    "tags": []
   },
   "outputs": [],
   "source": [
    "from sklearn.preprocessing import StandardScaler"
   ]
  },
  {
   "cell_type": "code",
   "execution_count": 25,
   "id": "6b22af5b",
   "metadata": {
    "execution": {
     "iopub.execute_input": "2024-03-28T08:21:36.546064Z",
     "iopub.status.busy": "2024-03-28T08:21:36.545047Z",
     "iopub.status.idle": "2024-03-28T08:21:36.549844Z",
     "shell.execute_reply": "2024-03-28T08:21:36.548807Z"
    },
    "papermill": {
     "duration": 0.037784,
     "end_time": "2024-03-28T08:21:36.552030",
     "exception": false,
     "start_time": "2024-03-28T08:21:36.514246",
     "status": "completed"
    },
    "tags": []
   },
   "outputs": [],
   "source": [
    "sc = StandardScaler()"
   ]
  },
  {
   "cell_type": "code",
   "execution_count": 26,
   "id": "abf00ef1",
   "metadata": {
    "execution": {
     "iopub.execute_input": "2024-03-28T08:21:36.612649Z",
     "iopub.status.busy": "2024-03-28T08:21:36.611946Z",
     "iopub.status.idle": "2024-03-28T08:21:36.641464Z",
     "shell.execute_reply": "2024-03-28T08:21:36.640500Z"
    },
    "papermill": {
     "duration": 0.062738,
     "end_time": "2024-03-28T08:21:36.643956",
     "exception": false,
     "start_time": "2024-03-28T08:21:36.581218",
     "status": "completed"
    },
    "tags": []
   },
   "outputs": [],
   "source": [
    "X_train = sc.fit_transform(X_train)\n",
    "X_test = sc.transform(X_test)"
   ]
  },
  {
   "cell_type": "markdown",
   "id": "8c20b2c3",
   "metadata": {
    "papermill": {
     "duration": 0.028936,
     "end_time": "2024-03-28T08:21:36.702324",
     "exception": false,
     "start_time": "2024-03-28T08:21:36.673388",
     "status": "completed"
    },
    "tags": []
   },
   "source": [
    "# logistic regression"
   ]
  },
  {
   "cell_type": "code",
   "execution_count": 27,
   "id": "b2cba3e6",
   "metadata": {
    "execution": {
     "iopub.execute_input": "2024-03-28T08:21:36.762859Z",
     "iopub.status.busy": "2024-03-28T08:21:36.762155Z",
     "iopub.status.idle": "2024-03-28T08:21:36.766318Z",
     "shell.execute_reply": "2024-03-28T08:21:36.765408Z"
    },
    "papermill": {
     "duration": 0.037145,
     "end_time": "2024-03-28T08:21:36.768686",
     "exception": false,
     "start_time": "2024-03-28T08:21:36.731541",
     "status": "completed"
    },
    "tags": []
   },
   "outputs": [],
   "source": [
    "from sklearn.linear_model import LogisticRegression"
   ]
  },
  {
   "cell_type": "code",
   "execution_count": 28,
   "id": "b1bc2021",
   "metadata": {
    "execution": {
     "iopub.execute_input": "2024-03-28T08:21:36.829498Z",
     "iopub.status.busy": "2024-03-28T08:21:36.829093Z",
     "iopub.status.idle": "2024-03-28T08:21:36.896466Z",
     "shell.execute_reply": "2024-03-28T08:21:36.894895Z"
    },
    "papermill": {
     "duration": 0.10231,
     "end_time": "2024-03-28T08:21:36.900508",
     "exception": false,
     "start_time": "2024-03-28T08:21:36.798198",
     "status": "completed"
    },
    "tags": []
   },
   "outputs": [
    {
     "data": {
      "text/html": [
       "<style>#sk-container-id-1 {color: black;background-color: white;}#sk-container-id-1 pre{padding: 0;}#sk-container-id-1 div.sk-toggleable {background-color: white;}#sk-container-id-1 label.sk-toggleable__label {cursor: pointer;display: block;width: 100%;margin-bottom: 0;padding: 0.3em;box-sizing: border-box;text-align: center;}#sk-container-id-1 label.sk-toggleable__label-arrow:before {content: \"▸\";float: left;margin-right: 0.25em;color: #696969;}#sk-container-id-1 label.sk-toggleable__label-arrow:hover:before {color: black;}#sk-container-id-1 div.sk-estimator:hover label.sk-toggleable__label-arrow:before {color: black;}#sk-container-id-1 div.sk-toggleable__content {max-height: 0;max-width: 0;overflow: hidden;text-align: left;background-color: #f0f8ff;}#sk-container-id-1 div.sk-toggleable__content pre {margin: 0.2em;color: black;border-radius: 0.25em;background-color: #f0f8ff;}#sk-container-id-1 input.sk-toggleable__control:checked~div.sk-toggleable__content {max-height: 200px;max-width: 100%;overflow: auto;}#sk-container-id-1 input.sk-toggleable__control:checked~label.sk-toggleable__label-arrow:before {content: \"▾\";}#sk-container-id-1 div.sk-estimator input.sk-toggleable__control:checked~label.sk-toggleable__label {background-color: #d4ebff;}#sk-container-id-1 div.sk-label input.sk-toggleable__control:checked~label.sk-toggleable__label {background-color: #d4ebff;}#sk-container-id-1 input.sk-hidden--visually {border: 0;clip: rect(1px 1px 1px 1px);clip: rect(1px, 1px, 1px, 1px);height: 1px;margin: -1px;overflow: hidden;padding: 0;position: absolute;width: 1px;}#sk-container-id-1 div.sk-estimator {font-family: monospace;background-color: #f0f8ff;border: 1px dotted black;border-radius: 0.25em;box-sizing: border-box;margin-bottom: 0.5em;}#sk-container-id-1 div.sk-estimator:hover {background-color: #d4ebff;}#sk-container-id-1 div.sk-parallel-item::after {content: \"\";width: 100%;border-bottom: 1px solid gray;flex-grow: 1;}#sk-container-id-1 div.sk-label:hover label.sk-toggleable__label {background-color: #d4ebff;}#sk-container-id-1 div.sk-serial::before {content: \"\";position: absolute;border-left: 1px solid gray;box-sizing: border-box;top: 0;bottom: 0;left: 50%;z-index: 0;}#sk-container-id-1 div.sk-serial {display: flex;flex-direction: column;align-items: center;background-color: white;padding-right: 0.2em;padding-left: 0.2em;position: relative;}#sk-container-id-1 div.sk-item {position: relative;z-index: 1;}#sk-container-id-1 div.sk-parallel {display: flex;align-items: stretch;justify-content: center;background-color: white;position: relative;}#sk-container-id-1 div.sk-item::before, #sk-container-id-1 div.sk-parallel-item::before {content: \"\";position: absolute;border-left: 1px solid gray;box-sizing: border-box;top: 0;bottom: 0;left: 50%;z-index: -1;}#sk-container-id-1 div.sk-parallel-item {display: flex;flex-direction: column;z-index: 1;position: relative;background-color: white;}#sk-container-id-1 div.sk-parallel-item:first-child::after {align-self: flex-end;width: 50%;}#sk-container-id-1 div.sk-parallel-item:last-child::after {align-self: flex-start;width: 50%;}#sk-container-id-1 div.sk-parallel-item:only-child::after {width: 0;}#sk-container-id-1 div.sk-dashed-wrapped {border: 1px dashed gray;margin: 0 0.4em 0.5em 0.4em;box-sizing: border-box;padding-bottom: 0.4em;background-color: white;}#sk-container-id-1 div.sk-label label {font-family: monospace;font-weight: bold;display: inline-block;line-height: 1.2em;}#sk-container-id-1 div.sk-label-container {text-align: center;}#sk-container-id-1 div.sk-container {/* jupyter's `normalize.less` sets `[hidden] { display: none; }` but bootstrap.min.css set `[hidden] { display: none !important; }` so we also need the `!important` here to be able to override the default hidden behavior on the sphinx rendered scikit-learn.org. See: https://github.com/scikit-learn/scikit-learn/issues/21755 */display: inline-block !important;position: relative;}#sk-container-id-1 div.sk-text-repr-fallback {display: none;}</style><div id=\"sk-container-id-1\" class=\"sk-top-container\"><div class=\"sk-text-repr-fallback\"><pre>LogisticRegression()</pre><b>In a Jupyter environment, please rerun this cell to show the HTML representation or trust the notebook. <br />On GitHub, the HTML representation is unable to render, please try loading this page with nbviewer.org.</b></div><div class=\"sk-container\" hidden><div class=\"sk-item\"><div class=\"sk-estimator sk-toggleable\"><input class=\"sk-toggleable__control sk-hidden--visually\" id=\"sk-estimator-id-1\" type=\"checkbox\" checked><label for=\"sk-estimator-id-1\" class=\"sk-toggleable__label sk-toggleable__label-arrow\">LogisticRegression</label><div class=\"sk-toggleable__content\"><pre>LogisticRegression()</pre></div></div></div></div></div>"
      ],
      "text/plain": [
       "LogisticRegression()"
      ]
     },
     "execution_count": 28,
     "metadata": {},
     "output_type": "execute_result"
    }
   ],
   "source": [
    "log = LogisticRegression()\n",
    "log.fit(X_train, y_train)"
   ]
  },
  {
   "cell_type": "code",
   "execution_count": 29,
   "id": "267335b2",
   "metadata": {
    "execution": {
     "iopub.execute_input": "2024-03-28T08:21:37.016850Z",
     "iopub.status.busy": "2024-03-28T08:21:37.016440Z",
     "iopub.status.idle": "2024-03-28T08:21:37.025372Z",
     "shell.execute_reply": "2024-03-28T08:21:37.023942Z"
    },
    "papermill": {
     "duration": 0.065626,
     "end_time": "2024-03-28T08:21:37.029382",
     "exception": false,
     "start_time": "2024-03-28T08:21:36.963756",
     "status": "completed"
    },
    "tags": []
   },
   "outputs": [],
   "source": [
    "y_predict = log.predict(X_test)"
   ]
  },
  {
   "cell_type": "code",
   "execution_count": 30,
   "id": "d07410c4",
   "metadata": {
    "execution": {
     "iopub.execute_input": "2024-03-28T08:21:37.150993Z",
     "iopub.status.busy": "2024-03-28T08:21:37.150527Z",
     "iopub.status.idle": "2024-03-28T08:21:37.155718Z",
     "shell.execute_reply": "2024-03-28T08:21:37.154361Z"
    },
    "papermill": {
     "duration": 0.064857,
     "end_time": "2024-03-28T08:21:37.158251",
     "exception": false,
     "start_time": "2024-03-28T08:21:37.093394",
     "status": "completed"
    },
    "tags": []
   },
   "outputs": [],
   "source": [
    "from sklearn.metrics import accuracy_score"
   ]
  },
  {
   "cell_type": "code",
   "execution_count": 31,
   "id": "c3454824",
   "metadata": {
    "execution": {
     "iopub.execute_input": "2024-03-28T08:21:37.220857Z",
     "iopub.status.busy": "2024-03-28T08:21:37.220179Z",
     "iopub.status.idle": "2024-03-28T08:21:37.230116Z",
     "shell.execute_reply": "2024-03-28T08:21:37.228983Z"
    },
    "papermill": {
     "duration": 0.044089,
     "end_time": "2024-03-28T08:21:37.232559",
     "exception": false,
     "start_time": "2024-03-28T08:21:37.188470",
     "status": "completed"
    },
    "tags": []
   },
   "outputs": [
    {
     "data": {
      "text/plain": [
       "0.9974882260596546"
      ]
     },
     "execution_count": 31,
     "metadata": {},
     "output_type": "execute_result"
    }
   ],
   "source": [
    "accuracy_score(y_true=y_test, y_pred=y_predict)"
   ]
  },
  {
   "cell_type": "code",
   "execution_count": 32,
   "id": "8e266938",
   "metadata": {
    "execution": {
     "iopub.execute_input": "2024-03-28T08:21:37.295290Z",
     "iopub.status.busy": "2024-03-28T08:21:37.294836Z",
     "iopub.status.idle": "2024-03-28T08:21:37.300110Z",
     "shell.execute_reply": "2024-03-28T08:21:37.299007Z"
    },
    "papermill": {
     "duration": 0.039307,
     "end_time": "2024-03-28T08:21:37.302610",
     "exception": false,
     "start_time": "2024-03-28T08:21:37.263303",
     "status": "completed"
    },
    "tags": []
   },
   "outputs": [],
   "source": [
    "from sklearn.metrics import precision_score, recall_score, f1_score"
   ]
  },
  {
   "cell_type": "code",
   "execution_count": 33,
   "id": "6aacf029",
   "metadata": {
    "execution": {
     "iopub.execute_input": "2024-03-28T08:21:37.365021Z",
     "iopub.status.busy": "2024-03-28T08:21:37.364618Z",
     "iopub.status.idle": "2024-03-28T08:21:37.375970Z",
     "shell.execute_reply": "2024-03-28T08:21:37.374709Z"
    },
    "papermill": {
     "duration": 0.045269,
     "end_time": "2024-03-28T08:21:37.378430",
     "exception": false,
     "start_time": "2024-03-28T08:21:37.333161",
     "status": "completed"
    },
    "tags": []
   },
   "outputs": [
    {
     "data": {
      "text/plain": [
       "0.9986928104575163"
      ]
     },
     "execution_count": 33,
     "metadata": {},
     "output_type": "execute_result"
    }
   ],
   "source": [
    "precision_score(y_true=y_test, y_pred=y_predict)"
   ]
  },
  {
   "cell_type": "code",
   "execution_count": 34,
   "id": "f95002f8",
   "metadata": {
    "execution": {
     "iopub.execute_input": "2024-03-28T08:21:37.440395Z",
     "iopub.status.busy": "2024-03-28T08:21:37.439977Z",
     "iopub.status.idle": "2024-03-28T08:21:37.452552Z",
     "shell.execute_reply": "2024-03-28T08:21:37.451422Z"
    },
    "papermill": {
     "duration": 0.045993,
     "end_time": "2024-03-28T08:21:37.454747",
     "exception": false,
     "start_time": "2024-03-28T08:21:37.408754",
     "status": "completed"
    },
    "tags": []
   },
   "outputs": [
    {
     "data": {
      "text/plain": [
       "0.9960886571056062"
      ]
     },
     "execution_count": 34,
     "metadata": {},
     "output_type": "execute_result"
    }
   ],
   "source": [
    "recall_score(y_true=y_test, y_pred=y_predict)"
   ]
  },
  {
   "cell_type": "code",
   "execution_count": 35,
   "id": "bd9b8b0f",
   "metadata": {
    "execution": {
     "iopub.execute_input": "2024-03-28T08:21:37.518468Z",
     "iopub.status.busy": "2024-03-28T08:21:37.517801Z",
     "iopub.status.idle": "2024-03-28T08:21:37.528494Z",
     "shell.execute_reply": "2024-03-28T08:21:37.527430Z"
    },
    "papermill": {
     "duration": 0.045302,
     "end_time": "2024-03-28T08:21:37.531065",
     "exception": false,
     "start_time": "2024-03-28T08:21:37.485763",
     "status": "completed"
    },
    "tags": []
   },
   "outputs": [
    {
     "data": {
      "text/plain": [
       "0.9973890339425587"
      ]
     },
     "execution_count": 35,
     "metadata": {},
     "output_type": "execute_result"
    }
   ],
   "source": [
    "f1_score(y_true=y_test, y_pred=y_predict)"
   ]
  },
  {
   "cell_type": "markdown",
   "id": "8174be37",
   "metadata": {
    "papermill": {
     "duration": 0.030649,
     "end_time": "2024-03-28T08:21:37.593235",
     "exception": false,
     "start_time": "2024-03-28T08:21:37.562586",
     "status": "completed"
    },
    "tags": []
   },
   "source": [
    "# SVC"
   ]
  },
  {
   "cell_type": "code",
   "execution_count": 36,
   "id": "9069e72a",
   "metadata": {
    "execution": {
     "iopub.execute_input": "2024-03-28T08:21:37.655855Z",
     "iopub.status.busy": "2024-03-28T08:21:37.655460Z",
     "iopub.status.idle": "2024-03-28T08:21:37.660297Z",
     "shell.execute_reply": "2024-03-28T08:21:37.658997Z"
    },
    "papermill": {
     "duration": 0.039146,
     "end_time": "2024-03-28T08:21:37.662784",
     "exception": false,
     "start_time": "2024-03-28T08:21:37.623638",
     "status": "completed"
    },
    "tags": []
   },
   "outputs": [],
   "source": [
    "from sklearn.svm import SVC"
   ]
  },
  {
   "cell_type": "code",
   "execution_count": 37,
   "id": "57089f8e",
   "metadata": {
    "execution": {
     "iopub.execute_input": "2024-03-28T08:21:37.725341Z",
     "iopub.status.busy": "2024-03-28T08:21:37.724980Z",
     "iopub.status.idle": "2024-03-28T08:21:38.217964Z",
     "shell.execute_reply": "2024-03-28T08:21:38.216826Z"
    },
    "papermill": {
     "duration": 0.52727,
     "end_time": "2024-03-28T08:21:38.220500",
     "exception": false,
     "start_time": "2024-03-28T08:21:37.693230",
     "status": "completed"
    },
    "tags": []
   },
   "outputs": [
    {
     "data": {
      "text/html": [
       "<style>#sk-container-id-2 {color: black;background-color: white;}#sk-container-id-2 pre{padding: 0;}#sk-container-id-2 div.sk-toggleable {background-color: white;}#sk-container-id-2 label.sk-toggleable__label {cursor: pointer;display: block;width: 100%;margin-bottom: 0;padding: 0.3em;box-sizing: border-box;text-align: center;}#sk-container-id-2 label.sk-toggleable__label-arrow:before {content: \"▸\";float: left;margin-right: 0.25em;color: #696969;}#sk-container-id-2 label.sk-toggleable__label-arrow:hover:before {color: black;}#sk-container-id-2 div.sk-estimator:hover label.sk-toggleable__label-arrow:before {color: black;}#sk-container-id-2 div.sk-toggleable__content {max-height: 0;max-width: 0;overflow: hidden;text-align: left;background-color: #f0f8ff;}#sk-container-id-2 div.sk-toggleable__content pre {margin: 0.2em;color: black;border-radius: 0.25em;background-color: #f0f8ff;}#sk-container-id-2 input.sk-toggleable__control:checked~div.sk-toggleable__content {max-height: 200px;max-width: 100%;overflow: auto;}#sk-container-id-2 input.sk-toggleable__control:checked~label.sk-toggleable__label-arrow:before {content: \"▾\";}#sk-container-id-2 div.sk-estimator input.sk-toggleable__control:checked~label.sk-toggleable__label {background-color: #d4ebff;}#sk-container-id-2 div.sk-label input.sk-toggleable__control:checked~label.sk-toggleable__label {background-color: #d4ebff;}#sk-container-id-2 input.sk-hidden--visually {border: 0;clip: rect(1px 1px 1px 1px);clip: rect(1px, 1px, 1px, 1px);height: 1px;margin: -1px;overflow: hidden;padding: 0;position: absolute;width: 1px;}#sk-container-id-2 div.sk-estimator {font-family: monospace;background-color: #f0f8ff;border: 1px dotted black;border-radius: 0.25em;box-sizing: border-box;margin-bottom: 0.5em;}#sk-container-id-2 div.sk-estimator:hover {background-color: #d4ebff;}#sk-container-id-2 div.sk-parallel-item::after {content: \"\";width: 100%;border-bottom: 1px solid gray;flex-grow: 1;}#sk-container-id-2 div.sk-label:hover label.sk-toggleable__label {background-color: #d4ebff;}#sk-container-id-2 div.sk-serial::before {content: \"\";position: absolute;border-left: 1px solid gray;box-sizing: border-box;top: 0;bottom: 0;left: 50%;z-index: 0;}#sk-container-id-2 div.sk-serial {display: flex;flex-direction: column;align-items: center;background-color: white;padding-right: 0.2em;padding-left: 0.2em;position: relative;}#sk-container-id-2 div.sk-item {position: relative;z-index: 1;}#sk-container-id-2 div.sk-parallel {display: flex;align-items: stretch;justify-content: center;background-color: white;position: relative;}#sk-container-id-2 div.sk-item::before, #sk-container-id-2 div.sk-parallel-item::before {content: \"\";position: absolute;border-left: 1px solid gray;box-sizing: border-box;top: 0;bottom: 0;left: 50%;z-index: -1;}#sk-container-id-2 div.sk-parallel-item {display: flex;flex-direction: column;z-index: 1;position: relative;background-color: white;}#sk-container-id-2 div.sk-parallel-item:first-child::after {align-self: flex-end;width: 50%;}#sk-container-id-2 div.sk-parallel-item:last-child::after {align-self: flex-start;width: 50%;}#sk-container-id-2 div.sk-parallel-item:only-child::after {width: 0;}#sk-container-id-2 div.sk-dashed-wrapped {border: 1px dashed gray;margin: 0 0.4em 0.5em 0.4em;box-sizing: border-box;padding-bottom: 0.4em;background-color: white;}#sk-container-id-2 div.sk-label label {font-family: monospace;font-weight: bold;display: inline-block;line-height: 1.2em;}#sk-container-id-2 div.sk-label-container {text-align: center;}#sk-container-id-2 div.sk-container {/* jupyter's `normalize.less` sets `[hidden] { display: none; }` but bootstrap.min.css set `[hidden] { display: none !important; }` so we also need the `!important` here to be able to override the default hidden behavior on the sphinx rendered scikit-learn.org. See: https://github.com/scikit-learn/scikit-learn/issues/21755 */display: inline-block !important;position: relative;}#sk-container-id-2 div.sk-text-repr-fallback {display: none;}</style><div id=\"sk-container-id-2\" class=\"sk-top-container\"><div class=\"sk-text-repr-fallback\"><pre>SVC()</pre><b>In a Jupyter environment, please rerun this cell to show the HTML representation or trust the notebook. <br />On GitHub, the HTML representation is unable to render, please try loading this page with nbviewer.org.</b></div><div class=\"sk-container\" hidden><div class=\"sk-item\"><div class=\"sk-estimator sk-toggleable\"><input class=\"sk-toggleable__control sk-hidden--visually\" id=\"sk-estimator-id-2\" type=\"checkbox\" checked><label for=\"sk-estimator-id-2\" class=\"sk-toggleable__label sk-toggleable__label-arrow\">SVC</label><div class=\"sk-toggleable__content\"><pre>SVC()</pre></div></div></div></div></div>"
      ],
      "text/plain": [
       "SVC()"
      ]
     },
     "execution_count": 37,
     "metadata": {},
     "output_type": "execute_result"
    }
   ],
   "source": [
    "svc = SVC()\n",
    "svc.fit(X_train, y_train)"
   ]
  },
  {
   "cell_type": "code",
   "execution_count": 38,
   "id": "b511cd67",
   "metadata": {
    "execution": {
     "iopub.execute_input": "2024-03-28T08:21:38.283736Z",
     "iopub.status.busy": "2024-03-28T08:21:38.283339Z",
     "iopub.status.idle": "2024-03-28T08:21:38.404281Z",
     "shell.execute_reply": "2024-03-28T08:21:38.403158Z"
    },
    "papermill": {
     "duration": 0.155863,
     "end_time": "2024-03-28T08:21:38.407037",
     "exception": false,
     "start_time": "2024-03-28T08:21:38.251174",
     "status": "completed"
    },
    "tags": []
   },
   "outputs": [],
   "source": [
    "y_predict2 = svc.predict(X_test)"
   ]
  },
  {
   "cell_type": "code",
   "execution_count": 39,
   "id": "bc33eb18",
   "metadata": {
    "execution": {
     "iopub.execute_input": "2024-03-28T08:21:38.471360Z",
     "iopub.status.busy": "2024-03-28T08:21:38.470966Z",
     "iopub.status.idle": "2024-03-28T08:21:38.479064Z",
     "shell.execute_reply": "2024-03-28T08:21:38.478258Z"
    },
    "papermill": {
     "duration": 0.043689,
     "end_time": "2024-03-28T08:21:38.481301",
     "exception": false,
     "start_time": "2024-03-28T08:21:38.437612",
     "status": "completed"
    },
    "tags": []
   },
   "outputs": [
    {
     "data": {
      "text/plain": [
       "0.9978021978021978"
      ]
     },
     "execution_count": 39,
     "metadata": {},
     "output_type": "execute_result"
    }
   ],
   "source": [
    "accuracy_score(y_true=y_test, y_pred=y_predict2)"
   ]
  },
  {
   "cell_type": "code",
   "execution_count": 40,
   "id": "d6e383d7",
   "metadata": {
    "execution": {
     "iopub.execute_input": "2024-03-28T08:21:38.545335Z",
     "iopub.status.busy": "2024-03-28T08:21:38.544944Z",
     "iopub.status.idle": "2024-03-28T08:21:38.556256Z",
     "shell.execute_reply": "2024-03-28T08:21:38.554989Z"
    },
    "papermill": {
     "duration": 0.046334,
     "end_time": "2024-03-28T08:21:38.558785",
     "exception": false,
     "start_time": "2024-03-28T08:21:38.512451",
     "status": "completed"
    },
    "tags": []
   },
   "outputs": [
    {
     "data": {
      "text/plain": [
       "0.9986936642717178"
      ]
     },
     "execution_count": 40,
     "metadata": {},
     "output_type": "execute_result"
    }
   ],
   "source": [
    "precision_score(y_true=y_test, y_pred=y_predict2)"
   ]
  },
  {
   "cell_type": "code",
   "execution_count": 41,
   "id": "5c279d80",
   "metadata": {
    "execution": {
     "iopub.execute_input": "2024-03-28T08:21:38.627303Z",
     "iopub.status.busy": "2024-03-28T08:21:38.626884Z",
     "iopub.status.idle": "2024-03-28T08:21:38.638564Z",
     "shell.execute_reply": "2024-03-28T08:21:38.637468Z"
    },
    "papermill": {
     "duration": 0.046849,
     "end_time": "2024-03-28T08:21:38.640832",
     "exception": false,
     "start_time": "2024-03-28T08:21:38.593983",
     "status": "completed"
    },
    "tags": []
   },
   "outputs": [
    {
     "data": {
      "text/plain": [
       "0.9967405475880052"
      ]
     },
     "execution_count": 41,
     "metadata": {},
     "output_type": "execute_result"
    }
   ],
   "source": [
    "recall_score(y_true=y_test, y_pred=y_predict2)"
   ]
  },
  {
   "cell_type": "code",
   "execution_count": 42,
   "id": "adad4f91",
   "metadata": {
    "execution": {
     "iopub.execute_input": "2024-03-28T08:21:38.706461Z",
     "iopub.status.busy": "2024-03-28T08:21:38.705706Z",
     "iopub.status.idle": "2024-03-28T08:21:38.716686Z",
     "shell.execute_reply": "2024-03-28T08:21:38.715578Z"
    },
    "papermill": {
     "duration": 0.046856,
     "end_time": "2024-03-28T08:21:38.719166",
     "exception": false,
     "start_time": "2024-03-28T08:21:38.672310",
     "status": "completed"
    },
    "tags": []
   },
   "outputs": [
    {
     "data": {
      "text/plain": [
       "0.997716150081566"
      ]
     },
     "execution_count": 42,
     "metadata": {},
     "output_type": "execute_result"
    }
   ],
   "source": [
    "f1_score(y_true=y_test, y_pred=y_predict2)"
   ]
  },
  {
   "cell_type": "markdown",
   "id": "c3a319c9",
   "metadata": {
    "papermill": {
     "duration": 0.031589,
     "end_time": "2024-03-28T08:21:38.782719",
     "exception": false,
     "start_time": "2024-03-28T08:21:38.751130",
     "status": "completed"
    },
    "tags": []
   },
   "source": [
    "# KNeighbors classifier"
   ]
  },
  {
   "cell_type": "code",
   "execution_count": 43,
   "id": "7720c623",
   "metadata": {
    "execution": {
     "iopub.execute_input": "2024-03-28T08:21:38.848539Z",
     "iopub.status.busy": "2024-03-28T08:21:38.847838Z",
     "iopub.status.idle": "2024-03-28T08:21:38.852070Z",
     "shell.execute_reply": "2024-03-28T08:21:38.851229Z"
    },
    "papermill": {
     "duration": 0.039709,
     "end_time": "2024-03-28T08:21:38.854317",
     "exception": false,
     "start_time": "2024-03-28T08:21:38.814608",
     "status": "completed"
    },
    "tags": []
   },
   "outputs": [],
   "source": [
    "from sklearn.neighbors import KNeighborsClassifier"
   ]
  },
  {
   "cell_type": "code",
   "execution_count": 44,
   "id": "13d3935b",
   "metadata": {
    "execution": {
     "iopub.execute_input": "2024-03-28T08:21:38.919970Z",
     "iopub.status.busy": "2024-03-28T08:21:38.919258Z",
     "iopub.status.idle": "2024-03-28T08:21:38.928470Z",
     "shell.execute_reply": "2024-03-28T08:21:38.927615Z"
    },
    "papermill": {
     "duration": 0.043977,
     "end_time": "2024-03-28T08:21:38.930694",
     "exception": false,
     "start_time": "2024-03-28T08:21:38.886717",
     "status": "completed"
    },
    "tags": []
   },
   "outputs": [
    {
     "data": {
      "text/html": [
       "<style>#sk-container-id-3 {color: black;background-color: white;}#sk-container-id-3 pre{padding: 0;}#sk-container-id-3 div.sk-toggleable {background-color: white;}#sk-container-id-3 label.sk-toggleable__label {cursor: pointer;display: block;width: 100%;margin-bottom: 0;padding: 0.3em;box-sizing: border-box;text-align: center;}#sk-container-id-3 label.sk-toggleable__label-arrow:before {content: \"▸\";float: left;margin-right: 0.25em;color: #696969;}#sk-container-id-3 label.sk-toggleable__label-arrow:hover:before {color: black;}#sk-container-id-3 div.sk-estimator:hover label.sk-toggleable__label-arrow:before {color: black;}#sk-container-id-3 div.sk-toggleable__content {max-height: 0;max-width: 0;overflow: hidden;text-align: left;background-color: #f0f8ff;}#sk-container-id-3 div.sk-toggleable__content pre {margin: 0.2em;color: black;border-radius: 0.25em;background-color: #f0f8ff;}#sk-container-id-3 input.sk-toggleable__control:checked~div.sk-toggleable__content {max-height: 200px;max-width: 100%;overflow: auto;}#sk-container-id-3 input.sk-toggleable__control:checked~label.sk-toggleable__label-arrow:before {content: \"▾\";}#sk-container-id-3 div.sk-estimator input.sk-toggleable__control:checked~label.sk-toggleable__label {background-color: #d4ebff;}#sk-container-id-3 div.sk-label input.sk-toggleable__control:checked~label.sk-toggleable__label {background-color: #d4ebff;}#sk-container-id-3 input.sk-hidden--visually {border: 0;clip: rect(1px 1px 1px 1px);clip: rect(1px, 1px, 1px, 1px);height: 1px;margin: -1px;overflow: hidden;padding: 0;position: absolute;width: 1px;}#sk-container-id-3 div.sk-estimator {font-family: monospace;background-color: #f0f8ff;border: 1px dotted black;border-radius: 0.25em;box-sizing: border-box;margin-bottom: 0.5em;}#sk-container-id-3 div.sk-estimator:hover {background-color: #d4ebff;}#sk-container-id-3 div.sk-parallel-item::after {content: \"\";width: 100%;border-bottom: 1px solid gray;flex-grow: 1;}#sk-container-id-3 div.sk-label:hover label.sk-toggleable__label {background-color: #d4ebff;}#sk-container-id-3 div.sk-serial::before {content: \"\";position: absolute;border-left: 1px solid gray;box-sizing: border-box;top: 0;bottom: 0;left: 50%;z-index: 0;}#sk-container-id-3 div.sk-serial {display: flex;flex-direction: column;align-items: center;background-color: white;padding-right: 0.2em;padding-left: 0.2em;position: relative;}#sk-container-id-3 div.sk-item {position: relative;z-index: 1;}#sk-container-id-3 div.sk-parallel {display: flex;align-items: stretch;justify-content: center;background-color: white;position: relative;}#sk-container-id-3 div.sk-item::before, #sk-container-id-3 div.sk-parallel-item::before {content: \"\";position: absolute;border-left: 1px solid gray;box-sizing: border-box;top: 0;bottom: 0;left: 50%;z-index: -1;}#sk-container-id-3 div.sk-parallel-item {display: flex;flex-direction: column;z-index: 1;position: relative;background-color: white;}#sk-container-id-3 div.sk-parallel-item:first-child::after {align-self: flex-end;width: 50%;}#sk-container-id-3 div.sk-parallel-item:last-child::after {align-self: flex-start;width: 50%;}#sk-container-id-3 div.sk-parallel-item:only-child::after {width: 0;}#sk-container-id-3 div.sk-dashed-wrapped {border: 1px dashed gray;margin: 0 0.4em 0.5em 0.4em;box-sizing: border-box;padding-bottom: 0.4em;background-color: white;}#sk-container-id-3 div.sk-label label {font-family: monospace;font-weight: bold;display: inline-block;line-height: 1.2em;}#sk-container-id-3 div.sk-label-container {text-align: center;}#sk-container-id-3 div.sk-container {/* jupyter's `normalize.less` sets `[hidden] { display: none; }` but bootstrap.min.css set `[hidden] { display: none !important; }` so we also need the `!important` here to be able to override the default hidden behavior on the sphinx rendered scikit-learn.org. See: https://github.com/scikit-learn/scikit-learn/issues/21755 */display: inline-block !important;position: relative;}#sk-container-id-3 div.sk-text-repr-fallback {display: none;}</style><div id=\"sk-container-id-3\" class=\"sk-top-container\"><div class=\"sk-text-repr-fallback\"><pre>KNeighborsClassifier()</pre><b>In a Jupyter environment, please rerun this cell to show the HTML representation or trust the notebook. <br />On GitHub, the HTML representation is unable to render, please try loading this page with nbviewer.org.</b></div><div class=\"sk-container\" hidden><div class=\"sk-item\"><div class=\"sk-estimator sk-toggleable\"><input class=\"sk-toggleable__control sk-hidden--visually\" id=\"sk-estimator-id-3\" type=\"checkbox\" checked><label for=\"sk-estimator-id-3\" class=\"sk-toggleable__label sk-toggleable__label-arrow\">KNeighborsClassifier</label><div class=\"sk-toggleable__content\"><pre>KNeighborsClassifier()</pre></div></div></div></div></div>"
      ],
      "text/plain": [
       "KNeighborsClassifier()"
      ]
     },
     "execution_count": 44,
     "metadata": {},
     "output_type": "execute_result"
    }
   ],
   "source": [
    "knn = KNeighborsClassifier()\n",
    "knn.fit(X_train, y_train)"
   ]
  },
  {
   "cell_type": "code",
   "execution_count": 45,
   "id": "139ce2c4",
   "metadata": {
    "execution": {
     "iopub.execute_input": "2024-03-28T08:21:38.995505Z",
     "iopub.status.busy": "2024-03-28T08:21:38.994679Z",
     "iopub.status.idle": "2024-03-28T08:21:39.300715Z",
     "shell.execute_reply": "2024-03-28T08:21:39.299674Z"
    },
    "papermill": {
     "duration": 0.34151,
     "end_time": "2024-03-28T08:21:39.303508",
     "exception": false,
     "start_time": "2024-03-28T08:21:38.961998",
     "status": "completed"
    },
    "tags": []
   },
   "outputs": [],
   "source": [
    "y_predict3 = knn.predict(X_test)"
   ]
  },
  {
   "cell_type": "code",
   "execution_count": 46,
   "id": "791447e9",
   "metadata": {
    "execution": {
     "iopub.execute_input": "2024-03-28T08:21:39.367178Z",
     "iopub.status.busy": "2024-03-28T08:21:39.366776Z",
     "iopub.status.idle": "2024-03-28T08:21:39.375765Z",
     "shell.execute_reply": "2024-03-28T08:21:39.374729Z"
    },
    "papermill": {
     "duration": 0.043463,
     "end_time": "2024-03-28T08:21:39.377960",
     "exception": false,
     "start_time": "2024-03-28T08:21:39.334497",
     "status": "completed"
    },
    "tags": []
   },
   "outputs": [
    {
     "data": {
      "text/plain": [
       "0.9864992150706436"
      ]
     },
     "execution_count": 46,
     "metadata": {},
     "output_type": "execute_result"
    }
   ],
   "source": [
    "accuracy_score(y_true=y_test, y_pred=y_predict3)"
   ]
  },
  {
   "cell_type": "code",
   "execution_count": 47,
   "id": "6643c9ae",
   "metadata": {
    "execution": {
     "iopub.execute_input": "2024-03-28T08:21:39.442677Z",
     "iopub.status.busy": "2024-03-28T08:21:39.441654Z",
     "iopub.status.idle": "2024-03-28T08:21:39.452511Z",
     "shell.execute_reply": "2024-03-28T08:21:39.451298Z"
    },
    "papermill": {
     "duration": 0.045863,
     "end_time": "2024-03-28T08:21:39.455021",
     "exception": false,
     "start_time": "2024-03-28T08:21:39.409158",
     "status": "completed"
    },
    "tags": []
   },
   "outputs": [
    {
     "data": {
      "text/plain": [
       "0.9907834101382489"
      ]
     },
     "execution_count": 47,
     "metadata": {},
     "output_type": "execute_result"
    }
   ],
   "source": [
    "precision_score(y_true=y_test, y_pred=y_predict3)"
   ]
  },
  {
   "cell_type": "code",
   "execution_count": 48,
   "id": "38d23239",
   "metadata": {
    "execution": {
     "iopub.execute_input": "2024-03-28T08:21:39.521411Z",
     "iopub.status.busy": "2024-03-28T08:21:39.521015Z",
     "iopub.status.idle": "2024-03-28T08:21:39.532448Z",
     "shell.execute_reply": "2024-03-28T08:21:39.531390Z"
    },
    "papermill": {
     "duration": 0.048301,
     "end_time": "2024-03-28T08:21:39.535029",
     "exception": false,
     "start_time": "2024-03-28T08:21:39.486728",
     "status": "completed"
    },
    "tags": []
   },
   "outputs": [
    {
     "data": {
      "text/plain": [
       "0.9810951760104303"
      ]
     },
     "execution_count": 48,
     "metadata": {},
     "output_type": "execute_result"
    }
   ],
   "source": [
    "recall_score(y_true=y_test, y_pred=y_predict3)"
   ]
  },
  {
   "cell_type": "code",
   "execution_count": 49,
   "id": "9d368e6c",
   "metadata": {
    "execution": {
     "iopub.execute_input": "2024-03-28T08:21:39.601228Z",
     "iopub.status.busy": "2024-03-28T08:21:39.600445Z",
     "iopub.status.idle": "2024-03-28T08:21:39.611661Z",
     "shell.execute_reply": "2024-03-28T08:21:39.610506Z"
    },
    "papermill": {
     "duration": 0.047314,
     "end_time": "2024-03-28T08:21:39.614016",
     "exception": false,
     "start_time": "2024-03-28T08:21:39.566702",
     "status": "completed"
    },
    "tags": []
   },
   "outputs": [
    {
     "data": {
      "text/plain": [
       "0.9859154929577465"
      ]
     },
     "execution_count": 49,
     "metadata": {},
     "output_type": "execute_result"
    }
   ],
   "source": [
    "f1_score(y_true=y_test, y_pred=y_predict3)"
   ]
  },
  {
   "cell_type": "markdown",
   "id": "cd80c81d",
   "metadata": {
    "papermill": {
     "duration": 0.031375,
     "end_time": "2024-03-28T08:21:39.677319",
     "exception": false,
     "start_time": "2024-03-28T08:21:39.645944",
     "status": "completed"
    },
    "tags": []
   },
   "source": [
    "# Decision Tree Classifier"
   ]
  },
  {
   "cell_type": "code",
   "execution_count": 50,
   "id": "e7831740",
   "metadata": {
    "execution": {
     "iopub.execute_input": "2024-03-28T08:21:39.743070Z",
     "iopub.status.busy": "2024-03-28T08:21:39.742292Z",
     "iopub.status.idle": "2024-03-28T08:21:39.747223Z",
     "shell.execute_reply": "2024-03-28T08:21:39.746374Z"
    },
    "papermill": {
     "duration": 0.040297,
     "end_time": "2024-03-28T08:21:39.749488",
     "exception": false,
     "start_time": "2024-03-28T08:21:39.709191",
     "status": "completed"
    },
    "tags": []
   },
   "outputs": [],
   "source": [
    "from sklearn.tree import DecisionTreeClassifier"
   ]
  },
  {
   "cell_type": "code",
   "execution_count": 51,
   "id": "aa153ca8",
   "metadata": {
    "execution": {
     "iopub.execute_input": "2024-03-28T08:21:39.814882Z",
     "iopub.status.busy": "2024-03-28T08:21:39.814529Z",
     "iopub.status.idle": "2024-03-28T08:21:39.868187Z",
     "shell.execute_reply": "2024-03-28T08:21:39.867328Z"
    },
    "papermill": {
     "duration": 0.088888,
     "end_time": "2024-03-28T08:21:39.870488",
     "exception": false,
     "start_time": "2024-03-28T08:21:39.781600",
     "status": "completed"
    },
    "tags": []
   },
   "outputs": [
    {
     "data": {
      "text/html": [
       "<style>#sk-container-id-4 {color: black;background-color: white;}#sk-container-id-4 pre{padding: 0;}#sk-container-id-4 div.sk-toggleable {background-color: white;}#sk-container-id-4 label.sk-toggleable__label {cursor: pointer;display: block;width: 100%;margin-bottom: 0;padding: 0.3em;box-sizing: border-box;text-align: center;}#sk-container-id-4 label.sk-toggleable__label-arrow:before {content: \"▸\";float: left;margin-right: 0.25em;color: #696969;}#sk-container-id-4 label.sk-toggleable__label-arrow:hover:before {color: black;}#sk-container-id-4 div.sk-estimator:hover label.sk-toggleable__label-arrow:before {color: black;}#sk-container-id-4 div.sk-toggleable__content {max-height: 0;max-width: 0;overflow: hidden;text-align: left;background-color: #f0f8ff;}#sk-container-id-4 div.sk-toggleable__content pre {margin: 0.2em;color: black;border-radius: 0.25em;background-color: #f0f8ff;}#sk-container-id-4 input.sk-toggleable__control:checked~div.sk-toggleable__content {max-height: 200px;max-width: 100%;overflow: auto;}#sk-container-id-4 input.sk-toggleable__control:checked~label.sk-toggleable__label-arrow:before {content: \"▾\";}#sk-container-id-4 div.sk-estimator input.sk-toggleable__control:checked~label.sk-toggleable__label {background-color: #d4ebff;}#sk-container-id-4 div.sk-label input.sk-toggleable__control:checked~label.sk-toggleable__label {background-color: #d4ebff;}#sk-container-id-4 input.sk-hidden--visually {border: 0;clip: rect(1px 1px 1px 1px);clip: rect(1px, 1px, 1px, 1px);height: 1px;margin: -1px;overflow: hidden;padding: 0;position: absolute;width: 1px;}#sk-container-id-4 div.sk-estimator {font-family: monospace;background-color: #f0f8ff;border: 1px dotted black;border-radius: 0.25em;box-sizing: border-box;margin-bottom: 0.5em;}#sk-container-id-4 div.sk-estimator:hover {background-color: #d4ebff;}#sk-container-id-4 div.sk-parallel-item::after {content: \"\";width: 100%;border-bottom: 1px solid gray;flex-grow: 1;}#sk-container-id-4 div.sk-label:hover label.sk-toggleable__label {background-color: #d4ebff;}#sk-container-id-4 div.sk-serial::before {content: \"\";position: absolute;border-left: 1px solid gray;box-sizing: border-box;top: 0;bottom: 0;left: 50%;z-index: 0;}#sk-container-id-4 div.sk-serial {display: flex;flex-direction: column;align-items: center;background-color: white;padding-right: 0.2em;padding-left: 0.2em;position: relative;}#sk-container-id-4 div.sk-item {position: relative;z-index: 1;}#sk-container-id-4 div.sk-parallel {display: flex;align-items: stretch;justify-content: center;background-color: white;position: relative;}#sk-container-id-4 div.sk-item::before, #sk-container-id-4 div.sk-parallel-item::before {content: \"\";position: absolute;border-left: 1px solid gray;box-sizing: border-box;top: 0;bottom: 0;left: 50%;z-index: -1;}#sk-container-id-4 div.sk-parallel-item {display: flex;flex-direction: column;z-index: 1;position: relative;background-color: white;}#sk-container-id-4 div.sk-parallel-item:first-child::after {align-self: flex-end;width: 50%;}#sk-container-id-4 div.sk-parallel-item:last-child::after {align-self: flex-start;width: 50%;}#sk-container-id-4 div.sk-parallel-item:only-child::after {width: 0;}#sk-container-id-4 div.sk-dashed-wrapped {border: 1px dashed gray;margin: 0 0.4em 0.5em 0.4em;box-sizing: border-box;padding-bottom: 0.4em;background-color: white;}#sk-container-id-4 div.sk-label label {font-family: monospace;font-weight: bold;display: inline-block;line-height: 1.2em;}#sk-container-id-4 div.sk-label-container {text-align: center;}#sk-container-id-4 div.sk-container {/* jupyter's `normalize.less` sets `[hidden] { display: none; }` but bootstrap.min.css set `[hidden] { display: none !important; }` so we also need the `!important` here to be able to override the default hidden behavior on the sphinx rendered scikit-learn.org. See: https://github.com/scikit-learn/scikit-learn/issues/21755 */display: inline-block !important;position: relative;}#sk-container-id-4 div.sk-text-repr-fallback {display: none;}</style><div id=\"sk-container-id-4\" class=\"sk-top-container\"><div class=\"sk-text-repr-fallback\"><pre>DecisionTreeClassifier()</pre><b>In a Jupyter environment, please rerun this cell to show the HTML representation or trust the notebook. <br />On GitHub, the HTML representation is unable to render, please try loading this page with nbviewer.org.</b></div><div class=\"sk-container\" hidden><div class=\"sk-item\"><div class=\"sk-estimator sk-toggleable\"><input class=\"sk-toggleable__control sk-hidden--visually\" id=\"sk-estimator-id-4\" type=\"checkbox\" checked><label for=\"sk-estimator-id-4\" class=\"sk-toggleable__label sk-toggleable__label-arrow\">DecisionTreeClassifier</label><div class=\"sk-toggleable__content\"><pre>DecisionTreeClassifier()</pre></div></div></div></div></div>"
      ],
      "text/plain": [
       "DecisionTreeClassifier()"
      ]
     },
     "execution_count": 51,
     "metadata": {},
     "output_type": "execute_result"
    }
   ],
   "source": [
    "dt = DecisionTreeClassifier()\n",
    "dt.fit(X_train, y_train)"
   ]
  },
  {
   "cell_type": "code",
   "execution_count": 52,
   "id": "4ce30db8",
   "metadata": {
    "execution": {
     "iopub.execute_input": "2024-03-28T08:21:39.938162Z",
     "iopub.status.busy": "2024-03-28T08:21:39.937752Z",
     "iopub.status.idle": "2024-03-28T08:21:39.943505Z",
     "shell.execute_reply": "2024-03-28T08:21:39.942460Z"
    },
    "papermill": {
     "duration": 0.041595,
     "end_time": "2024-03-28T08:21:39.945995",
     "exception": false,
     "start_time": "2024-03-28T08:21:39.904400",
     "status": "completed"
    },
    "tags": []
   },
   "outputs": [],
   "source": [
    "y_predict4 = dt.predict(X_test)"
   ]
  },
  {
   "cell_type": "code",
   "execution_count": 53,
   "id": "a3950371",
   "metadata": {
    "execution": {
     "iopub.execute_input": "2024-03-28T08:21:40.011898Z",
     "iopub.status.busy": "2024-03-28T08:21:40.011503Z",
     "iopub.status.idle": "2024-03-28T08:21:40.020480Z",
     "shell.execute_reply": "2024-03-28T08:21:40.019219Z"
    },
    "papermill": {
     "duration": 0.044587,
     "end_time": "2024-03-28T08:21:40.022740",
     "exception": false,
     "start_time": "2024-03-28T08:21:39.978153",
     "status": "completed"
    },
    "tags": []
   },
   "outputs": [
    {
     "data": {
      "text/plain": [
       "0.9978021978021978"
      ]
     },
     "execution_count": 53,
     "metadata": {},
     "output_type": "execute_result"
    }
   ],
   "source": [
    "accuracy_score(y_true=y_test, y_pred=y_predict4)"
   ]
  },
  {
   "cell_type": "markdown",
   "id": "96869ab4",
   "metadata": {
    "papermill": {
     "duration": 0.031823,
     "end_time": "2024-03-28T08:21:40.087071",
     "exception": false,
     "start_time": "2024-03-28T08:21:40.055248",
     "status": "completed"
    },
    "tags": []
   },
   "source": [
    "# RandomForestClassifier"
   ]
  },
  {
   "cell_type": "code",
   "execution_count": 54,
   "id": "1d666c8c",
   "metadata": {
    "execution": {
     "iopub.execute_input": "2024-03-28T08:21:40.154728Z",
     "iopub.status.busy": "2024-03-28T08:21:40.154313Z",
     "iopub.status.idle": "2024-03-28T08:21:40.158789Z",
     "shell.execute_reply": "2024-03-28T08:21:40.157715Z"
    },
    "papermill": {
     "duration": 0.041794,
     "end_time": "2024-03-28T08:21:40.161108",
     "exception": false,
     "start_time": "2024-03-28T08:21:40.119314",
     "status": "completed"
    },
    "tags": []
   },
   "outputs": [],
   "source": [
    "from sklearn.ensemble import RandomForestClassifier"
   ]
  },
  {
   "cell_type": "code",
   "execution_count": 55,
   "id": "46566583",
   "metadata": {
    "execution": {
     "iopub.execute_input": "2024-03-28T08:21:40.228155Z",
     "iopub.status.busy": "2024-03-28T08:21:40.227734Z",
     "iopub.status.idle": "2024-03-28T08:21:41.456504Z",
     "shell.execute_reply": "2024-03-28T08:21:41.455297Z"
    },
    "papermill": {
     "duration": 1.264944,
     "end_time": "2024-03-28T08:21:41.458902",
     "exception": false,
     "start_time": "2024-03-28T08:21:40.193958",
     "status": "completed"
    },
    "tags": []
   },
   "outputs": [
    {
     "data": {
      "text/html": [
       "<style>#sk-container-id-5 {color: black;background-color: white;}#sk-container-id-5 pre{padding: 0;}#sk-container-id-5 div.sk-toggleable {background-color: white;}#sk-container-id-5 label.sk-toggleable__label {cursor: pointer;display: block;width: 100%;margin-bottom: 0;padding: 0.3em;box-sizing: border-box;text-align: center;}#sk-container-id-5 label.sk-toggleable__label-arrow:before {content: \"▸\";float: left;margin-right: 0.25em;color: #696969;}#sk-container-id-5 label.sk-toggleable__label-arrow:hover:before {color: black;}#sk-container-id-5 div.sk-estimator:hover label.sk-toggleable__label-arrow:before {color: black;}#sk-container-id-5 div.sk-toggleable__content {max-height: 0;max-width: 0;overflow: hidden;text-align: left;background-color: #f0f8ff;}#sk-container-id-5 div.sk-toggleable__content pre {margin: 0.2em;color: black;border-radius: 0.25em;background-color: #f0f8ff;}#sk-container-id-5 input.sk-toggleable__control:checked~div.sk-toggleable__content {max-height: 200px;max-width: 100%;overflow: auto;}#sk-container-id-5 input.sk-toggleable__control:checked~label.sk-toggleable__label-arrow:before {content: \"▾\";}#sk-container-id-5 div.sk-estimator input.sk-toggleable__control:checked~label.sk-toggleable__label {background-color: #d4ebff;}#sk-container-id-5 div.sk-label input.sk-toggleable__control:checked~label.sk-toggleable__label {background-color: #d4ebff;}#sk-container-id-5 input.sk-hidden--visually {border: 0;clip: rect(1px 1px 1px 1px);clip: rect(1px, 1px, 1px, 1px);height: 1px;margin: -1px;overflow: hidden;padding: 0;position: absolute;width: 1px;}#sk-container-id-5 div.sk-estimator {font-family: monospace;background-color: #f0f8ff;border: 1px dotted black;border-radius: 0.25em;box-sizing: border-box;margin-bottom: 0.5em;}#sk-container-id-5 div.sk-estimator:hover {background-color: #d4ebff;}#sk-container-id-5 div.sk-parallel-item::after {content: \"\";width: 100%;border-bottom: 1px solid gray;flex-grow: 1;}#sk-container-id-5 div.sk-label:hover label.sk-toggleable__label {background-color: #d4ebff;}#sk-container-id-5 div.sk-serial::before {content: \"\";position: absolute;border-left: 1px solid gray;box-sizing: border-box;top: 0;bottom: 0;left: 50%;z-index: 0;}#sk-container-id-5 div.sk-serial {display: flex;flex-direction: column;align-items: center;background-color: white;padding-right: 0.2em;padding-left: 0.2em;position: relative;}#sk-container-id-5 div.sk-item {position: relative;z-index: 1;}#sk-container-id-5 div.sk-parallel {display: flex;align-items: stretch;justify-content: center;background-color: white;position: relative;}#sk-container-id-5 div.sk-item::before, #sk-container-id-5 div.sk-parallel-item::before {content: \"\";position: absolute;border-left: 1px solid gray;box-sizing: border-box;top: 0;bottom: 0;left: 50%;z-index: -1;}#sk-container-id-5 div.sk-parallel-item {display: flex;flex-direction: column;z-index: 1;position: relative;background-color: white;}#sk-container-id-5 div.sk-parallel-item:first-child::after {align-self: flex-end;width: 50%;}#sk-container-id-5 div.sk-parallel-item:last-child::after {align-self: flex-start;width: 50%;}#sk-container-id-5 div.sk-parallel-item:only-child::after {width: 0;}#sk-container-id-5 div.sk-dashed-wrapped {border: 1px dashed gray;margin: 0 0.4em 0.5em 0.4em;box-sizing: border-box;padding-bottom: 0.4em;background-color: white;}#sk-container-id-5 div.sk-label label {font-family: monospace;font-weight: bold;display: inline-block;line-height: 1.2em;}#sk-container-id-5 div.sk-label-container {text-align: center;}#sk-container-id-5 div.sk-container {/* jupyter's `normalize.less` sets `[hidden] { display: none; }` but bootstrap.min.css set `[hidden] { display: none !important; }` so we also need the `!important` here to be able to override the default hidden behavior on the sphinx rendered scikit-learn.org. See: https://github.com/scikit-learn/scikit-learn/issues/21755 */display: inline-block !important;position: relative;}#sk-container-id-5 div.sk-text-repr-fallback {display: none;}</style><div id=\"sk-container-id-5\" class=\"sk-top-container\"><div class=\"sk-text-repr-fallback\"><pre>RandomForestClassifier()</pre><b>In a Jupyter environment, please rerun this cell to show the HTML representation or trust the notebook. <br />On GitHub, the HTML representation is unable to render, please try loading this page with nbviewer.org.</b></div><div class=\"sk-container\" hidden><div class=\"sk-item\"><div class=\"sk-estimator sk-toggleable\"><input class=\"sk-toggleable__control sk-hidden--visually\" id=\"sk-estimator-id-5\" type=\"checkbox\" checked><label for=\"sk-estimator-id-5\" class=\"sk-toggleable__label sk-toggleable__label-arrow\">RandomForestClassifier</label><div class=\"sk-toggleable__content\"><pre>RandomForestClassifier()</pre></div></div></div></div></div>"
      ],
      "text/plain": [
       "RandomForestClassifier()"
      ]
     },
     "execution_count": 55,
     "metadata": {},
     "output_type": "execute_result"
    }
   ],
   "source": [
    "rf = RandomForestClassifier()\n",
    "rf.fit(X_train, y_train)"
   ]
  },
  {
   "cell_type": "code",
   "execution_count": 56,
   "id": "33ebea11",
   "metadata": {
    "execution": {
     "iopub.execute_input": "2024-03-28T08:21:41.527582Z",
     "iopub.status.busy": "2024-03-28T08:21:41.527177Z",
     "iopub.status.idle": "2024-03-28T08:21:41.570392Z",
     "shell.execute_reply": "2024-03-28T08:21:41.569443Z"
    },
    "papermill": {
     "duration": 0.080839,
     "end_time": "2024-03-28T08:21:41.573067",
     "exception": false,
     "start_time": "2024-03-28T08:21:41.492228",
     "status": "completed"
    },
    "tags": []
   },
   "outputs": [],
   "source": [
    "y_predict5 = rf.predict(X_test)"
   ]
  },
  {
   "cell_type": "markdown",
   "id": "953fddd0",
   "metadata": {
    "papermill": {
     "duration": 0.03702,
     "end_time": "2024-03-28T08:21:41.642566",
     "exception": false,
     "start_time": "2024-03-28T08:21:41.605546",
     "status": "completed"
    },
    "tags": []
   },
   "source": [
    "# GradientBoostingClassifier"
   ]
  },
  {
   "cell_type": "code",
   "execution_count": 57,
   "id": "4a13ec84",
   "metadata": {
    "execution": {
     "iopub.execute_input": "2024-03-28T08:21:41.723370Z",
     "iopub.status.busy": "2024-03-28T08:21:41.722543Z",
     "iopub.status.idle": "2024-03-28T08:21:41.727572Z",
     "shell.execute_reply": "2024-03-28T08:21:41.726522Z"
    },
    "papermill": {
     "duration": 0.041782,
     "end_time": "2024-03-28T08:21:41.729867",
     "exception": false,
     "start_time": "2024-03-28T08:21:41.688085",
     "status": "completed"
    },
    "tags": []
   },
   "outputs": [],
   "source": [
    "from sklearn.ensemble import GradientBoostingClassifier"
   ]
  },
  {
   "cell_type": "code",
   "execution_count": 58,
   "id": "05541088",
   "metadata": {
    "execution": {
     "iopub.execute_input": "2024-03-28T08:21:41.805859Z",
     "iopub.status.busy": "2024-03-28T08:21:41.805132Z",
     "iopub.status.idle": "2024-03-28T08:21:44.302787Z",
     "shell.execute_reply": "2024-03-28T08:21:44.301650Z"
    },
    "papermill": {
     "duration": 2.542141,
     "end_time": "2024-03-28T08:21:44.305516",
     "exception": false,
     "start_time": "2024-03-28T08:21:41.763375",
     "status": "completed"
    },
    "tags": []
   },
   "outputs": [
    {
     "data": {
      "text/html": [
       "<style>#sk-container-id-6 {color: black;background-color: white;}#sk-container-id-6 pre{padding: 0;}#sk-container-id-6 div.sk-toggleable {background-color: white;}#sk-container-id-6 label.sk-toggleable__label {cursor: pointer;display: block;width: 100%;margin-bottom: 0;padding: 0.3em;box-sizing: border-box;text-align: center;}#sk-container-id-6 label.sk-toggleable__label-arrow:before {content: \"▸\";float: left;margin-right: 0.25em;color: #696969;}#sk-container-id-6 label.sk-toggleable__label-arrow:hover:before {color: black;}#sk-container-id-6 div.sk-estimator:hover label.sk-toggleable__label-arrow:before {color: black;}#sk-container-id-6 div.sk-toggleable__content {max-height: 0;max-width: 0;overflow: hidden;text-align: left;background-color: #f0f8ff;}#sk-container-id-6 div.sk-toggleable__content pre {margin: 0.2em;color: black;border-radius: 0.25em;background-color: #f0f8ff;}#sk-container-id-6 input.sk-toggleable__control:checked~div.sk-toggleable__content {max-height: 200px;max-width: 100%;overflow: auto;}#sk-container-id-6 input.sk-toggleable__control:checked~label.sk-toggleable__label-arrow:before {content: \"▾\";}#sk-container-id-6 div.sk-estimator input.sk-toggleable__control:checked~label.sk-toggleable__label {background-color: #d4ebff;}#sk-container-id-6 div.sk-label input.sk-toggleable__control:checked~label.sk-toggleable__label {background-color: #d4ebff;}#sk-container-id-6 input.sk-hidden--visually {border: 0;clip: rect(1px 1px 1px 1px);clip: rect(1px, 1px, 1px, 1px);height: 1px;margin: -1px;overflow: hidden;padding: 0;position: absolute;width: 1px;}#sk-container-id-6 div.sk-estimator {font-family: monospace;background-color: #f0f8ff;border: 1px dotted black;border-radius: 0.25em;box-sizing: border-box;margin-bottom: 0.5em;}#sk-container-id-6 div.sk-estimator:hover {background-color: #d4ebff;}#sk-container-id-6 div.sk-parallel-item::after {content: \"\";width: 100%;border-bottom: 1px solid gray;flex-grow: 1;}#sk-container-id-6 div.sk-label:hover label.sk-toggleable__label {background-color: #d4ebff;}#sk-container-id-6 div.sk-serial::before {content: \"\";position: absolute;border-left: 1px solid gray;box-sizing: border-box;top: 0;bottom: 0;left: 50%;z-index: 0;}#sk-container-id-6 div.sk-serial {display: flex;flex-direction: column;align-items: center;background-color: white;padding-right: 0.2em;padding-left: 0.2em;position: relative;}#sk-container-id-6 div.sk-item {position: relative;z-index: 1;}#sk-container-id-6 div.sk-parallel {display: flex;align-items: stretch;justify-content: center;background-color: white;position: relative;}#sk-container-id-6 div.sk-item::before, #sk-container-id-6 div.sk-parallel-item::before {content: \"\";position: absolute;border-left: 1px solid gray;box-sizing: border-box;top: 0;bottom: 0;left: 50%;z-index: -1;}#sk-container-id-6 div.sk-parallel-item {display: flex;flex-direction: column;z-index: 1;position: relative;background-color: white;}#sk-container-id-6 div.sk-parallel-item:first-child::after {align-self: flex-end;width: 50%;}#sk-container-id-6 div.sk-parallel-item:last-child::after {align-self: flex-start;width: 50%;}#sk-container-id-6 div.sk-parallel-item:only-child::after {width: 0;}#sk-container-id-6 div.sk-dashed-wrapped {border: 1px dashed gray;margin: 0 0.4em 0.5em 0.4em;box-sizing: border-box;padding-bottom: 0.4em;background-color: white;}#sk-container-id-6 div.sk-label label {font-family: monospace;font-weight: bold;display: inline-block;line-height: 1.2em;}#sk-container-id-6 div.sk-label-container {text-align: center;}#sk-container-id-6 div.sk-container {/* jupyter's `normalize.less` sets `[hidden] { display: none; }` but bootstrap.min.css set `[hidden] { display: none !important; }` so we also need the `!important` here to be able to override the default hidden behavior on the sphinx rendered scikit-learn.org. See: https://github.com/scikit-learn/scikit-learn/issues/21755 */display: inline-block !important;position: relative;}#sk-container-id-6 div.sk-text-repr-fallback {display: none;}</style><div id=\"sk-container-id-6\" class=\"sk-top-container\"><div class=\"sk-text-repr-fallback\"><pre>GradientBoostingClassifier()</pre><b>In a Jupyter environment, please rerun this cell to show the HTML representation or trust the notebook. <br />On GitHub, the HTML representation is unable to render, please try loading this page with nbviewer.org.</b></div><div class=\"sk-container\" hidden><div class=\"sk-item\"><div class=\"sk-estimator sk-toggleable\"><input class=\"sk-toggleable__control sk-hidden--visually\" id=\"sk-estimator-id-6\" type=\"checkbox\" checked><label for=\"sk-estimator-id-6\" class=\"sk-toggleable__label sk-toggleable__label-arrow\">GradientBoostingClassifier</label><div class=\"sk-toggleable__content\"><pre>GradientBoostingClassifier()</pre></div></div></div></div></div>"
      ],
      "text/plain": [
       "GradientBoostingClassifier()"
      ]
     },
     "execution_count": 58,
     "metadata": {},
     "output_type": "execute_result"
    }
   ],
   "source": [
    "gbc = GradientBoostingClassifier()\n",
    "gbc.fit(X_train, y_train)"
   ]
  },
  {
   "cell_type": "code",
   "execution_count": 59,
   "id": "66619ea5",
   "metadata": {
    "execution": {
     "iopub.execute_input": "2024-03-28T08:21:44.373248Z",
     "iopub.status.busy": "2024-03-28T08:21:44.372571Z",
     "iopub.status.idle": "2024-03-28T08:21:44.416603Z",
     "shell.execute_reply": "2024-03-28T08:21:44.415389Z"
    },
    "papermill": {
     "duration": 0.080799,
     "end_time": "2024-03-28T08:21:44.419313",
     "exception": false,
     "start_time": "2024-03-28T08:21:44.338514",
     "status": "completed"
    },
    "tags": []
   },
   "outputs": [],
   "source": [
    "y_predict6 = rf.predict(X_test)"
   ]
  },
  {
   "cell_type": "code",
   "execution_count": 60,
   "id": "540abff2",
   "metadata": {
    "execution": {
     "iopub.execute_input": "2024-03-28T08:21:44.486558Z",
     "iopub.status.busy": "2024-03-28T08:21:44.486174Z",
     "iopub.status.idle": "2024-03-28T08:21:44.494919Z",
     "shell.execute_reply": "2024-03-28T08:21:44.493753Z"
    },
    "papermill": {
     "duration": 0.045044,
     "end_time": "2024-03-28T08:21:44.497029",
     "exception": false,
     "start_time": "2024-03-28T08:21:44.451985",
     "status": "completed"
    },
    "tags": []
   },
   "outputs": [
    {
     "data": {
      "text/plain": [
       "0.998116169544741"
      ]
     },
     "execution_count": 60,
     "metadata": {},
     "output_type": "execute_result"
    }
   ],
   "source": [
    "accuracy_score(y_true=y_test, y_pred=y_predict6)"
   ]
  },
  {
   "cell_type": "markdown",
   "id": "45b82643",
   "metadata": {
    "execution": {
     "iopub.execute_input": "2024-03-28T08:18:51.659533Z",
     "iopub.status.busy": "2024-03-28T08:18:51.658929Z",
     "iopub.status.idle": "2024-03-28T08:18:51.691872Z",
     "shell.execute_reply": "2024-03-28T08:18:51.690850Z",
     "shell.execute_reply.started": "2024-03-28T08:18:51.659491Z"
    },
    "papermill": {
     "duration": 0.03251,
     "end_time": "2024-03-28T08:21:44.562819",
     "exception": false,
     "start_time": "2024-03-28T08:21:44.530309",
     "status": "completed"
    },
    "tags": []
   },
   "source": [
    "# Final"
   ]
  },
  {
   "cell_type": "code",
   "execution_count": 61,
   "id": "bfb3a18c",
   "metadata": {
    "execution": {
     "iopub.execute_input": "2024-03-28T08:21:44.630619Z",
     "iopub.status.busy": "2024-03-28T08:21:44.629833Z",
     "iopub.status.idle": "2024-03-28T08:21:44.649706Z",
     "shell.execute_reply": "2024-03-28T08:21:44.648503Z"
    },
    "papermill": {
     "duration": 0.056426,
     "end_time": "2024-03-28T08:21:44.652008",
     "exception": false,
     "start_time": "2024-03-28T08:21:44.595582",
     "status": "completed"
    },
    "tags": []
   },
   "outputs": [
    {
     "data": {
      "text/html": [
       "<div>\n",
       "<style scoped>\n",
       "    .dataframe tbody tr th:only-of-type {\n",
       "        vertical-align: middle;\n",
       "    }\n",
       "\n",
       "    .dataframe tbody tr th {\n",
       "        vertical-align: top;\n",
       "    }\n",
       "\n",
       "    .dataframe thead th {\n",
       "        text-align: right;\n",
       "    }\n",
       "</style>\n",
       "<table border=\"1\" class=\"dataframe\">\n",
       "  <thead>\n",
       "    <tr style=\"text-align: right;\">\n",
       "      <th></th>\n",
       "      <th>Models</th>\n",
       "      <th>ACC</th>\n",
       "    </tr>\n",
       "  </thead>\n",
       "  <tbody>\n",
       "    <tr>\n",
       "      <th>0</th>\n",
       "      <td>LR</td>\n",
       "      <td>0.997488</td>\n",
       "    </tr>\n",
       "    <tr>\n",
       "      <th>1</th>\n",
       "      <td>SVC</td>\n",
       "      <td>0.997802</td>\n",
       "    </tr>\n",
       "    <tr>\n",
       "      <th>2</th>\n",
       "      <td>KNN</td>\n",
       "      <td>0.986499</td>\n",
       "    </tr>\n",
       "    <tr>\n",
       "      <th>3</th>\n",
       "      <td>DT</td>\n",
       "      <td>0.997802</td>\n",
       "    </tr>\n",
       "    <tr>\n",
       "      <th>4</th>\n",
       "      <td>RF</td>\n",
       "      <td>0.998116</td>\n",
       "    </tr>\n",
       "    <tr>\n",
       "      <th>5</th>\n",
       "      <td>GB</td>\n",
       "      <td>0.998116</td>\n",
       "    </tr>\n",
       "  </tbody>\n",
       "</table>\n",
       "</div>"
      ],
      "text/plain": [
       "  Models       ACC\n",
       "0     LR  0.997488\n",
       "1    SVC  0.997802\n",
       "2    KNN  0.986499\n",
       "3     DT  0.997802\n",
       "4     RF  0.998116\n",
       "5     GB  0.998116"
      ]
     },
     "execution_count": 61,
     "metadata": {},
     "output_type": "execute_result"
    }
   ],
   "source": [
    "final_data = pd.DataFrame(\n",
    "    data={\n",
    "        \"Models\": [\"LR\", \"SVC\", \"KNN\", \"DT\", \"RF\", \"GB\"],\n",
    "        \"ACC\": [\n",
    "            accuracy_score(y_true=y_test, y_pred=y_predict),\n",
    "            accuracy_score(y_true=y_test, y_pred=y_predict2),\n",
    "            accuracy_score(y_true=y_test, y_pred=y_predict3),\n",
    "            accuracy_score(y_true=y_test, y_pred=y_predict4),\n",
    "            accuracy_score(y_true=y_test, y_pred=y_predict5),\n",
    "            accuracy_score(y_true=y_test, y_pred=y_predict6)\n",
    "        ]\n",
    "    }\n",
    ")\n",
    "final_data"
   ]
  },
  {
   "cell_type": "code",
   "execution_count": 62,
   "id": "cd93cd70",
   "metadata": {
    "execution": {
     "iopub.execute_input": "2024-03-28T08:21:44.720454Z",
     "iopub.status.busy": "2024-03-28T08:21:44.720021Z",
     "iopub.status.idle": "2024-03-28T08:21:45.193217Z",
     "shell.execute_reply": "2024-03-28T08:21:45.191816Z"
    },
    "papermill": {
     "duration": 0.510343,
     "end_time": "2024-03-28T08:21:45.195753",
     "exception": false,
     "start_time": "2024-03-28T08:21:44.685410",
     "status": "completed"
    },
    "tags": []
   },
   "outputs": [
    {
     "data": {
      "image/png": "[encoded data removed]",
      "text/plain": [
       "<Figure size 640x480 with 1 Axes>"
      ]
     },
     "metadata": {},
     "output_type": "display_data"
    }
   ],
   "source": [
    "sns.set(style=\"whitegrid\") \n",
    "\n",
    "ax = sns.barplot(data=final_data, x=\"Models\", y=\"ACC\", palette=\"Set2\") \n",
    "\n",
    "ax.set_title('Accuracy of Different Models')  \n",
    "ax.set_xlabel('Models')  \n",
    "ax.set_ylabel('Accuracy')  \n",
    "\n",
    "for p in ax.patches:\n",
    "    ax.annotate('{:.2f}'.format(p.get_height()), (p.get_x() + p.get_width() / 2., p.get_height()),\n",
    "                ha='center', va='center', fontsize=10, color='black', xytext=(0, 5),\n",
    "                textcoords='offset points')\n",
    "\n",
    "plt.tight_layout() \n",
    "plt.show()\n"
   ]
  },
  {
   "cell_type": "markdown",
   "id": "995eba6f",
   "metadata": {
    "papermill": {
     "duration": 0.033376,
     "end_time": "2024-03-28T08:21:45.262858",
     "exception": false,
     "start_time": "2024-03-28T08:21:45.229482",
     "status": "completed"
    },
    "tags": []
   },
   "source": [
    "# Save Model"
   ]
  },
  {
   "cell_type": "code",
   "execution_count": 63,
   "id": "4703c61b",
   "metadata": {
    "execution": {
     "iopub.execute_input": "2024-03-28T08:21:45.331596Z",
     "iopub.status.busy": "2024-03-28T08:21:45.331222Z",
     "iopub.status.idle": "2024-03-28T08:21:45.360752Z",
     "shell.execute_reply": "2024-03-28T08:21:45.359709Z"
    },
    "papermill": {
     "duration": 0.067181,
     "end_time": "2024-03-28T08:21:45.363460",
     "exception": false,
     "start_time": "2024-03-28T08:21:45.296279",
     "status": "completed"
    },
    "tags": []
   },
   "outputs": [],
   "source": [
    "X_res = sc.fit_transform(X_res)"
   ]
  },
  {
   "cell_type": "code",
   "execution_count": 64,
   "id": "d2f5e051",
   "metadata": {
    "execution": {
     "iopub.execute_input": "2024-03-28T08:21:45.432372Z",
     "iopub.status.busy": "2024-03-28T08:21:45.431988Z",
     "iopub.status.idle": "2024-03-28T08:21:46.936334Z",
     "shell.execute_reply": "2024-03-28T08:21:46.935497Z"
    },
    "papermill": {
     "duration": 1.541353,
     "end_time": "2024-03-28T08:21:46.938472",
     "exception": false,
     "start_time": "2024-03-28T08:21:45.397119",
     "status": "completed"
    },
    "tags": []
   },
   "outputs": [
    {
     "data": {
      "text/html": [
       "<style>#sk-container-id-7 {color: black;background-color: white;}#sk-container-id-7 pre{padding: 0;}#sk-container-id-7 div.sk-toggleable {background-color: white;}#sk-container-id-7 label.sk-toggleable__label {cursor: pointer;display: block;width: 100%;margin-bottom: 0;padding: 0.3em;box-sizing: border-box;text-align: center;}#sk-container-id-7 label.sk-toggleable__label-arrow:before {content: \"▸\";float: left;margin-right: 0.25em;color: #696969;}#sk-container-id-7 label.sk-toggleable__label-arrow:hover:before {color: black;}#sk-container-id-7 div.sk-estimator:hover label.sk-toggleable__label-arrow:before {color: black;}#sk-container-id-7 div.sk-toggleable__content {max-height: 0;max-width: 0;overflow: hidden;text-align: left;background-color: #f0f8ff;}#sk-container-id-7 div.sk-toggleable__content pre {margin: 0.2em;color: black;border-radius: 0.25em;background-color: #f0f8ff;}#sk-container-id-7 input.sk-toggleable__control:checked~div.sk-toggleable__content {max-height: 200px;max-width: 100%;overflow: auto;}#sk-container-id-7 input.sk-toggleable__control:checked~label.sk-toggleable__label-arrow:before {content: \"▾\";}#sk-container-id-7 div.sk-estimator input.sk-toggleable__control:checked~label.sk-toggleable__label {background-color: #d4ebff;}#sk-container-id-7 div.sk-label input.sk-toggleable__control:checked~label.sk-toggleable__label {background-color: #d4ebff;}#sk-container-id-7 input.sk-hidden--visually {border: 0;clip: rect(1px 1px 1px 1px);clip: rect(1px, 1px, 1px, 1px);height: 1px;margin: -1px;overflow: hidden;padding: 0;position: absolute;width: 1px;}#sk-container-id-7 div.sk-estimator {font-family: monospace;background-color: #f0f8ff;border: 1px dotted black;border-radius: 0.25em;box-sizing: border-box;margin-bottom: 0.5em;}#sk-container-id-7 div.sk-estimator:hover {background-color: #d4ebff;}#sk-container-id-7 div.sk-parallel-item::after {content: \"\";width: 100%;border-bottom: 1px solid gray;flex-grow: 1;}#sk-container-id-7 div.sk-label:hover label.sk-toggleable__label {background-color: #d4ebff;}#sk-container-id-7 div.sk-serial::before {content: \"\";position: absolute;border-left: 1px solid gray;box-sizing: border-box;top: 0;bottom: 0;left: 50%;z-index: 0;}#sk-container-id-7 div.sk-serial {display: flex;flex-direction: column;align-items: center;background-color: white;padding-right: 0.2em;padding-left: 0.2em;position: relative;}#sk-container-id-7 div.sk-item {position: relative;z-index: 1;}#sk-container-id-7 div.sk-parallel {display: flex;align-items: stretch;justify-content: center;background-color: white;position: relative;}#sk-container-id-7 div.sk-item::before, #sk-container-id-7 div.sk-parallel-item::before {content: \"\";position: absolute;border-left: 1px solid gray;box-sizing: border-box;top: 0;bottom: 0;left: 50%;z-index: -1;}#sk-container-id-7 div.sk-parallel-item {display: flex;flex-direction: column;z-index: 1;position: relative;background-color: white;}#sk-container-id-7 div.sk-parallel-item:first-child::after {align-self: flex-end;width: 50%;}#sk-container-id-7 div.sk-parallel-item:last-child::after {align-self: flex-start;width: 50%;}#sk-container-id-7 div.sk-parallel-item:only-child::after {width: 0;}#sk-container-id-7 div.sk-dashed-wrapped {border: 1px dashed gray;margin: 0 0.4em 0.5em 0.4em;box-sizing: border-box;padding-bottom: 0.4em;background-color: white;}#sk-container-id-7 div.sk-label label {font-family: monospace;font-weight: bold;display: inline-block;line-height: 1.2em;}#sk-container-id-7 div.sk-label-container {text-align: center;}#sk-container-id-7 div.sk-container {/* jupyter's `normalize.less` sets `[hidden] { display: none; }` but bootstrap.min.css set `[hidden] { display: none !important; }` so we also need the `!important` here to be able to override the default hidden behavior on the sphinx rendered scikit-learn.org. See: https://github.com/scikit-learn/scikit-learn/issues/21755 */display: inline-block !important;position: relative;}#sk-container-id-7 div.sk-text-repr-fallback {display: none;}</style><div id=\"sk-container-id-7\" class=\"sk-top-container\"><div class=\"sk-text-repr-fallback\"><pre>RandomForestClassifier()</pre><b>In a Jupyter environment, please rerun this cell to show the HTML representation or trust the notebook. <br />On GitHub, the HTML representation is unable to render, please try loading this page with nbviewer.org.</b></div><div class=\"sk-container\" hidden><div class=\"sk-item\"><div class=\"sk-estimator sk-toggleable\"><input class=\"sk-toggleable__control sk-hidden--visually\" id=\"sk-estimator-id-7\" type=\"checkbox\" checked><label for=\"sk-estimator-id-7\" class=\"sk-toggleable__label sk-toggleable__label-arrow\">RandomForestClassifier</label><div class=\"sk-toggleable__content\"><pre>RandomForestClassifier()</pre></div></div></div></div></div>"
      ],
      "text/plain": [
       "RandomForestClassifier()"
      ]
     },
     "execution_count": 64,
     "metadata": {},
     "output_type": "execute_result"
    }
   ],
   "source": [
    "rf.fit(X_res, y_res)"
   ]
  },
  {
   "cell_type": "code",
   "execution_count": 65,
   "id": "07105538",
   "metadata": {
    "execution": {
     "iopub.execute_input": "2024-03-28T08:21:47.008644Z",
     "iopub.status.busy": "2024-03-28T08:21:47.007839Z",
     "iopub.status.idle": "2024-03-28T08:21:47.012257Z",
     "shell.execute_reply": "2024-03-28T08:21:47.011414Z"
    },
    "papermill": {
     "duration": 0.042151,
     "end_time": "2024-03-28T08:21:47.014487",
     "exception": false,
     "start_time": "2024-03-28T08:21:46.972336",
     "status": "completed"
    },
    "tags": []
   },
   "outputs": [],
   "source": [
    "import joblib"
   ]
  },
  {
   "cell_type": "code",
   "execution_count": 66,
   "id": "65218ee5",
   "metadata": {
    "execution": {
     "iopub.execute_input": "2024-03-28T08:21:47.085478Z",
     "iopub.status.busy": "2024-03-28T08:21:47.085036Z",
     "iopub.status.idle": "2024-03-28T08:21:47.176274Z",
     "shell.execute_reply": "2024-03-28T08:21:47.174996Z"
    },
    "papermill": {
     "duration": 0.129746,
     "end_time": "2024-03-28T08:21:47.179059",
     "exception": false,
     "start_time": "2024-03-28T08:21:47.049313",
     "status": "completed"
    },
    "tags": []
   },
   "outputs": [
    {
     "data": {
      "text/plain": [
       "['ml_bank_churn_model_']"
      ]
     },
     "execution_count": 66,
     "metadata": {},
     "output_type": "execute_result"
    }
   ],
   "source": [
    "joblib.dump(rf, \"ml_bank_churn_model_\")"
   ]
  },
  {
   "cell_type": "code",
   "execution_count": null,
   "id": "8c5560cc",
   "metadata": {
    "papermill": {
     "duration": 0.033949,
     "end_time": "2024-03-28T08:21:47.246781",
     "exception": false,
     "start_time": "2024-03-28T08:21:47.212832",
     "status": "completed"
    },
    "tags": []
   },
   "outputs": [],
   "source": []
  }
 ],
 "metadata": {
  "kaggle": {
   "accelerator": "none",
   "dataSources": [
    {
     "datasetId": 4680163,
     "sourceId": 7956827,
     "sourceType": "datasetVersion"
    }
   ],
   "dockerImageVersionId": 30673,
   "isGpuEnabled": false,
   "isInternetEnabled": true,
   "language": "python",
   "sourceType": "notebook"
  },
  "kernelspec": {
   "display_name": "Python 3",
   "language": "python",
   "name": "python3"
  },
  "language_info": {
   "codemirror_mode": {
    "name": "ipython",
    "version": 3
   },
   "file_extension": ".py",
   "mimetype": "text/x-python",
   "name": "python",
   "nbconvert_exporter": "python",
   "pygments_lexer": "ipython3",
   "version": "3.10.13"
  },
  "papermill": {
   "default_parameters": {},
   "duration": 22.730689,
   "end_time": "2024-03-28T08:21:48.001578",
   "environment_variables": {},
   "exception": null,
   "input_path": "__notebook__.ipynb",
   "output_path": "__notebook__.ipynb",
   "parameters": {},
   "start_time": "2024-03-28T08:21:25.270889",
   "version": "2.5.0"
  }
 },
 "nbformat": 4,
 "nbformat_minor": 5
}
