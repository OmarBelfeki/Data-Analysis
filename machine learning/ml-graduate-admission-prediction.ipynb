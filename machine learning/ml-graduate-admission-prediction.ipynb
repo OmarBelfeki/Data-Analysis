{
 "cells": [
  {
   "cell_type": "code",
   "execution_count": 1,
   "id": "ed986e7b",
   "metadata": {
    "_cell_guid": "b1076dfc-b9ad-4769-8c92-a6c4dae69d19",
    "_uuid": "8f2839f25d086af736a60e9eeb907d3b93b6e0e5",
    "execution": {
     "iopub.execute_input": "2024-03-28T09:41:55.686117Z",
     "iopub.status.busy": "2024-03-28T09:41:55.685280Z",
     "iopub.status.idle": "2024-03-28T09:41:58.420986Z",
     "shell.execute_reply": "2024-03-28T09:41:58.419590Z"
    },
    "papermill": {
     "duration": 2.758158,
     "end_time": "2024-03-28T09:41:58.424359",
     "exception": false,
     "start_time": "2024-03-28T09:41:55.666201",
     "status": "completed"
    },
    "tags": []
   },
   "outputs": [],
   "source": [
    "import numpy as np\n",
    "import pandas as pd\n",
    "import seaborn as sns\n",
    "import matplotlib.pyplot as plt"
   ]
  },
  {
   "cell_type": "code",
   "execution_count": 2,
   "id": "4a9db141",
   "metadata": {
    "execution": {
     "iopub.execute_input": "2024-03-28T09:41:58.450022Z",
     "iopub.status.busy": "2024-03-28T09:41:58.449411Z",
     "iopub.status.idle": "2024-03-28T09:41:58.470142Z",
     "shell.execute_reply": "2024-03-28T09:41:58.468798Z"
    },
    "papermill": {
     "duration": 0.036281,
     "end_time": "2024-03-28T09:41:58.472758",
     "exception": false,
     "start_time": "2024-03-28T09:41:58.436477",
     "status": "completed"
    },
    "tags": []
   },
   "outputs": [],
   "source": [
    "data = pd.read_csv(\"/kaggle/input/graduate-admissions-dataset/Admission_Predict.csv\")"
   ]
  },
  {
   "cell_type": "markdown",
   "id": "be6437c4",
   "metadata": {
    "papermill": {
     "duration": 0.011253,
     "end_time": "2024-03-28T09:41:58.495493",
     "exception": false,
     "start_time": "2024-03-28T09:41:58.484240",
     "status": "completed"
    },
    "tags": []
   },
   "source": [
    "# EDA"
   ]
  },
  {
   "cell_type": "code",
   "execution_count": 3,
   "id": "640e197a",
   "metadata": {
    "execution": {
     "iopub.execute_input": "2024-03-28T09:41:58.522255Z",
     "iopub.status.busy": "2024-03-28T09:41:58.521883Z",
     "iopub.status.idle": "2024-03-28T09:41:58.549895Z",
     "shell.execute_reply": "2024-03-28T09:41:58.548543Z"
    },
    "papermill": {
     "duration": 0.044105,
     "end_time": "2024-03-28T09:41:58.552610",
     "exception": false,
     "start_time": "2024-03-28T09:41:58.508505",
     "status": "completed"
    },
    "tags": []
   },
   "outputs": [
    {
     "data": {
      "text/html": [
       "<div>\n",
       "<style scoped>\n",
       "    .dataframe tbody tr th:only-of-type {\n",
       "        vertical-align: middle;\n",
       "    }\n",
       "\n",
       "    .dataframe tbody tr th {\n",
       "        vertical-align: top;\n",
       "    }\n",
       "\n",
       "    .dataframe thead th {\n",
       "        text-align: right;\n",
       "    }\n",
       "</style>\n",
       "<table border=\"1\" class=\"dataframe\">\n",
       "  <thead>\n",
       "    <tr style=\"text-align: right;\">\n",
       "      <th></th>\n",
       "      <th>Serial No.</th>\n",
       "      <th>GRE Score</th>\n",
       "      <th>TOEFL Score</th>\n",
       "      <th>University Rating</th>\n",
       "      <th>SOP</th>\n",
       "      <th>LOR</th>\n",
       "      <th>CGPA</th>\n",
       "      <th>Research</th>\n",
       "      <th>Chance of Admit</th>\n",
       "    </tr>\n",
       "  </thead>\n",
       "  <tbody>\n",
       "    <tr>\n",
       "      <th>0</th>\n",
       "      <td>1</td>\n",
       "      <td>337</td>\n",
       "      <td>118</td>\n",
       "      <td>4</td>\n",
       "      <td>4.5</td>\n",
       "      <td>4.5</td>\n",
       "      <td>9.65</td>\n",
       "      <td>1</td>\n",
       "      <td>0.92</td>\n",
       "    </tr>\n",
       "    <tr>\n",
       "      <th>1</th>\n",
       "      <td>2</td>\n",
       "      <td>324</td>\n",
       "      <td>107</td>\n",
       "      <td>4</td>\n",
       "      <td>4.0</td>\n",
       "      <td>4.5</td>\n",
       "      <td>8.87</td>\n",
       "      <td>1</td>\n",
       "      <td>0.76</td>\n",
       "    </tr>\n",
       "    <tr>\n",
       "      <th>2</th>\n",
       "      <td>3</td>\n",
       "      <td>316</td>\n",
       "      <td>104</td>\n",
       "      <td>3</td>\n",
       "      <td>3.0</td>\n",
       "      <td>3.5</td>\n",
       "      <td>8.00</td>\n",
       "      <td>1</td>\n",
       "      <td>0.72</td>\n",
       "    </tr>\n",
       "    <tr>\n",
       "      <th>3</th>\n",
       "      <td>4</td>\n",
       "      <td>322</td>\n",
       "      <td>110</td>\n",
       "      <td>3</td>\n",
       "      <td>3.5</td>\n",
       "      <td>2.5</td>\n",
       "      <td>8.67</td>\n",
       "      <td>1</td>\n",
       "      <td>0.80</td>\n",
       "    </tr>\n",
       "    <tr>\n",
       "      <th>4</th>\n",
       "      <td>5</td>\n",
       "      <td>314</td>\n",
       "      <td>103</td>\n",
       "      <td>2</td>\n",
       "      <td>2.0</td>\n",
       "      <td>3.0</td>\n",
       "      <td>8.21</td>\n",
       "      <td>0</td>\n",
       "      <td>0.65</td>\n",
       "    </tr>\n",
       "  </tbody>\n",
       "</table>\n",
       "</div>"
      ],
      "text/plain": [
       "   Serial No.  GRE Score  TOEFL Score  University Rating  SOP  LOR   CGPA  \\\n",
       "0           1        337          118                  4  4.5   4.5  9.65   \n",
       "1           2        324          107                  4  4.0   4.5  8.87   \n",
       "2           3        316          104                  3  3.0   3.5  8.00   \n",
       "3           4        322          110                  3  3.5   2.5  8.67   \n",
       "4           5        314          103                  2  2.0   3.0  8.21   \n",
       "\n",
       "   Research  Chance of Admit   \n",
       "0         1              0.92  \n",
       "1         1              0.76  \n",
       "2         1              0.72  \n",
       "3         1              0.80  \n",
       "4         0              0.65  "
      ]
     },
     "execution_count": 3,
     "metadata": {},
     "output_type": "execute_result"
    }
   ],
   "source": [
    "data.head()"
   ]
  },
  {
   "cell_type": "code",
   "execution_count": 4,
   "id": "192cd316",
   "metadata": {
    "execution": {
     "iopub.execute_input": "2024-03-28T09:41:58.578097Z",
     "iopub.status.busy": "2024-03-28T09:41:58.577674Z",
     "iopub.status.idle": "2024-03-28T09:41:58.592327Z",
     "shell.execute_reply": "2024-03-28T09:41:58.591168Z"
    },
    "papermill": {
     "duration": 0.030427,
     "end_time": "2024-03-28T09:41:58.594816",
     "exception": false,
     "start_time": "2024-03-28T09:41:58.564389",
     "status": "completed"
    },
    "tags": []
   },
   "outputs": [
    {
     "data": {
      "text/html": [
       "<div>\n",
       "<style scoped>\n",
       "    .dataframe tbody tr th:only-of-type {\n",
       "        vertical-align: middle;\n",
       "    }\n",
       "\n",
       "    .dataframe tbody tr th {\n",
       "        vertical-align: top;\n",
       "    }\n",
       "\n",
       "    .dataframe thead th {\n",
       "        text-align: right;\n",
       "    }\n",
       "</style>\n",
       "<table border=\"1\" class=\"dataframe\">\n",
       "  <thead>\n",
       "    <tr style=\"text-align: right;\">\n",
       "      <th></th>\n",
       "      <th>Serial No.</th>\n",
       "      <th>GRE Score</th>\n",
       "      <th>TOEFL Score</th>\n",
       "      <th>University Rating</th>\n",
       "      <th>SOP</th>\n",
       "      <th>LOR</th>\n",
       "      <th>CGPA</th>\n",
       "      <th>Research</th>\n",
       "      <th>Chance of Admit</th>\n",
       "    </tr>\n",
       "  </thead>\n",
       "  <tbody>\n",
       "    <tr>\n",
       "      <th>395</th>\n",
       "      <td>396</td>\n",
       "      <td>324</td>\n",
       "      <td>110</td>\n",
       "      <td>3</td>\n",
       "      <td>3.5</td>\n",
       "      <td>3.5</td>\n",
       "      <td>9.04</td>\n",
       "      <td>1</td>\n",
       "      <td>0.82</td>\n",
       "    </tr>\n",
       "    <tr>\n",
       "      <th>396</th>\n",
       "      <td>397</td>\n",
       "      <td>325</td>\n",
       "      <td>107</td>\n",
       "      <td>3</td>\n",
       "      <td>3.0</td>\n",
       "      <td>3.5</td>\n",
       "      <td>9.11</td>\n",
       "      <td>1</td>\n",
       "      <td>0.84</td>\n",
       "    </tr>\n",
       "    <tr>\n",
       "      <th>397</th>\n",
       "      <td>398</td>\n",
       "      <td>330</td>\n",
       "      <td>116</td>\n",
       "      <td>4</td>\n",
       "      <td>5.0</td>\n",
       "      <td>4.5</td>\n",
       "      <td>9.45</td>\n",
       "      <td>1</td>\n",
       "      <td>0.91</td>\n",
       "    </tr>\n",
       "    <tr>\n",
       "      <th>398</th>\n",
       "      <td>399</td>\n",
       "      <td>312</td>\n",
       "      <td>103</td>\n",
       "      <td>3</td>\n",
       "      <td>3.5</td>\n",
       "      <td>4.0</td>\n",
       "      <td>8.78</td>\n",
       "      <td>0</td>\n",
       "      <td>0.67</td>\n",
       "    </tr>\n",
       "    <tr>\n",
       "      <th>399</th>\n",
       "      <td>400</td>\n",
       "      <td>333</td>\n",
       "      <td>117</td>\n",
       "      <td>4</td>\n",
       "      <td>5.0</td>\n",
       "      <td>4.0</td>\n",
       "      <td>9.66</td>\n",
       "      <td>1</td>\n",
       "      <td>0.95</td>\n",
       "    </tr>\n",
       "  </tbody>\n",
       "</table>\n",
       "</div>"
      ],
      "text/plain": [
       "     Serial No.  GRE Score  TOEFL Score  University Rating  SOP  LOR   CGPA  \\\n",
       "395         396        324          110                  3  3.5   3.5  9.04   \n",
       "396         397        325          107                  3  3.0   3.5  9.11   \n",
       "397         398        330          116                  4  5.0   4.5  9.45   \n",
       "398         399        312          103                  3  3.5   4.0  8.78   \n",
       "399         400        333          117                  4  5.0   4.0  9.66   \n",
       "\n",
       "     Research  Chance of Admit   \n",
       "395         1              0.82  \n",
       "396         1              0.84  \n",
       "397         1              0.91  \n",
       "398         0              0.67  \n",
       "399         1              0.95  "
      ]
     },
     "execution_count": 4,
     "metadata": {},
     "output_type": "execute_result"
    }
   ],
   "source": [
    "data.tail()"
   ]
  },
  {
   "cell_type": "code",
   "execution_count": 5,
   "id": "0dc35aa2",
   "metadata": {
    "execution": {
     "iopub.execute_input": "2024-03-28T09:41:58.621803Z",
     "iopub.status.busy": "2024-03-28T09:41:58.621409Z",
     "iopub.status.idle": "2024-03-28T09:41:58.627703Z",
     "shell.execute_reply": "2024-03-28T09:41:58.626089Z"
    },
    "papermill": {
     "duration": 0.02299,
     "end_time": "2024-03-28T09:41:58.630059",
     "exception": false,
     "start_time": "2024-03-28T09:41:58.607069",
     "status": "completed"
    },
    "tags": []
   },
   "outputs": [
    {
     "name": "stdout",
     "output_type": "stream",
     "text": [
      "Rows: 400\n",
      "Columns: 9\n"
     ]
    }
   ],
   "source": [
    "print(f\"Rows: {data.shape[0]}\\nColumns: {data.shape[1]}\")"
   ]
  },
  {
   "cell_type": "code",
   "execution_count": 6,
   "id": "17259b58",
   "metadata": {
    "execution": {
     "iopub.execute_input": "2024-03-28T09:41:58.656383Z",
     "iopub.status.busy": "2024-03-28T09:41:58.656018Z",
     "iopub.status.idle": "2024-03-28T09:41:58.683874Z",
     "shell.execute_reply": "2024-03-28T09:41:58.682523Z"
    },
    "papermill": {
     "duration": 0.044242,
     "end_time": "2024-03-28T09:41:58.686568",
     "exception": false,
     "start_time": "2024-03-28T09:41:58.642326",
     "status": "completed"
    },
    "tags": []
   },
   "outputs": [
    {
     "name": "stdout",
     "output_type": "stream",
     "text": [
      "<class 'pandas.core.frame.DataFrame'>\n",
      "RangeIndex: 400 entries, 0 to 399\n",
      "Data columns (total 9 columns):\n",
      " #   Column             Non-Null Count  Dtype  \n",
      "---  ------             --------------  -----  \n",
      " 0   Serial No.         400 non-null    int64  \n",
      " 1   GRE Score          400 non-null    int64  \n",
      " 2   TOEFL Score        400 non-null    int64  \n",
      " 3   University Rating  400 non-null    int64  \n",
      " 4   SOP                400 non-null    float64\n",
      " 5   LOR                400 non-null    float64\n",
      " 6   CGPA               400 non-null    float64\n",
      " 7   Research           400 non-null    int64  \n",
      " 8   Chance of Admit    400 non-null    float64\n",
      "dtypes: float64(4), int64(5)\n",
      "memory usage: 28.2 KB\n"
     ]
    }
   ],
   "source": [
    "data.info()"
   ]
  },
  {
   "cell_type": "code",
   "execution_count": 7,
   "id": "911a9991",
   "metadata": {
    "execution": {
     "iopub.execute_input": "2024-03-28T09:41:58.712610Z",
     "iopub.status.busy": "2024-03-28T09:41:58.712236Z",
     "iopub.status.idle": "2024-03-28T09:41:59.426941Z",
     "shell.execute_reply": "2024-03-28T09:41:59.425720Z"
    },
    "papermill": {
     "duration": 0.730747,
     "end_time": "2024-03-28T09:41:59.429486",
     "exception": false,
     "start_time": "2024-03-28T09:41:58.698739",
     "status": "completed"
    },
    "tags": []
   },
   "outputs": [
    {
     "data": {
      "text/plain": [
       "<Axes: >"
      ]
     },
     "execution_count": 7,
     "metadata": {},
     "output_type": "execute_result"
    },
    {
     "data": {
      "image/png": "[encoded data removed]",
      "text/plain": [
       "<Figure size 640x480 with 2 Axes>"
      ]
     },
     "metadata": {},
     "output_type": "display_data"
    }
   ],
   "source": [
    "sns.heatmap(data.T.isnull())"
   ]
  },
  {
   "cell_type": "code",
   "execution_count": 8,
   "id": "d3ac596d",
   "metadata": {
    "execution": {
     "iopub.execute_input": "2024-03-28T09:41:59.458456Z",
     "iopub.status.busy": "2024-03-28T09:41:59.457716Z",
     "iopub.status.idle": "2024-03-28T09:41:59.496976Z",
     "shell.execute_reply": "2024-03-28T09:41:59.495746Z"
    },
    "papermill": {
     "duration": 0.056603,
     "end_time": "2024-03-28T09:41:59.499442",
     "exception": false,
     "start_time": "2024-03-28T09:41:59.442839",
     "status": "completed"
    },
    "tags": []
   },
   "outputs": [
    {
     "data": {
      "text/html": [
       "<div>\n",
       "<style scoped>\n",
       "    .dataframe tbody tr th:only-of-type {\n",
       "        vertical-align: middle;\n",
       "    }\n",
       "\n",
       "    .dataframe tbody tr th {\n",
       "        vertical-align: top;\n",
       "    }\n",
       "\n",
       "    .dataframe thead th {\n",
       "        text-align: right;\n",
       "    }\n",
       "</style>\n",
       "<table border=\"1\" class=\"dataframe\">\n",
       "  <thead>\n",
       "    <tr style=\"text-align: right;\">\n",
       "      <th></th>\n",
       "      <th>Serial No.</th>\n",
       "      <th>GRE Score</th>\n",
       "      <th>TOEFL Score</th>\n",
       "      <th>University Rating</th>\n",
       "      <th>SOP</th>\n",
       "      <th>LOR</th>\n",
       "      <th>CGPA</th>\n",
       "      <th>Research</th>\n",
       "      <th>Chance of Admit</th>\n",
       "    </tr>\n",
       "  </thead>\n",
       "  <tbody>\n",
       "    <tr>\n",
       "      <th>count</th>\n",
       "      <td>400.000000</td>\n",
       "      <td>400.000000</td>\n",
       "      <td>400.000000</td>\n",
       "      <td>400.000000</td>\n",
       "      <td>400.000000</td>\n",
       "      <td>400.000000</td>\n",
       "      <td>400.000000</td>\n",
       "      <td>400.000000</td>\n",
       "      <td>400.000000</td>\n",
       "    </tr>\n",
       "    <tr>\n",
       "      <th>mean</th>\n",
       "      <td>200.500000</td>\n",
       "      <td>316.807500</td>\n",
       "      <td>107.410000</td>\n",
       "      <td>3.087500</td>\n",
       "      <td>3.400000</td>\n",
       "      <td>3.452500</td>\n",
       "      <td>8.598925</td>\n",
       "      <td>0.547500</td>\n",
       "      <td>0.724350</td>\n",
       "    </tr>\n",
       "    <tr>\n",
       "      <th>std</th>\n",
       "      <td>115.614301</td>\n",
       "      <td>11.473646</td>\n",
       "      <td>6.069514</td>\n",
       "      <td>1.143728</td>\n",
       "      <td>1.006869</td>\n",
       "      <td>0.898478</td>\n",
       "      <td>0.596317</td>\n",
       "      <td>0.498362</td>\n",
       "      <td>0.142609</td>\n",
       "    </tr>\n",
       "    <tr>\n",
       "      <th>min</th>\n",
       "      <td>1.000000</td>\n",
       "      <td>290.000000</td>\n",
       "      <td>92.000000</td>\n",
       "      <td>1.000000</td>\n",
       "      <td>1.000000</td>\n",
       "      <td>1.000000</td>\n",
       "      <td>6.800000</td>\n",
       "      <td>0.000000</td>\n",
       "      <td>0.340000</td>\n",
       "    </tr>\n",
       "    <tr>\n",
       "      <th>25%</th>\n",
       "      <td>100.750000</td>\n",
       "      <td>308.000000</td>\n",
       "      <td>103.000000</td>\n",
       "      <td>2.000000</td>\n",
       "      <td>2.500000</td>\n",
       "      <td>3.000000</td>\n",
       "      <td>8.170000</td>\n",
       "      <td>0.000000</td>\n",
       "      <td>0.640000</td>\n",
       "    </tr>\n",
       "    <tr>\n",
       "      <th>50%</th>\n",
       "      <td>200.500000</td>\n",
       "      <td>317.000000</td>\n",
       "      <td>107.000000</td>\n",
       "      <td>3.000000</td>\n",
       "      <td>3.500000</td>\n",
       "      <td>3.500000</td>\n",
       "      <td>8.610000</td>\n",
       "      <td>1.000000</td>\n",
       "      <td>0.730000</td>\n",
       "    </tr>\n",
       "    <tr>\n",
       "      <th>75%</th>\n",
       "      <td>300.250000</td>\n",
       "      <td>325.000000</td>\n",
       "      <td>112.000000</td>\n",
       "      <td>4.000000</td>\n",
       "      <td>4.000000</td>\n",
       "      <td>4.000000</td>\n",
       "      <td>9.062500</td>\n",
       "      <td>1.000000</td>\n",
       "      <td>0.830000</td>\n",
       "    </tr>\n",
       "    <tr>\n",
       "      <th>max</th>\n",
       "      <td>400.000000</td>\n",
       "      <td>340.000000</td>\n",
       "      <td>120.000000</td>\n",
       "      <td>5.000000</td>\n",
       "      <td>5.000000</td>\n",
       "      <td>5.000000</td>\n",
       "      <td>9.920000</td>\n",
       "      <td>1.000000</td>\n",
       "      <td>0.970000</td>\n",
       "    </tr>\n",
       "  </tbody>\n",
       "</table>\n",
       "</div>"
      ],
      "text/plain": [
       "       Serial No.   GRE Score  TOEFL Score  University Rating         SOP  \\\n",
       "count  400.000000  400.000000   400.000000         400.000000  400.000000   \n",
       "mean   200.500000  316.807500   107.410000           3.087500    3.400000   \n",
       "std    115.614301   11.473646     6.069514           1.143728    1.006869   \n",
       "min      1.000000  290.000000    92.000000           1.000000    1.000000   \n",
       "25%    100.750000  308.000000   103.000000           2.000000    2.500000   \n",
       "50%    200.500000  317.000000   107.000000           3.000000    3.500000   \n",
       "75%    300.250000  325.000000   112.000000           4.000000    4.000000   \n",
       "max    400.000000  340.000000   120.000000           5.000000    5.000000   \n",
       "\n",
       "             LOR         CGPA    Research  Chance of Admit   \n",
       "count  400.000000  400.000000  400.000000        400.000000  \n",
       "mean     3.452500    8.598925    0.547500          0.724350  \n",
       "std      0.898478    0.596317    0.498362          0.142609  \n",
       "min      1.000000    6.800000    0.000000          0.340000  \n",
       "25%      3.000000    8.170000    0.000000          0.640000  \n",
       "50%      3.500000    8.610000    1.000000          0.730000  \n",
       "75%      4.000000    9.062500    1.000000          0.830000  \n",
       "max      5.000000    9.920000    1.000000          0.970000  "
      ]
     },
     "execution_count": 8,
     "metadata": {},
     "output_type": "execute_result"
    }
   ],
   "source": [
    "data.describe(include=\"all\")"
   ]
  },
  {
   "cell_type": "markdown",
   "id": "ff3f52a3",
   "metadata": {
    "execution": {
     "iopub.execute_input": "2024-03-28T08:43:00.904745Z",
     "iopub.status.busy": "2024-03-28T08:43:00.904300Z",
     "iopub.status.idle": "2024-03-28T08:43:00.914032Z",
     "shell.execute_reply": "2024-03-28T08:43:00.912667Z",
     "shell.execute_reply.started": "2024-03-28T08:43:00.904710Z"
    },
    "papermill": {
     "duration": 0.013206,
     "end_time": "2024-03-28T09:41:59.526020",
     "exception": false,
     "start_time": "2024-03-28T09:41:59.512814",
     "status": "completed"
    },
    "tags": []
   },
   "source": [
    "# Dropping Irrelevant Features"
   ]
  },
  {
   "cell_type": "code",
   "execution_count": 9,
   "id": "57b62de6",
   "metadata": {
    "execution": {
     "iopub.execute_input": "2024-03-28T09:41:59.555577Z",
     "iopub.status.busy": "2024-03-28T09:41:59.554858Z",
     "iopub.status.idle": "2024-03-28T09:41:59.562525Z",
     "shell.execute_reply": "2024-03-28T09:41:59.561413Z"
    },
    "papermill": {
     "duration": 0.025665,
     "end_time": "2024-03-28T09:41:59.564758",
     "exception": false,
     "start_time": "2024-03-28T09:41:59.539093",
     "status": "completed"
    },
    "tags": []
   },
   "outputs": [
    {
     "data": {
      "text/plain": [
       "Index(['Serial No.', 'GRE Score', 'TOEFL Score', 'University Rating', 'SOP',\n",
       "       'LOR ', 'CGPA', 'Research', 'Chance of Admit '],\n",
       "      dtype='object')"
      ]
     },
     "execution_count": 9,
     "metadata": {},
     "output_type": "execute_result"
    }
   ],
   "source": [
    "data.columns"
   ]
  },
  {
   "cell_type": "code",
   "execution_count": 10,
   "id": "172d29a6",
   "metadata": {
    "execution": {
     "iopub.execute_input": "2024-03-28T09:41:59.594785Z",
     "iopub.status.busy": "2024-03-28T09:41:59.594104Z",
     "iopub.status.idle": "2024-03-28T09:41:59.602306Z",
     "shell.execute_reply": "2024-03-28T09:41:59.601246Z"
    },
    "papermill": {
     "duration": 0.026746,
     "end_time": "2024-03-28T09:41:59.604796",
     "exception": false,
     "start_time": "2024-03-28T09:41:59.578050",
     "status": "completed"
    },
    "tags": []
   },
   "outputs": [],
   "source": [
    "data.drop(\"Serial No.\", axis=1, inplace=True)"
   ]
  },
  {
   "cell_type": "code",
   "execution_count": 11,
   "id": "841e4a53",
   "metadata": {
    "execution": {
     "iopub.execute_input": "2024-03-28T09:41:59.633489Z",
     "iopub.status.busy": "2024-03-28T09:41:59.632601Z",
     "iopub.status.idle": "2024-03-28T09:41:59.648848Z",
     "shell.execute_reply": "2024-03-28T09:41:59.647627Z"
    },
    "papermill": {
     "duration": 0.033218,
     "end_time": "2024-03-28T09:41:59.651100",
     "exception": false,
     "start_time": "2024-03-28T09:41:59.617882",
     "status": "completed"
    },
    "tags": []
   },
   "outputs": [
    {
     "data": {
      "text/html": [
       "<div>\n",
       "<style scoped>\n",
       "    .dataframe tbody tr th:only-of-type {\n",
       "        vertical-align: middle;\n",
       "    }\n",
       "\n",
       "    .dataframe tbody tr th {\n",
       "        vertical-align: top;\n",
       "    }\n",
       "\n",
       "    .dataframe thead th {\n",
       "        text-align: right;\n",
       "    }\n",
       "</style>\n",
       "<table border=\"1\" class=\"dataframe\">\n",
       "  <thead>\n",
       "    <tr style=\"text-align: right;\">\n",
       "      <th></th>\n",
       "      <th>GRE Score</th>\n",
       "      <th>TOEFL Score</th>\n",
       "      <th>University Rating</th>\n",
       "      <th>SOP</th>\n",
       "      <th>LOR</th>\n",
       "      <th>CGPA</th>\n",
       "      <th>Research</th>\n",
       "      <th>Chance of Admit</th>\n",
       "    </tr>\n",
       "  </thead>\n",
       "  <tbody>\n",
       "    <tr>\n",
       "      <th>0</th>\n",
       "      <td>337</td>\n",
       "      <td>118</td>\n",
       "      <td>4</td>\n",
       "      <td>4.5</td>\n",
       "      <td>4.5</td>\n",
       "      <td>9.65</td>\n",
       "      <td>1</td>\n",
       "      <td>0.92</td>\n",
       "    </tr>\n",
       "    <tr>\n",
       "      <th>1</th>\n",
       "      <td>324</td>\n",
       "      <td>107</td>\n",
       "      <td>4</td>\n",
       "      <td>4.0</td>\n",
       "      <td>4.5</td>\n",
       "      <td>8.87</td>\n",
       "      <td>1</td>\n",
       "      <td>0.76</td>\n",
       "    </tr>\n",
       "    <tr>\n",
       "      <th>2</th>\n",
       "      <td>316</td>\n",
       "      <td>104</td>\n",
       "      <td>3</td>\n",
       "      <td>3.0</td>\n",
       "      <td>3.5</td>\n",
       "      <td>8.00</td>\n",
       "      <td>1</td>\n",
       "      <td>0.72</td>\n",
       "    </tr>\n",
       "    <tr>\n",
       "      <th>3</th>\n",
       "      <td>322</td>\n",
       "      <td>110</td>\n",
       "      <td>3</td>\n",
       "      <td>3.5</td>\n",
       "      <td>2.5</td>\n",
       "      <td>8.67</td>\n",
       "      <td>1</td>\n",
       "      <td>0.80</td>\n",
       "    </tr>\n",
       "    <tr>\n",
       "      <th>4</th>\n",
       "      <td>314</td>\n",
       "      <td>103</td>\n",
       "      <td>2</td>\n",
       "      <td>2.0</td>\n",
       "      <td>3.0</td>\n",
       "      <td>8.21</td>\n",
       "      <td>0</td>\n",
       "      <td>0.65</td>\n",
       "    </tr>\n",
       "  </tbody>\n",
       "</table>\n",
       "</div>"
      ],
      "text/plain": [
       "   GRE Score  TOEFL Score  University Rating  SOP  LOR   CGPA  Research  \\\n",
       "0        337          118                  4  4.5   4.5  9.65         1   \n",
       "1        324          107                  4  4.0   4.5  8.87         1   \n",
       "2        316          104                  3  3.0   3.5  8.00         1   \n",
       "3        322          110                  3  3.5   2.5  8.67         1   \n",
       "4        314          103                  2  2.0   3.0  8.21         0   \n",
       "\n",
       "   Chance of Admit   \n",
       "0              0.92  \n",
       "1              0.76  \n",
       "2              0.72  \n",
       "3              0.80  \n",
       "4              0.65  "
      ]
     },
     "execution_count": 11,
     "metadata": {},
     "output_type": "execute_result"
    }
   ],
   "source": [
    "data.head()"
   ]
  },
  {
   "cell_type": "markdown",
   "id": "542779b0",
   "metadata": {
    "papermill": {
     "duration": 0.013674,
     "end_time": "2024-03-28T09:41:59.678235",
     "exception": false,
     "start_time": "2024-03-28T09:41:59.664561",
     "status": "completed"
    },
    "tags": []
   },
   "source": [
    "# Store Feature Matrix In X and Response(Target) In Vector y"
   ]
  },
  {
   "cell_type": "code",
   "execution_count": 12,
   "id": "2bad041b",
   "metadata": {
    "execution": {
     "iopub.execute_input": "2024-03-28T09:41:59.707794Z",
     "iopub.status.busy": "2024-03-28T09:41:59.707056Z",
     "iopub.status.idle": "2024-03-28T09:41:59.713482Z",
     "shell.execute_reply": "2024-03-28T09:41:59.712584Z"
    },
    "papermill": {
     "duration": 0.024284,
     "end_time": "2024-03-28T09:41:59.715947",
     "exception": false,
     "start_time": "2024-03-28T09:41:59.691663",
     "status": "completed"
    },
    "tags": []
   },
   "outputs": [],
   "source": [
    "X = data.drop(\"Chance of Admit \", axis=1)\n",
    "y = data[\"Chance of Admit \"]"
   ]
  },
  {
   "cell_type": "markdown",
   "id": "a2fa473c",
   "metadata": {
    "papermill": {
     "duration": 0.013835,
     "end_time": "2024-03-28T09:41:59.746077",
     "exception": false,
     "start_time": "2024-03-28T09:41:59.732242",
     "status": "completed"
    },
    "tags": []
   },
   "source": [
    "# Splitting The Dataset Into The Training Set And Test Set\n"
   ]
  },
  {
   "cell_type": "code",
   "execution_count": 13,
   "id": "3a68458b",
   "metadata": {
    "execution": {
     "iopub.execute_input": "2024-03-28T09:41:59.775406Z",
     "iopub.status.busy": "2024-03-28T09:41:59.774739Z",
     "iopub.status.idle": "2024-03-28T09:42:00.106314Z",
     "shell.execute_reply": "2024-03-28T09:42:00.105329Z"
    },
    "papermill": {
     "duration": 0.349128,
     "end_time": "2024-03-28T09:42:00.108971",
     "exception": false,
     "start_time": "2024-03-28T09:41:59.759843",
     "status": "completed"
    },
    "tags": []
   },
   "outputs": [],
   "source": [
    "from sklearn.model_selection import train_test_split"
   ]
  },
  {
   "cell_type": "code",
   "execution_count": 14,
   "id": "e716f4ab",
   "metadata": {
    "execution": {
     "iopub.execute_input": "2024-03-28T09:42:00.138531Z",
     "iopub.status.busy": "2024-03-28T09:42:00.137816Z",
     "iopub.status.idle": "2024-03-28T09:42:00.147344Z",
     "shell.execute_reply": "2024-03-28T09:42:00.146348Z"
    },
    "papermill": {
     "duration": 0.027422,
     "end_time": "2024-03-28T09:42:00.149919",
     "exception": false,
     "start_time": "2024-03-28T09:42:00.122497",
     "status": "completed"
    },
    "tags": []
   },
   "outputs": [],
   "source": [
    "X_train, X_test, y_train, y_test = train_test_split(X, y, random_state=42, test_size=0.2)"
   ]
  },
  {
   "cell_type": "markdown",
   "id": "1750c262",
   "metadata": {
    "papermill": {
     "duration": 0.013043,
     "end_time": "2024-03-28T09:42:00.176524",
     "exception": false,
     "start_time": "2024-03-28T09:42:00.163481",
     "status": "completed"
    },
    "tags": []
   },
   "source": [
    "# Feature Scaling\n"
   ]
  },
  {
   "cell_type": "code",
   "execution_count": 15,
   "id": "5f3c7fcd",
   "metadata": {
    "execution": {
     "iopub.execute_input": "2024-03-28T09:42:00.206000Z",
     "iopub.status.busy": "2024-03-28T09:42:00.205287Z",
     "iopub.status.idle": "2024-03-28T09:42:00.210552Z",
     "shell.execute_reply": "2024-03-28T09:42:00.209579Z"
    },
    "papermill": {
     "duration": 0.023154,
     "end_time": "2024-03-28T09:42:00.213090",
     "exception": false,
     "start_time": "2024-03-28T09:42:00.189936",
     "status": "completed"
    },
    "tags": []
   },
   "outputs": [],
   "source": [
    "from sklearn.preprocessing import StandardScaler"
   ]
  },
  {
   "cell_type": "code",
   "execution_count": 16,
   "id": "5deef54a",
   "metadata": {
    "execution": {
     "iopub.execute_input": "2024-03-28T09:42:00.242989Z",
     "iopub.status.busy": "2024-03-28T09:42:00.242282Z",
     "iopub.status.idle": "2024-03-28T09:42:00.247225Z",
     "shell.execute_reply": "2024-03-28T09:42:00.246330Z"
    },
    "papermill": {
     "duration": 0.02248,
     "end_time": "2024-03-28T09:42:00.249513",
     "exception": false,
     "start_time": "2024-03-28T09:42:00.227033",
     "status": "completed"
    },
    "tags": []
   },
   "outputs": [],
   "source": [
    "st = StandardScaler()"
   ]
  },
  {
   "cell_type": "code",
   "execution_count": 17,
   "id": "b7b1fd3b",
   "metadata": {
    "execution": {
     "iopub.execute_input": "2024-03-28T09:42:00.352938Z",
     "iopub.status.busy": "2024-03-28T09:42:00.352242Z",
     "iopub.status.idle": "2024-03-28T09:42:00.362830Z",
     "shell.execute_reply": "2024-03-28T09:42:00.361937Z"
    },
    "papermill": {
     "duration": 0.102277,
     "end_time": "2024-03-28T09:42:00.365243",
     "exception": false,
     "start_time": "2024-03-28T09:42:00.262966",
     "status": "completed"
    },
    "tags": []
   },
   "outputs": [],
   "source": [
    "X_train = st.fit_transform(X_train)\n",
    "X_test = st.transform(X_test)"
   ]
  },
  {
   "cell_type": "markdown",
   "id": "b7919525",
   "metadata": {
    "papermill": {
     "duration": 0.01325,
     "end_time": "2024-03-28T09:42:00.391973",
     "exception": false,
     "start_time": "2024-03-28T09:42:00.378723",
     "status": "completed"
    },
    "tags": []
   },
   "source": [
    "# Import The models\n"
   ]
  },
  {
   "cell_type": "code",
   "execution_count": 18,
   "id": "7f23b14a",
   "metadata": {
    "execution": {
     "iopub.execute_input": "2024-03-28T09:42:00.421364Z",
     "iopub.status.busy": "2024-03-28T09:42:00.420680Z",
     "iopub.status.idle": "2024-03-28T09:42:00.728901Z",
     "shell.execute_reply": "2024-03-28T09:42:00.727275Z"
    },
    "papermill": {
     "duration": 0.32617,
     "end_time": "2024-03-28T09:42:00.731715",
     "exception": false,
     "start_time": "2024-03-28T09:42:00.405545",
     "status": "completed"
    },
    "tags": []
   },
   "outputs": [],
   "source": [
    "from sklearn.linear_model import LinearRegression\n",
    "from sklearn.svm import SVR\n",
    "from sklearn.ensemble import RandomForestRegressor\n",
    "from sklearn.ensemble import GradientBoostingRegressor"
   ]
  },
  {
   "cell_type": "markdown",
   "id": "4b395ccc",
   "metadata": {
    "papermill": {
     "duration": 0.014884,
     "end_time": "2024-03-28T09:42:00.762803",
     "exception": false,
     "start_time": "2024-03-28T09:42:00.747919",
     "status": "completed"
    },
    "tags": []
   },
   "source": [
    "# Model Training"
   ]
  },
  {
   "cell_type": "code",
   "execution_count": 19,
   "id": "3ecbc14e",
   "metadata": {
    "execution": {
     "iopub.execute_input": "2024-03-28T09:42:00.792860Z",
     "iopub.status.busy": "2024-03-28T09:42:00.792127Z",
     "iopub.status.idle": "2024-03-28T09:42:01.112210Z",
     "shell.execute_reply": "2024-03-28T09:42:01.111157Z"
    },
    "papermill": {
     "duration": 0.337684,
     "end_time": "2024-03-28T09:42:01.114378",
     "exception": false,
     "start_time": "2024-03-28T09:42:00.776694",
     "status": "completed"
    },
    "tags": []
   },
   "outputs": [
    {
     "name": "stdout",
     "output_type": "stream",
     "text": [
      "Done!\n"
     ]
    }
   ],
   "source": [
    "lr = LinearRegression()\n",
    "lr.fit(X_train, y_train)\n",
    "\n",
    "svr = SVR()\n",
    "svr.fit(X_train, y_train)\n",
    "\n",
    "gr = GradientBoostingRegressor()\n",
    "gr.fit(X_train, y_train)\n",
    "\n",
    "rf = RandomForestRegressor()\n",
    "rf.fit(X_train, y_train)\n",
    "\n",
    "print(\"Done!\")"
   ]
  },
  {
   "cell_type": "markdown",
   "id": "08692a21",
   "metadata": {
    "papermill": {
     "duration": 0.013682,
     "end_time": "2024-03-28T09:42:01.141812",
     "exception": false,
     "start_time": "2024-03-28T09:42:01.128130",
     "status": "completed"
    },
    "tags": []
   },
   "source": [
    "# Prediction on Test Data"
   ]
  },
  {
   "cell_type": "code",
   "execution_count": 20,
   "id": "91e6eb89",
   "metadata": {
    "execution": {
     "iopub.execute_input": "2024-03-28T09:42:01.171275Z",
     "iopub.status.busy": "2024-03-28T09:42:01.170520Z",
     "iopub.status.idle": "2024-03-28T09:42:01.183922Z",
     "shell.execute_reply": "2024-03-28T09:42:01.182671Z"
    },
    "papermill": {
     "duration": 0.03103,
     "end_time": "2024-03-28T09:42:01.186444",
     "exception": false,
     "start_time": "2024-03-28T09:42:01.155414",
     "status": "completed"
    },
    "tags": []
   },
   "outputs": [],
   "source": [
    "predict1 = lr.predict(X_test)\n",
    "predict2 = svr.predict(X_test)\n",
    "predict3 = gr.predict(X_test)\n",
    "predict4 = rf.predict(X_test)\n"
   ]
  },
  {
   "cell_type": "markdown",
   "id": "841a6f23",
   "metadata": {
    "papermill": {
     "duration": 0.013391,
     "end_time": "2024-03-28T09:42:01.213741",
     "exception": false,
     "start_time": "2024-03-28T09:42:01.200350",
     "status": "completed"
    },
    "tags": []
   },
   "source": [
    "# Evaluating the Algorithm Classification\n"
   ]
  },
  {
   "cell_type": "code",
   "execution_count": 21,
   "id": "e9b99188",
   "metadata": {
    "execution": {
     "iopub.execute_input": "2024-03-28T09:42:01.242505Z",
     "iopub.status.busy": "2024-03-28T09:42:01.242071Z",
     "iopub.status.idle": "2024-03-28T09:42:01.247022Z",
     "shell.execute_reply": "2024-03-28T09:42:01.245854Z"
    },
    "papermill": {
     "duration": 0.022153,
     "end_time": "2024-03-28T09:42:01.249474",
     "exception": false,
     "start_time": "2024-03-28T09:42:01.227321",
     "status": "completed"
    },
    "tags": []
   },
   "outputs": [],
   "source": [
    "from sklearn.metrics import r2_score"
   ]
  },
  {
   "cell_type": "code",
   "execution_count": 22,
   "id": "978c8c21",
   "metadata": {
    "execution": {
     "iopub.execute_input": "2024-03-28T09:42:01.278931Z",
     "iopub.status.busy": "2024-03-28T09:42:01.278182Z",
     "iopub.status.idle": "2024-03-28T09:42:01.285509Z",
     "shell.execute_reply": "2024-03-28T09:42:01.284267Z"
    },
    "papermill": {
     "duration": 0.024847,
     "end_time": "2024-03-28T09:42:01.288069",
     "exception": false,
     "start_time": "2024-03-28T09:42:01.263222",
     "status": "completed"
    },
    "tags": []
   },
   "outputs": [],
   "source": [
    "s1 = r2_score(y_test, y_pred=predict1)\n",
    "s2 = r2_score(y_test, y_pred=predict2)\n",
    "s3 = r2_score(y_test, y_pred=predict3)\n",
    "s4 = r2_score(y_test, y_pred=predict4)"
   ]
  },
  {
   "cell_type": "markdown",
   "id": "829f7e46",
   "metadata": {
    "papermill": {
     "duration": 0.013512,
     "end_time": "2024-03-28T09:42:01.315866",
     "exception": false,
     "start_time": "2024-03-28T09:42:01.302354",
     "status": "completed"
    },
    "tags": []
   },
   "source": [
    "# Final"
   ]
  },
  {
   "cell_type": "code",
   "execution_count": 23,
   "id": "11c3fcbd",
   "metadata": {
    "execution": {
     "iopub.execute_input": "2024-03-28T09:42:01.345215Z",
     "iopub.status.busy": "2024-03-28T09:42:01.344741Z",
     "iopub.status.idle": "2024-03-28T09:42:01.357953Z",
     "shell.execute_reply": "2024-03-28T09:42:01.356731Z"
    },
    "papermill": {
     "duration": 0.031039,
     "end_time": "2024-03-28T09:42:01.360424",
     "exception": false,
     "start_time": "2024-03-28T09:42:01.329385",
     "status": "completed"
    },
    "tags": []
   },
   "outputs": [
    {
     "data": {
      "text/html": [
       "<div>\n",
       "<style scoped>\n",
       "    .dataframe tbody tr th:only-of-type {\n",
       "        vertical-align: middle;\n",
       "    }\n",
       "\n",
       "    .dataframe tbody tr th {\n",
       "        vertical-align: top;\n",
       "    }\n",
       "\n",
       "    .dataframe thead th {\n",
       "        text-align: right;\n",
       "    }\n",
       "</style>\n",
       "<table border=\"1\" class=\"dataframe\">\n",
       "  <thead>\n",
       "    <tr style=\"text-align: right;\">\n",
       "      <th></th>\n",
       "      <th>Models</th>\n",
       "      <th>SCORE</th>\n",
       "    </tr>\n",
       "  </thead>\n",
       "  <tbody>\n",
       "    <tr>\n",
       "      <th>0</th>\n",
       "      <td>LR</td>\n",
       "      <td>0.821208</td>\n",
       "    </tr>\n",
       "    <tr>\n",
       "      <th>1</th>\n",
       "      <td>SVR</td>\n",
       "      <td>0.759781</td>\n",
       "    </tr>\n",
       "    <tr>\n",
       "      <th>2</th>\n",
       "      <td>RF</td>\n",
       "      <td>0.803006</td>\n",
       "    </tr>\n",
       "    <tr>\n",
       "      <th>3</th>\n",
       "      <td>GR</td>\n",
       "      <td>0.795155</td>\n",
       "    </tr>\n",
       "  </tbody>\n",
       "</table>\n",
       "</div>"
      ],
      "text/plain": [
       "  Models     SCORE\n",
       "0     LR  0.821208\n",
       "1    SVR  0.759781\n",
       "2     RF  0.803006\n",
       "3     GR  0.795155"
      ]
     },
     "execution_count": 23,
     "metadata": {},
     "output_type": "execute_result"
    }
   ],
   "source": [
    "final_data = pd.DataFrame(data={\n",
    "    \"Models\": [\"LR\", \"SVR\", \"RF\", \"GR\"],\n",
    "    \"SCORE\": [s1, s2, s4, s3]\n",
    "})\n",
    "final_data"
   ]
  },
  {
   "cell_type": "code",
   "execution_count": 24,
   "id": "9498919e",
   "metadata": {
    "execution": {
     "iopub.execute_input": "2024-03-28T09:42:01.391097Z",
     "iopub.status.busy": "2024-03-28T09:42:01.390691Z",
     "iopub.status.idle": "2024-03-28T09:42:01.721980Z",
     "shell.execute_reply": "2024-03-28T09:42:01.720791Z"
    },
    "papermill": {
     "duration": 0.351151,
     "end_time": "2024-03-28T09:42:01.726106",
     "exception": false,
     "start_time": "2024-03-28T09:42:01.374955",
     "status": "completed"
    },
    "tags": []
   },
   "outputs": [
    {
     "data": {
      "image/png": "[encoded data removed]",
      "text/plain": [
       "<Figure size 640x480 with 1 Axes>"
      ]
     },
     "metadata": {},
     "output_type": "display_data"
    }
   ],
   "source": [
    "sns.set(style=\"whitegrid\") \n",
    "\n",
    "ax = sns.barplot(data=final_data, x=\"Models\", y=\"SCORE\", palette=\"Set2\") \n",
    "\n",
    "ax.set_title('SCORE of Different Models')  \n",
    "ax.set_xlabel('Models')  \n",
    "ax.set_ylabel('SCORE')  \n",
    "\n",
    "for p in ax.patches:\n",
    "    ax.annotate('{:.2f}'.format(p.get_height()), (p.get_x() + p.get_width() / 2., p.get_height()),\n",
    "                ha='center', va='center', fontsize=10, color='black', xytext=(0, 5),\n",
    "                textcoords='offset points')\n",
    "\n",
    "plt.tight_layout() \n",
    "plt.show()"
   ]
  },
  {
   "cell_type": "markdown",
   "id": "929b20ec",
   "metadata": {
    "papermill": {
     "duration": 0.014876,
     "end_time": "2024-03-28T09:42:01.763023",
     "exception": false,
     "start_time": "2024-03-28T09:42:01.748147",
     "status": "completed"
    },
    "tags": []
   },
   "source": [
    "# Classification"
   ]
  },
  {
   "cell_type": "code",
   "execution_count": 25,
   "id": "559ea393",
   "metadata": {
    "execution": {
     "iopub.execute_input": "2024-03-28T09:42:01.794728Z",
     "iopub.status.busy": "2024-03-28T09:42:01.794154Z",
     "iopub.status.idle": "2024-03-28T09:42:01.800882Z",
     "shell.execute_reply": "2024-03-28T09:42:01.799707Z"
    },
    "papermill": {
     "duration": 0.027033,
     "end_time": "2024-03-28T09:42:01.804307",
     "exception": false,
     "start_time": "2024-03-28T09:42:01.777274",
     "status": "completed"
    },
    "tags": []
   },
   "outputs": [],
   "source": [
    "y_train = np.array([1 if value > 0.8 else 0 for value in y_train])"
   ]
  },
  {
   "cell_type": "code",
   "execution_count": 26,
   "id": "8b41d23c",
   "metadata": {
    "execution": {
     "iopub.execute_input": "2024-03-28T09:42:01.852137Z",
     "iopub.status.busy": "2024-03-28T09:42:01.851544Z",
     "iopub.status.idle": "2024-03-28T09:42:01.857423Z",
     "shell.execute_reply": "2024-03-28T09:42:01.856177Z"
    },
    "papermill": {
     "duration": 0.034254,
     "end_time": "2024-03-28T09:42:01.861974",
     "exception": false,
     "start_time": "2024-03-28T09:42:01.827720",
     "status": "completed"
    },
    "tags": []
   },
   "outputs": [],
   "source": [
    "y_test = np.array([1 if value > 0.8 else 0 for value in y_test])"
   ]
  },
  {
   "cell_type": "markdown",
   "id": "ce0079fb",
   "metadata": {
    "execution": {
     "iopub.execute_input": "2024-03-28T09:23:52.285047Z",
     "iopub.status.busy": "2024-03-28T09:23:52.283766Z",
     "iopub.status.idle": "2024-03-28T09:23:52.292741Z",
     "shell.execute_reply": "2024-03-28T09:23:52.291528Z",
     "shell.execute_reply.started": "2024-03-28T09:23:52.285009Z"
    },
    "papermill": {
     "duration": 0.014324,
     "end_time": "2024-03-28T09:42:01.895724",
     "exception": false,
     "start_time": "2024-03-28T09:42:01.881400",
     "status": "completed"
    },
    "tags": []
   },
   "source": [
    "# Import The models\n"
   ]
  },
  {
   "cell_type": "code",
   "execution_count": 27,
   "id": "faeae231",
   "metadata": {
    "execution": {
     "iopub.execute_input": "2024-03-28T09:42:01.927262Z",
     "iopub.status.busy": "2024-03-28T09:42:01.926549Z",
     "iopub.status.idle": "2024-03-28T09:42:01.932063Z",
     "shell.execute_reply": "2024-03-28T09:42:01.931194Z"
    },
    "papermill": {
     "duration": 0.023655,
     "end_time": "2024-03-28T09:42:01.934269",
     "exception": false,
     "start_time": "2024-03-28T09:42:01.910614",
     "status": "completed"
    },
    "tags": []
   },
   "outputs": [],
   "source": [
    "from sklearn.linear_model import LogisticRegression\n",
    "from sklearn.svm import SVC\n",
    "from sklearn.neighbors import KNeighborsClassifier\n",
    "from sklearn.ensemble import RandomForestClassifier, GradientBoostingClassifier\n",
    "from sklearn.metrics import accuracy_score"
   ]
  },
  {
   "cell_type": "markdown",
   "id": "ffa4fa94",
   "metadata": {
    "papermill": {
     "duration": 0.014145,
     "end_time": "2024-03-28T09:42:01.962658",
     "exception": false,
     "start_time": "2024-03-28T09:42:01.948513",
     "status": "completed"
    },
    "tags": []
   },
   "source": [
    "# Model Training & Evaluation\n"
   ]
  },
  {
   "cell_type": "code",
   "execution_count": 28,
   "id": "55497369",
   "metadata": {
    "execution": {
     "iopub.execute_input": "2024-03-28T09:42:01.994555Z",
     "iopub.status.busy": "2024-03-28T09:42:01.994130Z",
     "iopub.status.idle": "2024-03-28T09:42:02.008559Z",
     "shell.execute_reply": "2024-03-28T09:42:02.007138Z"
    },
    "papermill": {
     "duration": 0.033168,
     "end_time": "2024-03-28T09:42:02.011463",
     "exception": false,
     "start_time": "2024-03-28T09:42:01.978295",
     "status": "completed"
    },
    "tags": []
   },
   "outputs": [],
   "source": [
    "lr = LogisticRegression()\n",
    "lr.fit(X_train, y_train)\n",
    "y_predict1 = lr.predict(X_test)"
   ]
  },
  {
   "cell_type": "code",
   "execution_count": 29,
   "id": "92b38dc2",
   "metadata": {
    "execution": {
     "iopub.execute_input": "2024-03-28T09:42:02.042284Z",
     "iopub.status.busy": "2024-03-28T09:42:02.041865Z",
     "iopub.status.idle": "2024-03-28T09:42:02.052048Z",
     "shell.execute_reply": "2024-03-28T09:42:02.050925Z"
    },
    "papermill": {
     "duration": 0.028586,
     "end_time": "2024-03-28T09:42:02.054575",
     "exception": false,
     "start_time": "2024-03-28T09:42:02.025989",
     "status": "completed"
    },
    "tags": []
   },
   "outputs": [],
   "source": [
    "svc = SVC()\n",
    "svc.fit(X_train, y_train)\n",
    "y_predict2 = svc.predict(X_test)"
   ]
  },
  {
   "cell_type": "code",
   "execution_count": 30,
   "id": "c9e07ba2",
   "metadata": {
    "execution": {
     "iopub.execute_input": "2024-03-28T09:42:02.087419Z",
     "iopub.status.busy": "2024-03-28T09:42:02.087027Z",
     "iopub.status.idle": "2024-03-28T09:42:02.103583Z",
     "shell.execute_reply": "2024-03-28T09:42:02.102621Z"
    },
    "papermill": {
     "duration": 0.037331,
     "end_time": "2024-03-28T09:42:02.106734",
     "exception": false,
     "start_time": "2024-03-28T09:42:02.069403",
     "status": "completed"
    },
    "tags": []
   },
   "outputs": [],
   "source": [
    "knn = KNeighborsClassifier()\n",
    "knn.fit(X_train, y_train)\n",
    "y_predict3 = knn.predict(X_test)"
   ]
  },
  {
   "cell_type": "code",
   "execution_count": 31,
   "id": "b931936b",
   "metadata": {
    "execution": {
     "iopub.execute_input": "2024-03-28T09:42:02.145944Z",
     "iopub.status.busy": "2024-03-28T09:42:02.145334Z",
     "iopub.status.idle": "2024-03-28T09:42:02.331894Z",
     "shell.execute_reply": "2024-03-28T09:42:02.331027Z"
    },
    "papermill": {
     "duration": 0.210295,
     "end_time": "2024-03-28T09:42:02.334390",
     "exception": false,
     "start_time": "2024-03-28T09:42:02.124095",
     "status": "completed"
    },
    "tags": []
   },
   "outputs": [],
   "source": [
    "rf = RandomForestClassifier()\n",
    "rf.fit(X_train, y_train)\n",
    "y_predict4 = rf.predict(X_test)"
   ]
  },
  {
   "cell_type": "code",
   "execution_count": 32,
   "id": "fdab4f36",
   "metadata": {
    "execution": {
     "iopub.execute_input": "2024-03-28T09:42:02.366078Z",
     "iopub.status.busy": "2024-03-28T09:42:02.364746Z",
     "iopub.status.idle": "2024-03-28T09:42:02.472395Z",
     "shell.execute_reply": "2024-03-28T09:42:02.471033Z"
    },
    "papermill": {
     "duration": 0.126483,
     "end_time": "2024-03-28T09:42:02.475443",
     "exception": false,
     "start_time": "2024-03-28T09:42:02.348960",
     "status": "completed"
    },
    "tags": []
   },
   "outputs": [],
   "source": [
    "gb = GradientBoostingClassifier()\n",
    "gb.fit(X_train, y_train)\n",
    "y_predict5 = gb.predict(X_test)"
   ]
  },
  {
   "cell_type": "markdown",
   "id": "9971f447",
   "metadata": {
    "papermill": {
     "duration": 0.018557,
     "end_time": "2024-03-28T09:42:02.513604",
     "exception": false,
     "start_time": "2024-03-28T09:42:02.495047",
     "status": "completed"
    },
    "tags": []
   },
   "source": [
    "# Final"
   ]
  },
  {
   "cell_type": "code",
   "execution_count": 33,
   "id": "78e06b55",
   "metadata": {
    "execution": {
     "iopub.execute_input": "2024-03-28T09:42:02.546674Z",
     "iopub.status.busy": "2024-03-28T09:42:02.545718Z",
     "iopub.status.idle": "2024-03-28T09:42:02.564225Z",
     "shell.execute_reply": "2024-03-28T09:42:02.563074Z"
    },
    "papermill": {
     "duration": 0.037381,
     "end_time": "2024-03-28T09:42:02.566672",
     "exception": false,
     "start_time": "2024-03-28T09:42:02.529291",
     "status": "completed"
    },
    "tags": []
   },
   "outputs": [
    {
     "data": {
      "text/html": [
       "<div>\n",
       "<style scoped>\n",
       "    .dataframe tbody tr th:only-of-type {\n",
       "        vertical-align: middle;\n",
       "    }\n",
       "\n",
       "    .dataframe tbody tr th {\n",
       "        vertical-align: top;\n",
       "    }\n",
       "\n",
       "    .dataframe thead th {\n",
       "        text-align: right;\n",
       "    }\n",
       "</style>\n",
       "<table border=\"1\" class=\"dataframe\">\n",
       "  <thead>\n",
       "    <tr style=\"text-align: right;\">\n",
       "      <th></th>\n",
       "      <th>Models</th>\n",
       "      <th>ACC</th>\n",
       "    </tr>\n",
       "  </thead>\n",
       "  <tbody>\n",
       "    <tr>\n",
       "      <th>0</th>\n",
       "      <td>LR</td>\n",
       "      <td>0.9250</td>\n",
       "    </tr>\n",
       "    <tr>\n",
       "      <th>1</th>\n",
       "      <td>SVC</td>\n",
       "      <td>0.9250</td>\n",
       "    </tr>\n",
       "    <tr>\n",
       "      <th>2</th>\n",
       "      <td>KNN</td>\n",
       "      <td>0.8875</td>\n",
       "    </tr>\n",
       "    <tr>\n",
       "      <th>3</th>\n",
       "      <td>RF</td>\n",
       "      <td>0.9250</td>\n",
       "    </tr>\n",
       "    <tr>\n",
       "      <th>4</th>\n",
       "      <td>GB</td>\n",
       "      <td>0.9750</td>\n",
       "    </tr>\n",
       "  </tbody>\n",
       "</table>\n",
       "</div>"
      ],
      "text/plain": [
       "  Models     ACC\n",
       "0     LR  0.9250\n",
       "1    SVC  0.9250\n",
       "2    KNN  0.8875\n",
       "3     RF  0.9250\n",
       "4     GB  0.9750"
      ]
     },
     "execution_count": 33,
     "metadata": {},
     "output_type": "execute_result"
    }
   ],
   "source": [
    "final_data = pd.DataFrame(\n",
    "    data={\n",
    "        \"Models\": [\"LR\", \"SVC\", \"KNN\", \"RF\", \"GB\"],\n",
    "        \"ACC\": [\n",
    "            accuracy_score(y_true=y_test, y_pred=y_predict1),\n",
    "            accuracy_score(y_true=y_test, y_pred=y_predict2),\n",
    "            accuracy_score(y_true=y_test, y_pred=y_predict3),\n",
    "            accuracy_score(y_true=y_test, y_pred=y_predict4),\n",
    "            accuracy_score(y_true=y_test, y_pred=y_predict5)\n",
    "        ]\n",
    "    }\n",
    ")\n",
    "final_data"
   ]
  },
  {
   "cell_type": "code",
   "execution_count": 34,
   "id": "32fd8247",
   "metadata": {
    "execution": {
     "iopub.execute_input": "2024-03-28T09:42:02.598887Z",
     "iopub.status.busy": "2024-03-28T09:42:02.597574Z",
     "iopub.status.idle": "2024-03-28T09:42:02.904993Z",
     "shell.execute_reply": "2024-03-28T09:42:02.903861Z"
    },
    "papermill": {
     "duration": 0.326213,
     "end_time": "2024-03-28T09:42:02.907666",
     "exception": false,
     "start_time": "2024-03-28T09:42:02.581453",
     "status": "completed"
    },
    "tags": []
   },
   "outputs": [
    {
     "data": {
      "image/png": "[encoded data removed]",
      "text/plain": [
       "<Figure size 640x480 with 1 Axes>"
      ]
     },
     "metadata": {},
     "output_type": "display_data"
    }
   ],
   "source": [
    "sns.set(style=\"whitegrid\") \n",
    "\n",
    "ax = sns.barplot(data=final_data, x=\"Models\", y=\"ACC\", palette=\"Set2\") \n",
    "\n",
    "ax.set_title('Accuracy of Different Models')  \n",
    "ax.set_xlabel('Models')  \n",
    "ax.set_ylabel('Accuracy')  \n",
    "\n",
    "for p in ax.patches:\n",
    "    ax.annotate('{:.2f}'.format(p.get_height()), (p.get_x() + p.get_width() / 2., p.get_height()),\n",
    "                ha='center', va='center', fontsize=10, color='black', xytext=(0, 5),\n",
    "                textcoords='offset points')\n",
    "\n",
    "plt.tight_layout() \n",
    "plt.show()"
   ]
  },
  {
   "cell_type": "markdown",
   "id": "d8e52456",
   "metadata": {
    "papermill": {
     "duration": 0.014637,
     "end_time": "2024-03-28T09:42:02.937207",
     "exception": false,
     "start_time": "2024-03-28T09:42:02.922570",
     "status": "completed"
    },
    "tags": []
   },
   "source": [
    "# Save The Model\n"
   ]
  },
  {
   "cell_type": "code",
   "execution_count": 35,
   "id": "4e8b3276",
   "metadata": {
    "execution": {
     "iopub.execute_input": "2024-03-28T09:42:02.968965Z",
     "iopub.status.busy": "2024-03-28T09:42:02.968519Z",
     "iopub.status.idle": "2024-03-28T09:42:02.975218Z",
     "shell.execute_reply": "2024-03-28T09:42:02.973861Z"
    },
    "papermill": {
     "duration": 0.025635,
     "end_time": "2024-03-28T09:42:02.977620",
     "exception": false,
     "start_time": "2024-03-28T09:42:02.951985",
     "status": "completed"
    },
    "tags": []
   },
   "outputs": [],
   "source": [
    "X = data.drop(\"Chance of Admit \", axis=1)\n",
    "y = np.array([1 if value > 0.8 else 0 for value in data[\"Chance of Admit \"]])"
   ]
  },
  {
   "cell_type": "code",
   "execution_count": 36,
   "id": "214d21bd",
   "metadata": {
    "execution": {
     "iopub.execute_input": "2024-03-28T09:42:03.010577Z",
     "iopub.status.busy": "2024-03-28T09:42:03.009809Z",
     "iopub.status.idle": "2024-03-28T09:42:03.018881Z",
     "shell.execute_reply": "2024-03-28T09:42:03.017268Z"
    },
    "papermill": {
     "duration": 0.028632,
     "end_time": "2024-03-28T09:42:03.021601",
     "exception": false,
     "start_time": "2024-03-28T09:42:02.992969",
     "status": "completed"
    },
    "tags": []
   },
   "outputs": [],
   "source": [
    "X = st.fit_transform(X)"
   ]
  },
  {
   "cell_type": "code",
   "execution_count": 37,
   "id": "fe1e22ac",
   "metadata": {
    "execution": {
     "iopub.execute_input": "2024-03-28T09:42:03.053627Z",
     "iopub.status.busy": "2024-03-28T09:42:03.052966Z",
     "iopub.status.idle": "2024-03-28T09:42:03.171510Z",
     "shell.execute_reply": "2024-03-28T09:42:03.170528Z"
    },
    "papermill": {
     "duration": 0.137274,
     "end_time": "2024-03-28T09:42:03.173742",
     "exception": false,
     "start_time": "2024-03-28T09:42:03.036468",
     "status": "completed"
    },
    "tags": []
   },
   "outputs": [
    {
     "data": {
      "text/html": [
       "<style>#sk-container-id-1 {color: black;background-color: white;}#sk-container-id-1 pre{padding: 0;}#sk-container-id-1 div.sk-toggleable {background-color: white;}#sk-container-id-1 label.sk-toggleable__label {cursor: pointer;display: block;width: 100%;margin-bottom: 0;padding: 0.3em;box-sizing: border-box;text-align: center;}#sk-container-id-1 label.sk-toggleable__label-arrow:before {content: \"▸\";float: left;margin-right: 0.25em;color: #696969;}#sk-container-id-1 label.sk-toggleable__label-arrow:hover:before {color: black;}#sk-container-id-1 div.sk-estimator:hover label.sk-toggleable__label-arrow:before {color: black;}#sk-container-id-1 div.sk-toggleable__content {max-height: 0;max-width: 0;overflow: hidden;text-align: left;background-color: #f0f8ff;}#sk-container-id-1 div.sk-toggleable__content pre {margin: 0.2em;color: black;border-radius: 0.25em;background-color: #f0f8ff;}#sk-container-id-1 input.sk-toggleable__control:checked~div.sk-toggleable__content {max-height: 200px;max-width: 100%;overflow: auto;}#sk-container-id-1 input.sk-toggleable__control:checked~label.sk-toggleable__label-arrow:before {content: \"▾\";}#sk-container-id-1 div.sk-estimator input.sk-toggleable__control:checked~label.sk-toggleable__label {background-color: #d4ebff;}#sk-container-id-1 div.sk-label input.sk-toggleable__control:checked~label.sk-toggleable__label {background-color: #d4ebff;}#sk-container-id-1 input.sk-hidden--visually {border: 0;clip: rect(1px 1px 1px 1px);clip: rect(1px, 1px, 1px, 1px);height: 1px;margin: -1px;overflow: hidden;padding: 0;position: absolute;width: 1px;}#sk-container-id-1 div.sk-estimator {font-family: monospace;background-color: #f0f8ff;border: 1px dotted black;border-radius: 0.25em;box-sizing: border-box;margin-bottom: 0.5em;}#sk-container-id-1 div.sk-estimator:hover {background-color: #d4ebff;}#sk-container-id-1 div.sk-parallel-item::after {content: \"\";width: 100%;border-bottom: 1px solid gray;flex-grow: 1;}#sk-container-id-1 div.sk-label:hover label.sk-toggleable__label {background-color: #d4ebff;}#sk-container-id-1 div.sk-serial::before {content: \"\";position: absolute;border-left: 1px solid gray;box-sizing: border-box;top: 0;bottom: 0;left: 50%;z-index: 0;}#sk-container-id-1 div.sk-serial {display: flex;flex-direction: column;align-items: center;background-color: white;padding-right: 0.2em;padding-left: 0.2em;position: relative;}#sk-container-id-1 div.sk-item {position: relative;z-index: 1;}#sk-container-id-1 div.sk-parallel {display: flex;align-items: stretch;justify-content: center;background-color: white;position: relative;}#sk-container-id-1 div.sk-item::before, #sk-container-id-1 div.sk-parallel-item::before {content: \"\";position: absolute;border-left: 1px solid gray;box-sizing: border-box;top: 0;bottom: 0;left: 50%;z-index: -1;}#sk-container-id-1 div.sk-parallel-item {display: flex;flex-direction: column;z-index: 1;position: relative;background-color: white;}#sk-container-id-1 div.sk-parallel-item:first-child::after {align-self: flex-end;width: 50%;}#sk-container-id-1 div.sk-parallel-item:last-child::after {align-self: flex-start;width: 50%;}#sk-container-id-1 div.sk-parallel-item:only-child::after {width: 0;}#sk-container-id-1 div.sk-dashed-wrapped {border: 1px dashed gray;margin: 0 0.4em 0.5em 0.4em;box-sizing: border-box;padding-bottom: 0.4em;background-color: white;}#sk-container-id-1 div.sk-label label {font-family: monospace;font-weight: bold;display: inline-block;line-height: 1.2em;}#sk-container-id-1 div.sk-label-container {text-align: center;}#sk-container-id-1 div.sk-container {/* jupyter's `normalize.less` sets `[hidden] { display: none; }` but bootstrap.min.css set `[hidden] { display: none !important; }` so we also need the `!important` here to be able to override the default hidden behavior on the sphinx rendered scikit-learn.org. See: https://github.com/scikit-learn/scikit-learn/issues/21755 */display: inline-block !important;position: relative;}#sk-container-id-1 div.sk-text-repr-fallback {display: none;}</style><div id=\"sk-container-id-1\" class=\"sk-top-container\"><div class=\"sk-text-repr-fallback\"><pre>GradientBoostingClassifier()</pre><b>In a Jupyter environment, please rerun this cell to show the HTML representation or trust the notebook. <br />On GitHub, the HTML representation is unable to render, please try loading this page with nbviewer.org.</b></div><div class=\"sk-container\" hidden><div class=\"sk-item\"><div class=\"sk-estimator sk-toggleable\"><input class=\"sk-toggleable__control sk-hidden--visually\" id=\"sk-estimator-id-1\" type=\"checkbox\" checked><label for=\"sk-estimator-id-1\" class=\"sk-toggleable__label sk-toggleable__label-arrow\">GradientBoostingClassifier</label><div class=\"sk-toggleable__content\"><pre>GradientBoostingClassifier()</pre></div></div></div></div></div>"
      ],
      "text/plain": [
       "GradientBoostingClassifier()"
      ]
     },
     "execution_count": 37,
     "metadata": {},
     "output_type": "execute_result"
    }
   ],
   "source": [
    "gr = GradientBoostingClassifier()\n",
    "gr.fit(X, y)"
   ]
  },
  {
   "cell_type": "code",
   "execution_count": 38,
   "id": "a457c42f",
   "metadata": {
    "execution": {
     "iopub.execute_input": "2024-03-28T09:42:03.208090Z",
     "iopub.status.busy": "2024-03-28T09:42:03.207064Z",
     "iopub.status.idle": "2024-03-28T09:42:03.213650Z",
     "shell.execute_reply": "2024-03-28T09:42:03.212716Z"
    },
    "papermill": {
     "duration": 0.026857,
     "end_time": "2024-03-28T09:42:03.216369",
     "exception": false,
     "start_time": "2024-03-28T09:42:03.189512",
     "status": "completed"
    },
    "tags": []
   },
   "outputs": [],
   "source": [
    "b = gr.predict(X)"
   ]
  },
  {
   "cell_type": "code",
   "execution_count": 39,
   "id": "e65ea4c8",
   "metadata": {
    "execution": {
     "iopub.execute_input": "2024-03-28T09:42:03.252195Z",
     "iopub.status.busy": "2024-03-28T09:42:03.251215Z",
     "iopub.status.idle": "2024-03-28T09:42:03.260428Z",
     "shell.execute_reply": "2024-03-28T09:42:03.259199Z"
    },
    "papermill": {
     "duration": 0.028993,
     "end_time": "2024-03-28T09:42:03.262883",
     "exception": false,
     "start_time": "2024-03-28T09:42:03.233890",
     "status": "completed"
    },
    "tags": []
   },
   "outputs": [
    {
     "data": {
      "text/plain": [
       "0.995"
      ]
     },
     "execution_count": 39,
     "metadata": {},
     "output_type": "execute_result"
    }
   ],
   "source": [
    "accuracy_score(y, b)"
   ]
  },
  {
   "cell_type": "code",
   "execution_count": 40,
   "id": "257b5bf3",
   "metadata": {
    "execution": {
     "iopub.execute_input": "2024-03-28T09:42:03.295598Z",
     "iopub.status.busy": "2024-03-28T09:42:03.295205Z",
     "iopub.status.idle": "2024-03-28T09:42:03.300600Z",
     "shell.execute_reply": "2024-03-28T09:42:03.299230Z"
    },
    "papermill": {
     "duration": 0.02447,
     "end_time": "2024-03-28T09:42:03.302840",
     "exception": false,
     "start_time": "2024-03-28T09:42:03.278370",
     "status": "completed"
    },
    "tags": []
   },
   "outputs": [],
   "source": [
    "import joblib"
   ]
  },
  {
   "cell_type": "code",
   "execution_count": 41,
   "id": "b85aafd3",
   "metadata": {
    "execution": {
     "iopub.execute_input": "2024-03-28T09:42:03.336246Z",
     "iopub.status.busy": "2024-03-28T09:42:03.335545Z",
     "iopub.status.idle": "2024-03-28T09:42:03.349051Z",
     "shell.execute_reply": "2024-03-28T09:42:03.348137Z"
    },
    "papermill": {
     "duration": 0.033025,
     "end_time": "2024-03-28T09:42:03.351428",
     "exception": false,
     "start_time": "2024-03-28T09:42:03.318403",
     "status": "completed"
    },
    "tags": []
   },
   "outputs": [
    {
     "data": {
      "text/plain": [
       "['model_admission']"
      ]
     },
     "execution_count": 41,
     "metadata": {},
     "output_type": "execute_result"
    }
   ],
   "source": [
    "joblib.dump(gr, \"model_admission\")"
   ]
  },
  {
   "cell_type": "markdown",
   "id": "2f40ea5d",
   "metadata": {
    "papermill": {
     "duration": 0.015166,
     "end_time": "2024-03-28T09:42:03.382182",
     "exception": false,
     "start_time": "2024-03-28T09:42:03.367016",
     "status": "completed"
    },
    "tags": []
   },
   "source": [
    "# for gui with flet ==> https://github.com/OmarBelfeki"
   ]
  },
  {
   "cell_type": "code",
   "execution_count": null,
   "id": "50b0917c",
   "metadata": {
    "papermill": {
     "duration": 0.015174,
     "end_time": "2024-03-28T09:42:03.412733",
     "exception": false,
     "start_time": "2024-03-28T09:42:03.397559",
     "status": "completed"
    },
    "tags": []
   },
   "outputs": [],
   "source": []
  }
 ],
 "metadata": {
  "kaggle": {
   "accelerator": "none",
   "dataSources": [
    {
     "datasetId": 4685109,
     "sourceId": 7963727,
     "sourceType": "datasetVersion"
    }
   ],
   "dockerImageVersionId": 30673,
   "isGpuEnabled": false,
   "isInternetEnabled": true,
   "language": "python",
   "sourceType": "notebook"
  },
  "kernelspec": {
   "display_name": "Python 3",
   "language": "python",
   "name": "python3"
  },
  "language_info": {
   "codemirror_mode": {
    "name": "ipython",
    "version": 3
   },
   "file_extension": ".py",
   "mimetype": "text/x-python",
   "name": "python",
   "nbconvert_exporter": "python",
   "pygments_lexer": "ipython3",
   "version": "3.10.13"
  },
  "papermill": {
   "default_parameters": {},
   "duration": 11.699258,
   "end_time": "2024-03-28T09:42:04.248755",
   "environment_variables": {},
   "exception": null,
   "input_path": "__notebook__.ipynb",
   "output_path": "__notebook__.ipynb",
   "parameters": {},
   "start_time": "2024-03-28T09:41:52.549497",
   "version": "2.5.0"
  }
 },
 "nbformat": 4,
 "nbformat_minor": 5
}
