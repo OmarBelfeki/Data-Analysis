{
 "cells": [
  {
   "cell_type": "code",
   "execution_count": 1,
   "id": "c4d3271b",
   "metadata": {
    "_cell_guid": "b1076dfc-b9ad-4769-8c92-a6c4dae69d19",
    "_uuid": "8f2839f25d086af736a60e9eeb907d3b93b6e0e5",
    "execution": {
     "iopub.execute_input": "2024-03-08T13:32:16.114045Z",
     "iopub.status.busy": "2024-03-08T13:32:16.113236Z",
     "iopub.status.idle": "2024-03-08T13:32:18.700818Z",
     "shell.execute_reply": "2024-03-08T13:32:18.699600Z"
    },
    "papermill": {
     "duration": 2.603318,
     "end_time": "2024-03-08T13:32:18.703605",
     "exception": false,
     "start_time": "2024-03-08T13:32:16.100287",
     "status": "completed"
    },
    "tags": []
   },
   "outputs": [
    {
     "name": "stdout",
     "output_type": "stream",
     "text": [
      "/kaggle/input/google-play-store-apps/googleplaystore.csv\n",
      "/kaggle/input/google-play-store-apps/license.txt\n",
      "/kaggle/input/google-play-store-apps/googleplaystore_user_reviews.csv\n"
     ]
    }
   ],
   "source": [
    "# This Python 3 environment comes with many helpful analytics libraries installed\n",
    "# It is defined by the kaggle/python Docker image: https://github.com/kaggle/docker-python\n",
    "# For example, here's several helpful packages to load\n",
    "\n",
    "import numpy as np # linear algebra\n",
    "import pandas as pd # data processing, CSV file I/O (e.g. pd.read_csv)\n",
    "import seaborn as sns\n",
    "import matplotlib.pyplot as plt\n",
    "\n",
    "import warnings\n",
    "\n",
    "warnings.filterwarnings(action=\"ignore\")\n",
    "# Input data files are available in the read-only \"../input/\" directory\n",
    "# For example, running this (by clicking run or pressing Shift+Enter) will list all files under the input directory\n",
    "\n",
    "import os\n",
    "for dirname, _, filenames in os.walk('/kaggle/input'):\n",
    "    for filename in filenames:\n",
    "        print(os.path.join(dirname, filename))\n",
    "\n",
    "# You can write up to 20GB to the current directory (/kaggle/working/) that gets preserved as output when you create a version using \"Save & Run All\" \n",
    "# You can also write temporary files to /kaggle/temp/, but they won't be saved outside of the current session"
   ]
  },
  {
   "cell_type": "code",
   "execution_count": 2,
   "id": "49e99ea0",
   "metadata": {
    "execution": {
     "iopub.execute_input": "2024-03-08T13:32:18.728041Z",
     "iopub.status.busy": "2024-03-08T13:32:18.726771Z",
     "iopub.status.idle": "2024-03-08T13:32:18.819758Z",
     "shell.execute_reply": "2024-03-08T13:32:18.818238Z"
    },
    "papermill": {
     "duration": 0.108756,
     "end_time": "2024-03-08T13:32:18.822760",
     "exception": false,
     "start_time": "2024-03-08T13:32:18.714004",
     "status": "completed"
    },
    "tags": []
   },
   "outputs": [],
   "source": [
    "data = pd.read_csv(\"/kaggle/input/google-play-store-apps/googleplaystore.csv\")"
   ]
  },
  {
   "cell_type": "markdown",
   "id": "6ea5ae12",
   "metadata": {
    "papermill": {
     "duration": 0.010136,
     "end_time": "2024-03-08T13:32:18.843429",
     "exception": false,
     "start_time": "2024-03-08T13:32:18.833293",
     "status": "completed"
    },
    "tags": []
   },
   "source": [
    "<h1>Display Top 5 Rows of The Dataset\n"
   ]
  },
  {
   "cell_type": "code",
   "execution_count": 3,
   "id": "5ffbd2f3",
   "metadata": {
    "execution": {
     "iopub.execute_input": "2024-03-08T13:32:18.869998Z",
     "iopub.status.busy": "2024-03-08T13:32:18.869281Z",
     "iopub.status.idle": "2024-03-08T13:32:18.898689Z",
     "shell.execute_reply": "2024-03-08T13:32:18.897413Z"
    },
    "papermill": {
     "duration": 0.046629,
     "end_time": "2024-03-08T13:32:18.901437",
     "exception": false,
     "start_time": "2024-03-08T13:32:18.854808",
     "status": "completed"
    },
    "tags": []
   },
   "outputs": [
    {
     "data": {
      "text/html": [
       "<div>\n",
       "<style scoped>\n",
       "    .dataframe tbody tr th:only-of-type {\n",
       "        vertical-align: middle;\n",
       "    }\n",
       "\n",
       "    .dataframe tbody tr th {\n",
       "        vertical-align: top;\n",
       "    }\n",
       "\n",
       "    .dataframe thead th {\n",
       "        text-align: right;\n",
       "    }\n",
       "</style>\n",
       "<table border=\"1\" class=\"dataframe\">\n",
       "  <thead>\n",
       "    <tr style=\"text-align: right;\">\n",
       "      <th></th>\n",
       "      <th>App</th>\n",
       "      <th>Category</th>\n",
       "      <th>Rating</th>\n",
       "      <th>Reviews</th>\n",
       "      <th>Size</th>\n",
       "      <th>Installs</th>\n",
       "      <th>Type</th>\n",
       "      <th>Price</th>\n",
       "      <th>Content Rating</th>\n",
       "      <th>Genres</th>\n",
       "      <th>Last Updated</th>\n",
       "      <th>Current Ver</th>\n",
       "      <th>Android Ver</th>\n",
       "    </tr>\n",
       "  </thead>\n",
       "  <tbody>\n",
       "    <tr>\n",
       "      <th>0</th>\n",
       "      <td>Photo Editor &amp; Candy Camera &amp; Grid &amp; ScrapBook</td>\n",
       "      <td>ART_AND_DESIGN</td>\n",
       "      <td>4.1</td>\n",
       "      <td>159</td>\n",
       "      <td>19M</td>\n",
       "      <td>10,000+</td>\n",
       "      <td>Free</td>\n",
       "      <td>0</td>\n",
       "      <td>Everyone</td>\n",
       "      <td>Art &amp; Design</td>\n",
       "      <td>January 7, 2018</td>\n",
       "      <td>1.0.0</td>\n",
       "      <td>4.0.3 and up</td>\n",
       "    </tr>\n",
       "    <tr>\n",
       "      <th>1</th>\n",
       "      <td>Coloring book moana</td>\n",
       "      <td>ART_AND_DESIGN</td>\n",
       "      <td>3.9</td>\n",
       "      <td>967</td>\n",
       "      <td>14M</td>\n",
       "      <td>500,000+</td>\n",
       "      <td>Free</td>\n",
       "      <td>0</td>\n",
       "      <td>Everyone</td>\n",
       "      <td>Art &amp; Design;Pretend Play</td>\n",
       "      <td>January 15, 2018</td>\n",
       "      <td>2.0.0</td>\n",
       "      <td>4.0.3 and up</td>\n",
       "    </tr>\n",
       "    <tr>\n",
       "      <th>2</th>\n",
       "      <td>U Launcher Lite – FREE Live Cool Themes, Hide ...</td>\n",
       "      <td>ART_AND_DESIGN</td>\n",
       "      <td>4.7</td>\n",
       "      <td>87510</td>\n",
       "      <td>8.7M</td>\n",
       "      <td>5,000,000+</td>\n",
       "      <td>Free</td>\n",
       "      <td>0</td>\n",
       "      <td>Everyone</td>\n",
       "      <td>Art &amp; Design</td>\n",
       "      <td>August 1, 2018</td>\n",
       "      <td>1.2.4</td>\n",
       "      <td>4.0.3 and up</td>\n",
       "    </tr>\n",
       "    <tr>\n",
       "      <th>3</th>\n",
       "      <td>Sketch - Draw &amp; Paint</td>\n",
       "      <td>ART_AND_DESIGN</td>\n",
       "      <td>4.5</td>\n",
       "      <td>215644</td>\n",
       "      <td>25M</td>\n",
       "      <td>50,000,000+</td>\n",
       "      <td>Free</td>\n",
       "      <td>0</td>\n",
       "      <td>Teen</td>\n",
       "      <td>Art &amp; Design</td>\n",
       "      <td>June 8, 2018</td>\n",
       "      <td>Varies with device</td>\n",
       "      <td>4.2 and up</td>\n",
       "    </tr>\n",
       "    <tr>\n",
       "      <th>4</th>\n",
       "      <td>Pixel Draw - Number Art Coloring Book</td>\n",
       "      <td>ART_AND_DESIGN</td>\n",
       "      <td>4.3</td>\n",
       "      <td>967</td>\n",
       "      <td>2.8M</td>\n",
       "      <td>100,000+</td>\n",
       "      <td>Free</td>\n",
       "      <td>0</td>\n",
       "      <td>Everyone</td>\n",
       "      <td>Art &amp; Design;Creativity</td>\n",
       "      <td>June 20, 2018</td>\n",
       "      <td>1.1</td>\n",
       "      <td>4.4 and up</td>\n",
       "    </tr>\n",
       "  </tbody>\n",
       "</table>\n",
       "</div>"
      ],
      "text/plain": [
       "                                                 App        Category  Rating  \\\n",
       "0     Photo Editor & Candy Camera & Grid & ScrapBook  ART_AND_DESIGN     4.1   \n",
       "1                                Coloring book moana  ART_AND_DESIGN     3.9   \n",
       "2  U Launcher Lite – FREE Live Cool Themes, Hide ...  ART_AND_DESIGN     4.7   \n",
       "3                              Sketch - Draw & Paint  ART_AND_DESIGN     4.5   \n",
       "4              Pixel Draw - Number Art Coloring Book  ART_AND_DESIGN     4.3   \n",
       "\n",
       "  Reviews  Size     Installs  Type Price Content Rating  \\\n",
       "0     159   19M      10,000+  Free     0       Everyone   \n",
       "1     967   14M     500,000+  Free     0       Everyone   \n",
       "2   87510  8.7M   5,000,000+  Free     0       Everyone   \n",
       "3  215644   25M  50,000,000+  Free     0           Teen   \n",
       "4     967  2.8M     100,000+  Free     0       Everyone   \n",
       "\n",
       "                      Genres      Last Updated         Current Ver  \\\n",
       "0               Art & Design   January 7, 2018               1.0.0   \n",
       "1  Art & Design;Pretend Play  January 15, 2018               2.0.0   \n",
       "2               Art & Design    August 1, 2018               1.2.4   \n",
       "3               Art & Design      June 8, 2018  Varies with device   \n",
       "4    Art & Design;Creativity     June 20, 2018                 1.1   \n",
       "\n",
       "    Android Ver  \n",
       "0  4.0.3 and up  \n",
       "1  4.0.3 and up  \n",
       "2  4.0.3 and up  \n",
       "3    4.2 and up  \n",
       "4    4.4 and up  "
      ]
     },
     "execution_count": 3,
     "metadata": {},
     "output_type": "execute_result"
    }
   ],
   "source": [
    "data.head()"
   ]
  },
  {
   "cell_type": "markdown",
   "id": "25d8aead",
   "metadata": {
    "papermill": {
     "duration": 0.010862,
     "end_time": "2024-03-08T13:32:18.923587",
     "exception": false,
     "start_time": "2024-03-08T13:32:18.912725",
     "status": "completed"
    },
    "tags": []
   },
   "source": [
    "<h1>Check the Last 3 Rows of The Dataset\n"
   ]
  },
  {
   "cell_type": "code",
   "execution_count": 4,
   "id": "c82177f9",
   "metadata": {
    "execution": {
     "iopub.execute_input": "2024-03-08T13:32:18.946440Z",
     "iopub.status.busy": "2024-03-08T13:32:18.945925Z",
     "iopub.status.idle": "2024-03-08T13:32:18.962947Z",
     "shell.execute_reply": "2024-03-08T13:32:18.961691Z"
    },
    "papermill": {
     "duration": 0.031401,
     "end_time": "2024-03-08T13:32:18.965457",
     "exception": false,
     "start_time": "2024-03-08T13:32:18.934056",
     "status": "completed"
    },
    "tags": []
   },
   "outputs": [
    {
     "data": {
      "text/html": [
       "<div>\n",
       "<style scoped>\n",
       "    .dataframe tbody tr th:only-of-type {\n",
       "        vertical-align: middle;\n",
       "    }\n",
       "\n",
       "    .dataframe tbody tr th {\n",
       "        vertical-align: top;\n",
       "    }\n",
       "\n",
       "    .dataframe thead th {\n",
       "        text-align: right;\n",
       "    }\n",
       "</style>\n",
       "<table border=\"1\" class=\"dataframe\">\n",
       "  <thead>\n",
       "    <tr style=\"text-align: right;\">\n",
       "      <th></th>\n",
       "      <th>App</th>\n",
       "      <th>Category</th>\n",
       "      <th>Rating</th>\n",
       "      <th>Reviews</th>\n",
       "      <th>Size</th>\n",
       "      <th>Installs</th>\n",
       "      <th>Type</th>\n",
       "      <th>Price</th>\n",
       "      <th>Content Rating</th>\n",
       "      <th>Genres</th>\n",
       "      <th>Last Updated</th>\n",
       "      <th>Current Ver</th>\n",
       "      <th>Android Ver</th>\n",
       "    </tr>\n",
       "  </thead>\n",
       "  <tbody>\n",
       "    <tr>\n",
       "      <th>10838</th>\n",
       "      <td>Parkinson Exercices FR</td>\n",
       "      <td>MEDICAL</td>\n",
       "      <td>NaN</td>\n",
       "      <td>3</td>\n",
       "      <td>9.5M</td>\n",
       "      <td>1,000+</td>\n",
       "      <td>Free</td>\n",
       "      <td>0</td>\n",
       "      <td>Everyone</td>\n",
       "      <td>Medical</td>\n",
       "      <td>January 20, 2017</td>\n",
       "      <td>1.0</td>\n",
       "      <td>2.2 and up</td>\n",
       "    </tr>\n",
       "    <tr>\n",
       "      <th>10839</th>\n",
       "      <td>The SCP Foundation DB fr nn5n</td>\n",
       "      <td>BOOKS_AND_REFERENCE</td>\n",
       "      <td>4.5</td>\n",
       "      <td>114</td>\n",
       "      <td>Varies with device</td>\n",
       "      <td>1,000+</td>\n",
       "      <td>Free</td>\n",
       "      <td>0</td>\n",
       "      <td>Mature 17+</td>\n",
       "      <td>Books &amp; Reference</td>\n",
       "      <td>January 19, 2015</td>\n",
       "      <td>Varies with device</td>\n",
       "      <td>Varies with device</td>\n",
       "    </tr>\n",
       "    <tr>\n",
       "      <th>10840</th>\n",
       "      <td>iHoroscope - 2018 Daily Horoscope &amp; Astrology</td>\n",
       "      <td>LIFESTYLE</td>\n",
       "      <td>4.5</td>\n",
       "      <td>398307</td>\n",
       "      <td>19M</td>\n",
       "      <td>10,000,000+</td>\n",
       "      <td>Free</td>\n",
       "      <td>0</td>\n",
       "      <td>Everyone</td>\n",
       "      <td>Lifestyle</td>\n",
       "      <td>July 25, 2018</td>\n",
       "      <td>Varies with device</td>\n",
       "      <td>Varies with device</td>\n",
       "    </tr>\n",
       "  </tbody>\n",
       "</table>\n",
       "</div>"
      ],
      "text/plain": [
       "                                                 App             Category  \\\n",
       "10838                         Parkinson Exercices FR              MEDICAL   \n",
       "10839                  The SCP Foundation DB fr nn5n  BOOKS_AND_REFERENCE   \n",
       "10840  iHoroscope - 2018 Daily Horoscope & Astrology            LIFESTYLE   \n",
       "\n",
       "       Rating Reviews                Size     Installs  Type Price  \\\n",
       "10838     NaN       3                9.5M       1,000+  Free     0   \n",
       "10839     4.5     114  Varies with device       1,000+  Free     0   \n",
       "10840     4.5  398307                 19M  10,000,000+  Free     0   \n",
       "\n",
       "      Content Rating             Genres      Last Updated         Current Ver  \\\n",
       "10838       Everyone            Medical  January 20, 2017                 1.0   \n",
       "10839     Mature 17+  Books & Reference  January 19, 2015  Varies with device   \n",
       "10840       Everyone          Lifestyle     July 25, 2018  Varies with device   \n",
       "\n",
       "              Android Ver  \n",
       "10838          2.2 and up  \n",
       "10839  Varies with device  \n",
       "10840  Varies with device  "
      ]
     },
     "execution_count": 4,
     "metadata": {},
     "output_type": "execute_result"
    }
   ],
   "source": [
    "data.tail(3)"
   ]
  },
  {
   "cell_type": "markdown",
   "id": "7ecd8b62",
   "metadata": {
    "papermill": {
     "duration": 0.011037,
     "end_time": "2024-03-08T13:32:18.987471",
     "exception": false,
     "start_time": "2024-03-08T13:32:18.976434",
     "status": "completed"
    },
    "tags": []
   },
   "source": [
    "<h1>Find Shape of Our Dataset (Number of Rows & Number of Columns)\n"
   ]
  },
  {
   "cell_type": "code",
   "execution_count": 5,
   "id": "d7b5f2a8",
   "metadata": {
    "execution": {
     "iopub.execute_input": "2024-03-08T13:32:19.015230Z",
     "iopub.status.busy": "2024-03-08T13:32:19.014699Z",
     "iopub.status.idle": "2024-03-08T13:32:19.020679Z",
     "shell.execute_reply": "2024-03-08T13:32:19.019460Z"
    },
    "papermill": {
     "duration": 0.0245,
     "end_time": "2024-03-08T13:32:19.023714",
     "exception": false,
     "start_time": "2024-03-08T13:32:18.999214",
     "status": "completed"
    },
    "tags": []
   },
   "outputs": [
    {
     "name": "stdout",
     "output_type": "stream",
     "text": [
      "Nomber of Rows 10841\n",
      "Nomber Of Columns 13\n"
     ]
    }
   ],
   "source": [
    "print(f\"Nomber of Rows {data.shape[0]}\\nNomber Of Columns {data.shape[1]}\")"
   ]
  },
  {
   "cell_type": "markdown",
   "id": "e57dc155",
   "metadata": {
    "papermill": {
     "duration": 0.011091,
     "end_time": "2024-03-08T13:32:19.045920",
     "exception": false,
     "start_time": "2024-03-08T13:32:19.034829",
     "status": "completed"
    },
    "tags": []
   },
   "source": [
    "<h1>Get Information About Our Dataset Like Total Number Rows, Total Number of Columns, Datatypes of Each Column And Memory Requirement\n"
   ]
  },
  {
   "cell_type": "code",
   "execution_count": 6,
   "id": "0977638d",
   "metadata": {
    "execution": {
     "iopub.execute_input": "2024-03-08T13:32:19.070660Z",
     "iopub.status.busy": "2024-03-08T13:32:19.070167Z",
     "iopub.status.idle": "2024-03-08T13:32:19.109166Z",
     "shell.execute_reply": "2024-03-08T13:32:19.107877Z"
    },
    "papermill": {
     "duration": 0.054918,
     "end_time": "2024-03-08T13:32:19.112066",
     "exception": false,
     "start_time": "2024-03-08T13:32:19.057148",
     "status": "completed"
    },
    "tags": []
   },
   "outputs": [
    {
     "name": "stdout",
     "output_type": "stream",
     "text": [
      "<class 'pandas.core.frame.DataFrame'>\n",
      "RangeIndex: 10841 entries, 0 to 10840\n",
      "Data columns (total 13 columns):\n",
      " #   Column          Non-Null Count  Dtype  \n",
      "---  ------          --------------  -----  \n",
      " 0   App             10841 non-null  object \n",
      " 1   Category        10841 non-null  object \n",
      " 2   Rating          9367 non-null   float64\n",
      " 3   Reviews         10841 non-null  object \n",
      " 4   Size            10841 non-null  object \n",
      " 5   Installs        10841 non-null  object \n",
      " 6   Type            10840 non-null  object \n",
      " 7   Price           10841 non-null  object \n",
      " 8   Content Rating  10840 non-null  object \n",
      " 9   Genres          10841 non-null  object \n",
      " 10  Last Updated    10841 non-null  object \n",
      " 11  Current Ver     10833 non-null  object \n",
      " 12  Android Ver     10838 non-null  object \n",
      "dtypes: float64(1), object(12)\n",
      "memory usage: 1.1+ MB\n"
     ]
    }
   ],
   "source": [
    "data.info()"
   ]
  },
  {
   "cell_type": "markdown",
   "id": "a4e58a8f",
   "metadata": {
    "papermill": {
     "duration": 0.011659,
     "end_time": "2024-03-08T13:32:19.135597",
     "exception": false,
     "start_time": "2024-03-08T13:32:19.123938",
     "status": "completed"
    },
    "tags": []
   },
   "source": [
    "<h1>Get Overall Statistics About The Dataframe\n",
    "\n"
   ]
  },
  {
   "cell_type": "code",
   "execution_count": 7,
   "id": "f4d78644",
   "metadata": {
    "execution": {
     "iopub.execute_input": "2024-03-08T13:32:19.161220Z",
     "iopub.status.busy": "2024-03-08T13:32:19.160336Z",
     "iopub.status.idle": "2024-03-08T13:32:19.179457Z",
     "shell.execute_reply": "2024-03-08T13:32:19.178151Z"
    },
    "papermill": {
     "duration": 0.034954,
     "end_time": "2024-03-08T13:32:19.182169",
     "exception": false,
     "start_time": "2024-03-08T13:32:19.147215",
     "status": "completed"
    },
    "tags": []
   },
   "outputs": [
    {
     "data": {
      "text/html": [
       "<div>\n",
       "<style scoped>\n",
       "    .dataframe tbody tr th:only-of-type {\n",
       "        vertical-align: middle;\n",
       "    }\n",
       "\n",
       "    .dataframe tbody tr th {\n",
       "        vertical-align: top;\n",
       "    }\n",
       "\n",
       "    .dataframe thead th {\n",
       "        text-align: right;\n",
       "    }\n",
       "</style>\n",
       "<table border=\"1\" class=\"dataframe\">\n",
       "  <thead>\n",
       "    <tr style=\"text-align: right;\">\n",
       "      <th></th>\n",
       "      <th>Rating</th>\n",
       "    </tr>\n",
       "  </thead>\n",
       "  <tbody>\n",
       "    <tr>\n",
       "      <th>count</th>\n",
       "      <td>9367.000000</td>\n",
       "    </tr>\n",
       "    <tr>\n",
       "      <th>mean</th>\n",
       "      <td>4.193338</td>\n",
       "    </tr>\n",
       "    <tr>\n",
       "      <th>std</th>\n",
       "      <td>0.537431</td>\n",
       "    </tr>\n",
       "    <tr>\n",
       "      <th>min</th>\n",
       "      <td>1.000000</td>\n",
       "    </tr>\n",
       "    <tr>\n",
       "      <th>25%</th>\n",
       "      <td>4.000000</td>\n",
       "    </tr>\n",
       "    <tr>\n",
       "      <th>50%</th>\n",
       "      <td>4.300000</td>\n",
       "    </tr>\n",
       "    <tr>\n",
       "      <th>75%</th>\n",
       "      <td>4.500000</td>\n",
       "    </tr>\n",
       "    <tr>\n",
       "      <th>max</th>\n",
       "      <td>19.000000</td>\n",
       "    </tr>\n",
       "  </tbody>\n",
       "</table>\n",
       "</div>"
      ],
      "text/plain": [
       "            Rating\n",
       "count  9367.000000\n",
       "mean      4.193338\n",
       "std       0.537431\n",
       "min       1.000000\n",
       "25%       4.000000\n",
       "50%       4.300000\n",
       "75%       4.500000\n",
       "max      19.000000"
      ]
     },
     "execution_count": 7,
     "metadata": {},
     "output_type": "execute_result"
    }
   ],
   "source": [
    "data.describe()"
   ]
  },
  {
   "cell_type": "markdown",
   "id": "5fa18891",
   "metadata": {
    "papermill": {
     "duration": 0.010828,
     "end_time": "2024-03-08T13:32:19.204712",
     "exception": false,
     "start_time": "2024-03-08T13:32:19.193884",
     "status": "completed"
    },
    "tags": []
   },
   "source": [
    "<h1>Total Number of App Titles Contain Astrology\n"
   ]
  },
  {
   "cell_type": "code",
   "execution_count": 8,
   "id": "233a50a9",
   "metadata": {
    "execution": {
     "iopub.execute_input": "2024-03-08T13:32:19.230212Z",
     "iopub.status.busy": "2024-03-08T13:32:19.229799Z",
     "iopub.status.idle": "2024-03-08T13:32:19.236617Z",
     "shell.execute_reply": "2024-03-08T13:32:19.235648Z"
    },
    "papermill": {
     "duration": 0.022269,
     "end_time": "2024-03-08T13:32:19.238779",
     "exception": false,
     "start_time": "2024-03-08T13:32:19.216510",
     "status": "completed"
    },
    "tags": []
   },
   "outputs": [
    {
     "data": {
      "text/plain": [
       "Index(['App', 'Category', 'Rating', 'Reviews', 'Size', 'Installs', 'Type',\n",
       "       'Price', 'Content Rating', 'Genres', 'Last Updated', 'Current Ver',\n",
       "       'Android Ver'],\n",
       "      dtype='object')"
      ]
     },
     "execution_count": 8,
     "metadata": {},
     "output_type": "execute_result"
    }
   ],
   "source": [
    "data.columns"
   ]
  },
  {
   "cell_type": "code",
   "execution_count": 9,
   "id": "037487ae",
   "metadata": {
    "execution": {
     "iopub.execute_input": "2024-03-08T13:32:19.265280Z",
     "iopub.status.busy": "2024-03-08T13:32:19.264414Z",
     "iopub.status.idle": "2024-03-08T13:32:19.284471Z",
     "shell.execute_reply": "2024-03-08T13:32:19.283498Z"
    },
    "papermill": {
     "duration": 0.036462,
     "end_time": "2024-03-08T13:32:19.287682",
     "exception": false,
     "start_time": "2024-03-08T13:32:19.251220",
     "status": "completed"
    },
    "tags": []
   },
   "outputs": [
    {
     "data": {
      "text/plain": [
       "3"
      ]
     },
     "execution_count": 9,
     "metadata": {},
     "output_type": "execute_result"
    }
   ],
   "source": [
    "data[data.App.str.contains(\"astrology\", case=False)].shape[0]"
   ]
  },
  {
   "cell_type": "markdown",
   "id": "0d99cb76",
   "metadata": {
    "papermill": {
     "duration": 0.011993,
     "end_time": "2024-03-08T13:32:19.312601",
     "exception": false,
     "start_time": "2024-03-08T13:32:19.300608",
     "status": "completed"
    },
    "tags": []
   },
   "source": [
    "<h1>Find Average App Rating\n"
   ]
  },
  {
   "cell_type": "code",
   "execution_count": 10,
   "id": "54e29410",
   "metadata": {
    "execution": {
     "iopub.execute_input": "2024-03-08T13:32:19.339535Z",
     "iopub.status.busy": "2024-03-08T13:32:19.338569Z",
     "iopub.status.idle": "2024-03-08T13:32:19.357299Z",
     "shell.execute_reply": "2024-03-08T13:32:19.356407Z"
    },
    "papermill": {
     "duration": 0.035294,
     "end_time": "2024-03-08T13:32:19.359892",
     "exception": false,
     "start_time": "2024-03-08T13:32:19.324598",
     "status": "completed"
    },
    "tags": []
   },
   "outputs": [
    {
     "data": {
      "text/html": [
       "<div>\n",
       "<style scoped>\n",
       "    .dataframe tbody tr th:only-of-type {\n",
       "        vertical-align: middle;\n",
       "    }\n",
       "\n",
       "    .dataframe tbody tr th {\n",
       "        vertical-align: top;\n",
       "    }\n",
       "\n",
       "    .dataframe thead th {\n",
       "        text-align: right;\n",
       "    }\n",
       "</style>\n",
       "<table border=\"1\" class=\"dataframe\">\n",
       "  <thead>\n",
       "    <tr style=\"text-align: right;\">\n",
       "      <th></th>\n",
       "      <th>App</th>\n",
       "      <th>Category</th>\n",
       "      <th>Rating</th>\n",
       "      <th>Reviews</th>\n",
       "      <th>Size</th>\n",
       "      <th>Installs</th>\n",
       "      <th>Type</th>\n",
       "      <th>Price</th>\n",
       "      <th>Content Rating</th>\n",
       "      <th>Genres</th>\n",
       "      <th>Last Updated</th>\n",
       "      <th>Current Ver</th>\n",
       "      <th>Android Ver</th>\n",
       "    </tr>\n",
       "  </thead>\n",
       "  <tbody>\n",
       "    <tr>\n",
       "      <th>0</th>\n",
       "      <td>Photo Editor &amp; Candy Camera &amp; Grid &amp; ScrapBook</td>\n",
       "      <td>ART_AND_DESIGN</td>\n",
       "      <td>4.1</td>\n",
       "      <td>159</td>\n",
       "      <td>19M</td>\n",
       "      <td>10,000+</td>\n",
       "      <td>Free</td>\n",
       "      <td>0</td>\n",
       "      <td>Everyone</td>\n",
       "      <td>Art &amp; Design</td>\n",
       "      <td>January 7, 2018</td>\n",
       "      <td>1.0.0</td>\n",
       "      <td>4.0.3 and up</td>\n",
       "    </tr>\n",
       "    <tr>\n",
       "      <th>1</th>\n",
       "      <td>Coloring book moana</td>\n",
       "      <td>ART_AND_DESIGN</td>\n",
       "      <td>3.9</td>\n",
       "      <td>967</td>\n",
       "      <td>14M</td>\n",
       "      <td>500,000+</td>\n",
       "      <td>Free</td>\n",
       "      <td>0</td>\n",
       "      <td>Everyone</td>\n",
       "      <td>Art &amp; Design;Pretend Play</td>\n",
       "      <td>January 15, 2018</td>\n",
       "      <td>2.0.0</td>\n",
       "      <td>4.0.3 and up</td>\n",
       "    </tr>\n",
       "    <tr>\n",
       "      <th>2</th>\n",
       "      <td>U Launcher Lite – FREE Live Cool Themes, Hide ...</td>\n",
       "      <td>ART_AND_DESIGN</td>\n",
       "      <td>4.7</td>\n",
       "      <td>87510</td>\n",
       "      <td>8.7M</td>\n",
       "      <td>5,000,000+</td>\n",
       "      <td>Free</td>\n",
       "      <td>0</td>\n",
       "      <td>Everyone</td>\n",
       "      <td>Art &amp; Design</td>\n",
       "      <td>August 1, 2018</td>\n",
       "      <td>1.2.4</td>\n",
       "      <td>4.0.3 and up</td>\n",
       "    </tr>\n",
       "    <tr>\n",
       "      <th>3</th>\n",
       "      <td>Sketch - Draw &amp; Paint</td>\n",
       "      <td>ART_AND_DESIGN</td>\n",
       "      <td>4.5</td>\n",
       "      <td>215644</td>\n",
       "      <td>25M</td>\n",
       "      <td>50,000,000+</td>\n",
       "      <td>Free</td>\n",
       "      <td>0</td>\n",
       "      <td>Teen</td>\n",
       "      <td>Art &amp; Design</td>\n",
       "      <td>June 8, 2018</td>\n",
       "      <td>Varies with device</td>\n",
       "      <td>4.2 and up</td>\n",
       "    </tr>\n",
       "    <tr>\n",
       "      <th>4</th>\n",
       "      <td>Pixel Draw - Number Art Coloring Book</td>\n",
       "      <td>ART_AND_DESIGN</td>\n",
       "      <td>4.3</td>\n",
       "      <td>967</td>\n",
       "      <td>2.8M</td>\n",
       "      <td>100,000+</td>\n",
       "      <td>Free</td>\n",
       "      <td>0</td>\n",
       "      <td>Everyone</td>\n",
       "      <td>Art &amp; Design;Creativity</td>\n",
       "      <td>June 20, 2018</td>\n",
       "      <td>1.1</td>\n",
       "      <td>4.4 and up</td>\n",
       "    </tr>\n",
       "  </tbody>\n",
       "</table>\n",
       "</div>"
      ],
      "text/plain": [
       "                                                 App        Category  Rating  \\\n",
       "0     Photo Editor & Candy Camera & Grid & ScrapBook  ART_AND_DESIGN     4.1   \n",
       "1                                Coloring book moana  ART_AND_DESIGN     3.9   \n",
       "2  U Launcher Lite – FREE Live Cool Themes, Hide ...  ART_AND_DESIGN     4.7   \n",
       "3                              Sketch - Draw & Paint  ART_AND_DESIGN     4.5   \n",
       "4              Pixel Draw - Number Art Coloring Book  ART_AND_DESIGN     4.3   \n",
       "\n",
       "  Reviews  Size     Installs  Type Price Content Rating  \\\n",
       "0     159   19M      10,000+  Free     0       Everyone   \n",
       "1     967   14M     500,000+  Free     0       Everyone   \n",
       "2   87510  8.7M   5,000,000+  Free     0       Everyone   \n",
       "3  215644   25M  50,000,000+  Free     0           Teen   \n",
       "4     967  2.8M     100,000+  Free     0       Everyone   \n",
       "\n",
       "                      Genres      Last Updated         Current Ver  \\\n",
       "0               Art & Design   January 7, 2018               1.0.0   \n",
       "1  Art & Design;Pretend Play  January 15, 2018               2.0.0   \n",
       "2               Art & Design    August 1, 2018               1.2.4   \n",
       "3               Art & Design      June 8, 2018  Varies with device   \n",
       "4    Art & Design;Creativity     June 20, 2018                 1.1   \n",
       "\n",
       "    Android Ver  \n",
       "0  4.0.3 and up  \n",
       "1  4.0.3 and up  \n",
       "2  4.0.3 and up  \n",
       "3    4.2 and up  \n",
       "4    4.4 and up  "
      ]
     },
     "execution_count": 10,
     "metadata": {},
     "output_type": "execute_result"
    }
   ],
   "source": [
    "data.head()"
   ]
  },
  {
   "cell_type": "code",
   "execution_count": 11,
   "id": "9e5ca7cf",
   "metadata": {
    "execution": {
     "iopub.execute_input": "2024-03-08T13:32:19.388187Z",
     "iopub.status.busy": "2024-03-08T13:32:19.386872Z",
     "iopub.status.idle": "2024-03-08T13:32:19.395670Z",
     "shell.execute_reply": "2024-03-08T13:32:19.394709Z"
    },
    "papermill": {
     "duration": 0.025049,
     "end_time": "2024-03-08T13:32:19.397944",
     "exception": false,
     "start_time": "2024-03-08T13:32:19.372895",
     "status": "completed"
    },
    "tags": []
   },
   "outputs": [
    {
     "data": {
      "text/plain": [
       "4.193338315362443"
      ]
     },
     "execution_count": 11,
     "metadata": {},
     "output_type": "execute_result"
    }
   ],
   "source": [
    "data[\"Rating\"].mean()"
   ]
  },
  {
   "cell_type": "markdown",
   "id": "b3a1b44a",
   "metadata": {
    "papermill": {
     "duration": 0.012294,
     "end_time": "2024-03-08T13:32:19.424509",
     "exception": false,
     "start_time": "2024-03-08T13:32:19.412215",
     "status": "completed"
    },
    "tags": []
   },
   "source": [
    "<h1>Find Total Number of Unique Category\n"
   ]
  },
  {
   "cell_type": "code",
   "execution_count": 12,
   "id": "fff9718d",
   "metadata": {
    "execution": {
     "iopub.execute_input": "2024-03-08T13:32:19.453810Z",
     "iopub.status.busy": "2024-03-08T13:32:19.452943Z",
     "iopub.status.idle": "2024-03-08T13:32:19.460258Z",
     "shell.execute_reply": "2024-03-08T13:32:19.459385Z"
    },
    "papermill": {
     "duration": 0.024196,
     "end_time": "2024-03-08T13:32:19.462506",
     "exception": false,
     "start_time": "2024-03-08T13:32:19.438310",
     "status": "completed"
    },
    "tags": []
   },
   "outputs": [
    {
     "data": {
      "text/plain": [
       "Index(['App', 'Category', 'Rating', 'Reviews', 'Size', 'Installs', 'Type',\n",
       "       'Price', 'Content Rating', 'Genres', 'Last Updated', 'Current Ver',\n",
       "       'Android Ver'],\n",
       "      dtype='object')"
      ]
     },
     "execution_count": 12,
     "metadata": {},
     "output_type": "execute_result"
    }
   ],
   "source": [
    "data.columns"
   ]
  },
  {
   "cell_type": "code",
   "execution_count": 13,
   "id": "cbfde350",
   "metadata": {
    "execution": {
     "iopub.execute_input": "2024-03-08T13:32:19.489642Z",
     "iopub.status.busy": "2024-03-08T13:32:19.488857Z",
     "iopub.status.idle": "2024-03-08T13:32:19.496884Z",
     "shell.execute_reply": "2024-03-08T13:32:19.495710Z"
    },
    "papermill": {
     "duration": 0.024403,
     "end_time": "2024-03-08T13:32:19.499513",
     "exception": false,
     "start_time": "2024-03-08T13:32:19.475110",
     "status": "completed"
    },
    "tags": []
   },
   "outputs": [
    {
     "data": {
      "text/plain": [
       "34"
      ]
     },
     "execution_count": 13,
     "metadata": {},
     "output_type": "execute_result"
    }
   ],
   "source": [
    "data.Category.nunique()"
   ]
  },
  {
   "cell_type": "markdown",
   "id": "5b10b250",
   "metadata": {
    "papermill": {
     "duration": 0.011708,
     "end_time": "2024-03-08T13:32:19.523547",
     "exception": false,
     "start_time": "2024-03-08T13:32:19.511839",
     "status": "completed"
    },
    "tags": []
   },
   "source": [
    "<h1>Which Category Getting The Highest Average Rating?\n"
   ]
  },
  {
   "cell_type": "code",
   "execution_count": 14,
   "id": "f02bedb9",
   "metadata": {
    "execution": {
     "iopub.execute_input": "2024-03-08T13:32:19.636915Z",
     "iopub.status.busy": "2024-03-08T13:32:19.636460Z",
     "iopub.status.idle": "2024-03-08T13:32:19.651473Z",
     "shell.execute_reply": "2024-03-08T13:32:19.650044Z"
    },
    "papermill": {
     "duration": 0.03133,
     "end_time": "2024-03-08T13:32:19.654034",
     "exception": false,
     "start_time": "2024-03-08T13:32:19.622704",
     "status": "completed"
    },
    "tags": []
   },
   "outputs": [
    {
     "data": {
      "text/plain": [
       "Category\n",
       "1.9                    19.000000\n",
       "EVENTS                  4.435556\n",
       "EDUCATION               4.389032\n",
       "ART_AND_DESIGN          4.358065\n",
       "BOOKS_AND_REFERENCE     4.346067\n",
       "Name: Rating, dtype: float64"
      ]
     },
     "execution_count": 14,
     "metadata": {},
     "output_type": "execute_result"
    }
   ],
   "source": [
    "data.groupby(by=[\"Category\"])[\"Rating\"].mean().sort_values(ascending=False).head()"
   ]
  },
  {
   "cell_type": "markdown",
   "id": "20b38a40",
   "metadata": {
    "papermill": {
     "duration": 0.012566,
     "end_time": "2024-03-08T13:32:19.679575",
     "exception": false,
     "start_time": "2024-03-08T13:32:19.667009",
     "status": "completed"
    },
    "tags": []
   },
   "source": [
    "<h1>Find Total Number of App having 5 Star Rating"
   ]
  },
  {
   "cell_type": "code",
   "execution_count": 15,
   "id": "d9af9118",
   "metadata": {
    "execution": {
     "iopub.execute_input": "2024-03-08T13:32:19.708558Z",
     "iopub.status.busy": "2024-03-08T13:32:19.707259Z",
     "iopub.status.idle": "2024-03-08T13:32:19.716569Z",
     "shell.execute_reply": "2024-03-08T13:32:19.715097Z"
    },
    "papermill": {
     "duration": 0.026385,
     "end_time": "2024-03-08T13:32:19.718897",
     "exception": false,
     "start_time": "2024-03-08T13:32:19.692512",
     "status": "completed"
    },
    "tags": []
   },
   "outputs": [
    {
     "data": {
      "text/plain": [
       "Index(['App', 'Category', 'Rating', 'Reviews', 'Size', 'Installs', 'Type',\n",
       "       'Price', 'Content Rating', 'Genres', 'Last Updated', 'Current Ver',\n",
       "       'Android Ver'],\n",
       "      dtype='object')"
      ]
     },
     "execution_count": 15,
     "metadata": {},
     "output_type": "execute_result"
    }
   ],
   "source": [
    "data.columns"
   ]
  },
  {
   "cell_type": "code",
   "execution_count": 16,
   "id": "4174bec4",
   "metadata": {
    "execution": {
     "iopub.execute_input": "2024-03-08T13:32:19.746703Z",
     "iopub.status.busy": "2024-03-08T13:32:19.746245Z",
     "iopub.status.idle": "2024-03-08T13:32:19.756035Z",
     "shell.execute_reply": "2024-03-08T13:32:19.754797Z"
    },
    "papermill": {
     "duration": 0.026451,
     "end_time": "2024-03-08T13:32:19.758539",
     "exception": false,
     "start_time": "2024-03-08T13:32:19.732088",
     "status": "completed"
    },
    "tags": []
   },
   "outputs": [
    {
     "data": {
      "text/plain": [
       "274"
      ]
     },
     "execution_count": 16,
     "metadata": {},
     "output_type": "execute_result"
    }
   ],
   "source": [
    "len(data[data[\"Rating\"] == 5])"
   ]
  },
  {
   "cell_type": "markdown",
   "id": "560338f6",
   "metadata": {
    "papermill": {
     "duration": 0.013291,
     "end_time": "2024-03-08T13:32:19.784457",
     "exception": false,
     "start_time": "2024-03-08T13:32:19.771166",
     "status": "completed"
    },
    "tags": []
   },
   "source": [
    "<H1>Find Average Value of Reviews\n"
   ]
  },
  {
   "cell_type": "code",
   "execution_count": 17,
   "id": "e650a2a8",
   "metadata": {
    "execution": {
     "iopub.execute_input": "2024-03-08T13:32:19.812775Z",
     "iopub.status.busy": "2024-03-08T13:32:19.812292Z",
     "iopub.status.idle": "2024-03-08T13:32:19.832594Z",
     "shell.execute_reply": "2024-03-08T13:32:19.831184Z"
    },
    "papermill": {
     "duration": 0.037459,
     "end_time": "2024-03-08T13:32:19.835417",
     "exception": false,
     "start_time": "2024-03-08T13:32:19.797958",
     "status": "completed"
    },
    "tags": []
   },
   "outputs": [
    {
     "data": {
      "text/html": [
       "<div>\n",
       "<style scoped>\n",
       "    .dataframe tbody tr th:only-of-type {\n",
       "        vertical-align: middle;\n",
       "    }\n",
       "\n",
       "    .dataframe tbody tr th {\n",
       "        vertical-align: top;\n",
       "    }\n",
       "\n",
       "    .dataframe thead th {\n",
       "        text-align: right;\n",
       "    }\n",
       "</style>\n",
       "<table border=\"1\" class=\"dataframe\">\n",
       "  <thead>\n",
       "    <tr style=\"text-align: right;\">\n",
       "      <th></th>\n",
       "      <th>App</th>\n",
       "      <th>Category</th>\n",
       "      <th>Rating</th>\n",
       "      <th>Reviews</th>\n",
       "      <th>Size</th>\n",
       "      <th>Installs</th>\n",
       "      <th>Type</th>\n",
       "      <th>Price</th>\n",
       "      <th>Content Rating</th>\n",
       "      <th>Genres</th>\n",
       "      <th>Last Updated</th>\n",
       "      <th>Current Ver</th>\n",
       "      <th>Android Ver</th>\n",
       "    </tr>\n",
       "  </thead>\n",
       "  <tbody>\n",
       "    <tr>\n",
       "      <th>0</th>\n",
       "      <td>Photo Editor &amp; Candy Camera &amp; Grid &amp; ScrapBook</td>\n",
       "      <td>ART_AND_DESIGN</td>\n",
       "      <td>4.1</td>\n",
       "      <td>159</td>\n",
       "      <td>19M</td>\n",
       "      <td>10,000+</td>\n",
       "      <td>Free</td>\n",
       "      <td>0</td>\n",
       "      <td>Everyone</td>\n",
       "      <td>Art &amp; Design</td>\n",
       "      <td>January 7, 2018</td>\n",
       "      <td>1.0.0</td>\n",
       "      <td>4.0.3 and up</td>\n",
       "    </tr>\n",
       "    <tr>\n",
       "      <th>1</th>\n",
       "      <td>Coloring book moana</td>\n",
       "      <td>ART_AND_DESIGN</td>\n",
       "      <td>3.9</td>\n",
       "      <td>967</td>\n",
       "      <td>14M</td>\n",
       "      <td>500,000+</td>\n",
       "      <td>Free</td>\n",
       "      <td>0</td>\n",
       "      <td>Everyone</td>\n",
       "      <td>Art &amp; Design;Pretend Play</td>\n",
       "      <td>January 15, 2018</td>\n",
       "      <td>2.0.0</td>\n",
       "      <td>4.0.3 and up</td>\n",
       "    </tr>\n",
       "    <tr>\n",
       "      <th>2</th>\n",
       "      <td>U Launcher Lite – FREE Live Cool Themes, Hide ...</td>\n",
       "      <td>ART_AND_DESIGN</td>\n",
       "      <td>4.7</td>\n",
       "      <td>87510</td>\n",
       "      <td>8.7M</td>\n",
       "      <td>5,000,000+</td>\n",
       "      <td>Free</td>\n",
       "      <td>0</td>\n",
       "      <td>Everyone</td>\n",
       "      <td>Art &amp; Design</td>\n",
       "      <td>August 1, 2018</td>\n",
       "      <td>1.2.4</td>\n",
       "      <td>4.0.3 and up</td>\n",
       "    </tr>\n",
       "    <tr>\n",
       "      <th>3</th>\n",
       "      <td>Sketch - Draw &amp; Paint</td>\n",
       "      <td>ART_AND_DESIGN</td>\n",
       "      <td>4.5</td>\n",
       "      <td>215644</td>\n",
       "      <td>25M</td>\n",
       "      <td>50,000,000+</td>\n",
       "      <td>Free</td>\n",
       "      <td>0</td>\n",
       "      <td>Teen</td>\n",
       "      <td>Art &amp; Design</td>\n",
       "      <td>June 8, 2018</td>\n",
       "      <td>Varies with device</td>\n",
       "      <td>4.2 and up</td>\n",
       "    </tr>\n",
       "    <tr>\n",
       "      <th>4</th>\n",
       "      <td>Pixel Draw - Number Art Coloring Book</td>\n",
       "      <td>ART_AND_DESIGN</td>\n",
       "      <td>4.3</td>\n",
       "      <td>967</td>\n",
       "      <td>2.8M</td>\n",
       "      <td>100,000+</td>\n",
       "      <td>Free</td>\n",
       "      <td>0</td>\n",
       "      <td>Everyone</td>\n",
       "      <td>Art &amp; Design;Creativity</td>\n",
       "      <td>June 20, 2018</td>\n",
       "      <td>1.1</td>\n",
       "      <td>4.4 and up</td>\n",
       "    </tr>\n",
       "  </tbody>\n",
       "</table>\n",
       "</div>"
      ],
      "text/plain": [
       "                                                 App        Category  Rating  \\\n",
       "0     Photo Editor & Candy Camera & Grid & ScrapBook  ART_AND_DESIGN     4.1   \n",
       "1                                Coloring book moana  ART_AND_DESIGN     3.9   \n",
       "2  U Launcher Lite – FREE Live Cool Themes, Hide ...  ART_AND_DESIGN     4.7   \n",
       "3                              Sketch - Draw & Paint  ART_AND_DESIGN     4.5   \n",
       "4              Pixel Draw - Number Art Coloring Book  ART_AND_DESIGN     4.3   \n",
       "\n",
       "  Reviews  Size     Installs  Type Price Content Rating  \\\n",
       "0     159   19M      10,000+  Free     0       Everyone   \n",
       "1     967   14M     500,000+  Free     0       Everyone   \n",
       "2   87510  8.7M   5,000,000+  Free     0       Everyone   \n",
       "3  215644   25M  50,000,000+  Free     0           Teen   \n",
       "4     967  2.8M     100,000+  Free     0       Everyone   \n",
       "\n",
       "                      Genres      Last Updated         Current Ver  \\\n",
       "0               Art & Design   January 7, 2018               1.0.0   \n",
       "1  Art & Design;Pretend Play  January 15, 2018               2.0.0   \n",
       "2               Art & Design    August 1, 2018               1.2.4   \n",
       "3               Art & Design      June 8, 2018  Varies with device   \n",
       "4    Art & Design;Creativity     June 20, 2018                 1.1   \n",
       "\n",
       "    Android Ver  \n",
       "0  4.0.3 and up  \n",
       "1  4.0.3 and up  \n",
       "2  4.0.3 and up  \n",
       "3    4.2 and up  \n",
       "4    4.4 and up  "
      ]
     },
     "execution_count": 17,
     "metadata": {},
     "output_type": "execute_result"
    }
   ],
   "source": [
    "data.head()"
   ]
  },
  {
   "cell_type": "code",
   "execution_count": 18,
   "id": "0072124e",
   "metadata": {
    "execution": {
     "iopub.execute_input": "2024-03-08T13:32:19.863891Z",
     "iopub.status.busy": "2024-03-08T13:32:19.863244Z",
     "iopub.status.idle": "2024-03-08T13:32:19.873081Z",
     "shell.execute_reply": "2024-03-08T13:32:19.871790Z"
    },
    "papermill": {
     "duration": 0.027129,
     "end_time": "2024-03-08T13:32:19.875660",
     "exception": false,
     "start_time": "2024-03-08T13:32:19.848531",
     "status": "completed"
    },
    "tags": []
   },
   "outputs": [
    {
     "data": {
      "text/plain": [
       "App                object\n",
       "Category           object\n",
       "Rating            float64\n",
       "Reviews            object\n",
       "Size               object\n",
       "Installs           object\n",
       "Type               object\n",
       "Price              object\n",
       "Content Rating     object\n",
       "Genres             object\n",
       "Last Updated       object\n",
       "Current Ver        object\n",
       "Android Ver        object\n",
       "dtype: object"
      ]
     },
     "execution_count": 18,
     "metadata": {},
     "output_type": "execute_result"
    }
   ],
   "source": [
    "data.dtypes"
   ]
  },
  {
   "cell_type": "code",
   "execution_count": 19,
   "id": "5267e2f0",
   "metadata": {
    "execution": {
     "iopub.execute_input": "2024-03-08T13:32:19.907484Z",
     "iopub.status.busy": "2024-03-08T13:32:19.906953Z",
     "iopub.status.idle": "2024-03-08T13:32:19.915660Z",
     "shell.execute_reply": "2024-03-08T13:32:19.914337Z"
    },
    "papermill": {
     "duration": 0.027685,
     "end_time": "2024-03-08T13:32:19.918281",
     "exception": false,
     "start_time": "2024-03-08T13:32:19.890596",
     "status": "completed"
    },
    "tags": []
   },
   "outputs": [
    {
     "data": {
      "text/plain": [
       "'3.0'"
      ]
     },
     "execution_count": 19,
     "metadata": {},
     "output_type": "execute_result"
    }
   ],
   "source": [
    "def rep(x: str) -> str:\n",
    "    return x.replace(\"M\", \"\")\n",
    "\n",
    "rep(\"3.0M\")"
   ]
  },
  {
   "cell_type": "code",
   "execution_count": 20,
   "id": "cbd979f2",
   "metadata": {
    "execution": {
     "iopub.execute_input": "2024-03-08T13:32:19.948281Z",
     "iopub.status.busy": "2024-03-08T13:32:19.947830Z",
     "iopub.status.idle": "2024-03-08T13:32:19.958818Z",
     "shell.execute_reply": "2024-03-08T13:32:19.957792Z"
    },
    "papermill": {
     "duration": 0.027969,
     "end_time": "2024-03-08T13:32:19.961099",
     "exception": false,
     "start_time": "2024-03-08T13:32:19.933130",
     "status": "completed"
    },
    "tags": []
   },
   "outputs": [],
   "source": [
    "data.Reviews = data.Reviews.apply(lambda x: rep(x))"
   ]
  },
  {
   "cell_type": "code",
   "execution_count": 21,
   "id": "0b0feb35",
   "metadata": {
    "execution": {
     "iopub.execute_input": "2024-03-08T13:32:19.990493Z",
     "iopub.status.busy": "2024-03-08T13:32:19.989988Z",
     "iopub.status.idle": "2024-03-08T13:32:19.998022Z",
     "shell.execute_reply": "2024-03-08T13:32:19.996672Z"
    },
    "papermill": {
     "duration": 0.025297,
     "end_time": "2024-03-08T13:32:20.000409",
     "exception": false,
     "start_time": "2024-03-08T13:32:19.975112",
     "status": "completed"
    },
    "tags": []
   },
   "outputs": [],
   "source": [
    "data.Reviews = data.Reviews.astype(\"float\")"
   ]
  },
  {
   "cell_type": "code",
   "execution_count": 22,
   "id": "97e40432",
   "metadata": {
    "execution": {
     "iopub.execute_input": "2024-03-08T13:32:20.028580Z",
     "iopub.status.busy": "2024-03-08T13:32:20.028085Z",
     "iopub.status.idle": "2024-03-08T13:32:20.036295Z",
     "shell.execute_reply": "2024-03-08T13:32:20.035130Z"
    },
    "papermill": {
     "duration": 0.02504,
     "end_time": "2024-03-08T13:32:20.038592",
     "exception": false,
     "start_time": "2024-03-08T13:32:20.013552",
     "status": "completed"
    },
    "tags": []
   },
   "outputs": [
    {
     "data": {
      "text/plain": [
       "444111.9265750392"
      ]
     },
     "execution_count": 22,
     "metadata": {},
     "output_type": "execute_result"
    }
   ],
   "source": [
    "data.Reviews.mean()"
   ]
  },
  {
   "cell_type": "markdown",
   "id": "2ab8203e",
   "metadata": {
    "papermill": {
     "duration": 0.012532,
     "end_time": "2024-03-08T13:32:20.064348",
     "exception": false,
     "start_time": "2024-03-08T13:32:20.051816",
     "status": "completed"
    },
    "tags": []
   },
   "source": [
    "<h1>Find Total Number of Free and Paid Apps\n"
   ]
  },
  {
   "cell_type": "code",
   "execution_count": 23,
   "id": "d02828de",
   "metadata": {
    "execution": {
     "iopub.execute_input": "2024-03-08T13:32:20.095358Z",
     "iopub.status.busy": "2024-03-08T13:32:20.094937Z",
     "iopub.status.idle": "2024-03-08T13:32:20.115051Z",
     "shell.execute_reply": "2024-03-08T13:32:20.113792Z"
    },
    "papermill": {
     "duration": 0.038016,
     "end_time": "2024-03-08T13:32:20.117457",
     "exception": false,
     "start_time": "2024-03-08T13:32:20.079441",
     "status": "completed"
    },
    "tags": []
   },
   "outputs": [
    {
     "data": {
      "text/html": [
       "<div>\n",
       "<style scoped>\n",
       "    .dataframe tbody tr th:only-of-type {\n",
       "        vertical-align: middle;\n",
       "    }\n",
       "\n",
       "    .dataframe tbody tr th {\n",
       "        vertical-align: top;\n",
       "    }\n",
       "\n",
       "    .dataframe thead th {\n",
       "        text-align: right;\n",
       "    }\n",
       "</style>\n",
       "<table border=\"1\" class=\"dataframe\">\n",
       "  <thead>\n",
       "    <tr style=\"text-align: right;\">\n",
       "      <th></th>\n",
       "      <th>App</th>\n",
       "      <th>Category</th>\n",
       "      <th>Rating</th>\n",
       "      <th>Reviews</th>\n",
       "      <th>Size</th>\n",
       "      <th>Installs</th>\n",
       "      <th>Type</th>\n",
       "      <th>Price</th>\n",
       "      <th>Content Rating</th>\n",
       "      <th>Genres</th>\n",
       "      <th>Last Updated</th>\n",
       "      <th>Current Ver</th>\n",
       "      <th>Android Ver</th>\n",
       "    </tr>\n",
       "  </thead>\n",
       "  <tbody>\n",
       "    <tr>\n",
       "      <th>0</th>\n",
       "      <td>Photo Editor &amp; Candy Camera &amp; Grid &amp; ScrapBook</td>\n",
       "      <td>ART_AND_DESIGN</td>\n",
       "      <td>4.1</td>\n",
       "      <td>159.0</td>\n",
       "      <td>19M</td>\n",
       "      <td>10,000+</td>\n",
       "      <td>Free</td>\n",
       "      <td>0</td>\n",
       "      <td>Everyone</td>\n",
       "      <td>Art &amp; Design</td>\n",
       "      <td>January 7, 2018</td>\n",
       "      <td>1.0.0</td>\n",
       "      <td>4.0.3 and up</td>\n",
       "    </tr>\n",
       "    <tr>\n",
       "      <th>1</th>\n",
       "      <td>Coloring book moana</td>\n",
       "      <td>ART_AND_DESIGN</td>\n",
       "      <td>3.9</td>\n",
       "      <td>967.0</td>\n",
       "      <td>14M</td>\n",
       "      <td>500,000+</td>\n",
       "      <td>Free</td>\n",
       "      <td>0</td>\n",
       "      <td>Everyone</td>\n",
       "      <td>Art &amp; Design;Pretend Play</td>\n",
       "      <td>January 15, 2018</td>\n",
       "      <td>2.0.0</td>\n",
       "      <td>4.0.3 and up</td>\n",
       "    </tr>\n",
       "    <tr>\n",
       "      <th>2</th>\n",
       "      <td>U Launcher Lite – FREE Live Cool Themes, Hide ...</td>\n",
       "      <td>ART_AND_DESIGN</td>\n",
       "      <td>4.7</td>\n",
       "      <td>87510.0</td>\n",
       "      <td>8.7M</td>\n",
       "      <td>5,000,000+</td>\n",
       "      <td>Free</td>\n",
       "      <td>0</td>\n",
       "      <td>Everyone</td>\n",
       "      <td>Art &amp; Design</td>\n",
       "      <td>August 1, 2018</td>\n",
       "      <td>1.2.4</td>\n",
       "      <td>4.0.3 and up</td>\n",
       "    </tr>\n",
       "    <tr>\n",
       "      <th>3</th>\n",
       "      <td>Sketch - Draw &amp; Paint</td>\n",
       "      <td>ART_AND_DESIGN</td>\n",
       "      <td>4.5</td>\n",
       "      <td>215644.0</td>\n",
       "      <td>25M</td>\n",
       "      <td>50,000,000+</td>\n",
       "      <td>Free</td>\n",
       "      <td>0</td>\n",
       "      <td>Teen</td>\n",
       "      <td>Art &amp; Design</td>\n",
       "      <td>June 8, 2018</td>\n",
       "      <td>Varies with device</td>\n",
       "      <td>4.2 and up</td>\n",
       "    </tr>\n",
       "    <tr>\n",
       "      <th>4</th>\n",
       "      <td>Pixel Draw - Number Art Coloring Book</td>\n",
       "      <td>ART_AND_DESIGN</td>\n",
       "      <td>4.3</td>\n",
       "      <td>967.0</td>\n",
       "      <td>2.8M</td>\n",
       "      <td>100,000+</td>\n",
       "      <td>Free</td>\n",
       "      <td>0</td>\n",
       "      <td>Everyone</td>\n",
       "      <td>Art &amp; Design;Creativity</td>\n",
       "      <td>June 20, 2018</td>\n",
       "      <td>1.1</td>\n",
       "      <td>4.4 and up</td>\n",
       "    </tr>\n",
       "  </tbody>\n",
       "</table>\n",
       "</div>"
      ],
      "text/plain": [
       "                                                 App        Category  Rating  \\\n",
       "0     Photo Editor & Candy Camera & Grid & ScrapBook  ART_AND_DESIGN     4.1   \n",
       "1                                Coloring book moana  ART_AND_DESIGN     3.9   \n",
       "2  U Launcher Lite – FREE Live Cool Themes, Hide ...  ART_AND_DESIGN     4.7   \n",
       "3                              Sketch - Draw & Paint  ART_AND_DESIGN     4.5   \n",
       "4              Pixel Draw - Number Art Coloring Book  ART_AND_DESIGN     4.3   \n",
       "\n",
       "    Reviews  Size     Installs  Type Price Content Rating  \\\n",
       "0     159.0   19M      10,000+  Free     0       Everyone   \n",
       "1     967.0   14M     500,000+  Free     0       Everyone   \n",
       "2   87510.0  8.7M   5,000,000+  Free     0       Everyone   \n",
       "3  215644.0   25M  50,000,000+  Free     0           Teen   \n",
       "4     967.0  2.8M     100,000+  Free     0       Everyone   \n",
       "\n",
       "                      Genres      Last Updated         Current Ver  \\\n",
       "0               Art & Design   January 7, 2018               1.0.0   \n",
       "1  Art & Design;Pretend Play  January 15, 2018               2.0.0   \n",
       "2               Art & Design    August 1, 2018               1.2.4   \n",
       "3               Art & Design      June 8, 2018  Varies with device   \n",
       "4    Art & Design;Creativity     June 20, 2018                 1.1   \n",
       "\n",
       "    Android Ver  \n",
       "0  4.0.3 and up  \n",
       "1  4.0.3 and up  \n",
       "2  4.0.3 and up  \n",
       "3    4.2 and up  \n",
       "4    4.4 and up  "
      ]
     },
     "execution_count": 23,
     "metadata": {},
     "output_type": "execute_result"
    }
   ],
   "source": [
    "data.head()"
   ]
  },
  {
   "cell_type": "code",
   "execution_count": 24,
   "id": "fdbdba18",
   "metadata": {
    "execution": {
     "iopub.execute_input": "2024-03-08T13:32:20.147728Z",
     "iopub.status.busy": "2024-03-08T13:32:20.147266Z",
     "iopub.status.idle": "2024-03-08T13:32:20.157919Z",
     "shell.execute_reply": "2024-03-08T13:32:20.156648Z"
    },
    "papermill": {
     "duration": 0.029528,
     "end_time": "2024-03-08T13:32:20.160521",
     "exception": false,
     "start_time": "2024-03-08T13:32:20.130993",
     "status": "completed"
    },
    "tags": []
   },
   "outputs": [
    {
     "data": {
      "text/plain": [
       "Type\n",
       "Free    10039\n",
       "Paid      800\n",
       "0           1\n",
       "Name: count, dtype: int64"
      ]
     },
     "execution_count": 24,
     "metadata": {},
     "output_type": "execute_result"
    }
   ],
   "source": [
    "data.Type.value_counts()"
   ]
  },
  {
   "cell_type": "code",
   "execution_count": 25,
   "id": "b16d169f",
   "metadata": {
    "execution": {
     "iopub.execute_input": "2024-03-08T13:32:20.193884Z",
     "iopub.status.busy": "2024-03-08T13:32:20.193446Z",
     "iopub.status.idle": "2024-03-08T13:32:20.605060Z",
     "shell.execute_reply": "2024-03-08T13:32:20.603659Z"
    },
    "papermill": {
     "duration": 0.432193,
     "end_time": "2024-03-08T13:32:20.608301",
     "exception": false,
     "start_time": "2024-03-08T13:32:20.176108",
     "status": "completed"
    },
    "tags": []
   },
   "outputs": [
    {
     "data": {
      "text/plain": [
       "<Axes: xlabel='Type'>"
      ]
     },
     "execution_count": 25,
     "metadata": {},
     "output_type": "execute_result"
    },
    {
     "data": {
      "image/png": "[encoded data removed]",
      "text/plain": [
       "<Figure size 640x480 with 1 Axes>"
      ]
     },
     "metadata": {},
     "output_type": "display_data"
    }
   ],
   "source": [
    "data.Type.value_counts().plot.bar()"
   ]
  },
  {
   "cell_type": "markdown",
   "id": "a40836ef",
   "metadata": {
    "papermill": {
     "duration": 0.015315,
     "end_time": "2024-03-08T13:32:20.637907",
     "exception": false,
     "start_time": "2024-03-08T13:32:20.622592",
     "status": "completed"
    },
    "tags": []
   },
   "source": [
    "<h1>Which App Has Maximum Reviews?\n"
   ]
  },
  {
   "cell_type": "code",
   "execution_count": 26,
   "id": "926c17d6",
   "metadata": {
    "execution": {
     "iopub.execute_input": "2024-03-08T13:32:20.671143Z",
     "iopub.status.busy": "2024-03-08T13:32:20.670725Z",
     "iopub.status.idle": "2024-03-08T13:32:20.688772Z",
     "shell.execute_reply": "2024-03-08T13:32:20.687225Z"
    },
    "papermill": {
     "duration": 0.038421,
     "end_time": "2024-03-08T13:32:20.692179",
     "exception": false,
     "start_time": "2024-03-08T13:32:20.653758",
     "status": "completed"
    },
    "tags": []
   },
   "outputs": [
    {
     "data": {
      "text/plain": [
       "2544    Facebook\n",
       "Name: App, dtype: object"
      ]
     },
     "execution_count": 26,
     "metadata": {},
     "output_type": "execute_result"
    }
   ],
   "source": [
    "data[data[\"Reviews\"] == data[\"Reviews\"].max()][\"App\"]\n",
    "data.sort_values(by=\"Reviews\", ascending=False)[\"App\"].head(1)"
   ]
  },
  {
   "cell_type": "markdown",
   "id": "621c13d9",
   "metadata": {
    "papermill": {
     "duration": 0.014861,
     "end_time": "2024-03-08T13:32:20.723119",
     "exception": false,
     "start_time": "2024-03-08T13:32:20.708258",
     "status": "completed"
    },
    "tags": []
   },
   "source": [
    "<h1>Display Top 5 Apps Having Highest Reviews\n"
   ]
  },
  {
   "cell_type": "code",
   "execution_count": 27,
   "id": "30383994",
   "metadata": {
    "execution": {
     "iopub.execute_input": "2024-03-08T13:32:20.753792Z",
     "iopub.status.busy": "2024-03-08T13:32:20.753111Z",
     "iopub.status.idle": "2024-03-08T13:32:21.057232Z",
     "shell.execute_reply": "2024-03-08T13:32:21.056043Z"
    },
    "papermill": {
     "duration": 0.322583,
     "end_time": "2024-03-08T13:32:21.060213",
     "exception": false,
     "start_time": "2024-03-08T13:32:20.737630",
     "status": "completed"
    },
    "tags": []
   },
   "outputs": [
    {
     "data": {
      "text/plain": [
       "<Axes: >"
      ]
     },
     "execution_count": 27,
     "metadata": {},
     "output_type": "execute_result"
    },
    {
     "data": {
      "image/png": "[encoded data removed]",
      "text/plain": [
       "<Figure size 640x480 with 1 Axes>"
      ]
     },
     "metadata": {},
     "output_type": "display_data"
    }
   ],
   "source": [
    "data.sort_values(by=\"Reviews\", ascending=False)[[\"App\", \"Reviews\"]].head(5).plot.barh()"
   ]
  },
  {
   "cell_type": "markdown",
   "id": "b3be420e",
   "metadata": {
    "papermill": {
     "duration": 0.017466,
     "end_time": "2024-03-08T13:32:21.092436",
     "exception": false,
     "start_time": "2024-03-08T13:32:21.074970",
     "status": "completed"
    },
    "tags": []
   },
   "source": [
    "<h1>Find Average Rating of Free and Paid Apps\n"
   ]
  },
  {
   "cell_type": "code",
   "execution_count": 28,
   "id": "d08a176d",
   "metadata": {
    "execution": {
     "iopub.execute_input": "2024-03-08T13:32:21.128341Z",
     "iopub.status.busy": "2024-03-08T13:32:21.127865Z",
     "iopub.status.idle": "2024-03-08T13:32:21.141236Z",
     "shell.execute_reply": "2024-03-08T13:32:21.140290Z"
    },
    "papermill": {
     "duration": 0.034194,
     "end_time": "2024-03-08T13:32:21.143698",
     "exception": false,
     "start_time": "2024-03-08T13:32:21.109504",
     "status": "completed"
    },
    "tags": []
   },
   "outputs": [
    {
     "data": {
      "text/plain": [
       "Type\n",
       "0       19.000000\n",
       "Free     4.186203\n",
       "Paid     4.266615\n",
       "Name: Rating, dtype: float64"
      ]
     },
     "execution_count": 28,
     "metadata": {},
     "output_type": "execute_result"
    }
   ],
   "source": [
    "data.groupby(\"Type\")[\"Rating\"].mean()"
   ]
  },
  {
   "cell_type": "markdown",
   "id": "7ed39e58",
   "metadata": {
    "papermill": {
     "duration": 0.01573,
     "end_time": "2024-03-08T13:32:21.175039",
     "exception": false,
     "start_time": "2024-03-08T13:32:21.159309",
     "status": "completed"
    },
    "tags": []
   },
   "source": [
    "<h1>Display Top  5 Apps Having Maximum Installs"
   ]
  },
  {
   "cell_type": "code",
   "execution_count": 29,
   "id": "73b11711",
   "metadata": {
    "execution": {
     "iopub.execute_input": "2024-03-08T13:32:21.207514Z",
     "iopub.status.busy": "2024-03-08T13:32:21.206575Z",
     "iopub.status.idle": "2024-03-08T13:32:21.225245Z",
     "shell.execute_reply": "2024-03-08T13:32:21.223991Z"
    },
    "papermill": {
     "duration": 0.038158,
     "end_time": "2024-03-08T13:32:21.228081",
     "exception": false,
     "start_time": "2024-03-08T13:32:21.189923",
     "status": "completed"
    },
    "tags": []
   },
   "outputs": [
    {
     "data": {
      "text/html": [
       "<div>\n",
       "<style scoped>\n",
       "    .dataframe tbody tr th:only-of-type {\n",
       "        vertical-align: middle;\n",
       "    }\n",
       "\n",
       "    .dataframe tbody tr th {\n",
       "        vertical-align: top;\n",
       "    }\n",
       "\n",
       "    .dataframe thead th {\n",
       "        text-align: right;\n",
       "    }\n",
       "</style>\n",
       "<table border=\"1\" class=\"dataframe\">\n",
       "  <thead>\n",
       "    <tr style=\"text-align: right;\">\n",
       "      <th></th>\n",
       "      <th>App</th>\n",
       "      <th>Category</th>\n",
       "      <th>Rating</th>\n",
       "      <th>Reviews</th>\n",
       "      <th>Size</th>\n",
       "      <th>Installs</th>\n",
       "      <th>Type</th>\n",
       "      <th>Price</th>\n",
       "      <th>Content Rating</th>\n",
       "      <th>Genres</th>\n",
       "      <th>Last Updated</th>\n",
       "      <th>Current Ver</th>\n",
       "      <th>Android Ver</th>\n",
       "    </tr>\n",
       "  </thead>\n",
       "  <tbody>\n",
       "    <tr>\n",
       "      <th>0</th>\n",
       "      <td>Photo Editor &amp; Candy Camera &amp; Grid &amp; ScrapBook</td>\n",
       "      <td>ART_AND_DESIGN</td>\n",
       "      <td>4.1</td>\n",
       "      <td>159.0</td>\n",
       "      <td>19M</td>\n",
       "      <td>10,000+</td>\n",
       "      <td>Free</td>\n",
       "      <td>0</td>\n",
       "      <td>Everyone</td>\n",
       "      <td>Art &amp; Design</td>\n",
       "      <td>January 7, 2018</td>\n",
       "      <td>1.0.0</td>\n",
       "      <td>4.0.3 and up</td>\n",
       "    </tr>\n",
       "    <tr>\n",
       "      <th>1</th>\n",
       "      <td>Coloring book moana</td>\n",
       "      <td>ART_AND_DESIGN</td>\n",
       "      <td>3.9</td>\n",
       "      <td>967.0</td>\n",
       "      <td>14M</td>\n",
       "      <td>500,000+</td>\n",
       "      <td>Free</td>\n",
       "      <td>0</td>\n",
       "      <td>Everyone</td>\n",
       "      <td>Art &amp; Design;Pretend Play</td>\n",
       "      <td>January 15, 2018</td>\n",
       "      <td>2.0.0</td>\n",
       "      <td>4.0.3 and up</td>\n",
       "    </tr>\n",
       "    <tr>\n",
       "      <th>2</th>\n",
       "      <td>U Launcher Lite – FREE Live Cool Themes, Hide ...</td>\n",
       "      <td>ART_AND_DESIGN</td>\n",
       "      <td>4.7</td>\n",
       "      <td>87510.0</td>\n",
       "      <td>8.7M</td>\n",
       "      <td>5,000,000+</td>\n",
       "      <td>Free</td>\n",
       "      <td>0</td>\n",
       "      <td>Everyone</td>\n",
       "      <td>Art &amp; Design</td>\n",
       "      <td>August 1, 2018</td>\n",
       "      <td>1.2.4</td>\n",
       "      <td>4.0.3 and up</td>\n",
       "    </tr>\n",
       "    <tr>\n",
       "      <th>3</th>\n",
       "      <td>Sketch - Draw &amp; Paint</td>\n",
       "      <td>ART_AND_DESIGN</td>\n",
       "      <td>4.5</td>\n",
       "      <td>215644.0</td>\n",
       "      <td>25M</td>\n",
       "      <td>50,000,000+</td>\n",
       "      <td>Free</td>\n",
       "      <td>0</td>\n",
       "      <td>Teen</td>\n",
       "      <td>Art &amp; Design</td>\n",
       "      <td>June 8, 2018</td>\n",
       "      <td>Varies with device</td>\n",
       "      <td>4.2 and up</td>\n",
       "    </tr>\n",
       "    <tr>\n",
       "      <th>4</th>\n",
       "      <td>Pixel Draw - Number Art Coloring Book</td>\n",
       "      <td>ART_AND_DESIGN</td>\n",
       "      <td>4.3</td>\n",
       "      <td>967.0</td>\n",
       "      <td>2.8M</td>\n",
       "      <td>100,000+</td>\n",
       "      <td>Free</td>\n",
       "      <td>0</td>\n",
       "      <td>Everyone</td>\n",
       "      <td>Art &amp; Design;Creativity</td>\n",
       "      <td>June 20, 2018</td>\n",
       "      <td>1.1</td>\n",
       "      <td>4.4 and up</td>\n",
       "    </tr>\n",
       "  </tbody>\n",
       "</table>\n",
       "</div>"
      ],
      "text/plain": [
       "                                                 App        Category  Rating  \\\n",
       "0     Photo Editor & Candy Camera & Grid & ScrapBook  ART_AND_DESIGN     4.1   \n",
       "1                                Coloring book moana  ART_AND_DESIGN     3.9   \n",
       "2  U Launcher Lite – FREE Live Cool Themes, Hide ...  ART_AND_DESIGN     4.7   \n",
       "3                              Sketch - Draw & Paint  ART_AND_DESIGN     4.5   \n",
       "4              Pixel Draw - Number Art Coloring Book  ART_AND_DESIGN     4.3   \n",
       "\n",
       "    Reviews  Size     Installs  Type Price Content Rating  \\\n",
       "0     159.0   19M      10,000+  Free     0       Everyone   \n",
       "1     967.0   14M     500,000+  Free     0       Everyone   \n",
       "2   87510.0  8.7M   5,000,000+  Free     0       Everyone   \n",
       "3  215644.0   25M  50,000,000+  Free     0           Teen   \n",
       "4     967.0  2.8M     100,000+  Free     0       Everyone   \n",
       "\n",
       "                      Genres      Last Updated         Current Ver  \\\n",
       "0               Art & Design   January 7, 2018               1.0.0   \n",
       "1  Art & Design;Pretend Play  January 15, 2018               2.0.0   \n",
       "2               Art & Design    August 1, 2018               1.2.4   \n",
       "3               Art & Design      June 8, 2018  Varies with device   \n",
       "4    Art & Design;Creativity     June 20, 2018                 1.1   \n",
       "\n",
       "    Android Ver  \n",
       "0  4.0.3 and up  \n",
       "1  4.0.3 and up  \n",
       "2  4.0.3 and up  \n",
       "3    4.2 and up  \n",
       "4    4.4 and up  "
      ]
     },
     "execution_count": 29,
     "metadata": {},
     "output_type": "execute_result"
    }
   ],
   "source": [
    "data.head()"
   ]
  },
  {
   "cell_type": "code",
   "execution_count": 30,
   "id": "86e02be5",
   "metadata": {
    "execution": {
     "iopub.execute_input": "2024-03-08T13:32:21.263744Z",
     "iopub.status.busy": "2024-03-08T13:32:21.262272Z",
     "iopub.status.idle": "2024-03-08T13:32:21.268799Z",
     "shell.execute_reply": "2024-03-08T13:32:21.267812Z"
    },
    "papermill": {
     "duration": 0.027152,
     "end_time": "2024-03-08T13:32:21.271494",
     "exception": false,
     "start_time": "2024-03-08T13:32:21.244342",
     "status": "completed"
    },
    "tags": []
   },
   "outputs": [],
   "source": [
    "def rep(x):\n",
    "    return x.replace(\"+\", \"\").replace(\",\", \"\").replace(\"Free\", \"0\")"
   ]
  },
  {
   "cell_type": "code",
   "execution_count": 31,
   "id": "e20e43e0",
   "metadata": {
    "execution": {
     "iopub.execute_input": "2024-03-08T13:32:21.306903Z",
     "iopub.status.busy": "2024-03-08T13:32:21.305660Z",
     "iopub.status.idle": "2024-03-08T13:32:21.322209Z",
     "shell.execute_reply": "2024-03-08T13:32:21.320738Z"
    },
    "papermill": {
     "duration": 0.037693,
     "end_time": "2024-03-08T13:32:21.325657",
     "exception": false,
     "start_time": "2024-03-08T13:32:21.287964",
     "status": "completed"
    },
    "tags": []
   },
   "outputs": [],
   "source": [
    "data.Installs = data.Installs.apply(lambda x: rep(x)).astype(\"float\")"
   ]
  },
  {
   "cell_type": "code",
   "execution_count": 32,
   "id": "f07ba9f2",
   "metadata": {
    "execution": {
     "iopub.execute_input": "2024-03-08T13:32:21.361476Z",
     "iopub.status.busy": "2024-03-08T13:32:21.360970Z",
     "iopub.status.idle": "2024-03-08T13:32:21.369499Z",
     "shell.execute_reply": "2024-03-08T13:32:21.368070Z"
    },
    "papermill": {
     "duration": 0.0307,
     "end_time": "2024-03-08T13:32:21.372177",
     "exception": false,
     "start_time": "2024-03-08T13:32:21.341477",
     "status": "completed"
    },
    "tags": []
   },
   "outputs": [],
   "source": [
    "\n",
    "data.Installs = data.Installs.astype(\"int\")"
   ]
  },
  {
   "cell_type": "code",
   "execution_count": 33,
   "id": "2e770ca5",
   "metadata": {
    "execution": {
     "iopub.execute_input": "2024-03-08T13:32:21.407180Z",
     "iopub.status.busy": "2024-03-08T13:32:21.406351Z",
     "iopub.status.idle": "2024-03-08T13:32:21.430821Z",
     "shell.execute_reply": "2024-03-08T13:32:21.429797Z"
    },
    "papermill": {
     "duration": 0.044637,
     "end_time": "2024-03-08T13:32:21.433299",
     "exception": false,
     "start_time": "2024-03-08T13:32:21.388662",
     "status": "completed"
    },
    "tags": []
   },
   "outputs": [
    {
     "data": {
      "text/html": [
       "<div>\n",
       "<style scoped>\n",
       "    .dataframe tbody tr th:only-of-type {\n",
       "        vertical-align: middle;\n",
       "    }\n",
       "\n",
       "    .dataframe tbody tr th {\n",
       "        vertical-align: top;\n",
       "    }\n",
       "\n",
       "    .dataframe thead th {\n",
       "        text-align: right;\n",
       "    }\n",
       "</style>\n",
       "<table border=\"1\" class=\"dataframe\">\n",
       "  <thead>\n",
       "    <tr style=\"text-align: right;\">\n",
       "      <th></th>\n",
       "      <th>App</th>\n",
       "      <th>Category</th>\n",
       "      <th>Rating</th>\n",
       "      <th>Reviews</th>\n",
       "      <th>Size</th>\n",
       "      <th>Installs</th>\n",
       "      <th>Type</th>\n",
       "      <th>Price</th>\n",
       "      <th>Content Rating</th>\n",
       "      <th>Genres</th>\n",
       "      <th>Last Updated</th>\n",
       "      <th>Current Ver</th>\n",
       "      <th>Android Ver</th>\n",
       "    </tr>\n",
       "  </thead>\n",
       "  <tbody>\n",
       "    <tr>\n",
       "      <th>3896</th>\n",
       "      <td>Subway Surfers</td>\n",
       "      <td>GAME</td>\n",
       "      <td>4.5</td>\n",
       "      <td>27711703.0</td>\n",
       "      <td>76M</td>\n",
       "      <td>1000000000</td>\n",
       "      <td>Free</td>\n",
       "      <td>0</td>\n",
       "      <td>Everyone 10+</td>\n",
       "      <td>Arcade</td>\n",
       "      <td>July 12, 2018</td>\n",
       "      <td>1.90.0</td>\n",
       "      <td>4.1 and up</td>\n",
       "    </tr>\n",
       "    <tr>\n",
       "      <th>3943</th>\n",
       "      <td>Facebook</td>\n",
       "      <td>SOCIAL</td>\n",
       "      <td>4.1</td>\n",
       "      <td>78128208.0</td>\n",
       "      <td>Varies with device</td>\n",
       "      <td>1000000000</td>\n",
       "      <td>Free</td>\n",
       "      <td>0</td>\n",
       "      <td>Teen</td>\n",
       "      <td>Social</td>\n",
       "      <td>August 3, 2018</td>\n",
       "      <td>Varies with device</td>\n",
       "      <td>Varies with device</td>\n",
       "    </tr>\n",
       "    <tr>\n",
       "      <th>335</th>\n",
       "      <td>Messenger – Text and Video Chat for Free</td>\n",
       "      <td>COMMUNICATION</td>\n",
       "      <td>4.0</td>\n",
       "      <td>56642847.0</td>\n",
       "      <td>Varies with device</td>\n",
       "      <td>1000000000</td>\n",
       "      <td>Free</td>\n",
       "      <td>0</td>\n",
       "      <td>Everyone</td>\n",
       "      <td>Communication</td>\n",
       "      <td>August 1, 2018</td>\n",
       "      <td>Varies with device</td>\n",
       "      <td>Varies with device</td>\n",
       "    </tr>\n",
       "    <tr>\n",
       "      <th>3523</th>\n",
       "      <td>Google Drive</td>\n",
       "      <td>PRODUCTIVITY</td>\n",
       "      <td>4.4</td>\n",
       "      <td>2731211.0</td>\n",
       "      <td>Varies with device</td>\n",
       "      <td>1000000000</td>\n",
       "      <td>Free</td>\n",
       "      <td>0</td>\n",
       "      <td>Everyone</td>\n",
       "      <td>Productivity</td>\n",
       "      <td>August 6, 2018</td>\n",
       "      <td>Varies with device</td>\n",
       "      <td>Varies with device</td>\n",
       "    </tr>\n",
       "    <tr>\n",
       "      <th>3565</th>\n",
       "      <td>Google Drive</td>\n",
       "      <td>PRODUCTIVITY</td>\n",
       "      <td>4.4</td>\n",
       "      <td>2731211.0</td>\n",
       "      <td>Varies with device</td>\n",
       "      <td>1000000000</td>\n",
       "      <td>Free</td>\n",
       "      <td>0</td>\n",
       "      <td>Everyone</td>\n",
       "      <td>Productivity</td>\n",
       "      <td>August 6, 2018</td>\n",
       "      <td>Varies with device</td>\n",
       "      <td>Varies with device</td>\n",
       "    </tr>\n",
       "  </tbody>\n",
       "</table>\n",
       "</div>"
      ],
      "text/plain": [
       "                                           App       Category  Rating  \\\n",
       "3896                            Subway Surfers           GAME     4.5   \n",
       "3943                                  Facebook         SOCIAL     4.1   \n",
       "335   Messenger – Text and Video Chat for Free  COMMUNICATION     4.0   \n",
       "3523                              Google Drive   PRODUCTIVITY     4.4   \n",
       "3565                              Google Drive   PRODUCTIVITY     4.4   \n",
       "\n",
       "         Reviews                Size    Installs  Type Price Content Rating  \\\n",
       "3896  27711703.0                 76M  1000000000  Free     0   Everyone 10+   \n",
       "3943  78128208.0  Varies with device  1000000000  Free     0           Teen   \n",
       "335   56642847.0  Varies with device  1000000000  Free     0       Everyone   \n",
       "3523   2731211.0  Varies with device  1000000000  Free     0       Everyone   \n",
       "3565   2731211.0  Varies with device  1000000000  Free     0       Everyone   \n",
       "\n",
       "             Genres    Last Updated         Current Ver         Android Ver  \n",
       "3896         Arcade   July 12, 2018              1.90.0          4.1 and up  \n",
       "3943         Social  August 3, 2018  Varies with device  Varies with device  \n",
       "335   Communication  August 1, 2018  Varies with device  Varies with device  \n",
       "3523   Productivity  August 6, 2018  Varies with device  Varies with device  \n",
       "3565   Productivity  August 6, 2018  Varies with device  Varies with device  "
      ]
     },
     "execution_count": 33,
     "metadata": {},
     "output_type": "execute_result"
    }
   ],
   "source": [
    "data.loc[data.sort_values(\"Installs\", ascending=False).head(5).index]"
   ]
  },
  {
   "cell_type": "code",
   "execution_count": null,
   "id": "2d13de0e",
   "metadata": {
    "papermill": {
     "duration": 0.015221,
     "end_time": "2024-03-08T13:32:21.464088",
     "exception": false,
     "start_time": "2024-03-08T13:32:21.448867",
     "status": "completed"
    },
    "tags": []
   },
   "outputs": [],
   "source": []
  }
 ],
 "metadata": {
  "kaggle": {
   "accelerator": "none",
   "dataSources": [
    {
     "datasetId": 49864,
     "sourceId": 274957,
     "sourceType": "datasetVersion"
    }
   ],
   "dockerImageVersionId": 30664,
   "isGpuEnabled": false,
   "isInternetEnabled": false,
   "language": "python",
   "sourceType": "notebook"
  },
  "kernelspec": {
   "display_name": "Python 3",
   "language": "python",
   "name": "python3"
  },
  "language_info": {
   "codemirror_mode": {
    "name": "ipython",
    "version": 3
   },
   "file_extension": ".py",
   "mimetype": "text/x-python",
   "name": "python",
   "nbconvert_exporter": "python",
   "pygments_lexer": "ipython3",
   "version": "3.10.13"
  },
  "papermill": {
   "default_parameters": {},
   "duration": 9.500608,
   "end_time": "2024-03-08T13:32:22.404291",
   "environment_variables": {},
   "exception": null,
   "input_path": "__notebook__.ipynb",
   "output_path": "__notebook__.ipynb",
   "parameters": {},
   "start_time": "2024-03-08T13:32:12.903683",
   "version": "2.5.0"
  }
 },
 "nbformat": 4,
 "nbformat_minor": 5
}
