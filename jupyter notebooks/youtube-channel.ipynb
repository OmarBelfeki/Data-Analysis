{
 "cells": [
  {
   "cell_type": "code",
   "execution_count": 1,
   "id": "7b727fa5",
   "metadata": {
    "_cell_guid": "b1076dfc-b9ad-4769-8c92-a6c4dae69d19",
    "_uuid": "8f2839f25d086af736a60e9eeb907d3b93b6e0e5",
    "execution": {
     "iopub.execute_input": "2024-03-08T13:23:30.915788Z",
     "iopub.status.busy": "2024-03-08T13:23:30.915013Z",
     "iopub.status.idle": "2024-03-08T13:23:33.099802Z",
     "shell.execute_reply": "2024-03-08T13:23:33.098478Z"
    },
    "papermill": {
     "duration": 2.19941,
     "end_time": "2024-03-08T13:23:33.102016",
     "exception": false,
     "start_time": "2024-03-08T13:23:30.902606",
     "status": "completed"
    },
    "tags": []
   },
   "outputs": [
    {
     "name": "stdout",
     "output_type": "stream",
     "text": [
      "/kaggle/input/top5000youtubechannels/top-5000-youtube-channels.csv\n"
     ]
    }
   ],
   "source": [
    "# This Python 3 environment comes with many helpful analytics libraries installed\n",
    "# It is defined by the kaggle/python Docker image: https://github.com/kaggle/docker-python\n",
    "# For example, here's several helpful packages to load\n",
    "\n",
    "import numpy as np # linear algebra\n",
    "import pandas as pd # data processing, CSV file I/O (e.g. pd.read_csv)\n",
    "import seaborn as sns\n",
    "\n",
    "import warnings\n",
    "\n",
    "warnings.filterwarnings(action=\"ignore\")\n",
    "# Input data files are available in the read-only \"../input/\" directory\n",
    "# For example, running this (by clicking run or pressing Shift+Enter) will list all files under the input directory\n",
    "\n",
    "import os\n",
    "for dirname, _, filenames in os.walk('/kaggle/input'):\n",
    "    for filename in filenames:\n",
    "        print(os.path.join(dirname, filename))\n",
    "\n",
    "# You can write up to 20GB to the current directory (/kaggle/working/) that gets preserved as output when you create a version using \"Save & Run All\" \n",
    "# You can also write temporary files to /kaggle/temp/, but they won't be saved outside of the current session"
   ]
  },
  {
   "cell_type": "code",
   "execution_count": 2,
   "id": "c9e790d4",
   "metadata": {
    "execution": {
     "iopub.execute_input": "2024-03-08T13:23:33.125013Z",
     "iopub.status.busy": "2024-03-08T13:23:33.124440Z",
     "iopub.status.idle": "2024-03-08T13:23:33.155546Z",
     "shell.execute_reply": "2024-03-08T13:23:33.154459Z"
    },
    "papermill": {
     "duration": 0.04526,
     "end_time": "2024-03-08T13:23:33.158247",
     "exception": false,
     "start_time": "2024-03-08T13:23:33.112987",
     "status": "completed"
    },
    "tags": []
   },
   "outputs": [],
   "source": [
    "data = pd.read_csv(\"/kaggle/input/top5000youtubechannels/top-5000-youtube-channels.csv\")"
   ]
  },
  {
   "cell_type": "markdown",
   "id": "e6726ca2",
   "metadata": {
    "papermill": {
     "duration": 0.009924,
     "end_time": "2024-03-08T13:23:33.178539",
     "exception": false,
     "start_time": "2024-03-08T13:23:33.168615",
     "status": "completed"
    },
    "tags": []
   },
   "source": [
    "<h1>Display All Rows Except the Last 5 rows Using Head Method\n"
   ]
  },
  {
   "cell_type": "code",
   "execution_count": 3,
   "id": "7f8a88cc",
   "metadata": {
    "execution": {
     "iopub.execute_input": "2024-03-08T13:23:33.201874Z",
     "iopub.status.busy": "2024-03-08T13:23:33.201476Z",
     "iopub.status.idle": "2024-03-08T13:23:33.225814Z",
     "shell.execute_reply": "2024-03-08T13:23:33.224753Z"
    },
    "papermill": {
     "duration": 0.039719,
     "end_time": "2024-03-08T13:23:33.228436",
     "exception": false,
     "start_time": "2024-03-08T13:23:33.188717",
     "status": "completed"
    },
    "tags": []
   },
   "outputs": [
    {
     "data": {
      "text/html": [
       "<div>\n",
       "<style scoped>\n",
       "    .dataframe tbody tr th:only-of-type {\n",
       "        vertical-align: middle;\n",
       "    }\n",
       "\n",
       "    .dataframe tbody tr th {\n",
       "        vertical-align: top;\n",
       "    }\n",
       "\n",
       "    .dataframe thead th {\n",
       "        text-align: right;\n",
       "    }\n",
       "</style>\n",
       "<table border=\"1\" class=\"dataframe\">\n",
       "  <thead>\n",
       "    <tr style=\"text-align: right;\">\n",
       "      <th></th>\n",
       "      <th>Rank</th>\n",
       "      <th>Grade</th>\n",
       "      <th>Channel name</th>\n",
       "      <th>Video Uploads</th>\n",
       "      <th>Subscribers</th>\n",
       "      <th>Video views</th>\n",
       "    </tr>\n",
       "  </thead>\n",
       "  <tbody>\n",
       "    <tr>\n",
       "      <th>0</th>\n",
       "      <td>1st</td>\n",
       "      <td>A++</td>\n",
       "      <td>Zee TV</td>\n",
       "      <td>82757</td>\n",
       "      <td>18752951</td>\n",
       "      <td>20869786591</td>\n",
       "    </tr>\n",
       "    <tr>\n",
       "      <th>1</th>\n",
       "      <td>2nd</td>\n",
       "      <td>A++</td>\n",
       "      <td>T-Series</td>\n",
       "      <td>12661</td>\n",
       "      <td>61196302</td>\n",
       "      <td>47548839843</td>\n",
       "    </tr>\n",
       "    <tr>\n",
       "      <th>2</th>\n",
       "      <td>3rd</td>\n",
       "      <td>A++</td>\n",
       "      <td>Cocomelon - Nursery Rhymes</td>\n",
       "      <td>373</td>\n",
       "      <td>19238251</td>\n",
       "      <td>9793305082</td>\n",
       "    </tr>\n",
       "    <tr>\n",
       "      <th>3</th>\n",
       "      <td>4th</td>\n",
       "      <td>A++</td>\n",
       "      <td>SET India</td>\n",
       "      <td>27323</td>\n",
       "      <td>31180559</td>\n",
       "      <td>22675948293</td>\n",
       "    </tr>\n",
       "    <tr>\n",
       "      <th>4</th>\n",
       "      <td>5th</td>\n",
       "      <td>A++</td>\n",
       "      <td>WWE</td>\n",
       "      <td>36756</td>\n",
       "      <td>32852346</td>\n",
       "      <td>26273668433</td>\n",
       "    </tr>\n",
       "    <tr>\n",
       "      <th>...</th>\n",
       "      <td>...</td>\n",
       "      <td>...</td>\n",
       "      <td>...</td>\n",
       "      <td>...</td>\n",
       "      <td>...</td>\n",
       "      <td>...</td>\n",
       "    </tr>\n",
       "    <tr>\n",
       "      <th>4990</th>\n",
       "      <td>4,991st</td>\n",
       "      <td>B+</td>\n",
       "      <td>Ho Ngoc Ha's Official Channel</td>\n",
       "      <td>208</td>\n",
       "      <td>--</td>\n",
       "      <td>127185704</td>\n",
       "    </tr>\n",
       "    <tr>\n",
       "      <th>4991</th>\n",
       "      <td>4,992nd</td>\n",
       "      <td>B+</td>\n",
       "      <td>Toys to Learn Colors</td>\n",
       "      <td>11</td>\n",
       "      <td>663114</td>\n",
       "      <td>141933264</td>\n",
       "    </tr>\n",
       "    <tr>\n",
       "      <th>4992</th>\n",
       "      <td>4,993rd</td>\n",
       "      <td>B+</td>\n",
       "      <td>КАZКА</td>\n",
       "      <td>25</td>\n",
       "      <td>131766</td>\n",
       "      <td>74304638</td>\n",
       "    </tr>\n",
       "    <tr>\n",
       "      <th>4993</th>\n",
       "      <td>4,994th</td>\n",
       "      <td>B+</td>\n",
       "      <td>United CUBE (CUBE Entertainment…</td>\n",
       "      <td>1055</td>\n",
       "      <td>1586835</td>\n",
       "      <td>371299166</td>\n",
       "    </tr>\n",
       "    <tr>\n",
       "      <th>4994</th>\n",
       "      <td>4,995th</td>\n",
       "      <td>B+</td>\n",
       "      <td>Wings Marathi</td>\n",
       "      <td>1735</td>\n",
       "      <td>1099659</td>\n",
       "      <td>346175699</td>\n",
       "    </tr>\n",
       "  </tbody>\n",
       "</table>\n",
       "<p>4995 rows × 6 columns</p>\n",
       "</div>"
      ],
      "text/plain": [
       "         Rank Grade                      Channel name Video Uploads  \\\n",
       "0         1st  A++                             Zee TV         82757   \n",
       "1         2nd  A++                           T-Series         12661   \n",
       "2         3rd  A++         Cocomelon - Nursery Rhymes           373   \n",
       "3         4th  A++                          SET India         27323   \n",
       "4         5th  A++                                WWE         36756   \n",
       "...       ...   ...                               ...           ...   \n",
       "4990  4,991st   B+      Ho Ngoc Ha's Official Channel           208   \n",
       "4991  4,992nd   B+               Toys to Learn Colors            11   \n",
       "4992  4,993rd   B+                              КАZКА            25   \n",
       "4993  4,994th   B+   United CUBE (CUBE Entertainment…          1055   \n",
       "4994  4,995th   B+                      Wings Marathi          1735   \n",
       "\n",
       "     Subscribers  Video views  \n",
       "0       18752951  20869786591  \n",
       "1       61196302  47548839843  \n",
       "2       19238251   9793305082  \n",
       "3       31180559  22675948293  \n",
       "4       32852346  26273668433  \n",
       "...          ...          ...  \n",
       "4990         --     127185704  \n",
       "4991      663114    141933264  \n",
       "4992      131766     74304638  \n",
       "4993     1586835    371299166  \n",
       "4994     1099659    346175699  \n",
       "\n",
       "[4995 rows x 6 columns]"
      ]
     },
     "execution_count": 3,
     "metadata": {},
     "output_type": "execute_result"
    }
   ],
   "source": [
    "data.head(-5)"
   ]
  },
  {
   "cell_type": "code",
   "execution_count": 4,
   "id": "47b0788f",
   "metadata": {
    "execution": {
     "iopub.execute_input": "2024-03-08T13:23:33.252504Z",
     "iopub.status.busy": "2024-03-08T13:23:33.251808Z",
     "iopub.status.idle": "2024-03-08T13:23:33.258758Z",
     "shell.execute_reply": "2024-03-08T13:23:33.257758Z"
    },
    "papermill": {
     "duration": 0.021472,
     "end_time": "2024-03-08T13:23:33.260623",
     "exception": false,
     "start_time": "2024-03-08T13:23:33.239151",
     "status": "completed"
    },
    "tags": []
   },
   "outputs": [
    {
     "data": {
      "text/plain": [
       "(5000, 6)"
      ]
     },
     "execution_count": 4,
     "metadata": {},
     "output_type": "execute_result"
    }
   ],
   "source": [
    "data.shape"
   ]
  },
  {
   "cell_type": "markdown",
   "id": "7bb789e3",
   "metadata": {
    "papermill": {
     "duration": 0.010319,
     "end_time": "2024-03-08T13:23:33.281879",
     "exception": false,
     "start_time": "2024-03-08T13:23:33.271560",
     "status": "completed"
    },
    "tags": []
   },
   "source": [
    "<h1>Display All Rows Except the First 5 Rows Using Tail Method\n",
    " "
   ]
  },
  {
   "cell_type": "code",
   "execution_count": 5,
   "id": "347c9ec4",
   "metadata": {
    "execution": {
     "iopub.execute_input": "2024-03-08T13:23:33.304995Z",
     "iopub.status.busy": "2024-03-08T13:23:33.304607Z",
     "iopub.status.idle": "2024-03-08T13:23:33.321058Z",
     "shell.execute_reply": "2024-03-08T13:23:33.319843Z"
    },
    "papermill": {
     "duration": 0.030651,
     "end_time": "2024-03-08T13:23:33.323266",
     "exception": false,
     "start_time": "2024-03-08T13:23:33.292615",
     "status": "completed"
    },
    "tags": []
   },
   "outputs": [
    {
     "data": {
      "text/html": [
       "<div>\n",
       "<style scoped>\n",
       "    .dataframe tbody tr th:only-of-type {\n",
       "        vertical-align: middle;\n",
       "    }\n",
       "\n",
       "    .dataframe tbody tr th {\n",
       "        vertical-align: top;\n",
       "    }\n",
       "\n",
       "    .dataframe thead th {\n",
       "        text-align: right;\n",
       "    }\n",
       "</style>\n",
       "<table border=\"1\" class=\"dataframe\">\n",
       "  <thead>\n",
       "    <tr style=\"text-align: right;\">\n",
       "      <th></th>\n",
       "      <th>Rank</th>\n",
       "      <th>Grade</th>\n",
       "      <th>Channel name</th>\n",
       "      <th>Video Uploads</th>\n",
       "      <th>Subscribers</th>\n",
       "      <th>Video views</th>\n",
       "    </tr>\n",
       "  </thead>\n",
       "  <tbody>\n",
       "    <tr>\n",
       "      <th>5</th>\n",
       "      <td>6th</td>\n",
       "      <td>A++</td>\n",
       "      <td>Movieclips</td>\n",
       "      <td>30243</td>\n",
       "      <td>17149705</td>\n",
       "      <td>16618094724</td>\n",
       "    </tr>\n",
       "    <tr>\n",
       "      <th>6</th>\n",
       "      <td>7th</td>\n",
       "      <td>A++</td>\n",
       "      <td>netd müzik</td>\n",
       "      <td>8500</td>\n",
       "      <td>11373567</td>\n",
       "      <td>23898730764</td>\n",
       "    </tr>\n",
       "    <tr>\n",
       "      <th>7</th>\n",
       "      <td>8th</td>\n",
       "      <td>A++</td>\n",
       "      <td>ABS-CBN Entertainment</td>\n",
       "      <td>100147</td>\n",
       "      <td>12149206</td>\n",
       "      <td>17202609850</td>\n",
       "    </tr>\n",
       "    <tr>\n",
       "      <th>8</th>\n",
       "      <td>9th</td>\n",
       "      <td>A++</td>\n",
       "      <td>Ryan ToysReview</td>\n",
       "      <td>1140</td>\n",
       "      <td>16082927</td>\n",
       "      <td>24518098041</td>\n",
       "    </tr>\n",
       "    <tr>\n",
       "      <th>9</th>\n",
       "      <td>10th</td>\n",
       "      <td>A++</td>\n",
       "      <td>Zee Marathi</td>\n",
       "      <td>74607</td>\n",
       "      <td>2841811</td>\n",
       "      <td>2591830307</td>\n",
       "    </tr>\n",
       "    <tr>\n",
       "      <th>...</th>\n",
       "      <td>...</td>\n",
       "      <td>...</td>\n",
       "      <td>...</td>\n",
       "      <td>...</td>\n",
       "      <td>...</td>\n",
       "      <td>...</td>\n",
       "    </tr>\n",
       "    <tr>\n",
       "      <th>4995</th>\n",
       "      <td>4,996th</td>\n",
       "      <td>B+</td>\n",
       "      <td>Uras Benlioğlu</td>\n",
       "      <td>706</td>\n",
       "      <td>2072942</td>\n",
       "      <td>441202795</td>\n",
       "    </tr>\n",
       "    <tr>\n",
       "      <th>4996</th>\n",
       "      <td>4,997th</td>\n",
       "      <td>B+</td>\n",
       "      <td>HI-TECH MUSIC LTD</td>\n",
       "      <td>797</td>\n",
       "      <td>1055091</td>\n",
       "      <td>377331722</td>\n",
       "    </tr>\n",
       "    <tr>\n",
       "      <th>4997</th>\n",
       "      <td>4,998th</td>\n",
       "      <td>B+</td>\n",
       "      <td>Mastersaint</td>\n",
       "      <td>110</td>\n",
       "      <td>3265735</td>\n",
       "      <td>311758426</td>\n",
       "    </tr>\n",
       "    <tr>\n",
       "      <th>4998</th>\n",
       "      <td>4,999th</td>\n",
       "      <td>B+</td>\n",
       "      <td>Bruce McIntosh</td>\n",
       "      <td>3475</td>\n",
       "      <td>32990</td>\n",
       "      <td>14563764</td>\n",
       "    </tr>\n",
       "    <tr>\n",
       "      <th>4999</th>\n",
       "      <td>5,000th</td>\n",
       "      <td>B+</td>\n",
       "      <td>SehatAQUA</td>\n",
       "      <td>254</td>\n",
       "      <td>21172</td>\n",
       "      <td>73312511</td>\n",
       "    </tr>\n",
       "  </tbody>\n",
       "</table>\n",
       "<p>4995 rows × 6 columns</p>\n",
       "</div>"
      ],
      "text/plain": [
       "         Rank Grade           Channel name Video Uploads Subscribers  \\\n",
       "5         6th  A++              Movieclips         30243    17149705   \n",
       "6         7th  A++              netd müzik          8500    11373567   \n",
       "7         8th  A++   ABS-CBN Entertainment        100147    12149206   \n",
       "8         9th  A++         Ryan ToysReview          1140    16082927   \n",
       "9        10th  A++             Zee Marathi         74607     2841811   \n",
       "...       ...   ...                    ...           ...         ...   \n",
       "4995  4,996th   B+          Uras Benlioğlu           706     2072942   \n",
       "4996  4,997th   B+       HI-TECH MUSIC LTD           797     1055091   \n",
       "4997  4,998th   B+             Mastersaint           110     3265735   \n",
       "4998  4,999th   B+          Bruce McIntosh          3475       32990   \n",
       "4999  5,000th   B+               SehatAQUA           254       21172   \n",
       "\n",
       "      Video views  \n",
       "5     16618094724  \n",
       "6     23898730764  \n",
       "7     17202609850  \n",
       "8     24518098041  \n",
       "9      2591830307  \n",
       "...           ...  \n",
       "4995    441202795  \n",
       "4996    377331722  \n",
       "4997    311758426  \n",
       "4998     14563764  \n",
       "4999     73312511  \n",
       "\n",
       "[4995 rows x 6 columns]"
      ]
     },
     "execution_count": 5,
     "metadata": {},
     "output_type": "execute_result"
    }
   ],
   "source": [
    "data.tail(-5)"
   ]
  },
  {
   "cell_type": "markdown",
   "id": "d1e2f9e4",
   "metadata": {
    "papermill": {
     "duration": 0.011046,
     "end_time": "2024-03-08T13:23:33.345369",
     "exception": false,
     "start_time": "2024-03-08T13:23:33.334323",
     "status": "completed"
    },
    "tags": []
   },
   "source": [
    "<h1>Find Shape of Our Dataset (Number of Rows And Number of Columns)\n"
   ]
  },
  {
   "cell_type": "code",
   "execution_count": 6,
   "id": "6321d350",
   "metadata": {
    "execution": {
     "iopub.execute_input": "2024-03-08T13:23:33.369243Z",
     "iopub.status.busy": "2024-03-08T13:23:33.368816Z",
     "iopub.status.idle": "2024-03-08T13:23:33.375435Z",
     "shell.execute_reply": "2024-03-08T13:23:33.374392Z"
    },
    "papermill": {
     "duration": 0.020905,
     "end_time": "2024-03-08T13:23:33.377331",
     "exception": false,
     "start_time": "2024-03-08T13:23:33.356426",
     "status": "completed"
    },
    "tags": []
   },
   "outputs": [
    {
     "data": {
      "text/plain": [
       "(5000, 6)"
      ]
     },
     "execution_count": 6,
     "metadata": {},
     "output_type": "execute_result"
    }
   ],
   "source": [
    "data.shape"
   ]
  },
  {
   "cell_type": "markdown",
   "id": "fa52d816",
   "metadata": {
    "papermill": {
     "duration": 0.010988,
     "end_time": "2024-03-08T13:23:33.399568",
     "exception": false,
     "start_time": "2024-03-08T13:23:33.388580",
     "status": "completed"
    },
    "tags": []
   },
   "source": [
    "<h1>Get Information About Our Dataset Like Total Number Rows, Total Number of Columns, Datatypes of Each Column And Memory Requirement\n"
   ]
  },
  {
   "cell_type": "code",
   "execution_count": 7,
   "id": "d7a07a09",
   "metadata": {
    "execution": {
     "iopub.execute_input": "2024-03-08T13:23:33.423610Z",
     "iopub.status.busy": "2024-03-08T13:23:33.423208Z",
     "iopub.status.idle": "2024-03-08T13:23:33.446880Z",
     "shell.execute_reply": "2024-03-08T13:23:33.445332Z"
    },
    "papermill": {
     "duration": 0.038698,
     "end_time": "2024-03-08T13:23:33.449443",
     "exception": false,
     "start_time": "2024-03-08T13:23:33.410745",
     "status": "completed"
    },
    "tags": []
   },
   "outputs": [
    {
     "name": "stdout",
     "output_type": "stream",
     "text": [
      "<class 'pandas.core.frame.DataFrame'>\n",
      "RangeIndex: 5000 entries, 0 to 4999\n",
      "Data columns (total 6 columns):\n",
      " #   Column         Non-Null Count  Dtype \n",
      "---  ------         --------------  ----- \n",
      " 0   Rank           5000 non-null   object\n",
      " 1   Grade          5000 non-null   object\n",
      " 2   Channel name   5000 non-null   object\n",
      " 3   Video Uploads  5000 non-null   object\n",
      " 4   Subscribers    5000 non-null   object\n",
      " 5   Video views    5000 non-null   int64 \n",
      "dtypes: int64(1), object(5)\n",
      "memory usage: 234.5+ KB\n"
     ]
    }
   ],
   "source": [
    "data.info()"
   ]
  },
  {
   "cell_type": "markdown",
   "id": "fe9a6d57",
   "metadata": {
    "papermill": {
     "duration": 0.011235,
     "end_time": "2024-03-08T13:23:33.471934",
     "exception": false,
     "start_time": "2024-03-08T13:23:33.460699",
     "status": "completed"
    },
    "tags": []
   },
   "source": [
    "<h1>Get Overall Statistics About The Dataframe\n"
   ]
  },
  {
   "cell_type": "code",
   "execution_count": 8,
   "id": "531b1e0c",
   "metadata": {
    "execution": {
     "iopub.execute_input": "2024-03-08T13:23:33.496022Z",
     "iopub.status.busy": "2024-03-08T13:23:33.495628Z",
     "iopub.status.idle": "2024-03-08T13:23:33.531711Z",
     "shell.execute_reply": "2024-03-08T13:23:33.530634Z"
    },
    "papermill": {
     "duration": 0.050837,
     "end_time": "2024-03-08T13:23:33.534035",
     "exception": false,
     "start_time": "2024-03-08T13:23:33.483198",
     "status": "completed"
    },
    "tags": []
   },
   "outputs": [
    {
     "data": {
      "text/html": [
       "<div>\n",
       "<style scoped>\n",
       "    .dataframe tbody tr th:only-of-type {\n",
       "        vertical-align: middle;\n",
       "    }\n",
       "\n",
       "    .dataframe tbody tr th {\n",
       "        vertical-align: top;\n",
       "    }\n",
       "\n",
       "    .dataframe thead th {\n",
       "        text-align: right;\n",
       "    }\n",
       "</style>\n",
       "<table border=\"1\" class=\"dataframe\">\n",
       "  <thead>\n",
       "    <tr style=\"text-align: right;\">\n",
       "      <th></th>\n",
       "      <th>Rank</th>\n",
       "      <th>Grade</th>\n",
       "      <th>Channel name</th>\n",
       "      <th>Video Uploads</th>\n",
       "      <th>Subscribers</th>\n",
       "      <th>Video views</th>\n",
       "    </tr>\n",
       "  </thead>\n",
       "  <tbody>\n",
       "    <tr>\n",
       "      <th>count</th>\n",
       "      <td>5000</td>\n",
       "      <td>5000</td>\n",
       "      <td>5000</td>\n",
       "      <td>5000</td>\n",
       "      <td>5000</td>\n",
       "      <td>5.000000e+03</td>\n",
       "    </tr>\n",
       "    <tr>\n",
       "      <th>unique</th>\n",
       "      <td>5000</td>\n",
       "      <td>6</td>\n",
       "      <td>4993</td>\n",
       "      <td>2286</td>\n",
       "      <td>4612</td>\n",
       "      <td>NaN</td>\n",
       "    </tr>\n",
       "    <tr>\n",
       "      <th>top</th>\n",
       "      <td>1st</td>\n",
       "      <td>B+</td>\n",
       "      <td>Thơ Nguyễn</td>\n",
       "      <td>26</td>\n",
       "      <td>--</td>\n",
       "      <td>NaN</td>\n",
       "    </tr>\n",
       "    <tr>\n",
       "      <th>freq</th>\n",
       "      <td>1</td>\n",
       "      <td>2956</td>\n",
       "      <td>2</td>\n",
       "      <td>17</td>\n",
       "      <td>387</td>\n",
       "      <td>NaN</td>\n",
       "    </tr>\n",
       "    <tr>\n",
       "      <th>mean</th>\n",
       "      <td>NaN</td>\n",
       "      <td>NaN</td>\n",
       "      <td>NaN</td>\n",
       "      <td>NaN</td>\n",
       "      <td>NaN</td>\n",
       "      <td>1.071449e+09</td>\n",
       "    </tr>\n",
       "    <tr>\n",
       "      <th>std</th>\n",
       "      <td>NaN</td>\n",
       "      <td>NaN</td>\n",
       "      <td>NaN</td>\n",
       "      <td>NaN</td>\n",
       "      <td>NaN</td>\n",
       "      <td>2.003844e+09</td>\n",
       "    </tr>\n",
       "    <tr>\n",
       "      <th>min</th>\n",
       "      <td>NaN</td>\n",
       "      <td>NaN</td>\n",
       "      <td>NaN</td>\n",
       "      <td>NaN</td>\n",
       "      <td>NaN</td>\n",
       "      <td>7.500000e+01</td>\n",
       "    </tr>\n",
       "    <tr>\n",
       "      <th>25%</th>\n",
       "      <td>NaN</td>\n",
       "      <td>NaN</td>\n",
       "      <td>NaN</td>\n",
       "      <td>NaN</td>\n",
       "      <td>NaN</td>\n",
       "      <td>1.862329e+08</td>\n",
       "    </tr>\n",
       "    <tr>\n",
       "      <th>50%</th>\n",
       "      <td>NaN</td>\n",
       "      <td>NaN</td>\n",
       "      <td>NaN</td>\n",
       "      <td>NaN</td>\n",
       "      <td>NaN</td>\n",
       "      <td>4.820548e+08</td>\n",
       "    </tr>\n",
       "    <tr>\n",
       "      <th>75%</th>\n",
       "      <td>NaN</td>\n",
       "      <td>NaN</td>\n",
       "      <td>NaN</td>\n",
       "      <td>NaN</td>\n",
       "      <td>NaN</td>\n",
       "      <td>1.124368e+09</td>\n",
       "    </tr>\n",
       "    <tr>\n",
       "      <th>max</th>\n",
       "      <td>NaN</td>\n",
       "      <td>NaN</td>\n",
       "      <td>NaN</td>\n",
       "      <td>NaN</td>\n",
       "      <td>NaN</td>\n",
       "      <td>4.754884e+10</td>\n",
       "    </tr>\n",
       "  </tbody>\n",
       "</table>\n",
       "</div>"
      ],
      "text/plain": [
       "        Rank Grade Channel name Video Uploads Subscribers   Video views\n",
       "count   5000  5000         5000          5000        5000  5.000000e+03\n",
       "unique  5000     6         4993          2286        4612           NaN\n",
       "top      1st   B+    Thơ Nguyễn            26         --            NaN\n",
       "freq       1  2956            2            17         387           NaN\n",
       "mean     NaN   NaN          NaN           NaN         NaN  1.071449e+09\n",
       "std      NaN   NaN          NaN           NaN         NaN  2.003844e+09\n",
       "min      NaN   NaN          NaN           NaN         NaN  7.500000e+01\n",
       "25%      NaN   NaN          NaN           NaN         NaN  1.862329e+08\n",
       "50%      NaN   NaN          NaN           NaN         NaN  4.820548e+08\n",
       "75%      NaN   NaN          NaN           NaN         NaN  1.124368e+09\n",
       "max      NaN   NaN          NaN           NaN         NaN  4.754884e+10"
      ]
     },
     "execution_count": 8,
     "metadata": {},
     "output_type": "execute_result"
    }
   ],
   "source": [
    "data.describe(include=\"all\")"
   ]
  },
  {
   "cell_type": "markdown",
   "id": "c8a9b2f6",
   "metadata": {
    "papermill": {
     "duration": 0.011035,
     "end_time": "2024-03-08T13:23:33.556710",
     "exception": false,
     "start_time": "2024-03-08T13:23:33.545675",
     "status": "completed"
    },
    "tags": []
   },
   "source": [
    "<h1>Data Cleaning  (Replace '--'  to NaN)\n"
   ]
  },
  {
   "cell_type": "code",
   "execution_count": 9,
   "id": "b8992343",
   "metadata": {
    "execution": {
     "iopub.execute_input": "2024-03-08T13:23:33.581013Z",
     "iopub.status.busy": "2024-03-08T13:23:33.580606Z",
     "iopub.status.idle": "2024-03-08T13:23:33.589174Z",
     "shell.execute_reply": "2024-03-08T13:23:33.588074Z"
    },
    "papermill": {
     "duration": 0.023526,
     "end_time": "2024-03-08T13:23:33.591570",
     "exception": false,
     "start_time": "2024-03-08T13:23:33.568044",
     "status": "completed"
    },
    "tags": []
   },
   "outputs": [],
   "source": [
    "data.replace(to_replace=\"--\", value=np.nan, inplace=True)"
   ]
  },
  {
   "cell_type": "markdown",
   "id": "076206e6",
   "metadata": {
    "papermill": {
     "duration": 0.01107,
     "end_time": "2024-03-08T13:23:33.614113",
     "exception": false,
     "start_time": "2024-03-08T13:23:33.603043",
     "status": "completed"
    },
    "tags": []
   },
   "source": [
    "<h1>Check Null Values In The Dataset"
   ]
  },
  {
   "cell_type": "code",
   "execution_count": 10,
   "id": "8b1e8c84",
   "metadata": {
    "execution": {
     "iopub.execute_input": "2024-03-08T13:23:33.639046Z",
     "iopub.status.busy": "2024-03-08T13:23:33.638078Z",
     "iopub.status.idle": "2024-03-08T13:23:33.648047Z",
     "shell.execute_reply": "2024-03-08T13:23:33.647067Z"
    },
    "papermill": {
     "duration": 0.024663,
     "end_time": "2024-03-08T13:23:33.650249",
     "exception": false,
     "start_time": "2024-03-08T13:23:33.625586",
     "status": "completed"
    },
    "tags": []
   },
   "outputs": [
    {
     "data": {
      "text/plain": [
       "Rank             0\n",
       "Grade            0\n",
       "Channel name     0\n",
       "Video Uploads    6\n",
       "Subscribers      0\n",
       "Video views      0\n",
       "dtype: int64"
      ]
     },
     "execution_count": 10,
     "metadata": {},
     "output_type": "execute_result"
    }
   ],
   "source": [
    "data.isnull().sum()"
   ]
  },
  {
   "cell_type": "markdown",
   "id": "5614537d",
   "metadata": {
    "papermill": {
     "duration": 0.01128,
     "end_time": "2024-03-08T13:23:33.673183",
     "exception": false,
     "start_time": "2024-03-08T13:23:33.661903",
     "status": "completed"
    },
    "tags": []
   },
   "source": [
    "\n",
    "<h1>Data Cleaning [ Rank Column ]\n"
   ]
  },
  {
   "cell_type": "code",
   "execution_count": 11,
   "id": "895933b7",
   "metadata": {
    "execution": {
     "iopub.execute_input": "2024-03-08T13:23:33.698784Z",
     "iopub.status.busy": "2024-03-08T13:23:33.697979Z",
     "iopub.status.idle": "2024-03-08T13:23:33.706136Z",
     "shell.execute_reply": "2024-03-08T13:23:33.705197Z"
    },
    "papermill": {
     "duration": 0.023296,
     "end_time": "2024-03-08T13:23:33.708225",
     "exception": false,
     "start_time": "2024-03-08T13:23:33.684929",
     "status": "completed"
    },
    "tags": []
   },
   "outputs": [
    {
     "data": {
      "text/plain": [
       "0           1st\n",
       "1           2nd\n",
       "2           3rd\n",
       "3           4th\n",
       "4           5th\n",
       "         ...   \n",
       "4995    4,996th\n",
       "4996    4,997th\n",
       "4997    4,998th\n",
       "4998    4,999th\n",
       "4999    5,000th\n",
       "Name: Rank, Length: 5000, dtype: object"
      ]
     },
     "execution_count": 11,
     "metadata": {},
     "output_type": "execute_result"
    }
   ],
   "source": [
    "data.Rank"
   ]
  },
  {
   "cell_type": "code",
   "execution_count": 12,
   "id": "3e30a82a",
   "metadata": {
    "execution": {
     "iopub.execute_input": "2024-03-08T13:23:33.733233Z",
     "iopub.status.busy": "2024-03-08T13:23:33.732846Z",
     "iopub.status.idle": "2024-03-08T13:23:33.737391Z",
     "shell.execute_reply": "2024-03-08T13:23:33.736311Z"
    },
    "papermill": {
     "duration": 0.01986,
     "end_time": "2024-03-08T13:23:33.739665",
     "exception": false,
     "start_time": "2024-03-08T13:23:33.719805",
     "status": "completed"
    },
    "tags": []
   },
   "outputs": [],
   "source": [
    "def rep(x):\n",
    "    return x.replace(\",\", \"\")"
   ]
  },
  {
   "cell_type": "code",
   "execution_count": 13,
   "id": "98ff73f8",
   "metadata": {
    "execution": {
     "iopub.execute_input": "2024-03-08T13:23:33.765546Z",
     "iopub.status.busy": "2024-03-08T13:23:33.765168Z",
     "iopub.status.idle": "2024-03-08T13:23:33.775323Z",
     "shell.execute_reply": "2024-03-08T13:23:33.774445Z"
    },
    "papermill": {
     "duration": 0.026151,
     "end_time": "2024-03-08T13:23:33.777646",
     "exception": false,
     "start_time": "2024-03-08T13:23:33.751495",
     "status": "completed"
    },
    "tags": []
   },
   "outputs": [],
   "source": [
    "data[\"Rank\"] = data[\"Rank\"].str[: -2].apply(lambda x: rep(x)).astype(\"int\")"
   ]
  },
  {
   "cell_type": "code",
   "execution_count": null,
   "id": "07cf75fe",
   "metadata": {
    "execution": {
     "iopub.execute_input": "2024-03-08T12:39:49.623569Z",
     "iopub.status.busy": "2024-03-08T12:39:49.623155Z",
     "iopub.status.idle": "2024-03-08T12:39:49.629455Z",
     "shell.execute_reply": "2024-03-08T12:39:49.628200Z",
     "shell.execute_reply.started": "2024-03-08T12:39:49.623535Z"
    },
    "papermill": {
     "duration": 0.011991,
     "end_time": "2024-03-08T13:23:33.801509",
     "exception": false,
     "start_time": "2024-03-08T13:23:33.789518",
     "status": "completed"
    },
    "tags": []
   },
   "outputs": [],
   "source": []
  },
  {
   "cell_type": "markdown",
   "id": "9543a075",
   "metadata": {
    "papermill": {
     "duration": 0.01142,
     "end_time": "2024-03-08T13:23:33.891721",
     "exception": false,
     "start_time": "2024-03-08T13:23:33.880301",
     "status": "completed"
    },
    "tags": []
   },
   "source": [
    "<h1>Data Cleaning [ Video Uploads & Subscribers ]"
   ]
  },
  {
   "cell_type": "code",
   "execution_count": 14,
   "id": "9609cfcb",
   "metadata": {
    "execution": {
     "iopub.execute_input": "2024-03-08T13:23:33.917171Z",
     "iopub.status.busy": "2024-03-08T13:23:33.916751Z",
     "iopub.status.idle": "2024-03-08T13:23:33.923950Z",
     "shell.execute_reply": "2024-03-08T13:23:33.922842Z"
    },
    "papermill": {
     "duration": 0.022517,
     "end_time": "2024-03-08T13:23:33.926154",
     "exception": false,
     "start_time": "2024-03-08T13:23:33.903637",
     "status": "completed"
    },
    "tags": []
   },
   "outputs": [],
   "source": [
    "data[\"Video Uploads\"] = data[\"Video Uploads\"].astype(\"float\")"
   ]
  },
  {
   "cell_type": "code",
   "execution_count": 15,
   "id": "efcd8a19",
   "metadata": {
    "execution": {
     "iopub.execute_input": "2024-03-08T13:23:33.951425Z",
     "iopub.status.busy": "2024-03-08T13:23:33.950994Z",
     "iopub.status.idle": "2024-03-08T13:23:33.957552Z",
     "shell.execute_reply": "2024-03-08T13:23:33.956497Z"
    },
    "papermill": {
     "duration": 0.021968,
     "end_time": "2024-03-08T13:23:33.959914",
     "exception": false,
     "start_time": "2024-03-08T13:23:33.937946",
     "status": "completed"
    },
    "tags": []
   },
   "outputs": [],
   "source": [
    "data[\"Video Uploads\"] = data[\"Video Uploads\"].fillna(value=data[\"Video Uploads\"].mean()).astype(\"int\")"
   ]
  },
  {
   "cell_type": "code",
   "execution_count": 16,
   "id": "dcb7085d",
   "metadata": {
    "execution": {
     "iopub.execute_input": "2024-03-08T13:23:33.985451Z",
     "iopub.status.busy": "2024-03-08T13:23:33.985042Z",
     "iopub.status.idle": "2024-03-08T13:23:34.653772Z",
     "shell.execute_reply": "2024-03-08T13:23:34.652843Z"
    },
    "papermill": {
     "duration": 0.684006,
     "end_time": "2024-03-08T13:23:34.656161",
     "exception": false,
     "start_time": "2024-03-08T13:23:33.972155",
     "status": "completed"
    },
    "tags": []
   },
   "outputs": [
    {
     "data": {
      "text/plain": [
       "<Axes: >"
      ]
     },
     "execution_count": 16,
     "metadata": {},
     "output_type": "execute_result"
    },
    {
     "data": {
      "image/png": "[encoded data removed]",
      "text/plain": [
       "<Figure size 640x480 with 2 Axes>"
      ]
     },
     "metadata": {},
     "output_type": "display_data"
    }
   ],
   "source": [
    "sns.heatmap(data.isnull())"
   ]
  },
  {
   "cell_type": "markdown",
   "id": "8b3e1d66",
   "metadata": {
    "papermill": {
     "duration": 0.012964,
     "end_time": "2024-03-08T13:23:34.682188",
     "exception": false,
     "start_time": "2024-03-08T13:23:34.669224",
     "status": "completed"
    },
    "tags": []
   },
   "source": [
    "<h1>Data Cleaning [ Grade Column ]\n"
   ]
  },
  {
   "cell_type": "code",
   "execution_count": 17,
   "id": "f98c9588",
   "metadata": {
    "execution": {
     "iopub.execute_input": "2024-03-08T13:23:34.710269Z",
     "iopub.status.busy": "2024-03-08T13:23:34.709500Z",
     "iopub.status.idle": "2024-03-08T13:23:34.717408Z",
     "shell.execute_reply": "2024-03-08T13:23:34.716649Z"
    },
    "papermill": {
     "duration": 0.024474,
     "end_time": "2024-03-08T13:23:34.719517",
     "exception": false,
     "start_time": "2024-03-08T13:23:34.695043",
     "status": "completed"
    },
    "tags": []
   },
   "outputs": [
    {
     "data": {
      "text/plain": [
       "Grade\n",
       "B+      2956\n",
       "A-      1024\n",
       "A        963\n",
       "A+        41\n",
       "A++       10\n",
       "           6\n",
       "Name: count, dtype: int64"
      ]
     },
     "execution_count": 17,
     "metadata": {},
     "output_type": "execute_result"
    }
   ],
   "source": [
    "data[\"Grade\"].value_counts()"
   ]
  },
  {
   "cell_type": "code",
   "execution_count": 18,
   "id": "ce426678",
   "metadata": {
    "execution": {
     "iopub.execute_input": "2024-03-08T13:23:34.747691Z",
     "iopub.status.busy": "2024-03-08T13:23:34.746712Z",
     "iopub.status.idle": "2024-03-08T13:23:34.754291Z",
     "shell.execute_reply": "2024-03-08T13:23:34.753014Z"
    },
    "papermill": {
     "duration": 0.02401,
     "end_time": "2024-03-08T13:23:34.756579",
     "exception": false,
     "start_time": "2024-03-08T13:23:34.732569",
     "status": "completed"
    },
    "tags": []
   },
   "outputs": [],
   "source": [
    "data[\"Grade\"] = data[\"Grade\"].map({\"A++ \": 5, \"A+ \": 4, \"A \": 3, \"A- \": 2, \"B+ \": 1, '\\xa0 ': 1})"
   ]
  },
  {
   "cell_type": "code",
   "execution_count": 19,
   "id": "208fb384",
   "metadata": {
    "execution": {
     "iopub.execute_input": "2024-03-08T13:23:34.785266Z",
     "iopub.status.busy": "2024-03-08T13:23:34.784845Z",
     "iopub.status.idle": "2024-03-08T13:23:34.793195Z",
     "shell.execute_reply": "2024-03-08T13:23:34.791963Z"
    },
    "papermill": {
     "duration": 0.024988,
     "end_time": "2024-03-08T13:23:34.795706",
     "exception": false,
     "start_time": "2024-03-08T13:23:34.770718",
     "status": "completed"
    },
    "tags": []
   },
   "outputs": [
    {
     "data": {
      "text/plain": [
       "Rank              int64\n",
       "Grade             int64\n",
       "Channel name     object\n",
       "Video Uploads     int64\n",
       "Subscribers      object\n",
       "Video views       int64\n",
       "dtype: object"
      ]
     },
     "execution_count": 19,
     "metadata": {},
     "output_type": "execute_result"
    }
   ],
   "source": [
    "data.dtypes"
   ]
  },
  {
   "cell_type": "code",
   "execution_count": null,
   "id": "38bc3594",
   "metadata": {
    "papermill": {
     "duration": 0.013024,
     "end_time": "2024-03-08T13:23:34.822223",
     "exception": false,
     "start_time": "2024-03-08T13:23:34.809199",
     "status": "completed"
    },
    "tags": []
   },
   "outputs": [],
   "source": []
  },
  {
   "cell_type": "markdown",
   "id": "49443f9d",
   "metadata": {
    "papermill": {
     "duration": 0.012973,
     "end_time": "2024-03-08T13:23:34.850196",
     "exception": false,
     "start_time": "2024-03-08T13:23:34.837223",
     "status": "completed"
    },
    "tags": []
   },
   "source": [
    "<h1>Find Average Views For Each Channel\n"
   ]
  },
  {
   "cell_type": "code",
   "execution_count": 20,
   "id": "808a171f",
   "metadata": {
    "execution": {
     "iopub.execute_input": "2024-03-08T13:23:34.878521Z",
     "iopub.status.busy": "2024-03-08T13:23:34.878105Z",
     "iopub.status.idle": "2024-03-08T13:23:34.884494Z",
     "shell.execute_reply": "2024-03-08T13:23:34.883664Z"
    },
    "papermill": {
     "duration": 0.023081,
     "end_time": "2024-03-08T13:23:34.886556",
     "exception": false,
     "start_time": "2024-03-08T13:23:34.863475",
     "status": "completed"
    },
    "tags": []
   },
   "outputs": [
    {
     "data": {
      "text/plain": [
       "Index(['Rank', 'Grade', 'Channel name', 'Video Uploads', 'Subscribers',\n",
       "       'Video views'],\n",
       "      dtype='object')"
      ]
     },
     "execution_count": 20,
     "metadata": {},
     "output_type": "execute_result"
    }
   ],
   "source": [
    "data.columns\n"
   ]
  },
  {
   "cell_type": "code",
   "execution_count": 21,
   "id": "5a2c411a",
   "metadata": {
    "execution": {
     "iopub.execute_input": "2024-03-08T13:23:34.915129Z",
     "iopub.status.busy": "2024-03-08T13:23:34.914444Z",
     "iopub.status.idle": "2024-03-08T13:23:35.237308Z",
     "shell.execute_reply": "2024-03-08T13:23:35.236184Z"
    },
    "papermill": {
     "duration": 0.339997,
     "end_time": "2024-03-08T13:23:35.239758",
     "exception": false,
     "start_time": "2024-03-08T13:23:34.899761",
     "status": "completed"
    },
    "tags": []
   },
   "outputs": [
    {
     "data": {
      "text/plain": [
       "<Axes: ylabel='Channel name'>"
      ]
     },
     "execution_count": 21,
     "metadata": {},
     "output_type": "execute_result"
    },
    {
     "data": {
      "image/png": "[encoded data removed]",
      "text/plain": [
       "<Figure size 640x480 with 1 Axes>"
      ]
     },
     "metadata": {},
     "output_type": "display_data"
    }
   ],
   "source": [
    "data.groupby(\"Channel name\")[\"Video views\"].mean().head(10).plot.barh()"
   ]
  },
  {
   "cell_type": "markdown",
   "id": "f62bff1b",
   "metadata": {
    "execution": {
     "iopub.execute_input": "2024-03-08T13:00:21.425387Z",
     "iopub.status.busy": "2024-03-08T13:00:21.424505Z",
     "iopub.status.idle": "2024-03-08T13:00:21.434650Z",
     "shell.execute_reply": "2024-03-08T13:00:21.433590Z",
     "shell.execute_reply.started": "2024-03-08T13:00:21.425351Z"
    },
    "papermill": {
     "duration": 0.013668,
     "end_time": "2024-03-08T13:23:35.267520",
     "exception": false,
     "start_time": "2024-03-08T13:23:35.253852",
     "status": "completed"
    },
    "tags": []
   },
   "source": [
    "<h1>Find Out Top Five Channels With Maximum Number of Video Uploads\n"
   ]
  },
  {
   "cell_type": "code",
   "execution_count": 22,
   "id": "cfdaf7a0",
   "metadata": {
    "execution": {
     "iopub.execute_input": "2024-03-08T13:23:35.297919Z",
     "iopub.status.busy": "2024-03-08T13:23:35.297479Z",
     "iopub.status.idle": "2024-03-08T13:23:35.571126Z",
     "shell.execute_reply": "2024-03-08T13:23:35.570005Z"
    },
    "papermill": {
     "duration": 0.291582,
     "end_time": "2024-03-08T13:23:35.573518",
     "exception": false,
     "start_time": "2024-03-08T13:23:35.281936",
     "status": "completed"
    },
    "tags": []
   },
   "outputs": [
    {
     "data": {
      "image/png": "[encoded data removed]",
      "text/plain": [
       "<Figure size 640x480 with 1 Axes>"
      ]
     },
     "metadata": {},
     "output_type": "display_data"
    }
   ],
   "source": [
    "data.sort_values(\"Video Uploads\", ascending=False)[[\"Channel name\", \"Video Uploads\"]].head(5)[::-1].set_index(\"Channel name\").plot.barh();"
   ]
  },
  {
   "cell_type": "markdown",
   "id": "a72acf29",
   "metadata": {
    "execution": {
     "iopub.execute_input": "2024-03-08T13:03:39.762174Z",
     "iopub.status.busy": "2024-03-08T13:03:39.760975Z",
     "iopub.status.idle": "2024-03-08T13:03:39.778342Z",
     "shell.execute_reply": "2024-03-08T13:03:39.776940Z",
     "shell.execute_reply.started": "2024-03-08T13:03:39.762127Z"
    },
    "papermill": {
     "duration": 0.014104,
     "end_time": "2024-03-08T13:23:35.602024",
     "exception": false,
     "start_time": "2024-03-08T13:23:35.587920",
     "status": "completed"
    },
    "tags": []
   },
   "source": [
    "<h1>Find Correlation Matrix\n"
   ]
  },
  {
   "cell_type": "code",
   "execution_count": 23,
   "id": "7e386034",
   "metadata": {
    "execution": {
     "iopub.execute_input": "2024-03-08T13:23:35.635347Z",
     "iopub.status.busy": "2024-03-08T13:23:35.634984Z",
     "iopub.status.idle": "2024-03-08T13:23:35.648749Z",
     "shell.execute_reply": "2024-03-08T13:23:35.647556Z"
    },
    "papermill": {
     "duration": 0.034393,
     "end_time": "2024-03-08T13:23:35.651064",
     "exception": false,
     "start_time": "2024-03-08T13:23:35.616671",
     "status": "completed"
    },
    "tags": []
   },
   "outputs": [
    {
     "data": {
      "text/html": [
       "<div>\n",
       "<style scoped>\n",
       "    .dataframe tbody tr th:only-of-type {\n",
       "        vertical-align: middle;\n",
       "    }\n",
       "\n",
       "    .dataframe tbody tr th {\n",
       "        vertical-align: top;\n",
       "    }\n",
       "\n",
       "    .dataframe thead th {\n",
       "        text-align: right;\n",
       "    }\n",
       "</style>\n",
       "<table border=\"1\" class=\"dataframe\">\n",
       "  <thead>\n",
       "    <tr style=\"text-align: right;\">\n",
       "      <th></th>\n",
       "      <th>Rank</th>\n",
       "      <th>Grade</th>\n",
       "      <th>Video Uploads</th>\n",
       "      <th>Video views</th>\n",
       "    </tr>\n",
       "  </thead>\n",
       "  <tbody>\n",
       "    <tr>\n",
       "      <th>Rank</th>\n",
       "      <td>1.000000</td>\n",
       "      <td>-0.862946</td>\n",
       "      <td>-0.069087</td>\n",
       "      <td>-0.390028</td>\n",
       "    </tr>\n",
       "    <tr>\n",
       "      <th>Grade</th>\n",
       "      <td>-0.862946</td>\n",
       "      <td>1.000000</td>\n",
       "      <td>0.085422</td>\n",
       "      <td>0.464048</td>\n",
       "    </tr>\n",
       "    <tr>\n",
       "      <th>Video Uploads</th>\n",
       "      <td>-0.069087</td>\n",
       "      <td>0.085422</td>\n",
       "      <td>1.000000</td>\n",
       "      <td>0.092423</td>\n",
       "    </tr>\n",
       "    <tr>\n",
       "      <th>Video views</th>\n",
       "      <td>-0.390028</td>\n",
       "      <td>0.464048</td>\n",
       "      <td>0.092423</td>\n",
       "      <td>1.000000</td>\n",
       "    </tr>\n",
       "  </tbody>\n",
       "</table>\n",
       "</div>"
      ],
      "text/plain": [
       "                   Rank     Grade  Video Uploads  Video views\n",
       "Rank           1.000000 -0.862946      -0.069087    -0.390028\n",
       "Grade         -0.862946  1.000000       0.085422     0.464048\n",
       "Video Uploads -0.069087  0.085422       1.000000     0.092423\n",
       "Video views   -0.390028  0.464048       0.092423     1.000000"
      ]
     },
     "execution_count": 23,
     "metadata": {},
     "output_type": "execute_result"
    }
   ],
   "source": [
    "corr_matrix = data.corr(numeric_only=True)\n",
    "corr_matrix"
   ]
  },
  {
   "cell_type": "code",
   "execution_count": 24,
   "id": "79833f02",
   "metadata": {
    "execution": {
     "iopub.execute_input": "2024-03-08T13:23:35.682658Z",
     "iopub.status.busy": "2024-03-08T13:23:35.681420Z",
     "iopub.status.idle": "2024-03-08T13:23:36.031785Z",
     "shell.execute_reply": "2024-03-08T13:23:36.030564Z"
    },
    "papermill": {
     "duration": 0.368848,
     "end_time": "2024-03-08T13:23:36.034343",
     "exception": false,
     "start_time": "2024-03-08T13:23:35.665495",
     "status": "completed"
    },
    "tags": []
   },
   "outputs": [
    {
     "data": {
      "text/plain": [
       "<Axes: >"
      ]
     },
     "execution_count": 24,
     "metadata": {},
     "output_type": "execute_result"
    },
    {
     "data": {
      "image/png": "[encoded data removed]",
      "text/plain": [
       "<Figure size 640x480 with 2 Axes>"
      ]
     },
     "metadata": {},
     "output_type": "display_data"
    }
   ],
   "source": [
    "sns.heatmap(corr_matrix, annot=True)"
   ]
  },
  {
   "cell_type": "code",
   "execution_count": 25,
   "id": "388bd7ba",
   "metadata": {
    "execution": {
     "iopub.execute_input": "2024-03-08T13:23:36.067107Z",
     "iopub.status.busy": "2024-03-08T13:23:36.065986Z",
     "iopub.status.idle": "2024-03-08T13:23:40.848975Z",
     "shell.execute_reply": "2024-03-08T13:23:40.847869Z"
    },
    "papermill": {
     "duration": 4.802122,
     "end_time": "2024-03-08T13:23:40.851662",
     "exception": false,
     "start_time": "2024-03-08T13:23:36.049540",
     "status": "completed"
    },
    "tags": []
   },
   "outputs": [
    {
     "data": {
      "image/png": "[encoded data removed]",
      "text/plain": [
       "<Figure size 1000x1000 with 20 Axes>"
      ]
     },
     "metadata": {},
     "output_type": "display_data"
    }
   ],
   "source": [
    "sns.pairplot(corr_matrix);"
   ]
  },
  {
   "cell_type": "markdown",
   "id": "610aaaa8",
   "metadata": {
    "papermill": {
     "duration": 0.015772,
     "end_time": "2024-03-08T13:23:40.885001",
     "exception": false,
     "start_time": "2024-03-08T13:23:40.869229",
     "status": "completed"
    },
    "tags": []
   },
   "source": [
    "<h1>Which Grade Has A Maximum Number of Video Uploads?\n"
   ]
  },
  {
   "cell_type": "code",
   "execution_count": 26,
   "id": "5e3c19c6",
   "metadata": {
    "execution": {
     "iopub.execute_input": "2024-03-08T13:23:40.919902Z",
     "iopub.status.busy": "2024-03-08T13:23:40.919513Z",
     "iopub.status.idle": "2024-03-08T13:23:40.931896Z",
     "shell.execute_reply": "2024-03-08T13:23:40.930877Z"
    },
    "papermill": {
     "duration": 0.03283,
     "end_time": "2024-03-08T13:23:40.934179",
     "exception": false,
     "start_time": "2024-03-08T13:23:40.901349",
     "status": "completed"
    },
    "tags": []
   },
   "outputs": [
    {
     "data": {
      "text/html": [
       "<div>\n",
       "<style scoped>\n",
       "    .dataframe tbody tr th:only-of-type {\n",
       "        vertical-align: middle;\n",
       "    }\n",
       "\n",
       "    .dataframe tbody tr th {\n",
       "        vertical-align: top;\n",
       "    }\n",
       "\n",
       "    .dataframe thead th {\n",
       "        text-align: right;\n",
       "    }\n",
       "</style>\n",
       "<table border=\"1\" class=\"dataframe\">\n",
       "  <thead>\n",
       "    <tr style=\"text-align: right;\">\n",
       "      <th></th>\n",
       "      <th>Rank</th>\n",
       "      <th>Grade</th>\n",
       "      <th>Channel name</th>\n",
       "      <th>Video Uploads</th>\n",
       "      <th>Subscribers</th>\n",
       "      <th>Video views</th>\n",
       "    </tr>\n",
       "  </thead>\n",
       "  <tbody>\n",
       "    <tr>\n",
       "      <th>3453</th>\n",
       "      <td>3454</td>\n",
       "      <td>1</td>\n",
       "      <td>AP Archive</td>\n",
       "      <td>422326</td>\n",
       "      <td>746325</td>\n",
       "      <td>548619569</td>\n",
       "    </tr>\n",
       "  </tbody>\n",
       "</table>\n",
       "</div>"
      ],
      "text/plain": [
       "      Rank  Grade Channel name  Video Uploads Subscribers  Video views\n",
       "3453  3454      1   AP Archive         422326      746325    548619569"
      ]
     },
     "execution_count": 26,
     "metadata": {},
     "output_type": "execute_result"
    }
   ],
   "source": [
    "data[data[\"Video Uploads\"].max() == data[\"Video Uploads\"]]"
   ]
  },
  {
   "cell_type": "markdown",
   "id": "7b71b54a",
   "metadata": {
    "papermill": {
     "duration": 0.015955,
     "end_time": "2024-03-08T13:23:40.966451",
     "exception": false,
     "start_time": "2024-03-08T13:23:40.950496",
     "status": "completed"
    },
    "tags": []
   },
   "source": [
    "<h1>Which Grade Has The Highest Average Views?\n"
   ]
  },
  {
   "cell_type": "code",
   "execution_count": 27,
   "id": "81da1daa",
   "metadata": {
    "execution": {
     "iopub.execute_input": "2024-03-08T13:23:41.001657Z",
     "iopub.status.busy": "2024-03-08T13:23:41.001272Z",
     "iopub.status.idle": "2024-03-08T13:23:41.008582Z",
     "shell.execute_reply": "2024-03-08T13:23:41.007413Z"
    },
    "papermill": {
     "duration": 0.027645,
     "end_time": "2024-03-08T13:23:41.010591",
     "exception": false,
     "start_time": "2024-03-08T13:23:40.982946",
     "status": "completed"
    },
    "tags": []
   },
   "outputs": [
    {
     "data": {
      "text/plain": [
       "Index(['Rank', 'Grade', 'Channel name', 'Video Uploads', 'Subscribers',\n",
       "       'Video views'],\n",
       "      dtype='object')"
      ]
     },
     "execution_count": 27,
     "metadata": {},
     "output_type": "execute_result"
    }
   ],
   "source": [
    "data.columns"
   ]
  },
  {
   "cell_type": "code",
   "execution_count": 28,
   "id": "085d0942",
   "metadata": {
    "execution": {
     "iopub.execute_input": "2024-03-08T13:23:41.045367Z",
     "iopub.status.busy": "2024-03-08T13:23:41.044978Z",
     "iopub.status.idle": "2024-03-08T13:23:41.056854Z",
     "shell.execute_reply": "2024-03-08T13:23:41.055963Z"
    },
    "papermill": {
     "duration": 0.031603,
     "end_time": "2024-03-08T13:23:41.058757",
     "exception": false,
     "start_time": "2024-03-08T13:23:41.027154",
     "status": "completed"
    },
    "tags": []
   },
   "outputs": [
    {
     "data": {
      "text/html": [
       "<div>\n",
       "<style scoped>\n",
       "    .dataframe tbody tr th:only-of-type {\n",
       "        vertical-align: middle;\n",
       "    }\n",
       "\n",
       "    .dataframe tbody tr th {\n",
       "        vertical-align: top;\n",
       "    }\n",
       "\n",
       "    .dataframe thead th {\n",
       "        text-align: right;\n",
       "    }\n",
       "</style>\n",
       "<table border=\"1\" class=\"dataframe\">\n",
       "  <thead>\n",
       "    <tr style=\"text-align: right;\">\n",
       "      <th></th>\n",
       "      <th>Video views</th>\n",
       "    </tr>\n",
       "    <tr>\n",
       "      <th>Grade</th>\n",
       "      <th></th>\n",
       "    </tr>\n",
       "  </thead>\n",
       "  <tbody>\n",
       "    <tr>\n",
       "      <th>5</th>\n",
       "      <td>2.119909e+10</td>\n",
       "    </tr>\n",
       "    <tr>\n",
       "      <th>4</th>\n",
       "      <td>6.053121e+09</td>\n",
       "    </tr>\n",
       "    <tr>\n",
       "      <th>3</th>\n",
       "      <td>2.361317e+09</td>\n",
       "    </tr>\n",
       "    <tr>\n",
       "      <th>2</th>\n",
       "      <td>1.041149e+09</td>\n",
       "    </tr>\n",
       "    <tr>\n",
       "      <th>1</th>\n",
       "      <td>5.256559e+08</td>\n",
       "    </tr>\n",
       "  </tbody>\n",
       "</table>\n",
       "</div>"
      ],
      "text/plain": [
       "        Video views\n",
       "Grade              \n",
       "5      2.119909e+10\n",
       "4      6.053121e+09\n",
       "3      2.361317e+09\n",
       "2      1.041149e+09\n",
       "1      5.256559e+08"
      ]
     },
     "execution_count": 28,
     "metadata": {},
     "output_type": "execute_result"
    }
   ],
   "source": [
    "data.groupby(\"Grade\")[\"Video views\"].mean().to_frame().sort_values(\"Video views\", ascending=False)"
   ]
  },
  {
   "cell_type": "markdown",
   "id": "a1c6f4a4",
   "metadata": {
    "papermill": {
     "duration": 0.016296,
     "end_time": "2024-03-08T13:23:41.091743",
     "exception": false,
     "start_time": "2024-03-08T13:23:41.075447",
     "status": "completed"
    },
    "tags": []
   },
   "source": [
    "<h1>Which Grade Has The Highest Number of Subscribers? \n"
   ]
  },
  {
   "cell_type": "code",
   "execution_count": 29,
   "id": "1a7826c7",
   "metadata": {
    "execution": {
     "iopub.execute_input": "2024-03-08T13:23:41.126801Z",
     "iopub.status.busy": "2024-03-08T13:23:41.126385Z",
     "iopub.status.idle": "2024-03-08T13:23:41.132881Z",
     "shell.execute_reply": "2024-03-08T13:23:41.132153Z"
    },
    "papermill": {
     "duration": 0.026331,
     "end_time": "2024-03-08T13:23:41.135054",
     "exception": false,
     "start_time": "2024-03-08T13:23:41.108723",
     "status": "completed"
    },
    "tags": []
   },
   "outputs": [
    {
     "data": {
      "text/plain": [
       "Index(['Rank', 'Grade', 'Channel name', 'Video Uploads', 'Subscribers',\n",
       "       'Video views'],\n",
       "      dtype='object')"
      ]
     },
     "execution_count": 29,
     "metadata": {},
     "output_type": "execute_result"
    }
   ],
   "source": [
    "data.columns\n"
   ]
  },
  {
   "cell_type": "code",
   "execution_count": 30,
   "id": "83414900",
   "metadata": {
    "execution": {
     "iopub.execute_input": "2024-03-08T13:23:41.170153Z",
     "iopub.status.busy": "2024-03-08T13:23:41.169769Z",
     "iopub.status.idle": "2024-03-08T13:23:41.187104Z",
     "shell.execute_reply": "2024-03-08T13:23:41.185903Z"
    },
    "papermill": {
     "duration": 0.037669,
     "end_time": "2024-03-08T13:23:41.189458",
     "exception": false,
     "start_time": "2024-03-08T13:23:41.151789",
     "status": "completed"
    },
    "tags": []
   },
   "outputs": [
    {
     "data": {
      "text/html": [
       "<div>\n",
       "<style scoped>\n",
       "    .dataframe tbody tr th:only-of-type {\n",
       "        vertical-align: middle;\n",
       "    }\n",
       "\n",
       "    .dataframe tbody tr th {\n",
       "        vertical-align: top;\n",
       "    }\n",
       "\n",
       "    .dataframe thead th {\n",
       "        text-align: right;\n",
       "    }\n",
       "</style>\n",
       "<table border=\"1\" class=\"dataframe\">\n",
       "  <thead>\n",
       "    <tr style=\"text-align: right;\">\n",
       "      <th></th>\n",
       "      <th>Rank</th>\n",
       "      <th>Grade</th>\n",
       "      <th>Channel name</th>\n",
       "      <th>Video Uploads</th>\n",
       "      <th>Subscribers</th>\n",
       "      <th>Video views</th>\n",
       "    </tr>\n",
       "  </thead>\n",
       "  <tbody>\n",
       "    <tr>\n",
       "      <th>1002</th>\n",
       "      <td>1003</td>\n",
       "      <td>3</td>\n",
       "      <td>BIGBANG</td>\n",
       "      <td>769</td>\n",
       "      <td>9998464</td>\n",
       "      <td>4756874954</td>\n",
       "    </tr>\n",
       "  </tbody>\n",
       "</table>\n",
       "</div>"
      ],
      "text/plain": [
       "      Rank  Grade Channel name  Video Uploads Subscribers  Video views\n",
       "1002  1003      3      BIGBANG            769     9998464   4756874954"
      ]
     },
     "execution_count": 30,
     "metadata": {},
     "output_type": "execute_result"
    }
   ],
   "source": [
    "data.sort_values(data.columns[4], ascending=False).head(1)"
   ]
  },
  {
   "cell_type": "markdown",
   "id": "18ad5df7",
   "metadata": {
    "papermill": {
     "duration": 0.017635,
     "end_time": "2024-03-08T13:23:41.224109",
     "exception": false,
     "start_time": "2024-03-08T13:23:41.206474",
     "status": "completed"
    },
    "tags": []
   },
   "source": [
    "<h1>Which Grade Has The Highest Video Views?"
   ]
  },
  {
   "cell_type": "code",
   "execution_count": 31,
   "id": "58e7780f",
   "metadata": {
    "execution": {
     "iopub.execute_input": "2024-03-08T13:23:41.259472Z",
     "iopub.status.busy": "2024-03-08T13:23:41.259062Z",
     "iopub.status.idle": "2024-03-08T13:23:41.265612Z",
     "shell.execute_reply": "2024-03-08T13:23:41.264619Z"
    },
    "papermill": {
     "duration": 0.026647,
     "end_time": "2024-03-08T13:23:41.267576",
     "exception": false,
     "start_time": "2024-03-08T13:23:41.240929",
     "status": "completed"
    },
    "tags": []
   },
   "outputs": [
    {
     "data": {
      "text/plain": [
       "Index(['Rank', 'Grade', 'Channel name', 'Video Uploads', 'Subscribers',\n",
       "       'Video views'],\n",
       "      dtype='object')"
      ]
     },
     "execution_count": 31,
     "metadata": {},
     "output_type": "execute_result"
    }
   ],
   "source": [
    "data.columns"
   ]
  },
  {
   "cell_type": "code",
   "execution_count": 32,
   "id": "16a76a08",
   "metadata": {
    "execution": {
     "iopub.execute_input": "2024-03-08T13:23:41.303242Z",
     "iopub.status.busy": "2024-03-08T13:23:41.302800Z",
     "iopub.status.idle": "2024-03-08T13:23:41.316944Z",
     "shell.execute_reply": "2024-03-08T13:23:41.315753Z"
    },
    "papermill": {
     "duration": 0.034689,
     "end_time": "2024-03-08T13:23:41.319152",
     "exception": false,
     "start_time": "2024-03-08T13:23:41.284463",
     "status": "completed"
    },
    "tags": []
   },
   "outputs": [
    {
     "data": {
      "text/html": [
       "<div>\n",
       "<style scoped>\n",
       "    .dataframe tbody tr th:only-of-type {\n",
       "        vertical-align: middle;\n",
       "    }\n",
       "\n",
       "    .dataframe tbody tr th {\n",
       "        vertical-align: top;\n",
       "    }\n",
       "\n",
       "    .dataframe thead th {\n",
       "        text-align: right;\n",
       "    }\n",
       "</style>\n",
       "<table border=\"1\" class=\"dataframe\">\n",
       "  <thead>\n",
       "    <tr style=\"text-align: right;\">\n",
       "      <th></th>\n",
       "      <th>Rank</th>\n",
       "      <th>Grade</th>\n",
       "      <th>Channel name</th>\n",
       "      <th>Video Uploads</th>\n",
       "      <th>Subscribers</th>\n",
       "      <th>Video views</th>\n",
       "    </tr>\n",
       "  </thead>\n",
       "  <tbody>\n",
       "    <tr>\n",
       "      <th>1</th>\n",
       "      <td>2</td>\n",
       "      <td>5</td>\n",
       "      <td>T-Series</td>\n",
       "      <td>12661</td>\n",
       "      <td>61196302</td>\n",
       "      <td>47548839843</td>\n",
       "    </tr>\n",
       "  </tbody>\n",
       "</table>\n",
       "</div>"
      ],
      "text/plain": [
       "   Rank  Grade Channel name  Video Uploads Subscribers  Video views\n",
       "1     2      5     T-Series          12661    61196302  47548839843"
      ]
     },
     "execution_count": 32,
     "metadata": {},
     "output_type": "execute_result"
    }
   ],
   "source": [
    "data.sort_values(data.columns[-1], ascending=False).head(1)"
   ]
  },
  {
   "cell_type": "code",
   "execution_count": null,
   "id": "2fcba04a",
   "metadata": {
    "papermill": {
     "duration": 0.01666,
     "end_time": "2024-03-08T13:23:41.352483",
     "exception": false,
     "start_time": "2024-03-08T13:23:41.335823",
     "status": "completed"
    },
    "tags": []
   },
   "outputs": [],
   "source": []
  }
 ],
 "metadata": {
  "kaggle": {
   "accelerator": "none",
   "dataSources": [
    {
     "datasetId": 1251585,
     "sourceId": 2087509,
     "sourceType": "datasetVersion"
    }
   ],
   "dockerImageVersionId": 30664,
   "isGpuEnabled": false,
   "isInternetEnabled": false,
   "language": "python",
   "sourceType": "notebook"
  },
  "kernelspec": {
   "display_name": "Python 3",
   "language": "python",
   "name": "python3"
  },
  "language_info": {
   "codemirror_mode": {
    "name": "ipython",
    "version": 3
   },
   "file_extension": ".py",
   "mimetype": "text/x-python",
   "name": "python",
   "nbconvert_exporter": "python",
   "pygments_lexer": "ipython3",
   "version": "3.10.13"
  },
  "papermill": {
   "default_parameters": {},
   "duration": 13.933341,
   "end_time": "2024-03-08T13:23:42.090443",
   "environment_variables": {},
   "exception": null,
   "input_path": "__notebook__.ipynb",
   "output_path": "__notebook__.ipynb",
   "parameters": {},
   "start_time": "2024-03-08T13:23:28.157102",
   "version": "2.5.0"
  }
 },
 "nbformat": 4,
 "nbformat_minor": 5
}
