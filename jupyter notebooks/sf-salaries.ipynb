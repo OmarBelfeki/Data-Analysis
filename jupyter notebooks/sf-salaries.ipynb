{
 "cells": [
  {
   "cell_type": "code",
   "execution_count": 1,
   "id": "3f602f88",
   "metadata": {
    "_cell_guid": "b1076dfc-b9ad-4769-8c92-a6c4dae69d19",
    "_uuid": "8f2839f25d086af736a60e9eeb907d3b93b6e0e5",
    "execution": {
     "iopub.execute_input": "2024-03-08T13:34:02.608872Z",
     "iopub.status.busy": "2024-03-08T13:34:02.608422Z",
     "iopub.status.idle": "2024-03-08T13:34:04.957362Z",
     "shell.execute_reply": "2024-03-08T13:34:04.956252Z"
    },
    "papermill": {
     "duration": 2.36532,
     "end_time": "2024-03-08T13:34:04.959625",
     "exception": false,
     "start_time": "2024-03-08T13:34:02.594305",
     "status": "completed"
    },
    "tags": []
   },
   "outputs": [
    {
     "name": "stdout",
     "output_type": "stream",
     "text": [
      "/kaggle/input/sf-salaries/Salaries.csv\n",
      "/kaggle/input/sf-salaries/database.sqlite\n"
     ]
    }
   ],
   "source": [
    "# This Python 3 environment comes with many helpful analytics libraries installed\n",
    "# It is defined by the kaggle/python Docker image: https://github.com/kaggle/docker-python\n",
    "# For example, here's several helpful packages to load\n",
    "\n",
    "import numpy as np # linear algebra\n",
    "import pandas as pd # data processing, CSV file I/O (e.g. pd.read_csv)\n",
    "import seaborn as sns\n",
    "import matplotlib.pyplot as plt\n",
    "\n",
    "# Input data files are available in the read-only \"../input/\" directory\n",
    "# For example, running this (by clicking run or pressing Shift+Enter) will list all files under the input directory\n",
    "\n",
    "import os\n",
    "for dirname, _, filenames in os.walk('/kaggle/input'):\n",
    "    for filename in filenames:\n",
    "        print(os.path.join(dirname, filename))\n",
    "\n",
    "# You can write up to 20GB to the current directory (/kaggle/working/) that gets preserved as output when you create a version using \"Save & Run All\" \n",
    "# You can also write temporary files to /kaggle/temp/, but they won't be saved outside of the current session\n",
    "\n",
    "import warnings\n",
    "warnings.filterwarnings(action=\"ignore\")"
   ]
  },
  {
   "cell_type": "code",
   "execution_count": 2,
   "id": "52a0e9e4",
   "metadata": {
    "execution": {
     "iopub.execute_input": "2024-03-08T13:34:04.985931Z",
     "iopub.status.busy": "2024-03-08T13:34:04.985428Z",
     "iopub.status.idle": "2024-03-08T13:34:05.853886Z",
     "shell.execute_reply": "2024-03-08T13:34:05.852497Z"
    },
    "papermill": {
     "duration": 0.884482,
     "end_time": "2024-03-08T13:34:05.856447",
     "exception": false,
     "start_time": "2024-03-08T13:34:04.971965",
     "status": "completed"
    },
    "tags": []
   },
   "outputs": [],
   "source": [
    "data = pd.read_csv(\"/kaggle/input/sf-salaries/Salaries.csv\", low_memory=False)"
   ]
  },
  {
   "cell_type": "markdown",
   "id": "a9ac0f0e",
   "metadata": {
    "papermill": {
     "duration": 0.013089,
     "end_time": "2024-03-08T13:34:05.881830",
     "exception": false,
     "start_time": "2024-03-08T13:34:05.868741",
     "status": "completed"
    },
    "tags": []
   },
   "source": [
    "<h1>Display Top 10 Rows of The Dataset"
   ]
  },
  {
   "cell_type": "code",
   "execution_count": 3,
   "id": "6ab79e4a",
   "metadata": {
    "execution": {
     "iopub.execute_input": "2024-03-08T13:34:05.910202Z",
     "iopub.status.busy": "2024-03-08T13:34:05.909803Z",
     "iopub.status.idle": "2024-03-08T13:34:05.935295Z",
     "shell.execute_reply": "2024-03-08T13:34:05.934146Z"
    },
    "papermill": {
     "duration": 0.042238,
     "end_time": "2024-03-08T13:34:05.937605",
     "exception": false,
     "start_time": "2024-03-08T13:34:05.895367",
     "status": "completed"
    },
    "tags": []
   },
   "outputs": [
    {
     "data": {
      "text/html": [
       "<div>\n",
       "<style scoped>\n",
       "    .dataframe tbody tr th:only-of-type {\n",
       "        vertical-align: middle;\n",
       "    }\n",
       "\n",
       "    .dataframe tbody tr th {\n",
       "        vertical-align: top;\n",
       "    }\n",
       "\n",
       "    .dataframe thead th {\n",
       "        text-align: right;\n",
       "    }\n",
       "</style>\n",
       "<table border=\"1\" class=\"dataframe\">\n",
       "  <thead>\n",
       "    <tr style=\"text-align: right;\">\n",
       "      <th></th>\n",
       "      <th>Id</th>\n",
       "      <th>EmployeeName</th>\n",
       "      <th>JobTitle</th>\n",
       "      <th>BasePay</th>\n",
       "      <th>OvertimePay</th>\n",
       "      <th>OtherPay</th>\n",
       "      <th>Benefits</th>\n",
       "      <th>TotalPay</th>\n",
       "      <th>TotalPayBenefits</th>\n",
       "      <th>Year</th>\n",
       "      <th>Notes</th>\n",
       "      <th>Agency</th>\n",
       "      <th>Status</th>\n",
       "    </tr>\n",
       "  </thead>\n",
       "  <tbody>\n",
       "    <tr>\n",
       "      <th>0</th>\n",
       "      <td>1</td>\n",
       "      <td>NATHANIEL FORD</td>\n",
       "      <td>GENERAL MANAGER-METROPOLITAN TRANSIT AUTHORITY</td>\n",
       "      <td>167411.18</td>\n",
       "      <td>0.0</td>\n",
       "      <td>400184.25</td>\n",
       "      <td>NaN</td>\n",
       "      <td>567595.43</td>\n",
       "      <td>567595.43</td>\n",
       "      <td>2011</td>\n",
       "      <td>NaN</td>\n",
       "      <td>San Francisco</td>\n",
       "      <td>NaN</td>\n",
       "    </tr>\n",
       "    <tr>\n",
       "      <th>1</th>\n",
       "      <td>2</td>\n",
       "      <td>GARY JIMENEZ</td>\n",
       "      <td>CAPTAIN III (POLICE DEPARTMENT)</td>\n",
       "      <td>155966.02</td>\n",
       "      <td>245131.88</td>\n",
       "      <td>137811.38</td>\n",
       "      <td>NaN</td>\n",
       "      <td>538909.28</td>\n",
       "      <td>538909.28</td>\n",
       "      <td>2011</td>\n",
       "      <td>NaN</td>\n",
       "      <td>San Francisco</td>\n",
       "      <td>NaN</td>\n",
       "    </tr>\n",
       "    <tr>\n",
       "      <th>2</th>\n",
       "      <td>3</td>\n",
       "      <td>ALBERT PARDINI</td>\n",
       "      <td>CAPTAIN III (POLICE DEPARTMENT)</td>\n",
       "      <td>212739.13</td>\n",
       "      <td>106088.18</td>\n",
       "      <td>16452.6</td>\n",
       "      <td>NaN</td>\n",
       "      <td>335279.91</td>\n",
       "      <td>335279.91</td>\n",
       "      <td>2011</td>\n",
       "      <td>NaN</td>\n",
       "      <td>San Francisco</td>\n",
       "      <td>NaN</td>\n",
       "    </tr>\n",
       "    <tr>\n",
       "      <th>3</th>\n",
       "      <td>4</td>\n",
       "      <td>CHRISTOPHER CHONG</td>\n",
       "      <td>WIRE ROPE CABLE MAINTENANCE MECHANIC</td>\n",
       "      <td>77916.0</td>\n",
       "      <td>56120.71</td>\n",
       "      <td>198306.9</td>\n",
       "      <td>NaN</td>\n",
       "      <td>332343.61</td>\n",
       "      <td>332343.61</td>\n",
       "      <td>2011</td>\n",
       "      <td>NaN</td>\n",
       "      <td>San Francisco</td>\n",
       "      <td>NaN</td>\n",
       "    </tr>\n",
       "    <tr>\n",
       "      <th>4</th>\n",
       "      <td>5</td>\n",
       "      <td>PATRICK GARDNER</td>\n",
       "      <td>DEPUTY CHIEF OF DEPARTMENT,(FIRE DEPARTMENT)</td>\n",
       "      <td>134401.6</td>\n",
       "      <td>9737.0</td>\n",
       "      <td>182234.59</td>\n",
       "      <td>NaN</td>\n",
       "      <td>326373.19</td>\n",
       "      <td>326373.19</td>\n",
       "      <td>2011</td>\n",
       "      <td>NaN</td>\n",
       "      <td>San Francisco</td>\n",
       "      <td>NaN</td>\n",
       "    </tr>\n",
       "  </tbody>\n",
       "</table>\n",
       "</div>"
      ],
      "text/plain": [
       "   Id       EmployeeName                                        JobTitle  \\\n",
       "0   1     NATHANIEL FORD  GENERAL MANAGER-METROPOLITAN TRANSIT AUTHORITY   \n",
       "1   2       GARY JIMENEZ                 CAPTAIN III (POLICE DEPARTMENT)   \n",
       "2   3     ALBERT PARDINI                 CAPTAIN III (POLICE DEPARTMENT)   \n",
       "3   4  CHRISTOPHER CHONG            WIRE ROPE CABLE MAINTENANCE MECHANIC   \n",
       "4   5    PATRICK GARDNER    DEPUTY CHIEF OF DEPARTMENT,(FIRE DEPARTMENT)   \n",
       "\n",
       "     BasePay OvertimePay   OtherPay Benefits   TotalPay  TotalPayBenefits  \\\n",
       "0  167411.18         0.0  400184.25      NaN  567595.43         567595.43   \n",
       "1  155966.02   245131.88  137811.38      NaN  538909.28         538909.28   \n",
       "2  212739.13   106088.18    16452.6      NaN  335279.91         335279.91   \n",
       "3    77916.0    56120.71   198306.9      NaN  332343.61         332343.61   \n",
       "4   134401.6      9737.0  182234.59      NaN  326373.19         326373.19   \n",
       "\n",
       "   Year  Notes         Agency Status  \n",
       "0  2011    NaN  San Francisco    NaN  \n",
       "1  2011    NaN  San Francisco    NaN  \n",
       "2  2011    NaN  San Francisco    NaN  \n",
       "3  2011    NaN  San Francisco    NaN  \n",
       "4  2011    NaN  San Francisco    NaN  "
      ]
     },
     "execution_count": 3,
     "metadata": {},
     "output_type": "execute_result"
    }
   ],
   "source": [
    "data.head()"
   ]
  },
  {
   "cell_type": "markdown",
   "id": "4f2191ed",
   "metadata": {
    "papermill": {
     "duration": 0.012891,
     "end_time": "2024-03-08T13:34:05.963176",
     "exception": false,
     "start_time": "2024-03-08T13:34:05.950285",
     "status": "completed"
    },
    "tags": []
   },
   "source": [
    "<h1>Check Last 10 Rows of The Dataset"
   ]
  },
  {
   "cell_type": "code",
   "execution_count": 4,
   "id": "7e171366",
   "metadata": {
    "execution": {
     "iopub.execute_input": "2024-03-08T13:34:05.990114Z",
     "iopub.status.busy": "2024-03-08T13:34:05.989723Z",
     "iopub.status.idle": "2024-03-08T13:34:06.008503Z",
     "shell.execute_reply": "2024-03-08T13:34:06.007361Z"
    },
    "papermill": {
     "duration": 0.035336,
     "end_time": "2024-03-08T13:34:06.010913",
     "exception": false,
     "start_time": "2024-03-08T13:34:05.975577",
     "status": "completed"
    },
    "tags": []
   },
   "outputs": [
    {
     "data": {
      "text/html": [
       "<div>\n",
       "<style scoped>\n",
       "    .dataframe tbody tr th:only-of-type {\n",
       "        vertical-align: middle;\n",
       "    }\n",
       "\n",
       "    .dataframe tbody tr th {\n",
       "        vertical-align: top;\n",
       "    }\n",
       "\n",
       "    .dataframe thead th {\n",
       "        text-align: right;\n",
       "    }\n",
       "</style>\n",
       "<table border=\"1\" class=\"dataframe\">\n",
       "  <thead>\n",
       "    <tr style=\"text-align: right;\">\n",
       "      <th></th>\n",
       "      <th>Id</th>\n",
       "      <th>EmployeeName</th>\n",
       "      <th>JobTitle</th>\n",
       "      <th>BasePay</th>\n",
       "      <th>OvertimePay</th>\n",
       "      <th>OtherPay</th>\n",
       "      <th>Benefits</th>\n",
       "      <th>TotalPay</th>\n",
       "      <th>TotalPayBenefits</th>\n",
       "      <th>Year</th>\n",
       "      <th>Notes</th>\n",
       "      <th>Agency</th>\n",
       "      <th>Status</th>\n",
       "    </tr>\n",
       "  </thead>\n",
       "  <tbody>\n",
       "    <tr>\n",
       "      <th>148644</th>\n",
       "      <td>148645</td>\n",
       "      <td>Randy D Winn</td>\n",
       "      <td>Stationary Eng, Sewage Plant</td>\n",
       "      <td>0.00</td>\n",
       "      <td>0.00</td>\n",
       "      <td>0.00</td>\n",
       "      <td>0.00</td>\n",
       "      <td>0.00</td>\n",
       "      <td>0.00</td>\n",
       "      <td>2014</td>\n",
       "      <td>NaN</td>\n",
       "      <td>San Francisco</td>\n",
       "      <td>PT</td>\n",
       "    </tr>\n",
       "    <tr>\n",
       "      <th>148645</th>\n",
       "      <td>148646</td>\n",
       "      <td>Carolyn A Wilson</td>\n",
       "      <td>Human Services Technician</td>\n",
       "      <td>0.00</td>\n",
       "      <td>0.00</td>\n",
       "      <td>0.00</td>\n",
       "      <td>0.00</td>\n",
       "      <td>0.00</td>\n",
       "      <td>0.00</td>\n",
       "      <td>2014</td>\n",
       "      <td>NaN</td>\n",
       "      <td>San Francisco</td>\n",
       "      <td>PT</td>\n",
       "    </tr>\n",
       "    <tr>\n",
       "      <th>148646</th>\n",
       "      <td>148647</td>\n",
       "      <td>Not provided</td>\n",
       "      <td>Not provided</td>\n",
       "      <td>Not Provided</td>\n",
       "      <td>Not Provided</td>\n",
       "      <td>Not Provided</td>\n",
       "      <td>Not Provided</td>\n",
       "      <td>0.00</td>\n",
       "      <td>0.00</td>\n",
       "      <td>2014</td>\n",
       "      <td>NaN</td>\n",
       "      <td>San Francisco</td>\n",
       "      <td>NaN</td>\n",
       "    </tr>\n",
       "    <tr>\n",
       "      <th>148647</th>\n",
       "      <td>148648</td>\n",
       "      <td>Joann Anderson</td>\n",
       "      <td>Communications Dispatcher 2</td>\n",
       "      <td>0.00</td>\n",
       "      <td>0.00</td>\n",
       "      <td>0.00</td>\n",
       "      <td>0.00</td>\n",
       "      <td>0.00</td>\n",
       "      <td>0.00</td>\n",
       "      <td>2014</td>\n",
       "      <td>NaN</td>\n",
       "      <td>San Francisco</td>\n",
       "      <td>PT</td>\n",
       "    </tr>\n",
       "    <tr>\n",
       "      <th>148648</th>\n",
       "      <td>148649</td>\n",
       "      <td>Leon Walker</td>\n",
       "      <td>Custodian</td>\n",
       "      <td>0.00</td>\n",
       "      <td>0.00</td>\n",
       "      <td>0.00</td>\n",
       "      <td>0.00</td>\n",
       "      <td>0.00</td>\n",
       "      <td>0.00</td>\n",
       "      <td>2014</td>\n",
       "      <td>NaN</td>\n",
       "      <td>San Francisco</td>\n",
       "      <td>PT</td>\n",
       "    </tr>\n",
       "    <tr>\n",
       "      <th>148649</th>\n",
       "      <td>148650</td>\n",
       "      <td>Roy I Tillery</td>\n",
       "      <td>Custodian</td>\n",
       "      <td>0.00</td>\n",
       "      <td>0.00</td>\n",
       "      <td>0.00</td>\n",
       "      <td>0.00</td>\n",
       "      <td>0.00</td>\n",
       "      <td>0.00</td>\n",
       "      <td>2014</td>\n",
       "      <td>NaN</td>\n",
       "      <td>San Francisco</td>\n",
       "      <td>PT</td>\n",
       "    </tr>\n",
       "    <tr>\n",
       "      <th>148650</th>\n",
       "      <td>148651</td>\n",
       "      <td>Not provided</td>\n",
       "      <td>Not provided</td>\n",
       "      <td>Not Provided</td>\n",
       "      <td>Not Provided</td>\n",
       "      <td>Not Provided</td>\n",
       "      <td>Not Provided</td>\n",
       "      <td>0.00</td>\n",
       "      <td>0.00</td>\n",
       "      <td>2014</td>\n",
       "      <td>NaN</td>\n",
       "      <td>San Francisco</td>\n",
       "      <td>NaN</td>\n",
       "    </tr>\n",
       "    <tr>\n",
       "      <th>148651</th>\n",
       "      <td>148652</td>\n",
       "      <td>Not provided</td>\n",
       "      <td>Not provided</td>\n",
       "      <td>Not Provided</td>\n",
       "      <td>Not Provided</td>\n",
       "      <td>Not Provided</td>\n",
       "      <td>Not Provided</td>\n",
       "      <td>0.00</td>\n",
       "      <td>0.00</td>\n",
       "      <td>2014</td>\n",
       "      <td>NaN</td>\n",
       "      <td>San Francisco</td>\n",
       "      <td>NaN</td>\n",
       "    </tr>\n",
       "    <tr>\n",
       "      <th>148652</th>\n",
       "      <td>148653</td>\n",
       "      <td>Not provided</td>\n",
       "      <td>Not provided</td>\n",
       "      <td>Not Provided</td>\n",
       "      <td>Not Provided</td>\n",
       "      <td>Not Provided</td>\n",
       "      <td>Not Provided</td>\n",
       "      <td>0.00</td>\n",
       "      <td>0.00</td>\n",
       "      <td>2014</td>\n",
       "      <td>NaN</td>\n",
       "      <td>San Francisco</td>\n",
       "      <td>NaN</td>\n",
       "    </tr>\n",
       "    <tr>\n",
       "      <th>148653</th>\n",
       "      <td>148654</td>\n",
       "      <td>Joe Lopez</td>\n",
       "      <td>Counselor, Log Cabin Ranch</td>\n",
       "      <td>0.00</td>\n",
       "      <td>0.00</td>\n",
       "      <td>-618.13</td>\n",
       "      <td>0.00</td>\n",
       "      <td>-618.13</td>\n",
       "      <td>-618.13</td>\n",
       "      <td>2014</td>\n",
       "      <td>NaN</td>\n",
       "      <td>San Francisco</td>\n",
       "      <td>PT</td>\n",
       "    </tr>\n",
       "  </tbody>\n",
       "</table>\n",
       "</div>"
      ],
      "text/plain": [
       "            Id      EmployeeName                      JobTitle       BasePay  \\\n",
       "148644  148645      Randy D Winn  Stationary Eng, Sewage Plant          0.00   \n",
       "148645  148646  Carolyn A Wilson     Human Services Technician          0.00   \n",
       "148646  148647      Not provided                  Not provided  Not Provided   \n",
       "148647  148648    Joann Anderson   Communications Dispatcher 2          0.00   \n",
       "148648  148649       Leon Walker                     Custodian          0.00   \n",
       "148649  148650     Roy I Tillery                     Custodian          0.00   \n",
       "148650  148651      Not provided                  Not provided  Not Provided   \n",
       "148651  148652      Not provided                  Not provided  Not Provided   \n",
       "148652  148653      Not provided                  Not provided  Not Provided   \n",
       "148653  148654         Joe Lopez    Counselor, Log Cabin Ranch          0.00   \n",
       "\n",
       "         OvertimePay      OtherPay      Benefits  TotalPay  TotalPayBenefits  \\\n",
       "148644          0.00          0.00          0.00      0.00              0.00   \n",
       "148645          0.00          0.00          0.00      0.00              0.00   \n",
       "148646  Not Provided  Not Provided  Not Provided      0.00              0.00   \n",
       "148647          0.00          0.00          0.00      0.00              0.00   \n",
       "148648          0.00          0.00          0.00      0.00              0.00   \n",
       "148649          0.00          0.00          0.00      0.00              0.00   \n",
       "148650  Not Provided  Not Provided  Not Provided      0.00              0.00   \n",
       "148651  Not Provided  Not Provided  Not Provided      0.00              0.00   \n",
       "148652  Not Provided  Not Provided  Not Provided      0.00              0.00   \n",
       "148653          0.00       -618.13          0.00   -618.13           -618.13   \n",
       "\n",
       "        Year  Notes         Agency Status  \n",
       "148644  2014    NaN  San Francisco     PT  \n",
       "148645  2014    NaN  San Francisco     PT  \n",
       "148646  2014    NaN  San Francisco    NaN  \n",
       "148647  2014    NaN  San Francisco     PT  \n",
       "148648  2014    NaN  San Francisco     PT  \n",
       "148649  2014    NaN  San Francisco     PT  \n",
       "148650  2014    NaN  San Francisco    NaN  \n",
       "148651  2014    NaN  San Francisco    NaN  \n",
       "148652  2014    NaN  San Francisco    NaN  \n",
       "148653  2014    NaN  San Francisco     PT  "
      ]
     },
     "execution_count": 4,
     "metadata": {},
     "output_type": "execute_result"
    }
   ],
   "source": [
    "data.tail(10)"
   ]
  },
  {
   "cell_type": "markdown",
   "id": "13812573",
   "metadata": {
    "papermill": {
     "duration": 0.012489,
     "end_time": "2024-03-08T13:34:06.036255",
     "exception": false,
     "start_time": "2024-03-08T13:34:06.023766",
     "status": "completed"
    },
    "tags": []
   },
   "source": [
    "<h1>Find Shape of Our Dataset (Number of Rows And Number of Columns)"
   ]
  },
  {
   "cell_type": "code",
   "execution_count": 5,
   "id": "d498978f",
   "metadata": {
    "execution": {
     "iopub.execute_input": "2024-03-08T13:34:06.063800Z",
     "iopub.status.busy": "2024-03-08T13:34:06.062906Z",
     "iopub.status.idle": "2024-03-08T13:34:06.113155Z",
     "shell.execute_reply": "2024-03-08T13:34:06.112146Z"
    },
    "papermill": {
     "duration": 0.066434,
     "end_time": "2024-03-08T13:34:06.115393",
     "exception": false,
     "start_time": "2024-03-08T13:34:06.048959",
     "status": "completed"
    },
    "tags": []
   },
   "outputs": [
    {
     "data": {
      "text/html": [
       "<div>\n",
       "<style scoped>\n",
       "    .dataframe tbody tr th:only-of-type {\n",
       "        vertical-align: middle;\n",
       "    }\n",
       "\n",
       "    .dataframe tbody tr th {\n",
       "        vertical-align: top;\n",
       "    }\n",
       "\n",
       "    .dataframe thead th {\n",
       "        text-align: right;\n",
       "    }\n",
       "</style>\n",
       "<table border=\"1\" class=\"dataframe\">\n",
       "  <thead>\n",
       "    <tr style=\"text-align: right;\">\n",
       "      <th></th>\n",
       "      <th>Id</th>\n",
       "      <th>TotalPay</th>\n",
       "      <th>TotalPayBenefits</th>\n",
       "      <th>Year</th>\n",
       "      <th>Notes</th>\n",
       "    </tr>\n",
       "  </thead>\n",
       "  <tbody>\n",
       "    <tr>\n",
       "      <th>count</th>\n",
       "      <td>148654.000000</td>\n",
       "      <td>148654.000000</td>\n",
       "      <td>148654.000000</td>\n",
       "      <td>148654.000000</td>\n",
       "      <td>0.0</td>\n",
       "    </tr>\n",
       "    <tr>\n",
       "      <th>mean</th>\n",
       "      <td>74327.500000</td>\n",
       "      <td>74768.321972</td>\n",
       "      <td>93692.554811</td>\n",
       "      <td>2012.522643</td>\n",
       "      <td>NaN</td>\n",
       "    </tr>\n",
       "    <tr>\n",
       "      <th>std</th>\n",
       "      <td>42912.857795</td>\n",
       "      <td>50517.005274</td>\n",
       "      <td>62793.533483</td>\n",
       "      <td>1.117538</td>\n",
       "      <td>NaN</td>\n",
       "    </tr>\n",
       "    <tr>\n",
       "      <th>min</th>\n",
       "      <td>1.000000</td>\n",
       "      <td>-618.130000</td>\n",
       "      <td>-618.130000</td>\n",
       "      <td>2011.000000</td>\n",
       "      <td>NaN</td>\n",
       "    </tr>\n",
       "    <tr>\n",
       "      <th>25%</th>\n",
       "      <td>37164.250000</td>\n",
       "      <td>36168.995000</td>\n",
       "      <td>44065.650000</td>\n",
       "      <td>2012.000000</td>\n",
       "      <td>NaN</td>\n",
       "    </tr>\n",
       "    <tr>\n",
       "      <th>50%</th>\n",
       "      <td>74327.500000</td>\n",
       "      <td>71426.610000</td>\n",
       "      <td>92404.090000</td>\n",
       "      <td>2013.000000</td>\n",
       "      <td>NaN</td>\n",
       "    </tr>\n",
       "    <tr>\n",
       "      <th>75%</th>\n",
       "      <td>111490.750000</td>\n",
       "      <td>105839.135000</td>\n",
       "      <td>132876.450000</td>\n",
       "      <td>2014.000000</td>\n",
       "      <td>NaN</td>\n",
       "    </tr>\n",
       "    <tr>\n",
       "      <th>max</th>\n",
       "      <td>148654.000000</td>\n",
       "      <td>567595.430000</td>\n",
       "      <td>567595.430000</td>\n",
       "      <td>2014.000000</td>\n",
       "      <td>NaN</td>\n",
       "    </tr>\n",
       "  </tbody>\n",
       "</table>\n",
       "</div>"
      ],
      "text/plain": [
       "                  Id       TotalPay  TotalPayBenefits           Year  Notes\n",
       "count  148654.000000  148654.000000     148654.000000  148654.000000    0.0\n",
       "mean    74327.500000   74768.321972      93692.554811    2012.522643    NaN\n",
       "std     42912.857795   50517.005274      62793.533483       1.117538    NaN\n",
       "min         1.000000    -618.130000       -618.130000    2011.000000    NaN\n",
       "25%     37164.250000   36168.995000      44065.650000    2012.000000    NaN\n",
       "50%     74327.500000   71426.610000      92404.090000    2013.000000    NaN\n",
       "75%    111490.750000  105839.135000     132876.450000    2014.000000    NaN\n",
       "max    148654.000000  567595.430000     567595.430000    2014.000000    NaN"
      ]
     },
     "execution_count": 5,
     "metadata": {},
     "output_type": "execute_result"
    }
   ],
   "source": [
    "data.describe()"
   ]
  },
  {
   "cell_type": "markdown",
   "id": "56aa1191",
   "metadata": {
    "papermill": {
     "duration": 0.012607,
     "end_time": "2024-03-08T13:34:06.141064",
     "exception": false,
     "start_time": "2024-03-08T13:34:06.128457",
     "status": "completed"
    },
    "tags": []
   },
   "source": [
    "<h2>Getting Information About Our Dataset Like Total Number Rows, Total Number of Columns, Datatypes of Each Column And Memory Requirement\n"
   ]
  },
  {
   "cell_type": "code",
   "execution_count": 6,
   "id": "8020ff7d",
   "metadata": {
    "execution": {
     "iopub.execute_input": "2024-03-08T13:34:06.169396Z",
     "iopub.status.busy": "2024-03-08T13:34:06.169009Z",
     "iopub.status.idle": "2024-03-08T13:34:06.246740Z",
     "shell.execute_reply": "2024-03-08T13:34:06.245624Z"
    },
    "papermill": {
     "duration": 0.095443,
     "end_time": "2024-03-08T13:34:06.249299",
     "exception": false,
     "start_time": "2024-03-08T13:34:06.153856",
     "status": "completed"
    },
    "tags": []
   },
   "outputs": [
    {
     "name": "stdout",
     "output_type": "stream",
     "text": [
      "<class 'pandas.core.frame.DataFrame'>\n",
      "RangeIndex: 148654 entries, 0 to 148653\n",
      "Data columns (total 13 columns):\n",
      " #   Column            Non-Null Count   Dtype  \n",
      "---  ------            --------------   -----  \n",
      " 0   Id                148654 non-null  int64  \n",
      " 1   EmployeeName      148654 non-null  object \n",
      " 2   JobTitle          148654 non-null  object \n",
      " 3   BasePay           148049 non-null  object \n",
      " 4   OvertimePay       148654 non-null  object \n",
      " 5   OtherPay          148654 non-null  object \n",
      " 6   Benefits          112495 non-null  object \n",
      " 7   TotalPay          148654 non-null  float64\n",
      " 8   TotalPayBenefits  148654 non-null  float64\n",
      " 9   Year              148654 non-null  int64  \n",
      " 10  Notes             0 non-null       float64\n",
      " 11  Agency            148654 non-null  object \n",
      " 12  Status            38119 non-null   object \n",
      "dtypes: float64(3), int64(2), object(8)\n",
      "memory usage: 14.7+ MB\n"
     ]
    }
   ],
   "source": [
    "data.info()"
   ]
  },
  {
   "cell_type": "markdown",
   "id": "fa7b80f1",
   "metadata": {
    "papermill": {
     "duration": 0.013651,
     "end_time": "2024-03-08T13:34:06.276269",
     "exception": false,
     "start_time": "2024-03-08T13:34:06.262618",
     "status": "completed"
    },
    "tags": []
   },
   "source": [
    "<h1>Check Null Values In The Dataset\n"
   ]
  },
  {
   "cell_type": "code",
   "execution_count": 7,
   "id": "b98db651",
   "metadata": {
    "execution": {
     "iopub.execute_input": "2024-03-08T13:34:06.304599Z",
     "iopub.status.busy": "2024-03-08T13:34:06.304227Z",
     "iopub.status.idle": "2024-03-08T13:34:06.367557Z",
     "shell.execute_reply": "2024-03-08T13:34:06.366849Z"
    },
    "papermill": {
     "duration": 0.080044,
     "end_time": "2024-03-08T13:34:06.369648",
     "exception": false,
     "start_time": "2024-03-08T13:34:06.289604",
     "status": "completed"
    },
    "tags": []
   },
   "outputs": [
    {
     "data": {
      "text/plain": [
       "Id                       0\n",
       "EmployeeName             0\n",
       "JobTitle                 0\n",
       "BasePay                605\n",
       "OvertimePay              0\n",
       "OtherPay                 0\n",
       "Benefits             36159\n",
       "TotalPay                 0\n",
       "TotalPayBenefits         0\n",
       "Year                     0\n",
       "Notes               148654\n",
       "Agency                   0\n",
       "Status              110535\n",
       "dtype: int64"
      ]
     },
     "execution_count": 7,
     "metadata": {},
     "output_type": "execute_result"
    }
   ],
   "source": [
    "data.isnull().sum()"
   ]
  },
  {
   "cell_type": "code",
   "execution_count": 8,
   "id": "c79e4e06",
   "metadata": {
    "execution": {
     "iopub.execute_input": "2024-03-08T13:34:06.398903Z",
     "iopub.status.busy": "2024-03-08T13:34:06.397909Z",
     "iopub.status.idle": "2024-03-08T13:34:09.744834Z",
     "shell.execute_reply": "2024-03-08T13:34:09.743768Z"
    },
    "papermill": {
     "duration": 3.363833,
     "end_time": "2024-03-08T13:34:09.747413",
     "exception": false,
     "start_time": "2024-03-08T13:34:06.383580",
     "status": "completed"
    },
    "tags": []
   },
   "outputs": [
    {
     "data": {
      "image/png": "[encoded data removed]",
      "text/plain": [
       "<Figure size 640x480 with 2 Axes>"
      ]
     },
     "metadata": {},
     "output_type": "display_data"
    }
   ],
   "source": [
    "sns.heatmap(data.isnull());"
   ]
  },
  {
   "cell_type": "markdown",
   "id": "c0fe948b",
   "metadata": {
    "papermill": {
     "duration": 0.014073,
     "end_time": "2024-03-08T13:34:09.775892",
     "exception": false,
     "start_time": "2024-03-08T13:34:09.761819",
     "status": "completed"
    },
    "tags": []
   },
   "source": [
    "<h1>Drop ID, Notes, Agency, and Status Columns\n"
   ]
  },
  {
   "cell_type": "code",
   "execution_count": 9,
   "id": "60e15ffb",
   "metadata": {
    "execution": {
     "iopub.execute_input": "2024-03-08T13:34:09.806377Z",
     "iopub.status.busy": "2024-03-08T13:34:09.805994Z",
     "iopub.status.idle": "2024-03-08T13:34:09.811503Z",
     "shell.execute_reply": "2024-03-08T13:34:09.810838Z"
    },
    "papermill": {
     "duration": 0.024083,
     "end_time": "2024-03-08T13:34:09.814112",
     "exception": false,
     "start_time": "2024-03-08T13:34:09.790029",
     "status": "completed"
    },
    "tags": []
   },
   "outputs": [
    {
     "data": {
      "text/plain": [
       "Index(['Id', 'EmployeeName', 'JobTitle', 'BasePay', 'OvertimePay', 'OtherPay',\n",
       "       'Benefits', 'TotalPay', 'TotalPayBenefits', 'Year', 'Notes', 'Agency',\n",
       "       'Status'],\n",
       "      dtype='object')"
      ]
     },
     "execution_count": 9,
     "metadata": {},
     "output_type": "execute_result"
    }
   ],
   "source": [
    "data.columns"
   ]
  },
  {
   "cell_type": "code",
   "execution_count": 10,
   "id": "608bda35",
   "metadata": {
    "execution": {
     "iopub.execute_input": "2024-03-08T13:34:09.844748Z",
     "iopub.status.busy": "2024-03-08T13:34:09.843842Z",
     "iopub.status.idle": "2024-03-08T13:34:09.860662Z",
     "shell.execute_reply": "2024-03-08T13:34:09.859650Z"
    },
    "papermill": {
     "duration": 0.034332,
     "end_time": "2024-03-08T13:34:09.862758",
     "exception": false,
     "start_time": "2024-03-08T13:34:09.828426",
     "status": "completed"
    },
    "tags": []
   },
   "outputs": [
    {
     "data": {
      "text/html": [
       "<div>\n",
       "<style scoped>\n",
       "    .dataframe tbody tr th:only-of-type {\n",
       "        vertical-align: middle;\n",
       "    }\n",
       "\n",
       "    .dataframe tbody tr th {\n",
       "        vertical-align: top;\n",
       "    }\n",
       "\n",
       "    .dataframe thead th {\n",
       "        text-align: right;\n",
       "    }\n",
       "</style>\n",
       "<table border=\"1\" class=\"dataframe\">\n",
       "  <thead>\n",
       "    <tr style=\"text-align: right;\">\n",
       "      <th></th>\n",
       "      <th>Id</th>\n",
       "      <th>EmployeeName</th>\n",
       "      <th>JobTitle</th>\n",
       "      <th>BasePay</th>\n",
       "      <th>OvertimePay</th>\n",
       "      <th>OtherPay</th>\n",
       "      <th>Benefits</th>\n",
       "      <th>TotalPay</th>\n",
       "      <th>TotalPayBenefits</th>\n",
       "      <th>Year</th>\n",
       "      <th>Notes</th>\n",
       "      <th>Agency</th>\n",
       "      <th>Status</th>\n",
       "    </tr>\n",
       "  </thead>\n",
       "  <tbody>\n",
       "    <tr>\n",
       "      <th>0</th>\n",
       "      <td>1</td>\n",
       "      <td>NATHANIEL FORD</td>\n",
       "      <td>GENERAL MANAGER-METROPOLITAN TRANSIT AUTHORITY</td>\n",
       "      <td>167411.18</td>\n",
       "      <td>0.0</td>\n",
       "      <td>400184.25</td>\n",
       "      <td>NaN</td>\n",
       "      <td>567595.43</td>\n",
       "      <td>567595.43</td>\n",
       "      <td>2011</td>\n",
       "      <td>NaN</td>\n",
       "      <td>San Francisco</td>\n",
       "      <td>NaN</td>\n",
       "    </tr>\n",
       "    <tr>\n",
       "      <th>1</th>\n",
       "      <td>2</td>\n",
       "      <td>GARY JIMENEZ</td>\n",
       "      <td>CAPTAIN III (POLICE DEPARTMENT)</td>\n",
       "      <td>155966.02</td>\n",
       "      <td>245131.88</td>\n",
       "      <td>137811.38</td>\n",
       "      <td>NaN</td>\n",
       "      <td>538909.28</td>\n",
       "      <td>538909.28</td>\n",
       "      <td>2011</td>\n",
       "      <td>NaN</td>\n",
       "      <td>San Francisco</td>\n",
       "      <td>NaN</td>\n",
       "    </tr>\n",
       "    <tr>\n",
       "      <th>2</th>\n",
       "      <td>3</td>\n",
       "      <td>ALBERT PARDINI</td>\n",
       "      <td>CAPTAIN III (POLICE DEPARTMENT)</td>\n",
       "      <td>212739.13</td>\n",
       "      <td>106088.18</td>\n",
       "      <td>16452.6</td>\n",
       "      <td>NaN</td>\n",
       "      <td>335279.91</td>\n",
       "      <td>335279.91</td>\n",
       "      <td>2011</td>\n",
       "      <td>NaN</td>\n",
       "      <td>San Francisco</td>\n",
       "      <td>NaN</td>\n",
       "    </tr>\n",
       "    <tr>\n",
       "      <th>3</th>\n",
       "      <td>4</td>\n",
       "      <td>CHRISTOPHER CHONG</td>\n",
       "      <td>WIRE ROPE CABLE MAINTENANCE MECHANIC</td>\n",
       "      <td>77916.0</td>\n",
       "      <td>56120.71</td>\n",
       "      <td>198306.9</td>\n",
       "      <td>NaN</td>\n",
       "      <td>332343.61</td>\n",
       "      <td>332343.61</td>\n",
       "      <td>2011</td>\n",
       "      <td>NaN</td>\n",
       "      <td>San Francisco</td>\n",
       "      <td>NaN</td>\n",
       "    </tr>\n",
       "    <tr>\n",
       "      <th>4</th>\n",
       "      <td>5</td>\n",
       "      <td>PATRICK GARDNER</td>\n",
       "      <td>DEPUTY CHIEF OF DEPARTMENT,(FIRE DEPARTMENT)</td>\n",
       "      <td>134401.6</td>\n",
       "      <td>9737.0</td>\n",
       "      <td>182234.59</td>\n",
       "      <td>NaN</td>\n",
       "      <td>326373.19</td>\n",
       "      <td>326373.19</td>\n",
       "      <td>2011</td>\n",
       "      <td>NaN</td>\n",
       "      <td>San Francisco</td>\n",
       "      <td>NaN</td>\n",
       "    </tr>\n",
       "  </tbody>\n",
       "</table>\n",
       "</div>"
      ],
      "text/plain": [
       "   Id       EmployeeName                                        JobTitle  \\\n",
       "0   1     NATHANIEL FORD  GENERAL MANAGER-METROPOLITAN TRANSIT AUTHORITY   \n",
       "1   2       GARY JIMENEZ                 CAPTAIN III (POLICE DEPARTMENT)   \n",
       "2   3     ALBERT PARDINI                 CAPTAIN III (POLICE DEPARTMENT)   \n",
       "3   4  CHRISTOPHER CHONG            WIRE ROPE CABLE MAINTENANCE MECHANIC   \n",
       "4   5    PATRICK GARDNER    DEPUTY CHIEF OF DEPARTMENT,(FIRE DEPARTMENT)   \n",
       "\n",
       "     BasePay OvertimePay   OtherPay Benefits   TotalPay  TotalPayBenefits  \\\n",
       "0  167411.18         0.0  400184.25      NaN  567595.43         567595.43   \n",
       "1  155966.02   245131.88  137811.38      NaN  538909.28         538909.28   \n",
       "2  212739.13   106088.18    16452.6      NaN  335279.91         335279.91   \n",
       "3    77916.0    56120.71   198306.9      NaN  332343.61         332343.61   \n",
       "4   134401.6      9737.0  182234.59      NaN  326373.19         326373.19   \n",
       "\n",
       "   Year  Notes         Agency Status  \n",
       "0  2011    NaN  San Francisco    NaN  \n",
       "1  2011    NaN  San Francisco    NaN  \n",
       "2  2011    NaN  San Francisco    NaN  \n",
       "3  2011    NaN  San Francisco    NaN  \n",
       "4  2011    NaN  San Francisco    NaN  "
      ]
     },
     "execution_count": 10,
     "metadata": {},
     "output_type": "execute_result"
    }
   ],
   "source": [
    "data.head()"
   ]
  },
  {
   "cell_type": "code",
   "execution_count": 11,
   "id": "9d82bebf",
   "metadata": {
    "execution": {
     "iopub.execute_input": "2024-03-08T13:34:09.893932Z",
     "iopub.status.busy": "2024-03-08T13:34:09.893057Z",
     "iopub.status.idle": "2024-03-08T13:34:09.911857Z",
     "shell.execute_reply": "2024-03-08T13:34:09.910827Z"
    },
    "papermill": {
     "duration": 0.036975,
     "end_time": "2024-03-08T13:34:09.914216",
     "exception": false,
     "start_time": "2024-03-08T13:34:09.877241",
     "status": "completed"
    },
    "tags": []
   },
   "outputs": [],
   "source": [
    "data.drop(columns=[\"Id\", \"Notes\", \"Agency\", \"Status\"], inplace=True)"
   ]
  },
  {
   "cell_type": "code",
   "execution_count": 12,
   "id": "7ea1a33a",
   "metadata": {
    "execution": {
     "iopub.execute_input": "2024-03-08T13:34:09.946125Z",
     "iopub.status.busy": "2024-03-08T13:34:09.945475Z",
     "iopub.status.idle": "2024-03-08T13:34:09.958057Z",
     "shell.execute_reply": "2024-03-08T13:34:09.957313Z"
    },
    "papermill": {
     "duration": 0.030652,
     "end_time": "2024-03-08T13:34:09.960043",
     "exception": false,
     "start_time": "2024-03-08T13:34:09.929391",
     "status": "completed"
    },
    "tags": []
   },
   "outputs": [
    {
     "data": {
      "text/html": [
       "<div>\n",
       "<style scoped>\n",
       "    .dataframe tbody tr th:only-of-type {\n",
       "        vertical-align: middle;\n",
       "    }\n",
       "\n",
       "    .dataframe tbody tr th {\n",
       "        vertical-align: top;\n",
       "    }\n",
       "\n",
       "    .dataframe thead th {\n",
       "        text-align: right;\n",
       "    }\n",
       "</style>\n",
       "<table border=\"1\" class=\"dataframe\">\n",
       "  <thead>\n",
       "    <tr style=\"text-align: right;\">\n",
       "      <th></th>\n",
       "      <th>EmployeeName</th>\n",
       "      <th>JobTitle</th>\n",
       "      <th>BasePay</th>\n",
       "      <th>OvertimePay</th>\n",
       "      <th>OtherPay</th>\n",
       "      <th>Benefits</th>\n",
       "      <th>TotalPay</th>\n",
       "      <th>TotalPayBenefits</th>\n",
       "      <th>Year</th>\n",
       "    </tr>\n",
       "  </thead>\n",
       "  <tbody>\n",
       "    <tr>\n",
       "      <th>0</th>\n",
       "      <td>NATHANIEL FORD</td>\n",
       "      <td>GENERAL MANAGER-METROPOLITAN TRANSIT AUTHORITY</td>\n",
       "      <td>167411.18</td>\n",
       "      <td>0.0</td>\n",
       "      <td>400184.25</td>\n",
       "      <td>NaN</td>\n",
       "      <td>567595.43</td>\n",
       "      <td>567595.43</td>\n",
       "      <td>2011</td>\n",
       "    </tr>\n",
       "    <tr>\n",
       "      <th>1</th>\n",
       "      <td>GARY JIMENEZ</td>\n",
       "      <td>CAPTAIN III (POLICE DEPARTMENT)</td>\n",
       "      <td>155966.02</td>\n",
       "      <td>245131.88</td>\n",
       "      <td>137811.38</td>\n",
       "      <td>NaN</td>\n",
       "      <td>538909.28</td>\n",
       "      <td>538909.28</td>\n",
       "      <td>2011</td>\n",
       "    </tr>\n",
       "    <tr>\n",
       "      <th>2</th>\n",
       "      <td>ALBERT PARDINI</td>\n",
       "      <td>CAPTAIN III (POLICE DEPARTMENT)</td>\n",
       "      <td>212739.13</td>\n",
       "      <td>106088.18</td>\n",
       "      <td>16452.6</td>\n",
       "      <td>NaN</td>\n",
       "      <td>335279.91</td>\n",
       "      <td>335279.91</td>\n",
       "      <td>2011</td>\n",
       "    </tr>\n",
       "    <tr>\n",
       "      <th>3</th>\n",
       "      <td>CHRISTOPHER CHONG</td>\n",
       "      <td>WIRE ROPE CABLE MAINTENANCE MECHANIC</td>\n",
       "      <td>77916.0</td>\n",
       "      <td>56120.71</td>\n",
       "      <td>198306.9</td>\n",
       "      <td>NaN</td>\n",
       "      <td>332343.61</td>\n",
       "      <td>332343.61</td>\n",
       "      <td>2011</td>\n",
       "    </tr>\n",
       "    <tr>\n",
       "      <th>4</th>\n",
       "      <td>PATRICK GARDNER</td>\n",
       "      <td>DEPUTY CHIEF OF DEPARTMENT,(FIRE DEPARTMENT)</td>\n",
       "      <td>134401.6</td>\n",
       "      <td>9737.0</td>\n",
       "      <td>182234.59</td>\n",
       "      <td>NaN</td>\n",
       "      <td>326373.19</td>\n",
       "      <td>326373.19</td>\n",
       "      <td>2011</td>\n",
       "    </tr>\n",
       "  </tbody>\n",
       "</table>\n",
       "</div>"
      ],
      "text/plain": [
       "        EmployeeName                                        JobTitle  \\\n",
       "0     NATHANIEL FORD  GENERAL MANAGER-METROPOLITAN TRANSIT AUTHORITY   \n",
       "1       GARY JIMENEZ                 CAPTAIN III (POLICE DEPARTMENT)   \n",
       "2     ALBERT PARDINI                 CAPTAIN III (POLICE DEPARTMENT)   \n",
       "3  CHRISTOPHER CHONG            WIRE ROPE CABLE MAINTENANCE MECHANIC   \n",
       "4    PATRICK GARDNER    DEPUTY CHIEF OF DEPARTMENT,(FIRE DEPARTMENT)   \n",
       "\n",
       "     BasePay OvertimePay   OtherPay Benefits   TotalPay  TotalPayBenefits  \\\n",
       "0  167411.18         0.0  400184.25      NaN  567595.43         567595.43   \n",
       "1  155966.02   245131.88  137811.38      NaN  538909.28         538909.28   \n",
       "2  212739.13   106088.18    16452.6      NaN  335279.91         335279.91   \n",
       "3    77916.0    56120.71   198306.9      NaN  332343.61         332343.61   \n",
       "4   134401.6      9737.0  182234.59      NaN  326373.19         326373.19   \n",
       "\n",
       "   Year  \n",
       "0  2011  \n",
       "1  2011  \n",
       "2  2011  \n",
       "3  2011  \n",
       "4  2011  "
      ]
     },
     "execution_count": 12,
     "metadata": {},
     "output_type": "execute_result"
    }
   ],
   "source": [
    "data.head()"
   ]
  },
  {
   "cell_type": "markdown",
   "id": "a30a41a3",
   "metadata": {
    "papermill": {
     "duration": 0.014471,
     "end_time": "2024-03-08T13:34:09.989123",
     "exception": false,
     "start_time": "2024-03-08T13:34:09.974652",
     "status": "completed"
    },
    "tags": []
   },
   "source": [
    "<h1>Get Overall Statistics About The Dataframe\n"
   ]
  },
  {
   "cell_type": "code",
   "execution_count": 13,
   "id": "1910efc4",
   "metadata": {
    "execution": {
     "iopub.execute_input": "2024-03-08T13:34:10.020281Z",
     "iopub.status.busy": "2024-03-08T13:34:10.019895Z",
     "iopub.status.idle": "2024-03-08T13:34:10.466446Z",
     "shell.execute_reply": "2024-03-08T13:34:10.465320Z"
    },
    "papermill": {
     "duration": 0.465104,
     "end_time": "2024-03-08T13:34:10.468864",
     "exception": false,
     "start_time": "2024-03-08T13:34:10.003760",
     "status": "completed"
    },
    "tags": []
   },
   "outputs": [
    {
     "data": {
      "text/html": [
       "<div>\n",
       "<style scoped>\n",
       "    .dataframe tbody tr th:only-of-type {\n",
       "        vertical-align: middle;\n",
       "    }\n",
       "\n",
       "    .dataframe tbody tr th {\n",
       "        vertical-align: top;\n",
       "    }\n",
       "\n",
       "    .dataframe thead th {\n",
       "        text-align: right;\n",
       "    }\n",
       "</style>\n",
       "<table border=\"1\" class=\"dataframe\">\n",
       "  <thead>\n",
       "    <tr style=\"text-align: right;\">\n",
       "      <th></th>\n",
       "      <th>EmployeeName</th>\n",
       "      <th>JobTitle</th>\n",
       "      <th>BasePay</th>\n",
       "      <th>OvertimePay</th>\n",
       "      <th>OtherPay</th>\n",
       "      <th>Benefits</th>\n",
       "      <th>TotalPay</th>\n",
       "      <th>TotalPayBenefits</th>\n",
       "      <th>Year</th>\n",
       "    </tr>\n",
       "  </thead>\n",
       "  <tbody>\n",
       "    <tr>\n",
       "      <th>count</th>\n",
       "      <td>148654</td>\n",
       "      <td>148654</td>\n",
       "      <td>148049</td>\n",
       "      <td>148654</td>\n",
       "      <td>148654</td>\n",
       "      <td>112495</td>\n",
       "      <td>148654.000000</td>\n",
       "      <td>148654.000000</td>\n",
       "      <td>148654.000000</td>\n",
       "    </tr>\n",
       "    <tr>\n",
       "      <th>unique</th>\n",
       "      <td>110811</td>\n",
       "      <td>2159</td>\n",
       "      <td>109724</td>\n",
       "      <td>66162</td>\n",
       "      <td>84243</td>\n",
       "      <td>98647</td>\n",
       "      <td>NaN</td>\n",
       "      <td>NaN</td>\n",
       "      <td>NaN</td>\n",
       "    </tr>\n",
       "    <tr>\n",
       "      <th>top</th>\n",
       "      <td>Kevin Lee</td>\n",
       "      <td>Transit Operator</td>\n",
       "      <td>0.0</td>\n",
       "      <td>0.0</td>\n",
       "      <td>0.0</td>\n",
       "      <td>0.0</td>\n",
       "      <td>NaN</td>\n",
       "      <td>NaN</td>\n",
       "      <td>NaN</td>\n",
       "    </tr>\n",
       "    <tr>\n",
       "      <th>freq</th>\n",
       "      <td>13</td>\n",
       "      <td>7036</td>\n",
       "      <td>872</td>\n",
       "      <td>57868</td>\n",
       "      <td>30068</td>\n",
       "      <td>1024</td>\n",
       "      <td>NaN</td>\n",
       "      <td>NaN</td>\n",
       "      <td>NaN</td>\n",
       "    </tr>\n",
       "    <tr>\n",
       "      <th>mean</th>\n",
       "      <td>NaN</td>\n",
       "      <td>NaN</td>\n",
       "      <td>NaN</td>\n",
       "      <td>NaN</td>\n",
       "      <td>NaN</td>\n",
       "      <td>NaN</td>\n",
       "      <td>74768.321972</td>\n",
       "      <td>93692.554811</td>\n",
       "      <td>2012.522643</td>\n",
       "    </tr>\n",
       "    <tr>\n",
       "      <th>std</th>\n",
       "      <td>NaN</td>\n",
       "      <td>NaN</td>\n",
       "      <td>NaN</td>\n",
       "      <td>NaN</td>\n",
       "      <td>NaN</td>\n",
       "      <td>NaN</td>\n",
       "      <td>50517.005274</td>\n",
       "      <td>62793.533483</td>\n",
       "      <td>1.117538</td>\n",
       "    </tr>\n",
       "    <tr>\n",
       "      <th>min</th>\n",
       "      <td>NaN</td>\n",
       "      <td>NaN</td>\n",
       "      <td>NaN</td>\n",
       "      <td>NaN</td>\n",
       "      <td>NaN</td>\n",
       "      <td>NaN</td>\n",
       "      <td>-618.130000</td>\n",
       "      <td>-618.130000</td>\n",
       "      <td>2011.000000</td>\n",
       "    </tr>\n",
       "    <tr>\n",
       "      <th>25%</th>\n",
       "      <td>NaN</td>\n",
       "      <td>NaN</td>\n",
       "      <td>NaN</td>\n",
       "      <td>NaN</td>\n",
       "      <td>NaN</td>\n",
       "      <td>NaN</td>\n",
       "      <td>36168.995000</td>\n",
       "      <td>44065.650000</td>\n",
       "      <td>2012.000000</td>\n",
       "    </tr>\n",
       "    <tr>\n",
       "      <th>50%</th>\n",
       "      <td>NaN</td>\n",
       "      <td>NaN</td>\n",
       "      <td>NaN</td>\n",
       "      <td>NaN</td>\n",
       "      <td>NaN</td>\n",
       "      <td>NaN</td>\n",
       "      <td>71426.610000</td>\n",
       "      <td>92404.090000</td>\n",
       "      <td>2013.000000</td>\n",
       "    </tr>\n",
       "    <tr>\n",
       "      <th>75%</th>\n",
       "      <td>NaN</td>\n",
       "      <td>NaN</td>\n",
       "      <td>NaN</td>\n",
       "      <td>NaN</td>\n",
       "      <td>NaN</td>\n",
       "      <td>NaN</td>\n",
       "      <td>105839.135000</td>\n",
       "      <td>132876.450000</td>\n",
       "      <td>2014.000000</td>\n",
       "    </tr>\n",
       "    <tr>\n",
       "      <th>max</th>\n",
       "      <td>NaN</td>\n",
       "      <td>NaN</td>\n",
       "      <td>NaN</td>\n",
       "      <td>NaN</td>\n",
       "      <td>NaN</td>\n",
       "      <td>NaN</td>\n",
       "      <td>567595.430000</td>\n",
       "      <td>567595.430000</td>\n",
       "      <td>2014.000000</td>\n",
       "    </tr>\n",
       "  </tbody>\n",
       "</table>\n",
       "</div>"
      ],
      "text/plain": [
       "       EmployeeName          JobTitle BasePay OvertimePay OtherPay Benefits  \\\n",
       "count        148654            148654  148049      148654   148654   112495   \n",
       "unique       110811              2159  109724       66162    84243    98647   \n",
       "top       Kevin Lee  Transit Operator     0.0         0.0      0.0      0.0   \n",
       "freq             13              7036     872       57868    30068     1024   \n",
       "mean            NaN               NaN     NaN         NaN      NaN      NaN   \n",
       "std             NaN               NaN     NaN         NaN      NaN      NaN   \n",
       "min             NaN               NaN     NaN         NaN      NaN      NaN   \n",
       "25%             NaN               NaN     NaN         NaN      NaN      NaN   \n",
       "50%             NaN               NaN     NaN         NaN      NaN      NaN   \n",
       "75%             NaN               NaN     NaN         NaN      NaN      NaN   \n",
       "max             NaN               NaN     NaN         NaN      NaN      NaN   \n",
       "\n",
       "             TotalPay  TotalPayBenefits           Year  \n",
       "count   148654.000000     148654.000000  148654.000000  \n",
       "unique            NaN               NaN            NaN  \n",
       "top               NaN               NaN            NaN  \n",
       "freq              NaN               NaN            NaN  \n",
       "mean     74768.321972      93692.554811    2012.522643  \n",
       "std      50517.005274      62793.533483       1.117538  \n",
       "min       -618.130000       -618.130000    2011.000000  \n",
       "25%      36168.995000      44065.650000    2012.000000  \n",
       "50%      71426.610000      92404.090000    2013.000000  \n",
       "75%     105839.135000     132876.450000    2014.000000  \n",
       "max     567595.430000     567595.430000    2014.000000  "
      ]
     },
     "execution_count": 13,
     "metadata": {},
     "output_type": "execute_result"
    }
   ],
   "source": [
    "\n",
    "data.describe(include=\"all\")"
   ]
  },
  {
   "cell_type": "markdown",
   "id": "fc9de1e2",
   "metadata": {
    "execution": {
     "iopub.execute_input": "2024-03-06T13:19:49.709040Z",
     "iopub.status.busy": "2024-03-06T13:19:49.708618Z",
     "iopub.status.idle": "2024-03-06T13:19:49.718729Z",
     "shell.execute_reply": "2024-03-06T13:19:49.717136Z",
     "shell.execute_reply.started": "2024-03-06T13:19:49.709007Z"
    },
    "papermill": {
     "duration": 0.014689,
     "end_time": "2024-03-08T13:34:10.500210",
     "exception": false,
     "start_time": "2024-03-08T13:34:10.485521",
     "status": "completed"
    },
    "tags": []
   },
   "source": [
    "<h1>Find Occurrence of The Employee Names  (Top 5)\n"
   ]
  },
  {
   "cell_type": "code",
   "execution_count": 14,
   "id": "5c6002e8",
   "metadata": {
    "execution": {
     "iopub.execute_input": "2024-03-08T13:34:10.588297Z",
     "iopub.status.busy": "2024-03-08T13:34:10.587933Z",
     "iopub.status.idle": "2024-03-08T13:34:10.594021Z",
     "shell.execute_reply": "2024-03-08T13:34:10.592913Z"
    },
    "papermill": {
     "duration": 0.080945,
     "end_time": "2024-03-08T13:34:10.596086",
     "exception": false,
     "start_time": "2024-03-08T13:34:10.515141",
     "status": "completed"
    },
    "tags": []
   },
   "outputs": [
    {
     "data": {
      "text/plain": [
       "Index(['EmployeeName', 'JobTitle', 'BasePay', 'OvertimePay', 'OtherPay',\n",
       "       'Benefits', 'TotalPay', 'TotalPayBenefits', 'Year'],\n",
       "      dtype='object')"
      ]
     },
     "execution_count": 14,
     "metadata": {},
     "output_type": "execute_result"
    }
   ],
   "source": [
    "data.columns"
   ]
  },
  {
   "cell_type": "code",
   "execution_count": 15,
   "id": "4a936bf4",
   "metadata": {
    "execution": {
     "iopub.execute_input": "2024-03-08T13:34:10.627803Z",
     "iopub.status.busy": "2024-03-08T13:34:10.627406Z",
     "iopub.status.idle": "2024-03-08T13:34:10.953828Z",
     "shell.execute_reply": "2024-03-08T13:34:10.952831Z"
    },
    "papermill": {
     "duration": 0.345125,
     "end_time": "2024-03-08T13:34:10.956305",
     "exception": false,
     "start_time": "2024-03-08T13:34:10.611180",
     "status": "completed"
    },
    "tags": []
   },
   "outputs": [
    {
     "data": {
      "image/png": "[encoded data removed]",
      "text/plain": [
       "<Figure size 640x480 with 1 Axes>"
      ]
     },
     "metadata": {},
     "output_type": "display_data"
    }
   ],
   "source": [
    "data.EmployeeName.value_counts().sort_values(ascending=False).head().plot.barh();"
   ]
  },
  {
   "cell_type": "markdown",
   "id": "faad41bc",
   "metadata": {
    "papermill": {
     "duration": 0.015149,
     "end_time": "2024-03-08T13:34:10.986965",
     "exception": false,
     "start_time": "2024-03-08T13:34:10.971816",
     "status": "completed"
    },
    "tags": []
   },
   "source": [
    "<h1>Find The Number of Unique Job Titles"
   ]
  },
  {
   "cell_type": "code",
   "execution_count": 16,
   "id": "a81da859",
   "metadata": {
    "execution": {
     "iopub.execute_input": "2024-03-08T13:34:11.020032Z",
     "iopub.status.busy": "2024-03-08T13:34:11.019639Z",
     "iopub.status.idle": "2024-03-08T13:34:11.038329Z",
     "shell.execute_reply": "2024-03-08T13:34:11.037275Z"
    },
    "papermill": {
     "duration": 0.037945,
     "end_time": "2024-03-08T13:34:11.040529",
     "exception": false,
     "start_time": "2024-03-08T13:34:11.002584",
     "status": "completed"
    },
    "tags": []
   },
   "outputs": [
    {
     "data": {
      "text/plain": [
       "2159"
      ]
     },
     "execution_count": 16,
     "metadata": {},
     "output_type": "execute_result"
    }
   ],
   "source": [
    "data[\"JobTitle\"].nunique()"
   ]
  },
  {
   "cell_type": "markdown",
   "id": "bf1d51b5",
   "metadata": {
    "papermill": {
     "duration": 0.015183,
     "end_time": "2024-03-08T13:34:11.071350",
     "exception": false,
     "start_time": "2024-03-08T13:34:11.056167",
     "status": "completed"
    },
    "tags": []
   },
   "source": [
    "<h1>Total Number of Job Titles Contain Captain\n"
   ]
  },
  {
   "cell_type": "code",
   "execution_count": 17,
   "id": "745857af",
   "metadata": {
    "execution": {
     "iopub.execute_input": "2024-03-08T13:34:11.104995Z",
     "iopub.status.busy": "2024-03-08T13:34:11.104289Z",
     "iopub.status.idle": "2024-03-08T13:34:11.203110Z",
     "shell.execute_reply": "2024-03-08T13:34:11.202236Z"
    },
    "papermill": {
     "duration": 0.117782,
     "end_time": "2024-03-08T13:34:11.205106",
     "exception": false,
     "start_time": "2024-03-08T13:34:11.087324",
     "status": "completed"
    },
    "tags": []
   },
   "outputs": [
    {
     "data": {
      "text/plain": [
       "552"
      ]
     },
     "execution_count": 17,
     "metadata": {},
     "output_type": "execute_result"
    }
   ],
   "source": [
    "data[data.JobTitle.str.contains(\"captain\", case=False)].shape[0]"
   ]
  },
  {
   "cell_type": "markdown",
   "id": "599b05d5",
   "metadata": {
    "papermill": {
     "duration": 0.015987,
     "end_time": "2024-03-08T13:34:11.236736",
     "exception": false,
     "start_time": "2024-03-08T13:34:11.220749",
     "status": "completed"
    },
    "tags": []
   },
   "source": [
    "<h1>Display All the Employee Names From Fire Department"
   ]
  },
  {
   "cell_type": "code",
   "execution_count": 18,
   "id": "8c4d574b",
   "metadata": {
    "execution": {
     "iopub.execute_input": "2024-03-08T13:34:11.269842Z",
     "iopub.status.busy": "2024-03-08T13:34:11.269436Z",
     "iopub.status.idle": "2024-03-08T13:34:11.275587Z",
     "shell.execute_reply": "2024-03-08T13:34:11.274617Z"
    },
    "papermill": {
     "duration": 0.025142,
     "end_time": "2024-03-08T13:34:11.277492",
     "exception": false,
     "start_time": "2024-03-08T13:34:11.252350",
     "status": "completed"
    },
    "tags": []
   },
   "outputs": [
    {
     "data": {
      "text/plain": [
       "Index(['EmployeeName', 'JobTitle', 'BasePay', 'OvertimePay', 'OtherPay',\n",
       "       'Benefits', 'TotalPay', 'TotalPayBenefits', 'Year'],\n",
       "      dtype='object')"
      ]
     },
     "execution_count": 18,
     "metadata": {},
     "output_type": "execute_result"
    }
   ],
   "source": [
    "data.columns"
   ]
  },
  {
   "cell_type": "code",
   "execution_count": 19,
   "id": "71bc75f9",
   "metadata": {
    "execution": {
     "iopub.execute_input": "2024-03-08T13:34:11.311157Z",
     "iopub.status.busy": "2024-03-08T13:34:11.310284Z",
     "iopub.status.idle": "2024-03-08T13:34:11.324559Z",
     "shell.execute_reply": "2024-03-08T13:34:11.323747Z"
    },
    "papermill": {
     "duration": 0.033081,
     "end_time": "2024-03-08T13:34:11.326458",
     "exception": false,
     "start_time": "2024-03-08T13:34:11.293377",
     "status": "completed"
    },
    "tags": []
   },
   "outputs": [
    {
     "data": {
      "text/html": [
       "<div>\n",
       "<style scoped>\n",
       "    .dataframe tbody tr th:only-of-type {\n",
       "        vertical-align: middle;\n",
       "    }\n",
       "\n",
       "    .dataframe tbody tr th {\n",
       "        vertical-align: top;\n",
       "    }\n",
       "\n",
       "    .dataframe thead th {\n",
       "        text-align: right;\n",
       "    }\n",
       "</style>\n",
       "<table border=\"1\" class=\"dataframe\">\n",
       "  <thead>\n",
       "    <tr style=\"text-align: right;\">\n",
       "      <th></th>\n",
       "      <th>EmployeeName</th>\n",
       "      <th>JobTitle</th>\n",
       "      <th>BasePay</th>\n",
       "      <th>OvertimePay</th>\n",
       "      <th>OtherPay</th>\n",
       "      <th>Benefits</th>\n",
       "      <th>TotalPay</th>\n",
       "      <th>TotalPayBenefits</th>\n",
       "      <th>Year</th>\n",
       "    </tr>\n",
       "  </thead>\n",
       "  <tbody>\n",
       "    <tr>\n",
       "      <th>0</th>\n",
       "      <td>NATHANIEL FORD</td>\n",
       "      <td>GENERAL MANAGER-METROPOLITAN TRANSIT AUTHORITY</td>\n",
       "      <td>167411.18</td>\n",
       "      <td>0.0</td>\n",
       "      <td>400184.25</td>\n",
       "      <td>NaN</td>\n",
       "      <td>567595.43</td>\n",
       "      <td>567595.43</td>\n",
       "      <td>2011</td>\n",
       "    </tr>\n",
       "    <tr>\n",
       "      <th>1</th>\n",
       "      <td>GARY JIMENEZ</td>\n",
       "      <td>CAPTAIN III (POLICE DEPARTMENT)</td>\n",
       "      <td>155966.02</td>\n",
       "      <td>245131.88</td>\n",
       "      <td>137811.38</td>\n",
       "      <td>NaN</td>\n",
       "      <td>538909.28</td>\n",
       "      <td>538909.28</td>\n",
       "      <td>2011</td>\n",
       "    </tr>\n",
       "    <tr>\n",
       "      <th>2</th>\n",
       "      <td>ALBERT PARDINI</td>\n",
       "      <td>CAPTAIN III (POLICE DEPARTMENT)</td>\n",
       "      <td>212739.13</td>\n",
       "      <td>106088.18</td>\n",
       "      <td>16452.6</td>\n",
       "      <td>NaN</td>\n",
       "      <td>335279.91</td>\n",
       "      <td>335279.91</td>\n",
       "      <td>2011</td>\n",
       "    </tr>\n",
       "    <tr>\n",
       "      <th>3</th>\n",
       "      <td>CHRISTOPHER CHONG</td>\n",
       "      <td>WIRE ROPE CABLE MAINTENANCE MECHANIC</td>\n",
       "      <td>77916.0</td>\n",
       "      <td>56120.71</td>\n",
       "      <td>198306.9</td>\n",
       "      <td>NaN</td>\n",
       "      <td>332343.61</td>\n",
       "      <td>332343.61</td>\n",
       "      <td>2011</td>\n",
       "    </tr>\n",
       "    <tr>\n",
       "      <th>4</th>\n",
       "      <td>PATRICK GARDNER</td>\n",
       "      <td>DEPUTY CHIEF OF DEPARTMENT,(FIRE DEPARTMENT)</td>\n",
       "      <td>134401.6</td>\n",
       "      <td>9737.0</td>\n",
       "      <td>182234.59</td>\n",
       "      <td>NaN</td>\n",
       "      <td>326373.19</td>\n",
       "      <td>326373.19</td>\n",
       "      <td>2011</td>\n",
       "    </tr>\n",
       "  </tbody>\n",
       "</table>\n",
       "</div>"
      ],
      "text/plain": [
       "        EmployeeName                                        JobTitle  \\\n",
       "0     NATHANIEL FORD  GENERAL MANAGER-METROPOLITAN TRANSIT AUTHORITY   \n",
       "1       GARY JIMENEZ                 CAPTAIN III (POLICE DEPARTMENT)   \n",
       "2     ALBERT PARDINI                 CAPTAIN III (POLICE DEPARTMENT)   \n",
       "3  CHRISTOPHER CHONG            WIRE ROPE CABLE MAINTENANCE MECHANIC   \n",
       "4    PATRICK GARDNER    DEPUTY CHIEF OF DEPARTMENT,(FIRE DEPARTMENT)   \n",
       "\n",
       "     BasePay OvertimePay   OtherPay Benefits   TotalPay  TotalPayBenefits  \\\n",
       "0  167411.18         0.0  400184.25      NaN  567595.43         567595.43   \n",
       "1  155966.02   245131.88  137811.38      NaN  538909.28         538909.28   \n",
       "2  212739.13   106088.18    16452.6      NaN  335279.91         335279.91   \n",
       "3    77916.0    56120.71   198306.9      NaN  332343.61         332343.61   \n",
       "4   134401.6      9737.0  182234.59      NaN  326373.19         326373.19   \n",
       "\n",
       "   Year  \n",
       "0  2011  \n",
       "1  2011  \n",
       "2  2011  \n",
       "3  2011  \n",
       "4  2011  "
      ]
     },
     "execution_count": 19,
     "metadata": {},
     "output_type": "execute_result"
    }
   ],
   "source": [
    "data.head()"
   ]
  },
  {
   "cell_type": "code",
   "execution_count": 20,
   "id": "b27386a7",
   "metadata": {
    "execution": {
     "iopub.execute_input": "2024-03-08T13:34:11.361154Z",
     "iopub.status.busy": "2024-03-08T13:34:11.360534Z",
     "iopub.status.idle": "2024-03-08T13:34:11.439174Z",
     "shell.execute_reply": "2024-03-08T13:34:11.438322Z"
    },
    "papermill": {
     "duration": 0.09816,
     "end_time": "2024-03-08T13:34:11.441348",
     "exception": false,
     "start_time": "2024-03-08T13:34:11.343188",
     "status": "completed"
    },
    "tags": []
   },
   "outputs": [
    {
     "data": {
      "text/plain": [
       "4              PATRICK GARDNER\n",
       "6                    ALSON LEE\n",
       "8               MICHAEL MORRIS\n",
       "9           JOANNE HAYES-WHITE\n",
       "10               ARTHUR KENNEY\n",
       "                  ...         \n",
       "32623             JAMES BARDEN\n",
       "36162       Joanne Hayes-White\n",
       "72926     Joanne M Hayes-White\n",
       "102303          Robert E Evans\n",
       "110535    Joanne M Hayes-White\n",
       "Name: EmployeeName, Length: 226, dtype: object"
      ]
     },
     "execution_count": 20,
     "metadata": {},
     "output_type": "execute_result"
    }
   ],
   "source": [
    "data[data.JobTitle.str.contains(\"fire department\", case=False)].EmployeeName"
   ]
  },
  {
   "cell_type": "markdown",
   "id": "83daa123",
   "metadata": {
    "execution": {
     "iopub.execute_input": "2024-03-06T13:27:42.064967Z",
     "iopub.status.busy": "2024-03-06T13:27:42.064447Z",
     "iopub.status.idle": "2024-03-06T13:27:42.073744Z",
     "shell.execute_reply": "2024-03-06T13:27:42.071996Z",
     "shell.execute_reply.started": "2024-03-06T13:27:42.064930Z"
    },
    "papermill": {
     "duration": 0.016005,
     "end_time": "2024-03-08T13:34:11.473755",
     "exception": false,
     "start_time": "2024-03-08T13:34:11.457750",
     "status": "completed"
    },
    "tags": []
   },
   "source": [
    "<h1>Find Minimum, Maximum, and Average BasePay"
   ]
  },
  {
   "cell_type": "code",
   "execution_count": 21,
   "id": "7636ab50",
   "metadata": {
    "execution": {
     "iopub.execute_input": "2024-03-08T13:34:11.508873Z",
     "iopub.status.busy": "2024-03-08T13:34:11.508222Z",
     "iopub.status.idle": "2024-03-08T13:34:11.513518Z",
     "shell.execute_reply": "2024-03-08T13:34:11.512842Z"
    },
    "papermill": {
     "duration": 0.024671,
     "end_time": "2024-03-08T13:34:11.515395",
     "exception": false,
     "start_time": "2024-03-08T13:34:11.490724",
     "status": "completed"
    },
    "tags": []
   },
   "outputs": [
    {
     "data": {
      "text/plain": [
       "Index(['EmployeeName', 'JobTitle', 'BasePay', 'OvertimePay', 'OtherPay',\n",
       "       'Benefits', 'TotalPay', 'TotalPayBenefits', 'Year'],\n",
       "      dtype='object')"
      ]
     },
     "execution_count": 21,
     "metadata": {},
     "output_type": "execute_result"
    }
   ],
   "source": [
    "data.columns"
   ]
  },
  {
   "cell_type": "markdown",
   "id": "ff82c31c",
   "metadata": {
    "execution": {
     "iopub.execute_input": "2024-03-06T13:32:58.821374Z",
     "iopub.status.busy": "2024-03-06T13:32:58.820961Z",
     "iopub.status.idle": "2024-03-06T13:32:58.827029Z",
     "shell.execute_reply": "2024-03-06T13:32:58.825810Z",
     "shell.execute_reply.started": "2024-03-06T13:32:58.821341Z"
    },
    "papermill": {
     "duration": 0.0161,
     "end_time": "2024-03-08T13:34:11.548009",
     "exception": false,
     "start_time": "2024-03-08T13:34:11.531909",
     "status": "completed"
    },
    "tags": []
   },
   "source": [
    "data cleaning"
   ]
  },
  {
   "cell_type": "code",
   "execution_count": 22,
   "id": "b47548c8",
   "metadata": {
    "execution": {
     "iopub.execute_input": "2024-03-08T13:34:11.582573Z",
     "iopub.status.busy": "2024-03-08T13:34:11.581959Z",
     "iopub.status.idle": "2024-03-08T13:34:11.611834Z",
     "shell.execute_reply": "2024-03-08T13:34:11.610781Z"
    },
    "papermill": {
     "duration": 0.050391,
     "end_time": "2024-03-08T13:34:11.614592",
     "exception": false,
     "start_time": "2024-03-08T13:34:11.564201",
     "status": "completed"
    },
    "tags": []
   },
   "outputs": [],
   "source": [
    "data = data[data[\"BasePay\"] != \"Not Provided\"]"
   ]
  },
  {
   "cell_type": "code",
   "execution_count": 23,
   "id": "e2b94435",
   "metadata": {
    "execution": {
     "iopub.execute_input": "2024-03-08T13:34:11.648844Z",
     "iopub.status.busy": "2024-03-08T13:34:11.648454Z",
     "iopub.status.idle": "2024-03-08T13:34:11.673093Z",
     "shell.execute_reply": "2024-03-08T13:34:11.672086Z"
    },
    "papermill": {
     "duration": 0.044275,
     "end_time": "2024-03-08T13:34:11.675318",
     "exception": false,
     "start_time": "2024-03-08T13:34:11.631043",
     "status": "completed"
    },
    "tags": []
   },
   "outputs": [],
   "source": [
    "data[\"BasePay\"] = data[\"BasePay\"].astype(\"float\")"
   ]
  },
  {
   "cell_type": "code",
   "execution_count": 24,
   "id": "c80114f5",
   "metadata": {
    "execution": {
     "iopub.execute_input": "2024-03-08T13:34:11.710690Z",
     "iopub.status.busy": "2024-03-08T13:34:11.710286Z",
     "iopub.status.idle": "2024-03-08T13:34:11.717626Z",
     "shell.execute_reply": "2024-03-08T13:34:11.716565Z"
    },
    "papermill": {
     "duration": 0.027887,
     "end_time": "2024-03-08T13:34:11.719929",
     "exception": false,
     "start_time": "2024-03-08T13:34:11.692042",
     "status": "completed"
    },
    "tags": []
   },
   "outputs": [],
   "source": [
    "data[\"BasePay\"] = data[\"BasePay\"].fillna(value=data[\"BasePay\"].mean())"
   ]
  },
  {
   "cell_type": "code",
   "execution_count": 25,
   "id": "fb189770",
   "metadata": {
    "execution": {
     "iopub.execute_input": "2024-03-08T13:34:11.754160Z",
     "iopub.status.busy": "2024-03-08T13:34:11.753755Z",
     "iopub.status.idle": "2024-03-08T13:34:11.801475Z",
     "shell.execute_reply": "2024-03-08T13:34:11.800356Z"
    },
    "papermill": {
     "duration": 0.067543,
     "end_time": "2024-03-08T13:34:11.803828",
     "exception": false,
     "start_time": "2024-03-08T13:34:11.736285",
     "status": "completed"
    },
    "tags": []
   },
   "outputs": [
    {
     "data": {
      "text/plain": [
       "EmployeeName            0\n",
       "JobTitle                0\n",
       "BasePay                 0\n",
       "OvertimePay             0\n",
       "OtherPay                0\n",
       "Benefits            36159\n",
       "TotalPay                0\n",
       "TotalPayBenefits        0\n",
       "Year                    0\n",
       "dtype: int64"
      ]
     },
     "execution_count": 25,
     "metadata": {},
     "output_type": "execute_result"
    }
   ],
   "source": [
    "data.isnull().sum()"
   ]
  },
  {
   "cell_type": "code",
   "execution_count": 26,
   "id": "c69c33e6",
   "metadata": {
    "execution": {
     "iopub.execute_input": "2024-03-08T13:34:11.839716Z",
     "iopub.status.busy": "2024-03-08T13:34:11.839368Z",
     "iopub.status.idle": "2024-03-08T13:34:11.846606Z",
     "shell.execute_reply": "2024-03-08T13:34:11.845853Z"
    },
    "papermill": {
     "duration": 0.027717,
     "end_time": "2024-03-08T13:34:11.848662",
     "exception": false,
     "start_time": "2024-03-08T13:34:11.820945",
     "status": "completed"
    },
    "tags": []
   },
   "outputs": [
    {
     "name": "stdout",
     "output_type": "stream",
     "text": [
      "Maximum Base Pay : 319275.01\n",
      "Minimum Base Pay : -166.01\n",
      "Average Base Pay : 66325.44884048769\n"
     ]
    }
   ],
   "source": [
    "print(\"Maximum Base Pay :\", data[\"BasePay\"].max())\n",
    "print(\"Minimum Base Pay :\", data[\"BasePay\"].min())\n",
    "print(\"Average Base Pay :\", data[\"BasePay\"].mean())"
   ]
  },
  {
   "cell_type": "markdown",
   "id": "31da2655",
   "metadata": {
    "papermill": {
     "duration": 0.017189,
     "end_time": "2024-03-08T13:34:11.883126",
     "exception": false,
     "start_time": "2024-03-08T13:34:11.865937",
     "status": "completed"
    },
    "tags": []
   },
   "source": [
    "<h1>Replace 'Not Provided' in EmployeeName' Column to NaN"
   ]
  },
  {
   "cell_type": "code",
   "execution_count": 27,
   "id": "68b9ba6d",
   "metadata": {
    "execution": {
     "iopub.execute_input": "2024-03-08T13:34:11.918641Z",
     "iopub.status.busy": "2024-03-08T13:34:11.918262Z",
     "iopub.status.idle": "2024-03-08T13:34:11.945754Z",
     "shell.execute_reply": "2024-03-08T13:34:11.944965Z"
    },
    "papermill": {
     "duration": 0.047577,
     "end_time": "2024-03-08T13:34:11.947992",
     "exception": false,
     "start_time": "2024-03-08T13:34:11.900415",
     "status": "completed"
    },
    "tags": []
   },
   "outputs": [],
   "source": [
    "data[\"EmployeeName\"] = data[\"EmployeeName\"].replace({\"Not Provided\": np.nan})"
   ]
  },
  {
   "cell_type": "markdown",
   "id": "4046e91b",
   "metadata": {
    "execution": {
     "iopub.execute_input": "2024-03-06T13:42:34.199731Z",
     "iopub.status.busy": "2024-03-06T13:42:34.199298Z",
     "iopub.status.idle": "2024-03-06T13:42:34.207516Z",
     "shell.execute_reply": "2024-03-06T13:42:34.205652Z",
     "shell.execute_reply.started": "2024-03-06T13:42:34.199701Z"
    },
    "papermill": {
     "duration": 0.016276,
     "end_time": "2024-03-08T13:34:11.981288",
     "exception": false,
     "start_time": "2024-03-08T13:34:11.965012",
     "status": "completed"
    },
    "tags": []
   },
   "source": [
    "<h1>Drop The Rows Having 5 Missing Values"
   ]
  },
  {
   "cell_type": "code",
   "execution_count": 28,
   "id": "a5bac346",
   "metadata": {
    "execution": {
     "iopub.execute_input": "2024-03-08T13:34:12.016888Z",
     "iopub.status.busy": "2024-03-08T13:34:12.016272Z",
     "iopub.status.idle": "2024-03-08T13:34:12.115950Z",
     "shell.execute_reply": "2024-03-08T13:34:12.115005Z"
    },
    "papermill": {
     "duration": 0.12067,
     "end_time": "2024-03-08T13:34:12.118505",
     "exception": false,
     "start_time": "2024-03-08T13:34:11.997835",
     "status": "completed"
    },
    "tags": []
   },
   "outputs": [],
   "source": [
    "data.dropna(thresh=data.shape[1]-5+1, inplace=True)"
   ]
  },
  {
   "cell_type": "code",
   "execution_count": 29,
   "id": "e26527ec",
   "metadata": {
    "execution": {
     "iopub.execute_input": "2024-03-08T13:34:12.153753Z",
     "iopub.status.busy": "2024-03-08T13:34:12.153283Z",
     "iopub.status.idle": "2024-03-08T13:34:12.159934Z",
     "shell.execute_reply": "2024-03-08T13:34:12.158865Z"
    },
    "papermill": {
     "duration": 0.02699,
     "end_time": "2024-03-08T13:34:12.162161",
     "exception": false,
     "start_time": "2024-03-08T13:34:12.135171",
     "status": "completed"
    },
    "tags": []
   },
   "outputs": [
    {
     "data": {
      "text/plain": [
       "(148650, 9)"
      ]
     },
     "execution_count": 29,
     "metadata": {},
     "output_type": "execute_result"
    }
   ],
   "source": [
    "data.shape"
   ]
  },
  {
   "cell_type": "markdown",
   "id": "83a8da11",
   "metadata": {
    "papermill": {
     "duration": 0.016538,
     "end_time": "2024-03-08T13:34:12.195817",
     "exception": false,
     "start_time": "2024-03-08T13:34:12.179279",
     "status": "completed"
    },
    "tags": []
   },
   "source": [
    "<h1>Find Job Title of ALBERT PARDINI"
   ]
  },
  {
   "cell_type": "code",
   "execution_count": 30,
   "id": "ba9f843f",
   "metadata": {
    "execution": {
     "iopub.execute_input": "2024-03-08T13:34:12.230997Z",
     "iopub.status.busy": "2024-03-08T13:34:12.230631Z",
     "iopub.status.idle": "2024-03-08T13:34:12.243703Z",
     "shell.execute_reply": "2024-03-08T13:34:12.242611Z"
    },
    "papermill": {
     "duration": 0.033543,
     "end_time": "2024-03-08T13:34:12.246004",
     "exception": false,
     "start_time": "2024-03-08T13:34:12.212461",
     "status": "completed"
    },
    "tags": []
   },
   "outputs": [
    {
     "data": {
      "text/html": [
       "<div>\n",
       "<style scoped>\n",
       "    .dataframe tbody tr th:only-of-type {\n",
       "        vertical-align: middle;\n",
       "    }\n",
       "\n",
       "    .dataframe tbody tr th {\n",
       "        vertical-align: top;\n",
       "    }\n",
       "\n",
       "    .dataframe thead th {\n",
       "        text-align: right;\n",
       "    }\n",
       "</style>\n",
       "<table border=\"1\" class=\"dataframe\">\n",
       "  <thead>\n",
       "    <tr style=\"text-align: right;\">\n",
       "      <th></th>\n",
       "      <th>EmployeeName</th>\n",
       "      <th>JobTitle</th>\n",
       "      <th>BasePay</th>\n",
       "      <th>OvertimePay</th>\n",
       "      <th>OtherPay</th>\n",
       "      <th>Benefits</th>\n",
       "      <th>TotalPay</th>\n",
       "      <th>TotalPayBenefits</th>\n",
       "      <th>Year</th>\n",
       "    </tr>\n",
       "  </thead>\n",
       "  <tbody>\n",
       "    <tr>\n",
       "      <th>0</th>\n",
       "      <td>NATHANIEL FORD</td>\n",
       "      <td>GENERAL MANAGER-METROPOLITAN TRANSIT AUTHORITY</td>\n",
       "      <td>167411.18</td>\n",
       "      <td>0.0</td>\n",
       "      <td>400184.25</td>\n",
       "      <td>NaN</td>\n",
       "      <td>567595.43</td>\n",
       "      <td>567595.43</td>\n",
       "      <td>2011</td>\n",
       "    </tr>\n",
       "  </tbody>\n",
       "</table>\n",
       "</div>"
      ],
      "text/plain": [
       "     EmployeeName                                        JobTitle    BasePay  \\\n",
       "0  NATHANIEL FORD  GENERAL MANAGER-METROPOLITAN TRANSIT AUTHORITY  167411.18   \n",
       "\n",
       "  OvertimePay   OtherPay Benefits   TotalPay  TotalPayBenefits  Year  \n",
       "0         0.0  400184.25      NaN  567595.43         567595.43  2011  "
      ]
     },
     "execution_count": 30,
     "metadata": {},
     "output_type": "execute_result"
    }
   ],
   "source": [
    "data.head(1)"
   ]
  },
  {
   "cell_type": "code",
   "execution_count": 31,
   "id": "f802204f",
   "metadata": {
    "execution": {
     "iopub.execute_input": "2024-03-08T13:34:12.282210Z",
     "iopub.status.busy": "2024-03-08T13:34:12.281494Z",
     "iopub.status.idle": "2024-03-08T13:34:12.303976Z",
     "shell.execute_reply": "2024-03-08T13:34:12.302988Z"
    },
    "papermill": {
     "duration": 0.04312,
     "end_time": "2024-03-08T13:34:12.306243",
     "exception": false,
     "start_time": "2024-03-08T13:34:12.263123",
     "status": "completed"
    },
    "tags": []
   },
   "outputs": [
    {
     "data": {
      "text/plain": [
       "2    CAPTAIN III (POLICE DEPARTMENT)\n",
       "Name: JobTitle, dtype: object"
      ]
     },
     "execution_count": 31,
     "metadata": {},
     "output_type": "execute_result"
    }
   ],
   "source": [
    "data[data[\"EmployeeName\"] == \"ALBERT PARDINI\"][\"JobTitle\"]"
   ]
  },
  {
   "cell_type": "markdown",
   "id": "dc0df808",
   "metadata": {
    "papermill": {
     "duration": 0.01677,
     "end_time": "2024-03-08T13:34:12.340183",
     "exception": false,
     "start_time": "2024-03-08T13:34:12.323413",
     "status": "completed"
    },
    "tags": []
   },
   "source": [
    "<h1>How Much ALBERT PARDINI Make (Include Benefits)?"
   ]
  },
  {
   "cell_type": "code",
   "execution_count": 32,
   "id": "9fb8f71f",
   "metadata": {
    "execution": {
     "iopub.execute_input": "2024-03-08T13:34:12.376014Z",
     "iopub.status.busy": "2024-03-08T13:34:12.375644Z",
     "iopub.status.idle": "2024-03-08T13:34:12.421160Z",
     "shell.execute_reply": "2024-03-08T13:34:12.419971Z"
    },
    "papermill": {
     "duration": 0.066245,
     "end_time": "2024-03-08T13:34:12.423426",
     "exception": false,
     "start_time": "2024-03-08T13:34:12.357181",
     "status": "completed"
    },
    "tags": []
   },
   "outputs": [
    {
     "data": {
      "text/plain": [
       "EmployeeName            2\n",
       "JobTitle                0\n",
       "BasePay                 0\n",
       "OvertimePay             0\n",
       "OtherPay                0\n",
       "Benefits            36159\n",
       "TotalPay                0\n",
       "TotalPayBenefits        0\n",
       "Year                    0\n",
       "dtype: int64"
      ]
     },
     "execution_count": 32,
     "metadata": {},
     "output_type": "execute_result"
    }
   ],
   "source": [
    "data.isnull().sum()"
   ]
  },
  {
   "cell_type": "code",
   "execution_count": 33,
   "id": "5894bfca",
   "metadata": {
    "execution": {
     "iopub.execute_input": "2024-03-08T13:34:12.458817Z",
     "iopub.status.busy": "2024-03-08T13:34:12.458426Z",
     "iopub.status.idle": "2024-03-08T13:34:12.466421Z",
     "shell.execute_reply": "2024-03-08T13:34:12.465422Z"
    },
    "papermill": {
     "duration": 0.028297,
     "end_time": "2024-03-08T13:34:12.468607",
     "exception": false,
     "start_time": "2024-03-08T13:34:12.440310",
     "status": "completed"
    },
    "tags": []
   },
   "outputs": [
    {
     "data": {
      "text/plain": [
       "EmployeeName         object\n",
       "JobTitle             object\n",
       "BasePay             float64\n",
       "OvertimePay          object\n",
       "OtherPay             object\n",
       "Benefits             object\n",
       "TotalPay            float64\n",
       "TotalPayBenefits    float64\n",
       "Year                  int64\n",
       "dtype: object"
      ]
     },
     "execution_count": 33,
     "metadata": {},
     "output_type": "execute_result"
    }
   ],
   "source": [
    "data.dtypes"
   ]
  },
  {
   "cell_type": "code",
   "execution_count": 34,
   "id": "0edc41f3",
   "metadata": {
    "execution": {
     "iopub.execute_input": "2024-03-08T13:34:12.505978Z",
     "iopub.status.busy": "2024-03-08T13:34:12.505589Z",
     "iopub.status.idle": "2024-03-08T13:34:12.527229Z",
     "shell.execute_reply": "2024-03-08T13:34:12.525878Z"
    },
    "papermill": {
     "duration": 0.042334,
     "end_time": "2024-03-08T13:34:12.529447",
     "exception": false,
     "start_time": "2024-03-08T13:34:12.487113",
     "status": "completed"
    },
    "tags": []
   },
   "outputs": [],
   "source": [
    "data[\"Benefits\"] = data[\"Benefits\"].astype(\"float\")"
   ]
  },
  {
   "cell_type": "code",
   "execution_count": 35,
   "id": "1d8065f8",
   "metadata": {
    "execution": {
     "iopub.execute_input": "2024-03-08T13:34:12.565728Z",
     "iopub.status.busy": "2024-03-08T13:34:12.565333Z",
     "iopub.status.idle": "2024-03-08T13:34:12.572429Z",
     "shell.execute_reply": "2024-03-08T13:34:12.571436Z"
    },
    "papermill": {
     "duration": 0.027574,
     "end_time": "2024-03-08T13:34:12.574768",
     "exception": false,
     "start_time": "2024-03-08T13:34:12.547194",
     "status": "completed"
    },
    "tags": []
   },
   "outputs": [],
   "source": [
    "data[\"Benefits\"] = data[\"Benefits\"].fillna(value=data[\"Benefits\"].mean())"
   ]
  },
  {
   "cell_type": "code",
   "execution_count": 36,
   "id": "1e311d10",
   "metadata": {
    "execution": {
     "iopub.execute_input": "2024-03-08T13:34:12.611034Z",
     "iopub.status.busy": "2024-03-08T13:34:12.610636Z",
     "iopub.status.idle": "2024-03-08T13:34:12.633804Z",
     "shell.execute_reply": "2024-03-08T13:34:12.632762Z"
    },
    "papermill": {
     "duration": 0.043935,
     "end_time": "2024-03-08T13:34:12.635889",
     "exception": false,
     "start_time": "2024-03-08T13:34:12.591954",
     "status": "completed"
    },
    "tags": []
   },
   "outputs": [
    {
     "data": {
      "text/plain": [
       "2    25007.893151\n",
       "Name: Benefits, dtype: float64"
      ]
     },
     "execution_count": 36,
     "metadata": {},
     "output_type": "execute_result"
    }
   ],
   "source": [
    "data[data[\"EmployeeName\"] == \"ALBERT PARDINI\"][\"Benefits\"]"
   ]
  },
  {
   "cell_type": "markdown",
   "id": "e4b95a69",
   "metadata": {
    "papermill": {
     "duration": 0.01712,
     "end_time": "2024-03-08T13:34:12.670285",
     "exception": false,
     "start_time": "2024-03-08T13:34:12.653165",
     "status": "completed"
    },
    "tags": []
   },
   "source": [
    "<h1>Display Name of The Person Having The Highest BasePay"
   ]
  },
  {
   "cell_type": "code",
   "execution_count": 37,
   "id": "8c632f54",
   "metadata": {
    "execution": {
     "iopub.execute_input": "2024-03-08T13:34:12.707340Z",
     "iopub.status.busy": "2024-03-08T13:34:12.706642Z",
     "iopub.status.idle": "2024-03-08T13:34:12.716164Z",
     "shell.execute_reply": "2024-03-08T13:34:12.715304Z"
    },
    "papermill": {
     "duration": 0.030476,
     "end_time": "2024-03-08T13:34:12.718204",
     "exception": false,
     "start_time": "2024-03-08T13:34:12.687728",
     "status": "completed"
    },
    "tags": []
   },
   "outputs": [
    {
     "data": {
      "text/plain": [
       "72925    Gregory P Suhr\n",
       "Name: EmployeeName, dtype: object"
      ]
     },
     "execution_count": 37,
     "metadata": {},
     "output_type": "execute_result"
    }
   ],
   "source": [
    "data[data[\"BasePay\"].max() == data[\"BasePay\"]][\"EmployeeName\"]"
   ]
  },
  {
   "cell_type": "markdown",
   "id": "e379e76c",
   "metadata": {
    "papermill": {
     "duration": 0.017653,
     "end_time": "2024-03-08T13:34:12.753813",
     "exception": false,
     "start_time": "2024-03-08T13:34:12.736160",
     "status": "completed"
    },
    "tags": []
   },
   "source": [
    "<h1>Find Average BasePay of All Employee Per Year \n"
   ]
  },
  {
   "cell_type": "code",
   "execution_count": 38,
   "id": "90d1e692",
   "metadata": {
    "execution": {
     "iopub.execute_input": "2024-03-08T13:34:12.790445Z",
     "iopub.status.busy": "2024-03-08T13:34:12.790067Z",
     "iopub.status.idle": "2024-03-08T13:34:13.003260Z",
     "shell.execute_reply": "2024-03-08T13:34:13.002139Z"
    },
    "papermill": {
     "duration": 0.234342,
     "end_time": "2024-03-08T13:34:13.005619",
     "exception": false,
     "start_time": "2024-03-08T13:34:12.771277",
     "status": "completed"
    },
    "tags": []
   },
   "outputs": [
    {
     "data": {
      "image/png": "[encoded data removed]",
      "text/plain": [
       "<Figure size 640x480 with 1 Axes>"
      ]
     },
     "metadata": {},
     "output_type": "display_data"
    }
   ],
   "source": [
    "data.groupby(by=[\"Year\"])[\"BasePay\"].mean().plot.barh()\n",
    "plt.xlabel(\"Average of BasePay\")\n",
    "plt.show()"
   ]
  },
  {
   "cell_type": "markdown",
   "id": "095571e6",
   "metadata": {
    "papermill": {
     "duration": 0.01738,
     "end_time": "2024-03-08T13:34:13.041748",
     "exception": false,
     "start_time": "2024-03-08T13:34:13.024368",
     "status": "completed"
    },
    "tags": []
   },
   "source": [
    "<h1>Find Average BasePay of All Employee Per JobTitle \n"
   ]
  },
  {
   "cell_type": "code",
   "execution_count": 39,
   "id": "9a023e36",
   "metadata": {
    "execution": {
     "iopub.execute_input": "2024-03-08T13:34:13.079110Z",
     "iopub.status.busy": "2024-03-08T13:34:13.078671Z",
     "iopub.status.idle": "2024-03-08T13:34:13.104704Z",
     "shell.execute_reply": "2024-03-08T13:34:13.103656Z"
    },
    "papermill": {
     "duration": 0.04773,
     "end_time": "2024-03-08T13:34:13.107054",
     "exception": false,
     "start_time": "2024-03-08T13:34:13.059324",
     "status": "completed"
    },
    "tags": []
   },
   "outputs": [
    {
     "data": {
      "text/plain": [
       "JobTitle\n",
       "ACCOUNT CLERK                                     43300.806506\n",
       "ACCOUNTANT                                        46643.172000\n",
       "ACCOUNTANT INTERN                                 28732.663958\n",
       "ACPO,JuvP, Juv Prob (SFERS)                       62290.780000\n",
       "ACUPUNCTURIST                                     66374.400000\n",
       "                                                      ...     \n",
       "X-RAY LABORATORY AIDE                             47664.773077\n",
       "X-Ray Laboratory Aide                             46086.387100\n",
       "YOUTH COMMISSION ADVISOR, BOARD OF SUPERVISORS    52609.910000\n",
       "Youth Comm Advisor                                39077.957500\n",
       "ZOO CURATOR                                       43148.000000\n",
       "Name: BasePay, Length: 2158, dtype: float64"
      ]
     },
     "execution_count": 39,
     "metadata": {},
     "output_type": "execute_result"
    }
   ],
   "source": [
    "data.groupby(\"JobTitle\")[\"BasePay\"].mean()"
   ]
  },
  {
   "cell_type": "markdown",
   "id": "060e60b5",
   "metadata": {
    "papermill": {
     "duration": 0.018676,
     "end_time": "2024-03-08T13:34:13.143570",
     "exception": false,
     "start_time": "2024-03-08T13:34:13.124894",
     "status": "completed"
    },
    "tags": []
   },
   "source": [
    "<h1>Find Average BasePay of Employee Having Job Title ACCOUNTANT  \n"
   ]
  },
  {
   "cell_type": "code",
   "execution_count": 40,
   "id": "a440c125",
   "metadata": {
    "execution": {
     "iopub.execute_input": "2024-03-08T13:34:13.180503Z",
     "iopub.status.busy": "2024-03-08T13:34:13.180155Z",
     "iopub.status.idle": "2024-03-08T13:34:13.198700Z",
     "shell.execute_reply": "2024-03-08T13:34:13.197586Z"
    },
    "papermill": {
     "duration": 0.03981,
     "end_time": "2024-03-08T13:34:13.200965",
     "exception": false,
     "start_time": "2024-03-08T13:34:13.161155",
     "status": "completed"
    },
    "tags": []
   },
   "outputs": [
    {
     "data": {
      "text/plain": [
       "46643.172"
      ]
     },
     "execution_count": 40,
     "metadata": {},
     "output_type": "execute_result"
    }
   ],
   "source": [
    "data[data[\"JobTitle\"] == \"ACCOUNTANT\"][\"BasePay\"].mean()"
   ]
  },
  {
   "cell_type": "markdown",
   "id": "169e7262",
   "metadata": {
    "papermill": {
     "duration": 0.018285,
     "end_time": "2024-03-08T13:34:13.237285",
     "exception": false,
     "start_time": "2024-03-08T13:34:13.219000",
     "status": "completed"
    },
    "tags": []
   },
   "source": [
    "<h1>Find Top 5 Most Common Jobs"
   ]
  },
  {
   "cell_type": "code",
   "execution_count": 41,
   "id": "57ff384a",
   "metadata": {
    "execution": {
     "iopub.execute_input": "2024-03-08T13:34:13.274667Z",
     "iopub.status.busy": "2024-03-08T13:34:13.274284Z",
     "iopub.status.idle": "2024-03-08T13:34:13.502589Z",
     "shell.execute_reply": "2024-03-08T13:34:13.501348Z"
    },
    "papermill": {
     "duration": 0.249703,
     "end_time": "2024-03-08T13:34:13.504943",
     "exception": false,
     "start_time": "2024-03-08T13:34:13.255240",
     "status": "completed"
    },
    "tags": []
   },
   "outputs": [
    {
     "data": {
      "image/png": "[encoded data removed]",
      "text/plain": [
       "<Figure size 640x480 with 1 Axes>"
      ]
     },
     "metadata": {},
     "output_type": "display_data"
    }
   ],
   "source": [
    "data_ = data[\"JobTitle\"].value_counts().sort_values(ascending=False).head().to_frame()\n",
    "sns.barplot(data=data_, x=\"count\", y=data_.index)\n",
    "plt.show()"
   ]
  },
  {
   "cell_type": "code",
   "execution_count": null,
   "id": "6971cd1f",
   "metadata": {
    "papermill": {
     "duration": 0.018654,
     "end_time": "2024-03-08T13:34:13.542481",
     "exception": false,
     "start_time": "2024-03-08T13:34:13.523827",
     "status": "completed"
    },
    "tags": []
   },
   "outputs": [],
   "source": []
  },
  {
   "cell_type": "code",
   "execution_count": null,
   "id": "9eb19e88",
   "metadata": {
    "papermill": {
     "duration": 0.018016,
     "end_time": "2024-03-08T13:34:13.579409",
     "exception": false,
     "start_time": "2024-03-08T13:34:13.561393",
     "status": "completed"
    },
    "tags": []
   },
   "outputs": [],
   "source": []
  }
 ],
 "metadata": {
  "kaggle": {
   "accelerator": "none",
   "dataSources": [
    {
     "datasetId": 14,
     "sourceId": 827864,
     "sourceType": "datasetVersion"
    }
   ],
   "dockerImageVersionId": 30664,
   "isGpuEnabled": false,
   "isInternetEnabled": false,
   "language": "python",
   "sourceType": "notebook"
  },
  "kernelspec": {
   "display_name": "Python 3",
   "language": "python",
   "name": "python3"
  },
  "language_info": {
   "codemirror_mode": {
    "name": "ipython",
    "version": 3
   },
   "file_extension": ".py",
   "mimetype": "text/x-python",
   "name": "python",
   "nbconvert_exporter": "python",
   "pygments_lexer": "ipython3",
   "version": "3.10.13"
  },
  "papermill": {
   "default_parameters": {},
   "duration": 14.37094,
   "end_time": "2024-03-08T13:34:14.218450",
   "environment_variables": {},
   "exception": null,
   "input_path": "__notebook__.ipynb",
   "output_path": "__notebook__.ipynb",
   "parameters": {},
   "start_time": "2024-03-08T13:33:59.847510",
   "version": "2.5.0"
  }
 },
 "nbformat": 4,
 "nbformat_minor": 5
}
