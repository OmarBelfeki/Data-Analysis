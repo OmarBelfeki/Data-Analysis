{
 "cells": [
  {
   "cell_type": "code",
   "execution_count": 1,
   "id": "b7463c61",
   "metadata": {
    "_cell_guid": "b1076dfc-b9ad-4769-8c92-a6c4dae69d19",
    "_uuid": "8f2839f25d086af736a60e9eeb907d3b93b6e0e5",
    "execution": {
     "iopub.execute_input": "2024-03-08T19:27:23.827322Z",
     "iopub.status.busy": "2024-03-08T19:27:23.826922Z",
     "iopub.status.idle": "2024-03-08T19:27:26.543334Z",
     "shell.execute_reply": "2024-03-08T19:27:26.542108Z"
    },
    "papermill": {
     "duration": 2.732007,
     "end_time": "2024-03-08T19:27:26.545715",
     "exception": false,
     "start_time": "2024-03-08T19:27:23.813708",
     "status": "completed"
    },
    "tags": []
   },
   "outputs": [
    {
     "name": "stdout",
     "output_type": "stream",
     "text": [
      "/kaggle/input/forest-fires-in-brazil/amazon.csv\n"
     ]
    }
   ],
   "source": [
    "# This Python 3 environment comes with many helpful analytics libraries installed\n",
    "# It is defined by the kaggle/python Docker image: https://github.com/kaggle/docker-python\n",
    "# For example, here's several helpful packages to load\n",
    "\n",
    "import numpy as np # linear algebra\n",
    "import pandas as pd # data processing, CSV file I/O (e.g. pd.read_csv)\n",
    "import seaborn as sns\n",
    "import matplotlib.pyplot as plt\n",
    "\n",
    "# Input data files are available in the read-only \"../input/\" directory\n",
    "# For example, running this (by clicking run or pressing Shift+Enter) will list all files under the input directory\n",
    "\n",
    "import os\n",
    "for dirname, _, filenames in os.walk('/kaggle/input'):\n",
    "    for filename in filenames:\n",
    "        print(os.path.join(dirname, filename))\n",
    "\n",
    "# You can write up to 20GB to the current directory (/kaggle/working/) that gets preserved as output when you create a version using \"Save & Run All\" \n",
    "# You can also write temporary files to /kaggle/temp/, but they won't be saved outside of the current session"
   ]
  },
  {
   "cell_type": "code",
   "execution_count": 2,
   "id": "7bfe300b",
   "metadata": {
    "execution": {
     "iopub.execute_input": "2024-03-08T19:27:26.567596Z",
     "iopub.status.busy": "2024-03-08T19:27:26.567084Z",
     "iopub.status.idle": "2024-03-08T19:27:26.612099Z",
     "shell.execute_reply": "2024-03-08T19:27:26.610835Z"
    },
    "papermill": {
     "duration": 0.058937,
     "end_time": "2024-03-08T19:27:26.614762",
     "exception": false,
     "start_time": "2024-03-08T19:27:26.555825",
     "status": "completed"
    },
    "tags": []
   },
   "outputs": [],
   "source": [
    "data = pd.read_csv(\"../input/forest-fires-in-brazil/amazon.csv\", encoding = \"ISO-8859-1\",index_col = ['date'],parse_dates = ['date'])"
   ]
  },
  {
   "cell_type": "markdown",
   "id": "fcb92d60",
   "metadata": {
    "execution": {
     "iopub.execute_input": "2024-03-08T17:57:05.322480Z",
     "iopub.status.busy": "2024-03-08T17:57:05.321920Z",
     "iopub.status.idle": "2024-03-08T17:57:05.342808Z",
     "shell.execute_reply": "2024-03-08T17:57:05.341564Z",
     "shell.execute_reply.started": "2024-03-08T17:57:05.322433Z"
    },
    "papermill": {
     "duration": 0.009427,
     "end_time": "2024-03-08T19:27:26.634079",
     "exception": false,
     "start_time": "2024-03-08T19:27:26.624652",
     "status": "completed"
    },
    "tags": []
   },
   "source": [
    "<h1>Display Top 5 Rows of The Dataset\n"
   ]
  },
  {
   "cell_type": "code",
   "execution_count": 3,
   "id": "745a3fb8",
   "metadata": {
    "execution": {
     "iopub.execute_input": "2024-03-08T19:27:26.657536Z",
     "iopub.status.busy": "2024-03-08T19:27:26.656491Z",
     "iopub.status.idle": "2024-03-08T19:27:26.678168Z",
     "shell.execute_reply": "2024-03-08T19:27:26.676960Z"
    },
    "papermill": {
     "duration": 0.036579,
     "end_time": "2024-03-08T19:27:26.680436",
     "exception": false,
     "start_time": "2024-03-08T19:27:26.643857",
     "status": "completed"
    },
    "tags": []
   },
   "outputs": [
    {
     "data": {
      "text/html": [
       "<div>\n",
       "<style scoped>\n",
       "    .dataframe tbody tr th:only-of-type {\n",
       "        vertical-align: middle;\n",
       "    }\n",
       "\n",
       "    .dataframe tbody tr th {\n",
       "        vertical-align: top;\n",
       "    }\n",
       "\n",
       "    .dataframe thead th {\n",
       "        text-align: right;\n",
       "    }\n",
       "</style>\n",
       "<table border=\"1\" class=\"dataframe\">\n",
       "  <thead>\n",
       "    <tr style=\"text-align: right;\">\n",
       "      <th></th>\n",
       "      <th>year</th>\n",
       "      <th>state</th>\n",
       "      <th>month</th>\n",
       "      <th>number</th>\n",
       "    </tr>\n",
       "    <tr>\n",
       "      <th>date</th>\n",
       "      <th></th>\n",
       "      <th></th>\n",
       "      <th></th>\n",
       "      <th></th>\n",
       "    </tr>\n",
       "  </thead>\n",
       "  <tbody>\n",
       "    <tr>\n",
       "      <th>1998-01-01</th>\n",
       "      <td>1998</td>\n",
       "      <td>Acre</td>\n",
       "      <td>Janeiro</td>\n",
       "      <td>0.0</td>\n",
       "    </tr>\n",
       "    <tr>\n",
       "      <th>1999-01-01</th>\n",
       "      <td>1999</td>\n",
       "      <td>Acre</td>\n",
       "      <td>Janeiro</td>\n",
       "      <td>0.0</td>\n",
       "    </tr>\n",
       "    <tr>\n",
       "      <th>2000-01-01</th>\n",
       "      <td>2000</td>\n",
       "      <td>Acre</td>\n",
       "      <td>Janeiro</td>\n",
       "      <td>0.0</td>\n",
       "    </tr>\n",
       "    <tr>\n",
       "      <th>2001-01-01</th>\n",
       "      <td>2001</td>\n",
       "      <td>Acre</td>\n",
       "      <td>Janeiro</td>\n",
       "      <td>0.0</td>\n",
       "    </tr>\n",
       "    <tr>\n",
       "      <th>2002-01-01</th>\n",
       "      <td>2002</td>\n",
       "      <td>Acre</td>\n",
       "      <td>Janeiro</td>\n",
       "      <td>0.0</td>\n",
       "    </tr>\n",
       "  </tbody>\n",
       "</table>\n",
       "</div>"
      ],
      "text/plain": [
       "            year state    month  number\n",
       "date                                   \n",
       "1998-01-01  1998  Acre  Janeiro     0.0\n",
       "1999-01-01  1999  Acre  Janeiro     0.0\n",
       "2000-01-01  2000  Acre  Janeiro     0.0\n",
       "2001-01-01  2001  Acre  Janeiro     0.0\n",
       "2002-01-01  2002  Acre  Janeiro     0.0"
      ]
     },
     "execution_count": 3,
     "metadata": {},
     "output_type": "execute_result"
    }
   ],
   "source": [
    "data.head()"
   ]
  },
  {
   "cell_type": "markdown",
   "id": "be9f9781",
   "metadata": {
    "papermill": {
     "duration": 0.009673,
     "end_time": "2024-03-08T19:27:26.699994",
     "exception": false,
     "start_time": "2024-03-08T19:27:26.690321",
     "status": "completed"
    },
    "tags": []
   },
   "source": [
    "<h1>Check Last 5 Rows\n"
   ]
  },
  {
   "cell_type": "code",
   "execution_count": 4,
   "id": "665273a2",
   "metadata": {
    "execution": {
     "iopub.execute_input": "2024-03-08T19:27:26.722138Z",
     "iopub.status.busy": "2024-03-08T19:27:26.721478Z",
     "iopub.status.idle": "2024-03-08T19:27:26.734044Z",
     "shell.execute_reply": "2024-03-08T19:27:26.732809Z"
    },
    "papermill": {
     "duration": 0.026595,
     "end_time": "2024-03-08T19:27:26.736579",
     "exception": false,
     "start_time": "2024-03-08T19:27:26.709984",
     "status": "completed"
    },
    "tags": []
   },
   "outputs": [
    {
     "data": {
      "text/html": [
       "<div>\n",
       "<style scoped>\n",
       "    .dataframe tbody tr th:only-of-type {\n",
       "        vertical-align: middle;\n",
       "    }\n",
       "\n",
       "    .dataframe tbody tr th {\n",
       "        vertical-align: top;\n",
       "    }\n",
       "\n",
       "    .dataframe thead th {\n",
       "        text-align: right;\n",
       "    }\n",
       "</style>\n",
       "<table border=\"1\" class=\"dataframe\">\n",
       "  <thead>\n",
       "    <tr style=\"text-align: right;\">\n",
       "      <th></th>\n",
       "      <th>year</th>\n",
       "      <th>state</th>\n",
       "      <th>month</th>\n",
       "      <th>number</th>\n",
       "    </tr>\n",
       "    <tr>\n",
       "      <th>date</th>\n",
       "      <th></th>\n",
       "      <th></th>\n",
       "      <th></th>\n",
       "      <th></th>\n",
       "    </tr>\n",
       "  </thead>\n",
       "  <tbody>\n",
       "    <tr>\n",
       "      <th>2012-01-01</th>\n",
       "      <td>2012</td>\n",
       "      <td>Tocantins</td>\n",
       "      <td>Dezembro</td>\n",
       "      <td>128.0</td>\n",
       "    </tr>\n",
       "    <tr>\n",
       "      <th>2013-01-01</th>\n",
       "      <td>2013</td>\n",
       "      <td>Tocantins</td>\n",
       "      <td>Dezembro</td>\n",
       "      <td>85.0</td>\n",
       "    </tr>\n",
       "    <tr>\n",
       "      <th>2014-01-01</th>\n",
       "      <td>2014</td>\n",
       "      <td>Tocantins</td>\n",
       "      <td>Dezembro</td>\n",
       "      <td>223.0</td>\n",
       "    </tr>\n",
       "    <tr>\n",
       "      <th>2015-01-01</th>\n",
       "      <td>2015</td>\n",
       "      <td>Tocantins</td>\n",
       "      <td>Dezembro</td>\n",
       "      <td>373.0</td>\n",
       "    </tr>\n",
       "    <tr>\n",
       "      <th>2016-01-01</th>\n",
       "      <td>2016</td>\n",
       "      <td>Tocantins</td>\n",
       "      <td>Dezembro</td>\n",
       "      <td>119.0</td>\n",
       "    </tr>\n",
       "  </tbody>\n",
       "</table>\n",
       "</div>"
      ],
      "text/plain": [
       "            year      state     month  number\n",
       "date                                         \n",
       "2012-01-01  2012  Tocantins  Dezembro   128.0\n",
       "2013-01-01  2013  Tocantins  Dezembro    85.0\n",
       "2014-01-01  2014  Tocantins  Dezembro   223.0\n",
       "2015-01-01  2015  Tocantins  Dezembro   373.0\n",
       "2016-01-01  2016  Tocantins  Dezembro   119.0"
      ]
     },
     "execution_count": 4,
     "metadata": {},
     "output_type": "execute_result"
    }
   ],
   "source": [
    "data.tail()"
   ]
  },
  {
   "cell_type": "markdown",
   "id": "de545824",
   "metadata": {
    "papermill": {
     "duration": 0.00964,
     "end_time": "2024-03-08T19:27:26.756518",
     "exception": false,
     "start_time": "2024-03-08T19:27:26.746878",
     "status": "completed"
    },
    "tags": []
   },
   "source": [
    "<h1>Find Shape of Our Dataset (Number of Rows And Number of Columns)\n"
   ]
  },
  {
   "cell_type": "code",
   "execution_count": 5,
   "id": "9bbb7476",
   "metadata": {
    "execution": {
     "iopub.execute_input": "2024-03-08T19:27:26.778784Z",
     "iopub.status.busy": "2024-03-08T19:27:26.778359Z",
     "iopub.status.idle": "2024-03-08T19:27:26.785968Z",
     "shell.execute_reply": "2024-03-08T19:27:26.784347Z"
    },
    "papermill": {
     "duration": 0.022419,
     "end_time": "2024-03-08T19:27:26.789082",
     "exception": false,
     "start_time": "2024-03-08T19:27:26.766663",
     "status": "completed"
    },
    "tags": []
   },
   "outputs": [
    {
     "data": {
      "text/plain": [
       "(6454, 4)"
      ]
     },
     "execution_count": 5,
     "metadata": {},
     "output_type": "execute_result"
    }
   ],
   "source": [
    "data.shape"
   ]
  },
  {
   "cell_type": "markdown",
   "id": "cff25a6f",
   "metadata": {
    "papermill": {
     "duration": 0.010032,
     "end_time": "2024-03-08T19:27:26.810546",
     "exception": false,
     "start_time": "2024-03-08T19:27:26.800514",
     "status": "completed"
    },
    "tags": []
   },
   "source": [
    "<h1>Getting Information About Our Dataset Like Total Number Rows, Total Number of Columns, Datatypes of Each Column And Memory Requirement\n"
   ]
  },
  {
   "cell_type": "code",
   "execution_count": 6,
   "id": "deea3b47",
   "metadata": {
    "execution": {
     "iopub.execute_input": "2024-03-08T19:27:26.833004Z",
     "iopub.status.busy": "2024-03-08T19:27:26.832608Z",
     "iopub.status.idle": "2024-03-08T19:27:26.859450Z",
     "shell.execute_reply": "2024-03-08T19:27:26.857884Z"
    },
    "papermill": {
     "duration": 0.041227,
     "end_time": "2024-03-08T19:27:26.862122",
     "exception": false,
     "start_time": "2024-03-08T19:27:26.820895",
     "status": "completed"
    },
    "tags": []
   },
   "outputs": [
    {
     "name": "stdout",
     "output_type": "stream",
     "text": [
      "<class 'pandas.core.frame.DataFrame'>\n",
      "DatetimeIndex: 6454 entries, 1998-01-01 to 2016-01-01\n",
      "Data columns (total 4 columns):\n",
      " #   Column  Non-Null Count  Dtype  \n",
      "---  ------  --------------  -----  \n",
      " 0   year    6454 non-null   int64  \n",
      " 1   state   6454 non-null   object \n",
      " 2   month   6454 non-null   object \n",
      " 3   number  6454 non-null   float64\n",
      "dtypes: float64(1), int64(1), object(2)\n",
      "memory usage: 252.1+ KB\n"
     ]
    }
   ],
   "source": [
    "data.info()"
   ]
  },
  {
   "cell_type": "markdown",
   "id": "4f29bce6",
   "metadata": {
    "papermill": {
     "duration": 0.011211,
     "end_time": "2024-03-08T19:27:26.883833",
     "exception": false,
     "start_time": "2024-03-08T19:27:26.872622",
     "status": "completed"
    },
    "tags": []
   },
   "source": [
    "<h1>Check For Duplicate Data and Drop Them\n"
   ]
  },
  {
   "cell_type": "code",
   "execution_count": 7,
   "id": "6bd35d7e",
   "metadata": {
    "execution": {
     "iopub.execute_input": "2024-03-08T19:27:26.907210Z",
     "iopub.status.busy": "2024-03-08T19:27:26.906714Z",
     "iopub.status.idle": "2024-03-08T19:27:26.921776Z",
     "shell.execute_reply": "2024-03-08T19:27:26.920442Z"
    },
    "papermill": {
     "duration": 0.029931,
     "end_time": "2024-03-08T19:27:26.924154",
     "exception": false,
     "start_time": "2024-03-08T19:27:26.894223",
     "status": "completed"
    },
    "tags": []
   },
   "outputs": [
    {
     "name": "stdout",
     "output_type": "stream",
     "text": [
      "Drop Duplicated Data Succ.\n"
     ]
    }
   ],
   "source": [
    "if data.duplicated().any():\n",
    "    data.drop_duplicates(inplace=True)\n",
    "    print(\"Drop Duplicated Data Succ.\")\n",
    "else:\n",
    "    print(\"No Duplicated Data\")"
   ]
  },
  {
   "cell_type": "markdown",
   "id": "a9e451ee",
   "metadata": {
    "papermill": {
     "duration": 0.010312,
     "end_time": "2024-03-08T19:27:26.944975",
     "exception": false,
     "start_time": "2024-03-08T19:27:26.934663",
     "status": "completed"
    },
    "tags": []
   },
   "source": [
    "<h1>Check Null Values In The Dataset"
   ]
  },
  {
   "cell_type": "code",
   "execution_count": 8,
   "id": "cdb8a23b",
   "metadata": {
    "execution": {
     "iopub.execute_input": "2024-03-08T19:27:26.969517Z",
     "iopub.status.busy": "2024-03-08T19:27:26.969081Z",
     "iopub.status.idle": "2024-03-08T19:27:26.979118Z",
     "shell.execute_reply": "2024-03-08T19:27:26.977976Z"
    },
    "papermill": {
     "duration": 0.026476,
     "end_time": "2024-03-08T19:27:26.982393",
     "exception": false,
     "start_time": "2024-03-08T19:27:26.955917",
     "status": "completed"
    },
    "tags": []
   },
   "outputs": [
    {
     "data": {
      "text/plain": [
       "year      0\n",
       "state     0\n",
       "month     0\n",
       "number    0\n",
       "dtype: int64"
      ]
     },
     "execution_count": 8,
     "metadata": {},
     "output_type": "execute_result"
    }
   ],
   "source": [
    "data.isnull().sum()"
   ]
  },
  {
   "cell_type": "code",
   "execution_count": 9,
   "id": "d2725a0e",
   "metadata": {
    "execution": {
     "iopub.execute_input": "2024-03-08T19:27:27.006427Z",
     "iopub.status.busy": "2024-03-08T19:27:27.005537Z",
     "iopub.status.idle": "2024-03-08T19:27:27.808789Z",
     "shell.execute_reply": "2024-03-08T19:27:27.807076Z"
    },
    "papermill": {
     "duration": 0.819213,
     "end_time": "2024-03-08T19:27:27.812240",
     "exception": false,
     "start_time": "2024-03-08T19:27:26.993027",
     "status": "completed"
    },
    "tags": []
   },
   "outputs": [
    {
     "data": {
      "text/plain": [
       "<Axes: ylabel='date'>"
      ]
     },
     "execution_count": 9,
     "metadata": {},
     "output_type": "execute_result"
    },
    {
     "data": {
      "image/png": "[encoded data removed]",
      "text/plain": [
       "<Figure size 640x480 with 2 Axes>"
      ]
     },
     "metadata": {},
     "output_type": "display_data"
    }
   ],
   "source": [
    "sns.heatmap(data.isnull())"
   ]
  },
  {
   "cell_type": "markdown",
   "id": "0755f45a",
   "metadata": {
    "papermill": {
     "duration": 0.012407,
     "end_time": "2024-03-08T19:27:27.838034",
     "exception": false,
     "start_time": "2024-03-08T19:27:27.825627",
     "status": "completed"
    },
    "tags": []
   },
   "source": [
    "<h1>Get Overall Statistics About The Dataframe\n"
   ]
  },
  {
   "cell_type": "code",
   "execution_count": 10,
   "id": "88a9a6f0",
   "metadata": {
    "execution": {
     "iopub.execute_input": "2024-03-08T19:27:27.865939Z",
     "iopub.status.busy": "2024-03-08T19:27:27.864902Z",
     "iopub.status.idle": "2024-03-08T19:27:27.892957Z",
     "shell.execute_reply": "2024-03-08T19:27:27.891616Z"
    },
    "papermill": {
     "duration": 0.044177,
     "end_time": "2024-03-08T19:27:27.895397",
     "exception": false,
     "start_time": "2024-03-08T19:27:27.851220",
     "status": "completed"
    },
    "tags": []
   },
   "outputs": [
    {
     "data": {
      "text/html": [
       "<div>\n",
       "<style scoped>\n",
       "    .dataframe tbody tr th:only-of-type {\n",
       "        vertical-align: middle;\n",
       "    }\n",
       "\n",
       "    .dataframe tbody tr th {\n",
       "        vertical-align: top;\n",
       "    }\n",
       "\n",
       "    .dataframe thead th {\n",
       "        text-align: right;\n",
       "    }\n",
       "</style>\n",
       "<table border=\"1\" class=\"dataframe\">\n",
       "  <thead>\n",
       "    <tr style=\"text-align: right;\">\n",
       "      <th></th>\n",
       "      <th>year</th>\n",
       "      <th>state</th>\n",
       "      <th>month</th>\n",
       "      <th>number</th>\n",
       "    </tr>\n",
       "  </thead>\n",
       "  <tbody>\n",
       "    <tr>\n",
       "      <th>count</th>\n",
       "      <td>6422.000000</td>\n",
       "      <td>6422</td>\n",
       "      <td>6422</td>\n",
       "      <td>6422.000000</td>\n",
       "    </tr>\n",
       "    <tr>\n",
       "      <th>unique</th>\n",
       "      <td>NaN</td>\n",
       "      <td>23</td>\n",
       "      <td>12</td>\n",
       "      <td>NaN</td>\n",
       "    </tr>\n",
       "    <tr>\n",
       "      <th>top</th>\n",
       "      <td>NaN</td>\n",
       "      <td>Rio</td>\n",
       "      <td>Agosto</td>\n",
       "      <td>NaN</td>\n",
       "    </tr>\n",
       "    <tr>\n",
       "      <th>freq</th>\n",
       "      <td>NaN</td>\n",
       "      <td>697</td>\n",
       "      <td>540</td>\n",
       "      <td>NaN</td>\n",
       "    </tr>\n",
       "    <tr>\n",
       "      <th>mean</th>\n",
       "      <td>2007.490969</td>\n",
       "      <td>NaN</td>\n",
       "      <td>NaN</td>\n",
       "      <td>108.815178</td>\n",
       "    </tr>\n",
       "    <tr>\n",
       "      <th>std</th>\n",
       "      <td>5.731806</td>\n",
       "      <td>NaN</td>\n",
       "      <td>NaN</td>\n",
       "      <td>191.142482</td>\n",
       "    </tr>\n",
       "    <tr>\n",
       "      <th>min</th>\n",
       "      <td>1998.000000</td>\n",
       "      <td>NaN</td>\n",
       "      <td>NaN</td>\n",
       "      <td>0.000000</td>\n",
       "    </tr>\n",
       "    <tr>\n",
       "      <th>25%</th>\n",
       "      <td>2003.000000</td>\n",
       "      <td>NaN</td>\n",
       "      <td>NaN</td>\n",
       "      <td>3.000000</td>\n",
       "    </tr>\n",
       "    <tr>\n",
       "      <th>50%</th>\n",
       "      <td>2007.000000</td>\n",
       "      <td>NaN</td>\n",
       "      <td>NaN</td>\n",
       "      <td>24.497000</td>\n",
       "    </tr>\n",
       "    <tr>\n",
       "      <th>75%</th>\n",
       "      <td>2012.000000</td>\n",
       "      <td>NaN</td>\n",
       "      <td>NaN</td>\n",
       "      <td>114.000000</td>\n",
       "    </tr>\n",
       "    <tr>\n",
       "      <th>max</th>\n",
       "      <td>2017.000000</td>\n",
       "      <td>NaN</td>\n",
       "      <td>NaN</td>\n",
       "      <td>998.000000</td>\n",
       "    </tr>\n",
       "  </tbody>\n",
       "</table>\n",
       "</div>"
      ],
      "text/plain": [
       "               year state   month       number\n",
       "count   6422.000000  6422    6422  6422.000000\n",
       "unique          NaN    23      12          NaN\n",
       "top             NaN   Rio  Agosto          NaN\n",
       "freq            NaN   697     540          NaN\n",
       "mean    2007.490969   NaN     NaN   108.815178\n",
       "std        5.731806   NaN     NaN   191.142482\n",
       "min     1998.000000   NaN     NaN     0.000000\n",
       "25%     2003.000000   NaN     NaN     3.000000\n",
       "50%     2007.000000   NaN     NaN    24.497000\n",
       "75%     2012.000000   NaN     NaN   114.000000\n",
       "max     2017.000000   NaN     NaN   998.000000"
      ]
     },
     "execution_count": 10,
     "metadata": {},
     "output_type": "execute_result"
    }
   ],
   "source": [
    "data.describe(include=\"all\")"
   ]
  },
  {
   "cell_type": "markdown",
   "id": "9187bacf",
   "metadata": {
    "papermill": {
     "duration": 0.011996,
     "end_time": "2024-03-08T19:27:27.919633",
     "exception": false,
     "start_time": "2024-03-08T19:27:27.907637",
     "status": "completed"
    },
    "tags": []
   },
   "source": [
    "<h1>Rename Month Names To English\n"
   ]
  },
  {
   "cell_type": "code",
   "execution_count": 11,
   "id": "2b7cbb19",
   "metadata": {
    "execution": {
     "iopub.execute_input": "2024-03-08T19:27:27.948424Z",
     "iopub.status.busy": "2024-03-08T19:27:27.947254Z",
     "iopub.status.idle": "2024-03-08T19:27:27.954153Z",
     "shell.execute_reply": "2024-03-08T19:27:27.953026Z"
    },
    "papermill": {
     "duration": 0.023352,
     "end_time": "2024-03-08T19:27:27.956469",
     "exception": false,
     "start_time": "2024-03-08T19:27:27.933117",
     "status": "completed"
    },
    "tags": []
   },
   "outputs": [
    {
     "data": {
      "text/plain": [
       "Index(['year', 'state', 'month', 'number'], dtype='object')"
      ]
     },
     "execution_count": 11,
     "metadata": {},
     "output_type": "execute_result"
    }
   ],
   "source": [
    "data.columns"
   ]
  },
  {
   "cell_type": "code",
   "execution_count": 12,
   "id": "0143b6a6",
   "metadata": {
    "execution": {
     "iopub.execute_input": "2024-03-08T19:27:27.983464Z",
     "iopub.status.busy": "2024-03-08T19:27:27.982845Z",
     "iopub.status.idle": "2024-03-08T19:27:27.996928Z",
     "shell.execute_reply": "2024-03-08T19:27:27.995780Z"
    },
    "papermill": {
     "duration": 0.030587,
     "end_time": "2024-03-08T19:27:27.999455",
     "exception": false,
     "start_time": "2024-03-08T19:27:27.968868",
     "status": "completed"
    },
    "tags": []
   },
   "outputs": [
    {
     "data": {
      "text/plain": [
       "array(['January', 'February', 'March', 'April', 'May', 'June', 'July',\n",
       "       'August', 'September', 'October', 'November', 'December'],\n",
       "      dtype=object)"
      ]
     },
     "execution_count": 12,
     "metadata": {},
     "output_type": "execute_result"
    }
   ],
   "source": [
    "import calendar\n",
    "\n",
    "data[\"month\"] = data[\"month\"].replace(to_replace=data.month.unique(), value=list(calendar.month_name)[1:])\n",
    "data.month.unique()"
   ]
  },
  {
   "cell_type": "markdown",
   "id": "b6832479",
   "metadata": {
    "execution": {
     "iopub.execute_input": "2024-03-08T18:17:16.666372Z",
     "iopub.status.busy": "2024-03-08T18:17:16.665838Z",
     "iopub.status.idle": "2024-03-08T18:17:16.682837Z",
     "shell.execute_reply": "2024-03-08T18:17:16.681534Z",
     "shell.execute_reply.started": "2024-03-08T18:17:16.666330Z"
    },
    "papermill": {
     "duration": 0.012278,
     "end_time": "2024-03-08T19:27:28.025226",
     "exception": false,
     "start_time": "2024-03-08T19:27:28.012948",
     "status": "completed"
    },
    "tags": []
   },
   "source": [
    "<h1>Total Number of Fires Registered"
   ]
  },
  {
   "cell_type": "code",
   "execution_count": 13,
   "id": "8a127bd9",
   "metadata": {
    "execution": {
     "iopub.execute_input": "2024-03-08T19:27:28.052883Z",
     "iopub.status.busy": "2024-03-08T19:27:28.052453Z",
     "iopub.status.idle": "2024-03-08T19:27:28.059830Z",
     "shell.execute_reply": "2024-03-08T19:27:28.058325Z"
    },
    "papermill": {
     "duration": 0.024614,
     "end_time": "2024-03-08T19:27:28.062841",
     "exception": false,
     "start_time": "2024-03-08T19:27:28.038227",
     "status": "completed"
    },
    "tags": []
   },
   "outputs": [
    {
     "data": {
      "text/plain": [
       "6422"
      ]
     },
     "execution_count": 13,
     "metadata": {},
     "output_type": "execute_result"
    }
   ],
   "source": [
    "data.shape[0]"
   ]
  },
  {
   "cell_type": "markdown",
   "id": "9f46836d",
   "metadata": {
    "execution": {
     "iopub.execute_input": "2024-03-08T18:21:41.821559Z",
     "iopub.status.busy": "2024-03-08T18:21:41.821157Z",
     "iopub.status.idle": "2024-03-08T18:21:41.828935Z",
     "shell.execute_reply": "2024-03-08T18:21:41.828076Z",
     "shell.execute_reply.started": "2024-03-08T18:21:41.821529Z"
    },
    "papermill": {
     "duration": 0.012259,
     "end_time": "2024-03-08T19:27:28.089424",
     "exception": false,
     "start_time": "2024-03-08T19:27:28.077165",
     "status": "completed"
    },
    "tags": []
   },
   "source": [
    "<h1>In Which Month Maximum Number of Forest Fires Were Reported?\n"
   ]
  },
  {
   "cell_type": "code",
   "execution_count": 14,
   "id": "bad68a02",
   "metadata": {
    "execution": {
     "iopub.execute_input": "2024-03-08T19:27:28.199648Z",
     "iopub.status.busy": "2024-03-08T19:27:28.199218Z",
     "iopub.status.idle": "2024-03-08T19:27:28.622370Z",
     "shell.execute_reply": "2024-03-08T19:27:28.621102Z"
    },
    "papermill": {
     "duration": 0.44749,
     "end_time": "2024-03-08T19:27:28.625799",
     "exception": false,
     "start_time": "2024-03-08T19:27:28.178309",
     "status": "completed"
    },
    "tags": []
   },
   "outputs": [
    {
     "data": {
      "image/png": "[encoded data removed]",
      "text/plain": [
       "<Figure size 1500x800 with 1 Axes>"
      ]
     },
     "metadata": {},
     "output_type": "display_data"
    }
   ],
   "source": [
    "plt.figure(figsize=(15, 8))\n",
    "top_month = data.groupby(\"month\")[\"number\"].mean().sort_values(ascending=False).to_frame()\n",
    "sns.barplot(data=top_month, y=top_month.index, x=\"number\");\n"
   ]
  },
  {
   "cell_type": "markdown",
   "id": "93c6559d",
   "metadata": {
    "papermill": {
     "duration": 0.014423,
     "end_time": "2024-03-08T19:27:28.655056",
     "exception": false,
     "start_time": "2024-03-08T19:27:28.640633",
     "status": "completed"
    },
    "tags": []
   },
   "source": [
    "<h1>In Which Year Maximum Number of Forest Fires Was Reported?\n"
   ]
  },
  {
   "cell_type": "code",
   "execution_count": 15,
   "id": "b8773ea5",
   "metadata": {
    "execution": {
     "iopub.execute_input": "2024-03-08T19:27:28.684180Z",
     "iopub.status.busy": "2024-03-08T19:27:28.682843Z",
     "iopub.status.idle": "2024-03-08T19:27:29.227331Z",
     "shell.execute_reply": "2024-03-08T19:27:29.226186Z"
    },
    "papermill": {
     "duration": 0.562702,
     "end_time": "2024-03-08T19:27:29.230988",
     "exception": false,
     "start_time": "2024-03-08T19:27:28.668286",
     "status": "completed"
    },
    "tags": []
   },
   "outputs": [
    {
     "data": {
      "image/png": "[encoded data removed]",
      "text/plain": [
       "<Figure size 1500x800 with 1 Axes>"
      ]
     },
     "metadata": {},
     "output_type": "display_data"
    }
   ],
   "source": [
    "plt.figure(figsize=(15, 8))\n",
    "top_year = data.groupby(\"year\")[\"number\"].mean().sort_values(ascending=False).to_frame()\n",
    "sns.barplot(data=top_year, x=top_year.index, y=\"number\");\n"
   ]
  },
  {
   "cell_type": "markdown",
   "id": "62984ea3",
   "metadata": {
    "execution": {
     "iopub.execute_input": "2024-03-08T18:30:08.889039Z",
     "iopub.status.busy": "2024-03-08T18:30:08.888315Z",
     "iopub.status.idle": "2024-03-08T18:30:08.902724Z",
     "shell.execute_reply": "2024-03-08T18:30:08.901355Z",
     "shell.execute_reply.started": "2024-03-08T18:30:08.888986Z"
    },
    "papermill": {
     "duration": 0.014357,
     "end_time": "2024-03-08T19:27:29.259593",
     "exception": false,
     "start_time": "2024-03-08T19:27:29.245236",
     "status": "completed"
    },
    "tags": []
   },
   "source": [
    "<h1>In Which State Maximum Number of Forest Fires Was Reported?\n"
   ]
  },
  {
   "cell_type": "code",
   "execution_count": 16,
   "id": "eb1bba52",
   "metadata": {
    "execution": {
     "iopub.execute_input": "2024-03-08T19:27:29.298757Z",
     "iopub.status.busy": "2024-03-08T19:27:29.298038Z",
     "iopub.status.idle": "2024-03-08T19:27:29.782193Z",
     "shell.execute_reply": "2024-03-08T19:27:29.780898Z"
    },
    "papermill": {
     "duration": 0.508745,
     "end_time": "2024-03-08T19:27:29.784622",
     "exception": false,
     "start_time": "2024-03-08T19:27:29.275877",
     "status": "completed"
    },
    "tags": []
   },
   "outputs": [
    {
     "data": {
      "image/png": "[encoded data removed]",
      "text/plain": [
       "<Figure size 1500x800 with 1 Axes>"
      ]
     },
     "metadata": {},
     "output_type": "display_data"
    }
   ],
   "source": [
    "plt.figure(figsize=(15, 8))\n",
    "top_state = data.groupby(\"state\")[\"number\"].mean().sort_values(ascending=False).to_frame()\n",
    "sns.barplot(data=top_state, y=top_state.index, x=\"number\");\n"
   ]
  },
  {
   "cell_type": "markdown",
   "id": "3e66f218",
   "metadata": {
    "papermill": {
     "duration": 0.015598,
     "end_time": "2024-03-08T19:27:29.814802",
     "exception": false,
     "start_time": "2024-03-08T19:27:29.799204",
     "status": "completed"
    },
    "tags": []
   },
   "source": [
    "<h1>Find Total Number of Fires Were Reported In Amazonas\n"
   ]
  },
  {
   "cell_type": "code",
   "execution_count": 17,
   "id": "99dcfb46",
   "metadata": {
    "execution": {
     "iopub.execute_input": "2024-03-08T19:27:29.846594Z",
     "iopub.status.busy": "2024-03-08T19:27:29.845855Z",
     "iopub.status.idle": "2024-03-08T19:27:29.859270Z",
     "shell.execute_reply": "2024-03-08T19:27:29.857926Z"
    },
    "papermill": {
     "duration": 0.032411,
     "end_time": "2024-03-08T19:27:29.861677",
     "exception": false,
     "start_time": "2024-03-08T19:27:29.829266",
     "status": "completed"
    },
    "tags": []
   },
   "outputs": [
    {
     "data": {
      "text/html": [
       "<div>\n",
       "<style scoped>\n",
       "    .dataframe tbody tr th:only-of-type {\n",
       "        vertical-align: middle;\n",
       "    }\n",
       "\n",
       "    .dataframe tbody tr th {\n",
       "        vertical-align: top;\n",
       "    }\n",
       "\n",
       "    .dataframe thead th {\n",
       "        text-align: right;\n",
       "    }\n",
       "</style>\n",
       "<table border=\"1\" class=\"dataframe\">\n",
       "  <thead>\n",
       "    <tr style=\"text-align: right;\">\n",
       "      <th></th>\n",
       "      <th>year</th>\n",
       "      <th>state</th>\n",
       "      <th>month</th>\n",
       "      <th>number</th>\n",
       "    </tr>\n",
       "    <tr>\n",
       "      <th>date</th>\n",
       "      <th></th>\n",
       "      <th></th>\n",
       "      <th></th>\n",
       "      <th></th>\n",
       "    </tr>\n",
       "  </thead>\n",
       "  <tbody>\n",
       "    <tr>\n",
       "      <th>1998-01-01</th>\n",
       "      <td>1998</td>\n",
       "      <td>Acre</td>\n",
       "      <td>January</td>\n",
       "      <td>0.0</td>\n",
       "    </tr>\n",
       "    <tr>\n",
       "      <th>1999-01-01</th>\n",
       "      <td>1999</td>\n",
       "      <td>Acre</td>\n",
       "      <td>January</td>\n",
       "      <td>0.0</td>\n",
       "    </tr>\n",
       "    <tr>\n",
       "      <th>2000-01-01</th>\n",
       "      <td>2000</td>\n",
       "      <td>Acre</td>\n",
       "      <td>January</td>\n",
       "      <td>0.0</td>\n",
       "    </tr>\n",
       "    <tr>\n",
       "      <th>2001-01-01</th>\n",
       "      <td>2001</td>\n",
       "      <td>Acre</td>\n",
       "      <td>January</td>\n",
       "      <td>0.0</td>\n",
       "    </tr>\n",
       "    <tr>\n",
       "      <th>2002-01-01</th>\n",
       "      <td>2002</td>\n",
       "      <td>Acre</td>\n",
       "      <td>January</td>\n",
       "      <td>0.0</td>\n",
       "    </tr>\n",
       "  </tbody>\n",
       "</table>\n",
       "</div>"
      ],
      "text/plain": [
       "            year state    month  number\n",
       "date                                   \n",
       "1998-01-01  1998  Acre  January     0.0\n",
       "1999-01-01  1999  Acre  January     0.0\n",
       "2000-01-01  2000  Acre  January     0.0\n",
       "2001-01-01  2001  Acre  January     0.0\n",
       "2002-01-01  2002  Acre  January     0.0"
      ]
     },
     "execution_count": 17,
     "metadata": {},
     "output_type": "execute_result"
    }
   ],
   "source": [
    "data.head()"
   ]
  },
  {
   "cell_type": "code",
   "execution_count": 18,
   "id": "8601a474",
   "metadata": {
    "execution": {
     "iopub.execute_input": "2024-03-08T19:27:29.894043Z",
     "iopub.status.busy": "2024-03-08T19:27:29.893414Z",
     "iopub.status.idle": "2024-03-08T19:27:29.903352Z",
     "shell.execute_reply": "2024-03-08T19:27:29.902252Z"
    },
    "papermill": {
     "duration": 0.029437,
     "end_time": "2024-03-08T19:27:29.905808",
     "exception": false,
     "start_time": "2024-03-08T19:27:29.876371",
     "status": "completed"
    },
    "tags": []
   },
   "outputs": [
    {
     "data": {
      "text/plain": [
       "30650.129"
      ]
     },
     "execution_count": 18,
     "metadata": {},
     "output_type": "execute_result"
    }
   ],
   "source": [
    "data[data[\"state\"] == \"Amazonas\"][\"number\"].sum()"
   ]
  },
  {
   "cell_type": "markdown",
   "id": "7d3ccd4f",
   "metadata": {
    "papermill": {
     "duration": 0.014723,
     "end_time": "2024-03-08T19:27:29.936113",
     "exception": false,
     "start_time": "2024-03-08T19:27:29.921390",
     "status": "completed"
    },
    "tags": []
   },
   "source": [
    "<h1>Display Number of Fires Were Reported In Amazonas (Year-Wise)\n"
   ]
  },
  {
   "cell_type": "code",
   "execution_count": 19,
   "id": "5d1574aa",
   "metadata": {
    "execution": {
     "iopub.execute_input": "2024-03-08T19:27:29.968440Z",
     "iopub.status.busy": "2024-03-08T19:27:29.967635Z",
     "iopub.status.idle": "2024-03-08T19:27:30.367682Z",
     "shell.execute_reply": "2024-03-08T19:27:30.365808Z"
    },
    "papermill": {
     "duration": 0.419562,
     "end_time": "2024-03-08T19:27:30.370658",
     "exception": false,
     "start_time": "2024-03-08T19:27:29.951096",
     "status": "completed"
    },
    "tags": []
   },
   "outputs": [
    {
     "data": {
      "image/png": "[encoded data removed]",
      "text/plain": [
       "<Figure size 1800x500 with 1 Axes>"
      ]
     },
     "metadata": {},
     "output_type": "display_data"
    }
   ],
   "source": [
    "plt.figure(figsize=(18, 5))\n",
    "f_amazon_year = data[data[\"state\"] == \"Amazonas\"].groupby(\"year\")[\"number\"].sum().to_frame()\n",
    "sns.barplot(data=f_amazon_year, x=f_amazon_year.index, y=\"number\");"
   ]
  },
  {
   "cell_type": "markdown",
   "id": "fae09ee5",
   "metadata": {
    "papermill": {
     "duration": 0.015689,
     "end_time": "2024-03-08T19:27:30.402533",
     "exception": false,
     "start_time": "2024-03-08T19:27:30.386844",
     "status": "completed"
    },
    "tags": []
   },
   "source": [
    "<h1>Display Number of Fires Were Reported In Amazonas (Day-Wise)\n"
   ]
  },
  {
   "cell_type": "code",
   "execution_count": 20,
   "id": "617bb403",
   "metadata": {
    "execution": {
     "iopub.execute_input": "2024-03-08T19:27:30.436371Z",
     "iopub.status.busy": "2024-03-08T19:27:30.435614Z",
     "iopub.status.idle": "2024-03-08T19:27:30.441923Z",
     "shell.execute_reply": "2024-03-08T19:27:30.440981Z"
    },
    "papermill": {
     "duration": 0.025867,
     "end_time": "2024-03-08T19:27:30.444303",
     "exception": false,
     "start_time": "2024-03-08T19:27:30.418436",
     "status": "completed"
    },
    "tags": []
   },
   "outputs": [],
   "source": [
    "data[\"day\"] = data.index.dayofweek"
   ]
  },
  {
   "cell_type": "code",
   "execution_count": 21,
   "id": "28cdc2b9",
   "metadata": {
    "execution": {
     "iopub.execute_input": "2024-03-08T19:27:30.478000Z",
     "iopub.status.busy": "2024-03-08T19:27:30.477584Z",
     "iopub.status.idle": "2024-03-08T19:27:30.490073Z",
     "shell.execute_reply": "2024-03-08T19:27:30.488834Z"
    },
    "papermill": {
     "duration": 0.032673,
     "end_time": "2024-03-08T19:27:30.492518",
     "exception": false,
     "start_time": "2024-03-08T19:27:30.459845",
     "status": "completed"
    },
    "tags": []
   },
   "outputs": [
    {
     "data": {
      "text/html": [
       "<div>\n",
       "<style scoped>\n",
       "    .dataframe tbody tr th:only-of-type {\n",
       "        vertical-align: middle;\n",
       "    }\n",
       "\n",
       "    .dataframe tbody tr th {\n",
       "        vertical-align: top;\n",
       "    }\n",
       "\n",
       "    .dataframe thead th {\n",
       "        text-align: right;\n",
       "    }\n",
       "</style>\n",
       "<table border=\"1\" class=\"dataframe\">\n",
       "  <thead>\n",
       "    <tr style=\"text-align: right;\">\n",
       "      <th></th>\n",
       "      <th>year</th>\n",
       "      <th>state</th>\n",
       "      <th>month</th>\n",
       "      <th>number</th>\n",
       "      <th>day</th>\n",
       "    </tr>\n",
       "    <tr>\n",
       "      <th>date</th>\n",
       "      <th></th>\n",
       "      <th></th>\n",
       "      <th></th>\n",
       "      <th></th>\n",
       "      <th></th>\n",
       "    </tr>\n",
       "  </thead>\n",
       "  <tbody>\n",
       "    <tr>\n",
       "      <th>1998-01-01</th>\n",
       "      <td>1998</td>\n",
       "      <td>Acre</td>\n",
       "      <td>January</td>\n",
       "      <td>0.0</td>\n",
       "      <td>3</td>\n",
       "    </tr>\n",
       "    <tr>\n",
       "      <th>1999-01-01</th>\n",
       "      <td>1999</td>\n",
       "      <td>Acre</td>\n",
       "      <td>January</td>\n",
       "      <td>0.0</td>\n",
       "      <td>4</td>\n",
       "    </tr>\n",
       "    <tr>\n",
       "      <th>2000-01-01</th>\n",
       "      <td>2000</td>\n",
       "      <td>Acre</td>\n",
       "      <td>January</td>\n",
       "      <td>0.0</td>\n",
       "      <td>5</td>\n",
       "    </tr>\n",
       "    <tr>\n",
       "      <th>2001-01-01</th>\n",
       "      <td>2001</td>\n",
       "      <td>Acre</td>\n",
       "      <td>January</td>\n",
       "      <td>0.0</td>\n",
       "      <td>0</td>\n",
       "    </tr>\n",
       "    <tr>\n",
       "      <th>2002-01-01</th>\n",
       "      <td>2002</td>\n",
       "      <td>Acre</td>\n",
       "      <td>January</td>\n",
       "      <td>0.0</td>\n",
       "      <td>1</td>\n",
       "    </tr>\n",
       "  </tbody>\n",
       "</table>\n",
       "</div>"
      ],
      "text/plain": [
       "            year state    month  number  day\n",
       "date                                        \n",
       "1998-01-01  1998  Acre  January     0.0    3\n",
       "1999-01-01  1999  Acre  January     0.0    4\n",
       "2000-01-01  2000  Acre  January     0.0    5\n",
       "2001-01-01  2001  Acre  January     0.0    0\n",
       "2002-01-01  2002  Acre  January     0.0    1"
      ]
     },
     "execution_count": 21,
     "metadata": {},
     "output_type": "execute_result"
    }
   ],
   "source": [
    "data.head()"
   ]
  },
  {
   "cell_type": "code",
   "execution_count": 22,
   "id": "bd8cf391",
   "metadata": {
    "execution": {
     "iopub.execute_input": "2024-03-08T19:27:30.526204Z",
     "iopub.status.busy": "2024-03-08T19:27:30.525790Z",
     "iopub.status.idle": "2024-03-08T19:27:30.532557Z",
     "shell.execute_reply": "2024-03-08T19:27:30.531558Z"
    },
    "papermill": {
     "duration": 0.026686,
     "end_time": "2024-03-08T19:27:30.535154",
     "exception": false,
     "start_time": "2024-03-08T19:27:30.508468",
     "status": "completed"
    },
    "tags": []
   },
   "outputs": [
    {
     "data": {
      "text/plain": [
       "['Monday', 'Tuesday', 'Wednesday', 'Thursday', 'Friday', 'Saturday', 'Sunday']"
      ]
     },
     "execution_count": 22,
     "metadata": {},
     "output_type": "execute_result"
    }
   ],
   "source": [
    "list(calendar.day_name)"
   ]
  },
  {
   "cell_type": "code",
   "execution_count": 23,
   "id": "ae5c28a2",
   "metadata": {
    "execution": {
     "iopub.execute_input": "2024-03-08T19:27:30.568529Z",
     "iopub.status.busy": "2024-03-08T19:27:30.567873Z",
     "iopub.status.idle": "2024-03-08T19:27:30.587482Z",
     "shell.execute_reply": "2024-03-08T19:27:30.586271Z"
    },
    "papermill": {
     "duration": 0.038729,
     "end_time": "2024-03-08T19:27:30.589858",
     "exception": false,
     "start_time": "2024-03-08T19:27:30.551129",
     "status": "completed"
    },
    "tags": []
   },
   "outputs": [
    {
     "data": {
      "text/html": [
       "<div>\n",
       "<style scoped>\n",
       "    .dataframe tbody tr th:only-of-type {\n",
       "        vertical-align: middle;\n",
       "    }\n",
       "\n",
       "    .dataframe tbody tr th {\n",
       "        vertical-align: top;\n",
       "    }\n",
       "\n",
       "    .dataframe thead th {\n",
       "        text-align: right;\n",
       "    }\n",
       "</style>\n",
       "<table border=\"1\" class=\"dataframe\">\n",
       "  <thead>\n",
       "    <tr style=\"text-align: right;\">\n",
       "      <th></th>\n",
       "      <th>year</th>\n",
       "      <th>state</th>\n",
       "      <th>month</th>\n",
       "      <th>number</th>\n",
       "      <th>day</th>\n",
       "    </tr>\n",
       "    <tr>\n",
       "      <th>date</th>\n",
       "      <th></th>\n",
       "      <th></th>\n",
       "      <th></th>\n",
       "      <th></th>\n",
       "      <th></th>\n",
       "    </tr>\n",
       "  </thead>\n",
       "  <tbody>\n",
       "    <tr>\n",
       "      <th>1998-01-01</th>\n",
       "      <td>1998</td>\n",
       "      <td>Acre</td>\n",
       "      <td>January</td>\n",
       "      <td>0.0</td>\n",
       "      <td>Thursday</td>\n",
       "    </tr>\n",
       "    <tr>\n",
       "      <th>1999-01-01</th>\n",
       "      <td>1999</td>\n",
       "      <td>Acre</td>\n",
       "      <td>January</td>\n",
       "      <td>0.0</td>\n",
       "      <td>Friday</td>\n",
       "    </tr>\n",
       "    <tr>\n",
       "      <th>2000-01-01</th>\n",
       "      <td>2000</td>\n",
       "      <td>Acre</td>\n",
       "      <td>January</td>\n",
       "      <td>0.0</td>\n",
       "      <td>Saturday</td>\n",
       "    </tr>\n",
       "    <tr>\n",
       "      <th>2001-01-01</th>\n",
       "      <td>2001</td>\n",
       "      <td>Acre</td>\n",
       "      <td>January</td>\n",
       "      <td>0.0</td>\n",
       "      <td>Monday</td>\n",
       "    </tr>\n",
       "    <tr>\n",
       "      <th>2002-01-01</th>\n",
       "      <td>2002</td>\n",
       "      <td>Acre</td>\n",
       "      <td>January</td>\n",
       "      <td>0.0</td>\n",
       "      <td>Tuesday</td>\n",
       "    </tr>\n",
       "  </tbody>\n",
       "</table>\n",
       "</div>"
      ],
      "text/plain": [
       "            year state    month  number       day\n",
       "date                                             \n",
       "1998-01-01  1998  Acre  January     0.0  Thursday\n",
       "1999-01-01  1999  Acre  January     0.0    Friday\n",
       "2000-01-01  2000  Acre  January     0.0  Saturday\n",
       "2001-01-01  2001  Acre  January     0.0    Monday\n",
       "2002-01-01  2002  Acre  January     0.0   Tuesday"
      ]
     },
     "execution_count": 23,
     "metadata": {},
     "output_type": "execute_result"
    }
   ],
   "source": [
    "data[\"day\"] = data[\"day\"].replace(to_replace=sorted(data.day.unique()), value=list(calendar.day_name))\n",
    "data.head()"
   ]
  },
  {
   "cell_type": "code",
   "execution_count": 24,
   "id": "42eaea91",
   "metadata": {
    "execution": {
     "iopub.execute_input": "2024-03-08T19:27:30.623968Z",
     "iopub.status.busy": "2024-03-08T19:27:30.623562Z",
     "iopub.status.idle": "2024-03-08T19:27:30.894161Z",
     "shell.execute_reply": "2024-03-08T19:27:30.892827Z"
    },
    "papermill": {
     "duration": 0.290868,
     "end_time": "2024-03-08T19:27:30.896554",
     "exception": false,
     "start_time": "2024-03-08T19:27:30.605686",
     "status": "completed"
    },
    "tags": []
   },
   "outputs": [
    {
     "data": {
      "image/png": "[encoded data removed]",
      "text/plain": [
       "<Figure size 1800x500 with 1 Axes>"
      ]
     },
     "metadata": {},
     "output_type": "display_data"
    }
   ],
   "source": [
    "plt.figure(figsize=(18, 5))\n",
    "f_amazon_day = data[data[\"state\"] == \"Amazonas\"].groupby(\"day\")[\"number\"].sum().to_frame()\n",
    "sns.barplot(data=f_amazon_day, y=f_amazon_day.index, x=\"number\");"
   ]
  },
  {
   "cell_type": "markdown",
   "id": "d3a58a81",
   "metadata": {
    "execution": {
     "iopub.execute_input": "2024-03-08T18:44:13.606081Z",
     "iopub.status.busy": "2024-03-08T18:44:13.605634Z",
     "iopub.status.idle": "2024-03-08T18:44:13.616544Z",
     "shell.execute_reply": "2024-03-08T18:44:13.615532Z",
     "shell.execute_reply.started": "2024-03-08T18:44:13.606050Z"
    },
    "papermill": {
     "duration": 0.018837,
     "end_time": "2024-03-08T19:27:30.934068",
     "exception": false,
     "start_time": "2024-03-08T19:27:30.915231",
     "status": "completed"
    },
    "tags": []
   },
   "source": [
    "<h1>Find Total Number of Fires  Were Reported In 2015 And Visualize Data Based on Each ‘Month’\n"
   ]
  },
  {
   "cell_type": "code",
   "execution_count": 25,
   "id": "3f319fce",
   "metadata": {
    "execution": {
     "iopub.execute_input": "2024-03-08T19:27:30.968593Z",
     "iopub.status.busy": "2024-03-08T19:27:30.968145Z",
     "iopub.status.idle": "2024-03-08T19:27:30.975944Z",
     "shell.execute_reply": "2024-03-08T19:27:30.974542Z"
    },
    "papermill": {
     "duration": 0.028662,
     "end_time": "2024-03-08T19:27:30.979027",
     "exception": false,
     "start_time": "2024-03-08T19:27:30.950365",
     "status": "completed"
    },
    "tags": []
   },
   "outputs": [],
   "source": [
    "data2015 = data[data[\"year\"] == 2015]"
   ]
  },
  {
   "cell_type": "code",
   "execution_count": 26,
   "id": "9b8235f9",
   "metadata": {
    "execution": {
     "iopub.execute_input": "2024-03-08T19:27:31.016053Z",
     "iopub.status.busy": "2024-03-08T19:27:31.015627Z",
     "iopub.status.idle": "2024-03-08T19:27:31.634907Z",
     "shell.execute_reply": "2024-03-08T19:27:31.633796Z"
    },
    "papermill": {
     "duration": 0.640351,
     "end_time": "2024-03-08T19:27:31.638178",
     "exception": false,
     "start_time": "2024-03-08T19:27:30.997827",
     "status": "completed"
    },
    "tags": []
   },
   "outputs": [
    {
     "data": {
      "text/plain": [
       "<Axes: xlabel='month', ylabel='number'>"
      ]
     },
     "execution_count": 26,
     "metadata": {},
     "output_type": "execute_result"
    },
    {
     "data": {
      "image/png": "[encoded data removed]",
      "text/plain": [
       "<Figure size 1800x500 with 1 Axes>"
      ]
     },
     "metadata": {},
     "output_type": "display_data"
    }
   ],
   "source": [
    "plt.figure(figsize=(18, 5))\n",
    "sns.barplot(data=data2015, x=\"month\", y=\"number\")"
   ]
  },
  {
   "cell_type": "markdown",
   "id": "8dae0558",
   "metadata": {
    "papermill": {
     "duration": 0.018958,
     "end_time": "2024-03-08T19:27:31.674385",
     "exception": false,
     "start_time": "2024-03-08T19:27:31.655427",
     "status": "completed"
    },
    "tags": []
   },
   "source": [
    "<h1>Find Average Number of Fires Were Reported From Highest to Lowest (State-Wise)\n"
   ]
  },
  {
   "cell_type": "code",
   "execution_count": 27,
   "id": "d33ec2b8",
   "metadata": {
    "execution": {
     "iopub.execute_input": "2024-03-08T19:27:31.710530Z",
     "iopub.status.busy": "2024-03-08T19:27:31.710132Z",
     "iopub.status.idle": "2024-03-08T19:27:31.725115Z",
     "shell.execute_reply": "2024-03-08T19:27:31.723919Z"
    },
    "papermill": {
     "duration": 0.036089,
     "end_time": "2024-03-08T19:27:31.727768",
     "exception": false,
     "start_time": "2024-03-08T19:27:31.691679",
     "status": "completed"
    },
    "tags": []
   },
   "outputs": [
    {
     "data": {
      "text/html": [
       "<div>\n",
       "<style scoped>\n",
       "    .dataframe tbody tr th:only-of-type {\n",
       "        vertical-align: middle;\n",
       "    }\n",
       "\n",
       "    .dataframe tbody tr th {\n",
       "        vertical-align: top;\n",
       "    }\n",
       "\n",
       "    .dataframe thead th {\n",
       "        text-align: right;\n",
       "    }\n",
       "</style>\n",
       "<table border=\"1\" class=\"dataframe\">\n",
       "  <thead>\n",
       "    <tr style=\"text-align: right;\">\n",
       "      <th></th>\n",
       "      <th>number</th>\n",
       "    </tr>\n",
       "    <tr>\n",
       "      <th>state</th>\n",
       "      <th></th>\n",
       "    </tr>\n",
       "  </thead>\n",
       "  <tbody>\n",
       "    <tr>\n",
       "      <th>Sao Paulo</th>\n",
       "      <td>213.896226</td>\n",
       "    </tr>\n",
       "    <tr>\n",
       "      <th>Mato Grosso</th>\n",
       "      <td>203.479975</td>\n",
       "    </tr>\n",
       "    <tr>\n",
       "      <th>Bahia</th>\n",
       "      <td>187.222703</td>\n",
       "    </tr>\n",
       "    <tr>\n",
       "      <th>Piau</th>\n",
       "      <td>158.174674</td>\n",
       "    </tr>\n",
       "    <tr>\n",
       "      <th>Goias</th>\n",
       "      <td>157.721841</td>\n",
       "    </tr>\n",
       "    <tr>\n",
       "      <th>Minas Gerais</th>\n",
       "      <td>156.800243</td>\n",
       "    </tr>\n",
       "    <tr>\n",
       "      <th>Tocantins</th>\n",
       "      <td>141.037176</td>\n",
       "    </tr>\n",
       "    <tr>\n",
       "      <th>Amazonas</th>\n",
       "      <td>128.243218</td>\n",
       "    </tr>\n",
       "    <tr>\n",
       "      <th>Ceara</th>\n",
       "      <td>127.314071</td>\n",
       "    </tr>\n",
       "    <tr>\n",
       "      <th>Paraiba</th>\n",
       "      <td>111.073979</td>\n",
       "    </tr>\n",
       "    <tr>\n",
       "      <th>Maranhao</th>\n",
       "      <td>105.142808</td>\n",
       "    </tr>\n",
       "    <tr>\n",
       "      <th>Pará</th>\n",
       "      <td>102.561272</td>\n",
       "    </tr>\n",
       "    <tr>\n",
       "      <th>Pernambuco</th>\n",
       "      <td>102.502092</td>\n",
       "    </tr>\n",
       "    <tr>\n",
       "      <th>Roraima</th>\n",
       "      <td>102.029598</td>\n",
       "    </tr>\n",
       "    <tr>\n",
       "      <th>Santa Catarina</th>\n",
       "      <td>101.924067</td>\n",
       "    </tr>\n",
       "    <tr>\n",
       "      <th>Amapa</th>\n",
       "      <td>91.345506</td>\n",
       "    </tr>\n",
       "    <tr>\n",
       "      <th>Rondonia</th>\n",
       "      <td>84.876272</td>\n",
       "    </tr>\n",
       "    <tr>\n",
       "      <th>Acre</th>\n",
       "      <td>77.255356</td>\n",
       "    </tr>\n",
       "    <tr>\n",
       "      <th>Rio</th>\n",
       "      <td>64.698515</td>\n",
       "    </tr>\n",
       "    <tr>\n",
       "      <th>Espirito Santo</th>\n",
       "      <td>27.389121</td>\n",
       "    </tr>\n",
       "    <tr>\n",
       "      <th>Alagoas</th>\n",
       "      <td>19.271967</td>\n",
       "    </tr>\n",
       "    <tr>\n",
       "      <th>Distrito Federal</th>\n",
       "      <td>14.899582</td>\n",
       "    </tr>\n",
       "    <tr>\n",
       "      <th>Sergipe</th>\n",
       "      <td>13.543933</td>\n",
       "    </tr>\n",
       "  </tbody>\n",
       "</table>\n",
       "</div>"
      ],
      "text/plain": [
       "                      number\n",
       "state                       \n",
       "Sao Paulo         213.896226\n",
       "Mato Grosso       203.479975\n",
       "Bahia             187.222703\n",
       "Piau              158.174674\n",
       "Goias             157.721841\n",
       "Minas Gerais      156.800243\n",
       "Tocantins         141.037176\n",
       "Amazonas          128.243218\n",
       "Ceara             127.314071\n",
       "Paraiba           111.073979\n",
       "Maranhao          105.142808\n",
       "Pará              102.561272\n",
       "Pernambuco        102.502092\n",
       "Roraima           102.029598\n",
       "Santa Catarina    101.924067\n",
       "Amapa              91.345506\n",
       "Rondonia           84.876272\n",
       "Acre               77.255356\n",
       "Rio                64.698515\n",
       "Espirito Santo     27.389121\n",
       "Alagoas            19.271967\n",
       "Distrito Federal   14.899582\n",
       "Sergipe            13.543933"
      ]
     },
     "execution_count": 27,
     "metadata": {},
     "output_type": "execute_result"
    }
   ],
   "source": [
    "sat_wise = data.groupby(by=\"state\")[\"number\"].mean().sort_values(ascending=False).to_frame()\n",
    "sat_wise"
   ]
  },
  {
   "cell_type": "code",
   "execution_count": 28,
   "id": "aebdb53d",
   "metadata": {
    "execution": {
     "iopub.execute_input": "2024-03-08T19:27:31.765926Z",
     "iopub.status.busy": "2024-03-08T19:27:31.764526Z",
     "iopub.status.idle": "2024-03-08T19:27:32.285555Z",
     "shell.execute_reply": "2024-03-08T19:27:32.284397Z"
    },
    "papermill": {
     "duration": 0.543288,
     "end_time": "2024-03-08T19:27:32.288525",
     "exception": false,
     "start_time": "2024-03-08T19:27:31.745237",
     "status": "completed"
    },
    "tags": []
   },
   "outputs": [
    {
     "data": {
      "text/plain": [
       "<Axes: xlabel='number', ylabel='state'>"
      ]
     },
     "execution_count": 28,
     "metadata": {},
     "output_type": "execute_result"
    },
    {
     "data": {
      "image/png": "[encoded data removed]",
      "text/plain": [
       "<Figure size 1800x800 with 1 Axes>"
      ]
     },
     "metadata": {},
     "output_type": "display_data"
    }
   ],
   "source": [
    "plt.figure(figsize=(18, 8))\n",
    "sns.barplot(data=sat_wise, y=sat_wise.index, x=\"number\")"
   ]
  },
  {
   "cell_type": "markdown",
   "id": "b3c368de",
   "metadata": {
    "papermill": {
     "duration": 0.019042,
     "end_time": "2024-03-08T19:27:32.325398",
     "exception": false,
     "start_time": "2024-03-08T19:27:32.306356",
     "status": "completed"
    },
    "tags": []
   },
   "source": [
    "<h1>To Find The State Names Where Fires Were Reported In 'dec' Month"
   ]
  },
  {
   "cell_type": "code",
   "execution_count": 29,
   "id": "1e8616a4",
   "metadata": {
    "execution": {
     "iopub.execute_input": "2024-03-08T19:27:32.364291Z",
     "iopub.status.busy": "2024-03-08T19:27:32.363145Z",
     "iopub.status.idle": "2024-03-08T19:27:32.373259Z",
     "shell.execute_reply": "2024-03-08T19:27:32.372079Z"
    },
    "papermill": {
     "duration": 0.031875,
     "end_time": "2024-03-08T19:27:32.375520",
     "exception": false,
     "start_time": "2024-03-08T19:27:32.343645",
     "status": "completed"
    },
    "tags": []
   },
   "outputs": [
    {
     "data": {
      "text/plain": [
       "array(['Acre', 'Alagoas', 'Amapa', 'Amazonas', 'Bahia', 'Ceara',\n",
       "       'Distrito Federal', 'Espirito Santo', 'Goias', 'Maranhao',\n",
       "       'Mato Grosso', 'Minas Gerais', 'Pará', 'Paraiba', 'Pernambuco',\n",
       "       'Piau', 'Rio', 'Rondonia', 'Roraima', 'Santa Catarina',\n",
       "       'Sao Paulo', 'Sergipe', 'Tocantins'], dtype=object)"
      ]
     },
     "execution_count": 29,
     "metadata": {},
     "output_type": "execute_result"
    }
   ],
   "source": [
    "b = data[data[\"month\"] == \"December\"][\"state\"].unique()\n",
    "b"
   ]
  },
  {
   "cell_type": "code",
   "execution_count": null,
   "id": "76f75542",
   "metadata": {
    "papermill": {
     "duration": 0.0184,
     "end_time": "2024-03-08T19:27:32.412924",
     "exception": false,
     "start_time": "2024-03-08T19:27:32.394524",
     "status": "completed"
    },
    "tags": []
   },
   "outputs": [],
   "source": []
  }
 ],
 "metadata": {
  "kaggle": {
   "accelerator": "none",
   "dataSources": [
    {
     "datasetId": 316056,
     "sourceId": 639173,
     "sourceType": "datasetVersion"
    }
   ],
   "dockerImageVersionId": 30664,
   "isGpuEnabled": false,
   "isInternetEnabled": true,
   "language": "python",
   "sourceType": "notebook"
  },
  "kernelspec": {
   "display_name": "Python 3",
   "language": "python",
   "name": "python3"
  },
  "language_info": {
   "codemirror_mode": {
    "name": "ipython",
    "version": 3
   },
   "file_extension": ".py",
   "mimetype": "text/x-python",
   "name": "python",
   "nbconvert_exporter": "python",
   "pygments_lexer": "ipython3",
   "version": "3.10.13"
  },
  "papermill": {
   "default_parameters": {},
   "duration": 12.55327,
   "end_time": "2024-03-08T19:27:33.154414",
   "environment_variables": {},
   "exception": null,
   "input_path": "__notebook__.ipynb",
   "output_path": "__notebook__.ipynb",
   "parameters": {},
   "start_time": "2024-03-08T19:27:20.601144",
   "version": "2.5.0"
  }
 },
 "nbformat": 4,
 "nbformat_minor": 5
}
