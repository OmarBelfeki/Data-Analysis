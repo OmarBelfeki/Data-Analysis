{
 "cells": [
  {
   "cell_type": "code",
   "execution_count": 1,
   "id": "fb631288",
   "metadata": {
    "_cell_guid": "b1076dfc-b9ad-4769-8c92-a6c4dae69d19",
    "_uuid": "8f2839f25d086af736a60e9eeb907d3b93b6e0e5",
    "execution": {
     "iopub.execute_input": "2024-03-08T17:01:34.061631Z",
     "iopub.status.busy": "2024-03-08T17:01:34.061115Z",
     "iopub.status.idle": "2024-03-08T17:01:36.979967Z",
     "shell.execute_reply": "2024-03-08T17:01:36.978339Z"
    },
    "papermill": {
     "duration": 2.944544,
     "end_time": "2024-03-08T17:01:36.983316",
     "exception": false,
     "start_time": "2024-03-08T17:01:34.038772",
     "status": "completed"
    },
    "tags": []
   },
   "outputs": [
    {
     "name": "stdout",
     "output_type": "stream",
     "text": [
      "/kaggle/input/imdb-data/IMDB-Movie-Data.csv\n"
     ]
    }
   ],
   "source": [
    "# This Python 3 environment comes with many helpful analytics libraries installed\n",
    "# It is defined by the kaggle/python Docker image: https://github.com/kaggle/docker-python\n",
    "# For example, here's several helpful packages to load\n",
    "\n",
    "import numpy as np # linear algebra\n",
    "import pandas as pd # data processing, CSV file I/O (e.g. pd.read_csv)\n",
    "import seaborn as sns\n",
    "import matplotlib.pyplot as plt\n",
    "\n",
    "import pprint\n",
    "\n",
    "\n",
    "\n",
    "# Input data files are available in the read-only \"../input/\" directory\n",
    "# For example, running this (by clicking run or pressing Shift+Enter) will list all files under the input directory\n",
    "\n",
    "import os\n",
    "for dirname, _, filenames in os.walk('/kaggle/input'):\n",
    "    for filename in filenames:\n",
    "        print(os.path.join(dirname, filename))\n",
    "\n",
    "# You can write up to 20GB to the current directory (/kaggle/working/) that gets preserved as output when you create a version using \"Save & Run All\" \n",
    "# You can also write temporary files to /kaggle/temp/, but they won't be saved outside of the current session"
   ]
  },
  {
   "cell_type": "code",
   "execution_count": 2,
   "id": "3cd032fa",
   "metadata": {
    "execution": {
     "iopub.execute_input": "2024-03-08T17:01:37.028225Z",
     "iopub.status.busy": "2024-03-08T17:01:37.027148Z",
     "iopub.status.idle": "2024-03-08T17:01:37.057014Z",
     "shell.execute_reply": "2024-03-08T17:01:37.055621Z"
    },
    "papermill": {
     "duration": 0.057253,
     "end_time": "2024-03-08T17:01:37.059965",
     "exception": false,
     "start_time": "2024-03-08T17:01:37.002712",
     "status": "completed"
    },
    "tags": []
   },
   "outputs": [],
   "source": [
    "data = pd.read_csv(\"/kaggle/input/imdb-data/IMDB-Movie-Data.csv\")"
   ]
  },
  {
   "cell_type": "markdown",
   "id": "ebfafba3",
   "metadata": {
    "papermill": {
     "duration": 0.020232,
     "end_time": "2024-03-08T17:01:37.100208",
     "exception": false,
     "start_time": "2024-03-08T17:01:37.079976",
     "status": "completed"
    },
    "tags": []
   },
   "source": [
    "<h1>Display Top 10 Rows of The Dataset"
   ]
  },
  {
   "cell_type": "code",
   "execution_count": 3,
   "id": "8a2ecee4",
   "metadata": {
    "execution": {
     "iopub.execute_input": "2024-03-08T17:01:37.142717Z",
     "iopub.status.busy": "2024-03-08T17:01:37.142064Z",
     "iopub.status.idle": "2024-03-08T17:01:37.171223Z",
     "shell.execute_reply": "2024-03-08T17:01:37.170017Z"
    },
    "papermill": {
     "duration": 0.052775,
     "end_time": "2024-03-08T17:01:37.173796",
     "exception": false,
     "start_time": "2024-03-08T17:01:37.121021",
     "status": "completed"
    },
    "tags": []
   },
   "outputs": [
    {
     "data": {
      "text/html": [
       "<div>\n",
       "<style scoped>\n",
       "    .dataframe tbody tr th:only-of-type {\n",
       "        vertical-align: middle;\n",
       "    }\n",
       "\n",
       "    .dataframe tbody tr th {\n",
       "        vertical-align: top;\n",
       "    }\n",
       "\n",
       "    .dataframe thead th {\n",
       "        text-align: right;\n",
       "    }\n",
       "</style>\n",
       "<table border=\"1\" class=\"dataframe\">\n",
       "  <thead>\n",
       "    <tr style=\"text-align: right;\">\n",
       "      <th></th>\n",
       "      <th>Rank</th>\n",
       "      <th>Title</th>\n",
       "      <th>Genre</th>\n",
       "      <th>Description</th>\n",
       "      <th>Director</th>\n",
       "      <th>Actors</th>\n",
       "      <th>Year</th>\n",
       "      <th>Runtime (Minutes)</th>\n",
       "      <th>Rating</th>\n",
       "      <th>Votes</th>\n",
       "      <th>Revenue (Millions)</th>\n",
       "      <th>Metascore</th>\n",
       "    </tr>\n",
       "  </thead>\n",
       "  <tbody>\n",
       "    <tr>\n",
       "      <th>0</th>\n",
       "      <td>1</td>\n",
       "      <td>Guardians of the Galaxy</td>\n",
       "      <td>Action,Adventure,Sci-Fi</td>\n",
       "      <td>A group of intergalactic criminals are forced ...</td>\n",
       "      <td>James Gunn</td>\n",
       "      <td>Chris Pratt, Vin Diesel, Bradley Cooper, Zoe S...</td>\n",
       "      <td>2014</td>\n",
       "      <td>121</td>\n",
       "      <td>8.1</td>\n",
       "      <td>757074</td>\n",
       "      <td>333.13</td>\n",
       "      <td>76.0</td>\n",
       "    </tr>\n",
       "    <tr>\n",
       "      <th>1</th>\n",
       "      <td>2</td>\n",
       "      <td>Prometheus</td>\n",
       "      <td>Adventure,Mystery,Sci-Fi</td>\n",
       "      <td>Following clues to the origin of mankind, a te...</td>\n",
       "      <td>Ridley Scott</td>\n",
       "      <td>Noomi Rapace, Logan Marshall-Green, Michael Fa...</td>\n",
       "      <td>2012</td>\n",
       "      <td>124</td>\n",
       "      <td>7.0</td>\n",
       "      <td>485820</td>\n",
       "      <td>126.46</td>\n",
       "      <td>65.0</td>\n",
       "    </tr>\n",
       "    <tr>\n",
       "      <th>2</th>\n",
       "      <td>3</td>\n",
       "      <td>Split</td>\n",
       "      <td>Horror,Thriller</td>\n",
       "      <td>Three girls are kidnapped by a man with a diag...</td>\n",
       "      <td>M. Night Shyamalan</td>\n",
       "      <td>James McAvoy, Anya Taylor-Joy, Haley Lu Richar...</td>\n",
       "      <td>2016</td>\n",
       "      <td>117</td>\n",
       "      <td>7.3</td>\n",
       "      <td>157606</td>\n",
       "      <td>138.12</td>\n",
       "      <td>62.0</td>\n",
       "    </tr>\n",
       "    <tr>\n",
       "      <th>3</th>\n",
       "      <td>4</td>\n",
       "      <td>Sing</td>\n",
       "      <td>Animation,Comedy,Family</td>\n",
       "      <td>In a city of humanoid animals, a hustling thea...</td>\n",
       "      <td>Christophe Lourdelet</td>\n",
       "      <td>Matthew McConaughey,Reese Witherspoon, Seth Ma...</td>\n",
       "      <td>2016</td>\n",
       "      <td>108</td>\n",
       "      <td>7.2</td>\n",
       "      <td>60545</td>\n",
       "      <td>270.32</td>\n",
       "      <td>59.0</td>\n",
       "    </tr>\n",
       "    <tr>\n",
       "      <th>4</th>\n",
       "      <td>5</td>\n",
       "      <td>Suicide Squad</td>\n",
       "      <td>Action,Adventure,Fantasy</td>\n",
       "      <td>A secret government agency recruits some of th...</td>\n",
       "      <td>David Ayer</td>\n",
       "      <td>Will Smith, Jared Leto, Margot Robbie, Viola D...</td>\n",
       "      <td>2016</td>\n",
       "      <td>123</td>\n",
       "      <td>6.2</td>\n",
       "      <td>393727</td>\n",
       "      <td>325.02</td>\n",
       "      <td>40.0</td>\n",
       "    </tr>\n",
       "    <tr>\n",
       "      <th>5</th>\n",
       "      <td>6</td>\n",
       "      <td>The Great Wall</td>\n",
       "      <td>Action,Adventure,Fantasy</td>\n",
       "      <td>European mercenaries searching for black powde...</td>\n",
       "      <td>Yimou Zhang</td>\n",
       "      <td>Matt Damon, Tian Jing, Willem Dafoe, Andy Lau</td>\n",
       "      <td>2016</td>\n",
       "      <td>103</td>\n",
       "      <td>6.1</td>\n",
       "      <td>56036</td>\n",
       "      <td>45.13</td>\n",
       "      <td>42.0</td>\n",
       "    </tr>\n",
       "    <tr>\n",
       "      <th>6</th>\n",
       "      <td>7</td>\n",
       "      <td>La La Land</td>\n",
       "      <td>Comedy,Drama,Music</td>\n",
       "      <td>A jazz pianist falls for an aspiring actress i...</td>\n",
       "      <td>Damien Chazelle</td>\n",
       "      <td>Ryan Gosling, Emma Stone, Rosemarie DeWitt, J....</td>\n",
       "      <td>2016</td>\n",
       "      <td>128</td>\n",
       "      <td>8.3</td>\n",
       "      <td>258682</td>\n",
       "      <td>151.06</td>\n",
       "      <td>93.0</td>\n",
       "    </tr>\n",
       "    <tr>\n",
       "      <th>7</th>\n",
       "      <td>8</td>\n",
       "      <td>Mindhorn</td>\n",
       "      <td>Comedy</td>\n",
       "      <td>A has-been actor best known for playing the ti...</td>\n",
       "      <td>Sean Foley</td>\n",
       "      <td>Essie Davis, Andrea Riseborough, Julian Barrat...</td>\n",
       "      <td>2016</td>\n",
       "      <td>89</td>\n",
       "      <td>6.4</td>\n",
       "      <td>2490</td>\n",
       "      <td>NaN</td>\n",
       "      <td>71.0</td>\n",
       "    </tr>\n",
       "    <tr>\n",
       "      <th>8</th>\n",
       "      <td>9</td>\n",
       "      <td>The Lost City of Z</td>\n",
       "      <td>Action,Adventure,Biography</td>\n",
       "      <td>A true-life drama, centering on British explor...</td>\n",
       "      <td>James Gray</td>\n",
       "      <td>Charlie Hunnam, Robert Pattinson, Sienna Mille...</td>\n",
       "      <td>2016</td>\n",
       "      <td>141</td>\n",
       "      <td>7.1</td>\n",
       "      <td>7188</td>\n",
       "      <td>8.01</td>\n",
       "      <td>78.0</td>\n",
       "    </tr>\n",
       "    <tr>\n",
       "      <th>9</th>\n",
       "      <td>10</td>\n",
       "      <td>Passengers</td>\n",
       "      <td>Adventure,Drama,Romance</td>\n",
       "      <td>A spacecraft traveling to a distant colony pla...</td>\n",
       "      <td>Morten Tyldum</td>\n",
       "      <td>Jennifer Lawrence, Chris Pratt, Michael Sheen,...</td>\n",
       "      <td>2016</td>\n",
       "      <td>116</td>\n",
       "      <td>7.0</td>\n",
       "      <td>192177</td>\n",
       "      <td>100.01</td>\n",
       "      <td>41.0</td>\n",
       "    </tr>\n",
       "  </tbody>\n",
       "</table>\n",
       "</div>"
      ],
      "text/plain": [
       "   Rank                    Title                       Genre  \\\n",
       "0     1  Guardians of the Galaxy     Action,Adventure,Sci-Fi   \n",
       "1     2               Prometheus    Adventure,Mystery,Sci-Fi   \n",
       "2     3                    Split             Horror,Thriller   \n",
       "3     4                     Sing     Animation,Comedy,Family   \n",
       "4     5            Suicide Squad    Action,Adventure,Fantasy   \n",
       "5     6           The Great Wall    Action,Adventure,Fantasy   \n",
       "6     7               La La Land          Comedy,Drama,Music   \n",
       "7     8                 Mindhorn                      Comedy   \n",
       "8     9       The Lost City of Z  Action,Adventure,Biography   \n",
       "9    10               Passengers     Adventure,Drama,Romance   \n",
       "\n",
       "                                         Description              Director  \\\n",
       "0  A group of intergalactic criminals are forced ...            James Gunn   \n",
       "1  Following clues to the origin of mankind, a te...          Ridley Scott   \n",
       "2  Three girls are kidnapped by a man with a diag...    M. Night Shyamalan   \n",
       "3  In a city of humanoid animals, a hustling thea...  Christophe Lourdelet   \n",
       "4  A secret government agency recruits some of th...            David Ayer   \n",
       "5  European mercenaries searching for black powde...           Yimou Zhang   \n",
       "6  A jazz pianist falls for an aspiring actress i...       Damien Chazelle   \n",
       "7  A has-been actor best known for playing the ti...            Sean Foley   \n",
       "8  A true-life drama, centering on British explor...            James Gray   \n",
       "9  A spacecraft traveling to a distant colony pla...         Morten Tyldum   \n",
       "\n",
       "                                              Actors  Year  Runtime (Minutes)  \\\n",
       "0  Chris Pratt, Vin Diesel, Bradley Cooper, Zoe S...  2014                121   \n",
       "1  Noomi Rapace, Logan Marshall-Green, Michael Fa...  2012                124   \n",
       "2  James McAvoy, Anya Taylor-Joy, Haley Lu Richar...  2016                117   \n",
       "3  Matthew McConaughey,Reese Witherspoon, Seth Ma...  2016                108   \n",
       "4  Will Smith, Jared Leto, Margot Robbie, Viola D...  2016                123   \n",
       "5      Matt Damon, Tian Jing, Willem Dafoe, Andy Lau  2016                103   \n",
       "6  Ryan Gosling, Emma Stone, Rosemarie DeWitt, J....  2016                128   \n",
       "7  Essie Davis, Andrea Riseborough, Julian Barrat...  2016                 89   \n",
       "8  Charlie Hunnam, Robert Pattinson, Sienna Mille...  2016                141   \n",
       "9  Jennifer Lawrence, Chris Pratt, Michael Sheen,...  2016                116   \n",
       "\n",
       "   Rating   Votes  Revenue (Millions)  Metascore  \n",
       "0     8.1  757074              333.13       76.0  \n",
       "1     7.0  485820              126.46       65.0  \n",
       "2     7.3  157606              138.12       62.0  \n",
       "3     7.2   60545              270.32       59.0  \n",
       "4     6.2  393727              325.02       40.0  \n",
       "5     6.1   56036               45.13       42.0  \n",
       "6     8.3  258682              151.06       93.0  \n",
       "7     6.4    2490                 NaN       71.0  \n",
       "8     7.1    7188                8.01       78.0  \n",
       "9     7.0  192177              100.01       41.0  "
      ]
     },
     "execution_count": 3,
     "metadata": {},
     "output_type": "execute_result"
    }
   ],
   "source": [
    "data.head(10)"
   ]
  },
  {
   "cell_type": "markdown",
   "id": "20ced1f1",
   "metadata": {
    "papermill": {
     "duration": 0.019765,
     "end_time": "2024-03-08T17:01:37.213356",
     "exception": false,
     "start_time": "2024-03-08T17:01:37.193591",
     "status": "completed"
    },
    "tags": []
   },
   "source": [
    "<H2>Check Last 10 Rows of The Dataset\n"
   ]
  },
  {
   "cell_type": "code",
   "execution_count": 4,
   "id": "61d7b418",
   "metadata": {
    "execution": {
     "iopub.execute_input": "2024-03-08T17:01:37.254316Z",
     "iopub.status.busy": "2024-03-08T17:01:37.253899Z",
     "iopub.status.idle": "2024-03-08T17:01:37.276835Z",
     "shell.execute_reply": "2024-03-08T17:01:37.275670Z"
    },
    "papermill": {
     "duration": 0.04652,
     "end_time": "2024-03-08T17:01:37.279413",
     "exception": false,
     "start_time": "2024-03-08T17:01:37.232893",
     "status": "completed"
    },
    "tags": []
   },
   "outputs": [
    {
     "data": {
      "text/html": [
       "<div>\n",
       "<style scoped>\n",
       "    .dataframe tbody tr th:only-of-type {\n",
       "        vertical-align: middle;\n",
       "    }\n",
       "\n",
       "    .dataframe tbody tr th {\n",
       "        vertical-align: top;\n",
       "    }\n",
       "\n",
       "    .dataframe thead th {\n",
       "        text-align: right;\n",
       "    }\n",
       "</style>\n",
       "<table border=\"1\" class=\"dataframe\">\n",
       "  <thead>\n",
       "    <tr style=\"text-align: right;\">\n",
       "      <th></th>\n",
       "      <th>Rank</th>\n",
       "      <th>Title</th>\n",
       "      <th>Genre</th>\n",
       "      <th>Description</th>\n",
       "      <th>Director</th>\n",
       "      <th>Actors</th>\n",
       "      <th>Year</th>\n",
       "      <th>Runtime (Minutes)</th>\n",
       "      <th>Rating</th>\n",
       "      <th>Votes</th>\n",
       "      <th>Revenue (Millions)</th>\n",
       "      <th>Metascore</th>\n",
       "    </tr>\n",
       "  </thead>\n",
       "  <tbody>\n",
       "    <tr>\n",
       "      <th>990</th>\n",
       "      <td>991</td>\n",
       "      <td>Underworld: Rise of the Lycans</td>\n",
       "      <td>Action,Adventure,Fantasy</td>\n",
       "      <td>An origins story centered on the centuries-old...</td>\n",
       "      <td>Patrick Tatopoulos</td>\n",
       "      <td>Rhona Mitra, Michael Sheen, Bill Nighy, Steven...</td>\n",
       "      <td>2009</td>\n",
       "      <td>92</td>\n",
       "      <td>6.6</td>\n",
       "      <td>129708</td>\n",
       "      <td>45.80</td>\n",
       "      <td>44.0</td>\n",
       "    </tr>\n",
       "    <tr>\n",
       "      <th>991</th>\n",
       "      <td>992</td>\n",
       "      <td>Taare Zameen Par</td>\n",
       "      <td>Drama,Family,Music</td>\n",
       "      <td>An eight-year-old boy is thought to be a lazy ...</td>\n",
       "      <td>Aamir Khan</td>\n",
       "      <td>Darsheel Safary, Aamir Khan, Tanay Chheda, Sac...</td>\n",
       "      <td>2007</td>\n",
       "      <td>165</td>\n",
       "      <td>8.5</td>\n",
       "      <td>102697</td>\n",
       "      <td>1.20</td>\n",
       "      <td>42.0</td>\n",
       "    </tr>\n",
       "    <tr>\n",
       "      <th>992</th>\n",
       "      <td>993</td>\n",
       "      <td>Take Me Home Tonight</td>\n",
       "      <td>Comedy,Drama,Romance</td>\n",
       "      <td>Four years after graduation, an awkward high s...</td>\n",
       "      <td>Michael Dowse</td>\n",
       "      <td>Topher Grace, Anna Faris, Dan Fogler, Teresa P...</td>\n",
       "      <td>2011</td>\n",
       "      <td>97</td>\n",
       "      <td>6.3</td>\n",
       "      <td>45419</td>\n",
       "      <td>6.92</td>\n",
       "      <td>NaN</td>\n",
       "    </tr>\n",
       "    <tr>\n",
       "      <th>993</th>\n",
       "      <td>994</td>\n",
       "      <td>Resident Evil: Afterlife</td>\n",
       "      <td>Action,Adventure,Horror</td>\n",
       "      <td>While still out to destroy the evil Umbrella C...</td>\n",
       "      <td>Paul W.S. Anderson</td>\n",
       "      <td>Milla Jovovich, Ali Larter, Wentworth Miller,K...</td>\n",
       "      <td>2010</td>\n",
       "      <td>97</td>\n",
       "      <td>5.9</td>\n",
       "      <td>140900</td>\n",
       "      <td>60.13</td>\n",
       "      <td>37.0</td>\n",
       "    </tr>\n",
       "    <tr>\n",
       "      <th>994</th>\n",
       "      <td>995</td>\n",
       "      <td>Project X</td>\n",
       "      <td>Comedy</td>\n",
       "      <td>3 high school seniors throw a birthday party t...</td>\n",
       "      <td>Nima Nourizadeh</td>\n",
       "      <td>Thomas Mann, Oliver Cooper, Jonathan Daniel Br...</td>\n",
       "      <td>2012</td>\n",
       "      <td>88</td>\n",
       "      <td>6.7</td>\n",
       "      <td>164088</td>\n",
       "      <td>54.72</td>\n",
       "      <td>48.0</td>\n",
       "    </tr>\n",
       "    <tr>\n",
       "      <th>995</th>\n",
       "      <td>996</td>\n",
       "      <td>Secret in Their Eyes</td>\n",
       "      <td>Crime,Drama,Mystery</td>\n",
       "      <td>A tight-knit team of rising investigators, alo...</td>\n",
       "      <td>Billy Ray</td>\n",
       "      <td>Chiwetel Ejiofor, Nicole Kidman, Julia Roberts...</td>\n",
       "      <td>2015</td>\n",
       "      <td>111</td>\n",
       "      <td>6.2</td>\n",
       "      <td>27585</td>\n",
       "      <td>NaN</td>\n",
       "      <td>45.0</td>\n",
       "    </tr>\n",
       "    <tr>\n",
       "      <th>996</th>\n",
       "      <td>997</td>\n",
       "      <td>Hostel: Part II</td>\n",
       "      <td>Horror</td>\n",
       "      <td>Three American college students studying abroa...</td>\n",
       "      <td>Eli Roth</td>\n",
       "      <td>Lauren German, Heather Matarazzo, Bijou Philli...</td>\n",
       "      <td>2007</td>\n",
       "      <td>94</td>\n",
       "      <td>5.5</td>\n",
       "      <td>73152</td>\n",
       "      <td>17.54</td>\n",
       "      <td>46.0</td>\n",
       "    </tr>\n",
       "    <tr>\n",
       "      <th>997</th>\n",
       "      <td>998</td>\n",
       "      <td>Step Up 2: The Streets</td>\n",
       "      <td>Drama,Music,Romance</td>\n",
       "      <td>Romantic sparks occur between two dance studen...</td>\n",
       "      <td>Jon M. Chu</td>\n",
       "      <td>Robert Hoffman, Briana Evigan, Cassie Ventura,...</td>\n",
       "      <td>2008</td>\n",
       "      <td>98</td>\n",
       "      <td>6.2</td>\n",
       "      <td>70699</td>\n",
       "      <td>58.01</td>\n",
       "      <td>50.0</td>\n",
       "    </tr>\n",
       "    <tr>\n",
       "      <th>998</th>\n",
       "      <td>999</td>\n",
       "      <td>Search Party</td>\n",
       "      <td>Adventure,Comedy</td>\n",
       "      <td>A pair of friends embark on a mission to reuni...</td>\n",
       "      <td>Scot Armstrong</td>\n",
       "      <td>Adam Pally, T.J. Miller, Thomas Middleditch,Sh...</td>\n",
       "      <td>2014</td>\n",
       "      <td>93</td>\n",
       "      <td>5.6</td>\n",
       "      <td>4881</td>\n",
       "      <td>NaN</td>\n",
       "      <td>22.0</td>\n",
       "    </tr>\n",
       "    <tr>\n",
       "      <th>999</th>\n",
       "      <td>1000</td>\n",
       "      <td>Nine Lives</td>\n",
       "      <td>Comedy,Family,Fantasy</td>\n",
       "      <td>A stuffy businessman finds himself trapped ins...</td>\n",
       "      <td>Barry Sonnenfeld</td>\n",
       "      <td>Kevin Spacey, Jennifer Garner, Robbie Amell,Ch...</td>\n",
       "      <td>2016</td>\n",
       "      <td>87</td>\n",
       "      <td>5.3</td>\n",
       "      <td>12435</td>\n",
       "      <td>19.64</td>\n",
       "      <td>11.0</td>\n",
       "    </tr>\n",
       "  </tbody>\n",
       "</table>\n",
       "</div>"
      ],
      "text/plain": [
       "     Rank                           Title                     Genre  \\\n",
       "990   991  Underworld: Rise of the Lycans  Action,Adventure,Fantasy   \n",
       "991   992                Taare Zameen Par        Drama,Family,Music   \n",
       "992   993            Take Me Home Tonight      Comedy,Drama,Romance   \n",
       "993   994        Resident Evil: Afterlife   Action,Adventure,Horror   \n",
       "994   995                       Project X                    Comedy   \n",
       "995   996            Secret in Their Eyes       Crime,Drama,Mystery   \n",
       "996   997                 Hostel: Part II                    Horror   \n",
       "997   998          Step Up 2: The Streets       Drama,Music,Romance   \n",
       "998   999                    Search Party          Adventure,Comedy   \n",
       "999  1000                      Nine Lives     Comedy,Family,Fantasy   \n",
       "\n",
       "                                           Description            Director  \\\n",
       "990  An origins story centered on the centuries-old...  Patrick Tatopoulos   \n",
       "991  An eight-year-old boy is thought to be a lazy ...          Aamir Khan   \n",
       "992  Four years after graduation, an awkward high s...       Michael Dowse   \n",
       "993  While still out to destroy the evil Umbrella C...  Paul W.S. Anderson   \n",
       "994  3 high school seniors throw a birthday party t...     Nima Nourizadeh   \n",
       "995  A tight-knit team of rising investigators, alo...           Billy Ray   \n",
       "996  Three American college students studying abroa...            Eli Roth   \n",
       "997  Romantic sparks occur between two dance studen...          Jon M. Chu   \n",
       "998  A pair of friends embark on a mission to reuni...      Scot Armstrong   \n",
       "999  A stuffy businessman finds himself trapped ins...    Barry Sonnenfeld   \n",
       "\n",
       "                                                Actors  Year  \\\n",
       "990  Rhona Mitra, Michael Sheen, Bill Nighy, Steven...  2009   \n",
       "991  Darsheel Safary, Aamir Khan, Tanay Chheda, Sac...  2007   \n",
       "992  Topher Grace, Anna Faris, Dan Fogler, Teresa P...  2011   \n",
       "993  Milla Jovovich, Ali Larter, Wentworth Miller,K...  2010   \n",
       "994  Thomas Mann, Oliver Cooper, Jonathan Daniel Br...  2012   \n",
       "995  Chiwetel Ejiofor, Nicole Kidman, Julia Roberts...  2015   \n",
       "996  Lauren German, Heather Matarazzo, Bijou Philli...  2007   \n",
       "997  Robert Hoffman, Briana Evigan, Cassie Ventura,...  2008   \n",
       "998  Adam Pally, T.J. Miller, Thomas Middleditch,Sh...  2014   \n",
       "999  Kevin Spacey, Jennifer Garner, Robbie Amell,Ch...  2016   \n",
       "\n",
       "     Runtime (Minutes)  Rating   Votes  Revenue (Millions)  Metascore  \n",
       "990                 92     6.6  129708               45.80       44.0  \n",
       "991                165     8.5  102697                1.20       42.0  \n",
       "992                 97     6.3   45419                6.92        NaN  \n",
       "993                 97     5.9  140900               60.13       37.0  \n",
       "994                 88     6.7  164088               54.72       48.0  \n",
       "995                111     6.2   27585                 NaN       45.0  \n",
       "996                 94     5.5   73152               17.54       46.0  \n",
       "997                 98     6.2   70699               58.01       50.0  \n",
       "998                 93     5.6    4881                 NaN       22.0  \n",
       "999                 87     5.3   12435               19.64       11.0  "
      ]
     },
     "execution_count": 4,
     "metadata": {},
     "output_type": "execute_result"
    }
   ],
   "source": [
    "data.tail(10)"
   ]
  },
  {
   "cell_type": "markdown",
   "id": "9248f3df",
   "metadata": {
    "papermill": {
     "duration": 0.019638,
     "end_time": "2024-03-08T17:01:37.319346",
     "exception": false,
     "start_time": "2024-03-08T17:01:37.299708",
     "status": "completed"
    },
    "tags": []
   },
   "source": [
    "<h1>Find Shape of Our Dataset (Number of Rows And Number of Columns)\n"
   ]
  },
  {
   "cell_type": "code",
   "execution_count": 5,
   "id": "3909d323",
   "metadata": {
    "execution": {
     "iopub.execute_input": "2024-03-08T17:01:37.361171Z",
     "iopub.status.busy": "2024-03-08T17:01:37.360500Z",
     "iopub.status.idle": "2024-03-08T17:01:37.367478Z",
     "shell.execute_reply": "2024-03-08T17:01:37.366245Z"
    },
    "papermill": {
     "duration": 0.030502,
     "end_time": "2024-03-08T17:01:37.369832",
     "exception": false,
     "start_time": "2024-03-08T17:01:37.339330",
     "status": "completed"
    },
    "tags": []
   },
   "outputs": [
    {
     "data": {
      "text/plain": [
       "(1000, 12)"
      ]
     },
     "execution_count": 5,
     "metadata": {},
     "output_type": "execute_result"
    }
   ],
   "source": [
    "data.shape"
   ]
  },
  {
   "cell_type": "markdown",
   "id": "2c34dc9e",
   "metadata": {
    "execution": {
     "iopub.execute_input": "2024-03-08T14:01:44.082821Z",
     "iopub.status.busy": "2024-03-08T14:01:44.082432Z",
     "iopub.status.idle": "2024-03-08T14:01:44.090318Z",
     "shell.execute_reply": "2024-03-08T14:01:44.088636Z",
     "shell.execute_reply.started": "2024-03-08T14:01:44.082792Z"
    },
    "papermill": {
     "duration": 0.019641,
     "end_time": "2024-03-08T17:01:37.410105",
     "exception": false,
     "start_time": "2024-03-08T17:01:37.390464",
     "status": "completed"
    },
    "tags": []
   },
   "source": [
    "<h1>Getting Information About Our Dataset Like Total Number Rows, Total Number of Columns, Datatypes of Each Column And Memory Requirement\n"
   ]
  },
  {
   "cell_type": "code",
   "execution_count": 6,
   "id": "395308f4",
   "metadata": {
    "execution": {
     "iopub.execute_input": "2024-03-08T17:01:37.452480Z",
     "iopub.status.busy": "2024-03-08T17:01:37.452104Z",
     "iopub.status.idle": "2024-03-08T17:01:37.480796Z",
     "shell.execute_reply": "2024-03-08T17:01:37.479413Z"
    },
    "papermill": {
     "duration": 0.053072,
     "end_time": "2024-03-08T17:01:37.483487",
     "exception": false,
     "start_time": "2024-03-08T17:01:37.430415",
     "status": "completed"
    },
    "tags": []
   },
   "outputs": [
    {
     "name": "stdout",
     "output_type": "stream",
     "text": [
      "<class 'pandas.core.frame.DataFrame'>\n",
      "RangeIndex: 1000 entries, 0 to 999\n",
      "Data columns (total 12 columns):\n",
      " #   Column              Non-Null Count  Dtype  \n",
      "---  ------              --------------  -----  \n",
      " 0   Rank                1000 non-null   int64  \n",
      " 1   Title               1000 non-null   object \n",
      " 2   Genre               1000 non-null   object \n",
      " 3   Description         1000 non-null   object \n",
      " 4   Director            1000 non-null   object \n",
      " 5   Actors              1000 non-null   object \n",
      " 6   Year                1000 non-null   int64  \n",
      " 7   Runtime (Minutes)   1000 non-null   int64  \n",
      " 8   Rating              1000 non-null   float64\n",
      " 9   Votes               1000 non-null   int64  \n",
      " 10  Revenue (Millions)  872 non-null    float64\n",
      " 11  Metascore           936 non-null    float64\n",
      "dtypes: float64(3), int64(4), object(5)\n",
      "memory usage: 93.9+ KB\n"
     ]
    }
   ],
   "source": [
    "data.info()"
   ]
  },
  {
   "cell_type": "markdown",
   "id": "b312d588",
   "metadata": {
    "papermill": {
     "duration": 0.020009,
     "end_time": "2024-03-08T17:01:37.523663",
     "exception": false,
     "start_time": "2024-03-08T17:01:37.503654",
     "status": "completed"
    },
    "tags": []
   },
   "source": [
    "<h1>Check Missing Values In The Dataset\n"
   ]
  },
  {
   "cell_type": "code",
   "execution_count": 7,
   "id": "88a4d5e0",
   "metadata": {
    "execution": {
     "iopub.execute_input": "2024-03-08T17:01:37.565714Z",
     "iopub.status.busy": "2024-03-08T17:01:37.565316Z",
     "iopub.status.idle": "2024-03-08T17:01:37.576178Z",
     "shell.execute_reply": "2024-03-08T17:01:37.574890Z"
    },
    "papermill": {
     "duration": 0.035037,
     "end_time": "2024-03-08T17:01:37.578894",
     "exception": false,
     "start_time": "2024-03-08T17:01:37.543857",
     "status": "completed"
    },
    "tags": []
   },
   "outputs": [
    {
     "data": {
      "text/plain": [
       "Rank                    0\n",
       "Title                   0\n",
       "Genre                   0\n",
       "Description             0\n",
       "Director                0\n",
       "Actors                  0\n",
       "Year                    0\n",
       "Runtime (Minutes)       0\n",
       "Rating                  0\n",
       "Votes                   0\n",
       "Revenue (Millions)    128\n",
       "Metascore              64\n",
       "dtype: int64"
      ]
     },
     "execution_count": 7,
     "metadata": {},
     "output_type": "execute_result"
    }
   ],
   "source": [
    "data.isnull().sum()"
   ]
  },
  {
   "cell_type": "code",
   "execution_count": 8,
   "id": "cac9c330",
   "metadata": {
    "execution": {
     "iopub.execute_input": "2024-03-08T17:01:37.631463Z",
     "iopub.status.busy": "2024-03-08T17:01:37.631095Z",
     "iopub.status.idle": "2024-03-08T17:01:38.407185Z",
     "shell.execute_reply": "2024-03-08T17:01:38.406073Z"
    },
    "papermill": {
     "duration": 0.805788,
     "end_time": "2024-03-08T17:01:38.409833",
     "exception": false,
     "start_time": "2024-03-08T17:01:37.604045",
     "status": "completed"
    },
    "tags": []
   },
   "outputs": [
    {
     "data": {
      "text/plain": [
       "<Axes: >"
      ]
     },
     "execution_count": 8,
     "metadata": {},
     "output_type": "execute_result"
    },
    {
     "data": {
      "image/png": "[encoded data removed]",
      "text/plain": [
       "<Figure size 640x480 with 2 Axes>"
      ]
     },
     "metadata": {},
     "output_type": "display_data"
    }
   ],
   "source": [
    "sns.heatmap(data.isnull())"
   ]
  },
  {
   "cell_type": "markdown",
   "id": "480559e4",
   "metadata": {
    "papermill": {
     "duration": 0.020796,
     "end_time": "2024-03-08T17:01:38.451575",
     "exception": false,
     "start_time": "2024-03-08T17:01:38.430779",
     "status": "completed"
    },
    "tags": []
   },
   "source": [
    "<h1>Drop All The  Missing Values\n"
   ]
  },
  {
   "cell_type": "code",
   "execution_count": 9,
   "id": "e6d9b59e",
   "metadata": {
    "execution": {
     "iopub.execute_input": "2024-03-08T17:01:38.496577Z",
     "iopub.status.busy": "2024-03-08T17:01:38.495562Z",
     "iopub.status.idle": "2024-03-08T17:01:38.503102Z",
     "shell.execute_reply": "2024-03-08T17:01:38.502074Z"
    },
    "papermill": {
     "duration": 0.032568,
     "end_time": "2024-03-08T17:01:38.505426",
     "exception": false,
     "start_time": "2024-03-08T17:01:38.472858",
     "status": "completed"
    },
    "tags": []
   },
   "outputs": [
    {
     "data": {
      "text/plain": [
       "Index(['Rank', 'Title', 'Genre', 'Description', 'Director', 'Actors', 'Year',\n",
       "       'Runtime (Minutes)', 'Rating', 'Votes', 'Revenue (Millions)',\n",
       "       'Metascore'],\n",
       "      dtype='object')"
      ]
     },
     "execution_count": 9,
     "metadata": {},
     "output_type": "execute_result"
    }
   ],
   "source": [
    "data.columns"
   ]
  },
  {
   "cell_type": "code",
   "execution_count": 10,
   "id": "9b6695cb",
   "metadata": {
    "execution": {
     "iopub.execute_input": "2024-03-08T17:01:38.550141Z",
     "iopub.status.busy": "2024-03-08T17:01:38.549366Z",
     "iopub.status.idle": "2024-03-08T17:01:38.558293Z",
     "shell.execute_reply": "2024-03-08T17:01:38.557461Z"
    },
    "papermill": {
     "duration": 0.034188,
     "end_time": "2024-03-08T17:01:38.560801",
     "exception": false,
     "start_time": "2024-03-08T17:01:38.526613",
     "status": "completed"
    },
    "tags": []
   },
   "outputs": [],
   "source": [
    "data.dropna(axis=0, inplace=True)"
   ]
  },
  {
   "cell_type": "code",
   "execution_count": 11,
   "id": "8181627b",
   "metadata": {
    "execution": {
     "iopub.execute_input": "2024-03-08T17:01:38.605611Z",
     "iopub.status.busy": "2024-03-08T17:01:38.604817Z",
     "iopub.status.idle": "2024-03-08T17:01:38.623786Z",
     "shell.execute_reply": "2024-03-08T17:01:38.622621Z"
    },
    "papermill": {
     "duration": 0.044512,
     "end_time": "2024-03-08T17:01:38.626531",
     "exception": false,
     "start_time": "2024-03-08T17:01:38.582019",
     "status": "completed"
    },
    "tags": []
   },
   "outputs": [
    {
     "data": {
      "text/html": [
       "<div>\n",
       "<style scoped>\n",
       "    .dataframe tbody tr th:only-of-type {\n",
       "        vertical-align: middle;\n",
       "    }\n",
       "\n",
       "    .dataframe tbody tr th {\n",
       "        vertical-align: top;\n",
       "    }\n",
       "\n",
       "    .dataframe thead th {\n",
       "        text-align: right;\n",
       "    }\n",
       "</style>\n",
       "<table border=\"1\" class=\"dataframe\">\n",
       "  <thead>\n",
       "    <tr style=\"text-align: right;\">\n",
       "      <th></th>\n",
       "      <th>Rank</th>\n",
       "      <th>Title</th>\n",
       "      <th>Genre</th>\n",
       "      <th>Description</th>\n",
       "      <th>Director</th>\n",
       "      <th>Actors</th>\n",
       "      <th>Year</th>\n",
       "      <th>Runtime (Minutes)</th>\n",
       "      <th>Rating</th>\n",
       "      <th>Votes</th>\n",
       "      <th>Revenue (Millions)</th>\n",
       "      <th>Metascore</th>\n",
       "    </tr>\n",
       "  </thead>\n",
       "  <tbody>\n",
       "    <tr>\n",
       "      <th>0</th>\n",
       "      <td>1</td>\n",
       "      <td>Guardians of the Galaxy</td>\n",
       "      <td>Action,Adventure,Sci-Fi</td>\n",
       "      <td>A group of intergalactic criminals are forced ...</td>\n",
       "      <td>James Gunn</td>\n",
       "      <td>Chris Pratt, Vin Diesel, Bradley Cooper, Zoe S...</td>\n",
       "      <td>2014</td>\n",
       "      <td>121</td>\n",
       "      <td>8.1</td>\n",
       "      <td>757074</td>\n",
       "      <td>333.13</td>\n",
       "      <td>76.0</td>\n",
       "    </tr>\n",
       "    <tr>\n",
       "      <th>1</th>\n",
       "      <td>2</td>\n",
       "      <td>Prometheus</td>\n",
       "      <td>Adventure,Mystery,Sci-Fi</td>\n",
       "      <td>Following clues to the origin of mankind, a te...</td>\n",
       "      <td>Ridley Scott</td>\n",
       "      <td>Noomi Rapace, Logan Marshall-Green, Michael Fa...</td>\n",
       "      <td>2012</td>\n",
       "      <td>124</td>\n",
       "      <td>7.0</td>\n",
       "      <td>485820</td>\n",
       "      <td>126.46</td>\n",
       "      <td>65.0</td>\n",
       "    </tr>\n",
       "    <tr>\n",
       "      <th>2</th>\n",
       "      <td>3</td>\n",
       "      <td>Split</td>\n",
       "      <td>Horror,Thriller</td>\n",
       "      <td>Three girls are kidnapped by a man with a diag...</td>\n",
       "      <td>M. Night Shyamalan</td>\n",
       "      <td>James McAvoy, Anya Taylor-Joy, Haley Lu Richar...</td>\n",
       "      <td>2016</td>\n",
       "      <td>117</td>\n",
       "      <td>7.3</td>\n",
       "      <td>157606</td>\n",
       "      <td>138.12</td>\n",
       "      <td>62.0</td>\n",
       "    </tr>\n",
       "    <tr>\n",
       "      <th>3</th>\n",
       "      <td>4</td>\n",
       "      <td>Sing</td>\n",
       "      <td>Animation,Comedy,Family</td>\n",
       "      <td>In a city of humanoid animals, a hustling thea...</td>\n",
       "      <td>Christophe Lourdelet</td>\n",
       "      <td>Matthew McConaughey,Reese Witherspoon, Seth Ma...</td>\n",
       "      <td>2016</td>\n",
       "      <td>108</td>\n",
       "      <td>7.2</td>\n",
       "      <td>60545</td>\n",
       "      <td>270.32</td>\n",
       "      <td>59.0</td>\n",
       "    </tr>\n",
       "    <tr>\n",
       "      <th>4</th>\n",
       "      <td>5</td>\n",
       "      <td>Suicide Squad</td>\n",
       "      <td>Action,Adventure,Fantasy</td>\n",
       "      <td>A secret government agency recruits some of th...</td>\n",
       "      <td>David Ayer</td>\n",
       "      <td>Will Smith, Jared Leto, Margot Robbie, Viola D...</td>\n",
       "      <td>2016</td>\n",
       "      <td>123</td>\n",
       "      <td>6.2</td>\n",
       "      <td>393727</td>\n",
       "      <td>325.02</td>\n",
       "      <td>40.0</td>\n",
       "    </tr>\n",
       "  </tbody>\n",
       "</table>\n",
       "</div>"
      ],
      "text/plain": [
       "   Rank                    Title                     Genre  \\\n",
       "0     1  Guardians of the Galaxy   Action,Adventure,Sci-Fi   \n",
       "1     2               Prometheus  Adventure,Mystery,Sci-Fi   \n",
       "2     3                    Split           Horror,Thriller   \n",
       "3     4                     Sing   Animation,Comedy,Family   \n",
       "4     5            Suicide Squad  Action,Adventure,Fantasy   \n",
       "\n",
       "                                         Description              Director  \\\n",
       "0  A group of intergalactic criminals are forced ...            James Gunn   \n",
       "1  Following clues to the origin of mankind, a te...          Ridley Scott   \n",
       "2  Three girls are kidnapped by a man with a diag...    M. Night Shyamalan   \n",
       "3  In a city of humanoid animals, a hustling thea...  Christophe Lourdelet   \n",
       "4  A secret government agency recruits some of th...            David Ayer   \n",
       "\n",
       "                                              Actors  Year  Runtime (Minutes)  \\\n",
       "0  Chris Pratt, Vin Diesel, Bradley Cooper, Zoe S...  2014                121   \n",
       "1  Noomi Rapace, Logan Marshall-Green, Michael Fa...  2012                124   \n",
       "2  James McAvoy, Anya Taylor-Joy, Haley Lu Richar...  2016                117   \n",
       "3  Matthew McConaughey,Reese Witherspoon, Seth Ma...  2016                108   \n",
       "4  Will Smith, Jared Leto, Margot Robbie, Viola D...  2016                123   \n",
       "\n",
       "   Rating   Votes  Revenue (Millions)  Metascore  \n",
       "0     8.1  757074              333.13       76.0  \n",
       "1     7.0  485820              126.46       65.0  \n",
       "2     7.3  157606              138.12       62.0  \n",
       "3     7.2   60545              270.32       59.0  \n",
       "4     6.2  393727              325.02       40.0  "
      ]
     },
     "execution_count": 11,
     "metadata": {},
     "output_type": "execute_result"
    }
   ],
   "source": [
    "data.head()"
   ]
  },
  {
   "cell_type": "code",
   "execution_count": 12,
   "id": "9466ffad",
   "metadata": {
    "execution": {
     "iopub.execute_input": "2024-03-08T17:01:38.672249Z",
     "iopub.status.busy": "2024-03-08T17:01:38.671828Z",
     "iopub.status.idle": "2024-03-08T17:01:39.329100Z",
     "shell.execute_reply": "2024-03-08T17:01:39.327852Z"
    },
    "papermill": {
     "duration": 0.686354,
     "end_time": "2024-03-08T17:01:39.334563",
     "exception": false,
     "start_time": "2024-03-08T17:01:38.648209",
     "status": "completed"
    },
    "tags": []
   },
   "outputs": [
    {
     "data": {
      "text/plain": [
       "<Axes: >"
      ]
     },
     "execution_count": 12,
     "metadata": {},
     "output_type": "execute_result"
    },
    {
     "data": {
      "image/png": "[encoded data removed]",
      "text/plain": [
       "<Figure size 640x480 with 2 Axes>"
      ]
     },
     "metadata": {},
     "output_type": "display_data"
    }
   ],
   "source": [
    "sns.heatmap(data.isnull())"
   ]
  },
  {
   "cell_type": "markdown",
   "id": "0e5fa8ae",
   "metadata": {
    "papermill": {
     "duration": 0.02259,
     "end_time": "2024-03-08T17:01:39.381011",
     "exception": false,
     "start_time": "2024-03-08T17:01:39.358421",
     "status": "completed"
    },
    "tags": []
   },
   "source": [
    "<h1>Check For Duplicate Data\n"
   ]
  },
  {
   "cell_type": "code",
   "execution_count": 13,
   "id": "d2c5936a",
   "metadata": {
    "execution": {
     "iopub.execute_input": "2024-03-08T17:01:39.431962Z",
     "iopub.status.busy": "2024-03-08T17:01:39.431210Z",
     "iopub.status.idle": "2024-03-08T17:01:39.441510Z",
     "shell.execute_reply": "2024-03-08T17:01:39.440267Z"
    },
    "papermill": {
     "duration": 0.03877,
     "end_time": "2024-03-08T17:01:39.443790",
     "exception": false,
     "start_time": "2024-03-08T17:01:39.405020",
     "status": "completed"
    },
    "tags": []
   },
   "outputs": [
    {
     "data": {
      "text/plain": [
       "False"
      ]
     },
     "execution_count": 13,
     "metadata": {},
     "output_type": "execute_result"
    }
   ],
   "source": [
    "data.duplicated().any()"
   ]
  },
  {
   "cell_type": "markdown",
   "id": "28751e28",
   "metadata": {
    "papermill": {
     "duration": 0.022388,
     "end_time": "2024-03-08T17:01:39.489030",
     "exception": false,
     "start_time": "2024-03-08T17:01:39.466642",
     "status": "completed"
    },
    "tags": []
   },
   "source": [
    "<h1>Get Overall Statistics About The DataFrame\n"
   ]
  },
  {
   "cell_type": "code",
   "execution_count": 14,
   "id": "09a8f89b",
   "metadata": {
    "execution": {
     "iopub.execute_input": "2024-03-08T17:01:39.596022Z",
     "iopub.status.busy": "2024-03-08T17:01:39.595585Z",
     "iopub.status.idle": "2024-03-08T17:01:39.644097Z",
     "shell.execute_reply": "2024-03-08T17:01:39.643287Z"
    },
    "papermill": {
     "duration": 0.076559,
     "end_time": "2024-03-08T17:01:39.646612",
     "exception": false,
     "start_time": "2024-03-08T17:01:39.570053",
     "status": "completed"
    },
    "tags": []
   },
   "outputs": [
    {
     "data": {
      "text/html": [
       "<div>\n",
       "<style scoped>\n",
       "    .dataframe tbody tr th:only-of-type {\n",
       "        vertical-align: middle;\n",
       "    }\n",
       "\n",
       "    .dataframe tbody tr th {\n",
       "        vertical-align: top;\n",
       "    }\n",
       "\n",
       "    .dataframe thead th {\n",
       "        text-align: right;\n",
       "    }\n",
       "</style>\n",
       "<table border=\"1\" class=\"dataframe\">\n",
       "  <thead>\n",
       "    <tr style=\"text-align: right;\">\n",
       "      <th></th>\n",
       "      <th>Rank</th>\n",
       "      <th>Title</th>\n",
       "      <th>Genre</th>\n",
       "      <th>Description</th>\n",
       "      <th>Director</th>\n",
       "      <th>Actors</th>\n",
       "      <th>Year</th>\n",
       "      <th>Runtime (Minutes)</th>\n",
       "      <th>Rating</th>\n",
       "      <th>Votes</th>\n",
       "      <th>Revenue (Millions)</th>\n",
       "      <th>Metascore</th>\n",
       "    </tr>\n",
       "  </thead>\n",
       "  <tbody>\n",
       "    <tr>\n",
       "      <th>count</th>\n",
       "      <td>838.000000</td>\n",
       "      <td>838</td>\n",
       "      <td>838</td>\n",
       "      <td>838</td>\n",
       "      <td>838</td>\n",
       "      <td>838</td>\n",
       "      <td>838.00000</td>\n",
       "      <td>838.000000</td>\n",
       "      <td>838.000000</td>\n",
       "      <td>8.380000e+02</td>\n",
       "      <td>838.000000</td>\n",
       "      <td>838.000000</td>\n",
       "    </tr>\n",
       "    <tr>\n",
       "      <th>unique</th>\n",
       "      <td>NaN</td>\n",
       "      <td>837</td>\n",
       "      <td>189</td>\n",
       "      <td>838</td>\n",
       "      <td>524</td>\n",
       "      <td>834</td>\n",
       "      <td>NaN</td>\n",
       "      <td>NaN</td>\n",
       "      <td>NaN</td>\n",
       "      <td>NaN</td>\n",
       "      <td>NaN</td>\n",
       "      <td>NaN</td>\n",
       "    </tr>\n",
       "    <tr>\n",
       "      <th>top</th>\n",
       "      <td>NaN</td>\n",
       "      <td>The Host</td>\n",
       "      <td>Action,Adventure,Sci-Fi</td>\n",
       "      <td>A group of intergalactic criminals are forced ...</td>\n",
       "      <td>Ridley Scott</td>\n",
       "      <td>Jennifer Lawrence, Josh Hutcherson, Liam Hemsw...</td>\n",
       "      <td>NaN</td>\n",
       "      <td>NaN</td>\n",
       "      <td>NaN</td>\n",
       "      <td>NaN</td>\n",
       "      <td>NaN</td>\n",
       "      <td>NaN</td>\n",
       "    </tr>\n",
       "    <tr>\n",
       "      <th>freq</th>\n",
       "      <td>NaN</td>\n",
       "      <td>2</td>\n",
       "      <td>50</td>\n",
       "      <td>1</td>\n",
       "      <td>8</td>\n",
       "      <td>2</td>\n",
       "      <td>NaN</td>\n",
       "      <td>NaN</td>\n",
       "      <td>NaN</td>\n",
       "      <td>NaN</td>\n",
       "      <td>NaN</td>\n",
       "      <td>NaN</td>\n",
       "    </tr>\n",
       "    <tr>\n",
       "      <th>mean</th>\n",
       "      <td>485.247017</td>\n",
       "      <td>NaN</td>\n",
       "      <td>NaN</td>\n",
       "      <td>NaN</td>\n",
       "      <td>NaN</td>\n",
       "      <td>NaN</td>\n",
       "      <td>2012.50716</td>\n",
       "      <td>114.638425</td>\n",
       "      <td>6.814320</td>\n",
       "      <td>1.932303e+05</td>\n",
       "      <td>84.564558</td>\n",
       "      <td>59.575179</td>\n",
       "    </tr>\n",
       "    <tr>\n",
       "      <th>std</th>\n",
       "      <td>286.572065</td>\n",
       "      <td>NaN</td>\n",
       "      <td>NaN</td>\n",
       "      <td>NaN</td>\n",
       "      <td>NaN</td>\n",
       "      <td>NaN</td>\n",
       "      <td>3.17236</td>\n",
       "      <td>18.470922</td>\n",
       "      <td>0.877754</td>\n",
       "      <td>1.930990e+05</td>\n",
       "      <td>104.520227</td>\n",
       "      <td>16.952416</td>\n",
       "    </tr>\n",
       "    <tr>\n",
       "      <th>min</th>\n",
       "      <td>1.000000</td>\n",
       "      <td>NaN</td>\n",
       "      <td>NaN</td>\n",
       "      <td>NaN</td>\n",
       "      <td>NaN</td>\n",
       "      <td>NaN</td>\n",
       "      <td>2006.00000</td>\n",
       "      <td>66.000000</td>\n",
       "      <td>1.900000</td>\n",
       "      <td>1.780000e+02</td>\n",
       "      <td>0.000000</td>\n",
       "      <td>11.000000</td>\n",
       "    </tr>\n",
       "    <tr>\n",
       "      <th>25%</th>\n",
       "      <td>238.250000</td>\n",
       "      <td>NaN</td>\n",
       "      <td>NaN</td>\n",
       "      <td>NaN</td>\n",
       "      <td>NaN</td>\n",
       "      <td>NaN</td>\n",
       "      <td>2010.00000</td>\n",
       "      <td>101.000000</td>\n",
       "      <td>6.300000</td>\n",
       "      <td>6.127650e+04</td>\n",
       "      <td>13.967500</td>\n",
       "      <td>47.000000</td>\n",
       "    </tr>\n",
       "    <tr>\n",
       "      <th>50%</th>\n",
       "      <td>475.500000</td>\n",
       "      <td>NaN</td>\n",
       "      <td>NaN</td>\n",
       "      <td>NaN</td>\n",
       "      <td>NaN</td>\n",
       "      <td>NaN</td>\n",
       "      <td>2013.00000</td>\n",
       "      <td>112.000000</td>\n",
       "      <td>6.900000</td>\n",
       "      <td>1.368795e+05</td>\n",
       "      <td>48.150000</td>\n",
       "      <td>60.000000</td>\n",
       "    </tr>\n",
       "    <tr>\n",
       "      <th>75%</th>\n",
       "      <td>729.750000</td>\n",
       "      <td>NaN</td>\n",
       "      <td>NaN</td>\n",
       "      <td>NaN</td>\n",
       "      <td>NaN</td>\n",
       "      <td>NaN</td>\n",
       "      <td>2015.00000</td>\n",
       "      <td>124.000000</td>\n",
       "      <td>7.500000</td>\n",
       "      <td>2.710830e+05</td>\n",
       "      <td>116.800000</td>\n",
       "      <td>72.000000</td>\n",
       "    </tr>\n",
       "    <tr>\n",
       "      <th>max</th>\n",
       "      <td>1000.000000</td>\n",
       "      <td>NaN</td>\n",
       "      <td>NaN</td>\n",
       "      <td>NaN</td>\n",
       "      <td>NaN</td>\n",
       "      <td>NaN</td>\n",
       "      <td>2016.00000</td>\n",
       "      <td>187.000000</td>\n",
       "      <td>9.000000</td>\n",
       "      <td>1.791916e+06</td>\n",
       "      <td>936.630000</td>\n",
       "      <td>100.000000</td>\n",
       "    </tr>\n",
       "  </tbody>\n",
       "</table>\n",
       "</div>"
      ],
      "text/plain": [
       "               Rank     Title                    Genre  \\\n",
       "count    838.000000       838                      838   \n",
       "unique          NaN       837                      189   \n",
       "top             NaN  The Host  Action,Adventure,Sci-Fi   \n",
       "freq            NaN         2                       50   \n",
       "mean     485.247017       NaN                      NaN   \n",
       "std      286.572065       NaN                      NaN   \n",
       "min        1.000000       NaN                      NaN   \n",
       "25%      238.250000       NaN                      NaN   \n",
       "50%      475.500000       NaN                      NaN   \n",
       "75%      729.750000       NaN                      NaN   \n",
       "max     1000.000000       NaN                      NaN   \n",
       "\n",
       "                                              Description      Director  \\\n",
       "count                                                 838           838   \n",
       "unique                                                838           524   \n",
       "top     A group of intergalactic criminals are forced ...  Ridley Scott   \n",
       "freq                                                    1             8   \n",
       "mean                                                  NaN           NaN   \n",
       "std                                                   NaN           NaN   \n",
       "min                                                   NaN           NaN   \n",
       "25%                                                   NaN           NaN   \n",
       "50%                                                   NaN           NaN   \n",
       "75%                                                   NaN           NaN   \n",
       "max                                                   NaN           NaN   \n",
       "\n",
       "                                                   Actors        Year  \\\n",
       "count                                                 838   838.00000   \n",
       "unique                                                834         NaN   \n",
       "top     Jennifer Lawrence, Josh Hutcherson, Liam Hemsw...         NaN   \n",
       "freq                                                    2         NaN   \n",
       "mean                                                  NaN  2012.50716   \n",
       "std                                                   NaN     3.17236   \n",
       "min                                                   NaN  2006.00000   \n",
       "25%                                                   NaN  2010.00000   \n",
       "50%                                                   NaN  2013.00000   \n",
       "75%                                                   NaN  2015.00000   \n",
       "max                                                   NaN  2016.00000   \n",
       "\n",
       "        Runtime (Minutes)      Rating         Votes  Revenue (Millions)  \\\n",
       "count          838.000000  838.000000  8.380000e+02          838.000000   \n",
       "unique                NaN         NaN           NaN                 NaN   \n",
       "top                   NaN         NaN           NaN                 NaN   \n",
       "freq                  NaN         NaN           NaN                 NaN   \n",
       "mean           114.638425    6.814320  1.932303e+05           84.564558   \n",
       "std             18.470922    0.877754  1.930990e+05          104.520227   \n",
       "min             66.000000    1.900000  1.780000e+02            0.000000   \n",
       "25%            101.000000    6.300000  6.127650e+04           13.967500   \n",
       "50%            112.000000    6.900000  1.368795e+05           48.150000   \n",
       "75%            124.000000    7.500000  2.710830e+05          116.800000   \n",
       "max            187.000000    9.000000  1.791916e+06          936.630000   \n",
       "\n",
       "         Metascore  \n",
       "count   838.000000  \n",
       "unique         NaN  \n",
       "top            NaN  \n",
       "freq           NaN  \n",
       "mean     59.575179  \n",
       "std      16.952416  \n",
       "min      11.000000  \n",
       "25%      47.000000  \n",
       "50%      60.000000  \n",
       "75%      72.000000  \n",
       "max     100.000000  "
      ]
     },
     "execution_count": 14,
     "metadata": {},
     "output_type": "execute_result"
    }
   ],
   "source": [
    "data.describe(include=\"all\")"
   ]
  },
  {
   "cell_type": "markdown",
   "id": "be081044",
   "metadata": {
    "papermill": {
     "duration": 0.023658,
     "end_time": "2024-03-08T17:01:39.694292",
     "exception": false,
     "start_time": "2024-03-08T17:01:39.670634",
     "status": "completed"
    },
    "tags": []
   },
   "source": [
    "<h1>Display Title of The Movie Having Runtime Greater Than or equal to 180 Minutes\n"
   ]
  },
  {
   "cell_type": "code",
   "execution_count": 15,
   "id": "38910d71",
   "metadata": {
    "execution": {
     "iopub.execute_input": "2024-03-08T17:01:39.745195Z",
     "iopub.status.busy": "2024-03-08T17:01:39.743898Z",
     "iopub.status.idle": "2024-03-08T17:01:39.752151Z",
     "shell.execute_reply": "2024-03-08T17:01:39.750760Z"
    },
    "papermill": {
     "duration": 0.036706,
     "end_time": "2024-03-08T17:01:39.754583",
     "exception": false,
     "start_time": "2024-03-08T17:01:39.717877",
     "status": "completed"
    },
    "tags": []
   },
   "outputs": [
    {
     "data": {
      "text/plain": [
       "Index(['Rank', 'Title', 'Genre', 'Description', 'Director', 'Actors', 'Year',\n",
       "       'Runtime (Minutes)', 'Rating', 'Votes', 'Revenue (Millions)',\n",
       "       'Metascore'],\n",
       "      dtype='object')"
      ]
     },
     "execution_count": 15,
     "metadata": {},
     "output_type": "execute_result"
    }
   ],
   "source": [
    "data.columns"
   ]
  },
  {
   "cell_type": "code",
   "execution_count": 16,
   "id": "0ac3aca7",
   "metadata": {
    "execution": {
     "iopub.execute_input": "2024-03-08T17:01:39.805176Z",
     "iopub.status.busy": "2024-03-08T17:01:39.804191Z",
     "iopub.status.idle": "2024-03-08T17:01:39.811662Z",
     "shell.execute_reply": "2024-03-08T17:01:39.810261Z"
    },
    "papermill": {
     "duration": 0.035057,
     "end_time": "2024-03-08T17:01:39.814184",
     "exception": false,
     "start_time": "2024-03-08T17:01:39.779127",
     "status": "completed"
    },
    "tags": []
   },
   "outputs": [
    {
     "name": "stdout",
     "output_type": "stream",
     "text": [
      "array(['The Wolf of Wall Street', 'The Hateful Eight', \"La vie d'Adèle\"],\n",
      "      dtype=object)\n"
     ]
    }
   ],
   "source": [
    "pprint.pprint(data[data[\"Runtime (Minutes)\"] >= 180][\"Title\"].values)"
   ]
  },
  {
   "cell_type": "markdown",
   "id": "81cb1f2e",
   "metadata": {
    "papermill": {
     "duration": 0.024778,
     "end_time": "2024-03-08T17:01:39.863032",
     "exception": false,
     "start_time": "2024-03-08T17:01:39.838254",
     "status": "completed"
    },
    "tags": []
   },
   "source": [
    "<h1>In Which Year There Was The Highest Average Voting?\n"
   ]
  },
  {
   "cell_type": "code",
   "execution_count": 17,
   "id": "d9c87d7b",
   "metadata": {
    "execution": {
     "iopub.execute_input": "2024-03-08T17:01:39.921334Z",
     "iopub.status.busy": "2024-03-08T17:01:39.920866Z",
     "iopub.status.idle": "2024-03-08T17:01:39.930211Z",
     "shell.execute_reply": "2024-03-08T17:01:39.928869Z"
    },
    "papermill": {
     "duration": 0.042301,
     "end_time": "2024-03-08T17:01:39.932666",
     "exception": false,
     "start_time": "2024-03-08T17:01:39.890365",
     "status": "completed"
    },
    "tags": []
   },
   "outputs": [
    {
     "data": {
      "text/plain": [
       "Rank                    int64\n",
       "Title                  object\n",
       "Genre                  object\n",
       "Description            object\n",
       "Director               object\n",
       "Actors                 object\n",
       "Year                    int64\n",
       "Runtime (Minutes)       int64\n",
       "Rating                float64\n",
       "Votes                   int64\n",
       "Revenue (Millions)    float64\n",
       "Metascore             float64\n",
       "dtype: object"
      ]
     },
     "execution_count": 17,
     "metadata": {},
     "output_type": "execute_result"
    }
   ],
   "source": [
    "data.dtypes"
   ]
  },
  {
   "cell_type": "code",
   "execution_count": 18,
   "id": "63a4c539",
   "metadata": {
    "execution": {
     "iopub.execute_input": "2024-03-08T17:01:39.995796Z",
     "iopub.status.busy": "2024-03-08T17:01:39.995256Z",
     "iopub.status.idle": "2024-03-08T17:01:40.305504Z",
     "shell.execute_reply": "2024-03-08T17:01:40.304176Z"
    },
    "papermill": {
     "duration": 0.347503,
     "end_time": "2024-03-08T17:01:40.308319",
     "exception": false,
     "start_time": "2024-03-08T17:01:39.960816",
     "status": "completed"
    },
    "tags": []
   },
   "outputs": [
    {
     "data": {
      "text/plain": [
       "<Axes: xlabel='Year'>"
      ]
     },
     "execution_count": 18,
     "metadata": {},
     "output_type": "execute_result"
    },
    {
     "data": {
      "image/png": "[encoded data removed]",
      "text/plain": [
       "<Figure size 640x480 with 1 Axes>"
      ]
     },
     "metadata": {},
     "output_type": "display_data"
    }
   ],
   "source": [
    "data.groupby(\"Year\")[\"Votes\"].mean().plot()"
   ]
  },
  {
   "cell_type": "code",
   "execution_count": 19,
   "id": "adfe8444",
   "metadata": {
    "execution": {
     "iopub.execute_input": "2024-03-08T17:01:40.361659Z",
     "iopub.status.busy": "2024-03-08T17:01:40.361270Z",
     "iopub.status.idle": "2024-03-08T17:01:40.662956Z",
     "shell.execute_reply": "2024-03-08T17:01:40.661565Z"
    },
    "papermill": {
     "duration": 0.330945,
     "end_time": "2024-03-08T17:01:40.665689",
     "exception": false,
     "start_time": "2024-03-08T17:01:40.334744",
     "status": "completed"
    },
    "tags": []
   },
   "outputs": [
    {
     "data": {
      "text/plain": [
       "<Axes: ylabel='Year'>"
      ]
     },
     "execution_count": 19,
     "metadata": {},
     "output_type": "execute_result"
    },
    {
     "data": {
      "image/png": "[encoded data removed]",
      "text/plain": [
       "<Figure size 640x480 with 1 Axes>"
      ]
     },
     "metadata": {},
     "output_type": "display_data"
    }
   ],
   "source": [
    "data.groupby(\"Year\")[\"Votes\"].mean().plot.barh()"
   ]
  },
  {
   "cell_type": "markdown",
   "id": "d65c527a",
   "metadata": {
    "papermill": {
     "duration": 0.025999,
     "end_time": "2024-03-08T17:01:40.717381",
     "exception": false,
     "start_time": "2024-03-08T17:01:40.691382",
     "status": "completed"
    },
    "tags": []
   },
   "source": [
    "<h1>In Which Year There Was The Highest Average Revenue?\n"
   ]
  },
  {
   "cell_type": "code",
   "execution_count": 20,
   "id": "fdbed9ea",
   "metadata": {
    "execution": {
     "iopub.execute_input": "2024-03-08T17:01:40.771704Z",
     "iopub.status.busy": "2024-03-08T17:01:40.771302Z",
     "iopub.status.idle": "2024-03-08T17:01:40.777991Z",
     "shell.execute_reply": "2024-03-08T17:01:40.776887Z"
    },
    "papermill": {
     "duration": 0.037162,
     "end_time": "2024-03-08T17:01:40.780686",
     "exception": false,
     "start_time": "2024-03-08T17:01:40.743524",
     "status": "completed"
    },
    "tags": []
   },
   "outputs": [
    {
     "data": {
      "text/plain": [
       "Index(['Rank', 'Title', 'Genre', 'Description', 'Director', 'Actors', 'Year',\n",
       "       'Runtime (Minutes)', 'Rating', 'Votes', 'Revenue (Millions)',\n",
       "       'Metascore'],\n",
       "      dtype='object')"
      ]
     },
     "execution_count": 20,
     "metadata": {},
     "output_type": "execute_result"
    }
   ],
   "source": [
    "data.columns"
   ]
  },
  {
   "cell_type": "code",
   "execution_count": 21,
   "id": "a1e6c17c",
   "metadata": {
    "execution": {
     "iopub.execute_input": "2024-03-08T17:01:40.833831Z",
     "iopub.status.busy": "2024-03-08T17:01:40.833465Z",
     "iopub.status.idle": "2024-03-08T17:01:40.843159Z",
     "shell.execute_reply": "2024-03-08T17:01:40.842013Z"
    },
    "papermill": {
     "duration": 0.039138,
     "end_time": "2024-03-08T17:01:40.845408",
     "exception": false,
     "start_time": "2024-03-08T17:01:40.806270",
     "status": "completed"
    },
    "tags": []
   },
   "outputs": [
    {
     "data": {
      "text/plain": [
       "Year\n",
       "2006     87.255610\n",
       "2007     93.074091\n",
       "2008     97.525417\n",
       "2009    115.742000\n",
       "2010    105.081579\n",
       "2011     93.703333\n",
       "2012    110.103065\n",
       "2013     88.084643\n",
       "2014     85.433656\n",
       "2015     80.725596\n",
       "2016     55.566111\n",
       "Name: Revenue (Millions), dtype: float64"
      ]
     },
     "execution_count": 21,
     "metadata": {},
     "output_type": "execute_result"
    }
   ],
   "source": [
    "data.groupby(\"Year\")[\"Revenue (Millions)\"].mean()"
   ]
  },
  {
   "cell_type": "code",
   "execution_count": 22,
   "id": "f1638990",
   "metadata": {
    "execution": {
     "iopub.execute_input": "2024-03-08T17:01:40.901884Z",
     "iopub.status.busy": "2024-03-08T17:01:40.899717Z",
     "iopub.status.idle": "2024-03-08T17:01:41.213674Z",
     "shell.execute_reply": "2024-03-08T17:01:41.212042Z"
    },
    "papermill": {
     "duration": 0.34555,
     "end_time": "2024-03-08T17:01:41.216524",
     "exception": false,
     "start_time": "2024-03-08T17:01:40.870974",
     "status": "completed"
    },
    "tags": []
   },
   "outputs": [
    {
     "data": {
      "text/plain": [
       "<Axes: ylabel='Year'>"
      ]
     },
     "execution_count": 22,
     "metadata": {},
     "output_type": "execute_result"
    },
    {
     "data": {
      "image/png": "[encoded data removed]",
      "text/plain": [
       "<Figure size 640x480 with 1 Axes>"
      ]
     },
     "metadata": {},
     "output_type": "display_data"
    }
   ],
   "source": [
    "data.groupby(\"Year\")[\"Revenue (Millions)\"].mean().plot.barh()"
   ]
  },
  {
   "cell_type": "markdown",
   "id": "849afe36",
   "metadata": {
    "papermill": {
     "duration": 0.026406,
     "end_time": "2024-03-08T17:01:41.269776",
     "exception": false,
     "start_time": "2024-03-08T17:01:41.243370",
     "status": "completed"
    },
    "tags": []
   },
   "source": [
    "<h1>Find The Average Rating For Each Director\n"
   ]
  },
  {
   "cell_type": "code",
   "execution_count": 23,
   "id": "7cc0c701",
   "metadata": {
    "execution": {
     "iopub.execute_input": "2024-03-08T17:01:41.325904Z",
     "iopub.status.busy": "2024-03-08T17:01:41.325481Z",
     "iopub.status.idle": "2024-03-08T17:01:41.332166Z",
     "shell.execute_reply": "2024-03-08T17:01:41.331308Z"
    },
    "papermill": {
     "duration": 0.037136,
     "end_time": "2024-03-08T17:01:41.334479",
     "exception": false,
     "start_time": "2024-03-08T17:01:41.297343",
     "status": "completed"
    },
    "tags": []
   },
   "outputs": [
    {
     "data": {
      "text/plain": [
       "Index(['Rank', 'Title', 'Genre', 'Description', 'Director', 'Actors', 'Year',\n",
       "       'Runtime (Minutes)', 'Rating', 'Votes', 'Revenue (Millions)',\n",
       "       'Metascore'],\n",
       "      dtype='object')"
      ]
     },
     "execution_count": 23,
     "metadata": {},
     "output_type": "execute_result"
    }
   ],
   "source": [
    "data.columns"
   ]
  },
  {
   "cell_type": "code",
   "execution_count": 24,
   "id": "e540ef89",
   "metadata": {
    "execution": {
     "iopub.execute_input": "2024-03-08T17:01:41.390183Z",
     "iopub.status.busy": "2024-03-08T17:01:41.389283Z",
     "iopub.status.idle": "2024-03-08T17:01:41.399932Z",
     "shell.execute_reply": "2024-03-08T17:01:41.398822Z"
    },
    "papermill": {
     "duration": 0.041055,
     "end_time": "2024-03-08T17:01:41.402309",
     "exception": false,
     "start_time": "2024-03-08T17:01:41.361254",
     "status": "completed"
    },
    "tags": []
   },
   "outputs": [
    {
     "data": {
      "text/plain": [
       "Director\n",
       "Aamir Khan             8.50\n",
       "Abdellatif Kechiche    7.80\n",
       "Adam McKay             7.00\n",
       "Adam Shankman          6.30\n",
       "Adam Wingard           5.90\n",
       "                       ... \n",
       "Xavier Dolan           8.10\n",
       "Yimou Zhang            6.10\n",
       "Yorgos Lanthimos       7.20\n",
       "Zack Snyder            7.04\n",
       "Zackary Adler          5.10\n",
       "Name: Rating, Length: 524, dtype: float64"
      ]
     },
     "execution_count": 24,
     "metadata": {},
     "output_type": "execute_result"
    }
   ],
   "source": [
    "data.groupby(\"Director\")[\"Rating\"].mean()"
   ]
  },
  {
   "cell_type": "markdown",
   "id": "cd96bb6d",
   "metadata": {
    "papermill": {
     "duration": 0.026648,
     "end_time": "2024-03-08T17:01:41.457860",
     "exception": false,
     "start_time": "2024-03-08T17:01:41.431212",
     "status": "completed"
    },
    "tags": []
   },
   "source": [
    "<h1>Display Top 10 Lengthy Movies Title and Runtime\n"
   ]
  },
  {
   "cell_type": "code",
   "execution_count": 25,
   "id": "dbc9f358",
   "metadata": {
    "execution": {
     "iopub.execute_input": "2024-03-08T17:01:41.514821Z",
     "iopub.status.busy": "2024-03-08T17:01:41.514401Z",
     "iopub.status.idle": "2024-03-08T17:01:41.522203Z",
     "shell.execute_reply": "2024-03-08T17:01:41.521202Z"
    },
    "papermill": {
     "duration": 0.039016,
     "end_time": "2024-03-08T17:01:41.524643",
     "exception": false,
     "start_time": "2024-03-08T17:01:41.485627",
     "status": "completed"
    },
    "tags": []
   },
   "outputs": [
    {
     "data": {
      "text/plain": [
       "Index(['Rank', 'Title', 'Genre', 'Description', 'Director', 'Actors', 'Year',\n",
       "       'Runtime (Minutes)', 'Rating', 'Votes', 'Revenue (Millions)',\n",
       "       'Metascore'],\n",
       "      dtype='object')"
      ]
     },
     "execution_count": 25,
     "metadata": {},
     "output_type": "execute_result"
    }
   ],
   "source": [
    "data.columns"
   ]
  },
  {
   "cell_type": "code",
   "execution_count": 26,
   "id": "ae34b111",
   "metadata": {
    "execution": {
     "iopub.execute_input": "2024-03-08T17:01:41.581897Z",
     "iopub.status.busy": "2024-03-08T17:01:41.580657Z",
     "iopub.status.idle": "2024-03-08T17:01:41.606472Z",
     "shell.execute_reply": "2024-03-08T17:01:41.604834Z"
    },
    "papermill": {
     "duration": 0.057497,
     "end_time": "2024-03-08T17:01:41.609095",
     "exception": false,
     "start_time": "2024-03-08T17:01:41.551598",
     "status": "completed"
    },
    "tags": []
   },
   "outputs": [
    {
     "data": {
      "text/html": [
       "<div>\n",
       "<style scoped>\n",
       "    .dataframe tbody tr th:only-of-type {\n",
       "        vertical-align: middle;\n",
       "    }\n",
       "\n",
       "    .dataframe tbody tr th {\n",
       "        vertical-align: top;\n",
       "    }\n",
       "\n",
       "    .dataframe thead th {\n",
       "        text-align: right;\n",
       "    }\n",
       "</style>\n",
       "<table border=\"1\" class=\"dataframe\">\n",
       "  <thead>\n",
       "    <tr style=\"text-align: right;\">\n",
       "      <th></th>\n",
       "      <th>Rank</th>\n",
       "      <th>Title</th>\n",
       "      <th>Genre</th>\n",
       "      <th>Description</th>\n",
       "      <th>Director</th>\n",
       "      <th>Actors</th>\n",
       "      <th>Year</th>\n",
       "      <th>Runtime (Minutes)</th>\n",
       "      <th>Rating</th>\n",
       "      <th>Votes</th>\n",
       "      <th>Revenue (Millions)</th>\n",
       "      <th>Metascore</th>\n",
       "    </tr>\n",
       "  </thead>\n",
       "  <tbody>\n",
       "    <tr>\n",
       "      <th>74</th>\n",
       "      <td>75</td>\n",
       "      <td>Zootopia</td>\n",
       "      <td>Animation,Adventure,Comedy</td>\n",
       "      <td>In a city of anthropomorphic animals, a rookie...</td>\n",
       "      <td>Byron Howard</td>\n",
       "      <td>Ginnifer Goodwin, Jason Bateman, Idris Elba, J...</td>\n",
       "      <td>2016</td>\n",
       "      <td>108</td>\n",
       "      <td>8.1</td>\n",
       "      <td>296853</td>\n",
       "      <td>341.26</td>\n",
       "      <td>78.0</td>\n",
       "    </tr>\n",
       "    <tr>\n",
       "      <th>431</th>\n",
       "      <td>432</td>\n",
       "      <td>Zoolander 2</td>\n",
       "      <td>Comedy</td>\n",
       "      <td>Derek and Hansel are lured into modeling again...</td>\n",
       "      <td>Ben Stiller</td>\n",
       "      <td>Ben Stiller, Owen Wilson, Penélope Cruz, Will ...</td>\n",
       "      <td>2016</td>\n",
       "      <td>102</td>\n",
       "      <td>4.7</td>\n",
       "      <td>48297</td>\n",
       "      <td>28.84</td>\n",
       "      <td>34.0</td>\n",
       "    </tr>\n",
       "    <tr>\n",
       "      <th>363</th>\n",
       "      <td>364</td>\n",
       "      <td>Zombieland</td>\n",
       "      <td>Adventure,Comedy,Horror</td>\n",
       "      <td>A shy student trying to reach his family in Oh...</td>\n",
       "      <td>Ruben Fleischer</td>\n",
       "      <td>Jesse Eisenberg, Emma Stone, Woody Harrelson,A...</td>\n",
       "      <td>2009</td>\n",
       "      <td>88</td>\n",
       "      <td>7.7</td>\n",
       "      <td>409403</td>\n",
       "      <td>75.59</td>\n",
       "      <td>73.0</td>\n",
       "    </tr>\n",
       "    <tr>\n",
       "      <th>277</th>\n",
       "      <td>278</td>\n",
       "      <td>Zodiac</td>\n",
       "      <td>Crime,Drama,History</td>\n",
       "      <td>In the late 1960s/early 1970s, a San Francisco...</td>\n",
       "      <td>David Fincher</td>\n",
       "      <td>Jake Gyllenhaal, Robert Downey Jr., Mark Ruffa...</td>\n",
       "      <td>2007</td>\n",
       "      <td>157</td>\n",
       "      <td>7.7</td>\n",
       "      <td>329683</td>\n",
       "      <td>33.05</td>\n",
       "      <td>78.0</td>\n",
       "    </tr>\n",
       "    <tr>\n",
       "      <th>406</th>\n",
       "      <td>407</td>\n",
       "      <td>Zero Dark Thirty</td>\n",
       "      <td>Drama,History,Thriller</td>\n",
       "      <td>A chronicle of the decade-long hunt for al-Qae...</td>\n",
       "      <td>Kathryn Bigelow</td>\n",
       "      <td>Jessica Chastain, Joel Edgerton, Chris Pratt, ...</td>\n",
       "      <td>2012</td>\n",
       "      <td>157</td>\n",
       "      <td>7.4</td>\n",
       "      <td>226661</td>\n",
       "      <td>95.72</td>\n",
       "      <td>95.0</td>\n",
       "    </tr>\n",
       "    <tr>\n",
       "      <th>792</th>\n",
       "      <td>793</td>\n",
       "      <td>Zack and Miri Make a Porno</td>\n",
       "      <td>Comedy,Romance</td>\n",
       "      <td>Lifelong platonic friends Zack and Miri look t...</td>\n",
       "      <td>Kevin Smith</td>\n",
       "      <td>Seth Rogen, Elizabeth Banks, Craig Robinson, G...</td>\n",
       "      <td>2008</td>\n",
       "      <td>101</td>\n",
       "      <td>6.6</td>\n",
       "      <td>154936</td>\n",
       "      <td>31.45</td>\n",
       "      <td>56.0</td>\n",
       "    </tr>\n",
       "    <tr>\n",
       "      <th>503</th>\n",
       "      <td>504</td>\n",
       "      <td>Youth</td>\n",
       "      <td>Comedy,Drama,Music</td>\n",
       "      <td>A retired orchestra conductor is on holiday wi...</td>\n",
       "      <td>Paolo Sorrentino</td>\n",
       "      <td>Michael Caine, Harvey Keitel, Rachel Weisz, Ja...</td>\n",
       "      <td>2015</td>\n",
       "      <td>124</td>\n",
       "      <td>7.3</td>\n",
       "      <td>52636</td>\n",
       "      <td>2.70</td>\n",
       "      <td>64.0</td>\n",
       "    </tr>\n",
       "    <tr>\n",
       "      <th>985</th>\n",
       "      <td>986</td>\n",
       "      <td>Your Highness</td>\n",
       "      <td>Adventure,Comedy,Fantasy</td>\n",
       "      <td>When Prince Fabious's bride is kidnapped, he g...</td>\n",
       "      <td>David Gordon Green</td>\n",
       "      <td>Danny McBride, Natalie Portman, James Franco, ...</td>\n",
       "      <td>2011</td>\n",
       "      <td>102</td>\n",
       "      <td>5.6</td>\n",
       "      <td>87904</td>\n",
       "      <td>21.56</td>\n",
       "      <td>31.0</td>\n",
       "    </tr>\n",
       "    <tr>\n",
       "      <th>837</th>\n",
       "      <td>838</td>\n",
       "      <td>You Don't Mess with the Zohan</td>\n",
       "      <td>Action,Comedy</td>\n",
       "      <td>An Israeli Special Forces Soldier fakes his de...</td>\n",
       "      <td>Dennis Dugan</td>\n",
       "      <td>Adam Sandler, John Turturro, Emmanuelle Chriqu...</td>\n",
       "      <td>2008</td>\n",
       "      <td>113</td>\n",
       "      <td>5.5</td>\n",
       "      <td>163144</td>\n",
       "      <td>100.02</td>\n",
       "      <td>54.0</td>\n",
       "    </tr>\n",
       "    <tr>\n",
       "      <th>205</th>\n",
       "      <td>206</td>\n",
       "      <td>X: First Class</td>\n",
       "      <td>Action,Adventure,Sci-Fi</td>\n",
       "      <td>In 1962, the United States government enlists ...</td>\n",
       "      <td>Matthew Vaughn</td>\n",
       "      <td>James McAvoy, Michael Fassbender, Jennifer Law...</td>\n",
       "      <td>2011</td>\n",
       "      <td>132</td>\n",
       "      <td>7.8</td>\n",
       "      <td>550011</td>\n",
       "      <td>146.41</td>\n",
       "      <td>65.0</td>\n",
       "    </tr>\n",
       "  </tbody>\n",
       "</table>\n",
       "</div>"
      ],
      "text/plain": [
       "     Rank                          Title                       Genre  \\\n",
       "74     75                       Zootopia  Animation,Adventure,Comedy   \n",
       "431   432                    Zoolander 2                      Comedy   \n",
       "363   364                     Zombieland     Adventure,Comedy,Horror   \n",
       "277   278                         Zodiac         Crime,Drama,History   \n",
       "406   407               Zero Dark Thirty      Drama,History,Thriller   \n",
       "792   793     Zack and Miri Make a Porno              Comedy,Romance   \n",
       "503   504                          Youth          Comedy,Drama,Music   \n",
       "985   986                  Your Highness    Adventure,Comedy,Fantasy   \n",
       "837   838  You Don't Mess with the Zohan               Action,Comedy   \n",
       "205   206                 X: First Class     Action,Adventure,Sci-Fi   \n",
       "\n",
       "                                           Description            Director  \\\n",
       "74   In a city of anthropomorphic animals, a rookie...        Byron Howard   \n",
       "431  Derek and Hansel are lured into modeling again...         Ben Stiller   \n",
       "363  A shy student trying to reach his family in Oh...     Ruben Fleischer   \n",
       "277  In the late 1960s/early 1970s, a San Francisco...       David Fincher   \n",
       "406  A chronicle of the decade-long hunt for al-Qae...     Kathryn Bigelow   \n",
       "792  Lifelong platonic friends Zack and Miri look t...         Kevin Smith   \n",
       "503  A retired orchestra conductor is on holiday wi...    Paolo Sorrentino   \n",
       "985  When Prince Fabious's bride is kidnapped, he g...  David Gordon Green   \n",
       "837  An Israeli Special Forces Soldier fakes his de...        Dennis Dugan   \n",
       "205  In 1962, the United States government enlists ...      Matthew Vaughn   \n",
       "\n",
       "                                                Actors  Year  \\\n",
       "74   Ginnifer Goodwin, Jason Bateman, Idris Elba, J...  2016   \n",
       "431  Ben Stiller, Owen Wilson, Penélope Cruz, Will ...  2016   \n",
       "363  Jesse Eisenberg, Emma Stone, Woody Harrelson,A...  2009   \n",
       "277  Jake Gyllenhaal, Robert Downey Jr., Mark Ruffa...  2007   \n",
       "406  Jessica Chastain, Joel Edgerton, Chris Pratt, ...  2012   \n",
       "792  Seth Rogen, Elizabeth Banks, Craig Robinson, G...  2008   \n",
       "503  Michael Caine, Harvey Keitel, Rachel Weisz, Ja...  2015   \n",
       "985  Danny McBride, Natalie Portman, James Franco, ...  2011   \n",
       "837  Adam Sandler, John Turturro, Emmanuelle Chriqu...  2008   \n",
       "205  James McAvoy, Michael Fassbender, Jennifer Law...  2011   \n",
       "\n",
       "     Runtime (Minutes)  Rating   Votes  Revenue (Millions)  Metascore  \n",
       "74                 108     8.1  296853              341.26       78.0  \n",
       "431                102     4.7   48297               28.84       34.0  \n",
       "363                 88     7.7  409403               75.59       73.0  \n",
       "277                157     7.7  329683               33.05       78.0  \n",
       "406                157     7.4  226661               95.72       95.0  \n",
       "792                101     6.6  154936               31.45       56.0  \n",
       "503                124     7.3   52636                2.70       64.0  \n",
       "985                102     5.6   87904               21.56       31.0  \n",
       "837                113     5.5  163144              100.02       54.0  \n",
       "205                132     7.8  550011              146.41       65.0  "
      ]
     },
     "execution_count": 26,
     "metadata": {},
     "output_type": "execute_result"
    }
   ],
   "source": [
    "data.sort_values(\"Runtime (Minutes)\", ascending=False).sort_values(\"Title\", ascending=False).head(10)"
   ]
  },
  {
   "cell_type": "markdown",
   "id": "a68d528e",
   "metadata": {
    "papermill": {
     "duration": 0.026994,
     "end_time": "2024-03-08T17:01:41.663684",
     "exception": false,
     "start_time": "2024-03-08T17:01:41.636690",
     "status": "completed"
    },
    "tags": []
   },
   "source": [
    "<h1>Display Number of Movies Per Year\n"
   ]
  },
  {
   "cell_type": "code",
   "execution_count": 27,
   "id": "3f505931",
   "metadata": {
    "execution": {
     "iopub.execute_input": "2024-03-08T17:01:41.720760Z",
     "iopub.status.busy": "2024-03-08T17:01:41.720335Z",
     "iopub.status.idle": "2024-03-08T17:01:41.729895Z",
     "shell.execute_reply": "2024-03-08T17:01:41.729007Z"
    },
    "papermill": {
     "duration": 0.041197,
     "end_time": "2024-03-08T17:01:41.732229",
     "exception": false,
     "start_time": "2024-03-08T17:01:41.691032",
     "status": "completed"
    },
    "tags": []
   },
   "outputs": [
    {
     "data": {
      "text/plain": [
       "Year\n",
       "2006     41\n",
       "2007     44\n",
       "2008     48\n",
       "2009     45\n",
       "2010     57\n",
       "2011     57\n",
       "2012     62\n",
       "2013     84\n",
       "2014     93\n",
       "2015    109\n",
       "2016    198\n",
       "Name: Title, dtype: int64"
      ]
     },
     "execution_count": 27,
     "metadata": {},
     "output_type": "execute_result"
    }
   ],
   "source": [
    "data.groupby(\"Year\")[\"Title\"].count()"
   ]
  },
  {
   "cell_type": "markdown",
   "id": "44253cd6",
   "metadata": {
    "papermill": {
     "duration": 0.027171,
     "end_time": "2024-03-08T17:01:41.786818",
     "exception": false,
     "start_time": "2024-03-08T17:01:41.759647",
     "status": "completed"
    },
    "tags": []
   },
   "source": [
    "<h1>Find Most Popular Movie Title (Highest Revenue)\n"
   ]
  },
  {
   "cell_type": "code",
   "execution_count": 28,
   "id": "013d6a27",
   "metadata": {
    "execution": {
     "iopub.execute_input": "2024-03-08T17:01:41.844339Z",
     "iopub.status.busy": "2024-03-08T17:01:41.843379Z",
     "iopub.status.idle": "2024-03-08T17:01:41.852959Z",
     "shell.execute_reply": "2024-03-08T17:01:41.851748Z"
    },
    "papermill": {
     "duration": 0.040678,
     "end_time": "2024-03-08T17:01:41.855438",
     "exception": false,
     "start_time": "2024-03-08T17:01:41.814760",
     "status": "completed"
    },
    "tags": []
   },
   "outputs": [
    {
     "data": {
      "text/plain": [
       "50    Star Wars: Episode VII - The Force Awakens\n",
       "Name: Title, dtype: object"
      ]
     },
     "execution_count": 28,
     "metadata": {},
     "output_type": "execute_result"
    }
   ],
   "source": [
    "data.sort_values(\"Revenue (Millions)\", ascending=False)[\"Title\"].head(1)"
   ]
  },
  {
   "cell_type": "markdown",
   "id": "6c9fc03a",
   "metadata": {
    "papermill": {
     "duration": 0.031008,
     "end_time": "2024-03-08T17:01:41.915550",
     "exception": false,
     "start_time": "2024-03-08T17:01:41.884542",
     "status": "completed"
    },
    "tags": []
   },
   "source": [
    "<h1>Display Top 10 Highest Rated Movie Titles And its Directors\n"
   ]
  },
  {
   "cell_type": "code",
   "execution_count": 29,
   "id": "46b9f705",
   "metadata": {
    "execution": {
     "iopub.execute_input": "2024-03-08T17:01:41.975771Z",
     "iopub.status.busy": "2024-03-08T17:01:41.974871Z",
     "iopub.status.idle": "2024-03-08T17:01:41.983638Z",
     "shell.execute_reply": "2024-03-08T17:01:41.981906Z"
    },
    "papermill": {
     "duration": 0.041451,
     "end_time": "2024-03-08T17:01:41.986397",
     "exception": false,
     "start_time": "2024-03-08T17:01:41.944946",
     "status": "completed"
    },
    "tags": []
   },
   "outputs": [
    {
     "data": {
      "text/plain": [
       "Index(['Rank', 'Title', 'Genre', 'Description', 'Director', 'Actors', 'Year',\n",
       "       'Runtime (Minutes)', 'Rating', 'Votes', 'Revenue (Millions)',\n",
       "       'Metascore'],\n",
       "      dtype='object')"
      ]
     },
     "execution_count": 29,
     "metadata": {},
     "output_type": "execute_result"
    }
   ],
   "source": [
    "data.columns"
   ]
  },
  {
   "cell_type": "code",
   "execution_count": 30,
   "id": "6e3c7d10",
   "metadata": {
    "execution": {
     "iopub.execute_input": "2024-03-08T17:01:42.046847Z",
     "iopub.status.busy": "2024-03-08T17:01:42.046414Z",
     "iopub.status.idle": "2024-03-08T17:01:42.066970Z",
     "shell.execute_reply": "2024-03-08T17:01:42.065688Z"
    },
    "papermill": {
     "duration": 0.055599,
     "end_time": "2024-03-08T17:01:42.069846",
     "exception": false,
     "start_time": "2024-03-08T17:01:42.014247",
     "status": "completed"
    },
    "tags": []
   },
   "outputs": [
    {
     "data": {
      "text/html": [
       "<div>\n",
       "<style scoped>\n",
       "    .dataframe tbody tr th:only-of-type {\n",
       "        vertical-align: middle;\n",
       "    }\n",
       "\n",
       "    .dataframe tbody tr th {\n",
       "        vertical-align: top;\n",
       "    }\n",
       "\n",
       "    .dataframe thead th {\n",
       "        text-align: right;\n",
       "    }\n",
       "</style>\n",
       "<table border=\"1\" class=\"dataframe\">\n",
       "  <thead>\n",
       "    <tr style=\"text-align: right;\">\n",
       "      <th></th>\n",
       "      <th>Title</th>\n",
       "      <th>Director</th>\n",
       "    </tr>\n",
       "  </thead>\n",
       "  <tbody>\n",
       "    <tr>\n",
       "      <th>999</th>\n",
       "      <td>Nine Lives</td>\n",
       "      <td>Barry Sonnenfeld</td>\n",
       "    </tr>\n",
       "    <tr>\n",
       "      <th>997</th>\n",
       "      <td>Step Up 2: The Streets</td>\n",
       "      <td>Jon M. Chu</td>\n",
       "    </tr>\n",
       "    <tr>\n",
       "      <th>996</th>\n",
       "      <td>Hostel: Part II</td>\n",
       "      <td>Eli Roth</td>\n",
       "    </tr>\n",
       "    <tr>\n",
       "      <th>994</th>\n",
       "      <td>Project X</td>\n",
       "      <td>Nima Nourizadeh</td>\n",
       "    </tr>\n",
       "    <tr>\n",
       "      <th>993</th>\n",
       "      <td>Resident Evil: Afterlife</td>\n",
       "      <td>Paul W.S. Anderson</td>\n",
       "    </tr>\n",
       "    <tr>\n",
       "      <th>991</th>\n",
       "      <td>Taare Zameen Par</td>\n",
       "      <td>Aamir Khan</td>\n",
       "    </tr>\n",
       "    <tr>\n",
       "      <th>990</th>\n",
       "      <td>Underworld: Rise of the Lycans</td>\n",
       "      <td>Patrick Tatopoulos</td>\n",
       "    </tr>\n",
       "    <tr>\n",
       "      <th>987</th>\n",
       "      <td>Endless Love</td>\n",
       "      <td>Shana Feste</td>\n",
       "    </tr>\n",
       "    <tr>\n",
       "      <th>986</th>\n",
       "      <td>Final Destination 5</td>\n",
       "      <td>Steven Quale</td>\n",
       "    </tr>\n",
       "    <tr>\n",
       "      <th>985</th>\n",
       "      <td>Your Highness</td>\n",
       "      <td>David Gordon Green</td>\n",
       "    </tr>\n",
       "  </tbody>\n",
       "</table>\n",
       "</div>"
      ],
      "text/plain": [
       "                              Title            Director\n",
       "999                      Nine Lives    Barry Sonnenfeld\n",
       "997          Step Up 2: The Streets          Jon M. Chu\n",
       "996                 Hostel: Part II            Eli Roth\n",
       "994                       Project X     Nima Nourizadeh\n",
       "993        Resident Evil: Afterlife  Paul W.S. Anderson\n",
       "991                Taare Zameen Par          Aamir Khan\n",
       "990  Underworld: Rise of the Lycans  Patrick Tatopoulos\n",
       "987                    Endless Love         Shana Feste\n",
       "986             Final Destination 5        Steven Quale\n",
       "985                   Your Highness  David Gordon Green"
      ]
     },
     "execution_count": 30,
     "metadata": {},
     "output_type": "execute_result"
    }
   ],
   "source": [
    "data.sort_values(\"Rank\", ascending=False)[[\"Title\", \"Director\"]].head(10)"
   ]
  },
  {
   "cell_type": "markdown",
   "id": "5d5e083d",
   "metadata": {
    "papermill": {
     "duration": 0.027929,
     "end_time": "2024-03-08T17:01:42.126162",
     "exception": false,
     "start_time": "2024-03-08T17:01:42.098233",
     "status": "completed"
    },
    "tags": []
   },
   "source": [
    "\n",
    "<h1>Display Top 10 Highest Revenue Movie Titles\n"
   ]
  },
  {
   "cell_type": "code",
   "execution_count": 31,
   "id": "d9978c7e",
   "metadata": {
    "execution": {
     "iopub.execute_input": "2024-03-08T17:01:42.187040Z",
     "iopub.status.busy": "2024-03-08T17:01:42.186230Z",
     "iopub.status.idle": "2024-03-08T17:01:42.195765Z",
     "shell.execute_reply": "2024-03-08T17:01:42.194797Z"
    },
    "papermill": {
     "duration": 0.042927,
     "end_time": "2024-03-08T17:01:42.198522",
     "exception": false,
     "start_time": "2024-03-08T17:01:42.155595",
     "status": "completed"
    },
    "tags": []
   },
   "outputs": [
    {
     "data": {
      "text/plain": [
       "50     Star Wars: Episode VII - The Force Awakens\n",
       "87                                         Avatar\n",
       "85                                 Jurassic World\n",
       "76                                   The Avengers\n",
       "54                                The Dark Knight\n",
       "12                                      Rogue One\n",
       "119                                  Finding Dory\n",
       "94                        Avengers: Age of Ultron\n",
       "124                         The Dark Knight Rises\n",
       "578               The Hunger Games: Catching Fire\n",
       "Name: Title, dtype: object"
      ]
     },
     "execution_count": 31,
     "metadata": {},
     "output_type": "execute_result"
    }
   ],
   "source": [
    "data.sort_values(\"Revenue (Millions)\", ascending=False).head(10).Title"
   ]
  },
  {
   "cell_type": "markdown",
   "id": "445be678",
   "metadata": {
    "papermill": {
     "duration": 0.028663,
     "end_time": "2024-03-08T17:01:42.257685",
     "exception": false,
     "start_time": "2024-03-08T17:01:42.229022",
     "status": "completed"
    },
    "tags": []
   },
   "source": [
    "<h1>Find Average Rating of Movies Year Wise\n"
   ]
  },
  {
   "cell_type": "code",
   "execution_count": 32,
   "id": "57f89edb",
   "metadata": {
    "execution": {
     "iopub.execute_input": "2024-03-08T17:01:42.319669Z",
     "iopub.status.busy": "2024-03-08T17:01:42.318956Z",
     "iopub.status.idle": "2024-03-08T17:01:42.328013Z",
     "shell.execute_reply": "2024-03-08T17:01:42.327048Z"
    },
    "papermill": {
     "duration": 0.043635,
     "end_time": "2024-03-08T17:01:42.330383",
     "exception": false,
     "start_time": "2024-03-08T17:01:42.286748",
     "status": "completed"
    },
    "tags": []
   },
   "outputs": [
    {
     "data": {
      "text/plain": [
       "Year\n",
       "2006    7.143902\n",
       "2007    7.140909\n",
       "2008    6.708333\n",
       "2009    6.911111\n",
       "2010    6.894737\n",
       "2011    6.945614\n",
       "2012    6.933871\n",
       "2013    6.832143\n",
       "2014    6.822581\n",
       "2015    6.674312\n",
       "2016    6.644444\n",
       "Name: Rating, dtype: float64"
      ]
     },
     "execution_count": 32,
     "metadata": {},
     "output_type": "execute_result"
    }
   ],
   "source": [
    "data.groupby(\"Year\")[\"Rating\"].mean()"
   ]
  },
  {
   "cell_type": "markdown",
   "id": "d0b826ee",
   "metadata": {
    "papermill": {
     "duration": 0.02951,
     "end_time": "2024-03-08T17:01:42.389149",
     "exception": false,
     "start_time": "2024-03-08T17:01:42.359639",
     "status": "completed"
    },
    "tags": []
   },
   "source": [
    "<h1>Does Rating Affect The Revenue?\n"
   ]
  },
  {
   "cell_type": "code",
   "execution_count": 33,
   "id": "b0547251",
   "metadata": {
    "execution": {
     "iopub.execute_input": "2024-03-08T17:01:42.451125Z",
     "iopub.status.busy": "2024-03-08T17:01:42.450476Z",
     "iopub.status.idle": "2024-03-08T17:01:42.457000Z",
     "shell.execute_reply": "2024-03-08T17:01:42.456214Z"
    },
    "papermill": {
     "duration": 0.040525,
     "end_time": "2024-03-08T17:01:42.459050",
     "exception": false,
     "start_time": "2024-03-08T17:01:42.418525",
     "status": "completed"
    },
    "tags": []
   },
   "outputs": [
    {
     "data": {
      "text/plain": [
       "Index(['Rank', 'Title', 'Genre', 'Description', 'Director', 'Actors', 'Year',\n",
       "       'Runtime (Minutes)', 'Rating', 'Votes', 'Revenue (Millions)',\n",
       "       'Metascore'],\n",
       "      dtype='object')"
      ]
     },
     "execution_count": 33,
     "metadata": {},
     "output_type": "execute_result"
    }
   ],
   "source": [
    "data.columns"
   ]
  },
  {
   "cell_type": "code",
   "execution_count": 34,
   "id": "ab3c7c60",
   "metadata": {
    "execution": {
     "iopub.execute_input": "2024-03-08T17:01:42.519412Z",
     "iopub.status.busy": "2024-03-08T17:01:42.518956Z",
     "iopub.status.idle": "2024-03-08T17:01:42.843299Z",
     "shell.execute_reply": "2024-03-08T17:01:42.842179Z"
    },
    "papermill": {
     "duration": 0.358671,
     "end_time": "2024-03-08T17:01:42.846187",
     "exception": false,
     "start_time": "2024-03-08T17:01:42.487516",
     "status": "completed"
    },
    "tags": []
   },
   "outputs": [
    {
     "data": {
      "text/plain": [
       "<Axes: xlabel='Rating', ylabel='Revenue (Millions)'>"
      ]
     },
     "execution_count": 34,
     "metadata": {},
     "output_type": "execute_result"
    },
    {
     "data": {
      "image/png": "[encoded data removed]",
      "text/plain": [
       "<Figure size 640x480 with 1 Axes>"
      ]
     },
     "metadata": {},
     "output_type": "display_data"
    }
   ],
   "source": [
    "sns.scatterplot(data=data, x=\"Rating\", y=\"Revenue (Millions)\")"
   ]
  },
  {
   "cell_type": "markdown",
   "id": "1ac190ec",
   "metadata": {
    "execution": {
     "iopub.execute_input": "2024-03-08T16:23:53.185924Z",
     "iopub.status.busy": "2024-03-08T16:23:53.185584Z",
     "iopub.status.idle": "2024-03-08T16:23:53.192900Z",
     "shell.execute_reply": "2024-03-08T16:23:53.191515Z",
     "shell.execute_reply.started": "2024-03-08T16:23:53.185895Z"
    },
    "papermill": {
     "duration": 0.029352,
     "end_time": "2024-03-08T17:01:42.905107",
     "exception": false,
     "start_time": "2024-03-08T17:01:42.875755",
     "status": "completed"
    },
    "tags": []
   },
   "source": [
    "<h1>Classify Movies Based on Ratings [Excellent, Good, and Average]\n"
   ]
  },
  {
   "cell_type": "code",
   "execution_count": 35,
   "id": "9908e780",
   "metadata": {
    "execution": {
     "iopub.execute_input": "2024-03-08T17:01:42.965831Z",
     "iopub.status.busy": "2024-03-08T17:01:42.965458Z",
     "iopub.status.idle": "2024-03-08T17:01:42.970651Z",
     "shell.execute_reply": "2024-03-08T17:01:42.969724Z"
    },
    "papermill": {
     "duration": 0.037894,
     "end_time": "2024-03-08T17:01:42.972763",
     "exception": false,
     "start_time": "2024-03-08T17:01:42.934869",
     "status": "completed"
    },
    "tags": []
   },
   "outputs": [],
   "source": [
    "def rating(x: float) -> str:\n",
    "    if x > 7: return \"Excellent\"\n",
    "    elif x >= 5: return \"Good\"\n",
    "    else: return \"Average\""
   ]
  },
  {
   "cell_type": "code",
   "execution_count": 36,
   "id": "e8cd4fb8",
   "metadata": {
    "execution": {
     "iopub.execute_input": "2024-03-08T17:01:43.037659Z",
     "iopub.status.busy": "2024-03-08T17:01:43.036924Z",
     "iopub.status.idle": "2024-03-08T17:01:43.043303Z",
     "shell.execute_reply": "2024-03-08T17:01:43.042442Z"
    },
    "papermill": {
     "duration": 0.042173,
     "end_time": "2024-03-08T17:01:43.045696",
     "exception": false,
     "start_time": "2024-03-08T17:01:43.003523",
     "status": "completed"
    },
    "tags": []
   },
   "outputs": [],
   "source": [
    "data[\"classify_movie\"] = data[\"Rating\"].apply(rating)"
   ]
  },
  {
   "cell_type": "code",
   "execution_count": 37,
   "id": "4a5fca09",
   "metadata": {
    "execution": {
     "iopub.execute_input": "2024-03-08T17:01:43.108968Z",
     "iopub.status.busy": "2024-03-08T17:01:43.108156Z",
     "iopub.status.idle": "2024-03-08T17:01:43.128465Z",
     "shell.execute_reply": "2024-03-08T17:01:43.127332Z"
    },
    "papermill": {
     "duration": 0.054153,
     "end_time": "2024-03-08T17:01:43.131037",
     "exception": false,
     "start_time": "2024-03-08T17:01:43.076884",
     "status": "completed"
    },
    "tags": []
   },
   "outputs": [
    {
     "data": {
      "text/html": [
       "<div>\n",
       "<style scoped>\n",
       "    .dataframe tbody tr th:only-of-type {\n",
       "        vertical-align: middle;\n",
       "    }\n",
       "\n",
       "    .dataframe tbody tr th {\n",
       "        vertical-align: top;\n",
       "    }\n",
       "\n",
       "    .dataframe thead th {\n",
       "        text-align: right;\n",
       "    }\n",
       "</style>\n",
       "<table border=\"1\" class=\"dataframe\">\n",
       "  <thead>\n",
       "    <tr style=\"text-align: right;\">\n",
       "      <th></th>\n",
       "      <th>Rank</th>\n",
       "      <th>Title</th>\n",
       "      <th>Genre</th>\n",
       "      <th>Description</th>\n",
       "      <th>Director</th>\n",
       "      <th>Actors</th>\n",
       "      <th>Year</th>\n",
       "      <th>Runtime (Minutes)</th>\n",
       "      <th>Rating</th>\n",
       "      <th>Votes</th>\n",
       "      <th>Revenue (Millions)</th>\n",
       "      <th>Metascore</th>\n",
       "      <th>classify_movie</th>\n",
       "    </tr>\n",
       "  </thead>\n",
       "  <tbody>\n",
       "    <tr>\n",
       "      <th>0</th>\n",
       "      <td>1</td>\n",
       "      <td>Guardians of the Galaxy</td>\n",
       "      <td>Action,Adventure,Sci-Fi</td>\n",
       "      <td>A group of intergalactic criminals are forced ...</td>\n",
       "      <td>James Gunn</td>\n",
       "      <td>Chris Pratt, Vin Diesel, Bradley Cooper, Zoe S...</td>\n",
       "      <td>2014</td>\n",
       "      <td>121</td>\n",
       "      <td>8.1</td>\n",
       "      <td>757074</td>\n",
       "      <td>333.13</td>\n",
       "      <td>76.0</td>\n",
       "      <td>Excellent</td>\n",
       "    </tr>\n",
       "    <tr>\n",
       "      <th>1</th>\n",
       "      <td>2</td>\n",
       "      <td>Prometheus</td>\n",
       "      <td>Adventure,Mystery,Sci-Fi</td>\n",
       "      <td>Following clues to the origin of mankind, a te...</td>\n",
       "      <td>Ridley Scott</td>\n",
       "      <td>Noomi Rapace, Logan Marshall-Green, Michael Fa...</td>\n",
       "      <td>2012</td>\n",
       "      <td>124</td>\n",
       "      <td>7.0</td>\n",
       "      <td>485820</td>\n",
       "      <td>126.46</td>\n",
       "      <td>65.0</td>\n",
       "      <td>Good</td>\n",
       "    </tr>\n",
       "    <tr>\n",
       "      <th>2</th>\n",
       "      <td>3</td>\n",
       "      <td>Split</td>\n",
       "      <td>Horror,Thriller</td>\n",
       "      <td>Three girls are kidnapped by a man with a diag...</td>\n",
       "      <td>M. Night Shyamalan</td>\n",
       "      <td>James McAvoy, Anya Taylor-Joy, Haley Lu Richar...</td>\n",
       "      <td>2016</td>\n",
       "      <td>117</td>\n",
       "      <td>7.3</td>\n",
       "      <td>157606</td>\n",
       "      <td>138.12</td>\n",
       "      <td>62.0</td>\n",
       "      <td>Excellent</td>\n",
       "    </tr>\n",
       "    <tr>\n",
       "      <th>3</th>\n",
       "      <td>4</td>\n",
       "      <td>Sing</td>\n",
       "      <td>Animation,Comedy,Family</td>\n",
       "      <td>In a city of humanoid animals, a hustling thea...</td>\n",
       "      <td>Christophe Lourdelet</td>\n",
       "      <td>Matthew McConaughey,Reese Witherspoon, Seth Ma...</td>\n",
       "      <td>2016</td>\n",
       "      <td>108</td>\n",
       "      <td>7.2</td>\n",
       "      <td>60545</td>\n",
       "      <td>270.32</td>\n",
       "      <td>59.0</td>\n",
       "      <td>Excellent</td>\n",
       "    </tr>\n",
       "    <tr>\n",
       "      <th>4</th>\n",
       "      <td>5</td>\n",
       "      <td>Suicide Squad</td>\n",
       "      <td>Action,Adventure,Fantasy</td>\n",
       "      <td>A secret government agency recruits some of th...</td>\n",
       "      <td>David Ayer</td>\n",
       "      <td>Will Smith, Jared Leto, Margot Robbie, Viola D...</td>\n",
       "      <td>2016</td>\n",
       "      <td>123</td>\n",
       "      <td>6.2</td>\n",
       "      <td>393727</td>\n",
       "      <td>325.02</td>\n",
       "      <td>40.0</td>\n",
       "      <td>Good</td>\n",
       "    </tr>\n",
       "  </tbody>\n",
       "</table>\n",
       "</div>"
      ],
      "text/plain": [
       "   Rank                    Title                     Genre  \\\n",
       "0     1  Guardians of the Galaxy   Action,Adventure,Sci-Fi   \n",
       "1     2               Prometheus  Adventure,Mystery,Sci-Fi   \n",
       "2     3                    Split           Horror,Thriller   \n",
       "3     4                     Sing   Animation,Comedy,Family   \n",
       "4     5            Suicide Squad  Action,Adventure,Fantasy   \n",
       "\n",
       "                                         Description              Director  \\\n",
       "0  A group of intergalactic criminals are forced ...            James Gunn   \n",
       "1  Following clues to the origin of mankind, a te...          Ridley Scott   \n",
       "2  Three girls are kidnapped by a man with a diag...    M. Night Shyamalan   \n",
       "3  In a city of humanoid animals, a hustling thea...  Christophe Lourdelet   \n",
       "4  A secret government agency recruits some of th...            David Ayer   \n",
       "\n",
       "                                              Actors  Year  Runtime (Minutes)  \\\n",
       "0  Chris Pratt, Vin Diesel, Bradley Cooper, Zoe S...  2014                121   \n",
       "1  Noomi Rapace, Logan Marshall-Green, Michael Fa...  2012                124   \n",
       "2  James McAvoy, Anya Taylor-Joy, Haley Lu Richar...  2016                117   \n",
       "3  Matthew McConaughey,Reese Witherspoon, Seth Ma...  2016                108   \n",
       "4  Will Smith, Jared Leto, Margot Robbie, Viola D...  2016                123   \n",
       "\n",
       "   Rating   Votes  Revenue (Millions)  Metascore classify_movie  \n",
       "0     8.1  757074              333.13       76.0      Excellent  \n",
       "1     7.0  485820              126.46       65.0           Good  \n",
       "2     7.3  157606              138.12       62.0      Excellent  \n",
       "3     7.2   60545              270.32       59.0      Excellent  \n",
       "4     6.2  393727              325.02       40.0           Good  "
      ]
     },
     "execution_count": 37,
     "metadata": {},
     "output_type": "execute_result"
    }
   ],
   "source": [
    "data.head()"
   ]
  },
  {
   "cell_type": "code",
   "execution_count": 38,
   "id": "e5a65e8e",
   "metadata": {
    "execution": {
     "iopub.execute_input": "2024-03-08T17:01:43.193257Z",
     "iopub.status.busy": "2024-03-08T17:01:43.192826Z",
     "iopub.status.idle": "2024-03-08T17:01:44.354559Z",
     "shell.execute_reply": "2024-03-08T17:01:44.352967Z"
    },
    "papermill": {
     "duration": 1.196924,
     "end_time": "2024-03-08T17:01:44.358008",
     "exception": false,
     "start_time": "2024-03-08T17:01:43.161084",
     "status": "completed"
    },
    "tags": []
   },
   "outputs": [
    {
     "data": {
      "image/png": "[encoded data removed]",
      "text/plain": [
       "<Figure size 2000x500 with 1 Axes>"
      ]
     },
     "metadata": {},
     "output_type": "display_data"
    }
   ],
   "source": [
    "plt.figure(figsize=(20, 5))\n",
    "sns.countplot(data=data, x=\"Rating\", hue=\"classify_movie\");"
   ]
  },
  {
   "cell_type": "markdown",
   "id": "1b37a0c8",
   "metadata": {
    "papermill": {
     "duration": 0.034698,
     "end_time": "2024-03-08T17:01:44.424410",
     "exception": false,
     "start_time": "2024-03-08T17:01:44.389712",
     "status": "completed"
    },
    "tags": []
   },
   "source": [
    "<h1>Count Number of Action Movies"
   ]
  },
  {
   "cell_type": "code",
   "execution_count": 39,
   "id": "eee6bb0d",
   "metadata": {
    "execution": {
     "iopub.execute_input": "2024-03-08T17:01:44.490678Z",
     "iopub.status.busy": "2024-03-08T17:01:44.489900Z",
     "iopub.status.idle": "2024-03-08T17:01:44.497065Z",
     "shell.execute_reply": "2024-03-08T17:01:44.495924Z"
    },
    "papermill": {
     "duration": 0.041789,
     "end_time": "2024-03-08T17:01:44.499275",
     "exception": false,
     "start_time": "2024-03-08T17:01:44.457486",
     "status": "completed"
    },
    "tags": []
   },
   "outputs": [
    {
     "data": {
      "text/plain": [
       "Index(['Rank', 'Title', 'Genre', 'Description', 'Director', 'Actors', 'Year',\n",
       "       'Runtime (Minutes)', 'Rating', 'Votes', 'Revenue (Millions)',\n",
       "       'Metascore', 'classify_movie'],\n",
       "      dtype='object')"
      ]
     },
     "execution_count": 39,
     "metadata": {},
     "output_type": "execute_result"
    }
   ],
   "source": [
    "data.columns"
   ]
  },
  {
   "cell_type": "code",
   "execution_count": 40,
   "id": "d225b631",
   "metadata": {
    "execution": {
     "iopub.execute_input": "2024-03-08T17:01:44.561923Z",
     "iopub.status.busy": "2024-03-08T17:01:44.561154Z",
     "iopub.status.idle": "2024-03-08T17:01:44.571153Z",
     "shell.execute_reply": "2024-03-08T17:01:44.569800Z"
    },
    "papermill": {
     "duration": 0.044046,
     "end_time": "2024-03-08T17:01:44.573681",
     "exception": false,
     "start_time": "2024-03-08T17:01:44.529635",
     "status": "completed"
    },
    "tags": []
   },
   "outputs": [
    {
     "data": {
      "text/plain": [
       "277"
      ]
     },
     "execution_count": 40,
     "metadata": {},
     "output_type": "execute_result"
    }
   ],
   "source": [
    "data[data.Genre.str.contains(\"action\", case=False)].shape[0]"
   ]
  },
  {
   "cell_type": "markdown",
   "id": "0e0ca7f1",
   "metadata": {
    "papermill": {
     "duration": 0.030426,
     "end_time": "2024-03-08T17:01:44.635008",
     "exception": false,
     "start_time": "2024-03-08T17:01:44.604582",
     "status": "completed"
    },
    "tags": []
   },
   "source": [
    "\n",
    "<h1>Find Unique Values From Genre \n"
   ]
  },
  {
   "cell_type": "code",
   "execution_count": 41,
   "id": "86601ebb",
   "metadata": {
    "execution": {
     "iopub.execute_input": "2024-03-08T17:01:44.698090Z",
     "iopub.status.busy": "2024-03-08T17:01:44.697290Z",
     "iopub.status.idle": "2024-03-08T17:01:44.706549Z",
     "shell.execute_reply": "2024-03-08T17:01:44.705412Z"
    },
    "papermill": {
     "duration": 0.043483,
     "end_time": "2024-03-08T17:01:44.709015",
     "exception": false,
     "start_time": "2024-03-08T17:01:44.665532",
     "status": "completed"
    },
    "tags": []
   },
   "outputs": [
    {
     "data": {
      "text/plain": [
       "array(['Action,Adventure,Sci-Fi', 'Adventure,Mystery,Sci-Fi',\n",
       "       'Horror,Thriller', 'Animation,Comedy,Family',\n",
       "       'Action,Adventure,Fantasy', 'Comedy,Drama,Music',\n",
       "       'Action,Adventure,Biography', 'Adventure,Drama,Romance',\n",
       "       'Adventure,Family,Fantasy', 'Biography,Drama,History',\n",
       "       'Animation,Adventure,Comedy', 'Action,Comedy,Drama',\n",
       "       'Action,Thriller', 'Biography,Drama', 'Drama,Mystery,Sci-Fi',\n",
       "       'Adventure,Drama,Thriller', 'Drama', 'Comedy',\n",
       "       'Action,Adventure,Drama', 'Drama,Thriller',\n",
       "       'Action,Adventure,Comedy', 'Action,Horror,Sci-Fi',\n",
       "       'Adventure,Drama,Sci-Fi', 'Action,Adventure,Western',\n",
       "       'Comedy,Drama', 'Action,Crime,Thriller', 'Action,Crime,Drama',\n",
       "       'Adventure,Drama,History', 'Crime,Horror,Thriller',\n",
       "       'Drama,Romance', 'Comedy,Drama,Romance', 'Crime,Drama,Mystery',\n",
       "       'Drama,Romance,Thriller', 'Drama,History,Thriller',\n",
       "       'Action,Drama,Thriller', 'Action,Drama,Romance', 'Drama,Fantasy',\n",
       "       'Action,Sci-Fi', 'Adventure,Drama,War', 'Action,Comedy,Fantasy',\n",
       "       'Biography,Comedy,Crime', 'Crime,Drama', 'Comedy,Crime,Drama',\n",
       "       'Action,Comedy,Crime', 'Animation,Drama,Fantasy',\n",
       "       'Horror,Mystery,Sci-Fi', 'Drama,Mystery,Thriller',\n",
       "       'Crime,Drama,Thriller', 'Biography,Crime,Drama',\n",
       "       'Action,Horror,Thriller', 'Action,Fantasy,War',\n",
       "       'Adventure,Drama,Fantasy', 'Drama,Horror,Mystery',\n",
       "       'Adventure,Drama,Family', 'Adventure,Comedy,Romance',\n",
       "       'Adventure,Crime,Mystery', 'Comedy,Family,Musical',\n",
       "       'Adventure,Comedy,Drama', 'Drama,Horror,Thriller', 'Drama,Music',\n",
       "       'Mystery,Thriller', 'Comedy,Family', 'Biography,Comedy,Drama',\n",
       "       'Drama,Western', 'Drama,Mystery,Romance', 'Action,Drama,Mystery',\n",
       "       'Action,Adventure,Crime', 'Adventure,Sci-Fi,Thriller',\n",
       "       'Action,Comedy,Mystery', 'Action,Adventure,Thriller',\n",
       "       'Drama,Fantasy,Romance', 'Action,Drama,History',\n",
       "       'Animation,Adventure,Family', 'Drama,Romance,Sci-Fi',\n",
       "       'Action,Adventure,Family', 'Action,Comedy',\n",
       "       'Horror,Mystery,Thriller', 'Comedy,Romance', 'Horror,Mystery',\n",
       "       'Drama,Family,Fantasy', 'Drama,War', 'Drama,Fantasy,Horror',\n",
       "       'Crime,Drama,History', 'Horror,Sci-Fi,Thriller',\n",
       "       'Action,Drama,Sport', 'Adventure,Biography,Drama',\n",
       "       'Biography,Drama,Thriller', 'Action,Adventure,Mystery',\n",
       "       'Drama,Horror', 'Comedy,Crime', 'Drama,Fantasy,War',\n",
       "       'Action,Adventure,Romance', 'Action,Drama,War',\n",
       "       'Drama,Musical,Romance', 'Drama,Sci-Fi,Thriller',\n",
       "       'Action,Drama,Sci-Fi', 'Horror', 'Drama,Sci-Fi',\n",
       "       'Adventure,Fantasy', 'Crime,Mystery,Thriller',\n",
       "       'Biography,Drama,Romance', 'Action,Adventure', 'Action,Fantasy',\n",
       "       'Action,Drama,Horror', 'Comedy,Music,Romance', 'Drama,History',\n",
       "       'Action,Biography,Drama', 'Biography,Drama,Sport',\n",
       "       'Comedy,Horror,Thriller', 'Crime,Drama,Music',\n",
       "       'Action,Sci-Fi,Thriller', 'Drama,Horror,Sci-Fi', 'Comedy,Horror',\n",
       "       'Comedy,Fantasy,Romance', 'Comedy,Fantasy', 'Comedy,Drama,Fantasy',\n",
       "       'Adventure,Comedy,Horror', 'Comedy,Mystery',\n",
       "       'Action,Mystery,Sci-Fi', 'Action,Crime,Fantasy', 'Drama,Sport',\n",
       "       'Comedy,Fantasy,Horror', 'Animation,Action,Adventure',\n",
       "       'Action,Comedy,Family', 'Adventure,Comedy', 'Comedy,Music',\n",
       "       'Comedy,Drama,Horror', 'Action,Horror,Romance',\n",
       "       'Action,Drama,Fantasy', 'Action,Mystery,Thriller',\n",
       "       'Action,Adventure,Horror', 'Animation,Family,Fantasy',\n",
       "       'Action,Horror,Mystery', 'Adventure,Comedy,Family',\n",
       "       'Action,Crime,Mystery', 'Comedy,Drama,Family',\n",
       "       'Action,Crime,Sport', 'Mystery,Sci-Fi,Thriller', 'Sci-Fi,Thriller',\n",
       "       'Adventure,Drama,Horror', 'Biography,History,Thriller',\n",
       "       'Adventure,Horror', 'Adventure,Comedy,Sci-Fi', 'Fantasy,Horror',\n",
       "       'Action', 'Action,Fantasy,Thriller', 'Comedy,Romance,Sport',\n",
       "       'Animation,Action,Comedy', 'Drama,Fantasy,Thriller', 'Sci-Fi',\n",
       "       'Action,Comedy,Romance', 'Action,Fantasy,Horror',\n",
       "       'Mystery,Romance,Sci-Fi', 'Comedy,Drama,Thriller',\n",
       "       'Drama,History,War', 'Drama,Horror,Musical', 'Animation,Fantasy',\n",
       "       'Drama,Mystery,War', 'Action,Drama,Family', 'Thriller',\n",
       "       'Adventure,Drama,Western', 'Drama,Music,Romance',\n",
       "       'Comedy,Romance,Western', 'Drama,Thriller,War',\n",
       "       'Drama,Fantasy,Mystery', 'Comedy,Crime,Thriller',\n",
       "       'Animation,Comedy,Drama', 'Action,Comedy,Sci-Fi',\n",
       "       'Adventure,Fantasy,Mystery', 'Mystery,Romance,Thriller',\n",
       "       'Biography,Drama,Mystery', 'Comedy,Horror,Romance',\n",
       "       'Action,Thriller,War', 'Action,Crime,Sci-Fi', 'Crime,Thriller',\n",
       "       'Comedy,Horror,Sci-Fi', 'Crime,Drama,Fantasy',\n",
       "       'Action,Comedy,Horror', 'Drama,Fantasy,Music',\n",
       "       'Action,Comedy,Sport', 'Adventure', 'Comedy,Drama,Musical',\n",
       "       'Comedy,Family,Romance', 'Biography,Drama,Family',\n",
       "       'Drama,Fantasy,Musical', 'Adventure,Family',\n",
       "       'Adventure,Comedy,Fantasy', 'Drama,Family,Music',\n",
       "       'Comedy,Family,Fantasy'], dtype=object)"
      ]
     },
     "execution_count": 41,
     "metadata": {},
     "output_type": "execute_result"
    }
   ],
   "source": [
    "data.Genre.unique()"
   ]
  },
  {
   "cell_type": "code",
   "execution_count": 42,
   "id": "c977ca48",
   "metadata": {
    "execution": {
     "iopub.execute_input": "2024-03-08T17:01:44.772850Z",
     "iopub.status.busy": "2024-03-08T17:01:44.772085Z",
     "iopub.status.idle": "2024-03-08T17:01:44.782695Z",
     "shell.execute_reply": "2024-03-08T17:01:44.781699Z"
    },
    "papermill": {
     "duration": 0.045142,
     "end_time": "2024-03-08T17:01:44.785007",
     "exception": false,
     "start_time": "2024-03-08T17:01:44.739865",
     "status": "completed"
    },
    "tags": []
   },
   "outputs": [
    {
     "data": {
      "text/plain": [
       "20"
      ]
     },
     "execution_count": 42,
     "metadata": {},
     "output_type": "execute_result"
    }
   ],
   "source": [
    "unique = []\n",
    "for i in data[\"Genre\"]:\n",
    "    unique.append(i.split(\",\"))\n",
    "#pprint.pprint(unique)\n",
    "unique_pro = []\n",
    "for i in unique:\n",
    "    for j in i:\n",
    "        if j not in unique_pro:\n",
    "            unique_pro.append(j)\n",
    "len(unique_pro) "
   ]
  },
  {
   "cell_type": "code",
   "execution_count": null,
   "id": "fb77a8fd",
   "metadata": {
    "execution": {
     "iopub.execute_input": "2024-03-08T16:54:04.155116Z",
     "iopub.status.busy": "2024-03-08T16:54:04.154748Z",
     "iopub.status.idle": "2024-03-08T16:54:04.163975Z",
     "shell.execute_reply": "2024-03-08T16:54:04.162869Z",
     "shell.execute_reply.started": "2024-03-08T16:54:04.155087Z"
    },
    "papermill": {
     "duration": 0.030712,
     "end_time": "2024-03-08T17:01:44.847771",
     "exception": false,
     "start_time": "2024-03-08T17:01:44.817059",
     "status": "completed"
    },
    "tags": []
   },
   "outputs": [],
   "source": []
  },
  {
   "cell_type": "markdown",
   "id": "16e16ab1",
   "metadata": {
    "papermill": {
     "duration": 0.031291,
     "end_time": "2024-03-08T17:01:44.910129",
     "exception": false,
     "start_time": "2024-03-08T17:01:44.878838",
     "status": "completed"
    },
    "tags": []
   },
   "source": [
    "<h1>How Many Films of Each Genre Were Made?"
   ]
  },
  {
   "cell_type": "code",
   "execution_count": 43,
   "id": "7c984c01",
   "metadata": {
    "execution": {
     "iopub.execute_input": "2024-03-08T17:01:44.977129Z",
     "iopub.status.busy": "2024-03-08T17:01:44.975886Z",
     "iopub.status.idle": "2024-03-08T17:01:44.984357Z",
     "shell.execute_reply": "2024-03-08T17:01:44.983316Z"
    },
    "papermill": {
     "duration": 0.043735,
     "end_time": "2024-03-08T17:01:44.986875",
     "exception": false,
     "start_time": "2024-03-08T17:01:44.943140",
     "status": "completed"
    },
    "tags": []
   },
   "outputs": [
    {
     "data": {
      "text/plain": [
       "2190"
      ]
     },
     "execution_count": 43,
     "metadata": {},
     "output_type": "execute_result"
    }
   ],
   "source": [
    "list_ = []\n",
    "for i in unique:\n",
    "    for j in i:\n",
    "        list_.append(j)\n",
    "len(list_)"
   ]
  },
  {
   "cell_type": "code",
   "execution_count": 44,
   "id": "be53adb5",
   "metadata": {
    "execution": {
     "iopub.execute_input": "2024-03-08T17:01:45.054215Z",
     "iopub.status.busy": "2024-03-08T17:01:45.053259Z",
     "iopub.status.idle": "2024-03-08T17:01:45.058831Z",
     "shell.execute_reply": "2024-03-08T17:01:45.057760Z"
    },
    "papermill": {
     "duration": 0.042717,
     "end_time": "2024-03-08T17:01:45.061377",
     "exception": false,
     "start_time": "2024-03-08T17:01:45.018660",
     "status": "completed"
    },
    "tags": []
   },
   "outputs": [],
   "source": [
    "from collections import Counter"
   ]
  },
  {
   "cell_type": "code",
   "execution_count": 45,
   "id": "2a84b28d",
   "metadata": {
    "execution": {
     "iopub.execute_input": "2024-03-08T17:01:45.127856Z",
     "iopub.status.busy": "2024-03-08T17:01:45.127407Z",
     "iopub.status.idle": "2024-03-08T17:01:45.141442Z",
     "shell.execute_reply": "2024-03-08T17:01:45.140160Z"
    },
    "papermill": {
     "duration": 0.04952,
     "end_time": "2024-03-08T17:01:45.143956",
     "exception": false,
     "start_time": "2024-03-08T17:01:45.094436",
     "status": "completed"
    },
    "tags": []
   },
   "outputs": [
    {
     "data": {
      "text/html": [
       "<div>\n",
       "<style scoped>\n",
       "    .dataframe tbody tr th:only-of-type {\n",
       "        vertical-align: middle;\n",
       "    }\n",
       "\n",
       "    .dataframe tbody tr th {\n",
       "        vertical-align: top;\n",
       "    }\n",
       "\n",
       "    .dataframe thead th {\n",
       "        text-align: right;\n",
       "    }\n",
       "</style>\n",
       "<table border=\"1\" class=\"dataframe\">\n",
       "  <thead>\n",
       "    <tr style=\"text-align: right;\">\n",
       "      <th></th>\n",
       "      <th>Genre</th>\n",
       "      <th>Nomber of Films</th>\n",
       "    </tr>\n",
       "  </thead>\n",
       "  <tbody>\n",
       "    <tr>\n",
       "      <th>0</th>\n",
       "      <td>Action</td>\n",
       "      <td>277</td>\n",
       "    </tr>\n",
       "    <tr>\n",
       "      <th>1</th>\n",
       "      <td>Adventure</td>\n",
       "      <td>244</td>\n",
       "    </tr>\n",
       "    <tr>\n",
       "      <th>2</th>\n",
       "      <td>Sci-Fi</td>\n",
       "      <td>107</td>\n",
       "    </tr>\n",
       "    <tr>\n",
       "      <th>3</th>\n",
       "      <td>Mystery</td>\n",
       "      <td>86</td>\n",
       "    </tr>\n",
       "    <tr>\n",
       "      <th>4</th>\n",
       "      <td>Horror</td>\n",
       "      <td>87</td>\n",
       "    </tr>\n",
       "    <tr>\n",
       "      <th>5</th>\n",
       "      <td>Thriller</td>\n",
       "      <td>148</td>\n",
       "    </tr>\n",
       "    <tr>\n",
       "      <th>6</th>\n",
       "      <td>Animation</td>\n",
       "      <td>45</td>\n",
       "    </tr>\n",
       "    <tr>\n",
       "      <th>7</th>\n",
       "      <td>Comedy</td>\n",
       "      <td>250</td>\n",
       "    </tr>\n",
       "    <tr>\n",
       "      <th>8</th>\n",
       "      <td>Family</td>\n",
       "      <td>48</td>\n",
       "    </tr>\n",
       "    <tr>\n",
       "      <th>9</th>\n",
       "      <td>Fantasy</td>\n",
       "      <td>92</td>\n",
       "    </tr>\n",
       "    <tr>\n",
       "      <th>10</th>\n",
       "      <td>Drama</td>\n",
       "      <td>419</td>\n",
       "    </tr>\n",
       "    <tr>\n",
       "      <th>11</th>\n",
       "      <td>Music</td>\n",
       "      <td>15</td>\n",
       "    </tr>\n",
       "    <tr>\n",
       "      <th>12</th>\n",
       "      <td>Biography</td>\n",
       "      <td>67</td>\n",
       "    </tr>\n",
       "    <tr>\n",
       "      <th>13</th>\n",
       "      <td>Romance</td>\n",
       "      <td>120</td>\n",
       "    </tr>\n",
       "    <tr>\n",
       "      <th>14</th>\n",
       "      <td>History</td>\n",
       "      <td>25</td>\n",
       "    </tr>\n",
       "    <tr>\n",
       "      <th>15</th>\n",
       "      <td>Western</td>\n",
       "      <td>4</td>\n",
       "    </tr>\n",
       "    <tr>\n",
       "      <th>16</th>\n",
       "      <td>Crime</td>\n",
       "      <td>126</td>\n",
       "    </tr>\n",
       "    <tr>\n",
       "      <th>17</th>\n",
       "      <td>War</td>\n",
       "      <td>10</td>\n",
       "    </tr>\n",
       "    <tr>\n",
       "      <th>18</th>\n",
       "      <td>Musical</td>\n",
       "      <td>5</td>\n",
       "    </tr>\n",
       "    <tr>\n",
       "      <th>19</th>\n",
       "      <td>Sport</td>\n",
       "      <td>15</td>\n",
       "    </tr>\n",
       "  </tbody>\n",
       "</table>\n",
       "</div>"
      ],
      "text/plain": [
       "        Genre  Nomber of Films\n",
       "0      Action              277\n",
       "1   Adventure              244\n",
       "2      Sci-Fi              107\n",
       "3     Mystery               86\n",
       "4      Horror               87\n",
       "5    Thriller              148\n",
       "6   Animation               45\n",
       "7      Comedy              250\n",
       "8      Family               48\n",
       "9     Fantasy               92\n",
       "10      Drama              419\n",
       "11      Music               15\n",
       "12  Biography               67\n",
       "13    Romance              120\n",
       "14    History               25\n",
       "15    Western                4\n",
       "16      Crime              126\n",
       "17        War               10\n",
       "18    Musical                5\n",
       "19      Sport               15"
      ]
     },
     "execution_count": 45,
     "metadata": {},
     "output_type": "execute_result"
    }
   ],
   "source": [
    "data_film = pd.DataFrame(Counter(list_).items(), columns=[\"Genre\", \"Nomber of Films\"])\n",
    "data_film"
   ]
  },
  {
   "cell_type": "code",
   "execution_count": null,
   "id": "692c929e",
   "metadata": {
    "papermill": {
     "duration": 0.034978,
     "end_time": "2024-03-08T17:01:45.212346",
     "exception": false,
     "start_time": "2024-03-08T17:01:45.177368",
     "status": "completed"
    },
    "tags": []
   },
   "outputs": [],
   "source": []
  }
 ],
 "metadata": {
  "kaggle": {
   "accelerator": "none",
   "dataSources": [
    {
     "datasetId": 1474,
     "sourceId": 2639,
     "sourceType": "datasetVersion"
    }
   ],
   "dockerImageVersionId": 30664,
   "isGpuEnabled": false,
   "isInternetEnabled": true,
   "language": "python",
   "sourceType": "notebook"
  },
  "kernelspec": {
   "display_name": "Python 3",
   "language": "python",
   "name": "python3"
  },
  "language_info": {
   "codemirror_mode": {
    "name": "ipython",
    "version": 3
   },
   "file_extension": ".py",
   "mimetype": "text/x-python",
   "name": "python",
   "nbconvert_exporter": "python",
   "pygments_lexer": "ipython3",
   "version": "3.10.13"
  },
  "papermill": {
   "default_parameters": {},
   "duration": 15.223755,
   "end_time": "2024-03-08T17:01:45.971317",
   "environment_variables": {},
   "exception": null,
   "input_path": "__notebook__.ipynb",
   "output_path": "__notebook__.ipynb",
   "parameters": {},
   "start_time": "2024-03-08T17:01:30.747562",
   "version": "2.5.0"
  }
 },
 "nbformat": 4,
 "nbformat_minor": 5
}
